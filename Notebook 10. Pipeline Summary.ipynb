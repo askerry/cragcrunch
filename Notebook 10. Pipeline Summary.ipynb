{
 "metadata": {
  "name": "",
  "signature": "sha256:1571f3d484140d0199159c2f191ead52cd7914f5623a10cfe486a3f11011c0a9"
 },
 "nbformat": 3,
 "nbformat_minor": 0,
 "worksheets": [
  {
   "cells": [
    {
     "cell_type": "code",
     "collapsed": false,
     "input": [],
     "language": "python",
     "metadata": {},
     "outputs": [],
     "prompt_number": 0
    },
    {
     "cell_type": "heading",
     "level": 1,
     "metadata": {},
     "source": [
      "Summary of CragCrun.ch analysis and modeling pipeline"
     ]
    },
    {
     "cell_type": "heading",
     "level": 3,
     "metadata": {},
     "source": [
      "1. Scraped MountainProject.com"
     ]
    },
    {
     "cell_type": "heading",
     "level": 3,
     "metadata": {},
     "source": [
      "2. Cleaned and preprocessed"
     ]
    },
    {
     "cell_type": "markdown",
     "metadata": {},
     "source": [
      "####Cleaning\n",
      "- blah\n",
      "- blah \n",
      "- blah\n",
      "\n",
      "####Text processing\n",
      "- used Rotten Tomatoes dataset to create a set of text reviews related and not related to climbing. \n",
      "- computed tf-idf for each review/text blob and averaged the tf-idf scores within climbing and non-climbing text\n",
      "- subtracted the non-climbing averages from the climbing tf-idf average and selected the 500 words that had the highest difference score as \"climbing-specific\" text features\n",
      "- for each climb, combined comments and descriptions into single text blob, and used CountVectorizer to compute the frequency of each text feature in the blob. \n",
      "- normalized this value by the length of the text to generate a single score (proportion of text that is the feature) for each text feature for each climb\n",
      "- dropped features that were extremely rare (avg score <.00005) or had very little variation across climbs (std of score <.0001) "
     ]
    },
    {
     "cell_type": "heading",
     "level": 3,
     "metadata": {},
     "source": [
      "3. Extracted Features"
     ]
    },
    {
     "cell_type": "markdown",
     "metadata": {},
     "source": [
      "- over all popularity\n",
      "- likes by other climbers\n",
      "- unstructured text and other climb attributes"
     ]
    },
    {
     "cell_type": "heading",
     "level": 3,
     "metadata": {},
     "source": [
      "4. Optimized features and parameters"
     ]
    },
    {
     "cell_type": "markdown",
     "metadata": {},
     "source": [
      "####performed feature selection\n",
      "    - for each user, took top N most important features on each iteration, and computed proportion of folds in which the feature was informative\n",
      "    - computed one-sample T test across users to generate a tvalue reflecting how reliably informative a feature is\n",
      "    - took top 100 features as final feature space\n",
      "    - from this set of 100, used domain-knowledge to prune to 20 features to serve as a reduced feature space to use with new users\n",
      "####optimized classification decisions\n",
      "    - compared random forest classifier to multiclass SVM and multinomial logistic\n",
      "    - selected k parameter"
     ]
    },
    {
     "cell_type": "heading",
     "level": 3,
     "metadata": {},
     "source": [
      "5. Trained and validated model"
     ]
    },
    {
     "cell_type": "heading",
     "level": 3,
     "metadata": {},
     "source": [
      "6. Created similarity space"
     ]
    },
    {
     "cell_type": "heading",
     "level": 3,
     "metadata": {},
     "source": [
      "7. Deployed model"
     ]
    },
    {
     "cell_type": "code",
     "collapsed": false,
     "input": [],
     "language": "python",
     "metadata": {},
     "outputs": [],
     "prompt_number": 1
    },
    {
     "cell_type": "code",
     "collapsed": false,
     "input": [],
     "language": "python",
     "metadata": {},
     "outputs": []
    }
   ],
   "metadata": {}
  }
 ]
}