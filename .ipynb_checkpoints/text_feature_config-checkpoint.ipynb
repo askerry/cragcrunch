{
 "cells": [
  {
   "cell_type": "code",
   "execution_count": null,
   "metadata": {
    "collapsed": true
   },
   "outputs": [],
   "source": [
    "import collections\n",
    "import json"
   ]
  },
  {
   "cell_type": "code",
   "execution_count": 79,
   "metadata": {
    "collapsed": false
   },
   "outputs": [],
   "source": [
    "#a priori terms to extract\n",
    "with open('cfg/apriori.json', 'r') as f:\n",
    "    term_dict=json.loads(f.read(), object_pairs_hook=collections.OrderedDict)\n",
    "#specific attributes to show/request from users\n",
    "with open('cfg/attributes.json', 'r') as f:\n",
    "    a_dict=json.loads(f.read(), object_pairs_hook=collections.OrderedDict)"
   ]
  },
  {
   "cell_type": "code",
   "execution_count": 80,
   "metadata": {
    "collapsed": false
   },
   "outputs": [
    {
     "data": {
      "text/plain": [
       "OrderedDict([(u'boulder', OrderedDict([(u'file', u'boulder.png'), (u'label', u'bouldery')])), (u'arete', OrderedDict([(u'file', u'arete.png'), (u'label', u'aretes')])), (u'exciting', OrderedDict([(u'file', u'exciting.png'), (u'label', u'exciting/spicy')])), (u'jug', OrderedDict([(u'file', u'jug.png'), (u'label', u'juggy')])), (u'vertical', OrderedDict([(u'file', u'vertical.png'), (u'label', u'vertical')])), (u'bulge', OrderedDict([(u'file', u'bulge.png'), (u'label', u'bulges')])), (u'deadpoint', OrderedDict([(u'file', u'deadpoint.png'), (u'label', u'deadpoints')])), (u'thug', OrderedDict([(u'file', u'thug.png'), (u'label', u'thuggy')])), (u'roof', OrderedDict([(u'file', u'roof.png'), (u'label', u'roofs')])), (u'hand', OrderedDict([(u'file', u'hand.png'), (u'label', u'hand cracks')])), (u'technical', OrderedDict([(u'file', u'technical.png'), (u'label', u'technical')])), (u'steep', OrderedDict([(u'file', u'steep.png'), (u'label', u'steep')])), (u'finger', OrderedDict([(u'file', u'finger.png'), (u'label', u'finger cracks')])), (u'crack', OrderedDict([(u'file', u'crack.png'), (u'label', u'cracks')])), (u'dyno', OrderedDict([(u'file', u'dyno.png'), (u'label', u'dynos')])), (u'crimp', OrderedDict([(u'file', u'crimp.png'), (u'label', u'crimps')])), (u'sloper', OrderedDict([(u'file', u'sloper.png'), (u'label', u'slopers')])), (u'slab', OrderedDict([(u'file', u'slab.png'), (u'label', u'slab')]))])"
      ]
     },
     "execution_count": 80,
     "metadata": {},
     "output_type": "execute_result"
    }
   ],
   "source": [
    "a_dict"
   ]
  },
  {
   "cell_type": "code",
   "execution_count": 81,
   "metadata": {
    "collapsed": false
   },
   "outputs": [
    {
     "data": {
      "text/plain": [
       "OrderedDict([(u'soft', [u'soft']), (u'traverse', [u'traverse']), (u'sandbag', [u'sandbag']), (u'gaston', [u'gaston']), (u'mental', [u'mental']), (u'beginner', [u'beginner']), (u'deck', [u'deck']), (u'patina', [u'patina']), (u'flaring', [u'flaring']), (u'easy', [u'easy']), (u'offwidth', [u'offwidth']), (u'pro', [u'pro']), (u'comfortable', [u'comfortable']), (u'spicy', [u'spicy']), (u'tenuous', [u'tenuous']), (u'thug', [u'thug']), (u'corner', [u'corner']), (u'slab', [u'slab']), (u'committing', [u'committing']), (u'sporty', [u'sporty']), (u'awkward', [u'awkward']), (u'nervous', [u'nervous']), (u'bat', [u'bat']), (u'sandstone', [u'sandstone']), (u'creative', [u'creative']), (u'fall', [u'fall']), (u'pump', [u'pump']), (u'schist', [u'schist']), (u'take', [u'take']), (u'ledge', [u'ledge']), (u'crack', [u'crack']), (u'gear', [u'gear']), (u'crimp', [u'crimp']), (u'sloper', [u'sloper']), (u'overhung', [u'overhung']), (u'quartzite', [u'quartzite']), (u'difficult', [u'difficult', u'hard']), (u'boulder', [u'boulder']), (u'arete', [u'arete']), (u'run', [u'run']), (u'jug', [u'jug']), (u'vertical', [u'vertical']), (u'deadpoint', [u'deadpoint']), (u'view', [u'view']), (u'layback', [u'layback']), (u'basalt', [u'basalt']), (u'hand', [u'hand']), (u'pocket', [u'pocket']), (u'undercling', [u'undercling']), (u'dyno', [u'dyno', u'throw']), (u'exciting', [u'exciting']), (u'sketch', [u'sketch']), (u'chimney', [u'chimney']), (u'diahedral', [u'diahedral']), (u'wide', [u'wide']), (u'protect', [u'protect']), (u'sidepull', [u'sidepull']), (u'conglomerate', [u'conglomerate']), (u'stiff', [u'stiff']), (u'bulge', [u'bulge']), (u'pinch', [u'pinch']), (u'heelhook', [u'heelhook']), (u'ramp', [u'ramp']), (u'limestone', [u'limestone']), (u'flake', [u'flake', u'flakes']), (u'gneiss', [u'gneiss']), (u'tech', [u'tech']), (u'thin', [u'thin']), (u'toehook', [u'toehook']), (u'swing', [u'swing']), (u'hung', [u'hung', u'hang']), (u'crux', [u'crux']), (u'granite', [u'granite']), (u'steep', [u'steep']), (u'rust', [u'rust']), (u'finger', [u'finger'])])"
      ]
     },
     "execution_count": 81,
     "metadata": {},
     "output_type": "execute_result"
    }
   ],
   "source": [
    "term_dict"
   ]
  },
  {
   "cell_type": "code",
   "execution_count": 78,
   "metadata": {
    "collapsed": false
   },
   "outputs": [],
   "source": [
    "with open('cfg/apriori.json', 'r') as f:\n",
    "    json.dumps(term_dict, f)\n",
    "with open('cfg/attributes.json', 'r') as f:\n",
    "    json.dumps(a_dict, f)"
   ]
  },
  {
   "cell_type": "code",
   "execution_count": null,
   "metadata": {
    "collapsed": true
   },
   "outputs": [],
   "source": []
  }
 ],
 "metadata": {
  "kernelspec": {
   "display_name": "Python 2",
   "language": "python",
   "name": "python2"
  },
  "language_info": {
   "codemirror_mode": {
    "name": "ipython",
    "version": 2
   },
   "file_extension": ".py",
   "mimetype": "text/x-python",
   "name": "python",
   "nbconvert_exporter": "python",
   "pygments_lexer": "ipython2",
   "version": "2.7.6"
  }
 },
 "nbformat": 4,
 "nbformat_minor": 0
}
