{
 "cells": [
  {
   "cell_type": "code",
   "execution_count": 1,
   "metadata": {
    "collapsed": false
   },
   "outputs": [
    {
     "name": "stdout",
     "output_type": "stream",
     "text": [
      "Populating the interactive namespace from numpy and matplotlib\n"
     ]
    }
   ],
   "source": [
    "pylab inline"
   ]
  },
  {
   "cell_type": "code",
   "execution_count": 59,
   "metadata": {
    "collapsed": true
   },
   "outputs": [],
   "source": [
    "%load_ext autoreload"
   ]
  },
  {
   "cell_type": "code",
   "execution_count": 60,
   "metadata": {
    "collapsed": true
   },
   "outputs": [],
   "source": [
    "%autoreload 2"
   ]
  },
  {
   "cell_type": "code",
   "execution_count": 730,
   "metadata": {
    "collapsed": true
   },
   "outputs": [],
   "source": [
    "import numpy as np\n",
    "import pandas as pd\n",
    "import matplotlib.pyplot as plt\n",
    "from sqlalchemy import create_engine\n",
    "import sys\n",
    "import urllib2\n",
    "from bs4 import BeautifulSoup"
   ]
  },
  {
   "cell_type": "code",
   "execution_count": 781,
   "metadata": {
    "collapsed": false
   },
   "outputs": [],
   "source": [
    "sys.path.append('../cfg')\n",
    "sys.path.append('../update')\n",
    "sys.path.append('../utilities')\n",
    "from utilities import retrieval\n",
    "from update import fetch\n",
    "from update import prep_updates\n",
    "from cfg.database_cfg import cfg, DBConnection"
   ]
  },
  {
   "cell_type": "code",
   "execution_count": 4,
   "metadata": {
    "collapsed": true
   },
   "outputs": [],
   "source": [
    "EDITING=False"
   ]
  },
  {
   "cell_type": "code",
   "execution_count": 768,
   "metadata": {
    "collapsed": true
   },
   "outputs": [],
   "source": [
    "con = create_engine('mysql://%s@%s/%s?charset=%s&use_unicode=%s&passwd=%s' % (cfg.user, cfg.host, cfg.dbname+'_prepped', cfg.charset, cfg.use_unicode, cfg.passwd), pool_recycle=3600)\n",
    "climbdf = pd.read_sql(\"SELECT * from climb_prepped\", con, index_col='index')\n",
    "areadf = pd.read_sql(\"SELECT * from area_prepped\", con, index_col='index')\n",
    "climberdf = pd.read_sql(\"SELECT * from climber_prepped\", con, index_col='index')\n",
    "tickdf = pd.read_sql(\"SELECT * from ticks_prepped\", con, index_col='index')\n",
    "commentdf = pd.read_sql(\"SELECT * from comments_prepped\", con, index_col='index')\n",
    "gradedf = pd.read_sql(\"SELECT * from grades_prepped\", con, index_col='index')\n",
    "stardf = pd.read_sql(\"SELECT * from stars_prepped\", con, index_col='index')\n",
    "hitsdf = pd.read_sql(\"SELECT * from hits_prepped\", con, index_col='index')\n"
   ]
  },
  {
   "cell_type": "code",
   "execution_count": 769,
   "metadata": {
    "collapsed": true
   },
   "outputs": [],
   "source": [
    "db=DBConnection(con.engine)\n",
    "from app.ormcfg import ClimbTable, AreaTable, ClimberTable, TicksTable, CommentsTable, StarsTable, GradesTable, ProfileTable, HitsTable"
   ]
  },
  {
   "cell_type": "code",
   "execution_count": 8,
   "metadata": {
    "collapsed": false
   },
   "outputs": [],
   "source": [
    "import json\n",
    "import collections\n",
    "with open('cfg/apriori.json') as f:\n",
    "    apriori=json.loads(f.read())\n",
    "with open('cfg/attributes.json') as f:\n",
    "    attributes=json.loads(f.read(), object_pairs_hook=collections.OrderedDict)\n",
    "    "
   ]
  },
  {
   "cell_type": "code",
   "execution_count": null,
   "metadata": {
    "collapsed": true
   },
   "outputs": [],
   "source": []
  },
  {
   "cell_type": "code",
   "execution_count": null,
   "metadata": {
    "collapsed": true
   },
   "outputs": [],
   "source": []
  },
  {
   "cell_type": "code",
   "execution_count": null,
   "metadata": {
    "collapsed": true
   },
   "outputs": [],
   "source": []
  },
  {
   "cell_type": "code",
   "execution_count": 337,
   "metadata": {
    "collapsed": false
   },
   "outputs": [],
   "source": [
    "if EDITING:\n",
    "    with open('cfg/apriori.json', 'wb') as f:\n",
    "        json.dump(apriori, f)\n",
    "    with open('cfg/attributes.json', 'wb') as f:\n",
    "        json.dump(attributes, f)"
   ]
  },
  {
   "cell_type": "code",
   "execution_count": 35,
   "metadata": {
    "collapsed": false
   },
   "outputs": [],
   "source": [
    "if EDITING:\n",
    "    chunksize=1000\n",
    "    areadf.to_sql('area_prepped', con, if_exists='replace', chunksize=chunksize)\n",
    "    climberdf.to_sql('climber_prepped', con,if_exists='replace', chunksize=chunksize)\n",
    "    tickdf.to_sql('ticks_prepped', con, if_exists='replace', chunksize=chunksize)\n",
    "    commentdf.to_sql('comments_prepped', con, if_exists='replace', chunksize=chunksize)\n",
    "    gradedf.to_sql('grades_prepped', con, if_exists='replace', chunksize=chunksize)\n",
    "    stardf.to_sql('stars_prepped', con, if_exists='replace', chunksize=chunksize)\n",
    "    hitsdf.to_sql('hits_prepped', con, if_exists='replace', chunksize=chunksize)\n",
    "    climbdf.to_sql('climb_prepped', con, if_exists='replace', chunksize=chunksize)"
   ]
  },
  {
   "cell_type": "code",
   "execution_count": null,
   "metadata": {
    "collapsed": true
   },
   "outputs": [],
   "source": []
  }
 ],
 "metadata": {
  "kernelspec": {
   "display_name": "Python 2",
   "language": "python",
   "name": "python2"
  },
  "language_info": {
   "codemirror_mode": {
    "name": "ipython",
    "version": 2
   },
   "file_extension": ".py",
   "mimetype": "text/x-python",
   "name": "python",
   "nbconvert_exporter": "python",
   "pygments_lexer": "ipython2",
   "version": "2.7.6"
  }
 },
 "nbformat": 4,
 "nbformat_minor": 0
}
