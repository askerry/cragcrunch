{
 "cells": [
  {
   "cell_type": "code",
   "execution_count": 1,
   "metadata": {
    "collapsed": false
   },
   "outputs": [
    {
     "name": "stdout",
     "output_type": "stream",
     "text": [
      "Populating the interactive namespace from numpy and matplotlib\n"
     ]
    }
   ],
   "source": [
    "pylab inline"
   ]
  },
  {
   "cell_type": "code",
   "execution_count": 59,
   "metadata": {
    "collapsed": true
   },
   "outputs": [],
   "source": [
    "%load_ext autoreload"
   ]
  },
  {
   "cell_type": "code",
   "execution_count": 60,
   "metadata": {
    "collapsed": true
   },
   "outputs": [],
   "source": [
    "%autoreload 2"
   ]
  },
  {
   "cell_type": "code",
   "execution_count": 93,
   "metadata": {
    "collapsed": true
   },
   "outputs": [],
   "source": [
    "import numpy as np\n",
    "import pandas as pd\n",
    "import matplotlib.pyplot as plt\n",
    "from sqlalchemy import create_engine\n",
    "import sys\n",
    "import urllib2\n",
    "from bs4 import BeautifulSoup"
   ]
  },
  {
   "cell_type": "code",
   "execution_count": 68,
   "metadata": {
    "collapsed": false
   },
   "outputs": [],
   "source": [
    "sys.path.append('../cfg')\n",
    "sys.path.append('../update')\n",
    "from update import fetch\n",
    "from update import prep_updates\n",
    "from cfg.database_cfg import cfg, DBConnection"
   ]
  },
  {
   "cell_type": "code",
   "execution_count": 4,
   "metadata": {
    "collapsed": true
   },
   "outputs": [],
   "source": [
    "EDITING=False"
   ]
  },
  {
   "cell_type": "code",
   "execution_count": 31,
   "metadata": {
    "collapsed": true
   },
   "outputs": [],
   "source": [
    "con = create_engine('mysql://%s@%s/%s?charset=%s&use_unicode=%s&passwd=%s' % (cfg.user, cfg.host, cfg.dbname+'_prepped', cfg.charset, cfg.use_unicode, cfg.passwd), pool_recycle=3600)\n",
    "climbdf = pd.read_sql(\"SELECT * from climb_prepped\", con, index_col='index')\n",
    "areadf = pd.read_sql(\"SELECT * from area_prepped\", con, index_col='index')\n",
    "climberdf = pd.read_sql(\"SELECT * from climber_prepped\", con, index_col='index')\n",
    "tickdf = pd.read_sql(\"SELECT * from ticks_prepped\", con, index_col='index')\n",
    "commentdf = pd.read_sql(\"SELECT * from comments_prepped\", con, index_col='index')\n",
    "gradedf = pd.read_sql(\"SELECT * from grades_prepped\", con, index_col='index')\n",
    "stardf = pd.read_sql(\"SELECT * from stars_prepped\", con, index_col='index')\n",
    "hitsdf = pd.read_sql(\"SELECT * from hits_prepped\", con, index_col='index')\n"
   ]
  },
  {
   "cell_type": "code",
   "execution_count": 73,
   "metadata": {
    "collapsed": true
   },
   "outputs": [],
   "source": [
    "db=DBConnection(con.engine)\n",
    "from app.ormcfg import ClimbTable, AreaTable, ClimberTable, TicksTable, CommentsTable, StarsTable, GradesTable, ProfileTable, HitsTable"
   ]
  },
  {
   "cell_type": "code",
   "execution_count": 8,
   "metadata": {
    "collapsed": false
   },
   "outputs": [],
   "source": [
    "import json\n",
    "import collections\n",
    "with open('cfg/apriori.json') as f:\n",
    "    apriori=json.loads(f.read())\n",
    "with open('cfg/attributes.json') as f:\n",
    "    attributes=json.loads(f.read(), object_pairs_hook=collections.OrderedDict)\n",
    "    "
   ]
  },
  {
   "cell_type": "code",
   "execution_count": 274,
   "metadata": {
    "collapsed": false
   },
   "outputs": [
    {
     "data": {
      "text/plain": [
       "<sqlalchemy.orm.query.Query at 0x141517fd0>"
      ]
     },
     "execution_count": 274,
     "metadata": {},
     "output_type": "execute_result"
    }
   ],
   "source": [
    "db.session.query(AreaTable).filter_by(name='Leda')"
   ]
  },
  {
   "cell_type": "code",
   "execution_count": 99,
   "metadata": {
    "collapsed": false
   },
   "outputs": [],
   "source": [
    "url='http://www.mountainproject.com/v/jodys-route-aka-the-chris-route/105891570'\n",
    "r=urllib2.urlopen(url)\n",
    "html = r.read()\n",
    "soup = BeautifulSoup(html)"
   ]
  },
  {
   "cell_type": "code",
   "execution_count": 261,
   "metadata": {
    "collapsed": true
   },
   "outputs": [],
   "source": [
    "cd=parse_climb(16582.0, soup, 0)"
   ]
  },
  {
   "cell_type": "code",
   "execution_count": 161,
   "metadata": {
    "collapsed": false
   },
   "outputs": [],
   "source": [
    "def under_heading(tag, heading):\n",
    "    return tag.has_attr('class') and tag['class'][0]=='dkorange' and tag.get_text()[:-1]==heading"
   ]
  },
  {
   "cell_type": "code",
   "execution_count": 272,
   "metadata": {
    "collapsed": false
   },
   "outputs": [
    {
     "data": {
      "text/plain": [
       "u'Tennessee'"
      ]
     },
     "execution_count": 272,
     "metadata": {},
     "output_type": "execute_result"
    }
   ],
   "source": [
    "soup.find_all('div', itemtype='http://data-vocabulary.org/Breadcrumb')[0].find('span').get_text()"
   ]
  },
  {
   "cell_type": "code",
   "execution_count": 266,
   "metadata": {
    "collapsed": false
   },
   "outputs": [
    {
     "data": {
      "text/plain": [
       "<div itemscope=\"\" itemtype=\"http://data-vocabulary.org/Breadcrumb\" style=\"display:inline\"><a href=\"/v/leda/105888074\" itemprop=\"url\"><span itemprop=\"title\">Leda</span></a></div>"
      ]
     },
     "execution_count": 266,
     "metadata": {},
     "output_type": "execute_result"
    }
   ],
   "source": [
    "a1=soup.find_all('div', itemtype='http://data-vocabulary.org/Breadcrumb')[-2]\n",
    "a2=soup.find_all('div', itemtype='http://data-vocabulary.org/Breadcrumb')[-1]"
   ]
  },
  {
   "cell_type": "code",
   "execution_count": 258,
   "metadata": {
    "collapsed": false
   },
   "outputs": [],
   "source": [
    "def parse_climb(climbid, soup, std):\n",
    "    cd={}\n",
    "    cd['name']=soup.find('title').get_text()\n",
    "    areaname=soup.find_all('div', itemtype='http://data-vocabulary.org/Breadcrumb')[-1].find('span').get_text()\n",
    "    region=soup.find_all('div', itemtype='http://data-vocabulary.org/Breadcrumb')[0].find('span').get_text()\n",
    "    retrieval.find_area(areaname, region)\n",
    "    cd['area']=retrieval.find_area(areaname, region)\n",
    "    cd['description']=soup.find(lambda x:under_heading(x, 'Description')).next_sibling.get_text()\n",
    "    cd['locationdescrip']=soup.find(lambda x:under_heading(x, 'Location')).next_sibling.get_text()\n",
    "    cd['protection']=soup.find(lambda x:under_heading(x, 'Protection')).next_sibling.get_text()\n",
    "    summary_block=soup.find('span', id='starSummaryText').next_sibling.next_sibling\n",
    "    cd['grade']=soup.find(lambda x: 'href' in x.attrs.keys() and x.get_text()=='YDS:').next_sibling[1:]\n",
    "    cd['fa']=summary_block.find_all('tr')[2].find(lambda x:x.get_text()[:3]=='FA:').next_sibling.get_text()\n",
    "    string=summary_block.find('td').next_sibling.next_sibling.get_text()\n",
    "    cd['style'],cd['pitch'],cd['length']=string.split(',')\n",
    "    cd['url']=soup.find('link', rel=\"canonical\").attrs['href']\n",
    "    cd['pageviews']=summary_block.find_all('tr')[3].find(lambda x:x.get_text()[:10]=='Page Views').next_sibling.get_text()\n",
    "    cd['submittedby']=summary_block.find_all('tr')[4].find('a').get_text()\n",
    "    stars=soup.find('span', id='starSummaryText')\n",
    "    cd['avgstars']=stars.find('meta', itemprop=\"average\")['content']\n",
    "    cd['starcounts']=int(stars.find('meta', itemprop=\"votes\")['content'])\n",
    "    cd['starstd']=std\n",
    "    return cd"
   ]
  },
  {
   "cell_type": "code",
   "execution_count": 260,
   "metadata": {
    "collapsed": false
   },
   "outputs": [
    {
     "name": "stdout",
     "output_type": "stream",
     "text": [
      "['/u/saxfiend//105886712', '/u/426//105845475', '/u/jdmatt//106560819', '/u/jeremy-hand//107486301', '/u/cmwillis//108787682']\n",
      "16582.0\n"
     ]
    },
    {
     "ename": "NameError",
     "evalue": "global name 'climb' is not defined",
     "output_type": "error",
     "traceback": [
      "\u001b[0;31m---------------------------------------------------------------------------\u001b[0m",
      "\u001b[0;31mNameError\u001b[0m                                 Traceback (most recent call last)",
      "\u001b[0;32m<ipython-input-260-b80a3b8c6eea>\u001b[0m in \u001b[0;36m<module>\u001b[0;34m()\u001b[0m\n\u001b[0;32m----> 1\u001b[0;31m \u001b[0mfetch\u001b[0m\u001b[0;34m.\u001b[0m\u001b[0mrefresh_url\u001b[0m\u001b[0;34m(\u001b[0m\u001b[0murl\u001b[0m\u001b[0;34m,\u001b[0m \u001b[0mkind\u001b[0m\u001b[0;34m=\u001b[0m\u001b[0;34m'climb'\u001b[0m\u001b[0;34m,\u001b[0m \u001b[0mfollow\u001b[0m\u001b[0;34m=\u001b[0m\u001b[0mFalse\u001b[0m\u001b[0;34m)\u001b[0m\u001b[0;34m\u001b[0m\u001b[0m\n\u001b[0m",
      "\u001b[0;32m/Users/amyskerry/Documents/Projects/cragcrunch/update/fetch.py\u001b[0m in \u001b[0;36mrefresh_url\u001b[0;34m(url, kind, follow, id_num)\u001b[0m\n\u001b[1;32m     21\u001b[0m         \u001b[0mid_num\u001b[0m\u001b[0;34m=\u001b[0m\u001b[0mretrieval\u001b[0m\u001b[0;34m.\u001b[0m\u001b[0mget_id\u001b[0m\u001b[0;34m(\u001b[0m\u001b[0murl\u001b[0m\u001b[0;34m,\u001b[0m \u001b[0mkind\u001b[0m\u001b[0;34m)\u001b[0m\u001b[0;34m\u001b[0m\u001b[0m\n\u001b[1;32m     22\u001b[0m     \u001b[0;32mif\u001b[0m \u001b[0mkind\u001b[0m\u001b[0;34m==\u001b[0m\u001b[0;34m'climb'\u001b[0m\u001b[0;34m:\u001b[0m\u001b[0;34m\u001b[0m\u001b[0m\n\u001b[0;32m---> 23\u001b[0;31m         \u001b[0mobj\u001b[0m\u001b[0;34m=\u001b[0m\u001b[0mupdate_climb\u001b[0m\u001b[0;34m(\u001b[0m\u001b[0mid_num\u001b[0m\u001b[0;34m,\u001b[0m \u001b[0murl\u001b[0m\u001b[0;34m,\u001b[0m \u001b[0mhtml\u001b[0m\u001b[0;34m,\u001b[0m \u001b[0mfollow\u001b[0m\u001b[0;34m)\u001b[0m\u001b[0;34m\u001b[0m\u001b[0m\n\u001b[0m\u001b[1;32m     24\u001b[0m     \u001b[0;32melif\u001b[0m \u001b[0mkind\u001b[0m\u001b[0;34m==\u001b[0m\u001b[0;34m'climber'\u001b[0m\u001b[0;34m:\u001b[0m\u001b[0;34m\u001b[0m\u001b[0m\n\u001b[1;32m     25\u001b[0m         \u001b[0mobj\u001b[0m\u001b[0;34m=\u001b[0m\u001b[0mupdate_climber\u001b[0m\u001b[0;34m(\u001b[0m\u001b[0mid_num\u001b[0m\u001b[0;34m,\u001b[0m \u001b[0murl\u001b[0m\u001b[0;34m,\u001b[0m \u001b[0mhtml\u001b[0m\u001b[0;34m,\u001b[0m \u001b[0mfollow\u001b[0m\u001b[0;34m)\u001b[0m\u001b[0;34m\u001b[0m\u001b[0m\n",
      "\u001b[0;32m/Users/amyskerry/Documents/Projects/cragcrunch/update/fetch.py\u001b[0m in \u001b[0;36mupdate_climb\u001b[0;34m(id_num, url, html, follow)\u001b[0m\n\u001b[1;32m     35\u001b[0m     \u001b[0;31m#for commenter in commenter_urls:\u001b[0m\u001b[0;34m\u001b[0m\u001b[0;34m\u001b[0m\u001b[0m\n\u001b[1;32m     36\u001b[0m     \u001b[0;31m#    refresh_url(rooturl_commenter, kind='climber')\u001b[0m\u001b[0;34m\u001b[0m\u001b[0;34m\u001b[0m\u001b[0m\n\u001b[0;32m---> 37\u001b[0;31m     \u001b[0;32mreturn\u001b[0m \u001b[0mparse_climb\u001b[0m\u001b[0;34m(\u001b[0m\u001b[0mid_num\u001b[0m\u001b[0;34m,\u001b[0m \u001b[0msoup\u001b[0m\u001b[0;34m,\u001b[0m \u001b[0mstd\u001b[0m\u001b[0;34m)\u001b[0m\u001b[0;34m\u001b[0m\u001b[0m\n\u001b[0m\u001b[1;32m     38\u001b[0m \u001b[0;34m\u001b[0m\u001b[0m\n\u001b[1;32m     39\u001b[0m \u001b[0;32mdef\u001b[0m \u001b[0mupdate_climber\u001b[0m\u001b[0;34m(\u001b[0m\u001b[0mid_num\u001b[0m\u001b[0;34m,\u001b[0m \u001b[0murl\u001b[0m\u001b[0;34m,\u001b[0m \u001b[0mhtml\u001b[0m\u001b[0;34m,\u001b[0m \u001b[0mfollow\u001b[0m\u001b[0;34m)\u001b[0m\u001b[0;34m:\u001b[0m\u001b[0;34m\u001b[0m\u001b[0m\n",
      "\u001b[0;32m/Users/amyskerry/Documents/Projects/cragcrunch/update/fetch.py\u001b[0m in \u001b[0;36mparse_climb\u001b[0;34m(climbid, soup, std)\u001b[0m\n\u001b[1;32m     60\u001b[0m \u001b[0;32mdef\u001b[0m \u001b[0mparse_climb\u001b[0m\u001b[0;34m(\u001b[0m\u001b[0mclimbid\u001b[0m\u001b[0;34m,\u001b[0m \u001b[0msoup\u001b[0m\u001b[0;34m,\u001b[0m \u001b[0mstd\u001b[0m\u001b[0;34m)\u001b[0m\u001b[0;34m:\u001b[0m\u001b[0;34m\u001b[0m\u001b[0m\n\u001b[1;32m     61\u001b[0m     \u001b[0;32mprint\u001b[0m \u001b[0mclimbid\u001b[0m\u001b[0;34m\u001b[0m\u001b[0m\n\u001b[0;32m---> 62\u001b[0;31m     \u001b[0;32mreturn\u001b[0m \u001b[0mclimb\u001b[0m\u001b[0;34m\u001b[0m\u001b[0m\n\u001b[0m\u001b[1;32m     63\u001b[0m \u001b[0;34m\u001b[0m\u001b[0m\n\u001b[1;32m     64\u001b[0m \u001b[0;32mdef\u001b[0m \u001b[0mparse_area\u001b[0m\u001b[0;34m(\u001b[0m\u001b[0mareaid\u001b[0m\u001b[0;34m,\u001b[0m \u001b[0msoup\u001b[0m\u001b[0;34m)\u001b[0m\u001b[0;34m:\u001b[0m\u001b[0;34m\u001b[0m\u001b[0m\n",
      "\u001b[0;31mNameError\u001b[0m: global name 'climb' is not defined"
     ]
    }
   ],
   "source": [
    "fetch.refresh_url(url, kind='climb', follow=False)"
   ]
  },
  {
   "cell_type": "code",
   "execution_count": 337,
   "metadata": {
    "collapsed": false
   },
   "outputs": [],
   "source": [
    "if EDITING:\n",
    "    with open('cfg/apriori.json', 'wb') as f:\n",
    "        json.dump(apriori, f)\n",
    "    with open('cfg/attributes.json', 'wb') as f:\n",
    "        json.dump(attributes, f)"
   ]
  },
  {
   "cell_type": "code",
   "execution_count": 35,
   "metadata": {
    "collapsed": false
   },
   "outputs": [],
   "source": [
    "if EDITING:\n",
    "    chunksize=1000\n",
    "    areadf.to_sql('area_prepped', con, if_exists='replace', chunksize=chunksize)\n",
    "    climberdf.to_sql('climber_prepped', con,if_exists='replace', chunksize=chunksize)\n",
    "    tickdf.to_sql('ticks_prepped', con, if_exists='replace', chunksize=chunksize)\n",
    "    commentdf.to_sql('comments_prepped', con, if_exists='replace', chunksize=chunksize)\n",
    "    gradedf.to_sql('grades_prepped', con, if_exists='replace', chunksize=chunksize)\n",
    "    stardf.to_sql('stars_prepped', con, if_exists='replace', chunksize=chunksize)\n",
    "    hitsdf.to_sql('hits_prepped', con, if_exists='replace', chunksize=chunksize)\n",
    "    climbdf.to_sql('climb_prepped', con, if_exists='replace', chunksize=chunksize)"
   ]
  },
  {
   "cell_type": "code",
   "execution_count": 43,
   "metadata": {
    "collapsed": true
   },
   "outputs": [],
   "source": [
    "climberdf.to_sql('climber_prepped', con,if_exists='replace', chunksize=chunksize)"
   ]
  },
  {
   "cell_type": "code",
   "execution_count": null,
   "metadata": {
    "collapsed": true
   },
   "outputs": [],
   "source": []
  }
 ],
 "metadata": {
  "kernelspec": {
   "display_name": "Python 2",
   "language": "python",
   "name": "python2"
  },
  "language_info": {
   "codemirror_mode": {
    "name": "ipython",
    "version": 2
   },
   "file_extension": ".py",
   "mimetype": "text/x-python",
   "name": "python",
   "nbconvert_exporter": "python",
   "pygments_lexer": "ipython2",
   "version": "2.7.6"
  }
 },
 "nbformat": 4,
 "nbformat_minor": 0
}
