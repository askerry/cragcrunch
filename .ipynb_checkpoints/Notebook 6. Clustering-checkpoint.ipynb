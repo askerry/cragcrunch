{
 "metadata": {
  "name": "",
  "signature": "sha256:010bd7e3727212574ae6bf51457c2a8d44843bab9ac700660c6b8710c2059348"
 },
 "nbformat": 3,
 "nbformat_minor": 0,
 "worksheets": [
  {
   "cells": [
    {
     "cell_type": "code",
     "collapsed": false,
     "input": [
      "pylab inline"
     ],
     "language": "python",
     "metadata": {},
     "outputs": [
      {
       "output_type": "stream",
       "stream": "stdout",
       "text": [
        "Populating the interactive namespace from numpy and matplotlib\n"
       ]
      }
     ],
     "prompt_number": 1
    },
    {
     "cell_type": "code",
     "collapsed": false,
     "input": [
      "%load_ext autoreload"
     ],
     "language": "python",
     "metadata": {},
     "outputs": [],
     "prompt_number": 2
    },
    {
     "cell_type": "code",
     "collapsed": false,
     "input": [
      "import pandas as pd\n",
      "pd.options.mode.chained_assignment = 'warn'  # default='warn', None, 'raise'\n",
      "#pd.options.display.memory_usage = True\n",
      "import numpy as np\n",
      "np.random.RandomState(100)\n",
      "from sqlalchemy import create_engine\n",
      "import os\n",
      "import sys\n",
      "sys.setrecursionlimit(3000)\n",
      "from joblib import Parallel, delayed  \n",
      "import multiprocessing\n",
      "num_cores = multiprocessing.cpu_count()\n",
      "print \"%s cores available for parallel processing\" % num_cores\n",
      "sys.path.append('mpscraper')\n",
      "sys.path.append('antools')\n",
      "import antools.modeling as mo\n",
      "from mpscraper.cfgdb import cfg\n",
      "import seaborn as sns\n",
      "sns.set_style('white')\n",
      "import matplotlib.pyplot as plt\n",
      "from sklearn.metrics.pairwise import pairwise_distances"
     ],
     "language": "python",
     "metadata": {},
     "outputs": [
      {
       "output_type": "stream",
       "stream": "stdout",
       "text": [
        "4 cores available for parallel processing\n"
       ]
      }
     ],
     "prompt_number": 3
    },
    {
     "cell_type": "code",
     "collapsed": false,
     "input": [
      "import sys, os\n",
      "rootdir=os.getcwd()\n",
      "while 'Projects' in rootdir:\n",
      "    rootdir=os.path.dirname(rootdir)\n",
      "projdir=os.path.join(rootdir, 'Projects','cragcrunch','data')"
     ],
     "language": "python",
     "metadata": {},
     "outputs": [],
     "prompt_number": 4
    },
    {
     "cell_type": "code",
     "collapsed": false,
     "input": [
      "#load in preprocessed data\n",
      "engine = create_engine('mysql://%s@%s/%s?charset=%s&use_unicode=%s&passwd=%s' %(cfg.user, cfg.host, cfg.dbname, cfg.charset, cfg.use_unicode, cfg.passwd), pool_recycle=3600)\n",
      "cdf = pd.read_sql(\"SELECT * from climb_prepped where region = 'New Hampshire'\", engine, index_col='index')\n",
      "adf = pd.read_sql(\"SELECT * from area_prepped where region = 'New Hampshire'\", engine, index_col='index')\n",
      "climbs=list(cdf.climbid.unique())\n",
      "udf = pd.read_sql(\"SELECT * from climber_prepped\", engine, index_col='index')\n",
      "hdf= pd.read_sql(\"SELECT * from hits_prepped\", engine, index_col='index')\n",
      "sdf= pd.read_sql(\"SELECT * from stars_prepped\", engine, index_col='index')\n",
      "\n",
      "hdf=hdf.loc[hdf['climb'].isin(climbs)]\n",
      "allclimbs=hdf.climb.unique()\n",
      "allclimbers=hdf.climber.unique()"
     ],
     "language": "python",
     "metadata": {},
     "outputs": [],
     "prompt_number": 5
    },
    {
     "cell_type": "code",
     "collapsed": false,
     "input": [
      "minthresh=10\n",
      "\n",
      "groups=sdf[sdf['climb'].isin(climbs)].groupby('climber').groups\n",
      "climbids=[c for c in climbs if c in sdf['climb'].unique()]\n",
      "users=groups.keys()\n",
      "users=[u for u in users if sdf[sdf['climber']==u].count().starid>minthresh]\n",
      "mat=np.array([len(climbids),len(users)])\n",
      "for user in users:\n",
      "    for c in groups[user]:\n",
      "        star=sdf[(sdf['climber']==int(user)) & (sdf['climb']==c)]['starsscore']\n",
      "        mat[climbids.index(c),users.index(user)]=star"
     ],
     "language": "python",
     "metadata": {},
     "outputs": [
      {
       "output_type": "stream",
       "stream": "stdout",
       "text": [
        "Series([], name: starsscore, dtype: float64)\n"
       ]
      },
      {
       "ename": "ValueError",
       "evalue": "25490 is not in list",
       "output_type": "pyerr",
       "traceback": [
        "\u001b[0;31m---------------------------------------------------------------------------\u001b[0m\n\u001b[0;31mValueError\u001b[0m                                Traceback (most recent call last)",
        "\u001b[0;32m<ipython-input-19-46f65985b3aa>\u001b[0m in \u001b[0;36m<module>\u001b[0;34m()\u001b[0m\n\u001b[1;32m     10\u001b[0m         \u001b[0mstar\u001b[0m\u001b[0;34m=\u001b[0m\u001b[0msdf\u001b[0m\u001b[0;34m[\u001b[0m\u001b[0;34m(\u001b[0m\u001b[0msdf\u001b[0m\u001b[0;34m[\u001b[0m\u001b[0;34m'climber'\u001b[0m\u001b[0;34m]\u001b[0m\u001b[0;34m==\u001b[0m\u001b[0mint\u001b[0m\u001b[0;34m(\u001b[0m\u001b[0muser\u001b[0m\u001b[0;34m)\u001b[0m\u001b[0;34m)\u001b[0m \u001b[0;34m&\u001b[0m \u001b[0;34m(\u001b[0m\u001b[0msdf\u001b[0m\u001b[0;34m[\u001b[0m\u001b[0;34m'climb'\u001b[0m\u001b[0;34m]\u001b[0m\u001b[0;34m==\u001b[0m\u001b[0mc\u001b[0m\u001b[0;34m)\u001b[0m\u001b[0;34m]\u001b[0m\u001b[0;34m[\u001b[0m\u001b[0;34m'starsscore'\u001b[0m\u001b[0;34m]\u001b[0m\u001b[0;34m\u001b[0m\u001b[0m\n\u001b[1;32m     11\u001b[0m         \u001b[0;32mprint\u001b[0m \u001b[0mstar\u001b[0m\u001b[0;34m\u001b[0m\u001b[0m\n\u001b[0;32m---> 12\u001b[0;31m         \u001b[0mmat\u001b[0m\u001b[0;34m[\u001b[0m\u001b[0mclimbids\u001b[0m\u001b[0;34m.\u001b[0m\u001b[0mindex\u001b[0m\u001b[0;34m(\u001b[0m\u001b[0mc\u001b[0m\u001b[0;34m)\u001b[0m\u001b[0;34m,\u001b[0m\u001b[0musers\u001b[0m\u001b[0;34m.\u001b[0m\u001b[0mindex\u001b[0m\u001b[0;34m(\u001b[0m\u001b[0muser\u001b[0m\u001b[0;34m)\u001b[0m\u001b[0;34m]\u001b[0m\u001b[0;34m=\u001b[0m\u001b[0mstar\u001b[0m\u001b[0;34m\u001b[0m\u001b[0m\n\u001b[0m",
        "\u001b[0;31mValueError\u001b[0m: 25490 is not in list"
       ]
      }
     ],
     "prompt_number": 19
    },
    {
     "cell_type": "code",
     "collapsed": false,
     "input": [
      "sdf[sdf['climber']==u].count().starid"
     ],
     "language": "python",
     "metadata": {},
     "outputs": [
      {
       "metadata": {},
       "output_type": "pyout",
       "prompt_number": 17,
       "text": [
        "228"
       ]
      }
     ],
     "prompt_number": 17
    },
    {
     "cell_type": "code",
     "collapsed": false,
     "input": [],
     "language": "python",
     "metadata": {},
     "outputs": []
    }
   ],
   "metadata": {}
  }
 ]
}