{
 "metadata": {
  "name": "",
  "signature": "sha256:a8c12b6a5615adeba45564254290f4b664559acbc90378cf0534c41567d0f988"
 },
 "nbformat": 3,
 "nbformat_minor": 0,
 "worksheets": [
  {
   "cells": [
    {
     "cell_type": "code",
     "collapsed": false,
     "input": [
      "pylab inline"
     ],
     "language": "python",
     "metadata": {},
     "outputs": [
      {
       "output_type": "stream",
       "stream": "stdout",
       "text": [
        "Populating the interactive namespace from numpy and matplotlib\n"
       ]
      }
     ],
     "prompt_number": 1
    },
    {
     "cell_type": "code",
     "collapsed": false,
     "input": [
      "%load_ext autoreload"
     ],
     "language": "python",
     "metadata": {},
     "outputs": [],
     "prompt_number": 2
    },
    {
     "cell_type": "heading",
     "level": 3,
     "metadata": {},
     "source": [
      "Setup"
     ]
    },
    {
     "cell_type": "code",
     "collapsed": false,
     "input": [
      "import pandas as pd\n",
      "import numpy as np\n",
      "np.random.RandomState(100)\n",
      "from sqlalchemy import create_engine\n",
      "import os\n",
      "import sys\n",
      "import scipy.stats\n",
      "\n",
      "from joblib import Parallel, delayed  \n",
      "import multiprocessing\n",
      "num_cores = multiprocessing.cpu_count()\n",
      "print \"%s cores available for parallel processing\" % num_cores\n",
      "\n",
      "sys.path.append('mpscraper')\n",
      "from mpscraper.cfgdb import cfg\n",
      "sys.path.append('antools')\n",
      "import antools.randomstuff as rd\n",
      "import antools.reduction as red\n",
      "import antools.utilities as uf\n",
      "import antools.visualization as viz\n",
      "import antools.modeling as mo\n",
      "\n",
      "import pandas as pd\n",
      "import numpy as np\n",
      "import seaborn as sns\n",
      "sns.set_style('white')\n",
      "import matplotlib.pyplot as plt\n",
      "import scipy.stats\n",
      "\n",
      "from sklearn.metrics.pairwise import pairwise_distances\n",
      "import sklearn.cross_validation\n",
      "from sklearn.ensemble import RandomForestRegressor \n",
      "from sklearn.ensemble import RandomForestClassifier \n",
      "from sklearn.linear_model import LinearRegression\n",
      "from sklearn.svm import SVC\n",
      "from sklearn.linear_model import Ridge\n",
      "from sklearn.metrics import f1_score"
     ],
     "language": "python",
     "metadata": {},
     "outputs": [
      {
       "output_type": "stream",
       "stream": "stdout",
       "text": [
        "4 cores available for parallel processing\n"
       ]
      }
     ],
     "prompt_number": 3
    },
    {
     "cell_type": "code",
     "collapsed": false,
     "input": [
      "import sys, os\n",
      "rootdir=os.getcwd()\n",
      "while 'Projects' in rootdir:\n",
      "    rootdir=os.path.dirname(rootdir)\n",
      "projdir=os.path.join(rootdir, 'Projects','cragcrunch','data')"
     ],
     "language": "python",
     "metadata": {},
     "outputs": [],
     "prompt_number": 4
    },
    {
     "cell_type": "heading",
     "level": 3,
     "metadata": {},
     "source": [
      "Load in preprocessed data"
     ]
    },
    {
     "cell_type": "code",
     "collapsed": false,
     "input": [
      "engine = create_engine('mysql://%s@%s/%s?charset=%s&use_unicode=%s&passwd=%s' %(cfg.user, cfg.host, cfg.dbname, cfg.charset, cfg.use_unicode, cfg.passwd), pool_recycle=3600)\n",
      "cdf = pd.read_sql(\"SELECT * from climb_prepped where region = 'New Hampshire'\", engine, index_col='index')\n",
      "adf = pd.read_sql(\"SELECT * from area_prepped where region = 'New Hampshire'\", engine, index_col='index')\n",
      "climbs=list(cdf.climbid.unique())\n",
      "print \"loading %s climbs\" %(len(climbs))\n",
      "cldf = pd.read_sql(\"SELECT * from climber_prepped\", engine, index_col='index')\n",
      "hdf= pd.read_sql(\"SELECT * from hits_prepped\", engine, index_col='index')\n",
      "sdf= pd.read_sql(\"SELECT * from stars_prepped\", engine, index_col='index')\n",
      "gdf= pd.read_sql(\"SELECT * from grades_prepped\", engine, index_col='index')\n",
      "codf= pd.read_sql(\"SELECT * from comments_prepped\", engine, index_col='index')\n",
      "tdf= pd.read_sql(\"SELECT * from ticks_prepped\", engine, index_col='index')"
     ],
     "language": "python",
     "metadata": {},
     "outputs": [
      {
       "output_type": "stream",
       "stream": "stdout",
       "text": [
        "loading 1303 climbs\n"
       ]
      }
     ],
     "prompt_number": 44
    },
    {
     "cell_type": "code",
     "collapsed": false,
     "input": [
      "like_mat= pd.read_sql(\"SELECT * from like_matrix\", engine, index_col='index')\n",
      "star_mat= pd.read_sql(\"SELECT * from star_matrix\", engine, index_col='index')"
     ],
     "language": "python",
     "metadata": {},
     "outputs": [],
     "prompt_number": 45
    },
    {
     "cell_type": "code",
     "collapsed": false,
     "input": [
      "minratings=5\n",
      "users=sdf[sdf['climb'].isin(climbs)]['climber'].unique().astype(int)\n",
      "users=[u for u in users if u in cldf.climberid.values]\n",
      "print \"starting with %s users\" %len(users)\n",
      "users=[u for u in users if len(sdf[sdf['climber']==u]['climb'].values)>=minratings]\n",
      "usesdf=sdf[sdf['climber'].isin(users)]\n",
      "usesdf['other_rounded']=[np.round(val) for val in usesdf['other_avg']]\n",
      "usesdf=usesdf[(usesdf['starsscore']>0) & (usesdf['other_rounded']>0)]\n",
      "usesdf['climbid']=usesdf['climb']\n",
      "cdf=cdf[cdf['climbid'].isin(usesdf['climb'].unique())]\n",
      "print \"reducing to %s users who have greater than or equal to %s ratings provided\" %(len(users), minratings)"
     ],
     "language": "python",
     "metadata": {},
     "outputs": [
      {
       "output_type": "stream",
       "stream": "stdout",
       "text": [
        "starting with 27 users\n",
        "reducing to 20 users who have greater than or equal to 5 ratings provided"
       ]
      },
      {
       "output_type": "stream",
       "stream": "stdout",
       "text": [
        "\n"
       ]
      }
     ],
     "prompt_number": 46
    },
    {
     "cell_type": "code",
     "collapsed": false,
     "input": [
      "cdf['crimp_description'].hist(bins=100)"
     ],
     "language": "python",
     "metadata": {},
     "outputs": [
      {
       "metadata": {},
       "output_type": "pyout",
       "prompt_number": 47,
       "text": [
        "<matplotlib.axes._subplots.AxesSubplot at 0x11933b990>"
       ]
      },
      {
       "metadata": {},
       "output_type": "display_data",
       "png": "[encoded data removed]",
       "text": [
        "<matplotlib.figure.Figure at 0x1138f9e10>"
       ]
      }
     ],
     "prompt_number": 47
    },
    {
     "cell_type": "heading",
     "level": 3,
     "metadata": {},
     "source": [
      "Prep text features"
     ]
    },
    {
     "cell_type": "code",
     "collapsed": false,
     "input": [
      "%autoreload\n",
      "allterms, alltermsdict, descripfeats, commentfeats, ndf=uf.gettextfeats(cdf)"
     ],
     "language": "python",
     "metadata": {},
     "outputs": [],
     "prompt_number": 62
    },
    {
     "cell_type": "heading",
     "level": 3,
     "metadata": {},
     "source": [
      "Quick visualization of the data"
     ]
    },
    {
     "cell_type": "code",
     "collapsed": false,
     "input": [
      "#how are stars dstributed()\n",
      "f,ax=plt.subplots(figsize=[4,3])\n",
      "usesdf.groupby('starsscore').count().climb.plot(kind='bar', grid=False,ax=ax)\n",
      "ax.set_ylabel('counts')\n",
      "sns.despine()"
     ],
     "language": "python",
     "metadata": {},
     "outputs": [
      {
       "metadata": {},
       "output_type": "display_data",
       "png": "[encoded data removed]",
       "text": [
        "<matplotlib.figure.Figure at 0x11808d810>"
       ]
      }
     ],
     "prompt_number": 64
    },
    {
     "cell_type": "code",
     "collapsed": false,
     "input": [
      "#how many climbs per climber?\n",
      "f,ax=plt.subplots(figsize=[4,3])\n",
      "usesdf.groupby('climber').count().climb.hist(bins=20, grid=False,ax=ax)\n",
      "ax.set_ylabel('frequency')\n",
      "sns.despine()"
     ],
     "language": "python",
     "metadata": {},
     "outputs": [
      {
       "metadata": {},
       "output_type": "display_data",
       "png": "[encoded data removed]",
       "text": [
        "<matplotlib.figure.Figure at 0x1186345d0>"
       ]
      }
     ],
     "prompt_number": 65
    },
    {
     "cell_type": "code",
     "collapsed": false,
     "input": [
      "#how many climbers per climb?\n",
      "f,ax=plt.subplots(figsize=[4,3])\n",
      "usesdf.groupby('climb').count().climber.hist(bins=20, grid=False,ax=ax)\n",
      "ax.set_ylabel('frequency')\n",
      "sns.despine()"
     ],
     "language": "python",
     "metadata": {},
     "outputs": [
      {
       "metadata": {},
       "output_type": "display_data",
       "png": "[encoded data removed]",
       "text": [
        "<matplotlib.figure.Figure at 0x1150a2250>"
       ]
      }
     ],
     "prompt_number": 66
    },
    {
     "cell_type": "heading",
     "level": 2,
     "metadata": {},
     "source": [
      "Model Comparison"
     ]
    },
    {
     "cell_type": "markdown",
     "metadata": {},
     "source": [
      "I'll start with some really naive models that can serve as baselines I want to beat"
     ]
    },
    {
     "cell_type": "heading",
     "level": 3,
     "metadata": {},
     "source": [
      "Absolute dumbest model guesses randomly"
     ]
    },
    {
     "cell_type": "code",
     "collapsed": false,
     "input": [
      "dumbdf=pd.DataFrame(data={'starsscore':usesdf['starsscore'],'random':[np.random.choice(range(1,5)) for x in range(len(usesdf))]})\n",
      "acc, precision, recall, f1=mo.round2score(dumbdf, 'starsscore', 'random')\n",
      "propdf=viz.plotresults(dumbdf, 'starsscore', 'random')"
     ],
     "language": "python",
     "metadata": {},
     "outputs": [
      {
       "output_type": "stream",
       "stream": "stdout",
       "text": [
        "4 way accuracy 0.263\n",
        "4 way f1 0.268\n",
        "4 way precision 0.284\n",
        "4 way recall 0.263\n"
       ]
      },
      {
       "metadata": {},
       "output_type": "display_data",
       "png": "[encoded data removed]",
       "text": [
        "<matplotlib.figure.Figure at 0x115af4e90>"
       ]
      }
     ],
     "prompt_number": 67
    },
    {
     "cell_type": "heading",
     "level": 3,
     "metadata": {},
     "source": [
      "Another really dumb model guesses most frequent rating label"
     ]
    },
    {
     "cell_type": "code",
     "collapsed": false,
     "input": [
      "mode=scipy.stats.mode(usesdf['starsscore'].values)[0][0]\n",
      "modedf=pd.DataFrame(data={'starsscore':usesdf['starsscore'].values, 'mostfrequent':[mode for x in range(len(usesdf))]})\n",
      "acc, precision, recall, f1=mo.round2score(modedf, 'starsscore', 'mostfrequent')\n",
      "propdf=viz.plotresults(modedf, 'starsscore', 'mostfrequent')"
     ],
     "language": "python",
     "metadata": {},
     "outputs": [
      {
       "output_type": "stream",
       "stream": "stdout",
       "text": [
        "4 way accuracy 0.360\n",
        "4 way f1 0.190\n",
        "4 way precision 0.129\n",
        "4 way recall 0.360\n"
       ]
      },
      {
       "metadata": {},
       "output_type": "display_data",
       "png": "[encoded data removed]",
       "text": [
        "<matplotlib.figure.Figure at 0x116af6790>"
       ]
      }
     ],
     "prompt_number": 68
    },
    {
     "cell_type": "heading",
     "level": 3,
     "metadata": {},
     "source": [
      "A sliiiightly less dumb model guesses the target's most frequently used label (mode of their ratings on other items)"
     ]
    },
    {
     "cell_type": "code",
     "collapsed": false,
     "input": [
      "def getavg(starid, climber, sdf=None):\n",
      "    udf=sdf[(sdf['climber']==climber) & (sdf['starid']!=starid)]\n",
      "    return udf['starsscore'].mean()\n",
      "usesdf['user_avg']=usesdf.apply(lambda x:getavg(x['starid'], x['climber'], sdf=usesdf), axis=1)\n",
      "usesdf['rounded_user_avg']=[np.round(x) for x in usesdf.user_avg.values]"
     ],
     "language": "python",
     "metadata": {},
     "outputs": [],
     "prompt_number": 69
    },
    {
     "cell_type": "code",
     "collapsed": false,
     "input": [
      "%autoreload\n",
      "acc, precision, recall, f1=mo.round2score(usesdf, 'starsscore', 'rounded_user_avg')\n",
      "propdf=viz.plotresults(usesdf, 'starsscore', 'rounded_user_avg')"
     ],
     "language": "python",
     "metadata": {},
     "outputs": [
      {
       "output_type": "stream",
       "stream": "stdout",
       "text": [
        "4 way accuracy 0.385\n",
        "4 way f1 0.324\n",
        "4 way precision 0.433\n",
        "4 way recall 0.385\n"
       ]
      },
      {
       "metadata": {},
       "output_type": "display_data",
       "png": "[encoded data removed]",
       "text": [
        "<matplotlib.figure.Figure at 0x1185a4050>"
       ]
      }
     ],
     "prompt_number": 70
    },
    {
     "cell_type": "heading",
     "level": 3,
     "metadata": {},
     "source": [
      "A really simple model makes recommendations based on the ratings of the full remaining group"
     ]
    },
    {
     "cell_type": "code",
     "collapsed": false,
     "input": [
      "%autoreload\n",
      "acc, precision, recall, f1=mo.round2score(usesdf, 'starsscore', 'other_rounded')\n",
      "propdf=viz.plotresults(usesdf, 'starsscore', 'other_rounded')"
     ],
     "language": "python",
     "metadata": {},
     "outputs": [
      {
       "output_type": "stream",
       "stream": "stdout",
       "text": [
        "4 way accuracy 0.559\n",
        "4 way f1 0.556\n",
        "4 way precision 0.572\n",
        "4 way recall 0.559\n"
       ]
      },
      {
       "metadata": {},
       "output_type": "display_data",
       "png": "[encoded data removed]",
       "text": [
        "<matplotlib.figure.Figure at 0x1195bb750>"
       ]
      }
     ],
     "prompt_number": 71
    },
    {
     "cell_type": "heading",
     "level": 3,
     "metadata": {},
     "source": [
      "CAN I OUTPERFORM THIS?"
     ]
    },
    {
     "cell_type": "code",
     "collapsed": false,
     "input": [
      "#set general model params\n",
      "%autoreload\n",
      "clf=mo.classifier('rfc')"
     ],
     "language": "python",
     "metadata": {},
     "outputs": [],
     "prompt_number": 72
    },
    {
     "cell_type": "heading",
     "level": 3,
     "metadata": {},
     "source": [
      "A smart model might use attributes of other climbs the user likes"
     ]
    },
    {
     "cell_type": "code",
     "collapsed": false,
     "input": [
      "%autoreload\n",
      "resultsdict={}\n",
      "numericfeats=['pitch','pageviews','numerizedgrade']\n",
      "for name in alltermsdict.keys():\n",
      "    cfeatures=['%s_description' %term for term in alltermsdict[name]]+['%s_commentsmerged' %term for term in alltermsdict[name]]\n",
      "    sfeatures=[]\n",
      "    print \"classifying using %s features\" %(len(cfeatures)+len(sfeatures))\n",
      "    this_ndf=ndf[['climbid']+cfeatures].dropna()\n",
      "    print this_ndf.shape\n",
      "    summarydf, resultsdf, emptyfeats=mo.classify(clf,users, sfeatures, cfeatures, this_ndf, usesdf, minratings=minratings)\n",
      "    resultsdict[name]=[summarydf, resultsdf]\n",
      "\n"
     ],
     "language": "python",
     "metadata": {},
     "outputs": [
      {
       "output_type": "stream",
       "stream": "stdout",
       "text": [
        "classifying using 56 features\n",
        "(1303, 57)\n",
        "classifying using 18 features"
       ]
      },
      {
       "output_type": "stream",
       "stream": "stdout",
       "text": [
        "\n",
        "(1303, 19)\n",
        "classifying using 154 features"
       ]
      },
      {
       "output_type": "stream",
       "stream": "stdout",
       "text": [
        "\n",
        "(1303, 155)\n",
        "classifying using 32 features"
       ]
      },
      {
       "output_type": "stream",
       "stream": "stdout",
       "text": [
        "\n",
        "(1303, 33)\n",
        "classifying using 18 features"
       ]
      },
      {
       "output_type": "stream",
       "stream": "stdout",
       "text": [
        "\n",
        "(1303, 19)\n",
        "classifying using 30 features"
       ]
      },
      {
       "output_type": "stream",
       "stream": "stdout",
       "text": [
        "\n",
        "(1303, 31)\n"
       ]
      },
      {
       "output_type": "stream",
       "stream": "stderr",
       "text": [
        "/usr/local/lib/python2.7/site-packages/sklearn/ensemble/forest.py:397: UserWarning: Some inputs do not have OOB scores. This probably means too few trees were used to compute any reliable oob estimates.\n",
        "  warn(\"Some inputs do not have OOB scores. \"\n"
       ]
      }
     ],
     "prompt_number": 20
    },
    {
     "cell_type": "code",
     "collapsed": false,
     "input": [
      "%autoreload\n",
      "for name in resultsdict.keys():\n",
      "    print \"\"\n",
      "    print \"classifying with %s\" %name\n",
      "    summarydf, resultsdf=resultsdict[name]\n",
      "    viz.plotresults(resultsdf, 'true_rating', 'feat_pred')\n",
      "    acc, precision, recall, f1=mo.round2score(resultsdf, 'true_rating', 'feat_pred')"
     ],
     "language": "python",
     "metadata": {},
     "outputs": [
      {
       "output_type": "stream",
       "stream": "stdout",
       "text": [
        "\n",
        "classifying with holdterms\n"
       ]
      },
      {
       "metadata": {},
       "output_type": "display_data",
       "png": "[encoded data removed]",
       "text": [
        "<matplotlib.figure.Figure at 0x113d5dfd0>"
       ]
      },
      {
       "output_type": "stream",
       "stream": "stdout",
       "text": [
        "4 way accuracy 0.471\n",
        "4 way f1 0.394\n",
        "4 way precision 0.406\n",
        "4 way recall 0.471\n",
        "\n",
        "classifying with descriptors\n"
       ]
      },
      {
       "metadata": {},
       "output_type": "display_data",
       "png": "[encoded data removed]",
       "text": [
        "<matplotlib.figure.Figure at 0x11679a550>"
       ]
      },
      {
       "output_type": "stream",
       "stream": "stdout",
       "text": [
        "4 way accuracy 0.451\n",
        "4 way f1 0.351\n",
        "4 way precision 0.341\n",
        "4 way recall 0.451\n",
        "\n",
        "classifying with allterms\n"
       ]
      },
      {
       "output_type": "stream",
       "stream": "stderr",
       "text": [
        "/usr/local/lib/python2.7/site-packages/sklearn/metrics/metrics.py:1249: UserWarning: The precision and recall are equal to zero for some labels. fbeta_score is ill defined for those labels [ 1.]. \n",
        "  average=average)\n",
        "/usr/local/lib/python2.7/site-packages/sklearn/metrics/metrics.py:1734: UserWarning: The precision and recall are equal to zero for some labels. fbeta_score is ill defined for those labels [ 1.]. \n",
        "  average=average)\n",
        "/usr/local/lib/python2.7/site-packages/sklearn/metrics/metrics.py:1809: UserWarning: The precision and recall are equal to zero for some labels. fbeta_score is ill defined for those labels [ 1.]. \n",
        "  average=average)\n"
       ]
      },
      {
       "metadata": {},
       "output_type": "display_data",
       "png": "[encoded data removed]",
       "text": [
        "<matplotlib.figure.Figure at 0x11677afd0>"
       ]
      },
      {
       "output_type": "stream",
       "stream": "stdout",
       "text": [
        "4 way accuracy 0.423\n",
        "4 way f1 0.362\n",
        "4 way precision 0.355\n",
        "4 way recall 0.423\n",
        "\n",
        "classifying with safety\n"
       ]
      },
      {
       "metadata": {},
       "output_type": "display_data",
       "png": "[encoded data removed]",
       "text": [
        "<matplotlib.figure.Figure at 0x116854890>"
       ]
      },
      {
       "output_type": "stream",
       "stream": "stdout",
       "text": [
        "4 way accuracy 0.442\n",
        "4 way f1 0.339\n",
        "4 way precision 0.327\n",
        "4 way recall 0.442\n",
        "\n",
        "classifying with rockterms\n"
       ]
      },
      {
       "metadata": {},
       "output_type": "display_data",
       "png": "[encoded data removed]",
       "text": [
        "<matplotlib.figure.Figure at 0x11628bd50>"
       ]
      },
      {
       "output_type": "stream",
       "stream": "stdout",
       "text": [
        "4 way accuracy 0.451\n",
        "4 way f1 0.337\n",
        "4 way precision 0.310\n",
        "4 way recall 0.451\n",
        "\n",
        "classifying with easeterms\n"
       ]
      },
      {
       "metadata": {},
       "output_type": "display_data",
       "png": "[encoded data removed]",
       "text": [
        "<matplotlib.figure.Figure at 0x116aff090>"
       ]
      },
      {
       "output_type": "stream",
       "stream": "stdout",
       "text": [
        "4 way accuracy 0.431\n",
        "4 way f1 0.347\n",
        "4 way precision 0.340\n",
        "4 way recall 0.431\n"
       ]
      }
     ],
     "prompt_number": 21
    },
    {
     "cell_type": "heading",
     "level": 3,
     "metadata": {},
     "source": [
      "A smart model might also use the ratings of climbers"
     ]
    },
    {
     "cell_type": "markdown",
     "metadata": {},
     "source": [
      "Specifically, we can include as features the ratings of each climb by each other user (here using a binarized \"like\" matrix). In contrast to using the group average, training on each individual climber's ratings allows the model to learn which other climber's ratings are most predictive of the target's."
     ]
    },
    {
     "cell_type": "code",
     "collapsed": false,
     "input": [
      "clf=mo.classifier('rfc')"
     ],
     "language": "python",
     "metadata": {},
     "outputs": [],
     "prompt_number": 74
    },
    {
     "cell_type": "code",
     "collapsed": false,
     "input": [
      "%autoreload\n",
      "name='user_sim'\n",
      "cfeatures=list(like_mat.columns.values)\n",
      "cfeatures.remove('climbid')\n",
      "sfeatures=[]\n",
      "print \"classifying using %s features\" %(len(cfeatures)+len(sfeatures))\n",
      "summarydf, resultsdf, emptyfeats=mo.classify(clf,users, sfeatures, cfeatures, like_mat, usesdf, minratings=minratings, dropself=True)\n",
      "resultsdict[name]=[summarydf, resultsdf]\n"
     ],
     "language": "python",
     "metadata": {},
     "outputs": [
      {
       "output_type": "stream",
       "stream": "stdout",
       "text": [
        "classifying using 105 features\n"
       ]
      }
     ],
     "prompt_number": 75
    },
    {
     "cell_type": "code",
     "collapsed": false,
     "input": [
      "%autoreload\n",
      "for name in ['user_sim']:\n",
      "    print \"classifying with %s\" %name\n",
      "    summarydf, resultsdf=resultsdict[name]\n",
      "    viz.plotresults(resultsdf, 'true_rating', 'feat_pred')\n",
      "    acc, precision, recall, f1=mo.round2score(resultsdf, 'true_rating', 'feat_pred')"
     ],
     "language": "python",
     "metadata": {},
     "outputs": [
      {
       "output_type": "stream",
       "stream": "stdout",
       "text": [
        "classifying with user_sim\n"
       ]
      },
      {
       "metadata": {},
       "output_type": "display_data",
       "png": "[encoded data removed]",
       "text": [
        "<matplotlib.figure.Figure at 0x118f08d90>"
       ]
      },
      {
       "output_type": "stream",
       "stream": "stdout",
       "text": [
        "4 way accuracy 0.689\n",
        "4 way f1 0.641\n",
        "4 way precision 0.651\n",
        "4 way recall 0.689\n"
       ]
      }
     ],
     "prompt_number": 76
    },
    {
     "cell_type": "heading",
     "level": 3,
     "metadata": {},
     "source": [
      "Combining all features"
     ]
    },
    {
     "cell_type": "code",
     "collapsed": false,
     "input": [
      "clf=mo.classifier('rfc')"
     ],
     "language": "python",
     "metadata": {},
     "outputs": [],
     "prompt_number": 77
    },
    {
     "cell_type": "code",
     "collapsed": false,
     "input": [
      "%autoreload\n",
      "name='combined'\n",
      "cfeatures=list(like_mat.columns)+descripfeats+commentfeats+numericfeats\n",
      "cfeatures.remove('climbid')\n",
      "sfeatures=['other_avg']\n",
      "print \"classifying using %s features\" %(len(cfeatures)+len(sfeatures))\n",
      "full_ndf=ndf[['climbid']+descripfeats+commentfeats+numericfeats]\n",
      "full_ndf=pd.merge(full_ndf, like_mat, on='climbid', how='inner')\n",
      "full_ndf.index=full_ndf['climbid'].values\n",
      "full_ndf=full_ndf[full_ndf['climbid'].isin(sdf.climb.unique())]\n",
      "full_ndf=full_ndf.dropna()\n",
      "summarydf, resultsdf, emptyfeats=mo.classify(clf,users, sfeatures, cfeatures, full_ndf, usesdf, minratings=minratings, dropself=True, datadir=projdir)\n",
      "resultsdict[name]=[summarydf, resultsdf]"
     ],
     "language": "python",
     "metadata": {},
     "outputs": [
      {
       "output_type": "stream",
       "stream": "stdout",
       "text": [
        "classifying using 263 features\n"
       ]
      }
     ],
     "prompt_number": 78
    },
    {
     "cell_type": "code",
     "collapsed": false,
     "input": [
      "%autoreload\n",
      "for name in ['combined']:\n",
      "    print \"classifying with %s\" %name\n",
      "    summarydf, resultsdf=resultsdict[name]\n",
      "    viz.plotresults(resultsdf, 'true_rating', 'feat_pred')\n",
      "    acc, precision, recall, f1=mo.round2score(resultsdf, 'true_rating', 'feat_pred')"
     ],
     "language": "python",
     "metadata": {},
     "outputs": [
      {
       "output_type": "stream",
       "stream": "stdout",
       "text": [
        "classifying with combined\n"
       ]
      },
      {
       "metadata": {},
       "output_type": "display_data",
       "png": "[encoded data removed]",
       "text": [
        "<matplotlib.figure.Figure at 0x11341ca90>"
       ]
      },
      {
       "output_type": "stream",
       "stream": "stdout",
       "text": [
        "4 way accuracy 0.719\n",
        "4 way f1 0.710\n",
        "4 way precision 0.713\n",
        "4 way recall 0.719\n"
       ]
      }
     ],
     "prompt_number": 79
    },
    {
     "cell_type": "heading",
     "level": 3,
     "metadata": {},
     "source": [
      "Model optimization"
     ]
    },
    {
     "cell_type": "markdown",
     "metadata": {},
     "source": [
      "The analyses above suggest that we want to build a model that incorporates three kinds of information: \n",
      "- climb attributes \n",
      "- overall climb popularity\n",
      "- ratings of individual users (e.g. preferences of similar climbers)\n",
      "\n",
      "A model that naively combines these features does reasonably well, but I can try to improve performance by toggling the following:\n",
      "- algorithm (RFC vs. SVM vs. Logistic Regression)\n",
      "- features (try dimensionality reduction/feature selection methods)\n",
      "- model parameters (e.g. C param if using SVM)"
     ]
    },
    {
     "cell_type": "heading",
     "level": 3,
     "metadata": {},
     "source": [
      "Which algorithm? (conceptual)"
     ]
    },
    {
     "cell_type": "heading",
     "level": 4,
     "metadata": {},
     "source": [
      "Random Forest:"
     ]
    },
    {
     "cell_type": "markdown",
     "metadata": {},
     "source": [
      "- pros:\n",
      "    -provides interpretable feature importances\n",
      "    -handles large #s features\n",
      "    -handles diverse feature types (i.e. continuous and categorical)\n",
      "    -efficient with large dataset\n",
      "- cons:\n",
      "    - can be prone to overfitting\n",
      "    - decision rules can be complex and unintuitive\n",
      "- parameters to set:\n",
      "    - n_estimators : The number of trees in the forest.\n",
      "    - criterion : measure of quality of a split... Gini impurity(\u201cgini\u201d) vs information gain (\"entropy\")\n",
      "    - max_features: # of features to use when looking for  best split:\n",
      "        - float --> max_features is a percentage of n_features \n",
      "        - 'auto' --> sqrt(n_features).\n",
      "        - 'log2' --> log2(n_features).\n",
      "        - None --> max_features=n_features."
     ]
    },
    {
     "cell_type": "heading",
     "level": 4,
     "metadata": {},
     "source": [
      "SVM:"
     ]
    },
    {
     "cell_type": "markdown",
     "metadata": {},
     "source": [
      "- pros:\n",
      "    - efficient in high-d spaces\n",
      "    - given well separable classes, focus on the points near the boundary (support vectors) rather than all data points (as in MLE) optimizes best hyperplan\n",
      "- cons: \n",
      "    - weights/coefficients not very interpretable\n",
      "    - not naturally multiclass (must do one vs one or one vs all which each binary class)\n",
      "    - rbf kernels generally power powerful, but not appropriate for text classification problems\n",
      "- parameters to set:\n",
      "    - C param\n",
      "    - kernel\n",
      "    - if non-linear kernel: gamma"
     ]
    },
    {
     "cell_type": "heading",
     "level": 4,
     "metadata": {},
     "source": [
      "Multinomial Logistic Regression"
     ]
    },
    {
     "cell_type": "markdown",
     "metadata": {},
     "source": [
      "\n",
      "- pros:\n",
      "    - simple\n",
      "    - interpretable coefficients\n",
      "- cons:\n",
      "    - performs best with low number of dimensions \n",
      "    - best suited for cases where classes aren't well separable (i.e. predictors provide only probabilistic estimate of class), as it won't find plane with optimal margin amongst separating boundaries\n",
      "- parameters to set:\n",
      "    - penalty: regularization parameter ('l1' or 'l2')\n",
      "    - C param (like for SVM... smaller values --> stronger regularization)"
     ]
    },
    {
     "cell_type": "heading",
     "level": 3,
     "metadata": {},
     "source": [
      "Which algorithm? (empirical)"
     ]
    },
    {
     "cell_type": "code",
     "collapsed": false,
     "input": [
      "#RFC\n",
      "%autoreload\n",
      "clf=mo.classifier('rfc')\n",
      "name='combined_rfc'\n",
      "print \"classifying using %s features\" %(len(cfeatures)+len(sfeatures))\n",
      "summarydf, resultsdf, emptyfeats=mo.classify(clf,users, sfeatures, cfeatures, full_ndf, usesdf, minratings=minratings, dropself=True)\n",
      "resultsdict[name]=[summarydf, resultsdf]"
     ],
     "language": "python",
     "metadata": {},
     "outputs": [
      {
       "output_type": "stream",
       "stream": "stdout",
       "text": [
        "classifying using 263 features\n"
       ]
      }
     ],
     "prompt_number": 80
    },
    {
     "cell_type": "code",
     "collapsed": false,
     "input": [
      "#RFC\n",
      "%autoreload\n",
      "clf=mo.classifier('svm')\n",
      "name='combined_svm'\n",
      "print \"classifying using %s features\" %(len(cfeatures)+len(sfeatures))\n",
      "summarydf, resultsdf, emptyfeats=mo.classify(clf,users, sfeatures, cfeatures, full_ndf, usesdf, minratings=minratings, dropself=True)\n",
      "resultsdict[name]=[summarydf, resultsdf]"
     ],
     "language": "python",
     "metadata": {},
     "outputs": [
      {
       "output_type": "stream",
       "stream": "stdout",
       "text": [
        "classifying using 263 features\n"
       ]
      }
     ],
     "prompt_number": 81
    },
    {
     "cell_type": "code",
     "collapsed": false,
     "input": [
      "#multinomial logistic\n",
      "clf=mo.classifier('logistic')\n",
      "name='combined_logistic'\n",
      "print \"classifying using %s features\" %(len(cfeatures)+len(sfeatures))\n",
      "summarydf, resultsdf, emptyfeats=mo.classify(clf,users, sfeatures, cfeatures, full_ndf, usesdf, minratings=minratings, dropself=True)\n",
      "resultsdict[name]=[summarydf, resultsdf]"
     ],
     "language": "python",
     "metadata": {},
     "outputs": [
      {
       "output_type": "stream",
       "stream": "stdout",
       "text": [
        "classifying using 263 features\n"
       ]
      }
     ],
     "prompt_number": 82
    },
    {
     "cell_type": "code",
     "collapsed": false,
     "input": [
      "for name in ['combined_rfc','combined_svm','combined_logistic']:\n",
      "    print \"\"\n",
      "    print \"classifying with %s\" %name\n",
      "    summarydf, resultsdf=resultsdict[name]\n",
      "    viz.plotresults(resultsdf, 'true_rating', 'feat_pred')\n",
      "    acc, precision, recall, f1=mo.round2score(resultsdf, 'true_rating', 'feat_pred')"
     ],
     "language": "python",
     "metadata": {},
     "outputs": [
      {
       "output_type": "stream",
       "stream": "stdout",
       "text": [
        "\n",
        "classifying with combined_rfc\n"
       ]
      },
      {
       "metadata": {},
       "output_type": "display_data",
       "png": "[encoded data removed]",
       "text": [
        "<matplotlib.figure.Figure at 0x1142e94d0>"
       ]
      },
      {
       "output_type": "stream",
       "stream": "stdout",
       "text": [
        "4 way accuracy 0.712\n",
        "4 way f1 0.703\n",
        "4 way precision 0.704\n",
        "4 way recall 0.712\n",
        "\n",
        "classifying with combined_svm\n"
       ]
      },
      {
       "metadata": {},
       "output_type": "display_data",
       "png": "[encoded data removed]",
       "text": [
        "<matplotlib.figure.Figure at 0x1181ec2d0>"
       ]
      },
      {
       "output_type": "stream",
       "stream": "stdout",
       "text": [
        "4 way accuracy 0.661\n",
        "4 way f1 0.666\n",
        "4 way precision 0.673\n",
        "4 way recall 0.661\n",
        "\n",
        "classifying with combined_logistic\n"
       ]
      },
      {
       "metadata": {},
       "output_type": "display_data",
       "png": "[encoded data removed]",
       "text": [
        "<matplotlib.figure.Figure at 0x118d52c10>"
       ]
      },
      {
       "output_type": "stream",
       "stream": "stdout",
       "text": [
        "4 way accuracy 0.647\n",
        "4 way f1 0.646\n",
        "4 way precision 0.646\n",
        "4 way recall 0.647\n"
       ]
      }
     ],
     "prompt_number": 83
    },
    {
     "cell_type": "markdown",
     "metadata": {},
     "source": [
      "Random Forests outperforms SVM and logisic (on these data and with these fairly arbitrary parameters). Combining the advantages of RFC describe above, and it's apparently strong performance here, I'll focus subsequent analyses on random forests"
     ]
    },
    {
     "cell_type": "heading",
     "level": 3,
     "metadata": {},
     "source": [
      "Optimize parameters of chosen model"
     ]
    },
    {
     "cell_type": "code",
     "collapsed": false,
     "input": [
      "poss_n=range(1,100,5)\n",
      "results=[]\n",
      "for n in poss_n:\n",
      "    clf=mo.classifier('rfc')\n",
      "    clf.n_estimators=n\n",
      "    name='combined_rfc_n_est_%s' %(n)\n",
      "    summarydf, resultsdf, emptyfeats=mo.classify(clf,users, sfeatures, cfeatures, full_ndf, usesdf, minratings=minratings, dropself=True)\n",
      "    resultsdict[name]=[summarydf, resultsdf]\n",
      "    results.append(summarydf['score'].mean())"
     ],
     "language": "python",
     "metadata": {},
     "outputs": [],
     "prompt_number": 99
    },
    {
     "cell_type": "code",
     "collapsed": false,
     "input": [
      "f,ax=plt.subplots()\n",
      "ax.plot(range(1,100,5),results)\n",
      "ax.set_xlabel('# of estimators')\n",
      "ax.set_ylabel('accuracy')"
     ],
     "language": "python",
     "metadata": {},
     "outputs": [
      {
       "metadata": {},
       "output_type": "pyout",
       "prompt_number": 100,
       "text": [
        "<matplotlib.text.Text at 0x114e206d0>"
       ]
      },
      {
       "metadata": {},
       "output_type": "display_data",
       "png": "[encoded data removed]",
       "text": [
        "<matplotlib.figure.Figure at 0x10ecbd410>"
       ]
      }
     ],
     "prompt_number": 100
    },
    {
     "cell_type": "markdown",
     "metadata": {},
     "source": [
      "Plotting accuracy as a function of the # of estimators, we see that the accuracy increases dramatically until about 20-30 trees and then levels off. there is a very mild increase in accuracy with increasing k, but computation time scales with k, so we want the minumum K that gives us the desired accuracy. I'll go with k=40."
     ]
    },
    {
     "cell_type": "heading",
     "level": 3,
     "metadata": {},
     "source": [
      "Feature selection"
     ]
    },
    {
     "cell_type": "markdown",
     "metadata": {},
     "source": [
      "To be able to quickly incorporate new users who don't have a full climbing history, I want to identify a relatively simple, intuitive feature vector that can be used to provide predictions for a new user based on a few indicated preferences. So, I want to reduce this space of features. Many approaches to dimensionality reduction (i.e. PCA) reduce features into components that are linear combinations of the initial input space. However, the most intuitive inputs for the user are simple words like those contained in the set of a priori features."
     ]
    },
    {
     "cell_type": "heading",
     "level": 3,
     "metadata": {},
     "source": [
      "Forward stepwise iterative regression"
     ]
    },
    {
     "cell_type": "code",
     "collapsed": false,
     "input": [
      "#explain procedure"
     ],
     "language": "python",
     "metadata": {},
     "outputs": [],
     "prompt_number": 101
    },
    {
     "cell_type": "code",
     "collapsed": false,
     "input": [
      "%autoreload\n",
      "avgs=ndf[descripfeats+commentfeats]\n",
      "rx=mo.iterativeregression(avgs, plotit=True, limit=75)"
     ],
     "language": "python",
     "metadata": {},
     "outputs": [
      {
       "output_type": "stream",
       "stream": "stdout",
       "text": [
        "arete_description, crack_description, boulder_description, steep_commentsmerged, crimp_commentsmerged, crimp_description, slab_description, crux_description, stiff_commentsmerged, crack_commentsmerged, corner_description, crux_commentsmerged, flake_description, jug_description, hard_commentsmerged, ledge_description, easy_description, arete_commentsmerged, chimney_description, ledge_commentsmerged, traverse_description, undercling_description, steep_description, gear_commentsmerged, hard_description, awkward_commentsmerged, jug_commentsmerged, gear_description, take_commentsmerged, slab_commentsmerged, fall_commentsmerged, beginner_commentsmerged, pump_commentsmerged, corner_commentsmerged, ramp_description, dyno_description, boulder_commentsmerged, pocket_description, layback_description, sidepull_description, easy_commentsmerged, technical_description, fall_description, thin_description, beginner_description, pump_description, vertical_description, pinch_description, widecrack_description, sloper_description, overhung_description, awkward_description, soft_commentsmerged, technical_commentsmerged, flake_commentsmerged, difficult_description, chimney_commentsmerged, exciting_commentsmerged, traverse_commentsmerged, sloper_commentsmerged, granite_commentsmerged, comfortable_description, gaston_description, clipping_commentsmerged, clipping_description, take_description, hung_commentsmerged, dyno_commentsmerged, schist_description, soft_description, protect_commentsmerged, hung_description, layback_commentsmerged, deadpoint_description, committing_description\n"
       ]
      },
      {
       "metadata": {},
       "output_type": "display_data",
       "png": "[encoded data removed]",
       "text": [
        "<matplotlib.figure.Figure at 0x1193420d0>"
       ]
      }
     ],
     "prompt_number": 84
    },
    {
     "cell_type": "markdown",
     "metadata": {},
     "source": [
      "over 50% of the variance in the climb x attribute matrix is captured using the first 20 text features and >90 with the first 75 features. This suggests that there are redundant/collinear features. taking the top N features from the iterative regression procedure would provide a set of features that explain unique variance in the initial climb x attribute matrix, however, this approach does not tell us that these features are particularly informative of individual user prefernces. to get at informativeness more directly we can also look at the feature importances from the random forest algorithm to get features that are informative in classifying individual star ratings."
     ]
    },
    {
     "cell_type": "code",
     "collapsed": false,
     "input": [
      "%autoreload\n",
      "clf=mo.classifier('rfc')\n",
      "clf.n_estimators=40\n",
      "results=[]\n",
      "resutlsdict={}\n",
      "name='combined_feature_selection'\n",
      "print \"classifying using %s features\" %(len(cfeatures)+len(sfeatures))\n",
      "summarydf, resultsdf, informativefeats=mo.classify(clf,users, sfeatures, cfeatures, full_ndf, usesdf, minratings=minratings, dropself=True, getfeats=True)\n",
      "resultsdict[name]=[summarydf, resultsdf]\n",
      "results.append(summarydf['score'].mean())"
     ],
     "language": "python",
     "metadata": {},
     "outputs": [
      {
       "output_type": "stream",
       "stream": "stdout",
       "text": [
        "classifying using 263 features\n"
       ]
      }
     ],
     "prompt_number": 85
    },
    {
     "cell_type": "code",
     "collapsed": false,
     "input": [
      "print \"classifying with %s\" %name\n",
      "summarydf, resultsdf=resultsdict[name]\n",
      "viz.plotresults(resultsdf, 'true_rating', 'feat_pred')\n",
      "acc, precision, recall, f1=mo.round2score(resultsdf, 'true_rating', 'feat_pred')"
     ],
     "language": "python",
     "metadata": {},
     "outputs": [
      {
       "output_type": "stream",
       "stream": "stdout",
       "text": [
        "classifying with combined_feature_selection\n"
       ]
      },
      {
       "metadata": {},
       "output_type": "display_data",
       "png": "[encoded data removed]",
       "text": [
        "<matplotlib.figure.Figure at 0x11931c450>"
       ]
      },
      {
       "output_type": "stream",
       "stream": "stdout",
       "text": [
        "4 way accuracy 0.759\n",
        "4 way f1 0.741\n",
        "4 way precision 0.746\n",
        "4 way recall 0.759\n"
       ]
      }
     ],
     "prompt_number": 86
    },
    {
     "cell_type": "code",
     "collapsed": false,
     "input": [
      "%autoreload\n",
      "featdf=informativefeats[[col for col in informativefeats.columns if col != 'climber']].T\n",
      "featdf['T_value']=featdf.apply(lambda x:scipy.stats.ttest_1samp(x.values, 0)[0], axis=1)\n",
      "featdf['P_value']=featdf.apply(lambda x:scipy.stats.ttest_1samp(x.values, 0)[1], axis=1)\n",
      "sorteddf=featdf.sort(columns='T_value', ascending=False).iloc[:25,:]\n",
      "sorteddf"
     ],
     "language": "python",
     "metadata": {},
     "outputs": [
      {
       "html": [
        "<div style=\"max-height:1000px;max-width:1500px;overflow:auto;\">\n",
        "<table border=\"1\" class=\"dataframe\">\n",
        "  <thead>\n",
        "    <tr style=\"text-align: right;\">\n",
        "      <th></th>\n",
        "      <th>0</th>\n",
        "      <th>1</th>\n",
        "      <th>2</th>\n",
        "      <th>3</th>\n",
        "      <th>4</th>\n",
        "      <th>5</th>\n",
        "      <th>6</th>\n",
        "      <th>7</th>\n",
        "      <th>8</th>\n",
        "      <th>9</th>\n",
        "      <th>T_value</th>\n",
        "      <th>P_value</th>\n",
        "    </tr>\n",
        "  </thead>\n",
        "  <tbody>\n",
        "    <tr>\n",
        "      <th>numerizedgrade</th>\n",
        "      <td> 0.10000</td>\n",
        "      <td> 0.111111</td>\n",
        "      <td> 0.119710</td>\n",
        "      <td> 0.117318</td>\n",
        "      <td> 0.084746</td>\n",
        "      <td> 0.121212</td>\n",
        "      <td> 0</td>\n",
        "      <td> 0.099415</td>\n",
        "      <td> 0.094340</td>\n",
        "      <td> 0.131868</td>\n",
        "      <td> 8.312756</td>\n",
        "      <td> 0.284420</td>\n",
        "    </tr>\n",
        "    <tr>\n",
        "      <th>crux_description</th>\n",
        "      <td> 0.08750</td>\n",
        "      <td> 0.107256</td>\n",
        "      <td> 0.089480</td>\n",
        "      <td> 0.089385</td>\n",
        "      <td> 0.084746</td>\n",
        "      <td> 0.070707</td>\n",
        "      <td> 0</td>\n",
        "      <td> 0.111111</td>\n",
        "      <td> 0.056604</td>\n",
        "      <td> 0.076923</td>\n",
        "      <td> 7.762345</td>\n",
        "      <td> 0.292709</td>\n",
        "    </tr>\n",
        "    <tr>\n",
        "      <th>other_avg</th>\n",
        "      <td> 0.11250</td>\n",
        "      <td> 0.111111</td>\n",
        "      <td> 0.122128</td>\n",
        "      <td> 0.122905</td>\n",
        "      <td> 0.016949</td>\n",
        "      <td> 0.121212</td>\n",
        "      <td> 0</td>\n",
        "      <td> 0.111111</td>\n",
        "      <td> 0.113208</td>\n",
        "      <td> 0.131868</td>\n",
        "      <td> 6.489558</td>\n",
        "      <td> 0.270911</td>\n",
        "    </tr>\n",
        "    <tr>\n",
        "      <th>pageviews</th>\n",
        "      <td> 0.11250</td>\n",
        "      <td> 0.111111</td>\n",
        "      <td> 0.122128</td>\n",
        "      <td> 0.128492</td>\n",
        "      <td> 0.000000</td>\n",
        "      <td> 0.121212</td>\n",
        "      <td> 0</td>\n",
        "      <td> 0.111111</td>\n",
        "      <td> 0.094340</td>\n",
        "      <td> 0.131868</td>\n",
        "      <td> 5.866792</td>\n",
        "      <td> 0.266347</td>\n",
        "    </tr>\n",
        "    <tr>\n",
        "      <th>slab_description</th>\n",
        "      <td> 0.08750</td>\n",
        "      <td> 0.046618</td>\n",
        "      <td> 0.116082</td>\n",
        "      <td> 0.083799</td>\n",
        "      <td> 0.050847</td>\n",
        "      <td> 0.101010</td>\n",
        "      <td> 0</td>\n",
        "      <td> 0.033138</td>\n",
        "      <td> 0.018868</td>\n",
        "      <td> 0.043956</td>\n",
        "      <td> 4.907482</td>\n",
        "      <td> 0.284192</td>\n",
        "    </tr>\n",
        "    <tr>\n",
        "      <th>corner_description</th>\n",
        "      <td> 0.05000</td>\n",
        "      <td> 0.088328</td>\n",
        "      <td> 0.030230</td>\n",
        "      <td> 0.000000</td>\n",
        "      <td> 0.033898</td>\n",
        "      <td> 0.000000</td>\n",
        "      <td> 0</td>\n",
        "      <td> 0.056530</td>\n",
        "      <td> 0.056604</td>\n",
        "      <td> 0.054945</td>\n",
        "      <td> 3.916980</td>\n",
        "      <td> 0.295150</td>\n",
        "    </tr>\n",
        "    <tr>\n",
        "      <th>steep_description</th>\n",
        "      <td> 0.03125</td>\n",
        "      <td> 0.000000</td>\n",
        "      <td> 0.003628</td>\n",
        "      <td> 0.022346</td>\n",
        "      <td> 0.033898</td>\n",
        "      <td> 0.040404</td>\n",
        "      <td> 0</td>\n",
        "      <td> 0.038986</td>\n",
        "      <td> 0.056604</td>\n",
        "      <td> 0.000000</td>\n",
        "      <td> 3.478627</td>\n",
        "      <td> 0.308866</td>\n",
        "    </tr>\n",
        "    <tr>\n",
        "      <th>easy_description</th>\n",
        "      <td> 0.11250</td>\n",
        "      <td> 0.100596</td>\n",
        "      <td> 0.014510</td>\n",
        "      <td> 0.044693</td>\n",
        "      <td> 0.000000</td>\n",
        "      <td> 0.050505</td>\n",
        "      <td> 0</td>\n",
        "      <td> 0.005848</td>\n",
        "      <td> 0.056604</td>\n",
        "      <td> 0.010989</td>\n",
        "      <td> 3.049792</td>\n",
        "      <td> 0.279370</td>\n",
        "    </tr>\n",
        "    <tr>\n",
        "      <th>crack_description</th>\n",
        "      <td> 0.02500</td>\n",
        "      <td> 0.105152</td>\n",
        "      <td> 0.079807</td>\n",
        "      <td> 0.100559</td>\n",
        "      <td> 0.000000</td>\n",
        "      <td> 0.000000</td>\n",
        "      <td> 0</td>\n",
        "      <td> 0.101365</td>\n",
        "      <td> 0.037736</td>\n",
        "      <td> 0.000000</td>\n",
        "      <td> 3.043159</td>\n",
        "      <td> 0.271613</td>\n",
        "    </tr>\n",
        "    <tr>\n",
        "      <th>ledge_description</th>\n",
        "      <td> 0.08750</td>\n",
        "      <td> 0.000000</td>\n",
        "      <td> 0.061669</td>\n",
        "      <td> 0.000000</td>\n",
        "      <td> 0.050847</td>\n",
        "      <td> 0.000000</td>\n",
        "      <td> 0</td>\n",
        "      <td> 0.081871</td>\n",
        "      <td> 0.000000</td>\n",
        "      <td> 0.010989</td>\n",
        "      <td> 2.506205</td>\n",
        "      <td> 0.285324</td>\n",
        "    </tr>\n",
        "    <tr>\n",
        "      <th>arete_description</th>\n",
        "      <td> 0.02500</td>\n",
        "      <td> 0.106905</td>\n",
        "      <td> 0.013301</td>\n",
        "      <td> 0.055866</td>\n",
        "      <td> 0.000000</td>\n",
        "      <td> 0.101010</td>\n",
        "      <td> 0</td>\n",
        "      <td> 0.005848</td>\n",
        "      <td> 0.000000</td>\n",
        "      <td> 0.000000</td>\n",
        "      <td> 2.301810</td>\n",
        "      <td> 0.278012</td>\n",
        "    </tr>\n",
        "    <tr>\n",
        "      <th>hard_description</th>\n",
        "      <td> 0.08125</td>\n",
        "      <td> 0.000000</td>\n",
        "      <td> 0.004837</td>\n",
        "      <td> 0.094972</td>\n",
        "      <td> 0.016949</td>\n",
        "      <td> 0.000000</td>\n",
        "      <td> 0</td>\n",
        "      <td> 0.083821</td>\n",
        "      <td> 0.000000</td>\n",
        "      <td> 0.000000</td>\n",
        "      <td> 2.181938</td>\n",
        "      <td> 0.280097</td>\n",
        "    </tr>\n",
        "    <tr>\n",
        "      <th>boulder_description</th>\n",
        "      <td> 0.00000</td>\n",
        "      <td> 0.111111</td>\n",
        "      <td> 0.012092</td>\n",
        "      <td> 0.000000</td>\n",
        "      <td> 0.000000</td>\n",
        "      <td> 0.010101</td>\n",
        "      <td> 0</td>\n",
        "      <td> 0.011696</td>\n",
        "      <td> 0.018868</td>\n",
        "      <td> 0.054945</td>\n",
        "      <td> 1.951254</td>\n",
        "      <td> 0.287725</td>\n",
        "    </tr>\n",
        "    <tr>\n",
        "      <th>pitch</th>\n",
        "      <td> 0.00000</td>\n",
        "      <td> 0.000000</td>\n",
        "      <td> 0.041112</td>\n",
        "      <td> 0.005587</td>\n",
        "      <td> 0.084746</td>\n",
        "      <td> 0.000000</td>\n",
        "      <td> 0</td>\n",
        "      <td> 0.000000</td>\n",
        "      <td> 0.000000</td>\n",
        "      <td> 0.076923</td>\n",
        "      <td> 1.931069</td>\n",
        "      <td> 0.289615</td>\n",
        "    </tr>\n",
        "    <tr>\n",
        "      <th>crux_commentsmerged</th>\n",
        "      <td> 0.00000</td>\n",
        "      <td> 0.000000</td>\n",
        "      <td> 0.009674</td>\n",
        "      <td> 0.022346</td>\n",
        "      <td> 0.016949</td>\n",
        "      <td> 0.000000</td>\n",
        "      <td> 0</td>\n",
        "      <td> 0.005848</td>\n",
        "      <td> 0.113208</td>\n",
        "      <td> 0.032967</td>\n",
        "      <td> 1.836715</td>\n",
        "      <td> 0.289016</td>\n",
        "    </tr>\n",
        "    <tr>\n",
        "      <th>ledge_commentsmerged</th>\n",
        "      <td> 0.00000</td>\n",
        "      <td> 0.000000</td>\n",
        "      <td> 0.000000</td>\n",
        "      <td> 0.022346</td>\n",
        "      <td> 0.016949</td>\n",
        "      <td> 0.000000</td>\n",
        "      <td> 0</td>\n",
        "      <td> 0.005848</td>\n",
        "      <td> 0.000000</td>\n",
        "      <td> 0.000000</td>\n",
        "      <td> 1.724090</td>\n",
        "      <td> 0.327833</td>\n",
        "    </tr>\n",
        "    <tr>\n",
        "      <th>take_commentsmerged</th>\n",
        "      <td> 0.00000</td>\n",
        "      <td> 0.000000</td>\n",
        "      <td> 0.000000</td>\n",
        "      <td> 0.005587</td>\n",
        "      <td> 0.000000</td>\n",
        "      <td> 0.010101</td>\n",
        "      <td> 0</td>\n",
        "      <td> 0.000000</td>\n",
        "      <td> 0.018868</td>\n",
        "      <td> 0.000000</td>\n",
        "      <td> 1.704658</td>\n",
        "      <td> 0.330746</td>\n",
        "    </tr>\n",
        "    <tr>\n",
        "      <th>slab_commentsmerged</th>\n",
        "      <td> 0.00000</td>\n",
        "      <td> 0.000000</td>\n",
        "      <td> 0.000000</td>\n",
        "      <td> 0.005587</td>\n",
        "      <td> 0.016949</td>\n",
        "      <td> 0.030303</td>\n",
        "      <td> 0</td>\n",
        "      <td> 0.000000</td>\n",
        "      <td> 0.000000</td>\n",
        "      <td> 0.000000</td>\n",
        "      <td> 1.619907</td>\n",
        "      <td> 0.324699</td>\n",
        "    </tr>\n",
        "    <tr>\n",
        "      <th>pump_description</th>\n",
        "      <td> 0.04375</td>\n",
        "      <td> 0.000000</td>\n",
        "      <td> 0.000000</td>\n",
        "      <td> 0.000000</td>\n",
        "      <td> 0.000000</td>\n",
        "      <td> 0.000000</td>\n",
        "      <td> 0</td>\n",
        "      <td> 0.009747</td>\n",
        "      <td> 0.018868</td>\n",
        "      <td> 0.000000</td>\n",
        "      <td> 1.599829</td>\n",
        "      <td> 0.318622</td>\n",
        "    </tr>\n",
        "    <tr>\n",
        "      <th>jug_description</th>\n",
        "      <td> 0.00000</td>\n",
        "      <td> 0.000000</td>\n",
        "      <td> 0.000000</td>\n",
        "      <td> 0.000000</td>\n",
        "      <td> 0.000000</td>\n",
        "      <td> 0.000000</td>\n",
        "      <td> 0</td>\n",
        "      <td> 0.001949</td>\n",
        "      <td> 0.018868</td>\n",
        "      <td> 0.010989</td>\n",
        "      <td> 1.549134</td>\n",
        "      <td> 0.330624</td>\n",
        "    </tr>\n",
        "    <tr>\n",
        "      <th>traverse_description</th>\n",
        "      <td> 0.00625</td>\n",
        "      <td> 0.000701</td>\n",
        "      <td> 0.001209</td>\n",
        "      <td> 0.000000</td>\n",
        "      <td> 0.016949</td>\n",
        "      <td> 0.010101</td>\n",
        "      <td> 0</td>\n",
        "      <td> 0.000000</td>\n",
        "      <td> 0.075472</td>\n",
        "      <td> 0.000000</td>\n",
        "      <td> 1.499841</td>\n",
        "      <td> 0.305303</td>\n",
        "    </tr>\n",
        "    <tr>\n",
        "      <th>crimp_description</th>\n",
        "      <td> 0.00000</td>\n",
        "      <td> 0.000000</td>\n",
        "      <td> 0.051995</td>\n",
        "      <td> 0.000000</td>\n",
        "      <td> 0.000000</td>\n",
        "      <td> 0.000000</td>\n",
        "      <td> 0</td>\n",
        "      <td> 0.000000</td>\n",
        "      <td> 0.000000</td>\n",
        "      <td> 0.043956</td>\n",
        "      <td> 1.493462</td>\n",
        "      <td> 0.309707</td>\n",
        "    </tr>\n",
        "    <tr>\n",
        "      <th>beginner_commentsmerged</th>\n",
        "      <td> 0.00000</td>\n",
        "      <td> 0.000000</td>\n",
        "      <td> 0.000000</td>\n",
        "      <td> 0.000000</td>\n",
        "      <td> 0.000000</td>\n",
        "      <td> 0.040404</td>\n",
        "      <td> 0</td>\n",
        "      <td> 0.000000</td>\n",
        "      <td> 0.000000</td>\n",
        "      <td> 0.032967</td>\n",
        "      <td> 1.490460</td>\n",
        "      <td> 0.316752</td>\n",
        "    </tr>\n",
        "    <tr>\n",
        "      <th>take_description</th>\n",
        "      <td> 0.00625</td>\n",
        "      <td> 0.000000</td>\n",
        "      <td> 0.000000</td>\n",
        "      <td> 0.011173</td>\n",
        "      <td> 0.000000</td>\n",
        "      <td> 0.000000</td>\n",
        "      <td> 0</td>\n",
        "      <td> 0.000000</td>\n",
        "      <td> 0.000000</td>\n",
        "      <td> 0.000000</td>\n",
        "      <td> 1.430321</td>\n",
        "      <td> 0.334770</td>\n",
        "    </tr>\n",
        "    <tr>\n",
        "      <th>crack_commentsmerged</th>\n",
        "      <td> 0.00000</td>\n",
        "      <td> 0.000000</td>\n",
        "      <td> 0.000000</td>\n",
        "      <td> 0.061453</td>\n",
        "      <td> 0.000000</td>\n",
        "      <td> 0.010101</td>\n",
        "      <td> 0</td>\n",
        "      <td> 0.013645</td>\n",
        "      <td> 0.000000</td>\n",
        "      <td> 0.000000</td>\n",
        "      <td> 1.398822</td>\n",
        "      <td> 0.311314</td>\n",
        "    </tr>\n",
        "  </tbody>\n",
        "</table>\n",
        "</div>"
       ],
       "metadata": {},
       "output_type": "pyout",
       "prompt_number": 89,
       "text": [
        "                               0         1         2         3         4  \\\n",
        "numerizedgrade           0.10000  0.111111  0.119710  0.117318  0.084746   \n",
        "crux_description         0.08750  0.107256  0.089480  0.089385  0.084746   \n",
        "other_avg                0.11250  0.111111  0.122128  0.122905  0.016949   \n",
        "pageviews                0.11250  0.111111  0.122128  0.128492  0.000000   \n",
        "slab_description         0.08750  0.046618  0.116082  0.083799  0.050847   \n",
        "corner_description       0.05000  0.088328  0.030230  0.000000  0.033898   \n",
        "steep_description        0.03125  0.000000  0.003628  0.022346  0.033898   \n",
        "easy_description         0.11250  0.100596  0.014510  0.044693  0.000000   \n",
        "crack_description        0.02500  0.105152  0.079807  0.100559  0.000000   \n",
        "ledge_description        0.08750  0.000000  0.061669  0.000000  0.050847   \n",
        "arete_description        0.02500  0.106905  0.013301  0.055866  0.000000   \n",
        "hard_description         0.08125  0.000000  0.004837  0.094972  0.016949   \n",
        "boulder_description      0.00000  0.111111  0.012092  0.000000  0.000000   \n",
        "pitch                    0.00000  0.000000  0.041112  0.005587  0.084746   \n",
        "crux_commentsmerged      0.00000  0.000000  0.009674  0.022346  0.016949   \n",
        "ledge_commentsmerged     0.00000  0.000000  0.000000  0.022346  0.016949   \n",
        "take_commentsmerged      0.00000  0.000000  0.000000  0.005587  0.000000   \n",
        "slab_commentsmerged      0.00000  0.000000  0.000000  0.005587  0.016949   \n",
        "pump_description         0.04375  0.000000  0.000000  0.000000  0.000000   \n",
        "jug_description          0.00000  0.000000  0.000000  0.000000  0.000000   \n",
        "traverse_description     0.00625  0.000701  0.001209  0.000000  0.016949   \n",
        "crimp_description        0.00000  0.000000  0.051995  0.000000  0.000000   \n",
        "beginner_commentsmerged  0.00000  0.000000  0.000000  0.000000  0.000000   \n",
        "take_description         0.00625  0.000000  0.000000  0.011173  0.000000   \n",
        "crack_commentsmerged     0.00000  0.000000  0.000000  0.061453  0.000000   \n",
        "\n",
        "                                5  6         7         8         9   T_value  \\\n",
        "numerizedgrade           0.121212  0  0.099415  0.094340  0.131868  8.312756   \n",
        "crux_description         0.070707  0  0.111111  0.056604  0.076923  7.762345   \n",
        "other_avg                0.121212  0  0.111111  0.113208  0.131868  6.489558   \n",
        "pageviews                0.121212  0  0.111111  0.094340  0.131868  5.866792   \n",
        "slab_description         0.101010  0  0.033138  0.018868  0.043956  4.907482   \n",
        "corner_description       0.000000  0  0.056530  0.056604  0.054945  3.916980   \n",
        "steep_description        0.040404  0  0.038986  0.056604  0.000000  3.478627   \n",
        "easy_description         0.050505  0  0.005848  0.056604  0.010989  3.049792   \n",
        "crack_description        0.000000  0  0.101365  0.037736  0.000000  3.043159   \n",
        "ledge_description        0.000000  0  0.081871  0.000000  0.010989  2.506205   \n",
        "arete_description        0.101010  0  0.005848  0.000000  0.000000  2.301810   \n",
        "hard_description         0.000000  0  0.083821  0.000000  0.000000  2.181938   \n",
        "boulder_description      0.010101  0  0.011696  0.018868  0.054945  1.951254   \n",
        "pitch                    0.000000  0  0.000000  0.000000  0.076923  1.931069   \n",
        "crux_commentsmerged      0.000000  0  0.005848  0.113208  0.032967  1.836715   \n",
        "ledge_commentsmerged     0.000000  0  0.005848  0.000000  0.000000  1.724090   \n",
        "take_commentsmerged      0.010101  0  0.000000  0.018868  0.000000  1.704658   \n",
        "slab_commentsmerged      0.030303  0  0.000000  0.000000  0.000000  1.619907   \n",
        "pump_description         0.000000  0  0.009747  0.018868  0.000000  1.599829   \n",
        "jug_description          0.000000  0  0.001949  0.018868  0.010989  1.549134   \n",
        "traverse_description     0.010101  0  0.000000  0.075472  0.000000  1.499841   \n",
        "crimp_description        0.000000  0  0.000000  0.000000  0.043956  1.493462   \n",
        "beginner_commentsmerged  0.040404  0  0.000000  0.000000  0.032967  1.490460   \n",
        "take_description         0.000000  0  0.000000  0.000000  0.000000  1.430321   \n",
        "crack_commentsmerged     0.010101  0  0.013645  0.000000  0.000000  1.398822   \n",
        "\n",
        "                          P_value  \n",
        "numerizedgrade           0.284420  \n",
        "crux_description         0.292709  \n",
        "other_avg                0.270911  \n",
        "pageviews                0.266347  \n",
        "slab_description         0.284192  \n",
        "corner_description       0.295150  \n",
        "steep_description        0.308866  \n",
        "easy_description         0.279370  \n",
        "crack_description        0.271613  \n",
        "ledge_description        0.285324  \n",
        "arete_description        0.278012  \n",
        "hard_description         0.280097  \n",
        "boulder_description      0.287725  \n",
        "pitch                    0.289615  \n",
        "crux_commentsmerged      0.289016  \n",
        "ledge_commentsmerged     0.327833  \n",
        "take_commentsmerged      0.330746  \n",
        "slab_commentsmerged      0.324699  \n",
        "pump_description         0.318622  \n",
        "jug_description          0.330624  \n",
        "traverse_description     0.305303  \n",
        "crimp_description        0.309707  \n",
        "beginner_commentsmerged  0.316752  \n",
        "take_description         0.334770  \n",
        "crack_commentsmerged     0.311314  "
       ]
      }
     ],
     "prompt_number": 89
    },
    {
     "cell_type": "code",
     "collapsed": false,
     "input": [
      "feats=[col[:col.index('_')+1] if '_' in col and '_avg' not in col else col for col in sorteddf.index.values]\n",
      "feats=list(set(feats))\n",
      "feats=[feat for feat in feats if feat !='other_avg']\n",
      "finalfeats=[]\n",
      "print len(feats)\n",
      "print feats\n",
      "for f in feats:\n",
      "    if f=='other_avg' or '_' not in f:\n",
      "        finalfeats.append(f)\n",
      "    else:\n",
      "        finalfeats.append(f+'description')\n",
      "        finalfeats.append(f+'commentsmerged')\n"
     ],
     "language": "python",
     "metadata": {},
     "outputs": [
      {
       "output_type": "stream",
       "stream": "stdout",
       "text": [
        "19\n",
        "['ledge_', 'boulder_', 'pageviews', 'corner_', 'crux_', 'jug_', 'traverse_', 'arete_', 'pitch', 'easy_', 'numerizedgrade', 'crack_', 'crimp_', 'beginner_', 'slab_', 'hard_', 'pump_', 'steep_', 'take_']\n"
       ]
      }
     ],
     "prompt_number": 96
    },
    {
     "cell_type": "heading",
     "level": 3,
     "metadata": {},
     "source": [
      "Assess predictive power of combined with reduced text space"
     ]
    },
    {
     "cell_type": "code",
     "collapsed": false,
     "input": [
      "%autoreload\n",
      "name='combined_reduced'\n",
      "clf=mo.classifier('rfc')\n",
      "clf.n_estimators=40\n",
      "cfeatures=list(like_mat.columns)+finalfeats\n",
      "cfeatures.remove('climbid')\n",
      "sfeatures=['other_avg']\n",
      "print \"classifying using %s features\" %(len(cfeatures)+len(sfeatures))\n",
      "full_ndf=ndf[['climbid']+finalfeats]\n",
      "full_ndf=pd.merge(full_ndf, like_mat, on='climbid', how='inner')\n",
      "full_ndf.index=full_ndf['climbid'].values\n",
      "full_ndf=full_ndf[full_ndf['climbid'].isin(sdf.climb.unique())]\n",
      "full_ndf=full_ndf.dropna()\n",
      "summarydf, resultsdf, informativefeats=mo.classify(clf,users, sfeatures, cfeatures, full_ndf, usesdf, minratings=minratings, dropself=True, datadir=projdir)\n",
      "resultsdict[name]=[summarydf, resultsdf]"
     ],
     "language": "python",
     "metadata": {},
     "outputs": [
      {
       "output_type": "stream",
       "stream": "stdout",
       "text": [
        "classifying using 141 features\n"
       ]
      }
     ],
     "prompt_number": 97
    },
    {
     "cell_type": "code",
     "collapsed": false,
     "input": [
      "print \"classifying with %s\" %name\n",
      "summarydf, resultsdf=resultsdict[name]\n",
      "viz.plotresults(resultsdf, 'true_rating', 'feat_pred')\n",
      "acc, precision, recall, f1=mo.round2score(resultsdf, 'true_rating', 'feat_pred')\n",
      "precisiondf=resultsdf[resultsdf['feat_pred']==4] #TP/TP+FP\n",
      "np.mean([precisiondf['feat_pred']==precisiondf['true_rating']])"
     ],
     "language": "python",
     "metadata": {},
     "outputs": [
      {
       "output_type": "stream",
       "stream": "stdout",
       "text": [
        "classifying with combined_reduced\n"
       ]
      },
      {
       "metadata": {},
       "output_type": "display_data",
       "png": "[encoded data removed]",
       "text": [
        "<matplotlib.figure.Figure at 0x11683bd90>"
       ]
      },
      {
       "output_type": "stream",
       "stream": "stdout",
       "text": [
        "4 way accuracy 0.763\n",
        "4 way f1 0.748\n",
        "4 way precision 0.763\n",
        "4 way recall 0.763\n"
       ]
      },
      {
       "metadata": {},
       "output_type": "pyout",
       "prompt_number": 101,
       "text": [
        "0.81132075471698117"
       ]
      }
     ],
     "prompt_number": 101
    },
    {
     "cell_type": "heading",
     "level": 3,
     "metadata": {},
     "source": [
      "Assess predictive power of reduced text space alone\n"
     ]
    },
    {
     "cell_type": "code",
     "collapsed": false,
     "input": [
      "%autoreload\n",
      "name='reduced'\n",
      "clf=mo.classifier('rfc')\n",
      "clf.n_estimators=40\n",
      "cfeatures=finalfeats\n",
      "sfeatures=['other_avg']\n",
      "print \"classifying using %s features\" %(len(cfeatures)+len(sfeatures))\n",
      "full_ndf=ndf[['climbid']+finalfeats]\n",
      "full_ndf.index=full_ndf['climbid'].values\n",
      "full_ndf=full_ndf[full_ndf['climbid'].isin(sdf.climb.unique())]\n",
      "full_ndf=full_ndf.dropna()\n",
      "summarydf, resultsdf, informativefeats=mo.classify(clf,users, sfeatures, cfeatures, full_ndf, usesdf, minratings=minratings, dropself=True, datadir=projdir)\n",
      "resultsdict[name]=[summarydf, resultsdf]"
     ],
     "language": "python",
     "metadata": {},
     "outputs": [
      {
       "output_type": "stream",
       "stream": "stdout",
       "text": [
        "classifying using 36 features\n"
       ]
      }
     ],
     "prompt_number": 102
    },
    {
     "cell_type": "code",
     "collapsed": false,
     "input": [
      "print \"classifying with %s\" %name\n",
      "summarydf, resultsdf=resultsdict[name]\n",
      "viz.plotresults(resultsdf, 'true_rating', 'feat_pred')\n",
      "acc, precision, recall, f1=mo.round2score(resultsdf, 'true_rating', 'feat_pred')"
     ],
     "language": "python",
     "metadata": {},
     "outputs": [
      {
       "output_type": "stream",
       "stream": "stdout",
       "text": [
        "classifying with reduced\n"
       ]
      },
      {
       "metadata": {},
       "output_type": "display_data",
       "png": "[encoded data removed]",
       "text": [
        "<matplotlib.figure.Figure at 0x1158bcfd0>"
       ]
      },
      {
       "output_type": "stream",
       "stream": "stdout",
       "text": [
        "4 way accuracy 0.565\n",
        "4 way f1 0.563\n",
        "4 way precision 0.567\n",
        "4 way recall 0.565\n"
       ]
      }
     ],
     "prompt_number": 103
    },
    {
     "cell_type": "heading",
     "level": 3,
     "metadata": {},
     "source": [
      "Save all features and reduced space of features (to use with CA data)"
     ]
    },
    {
     "cell_type": "code",
     "collapsed": false,
     "input": [
      "featdict={'alltextfeats':descripfeats+commentfeats+numericfeats, 'reducedtextfeats':finalfeats}"
     ],
     "language": "python",
     "metadata": {},
     "outputs": [],
     "prompt_number": 104
    },
    {
     "cell_type": "code",
     "collapsed": false,
     "input": [
      "uf.pickletheseobjects(os.path.join(projdir,'learnedfeatures.pkl'),[featdict])"
     ],
     "language": "python",
     "metadata": {},
     "outputs": [],
     "prompt_number": 105
    },
    {
     "cell_type": "code",
     "collapsed": false,
     "input": [],
     "language": "python",
     "metadata": {},
     "outputs": [],
     "prompt_number": 105
    },
    {
     "cell_type": "code",
     "collapsed": false,
     "input": [],
     "language": "python",
     "metadata": {},
     "outputs": [],
     "prompt_number": 105
    },
    {
     "cell_type": "code",
     "collapsed": false,
     "input": [],
     "language": "python",
     "metadata": {},
     "outputs": []
    },
    {
     "cell_type": "code",
     "collapsed": false,
     "input": [],
     "language": "python",
     "metadata": {},
     "outputs": []
    }
   ],
   "metadata": {}
  }
 ]
}