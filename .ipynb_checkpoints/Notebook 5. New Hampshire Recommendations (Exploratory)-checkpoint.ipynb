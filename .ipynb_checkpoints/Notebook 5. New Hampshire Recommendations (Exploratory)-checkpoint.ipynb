{
 "metadata": {
  "name": "",
  "signature": "sha256:a0176aefd793a309d55992699294c417fdf86919f7d7dfecdb9f309b0aec79d4"
 },
 "nbformat": 3,
 "nbformat_minor": 0,
 "worksheets": [
  {
   "cells": [
    {
     "cell_type": "code",
     "collapsed": false,
     "input": [
      "pylab inline"
     ],
     "language": "python",
     "metadata": {},
     "outputs": [
      {
       "output_type": "stream",
       "stream": "stdout",
       "text": [
        "Populating the interactive namespace from numpy and matplotlib\n"
       ]
      }
     ],
     "prompt_number": 1
    },
    {
     "cell_type": "code",
     "collapsed": false,
     "input": [
      "%load_ext autoreload"
     ],
     "language": "python",
     "metadata": {},
     "outputs": [],
     "prompt_number": 2
    },
    {
     "cell_type": "heading",
     "level": 3,
     "metadata": {},
     "source": [
      "Setup"
     ]
    },
    {
     "cell_type": "code",
     "collapsed": false,
     "input": [
      "import pandas as pd\n",
      "import numpy as np\n",
      "np.random.RandomState(100)\n",
      "from sqlalchemy import create_engine\n",
      "import os\n",
      "import sys\n",
      "import scipy.stats\n",
      "\n",
      "from joblib import Parallel, delayed  \n",
      "import multiprocessing\n",
      "num_cores = multiprocessing.cpu_count()\n",
      "print \"%s cores available for parallel processing\" % num_cores\n",
      "\n",
      "sys.path.append('mpscraper')\n",
      "from mpscraper.cfgdb import cfg\n",
      "sys.path.append('antools')\n",
      "import antools.randomstuff as rd\n",
      "import antools.reduction as red\n",
      "import antools.utilities as uf\n",
      "import antools.visualization as viz\n",
      "import antools.modeling as mo\n",
      "\n",
      "import pandas as pd\n",
      "import numpy as np\n",
      "import seaborn as sns\n",
      "sns.set_style('white')\n",
      "import matplotlib.pyplot as plt\n",
      "import scipy.stats\n",
      "\n",
      "from sklearn.metrics.pairwise import pairwise_distances\n",
      "import sklearn.cross_validation\n",
      "from sklearn.ensemble import RandomForestRegressor \n",
      "from sklearn.ensemble import RandomForestClassifier \n",
      "from sklearn.linear_model import LinearRegression\n",
      "from sklearn.svm import SVC\n",
      "from sklearn.linear_model import Ridge\n",
      "from sklearn.metrics import f1_score"
     ],
     "language": "python",
     "metadata": {},
     "outputs": [
      {
       "output_type": "stream",
       "stream": "stdout",
       "text": [
        "4 cores available for parallel processing\n"
       ]
      }
     ],
     "prompt_number": 3
    },
    {
     "cell_type": "code",
     "collapsed": false,
     "input": [
      "import sys, os\n",
      "rootdir=os.getcwd()\n",
      "while 'Projects' in rootdir:\n",
      "    rootdir=os.path.dirname(rootdir)\n",
      "projdir=os.path.join(rootdir, 'Projects','cragcrunch','data')"
     ],
     "language": "python",
     "metadata": {},
     "outputs": [],
     "prompt_number": 4
    },
    {
     "cell_type": "heading",
     "level": 3,
     "metadata": {},
     "source": [
      "Load in preprocessed data"
     ]
    },
    {
     "cell_type": "code",
     "collapsed": false,
     "input": [
      "engine = create_engine('mysql://%s@%s/%s?charset=%s&use_unicode=%s&passwd=%s' %(cfg.user, cfg.host, cfg.dbname, cfg.charset, cfg.use_unicode, cfg.passwd), pool_recycle=3600)\n",
      "cdf = pd.read_sql(\"SELECT * from climb_prepped\", engine, index_col='index')\n",
      "adf = pd.read_sql(\"SELECT * from area_prepped\", engine, index_col='index')\n",
      "climbs=list(cdf.climbid.unique())\n",
      "print \"loading %s climbs\" %(len(climbs))\n",
      "cldf = pd.read_sql(\"SELECT * from climber_prepped\", engine, index_col='index')\n",
      "hdf= pd.read_sql(\"SELECT * from hits_prepped\", engine, index_col='index')\n",
      "sdf= pd.read_sql(\"SELECT * from stars_prepped\", engine, index_col='index')\n",
      "gdf= pd.read_sql(\"SELECT * from grades_prepped\", engine, index_col='index')\n",
      "codf= pd.read_sql(\"SELECT * from comments_prepped\", engine, index_col='index')\n",
      "tdf= pd.read_sql(\"SELECT * from ticks_prepped\", engine, index_col='index')"
     ],
     "language": "python",
     "metadata": {},
     "outputs": [
      {
       "output_type": "stream",
       "stream": "stdout",
       "text": [
        "loading 9600 climbs\n"
       ]
      }
     ],
     "prompt_number": 5
    },
    {
     "cell_type": "code",
     "collapsed": false,
     "input": [
      "like_mat= pd.read_sql(\"SELECT * from like_matrix\", engine, index_col='index')\n",
      "star_mat= pd.read_sql(\"SELECT * from star_matrix\", engine, index_col='index')"
     ],
     "language": "python",
     "metadata": {},
     "outputs": [],
     "prompt_number": 6
    },
    {
     "cell_type": "code",
     "collapsed": false,
     "input": [
      "minratings=5\n",
      "users=sdf[sdf['climb'].isin(climbs)]['climber'].unique().astype(int)\n",
      "users=[u for u in users if u in cldf.climberid.values]\n",
      "print \"starting with %s users\" %len(users)\n",
      "users=[u for u in users if len(sdf[sdf['climber']==u]['climb'].values)>=minratings]\n",
      "usesdf=sdf[sdf['climber'].isin(users)]\n",
      "usesdf['other_rounded']=[np.round(val) for val in usesdf['other_avg']]\n",
      "usesdf=usesdf[(usesdf['starsscore']>0) & (usesdf['other_rounded']>0)]\n",
      "usesdf['climbid']=usesdf['climb']\n",
      "print \"reducing to %s users who have greater than or equal to %s ratings provided\" %(len(users), minratings)"
     ],
     "language": "python",
     "metadata": {},
     "outputs": [
      {
       "output_type": "stream",
       "stream": "stdout",
       "text": [
        "starting with 123 users\n",
        "reducing to 77 users who have greater than or equal to 5 ratings provided"
       ]
      },
      {
       "output_type": "stream",
       "stream": "stdout",
       "text": [
        "\n"
       ]
      },
      {
       "output_type": "stream",
       "stream": "stderr",
       "text": [
        "-c:7: SettingWithCopyWarning: \n",
        "A value is trying to be set on a copy of a slice from a DataFrame.\n",
        "Try using .loc[row_indexer,col_indexer] = value instead\n",
        "\n",
        "See the the caveats in the documentation: http://pandas.pydata.org/pandas-docs/stable/indexing.html#indexing-view-versus-copy\n"
       ]
      }
     ],
     "prompt_number": 7
    },
    {
     "cell_type": "heading",
     "level": 3,
     "metadata": {},
     "source": [
      "Prep text features"
     ]
    },
    {
     "cell_type": "code",
     "collapsed": false,
     "input": [
      "%autoreload\n",
      "allterms, alltermsdict, descripfeats, commentfeats, ndf=uf.gettextfeats(cdf)\n",
      "ndf=ndf[ndf['climbid'].isin(usesdf['climb'].unique())]"
     ],
     "language": "python",
     "metadata": {},
     "outputs": [],
     "prompt_number": 77
    },
    {
     "cell_type": "heading",
     "level": 3,
     "metadata": {},
     "source": [
      "Quick visualization of the data"
     ]
    },
    {
     "cell_type": "code",
     "collapsed": false,
     "input": [
      "#how are stars dstributed()\n",
      "f,ax=plt.subplots(figsize=[4,3])\n",
      "usesdf.groupby('starsscore').count().climb.plot(kind='bar', grid=False,ax=ax)\n",
      "ax.set_ylabel('counts')\n",
      "sns.despine()"
     ],
     "language": "python",
     "metadata": {},
     "outputs": [
      {
       "metadata": {},
       "output_type": "display_data",
       "png": "[encoded data removed]",
       "text": [
        "<matplotlib.figure.Figure at 0x10c9cff10>"
       ]
      }
     ],
     "prompt_number": 78
    },
    {
     "cell_type": "code",
     "collapsed": false,
     "input": [
      "#how many climbs per climber?\n",
      "f,ax=plt.subplots(figsize=[4,3])\n",
      "usesdf.groupby('climber').count().climb.hist(bins=20, grid=False,ax=ax)\n",
      "ax.set_ylabel('frequency')\n",
      "sns.despine()"
     ],
     "language": "python",
     "metadata": {},
     "outputs": [
      {
       "metadata": {},
       "output_type": "display_data",
       "png": "[encoded data removed]",
       "text": [
        "<matplotlib.figure.Figure at 0x10725bf90>"
       ]
      }
     ],
     "prompt_number": 79
    },
    {
     "cell_type": "code",
     "collapsed": false,
     "input": [
      "#how many climbers per climb?\n",
      "f,ax=plt.subplots(figsize=[4,3])\n",
      "usesdf.groupby('climb').count().climber.hist(bins=20, grid=False,ax=ax)\n",
      "ax.set_ylabel('frequency')\n",
      "sns.despine()"
     ],
     "language": "python",
     "metadata": {},
     "outputs": [
      {
       "metadata": {},
       "output_type": "display_data",
       "png": "[encoded data removed]",
       "text": [
        "<matplotlib.figure.Figure at 0x10c04c050>"
       ]
      }
     ],
     "prompt_number": 80
    },
    {
     "cell_type": "heading",
     "level": 2,
     "metadata": {},
     "source": [
      "Model Comparison"
     ]
    },
    {
     "cell_type": "markdown",
     "metadata": {},
     "source": [
      "I'll start with some really naive models that can serve as baselines I want to beat"
     ]
    },
    {
     "cell_type": "heading",
     "level": 3,
     "metadata": {},
     "source": [
      "Absolute dumbest model guesses randomly"
     ]
    },
    {
     "cell_type": "code",
     "collapsed": false,
     "input": [
      "dumbdf=pd.DataFrame(data={'starsscore':usesdf['starsscore'],'random':[np.random.choice(range(1,5)) for x in range(len(usesdf))]})\n",
      "acc, precision, recall, f1=mo.round2score(dumbdf, 'starsscore', 'random')\n",
      "propdf=viz.plotresults(dumbdf, 'starsscore', 'random')"
     ],
     "language": "python",
     "metadata": {},
     "outputs": [
      {
       "output_type": "stream",
       "stream": "stdout",
       "text": [
        "4 way accuracy 0.248\n",
        "4 way f1 0.259\n",
        "4 way precision 0.285\n",
        "4 way recall 0.248\n"
       ]
      },
      {
       "metadata": {},
       "output_type": "display_data",
       "png": "[encoded data removed]",
       "text": [
        "<matplotlib.figure.Figure at 0x10fbfe250>"
       ]
      }
     ],
     "prompt_number": 81
    },
    {
     "cell_type": "heading",
     "level": 3,
     "metadata": {},
     "source": [
      "Another really dumb model guesses most frequent rating label"
     ]
    },
    {
     "cell_type": "code",
     "collapsed": false,
     "input": [
      "mode=scipy.stats.mode(usesdf['starsscore'].values)[0][0]\n",
      "modedf=pd.DataFrame(data={'starsscore':usesdf['starsscore'].values, 'mostfrequent':[mode for x in range(len(usesdf))]})\n",
      "acc, precision, recall, f1=mo.round2score(modedf, 'starsscore', 'mostfrequent')\n",
      "propdf=viz.plotresults(modedf, 'starsscore', 'mostfrequent')"
     ],
     "language": "python",
     "metadata": {},
     "outputs": [
      {
       "output_type": "stream",
       "stream": "stdout",
       "text": [
        "4 way accuracy 0.345\n",
        "4 way f1 0.177\n",
        "4 way precision 0.119\n",
        "4 way recall 0.345\n"
       ]
      },
      {
       "metadata": {},
       "output_type": "display_data",
       "png": "[encoded data removed]",
       "text": [
        "<matplotlib.figure.Figure at 0x110905e50>"
       ]
      }
     ],
     "prompt_number": 82
    },
    {
     "cell_type": "heading",
     "level": 3,
     "metadata": {},
     "source": [
      "A sliiiightly less dumb model guesses the target's most frequently used label (mode of their ratings on other items)"
     ]
    },
    {
     "cell_type": "code",
     "collapsed": false,
     "input": [
      "def getavg(starid, climber, sdf=None):\n",
      "    udf=sdf[(sdf['climber']==climber) & (sdf['starid']!=starid)]\n",
      "    return udf['starsscore'].mean()\n",
      "usesdf['user_avg']=usesdf.apply(lambda x:getavg(x['starid'], x['climber'], sdf=usesdf), axis=1)\n",
      "usesdf['rounded_user_avg']=[np.round(x) for x in usesdf.user_avg.values]"
     ],
     "language": "python",
     "metadata": {},
     "outputs": [],
     "prompt_number": 83
    },
    {
     "cell_type": "code",
     "collapsed": false,
     "input": [
      "%autoreload\n",
      "acc, precision, recall, f1=mo.round2score(usesdf, 'starsscore', 'rounded_user_avg')\n",
      "propdf=viz.plotresults(usesdf, 'starsscore', 'rounded_user_avg')"
     ],
     "language": "python",
     "metadata": {},
     "outputs": [
      {
       "output_type": "stream",
       "stream": "stdout",
       "text": [
        "4 way accuracy 0.406\n",
        "4 way f1 0.370\n",
        "4 way precision 0.453\n",
        "4 way recall 0.406\n"
       ]
      },
      {
       "metadata": {},
       "output_type": "display_data",
       "png": "[encoded data removed]",
       "text": [
        "<matplotlib.figure.Figure at 0x110560510>"
       ]
      }
     ],
     "prompt_number": 84
    },
    {
     "cell_type": "heading",
     "level": 3,
     "metadata": {},
     "source": [
      "A really simple model makes recommendations based on the ratings of the full remaining group"
     ]
    },
    {
     "cell_type": "code",
     "collapsed": false,
     "input": [
      "%autoreload\n",
      "acc, precision, recall, f1=mo.round2score(usesdf, 'starsscore', 'other_rounded')\n",
      "propdf=viz.plotresults(usesdf, 'starsscore', 'other_rounded')"
     ],
     "language": "python",
     "metadata": {},
     "outputs": [
      {
       "output_type": "stream",
       "stream": "stdout",
       "text": [
        "4 way accuracy 0.565\n",
        "4 way f1 0.563\n",
        "4 way precision 0.573\n",
        "4 way recall 0.565\n"
       ]
      },
      {
       "metadata": {},
       "output_type": "display_data",
       "png": "[encoded data removed]",
       "text": [
        "<matplotlib.figure.Figure at 0x11096d390>"
       ]
      }
     ],
     "prompt_number": 85
    },
    {
     "cell_type": "heading",
     "level": 3,
     "metadata": {},
     "source": [
      "CAN I OUTPERFORM THIS?"
     ]
    },
    {
     "cell_type": "code",
     "collapsed": false,
     "input": [
      "#set general model params\n",
      "clf=mo.classifier('rfc')"
     ],
     "language": "python",
     "metadata": {},
     "outputs": [],
     "prompt_number": 86
    },
    {
     "cell_type": "heading",
     "level": 3,
     "metadata": {},
     "source": [
      "A smart model might use attributes of other climbs the user likes"
     ]
    },
    {
     "cell_type": "code",
     "collapsed": false,
     "input": [
      "%autoreload\n",
      "resultsdict={}\n",
      "numericfeats=['pitch','pageviews','numerizedgrade']\n",
      "for name in alltermsdict.keys():\n",
      "    cfeatures=descripfeats+commentfeats+numericfeats\n",
      "    sfeatures=[]\n",
      "    print \"classifying using %s features\" %(len(cfeatures)+len(sfeatures))\n",
      "    this_ndf=ndf[['climbid']+cfeatures].dropna()\n",
      "    print this_ndf.shape\n",
      "    summarydf, resultsdf, emptyfeats=mo.classify(clf,users, sfeatures, cfeatures, this_ndf, usesdf, minratings=10)\n",
      "    resultsdict[name]=[summarydf, resultsdf]\n",
      "\n"
     ],
     "language": "python",
     "metadata": {},
     "outputs": [
      {
       "output_type": "stream",
       "stream": "stdout",
       "text": [
        "classifying using 163 features\n",
        "(2217, 164)\n",
        "classifying using 163 features"
       ]
      },
      {
       "output_type": "stream",
       "stream": "stdout",
       "text": [
        "\n",
        "(2217, 164)\n",
        "classifying using 163 features"
       ]
      },
      {
       "output_type": "stream",
       "stream": "stdout",
       "text": [
        "\n",
        "(2217, 164)\n",
        "classifying using 163 features"
       ]
      },
      {
       "output_type": "stream",
       "stream": "stdout",
       "text": [
        "\n",
        "(2217, 164)\n",
        "classifying using 163 features"
       ]
      },
      {
       "output_type": "stream",
       "stream": "stdout",
       "text": [
        "\n",
        "(2217, 164)\n",
        "classifying using 163 features"
       ]
      },
      {
       "output_type": "stream",
       "stream": "stdout",
       "text": [
        "\n",
        "(2217, 164)\n"
       ]
      }
     ],
     "prompt_number": 87
    },
    {
     "cell_type": "code",
     "collapsed": false,
     "input": [
      "%autoreload\n",
      "for name in resultsdict.keys():\n",
      "    print \"\"\n",
      "    print \"classifying with %s\" %name\n",
      "    summarydf, resultsdf=resultsdict[name]\n",
      "    viz.plotresults(resultsdf, 'true_rating', 'feat_pred')\n",
      "    acc, precision, recall, f1=mo.round2score(resultsdf, 'true_rating', 'feat_pred')"
     ],
     "language": "python",
     "metadata": {},
     "outputs": [
      {
       "output_type": "stream",
       "stream": "stdout",
       "text": [
        "\n",
        "classifying with holdterms\n"
       ]
      },
      {
       "metadata": {},
       "output_type": "display_data",
       "png": "[encoded data removed]",
       "text": [
        "<matplotlib.figure.Figure at 0x10b5a1950>"
       ]
      },
      {
       "output_type": "stream",
       "stream": "stdout",
       "text": [
        "4 way accuracy 0.461\n",
        "4 way f1 0.458\n",
        "4 way precision 0.462\n",
        "4 way recall 0.461\n",
        "\n",
        "classifying with descriptors\n"
       ]
      },
      {
       "metadata": {},
       "output_type": "display_data",
       "png": "[encoded data removed]",
       "text": [
        "<matplotlib.figure.Figure at 0x110579a90>"
       ]
      },
      {
       "output_type": "stream",
       "stream": "stdout",
       "text": [
        "4 way accuracy 0.471\n",
        "4 way f1 0.468\n",
        "4 way precision 0.472\n",
        "4 way recall 0.471\n",
        "\n",
        "classifying with allterms\n"
       ]
      },
      {
       "metadata": {},
       "output_type": "display_data",
       "png": "[encoded data removed]",
       "text": [
        "<matplotlib.figure.Figure at 0x1105711d0>"
       ]
      },
      {
       "output_type": "stream",
       "stream": "stdout",
       "text": [
        "4 way accuracy 0.464\n",
        "4 way f1 0.459\n",
        "4 way precision 0.462\n",
        "4 way recall 0.464\n",
        "\n",
        "classifying with safety\n"
       ]
      },
      {
       "metadata": {},
       "output_type": "display_data",
       "png": "[encoded data removed]",
       "text": [
        "<matplotlib.figure.Figure at 0x10b4788d0>"
       ]
      },
      {
       "output_type": "stream",
       "stream": "stdout",
       "text": [
        "4 way accuracy 0.458\n",
        "4 way f1 0.455\n",
        "4 way precision 0.460\n",
        "4 way recall 0.458\n",
        "\n",
        "classifying with rockterms\n"
       ]
      },
      {
       "metadata": {},
       "output_type": "display_data",
       "png": "[encoded data removed]",
       "text": [
        "<matplotlib.figure.Figure at 0x1105b0a90>"
       ]
      },
      {
       "output_type": "stream",
       "stream": "stdout",
       "text": [
        "4 way accuracy 0.470\n",
        "4 way f1 0.467\n",
        "4 way precision 0.471\n",
        "4 way recall 0.470\n",
        "\n",
        "classifying with easeterms\n"
       ]
      },
      {
       "metadata": {},
       "output_type": "display_data",
       "png": "[encoded data removed]",
       "text": [
        "<matplotlib.figure.Figure at 0x110980e90>"
       ]
      },
      {
       "output_type": "stream",
       "stream": "stdout",
       "text": [
        "4 way accuracy 0.472\n",
        "4 way f1 0.470\n",
        "4 way precision 0.474\n",
        "4 way recall 0.472\n"
       ]
      }
     ],
     "prompt_number": 88
    },
    {
     "cell_type": "heading",
     "level": 3,
     "metadata": {},
     "source": [
      "A smart model might also use the ratings of climbers"
     ]
    },
    {
     "cell_type": "markdown",
     "metadata": {},
     "source": [
      "Specifically, we can include as features the ratings of each climb by each other user (here using a binarized \"like\" matrix). In contrast to using the group average, training on each individual climber's ratings allows the model to learn which other climber's ratings are most predictive of the target's."
     ]
    },
    {
     "cell_type": "code",
     "collapsed": false,
     "input": [
      "clf=mo.classifier('rfc')"
     ],
     "language": "python",
     "metadata": {},
     "outputs": [],
     "prompt_number": 89
    },
    {
     "cell_type": "code",
     "collapsed": false,
     "input": [
      "%autoreload\n",
      "name='user_sim'\n",
      "cfeatures=list(like_mat.columns.values)\n",
      "cfeatures.remove('climbid')\n",
      "sfeatures=[]\n",
      "print \"classifying using %s features\" %(len(cfeatures)+len(sfeatures))\n",
      "summarydf, resultsdf, emptyfeats=mo.classify(clf,users, sfeatures, cfeatures, like_mat, usesdf, minratings=10, dropself=True)\n",
      "resultsdict[name]=[summarydf, resultsdf]\n"
     ],
     "language": "python",
     "metadata": {},
     "outputs": [
      {
       "output_type": "stream",
       "stream": "stdout",
       "text": [
        "classifying using 105 features\n"
       ]
      }
     ],
     "prompt_number": 90
    },
    {
     "cell_type": "code",
     "collapsed": false,
     "input": [
      "%autoreload\n",
      "for name in ['user_sim']:\n",
      "    print \"classifying with %s\" %name\n",
      "    summarydf, resultsdf=resultsdict[name]\n",
      "    viz.plotresults(resultsdf, 'true_rating', 'feat_pred')\n",
      "    acc, precision, recall, f1=mo.round2score(resultsdf, 'true_rating', 'feat_pred')"
     ],
     "language": "python",
     "metadata": {},
     "outputs": [
      {
       "output_type": "stream",
       "stream": "stdout",
       "text": [
        "classifying with user_sim\n"
       ]
      },
      {
       "metadata": {},
       "output_type": "display_data",
       "png": "[encoded data removed]",
       "text": [
        "<matplotlib.figure.Figure at 0x110580750>"
       ]
      },
      {
       "output_type": "stream",
       "stream": "stdout",
       "text": [
        "4 way accuracy 0.684\n",
        "4 way f1 0.650\n",
        "4 way precision 0.649\n",
        "4 way recall 0.684\n"
       ]
      }
     ],
     "prompt_number": 91
    },
    {
     "cell_type": "heading",
     "level": 3,
     "metadata": {},
     "source": [
      "Combining all features"
     ]
    },
    {
     "cell_type": "code",
     "collapsed": false,
     "input": [
      "clf=mo.classifier('rfc')"
     ],
     "language": "python",
     "metadata": {},
     "outputs": [],
     "prompt_number": 92
    },
    {
     "cell_type": "code",
     "collapsed": false,
     "input": [
      "%autoreload\n",
      "name='combined'\n",
      "cfeatures=list(like_mat.columns)+descripfeats+commentfeats+numericfeats\n",
      "cfeatures.remove('climbid')\n",
      "sfeatures=['other_avg']\n",
      "print \"classifying using %s features\" %(len(cfeatures)+len(sfeatures))\n",
      "full_ndf=ndf[['climbid']+descripfeats+commentfeats+numericfeats]\n",
      "full_ndf=pd.merge(full_ndf, like_mat, on='climbid', how='inner')\n",
      "full_ndf.index=full_ndf['climbid'].values\n",
      "full_ndf=full_ndf[full_ndf['climbid'].isin(sdf.climb.unique())]\n",
      "full_ndf=full_ndf.dropna()\n",
      "summarydf, resultsdf, emptyfeats=mo.classify(clf,users, sfeatures, cfeatures, full_ndf, usesdf, minratings=10, dropself=True, datadir=projdir)\n",
      "resultsdict[name]=[summarydf, resultsdf]"
     ],
     "language": "python",
     "metadata": {},
     "outputs": [
      {
       "output_type": "stream",
       "stream": "stdout",
       "text": [
        "classifying using 269 features\n"
       ]
      }
     ],
     "prompt_number": 93
    },
    {
     "cell_type": "code",
     "collapsed": false,
     "input": [
      "%autoreload\n",
      "for name in ['combined']:\n",
      "    print \"classifying with %s\" %name\n",
      "    summarydf, resultsdf=resultsdict[name]\n",
      "    viz.plotresults(resultsdf, 'true_rating', 'feat_pred')\n",
      "    acc, precision, recall, f1=mo.round2score(resultsdf, 'true_rating', 'feat_pred')"
     ],
     "language": "python",
     "metadata": {},
     "outputs": [
      {
       "output_type": "stream",
       "stream": "stdout",
       "text": [
        "classifying with combined\n"
       ]
      },
      {
       "metadata": {},
       "output_type": "display_data",
       "png": "[encoded data removed]",
       "text": [
        "<matplotlib.figure.Figure at 0x1105a2850>"
       ]
      },
      {
       "output_type": "stream",
       "stream": "stdout",
       "text": [
        "4 way accuracy 0.675\n",
        "4 way f1 0.663\n",
        "4 way precision 0.663\n",
        "4 way recall 0.675\n"
       ]
      }
     ],
     "prompt_number": 94
    },
    {
     "cell_type": "heading",
     "level": 3,
     "metadata": {},
     "source": [
      "Model optimization"
     ]
    },
    {
     "cell_type": "markdown",
     "metadata": {},
     "source": [
      "The analyses above suggest that we want to build a model that incorporates three kinds of information: \n",
      "- climb attributes \n",
      "- overall climb popularity\n",
      "- ratings of individual users (e.g. preferences of similar climbers)\n",
      "\n",
      "A model that naively combines these features does reasonably well, but I can try to improve performance by toggling the following:\n",
      "- algorithm (RFC vs. SVM vs. Logistic Regression)\n",
      "- features (try dimensionality reduction/feature selection methods)\n",
      "- model parameters (e.g. C param if using SVM)"
     ]
    },
    {
     "cell_type": "heading",
     "level": 3,
     "metadata": {},
     "source": [
      "Which algorithm? (conceptual)"
     ]
    },
    {
     "cell_type": "heading",
     "level": 4,
     "metadata": {},
     "source": [
      "Random Forest:"
     ]
    },
    {
     "cell_type": "markdown",
     "metadata": {},
     "source": [
      "- pros:\n",
      "    -provides interpretable feature importances\n",
      "    -handles large #s features\n",
      "    -handles diverse feature types (i.e. continuous and categorical)\n",
      "    -efficient with large dataset\n",
      "- cons:\n",
      "    - can be prone to overfitting\n",
      "    - decision rules can be complex and unintuitive\n",
      "- parameters to set:\n",
      "    - n_estimators : The number of trees in the forest.\n",
      "    - criterion : measure of quality of a split... Gini impurity(\u201cgini\u201d) vs information gain (\"entropy\")\n",
      "    - max_features: # of features to use when looking for  best split:\n",
      "        - float --> max_features is a percentage of n_features \n",
      "        - 'auto' --> sqrt(n_features).\n",
      "        - 'log2' --> log2(n_features).\n",
      "        - None --> max_features=n_features."
     ]
    },
    {
     "cell_type": "heading",
     "level": 4,
     "metadata": {},
     "source": [
      "SVM:"
     ]
    },
    {
     "cell_type": "markdown",
     "metadata": {},
     "source": [
      "- pros:\n",
      "    - efficient in high-d spaces\n",
      "    - given well separable classes, focus on the points near the boundary (support vectors) rather than all data points (as in MLE) optimizes best hyperplan\n",
      "- cons: \n",
      "    - weights/coefficients not very interpretable\n",
      "    - not naturally multiclass (must do one vs one or one vs all which each binary class)\n",
      "    - rbf kernels generally power powerful, but not appropriate for text classification problems\n",
      "- parameters to set:\n",
      "    - C param\n",
      "    - kernel\n",
      "    - if non-linear kernel: gamma"
     ]
    },
    {
     "cell_type": "heading",
     "level": 4,
     "metadata": {},
     "source": [
      "Multinomial Logistic Regression"
     ]
    },
    {
     "cell_type": "markdown",
     "metadata": {},
     "source": [
      "\n",
      "- pros:\n",
      "    - simple\n",
      "    - interpretable coefficients\n",
      "- cons:\n",
      "    - performs best with low number of dimensions \n",
      "    - best suited for cases where classes aren't well separable (i.e. predictors provide only probabilistic estimate of class), as it won't find plane with optimal margin amongst separating boundaries\n",
      "- parameters to set:\n",
      "    - penalty: regularization parameter ('l1' or 'l2')\n",
      "    - C param (like for SVM... smaller values --> stronger regularization)"
     ]
    },
    {
     "cell_type": "heading",
     "level": 3,
     "metadata": {},
     "source": [
      "Which algorithm? (empirical)"
     ]
    },
    {
     "cell_type": "code",
     "collapsed": false,
     "input": [
      "#RFC\n",
      "%autoreload\n",
      "clf=mo.classifier('rfc')\n",
      "name='combined_rfc'\n",
      "print \"classifying using %s features\" %(len(cfeatures)+len(sfeatures))\n",
      "summarydf, resultsdf, emptyfeats=mo.classify(clf,users, sfeatures, cfeatures, full_ndf, usesdf, minratings=10, dropself=True)\n",
      "resultsdict[name]=[summarydf, resultsdf]"
     ],
     "language": "python",
     "metadata": {},
     "outputs": [
      {
       "output_type": "stream",
       "stream": "stdout",
       "text": [
        "classifying using 268 features\n"
       ]
      }
     ],
     "prompt_number": 54
    },
    {
     "cell_type": "code",
     "collapsed": false,
     "input": [
      "#RFC\n",
      "%autoreload\n",
      "clf=mo.classifier('svm')\n",
      "name='combined_svm'\n",
      "print \"classifying using %s features\" %(len(cfeatures)+len(sfeatures))\n",
      "summarydf, resultsdf, emptyfeats=mo.classify(clf,users, sfeatures, cfeatures, full_ndf, usesdf, minratings=10, dropself=True)\n",
      "resultsdict[name]=[summarydf, resultsdf]"
     ],
     "language": "python",
     "metadata": {},
     "outputs": [
      {
       "output_type": "stream",
       "stream": "stdout",
       "text": [
        "classifying using 268 features\n"
       ]
      }
     ],
     "prompt_number": 56
    },
    {
     "cell_type": "code",
     "collapsed": false,
     "input": [
      "#multinomial logistic\n",
      "clf=mo.classifier('logistic')\n",
      "name='combined_logistic'\n",
      "print \"classifying using %s features\" %(len(cfeatures)+len(sfeatures))\n",
      "summarydf, resultsdf, emptyfeats=mo.classify(clf,users, sfeatures, cfeatures, full_ndf, usesdf, minratings=10, dropself=True)\n",
      "resultsdict[name]=[summarydf, resultsdf]"
     ],
     "language": "python",
     "metadata": {},
     "outputs": [
      {
       "output_type": "stream",
       "stream": "stdout",
       "text": [
        "classifying using 268 features\n"
       ]
      }
     ],
     "prompt_number": 57
    },
    {
     "cell_type": "code",
     "collapsed": false,
     "input": [
      "for name in ['combined_rfc','combined_svm','combined_logistic', 'combined_naivebayes']:\n",
      "    print \"\"\n",
      "    print \"classifying with %s\" %name\n",
      "    summarydf, resultsdf=resultsdict[name]\n",
      "    viz.plotresults(resultsdf, 'true_rating', 'feat_pred')\n",
      "    acc, precision, recall, f1=mo.round2score(resultsdf, 'true_rating', 'feat_pred')"
     ],
     "language": "python",
     "metadata": {},
     "outputs": [
      {
       "output_type": "stream",
       "stream": "stdout",
       "text": [
        "classifying with combined_rfc\n"
       ]
      },
      {
       "metadata": {},
       "output_type": "display_data",
       "png": "[encoded data removed]",
       "text": [
        "<matplotlib.figure.Figure at 0x10dffaf90>"
       ]
      },
      {
       "output_type": "stream",
       "stream": "stdout",
       "text": [
        "4 way accuracy 0.700\n",
        "4 way f1 0.686\n",
        "4 way precision 0.685\n",
        "4 way recall 0.700\n",
        "classifying with combined_svm\n"
       ]
      },
      {
       "metadata": {},
       "output_type": "display_data",
       "png": "[encoded data removed]",
       "text": [
        "<matplotlib.figure.Figure at 0x10e23b410>"
       ]
      },
      {
       "output_type": "stream",
       "stream": "stdout",
       "text": [
        "4 way accuracy 0.661\n",
        "4 way f1 0.652\n",
        "4 way precision 0.646\n",
        "4 way recall 0.661\n",
        "classifying with combined_logistic\n"
       ]
      },
      {
       "metadata": {},
       "output_type": "display_data",
       "png": "[encoded data removed]",
       "text": [
        "<matplotlib.figure.Figure at 0x10e23b210>"
       ]
      },
      {
       "output_type": "stream",
       "stream": "stdout",
       "text": [
        "4 way accuracy 0.631\n",
        "4 way f1 0.630\n",
        "4 way precision 0.629\n",
        "4 way recall 0.631\n",
        "classifying with combined_naivebayes\n"
       ]
      },
      {
       "metadata": {},
       "output_type": "display_data",
       "png": "[encoded data removed]",
       "text": [
        "<matplotlib.figure.Figure at 0x1101c4f90>"
       ]
      },
      {
       "output_type": "stream",
       "stream": "stdout",
       "text": [
        "4 way accuracy 0.631\n",
        "4 way f1 0.630\n",
        "4 way precision 0.629\n",
        "4 way recall 0.631\n"
       ]
      }
     ],
     "prompt_number": 59
    },
    {
     "cell_type": "markdown",
     "metadata": {},
     "source": [
      "Random Forests slightly outperforms SVM and logisic (on these data and with these fairly arbitrary parameters). Combining the advantages of RFC describe above, and it's apparently strong performance here, I'll focus subsequent analyses on random forests"
     ]
    },
    {
     "cell_type": "heading",
     "level": 3,
     "metadata": {},
     "source": [
      "Optimize parameters of chosen model"
     ]
    },
    {
     "cell_type": "code",
     "collapsed": false,
     "input": [
      "poss_n=range(1,200,10)\n",
      "results=[]\n",
      "for n in poss_n:\n",
      "    clf=mo.classifier('rfc')\n",
      "    clf.n_estimators=n\n",
      "    name='combined_rfc_n_est_%s' %(n)\n",
      "    print \"classifying using %s features\" %(len(cfeatures)+len(sfeatures))\n",
      "    summarydf, resultsdf, emptyfeats=mo.classify(clf,users, sfeatures, cfeatures, full_ndf, usesdf, minratings=10, dropself=True)\n",
      "    resultsdict[name]=[summarydf, resultsdf]\n",
      "    results.append(summarydf['score'].mean())"
     ],
     "language": "python",
     "metadata": {},
     "outputs": [
      {
       "output_type": "stream",
       "stream": "stdout",
       "text": [
        "classifying using 268 features\n",
        "classifying using 268 features"
       ]
      },
      {
       "output_type": "stream",
       "stream": "stdout",
       "text": [
        "\n",
        "classifying using 268 features"
       ]
      },
      {
       "output_type": "stream",
       "stream": "stdout",
       "text": [
        "\n",
        "classifying using 268 features"
       ]
      },
      {
       "output_type": "stream",
       "stream": "stdout",
       "text": [
        "\n",
        "classifying using 268 features"
       ]
      },
      {
       "output_type": "stream",
       "stream": "stdout",
       "text": [
        "\n",
        "classifying using 268 features"
       ]
      },
      {
       "output_type": "stream",
       "stream": "stdout",
       "text": [
        "\n",
        "classifying using 268 features"
       ]
      },
      {
       "output_type": "stream",
       "stream": "stdout",
       "text": [
        "\n",
        "classifying using 268 features"
       ]
      },
      {
       "output_type": "stream",
       "stream": "stdout",
       "text": [
        "\n",
        "classifying using 268 features"
       ]
      },
      {
       "output_type": "stream",
       "stream": "stdout",
       "text": [
        "\n",
        "classifying using 268 features"
       ]
      },
      {
       "output_type": "stream",
       "stream": "stdout",
       "text": [
        "\n",
        "classifying using 268 features"
       ]
      },
      {
       "output_type": "stream",
       "stream": "stdout",
       "text": [
        "\n",
        "classifying using 268 features"
       ]
      },
      {
       "output_type": "stream",
       "stream": "stdout",
       "text": [
        "\n",
        "classifying using 268 features"
       ]
      },
      {
       "output_type": "stream",
       "stream": "stdout",
       "text": [
        "\n",
        "classifying using 268 features"
       ]
      },
      {
       "output_type": "stream",
       "stream": "stdout",
       "text": [
        "\n",
        "classifying using 268 features"
       ]
      },
      {
       "output_type": "stream",
       "stream": "stdout",
       "text": [
        "\n",
        "classifying using 268 features"
       ]
      },
      {
       "output_type": "stream",
       "stream": "stdout",
       "text": [
        "\n",
        "classifying using 268 features"
       ]
      },
      {
       "output_type": "stream",
       "stream": "stdout",
       "text": [
        "\n",
        "classifying using 268 features"
       ]
      },
      {
       "output_type": "stream",
       "stream": "stdout",
       "text": [
        "\n",
        "classifying using 268 features"
       ]
      },
      {
       "output_type": "stream",
       "stream": "stdout",
       "text": [
        "\n",
        "classifying using 268 features"
       ]
      },
      {
       "output_type": "stream",
       "stream": "stdout",
       "text": [
        "\n"
       ]
      }
     ],
     "prompt_number": 72
    },
    {
     "cell_type": "code",
     "collapsed": false,
     "input": [
      "f,ax=plt.subplots()\n",
      "ax.plot(range(1,200,10),results)\n",
      "ax.set_xlabel('# of estimators')\n",
      "ax.set_ylabel('accuracy')"
     ],
     "language": "python",
     "metadata": {},
     "outputs": [
      {
       "metadata": {},
       "output_type": "pyout",
       "prompt_number": 78,
       "text": [
        "<matplotlib.text.Text at 0x10e30d610>"
       ]
      },
      {
       "metadata": {},
       "output_type": "display_data",
       "png": "[encoded data removed]",
       "text": [
        "<matplotlib.figure.Figure at 0x1101f5050>"
       ]
      }
     ],
     "prompt_number": 78
    },
    {
     "cell_type": "heading",
     "level": 3,
     "metadata": {},
     "source": [
      "Feature selection"
     ]
    },
    {
     "cell_type": "markdown",
     "metadata": {},
     "source": [
      "To be able to quickly incorporate new users who don't have a full climbing history, I want to identify a relatively simple, intuitive feature vector that can be used to provide predictions for a new user based on a few indicated preferences. So, I want to reduce this space of features. Many approaches to dimensionality reduction (i.e. PCA) reduce features into components that are linear combinations of the initial input space. However, the most intuitive inputs for the user are simple words like those contained in the set of a priori features."
     ]
    },
    {
     "cell_type": "heading",
     "level": 3,
     "metadata": {},
     "source": [
      "Forward stepwise iterative regression"
     ]
    },
    {
     "cell_type": "code",
     "collapsed": false,
     "input": [],
     "language": "python",
     "metadata": {},
     "outputs": []
    },
    {
     "cell_type": "code",
     "collapsed": false,
     "input": [
      "%autoreload\n",
      "avgs=ndf[descripfeats+commentfeats]\n",
      "rx=mo.iterativeregression(avgs, plotit=True, limit=75)"
     ],
     "language": "python",
     "metadata": {},
     "outputs": [
      {
       "output_type": "stream",
       "stream": "stdout",
       "text": [
        "crack_description, thin_commentsmerged, crux_commentsmerged, arete_description, hard_commentsmerged, corner_description, boulder_description, thin_description, crux_description, crack_commentsmerged, flake_description, pocket_commentsmerged, slab_description, ledge_description, steep_description, jug_description, chimney_description, hang_description, easy_description, crimp_description, crimp_commentsmerged, slab_commentsmerged, flake_commentsmerged, hard_description, boulder_commentsmerged, hang_commentsmerged, traverse_description, vertical_description, undercling_description, ledge_commentsmerged, easy_commentsmerged, jug_commentsmerged, pumpy_commentsmerged, hand crack_description, arete_commentsmerged, fall_commentsmerged, take_commentsmerged, traverse_commentsmerged, steep_commentsmerged, ramp_description, difficult_description, stiff_commentsmerged, technical_description, clipping_commentsmerged, offwidth_description, sloper_description, corner_commentsmerged, take_description, overhung_description, fall_description, beginner_commentsmerged, sloper_commentsmerged, runout_description, patina_description, sidepull_description, undercling_commentsmerged, pocket_description, thin crack_description, soft_commentsmerged, awkward_commentsmerged, dyno_description, wide crack_description, difficult_commentsmerged, chimney_commentsmerged, technical_commentsmerged, awkward_description, layback_description, pumpy_description, exciting_commentsmerged, vertical_commentsmerged, beginner_description, no pro_commentsmerged, sandbag_commentsmerged, clipping_description, pinch_description\n"
       ]
      },
      {
       "metadata": {},
       "output_type": "display_data",
       "png": "[encoded data removed]",
       "text": [
        "<matplotlib.figure.Figure at 0x1105d5090>"
       ]
      }
     ],
     "prompt_number": 75
    },
    {
     "cell_type": "markdown",
     "metadata": {},
     "source": [
      "it's reassuring that this set of features converges pretty well with that identified using feature importances from the random forest classifier"
     ]
    },
    {
     "cell_type": "markdown",
     "metadata": {},
     "source": [
      "downside of this is that it shows us what features capture independent variance across climbs, but not that these features are particularly informative of individual user prefernces. we can also look at the feature importances from the random forest algorithm to get features that are informative in classifying individual star ratings."
     ]
    },
    {
     "cell_type": "code",
     "collapsed": false,
     "input": [
      "%autoreload\n",
      "clf=mo.classifier('rfc')\n",
      "results=[]\n",
      "resutlsdict={}\n",
      "clf.n_estimators=75\n",
      "name='combined_feature_selection'\n",
      "print \"classifying using %s features\" %(len(cfeatures)+len(sfeatures))\n",
      "summarydf, resultsdf, informativefeats=mo.classify(clf,users, sfeatures, cfeatures, full_ndf, usesdf, minratings=10, dropself=True, getfeats=True)\n",
      "resultsdict[name]=[summarydf, resultsdf]\n",
      "results.append(summarydf['score'].mean())"
     ],
     "language": "python",
     "metadata": {},
     "outputs": [
      {
       "output_type": "stream",
       "stream": "stdout",
       "text": [
        "classifying using 269 features\n"
       ]
      }
     ],
     "prompt_number": 38
    },
    {
     "cell_type": "code",
     "collapsed": false,
     "input": [
      "for name in ['combined_feature_selection']:\n",
      "    print \"classifying with %s\" %name\n",
      "    summarydf, resultsdf=resultsdict[name]\n",
      "    viz.plotresults(resultsdf, 'true_rating', 'feat_pred')\n",
      "    acc, precision, recall, f1=mo.round2score(resultsdf, 'true_rating', 'feat_pred')"
     ],
     "language": "python",
     "metadata": {},
     "outputs": [
      {
       "output_type": "stream",
       "stream": "stdout",
       "text": [
        "classifying with combined_feature_selection\n"
       ]
      },
      {
       "metadata": {},
       "output_type": "display_data",
       "png": "[encoded data removed]",
       "text": [
        "<matplotlib.figure.Figure at 0x10ef55d50>"
       ]
      },
      {
       "output_type": "stream",
       "stream": "stdout",
       "text": [
        "4 way accuracy 0.707\n",
        "4 way f1 0.688\n",
        "4 way precision 0.691\n",
        "4 way recall 0.707\n"
       ]
      }
     ],
     "prompt_number": 41
    },
    {
     "cell_type": "code",
     "collapsed": false,
     "input": [
      "%autoreload\n",
      "featdf=importantfeats[[col for col in importantfeats.columns if col != 'climber']].T\n",
      "featdf['T_value']=featdf.apply(lambda x:scipy.stats.ttest_1samp(x.values, 0)[0], axis=1)\n",
      "featdf['P_value']=featdf.apply(lambda x:scipy.stats.ttest_1samp(x.values, 0)[1], axis=1)\n",
      "sorteddf=featdf.sort(columns='T_value', ascending=False).iloc[:20,:]\n",
      "sorteddf"
     ],
     "language": "python",
     "metadata": {},
     "outputs": [
      {
       "html": [
        "<div style=\"max-height:1000px;max-width:1500px;overflow:auto;\">\n",
        "<table border=\"1\" class=\"dataframe\">\n",
        "  <thead>\n",
        "    <tr style=\"text-align: right;\">\n",
        "      <th></th>\n",
        "      <th>0</th>\n",
        "      <th>1</th>\n",
        "      <th>2</th>\n",
        "      <th>3</th>\n",
        "      <th>4</th>\n",
        "      <th>5</th>\n",
        "      <th>6</th>\n",
        "      <th>7</th>\n",
        "      <th>8</th>\n",
        "      <th>9</th>\n",
        "      <th>...</th>\n",
        "      <th>39</th>\n",
        "      <th>40</th>\n",
        "      <th>41</th>\n",
        "      <th>42</th>\n",
        "      <th>43</th>\n",
        "      <th>44</th>\n",
        "      <th>45</th>\n",
        "      <th>46</th>\n",
        "      <th>T_value</th>\n",
        "      <th>P_value</th>\n",
        "    </tr>\n",
        "  </thead>\n",
        "  <tbody>\n",
        "    <tr>\n",
        "      <th>pageviews</th>\n",
        "      <td> 0.111111</td>\n",
        "      <td> 0.059633</td>\n",
        "      <td> 0.119461</td>\n",
        "      <td> 0.111111</td>\n",
        "      <td> 0.111111</td>\n",
        "      <td> 0.118421</td>\n",
        "      <td> 0.111702</td>\n",
        "      <td> 0.111111</td>\n",
        "      <td> 0.115233</td>\n",
        "      <td> 0.111384</td>\n",
        "      <td>...</td>\n",
        "      <td> 0.089888</td>\n",
        "      <td> 0.111111</td>\n",
        "      <td> 0.127434</td>\n",
        "      <td> 0.100671</td>\n",
        "      <td> 0.131868</td>\n",
        "      <td> 0.093458</td>\n",
        "      <td> 0.102041</td>\n",
        "      <td> 0.11</td>\n",
        "      <td> 28.297259</td>\n",
        "      <td> 0.242693</td>\n",
        "    </tr>\n",
        "    <tr>\n",
        "      <th>other_avg</th>\n",
        "      <td> 0.111111</td>\n",
        "      <td> 0.036697</td>\n",
        "      <td> 0.119461</td>\n",
        "      <td> 0.111111</td>\n",
        "      <td> 0.111111</td>\n",
        "      <td> 0.118421</td>\n",
        "      <td> 0.111702</td>\n",
        "      <td> 0.111111</td>\n",
        "      <td> 0.115233</td>\n",
        "      <td> 0.111384</td>\n",
        "      <td>...</td>\n",
        "      <td> 0.106742</td>\n",
        "      <td> 0.111111</td>\n",
        "      <td> 0.127434</td>\n",
        "      <td> 0.093960</td>\n",
        "      <td> 0.131868</td>\n",
        "      <td> 0.112150</td>\n",
        "      <td> 0.102041</td>\n",
        "      <td> 0.11</td>\n",
        "      <td> 24.605503</td>\n",
        "      <td> 0.233186</td>\n",
        "    </tr>\n",
        "    <tr>\n",
        "      <th>numerizedgrade</th>\n",
        "      <td> 0.111111</td>\n",
        "      <td> 0.018349</td>\n",
        "      <td> 0.119461</td>\n",
        "      <td> 0.111111</td>\n",
        "      <td> 0.111111</td>\n",
        "      <td> 0.118421</td>\n",
        "      <td> 0.111702</td>\n",
        "      <td> 0.111111</td>\n",
        "      <td> 0.115233</td>\n",
        "      <td> 0.111384</td>\n",
        "      <td>...</td>\n",
        "      <td> 0.106742</td>\n",
        "      <td> 0.107046</td>\n",
        "      <td> 0.111504</td>\n",
        "      <td> 0.100671</td>\n",
        "      <td> 0.131868</td>\n",
        "      <td> 0.046729</td>\n",
        "      <td> 0.122449</td>\n",
        "      <td> 0.09</td>\n",
        "      <td> 20.049114</td>\n",
        "      <td> 0.221607</td>\n",
        "    </tr>\n",
        "    <tr>\n",
        "      <th>crack_description</th>\n",
        "      <td> 0.111111</td>\n",
        "      <td> 0.027523</td>\n",
        "      <td> 0.086705</td>\n",
        "      <td> 0.100358</td>\n",
        "      <td> 0.111111</td>\n",
        "      <td> 0.092105</td>\n",
        "      <td> 0.111702</td>\n",
        "      <td> 0.040659</td>\n",
        "      <td> 0.115233</td>\n",
        "      <td> 0.102375</td>\n",
        "      <td>...</td>\n",
        "      <td> 0.050562</td>\n",
        "      <td> 0.107046</td>\n",
        "      <td> 0.127434</td>\n",
        "      <td> 0.067114</td>\n",
        "      <td> 0.000000</td>\n",
        "      <td> 0.056075</td>\n",
        "      <td> 0.091837</td>\n",
        "      <td> 0.01</td>\n",
        "      <td> 11.794628</td>\n",
        "      <td> 0.200871</td>\n",
        "    </tr>\n",
        "    <tr>\n",
        "      <th>crux_description</th>\n",
        "      <td> 0.007937</td>\n",
        "      <td> 0.000000</td>\n",
        "      <td> 0.104046</td>\n",
        "      <td> 0.109319</td>\n",
        "      <td> 0.111111</td>\n",
        "      <td> 0.013158</td>\n",
        "      <td> 0.069149</td>\n",
        "      <td> 0.110060</td>\n",
        "      <td> 0.115233</td>\n",
        "      <td> 0.082719</td>\n",
        "      <td>...</td>\n",
        "      <td> 0.061798</td>\n",
        "      <td> 0.111111</td>\n",
        "      <td> 0.000000</td>\n",
        "      <td> 0.033557</td>\n",
        "      <td> 0.087912</td>\n",
        "      <td> 0.028037</td>\n",
        "      <td> 0.000000</td>\n",
        "      <td> 0.04</td>\n",
        "      <td>  8.700802</td>\n",
        "      <td> 0.189992</td>\n",
        "    </tr>\n",
        "    <tr>\n",
        "      <th>thin_commentsmerged</th>\n",
        "      <td> 0.031746</td>\n",
        "      <td> 0.009174</td>\n",
        "      <td> 0.055877</td>\n",
        "      <td> 0.026882</td>\n",
        "      <td> 0.086918</td>\n",
        "      <td> 0.013158</td>\n",
        "      <td> 0.026596</td>\n",
        "      <td> 0.000000</td>\n",
        "      <td> 0.064081</td>\n",
        "      <td> 0.111384</td>\n",
        "      <td>...</td>\n",
        "      <td> 0.056180</td>\n",
        "      <td> 0.085366</td>\n",
        "      <td> 0.113274</td>\n",
        "      <td> 0.073826</td>\n",
        "      <td> 0.021978</td>\n",
        "      <td> 0.084112</td>\n",
        "      <td> 0.122449</td>\n",
        "      <td> 0.03</td>\n",
        "      <td>  8.621442</td>\n",
        "      <td> 0.207461</td>\n",
        "    </tr>\n",
        "    <tr>\n",
        "      <th>crack_commentsmerged</th>\n",
        "      <td> 0.039683</td>\n",
        "      <td> 0.018349</td>\n",
        "      <td> 0.109827</td>\n",
        "      <td> 0.044803</td>\n",
        "      <td> 0.010753</td>\n",
        "      <td> 0.072368</td>\n",
        "      <td> 0.000000</td>\n",
        "      <td> 0.000000</td>\n",
        "      <td> 0.000000</td>\n",
        "      <td> 0.111384</td>\n",
        "      <td>...</td>\n",
        "      <td> 0.061798</td>\n",
        "      <td> 0.052846</td>\n",
        "      <td> 0.028319</td>\n",
        "      <td> 0.040268</td>\n",
        "      <td> 0.000000</td>\n",
        "      <td> 0.093458</td>\n",
        "      <td> 0.122449</td>\n",
        "      <td> 0.00</td>\n",
        "      <td>  6.480404</td>\n",
        "      <td> 0.211667</td>\n",
        "    </tr>\n",
        "    <tr>\n",
        "      <th>crux_commentsmerged</th>\n",
        "      <td> 0.000000</td>\n",
        "      <td> 0.000000</td>\n",
        "      <td> 0.065511</td>\n",
        "      <td> 0.005376</td>\n",
        "      <td> 0.000000</td>\n",
        "      <td> 0.019737</td>\n",
        "      <td> 0.015957</td>\n",
        "      <td> 0.000000</td>\n",
        "      <td> 0.086003</td>\n",
        "      <td> 0.105651</td>\n",
        "      <td>...</td>\n",
        "      <td> 0.028090</td>\n",
        "      <td> 0.004065</td>\n",
        "      <td> 0.127434</td>\n",
        "      <td> 0.060403</td>\n",
        "      <td> 0.000000</td>\n",
        "      <td> 0.009346</td>\n",
        "      <td> 0.040816</td>\n",
        "      <td> 0.03</td>\n",
        "      <td>  6.250439</td>\n",
        "      <td> 0.201146</td>\n",
        "    </tr>\n",
        "    <tr>\n",
        "      <th>ledge_description</th>\n",
        "      <td> 0.007937</td>\n",
        "      <td> 0.045872</td>\n",
        "      <td> 0.003854</td>\n",
        "      <td> 0.094982</td>\n",
        "      <td> 0.058244</td>\n",
        "      <td> 0.000000</td>\n",
        "      <td> 0.095745</td>\n",
        "      <td> 0.000000</td>\n",
        "      <td> 0.064643</td>\n",
        "      <td> 0.029484</td>\n",
        "      <td>...</td>\n",
        "      <td> 0.000000</td>\n",
        "      <td> 0.024390</td>\n",
        "      <td> 0.000000</td>\n",
        "      <td> 0.040268</td>\n",
        "      <td> 0.000000</td>\n",
        "      <td> 0.000000</td>\n",
        "      <td> 0.000000</td>\n",
        "      <td> 0.05</td>\n",
        "      <td>  5.885410</td>\n",
        "      <td> 0.218471</td>\n",
        "    </tr>\n",
        "    <tr>\n",
        "      <th>pitch</th>\n",
        "      <td> 0.039683</td>\n",
        "      <td> 0.032110</td>\n",
        "      <td> 0.003854</td>\n",
        "      <td> 0.111111</td>\n",
        "      <td> 0.111111</td>\n",
        "      <td> 0.039474</td>\n",
        "      <td> 0.000000</td>\n",
        "      <td> 0.000000</td>\n",
        "      <td> 0.104553</td>\n",
        "      <td> 0.022113</td>\n",
        "      <td>...</td>\n",
        "      <td> 0.028090</td>\n",
        "      <td> 0.000000</td>\n",
        "      <td> 0.023009</td>\n",
        "      <td> 0.080537</td>\n",
        "      <td> 0.054945</td>\n",
        "      <td> 0.046729</td>\n",
        "      <td> 0.071429</td>\n",
        "      <td> 0.00</td>\n",
        "      <td>  5.269159</td>\n",
        "      <td> 0.220969</td>\n",
        "    </tr>\n",
        "    <tr>\n",
        "      <th>hard_commentsmerged</th>\n",
        "      <td> 0.007937</td>\n",
        "      <td> 0.004587</td>\n",
        "      <td> 0.119461</td>\n",
        "      <td> 0.017921</td>\n",
        "      <td> 0.000000</td>\n",
        "      <td> 0.039474</td>\n",
        "      <td> 0.101064</td>\n",
        "      <td> 0.000000</td>\n",
        "      <td> 0.028668</td>\n",
        "      <td> 0.048321</td>\n",
        "      <td>...</td>\n",
        "      <td> 0.028090</td>\n",
        "      <td> 0.014905</td>\n",
        "      <td> 0.054867</td>\n",
        "      <td> 0.053691</td>\n",
        "      <td> 0.000000</td>\n",
        "      <td> 0.028037</td>\n",
        "      <td> 0.010204</td>\n",
        "      <td> 0.00</td>\n",
        "      <td>  5.107321</td>\n",
        "      <td> 0.225817</td>\n",
        "    </tr>\n",
        "    <tr>\n",
        "      <th>steep_description</th>\n",
        "      <td> 0.015873</td>\n",
        "      <td> 0.022936</td>\n",
        "      <td> 0.000000</td>\n",
        "      <td> 0.023297</td>\n",
        "      <td> 0.001792</td>\n",
        "      <td> 0.026316</td>\n",
        "      <td> 0.053191</td>\n",
        "      <td> 0.000000</td>\n",
        "      <td> 0.000000</td>\n",
        "      <td> 0.000000</td>\n",
        "      <td>...</td>\n",
        "      <td> 0.067416</td>\n",
        "      <td> 0.048780</td>\n",
        "      <td> 0.000000</td>\n",
        "      <td> 0.013423</td>\n",
        "      <td> 0.000000</td>\n",
        "      <td> 0.009346</td>\n",
        "      <td> 0.000000</td>\n",
        "      <td> 0.06</td>\n",
        "      <td>  4.475856</td>\n",
        "      <td> 0.239316</td>\n",
        "    </tr>\n",
        "    <tr>\n",
        "      <th>thin_description</th>\n",
        "      <td> 0.071429</td>\n",
        "      <td> 0.000000</td>\n",
        "      <td> 0.003854</td>\n",
        "      <td> 0.003584</td>\n",
        "      <td> 0.002688</td>\n",
        "      <td> 0.026316</td>\n",
        "      <td> 0.005319</td>\n",
        "      <td> 0.000000</td>\n",
        "      <td> 0.004497</td>\n",
        "      <td> 0.000000</td>\n",
        "      <td>...</td>\n",
        "      <td> 0.000000</td>\n",
        "      <td> 0.014905</td>\n",
        "      <td> 0.001770</td>\n",
        "      <td> 0.006711</td>\n",
        "      <td> 0.000000</td>\n",
        "      <td> 0.000000</td>\n",
        "      <td> 0.081633</td>\n",
        "      <td> 0.00</td>\n",
        "      <td>  4.423658</td>\n",
        "      <td> 0.229909</td>\n",
        "    </tr>\n",
        "    <tr>\n",
        "      <th>corner_description</th>\n",
        "      <td> 0.031746</td>\n",
        "      <td> 0.004587</td>\n",
        "      <td> 0.000000</td>\n",
        "      <td> 0.012545</td>\n",
        "      <td> 0.104839</td>\n",
        "      <td> 0.032895</td>\n",
        "      <td> 0.000000</td>\n",
        "      <td> 0.066947</td>\n",
        "      <td> 0.001686</td>\n",
        "      <td> 0.009009</td>\n",
        "      <td>...</td>\n",
        "      <td> 0.039326</td>\n",
        "      <td> 0.082656</td>\n",
        "      <td> 0.060177</td>\n",
        "      <td> 0.000000</td>\n",
        "      <td> 0.054945</td>\n",
        "      <td> 0.000000</td>\n",
        "      <td> 0.010204</td>\n",
        "      <td> 0.00</td>\n",
        "      <td>  4.368157</td>\n",
        "      <td> 0.241165</td>\n",
        "    </tr>\n",
        "    <tr>\n",
        "      <th>easy_description</th>\n",
        "      <td> 0.055556</td>\n",
        "      <td> 0.004587</td>\n",
        "      <td> 0.000000</td>\n",
        "      <td> 0.000000</td>\n",
        "      <td> 0.011649</td>\n",
        "      <td> 0.000000</td>\n",
        "      <td> 0.095745</td>\n",
        "      <td> 0.103049</td>\n",
        "      <td> 0.000000</td>\n",
        "      <td> 0.000000</td>\n",
        "      <td>...</td>\n",
        "      <td> 0.022472</td>\n",
        "      <td> 0.000000</td>\n",
        "      <td> 0.001770</td>\n",
        "      <td> 0.093960</td>\n",
        "      <td> 0.000000</td>\n",
        "      <td> 0.028037</td>\n",
        "      <td> 0.000000</td>\n",
        "      <td> 0.00</td>\n",
        "      <td>  4.164750</td>\n",
        "      <td> 0.220926</td>\n",
        "    </tr>\n",
        "    <tr>\n",
        "      <th>slab_description</th>\n",
        "      <td> 0.007937</td>\n",
        "      <td> 0.018349</td>\n",
        "      <td> 0.000000</td>\n",
        "      <td> 0.044803</td>\n",
        "      <td> 0.000000</td>\n",
        "      <td> 0.000000</td>\n",
        "      <td> 0.005319</td>\n",
        "      <td> 0.025587</td>\n",
        "      <td> 0.033165</td>\n",
        "      <td> 0.003276</td>\n",
        "      <td>...</td>\n",
        "      <td> 0.000000</td>\n",
        "      <td> 0.018970</td>\n",
        "      <td> 0.000000</td>\n",
        "      <td> 0.000000</td>\n",
        "      <td> 0.021978</td>\n",
        "      <td> 0.000000</td>\n",
        "      <td> 0.000000</td>\n",
        "      <td> 0.09</td>\n",
        "      <td>  3.801640</td>\n",
        "      <td> 0.240608</td>\n",
        "    </tr>\n",
        "    <tr>\n",
        "      <th>traverse_commentsmerged</th>\n",
        "      <td> 0.000000</td>\n",
        "      <td> 0.009174</td>\n",
        "      <td> 0.028902</td>\n",
        "      <td> 0.000000</td>\n",
        "      <td> 0.000000</td>\n",
        "      <td> 0.006579</td>\n",
        "      <td> 0.000000</td>\n",
        "      <td> 0.000000</td>\n",
        "      <td> 0.031478</td>\n",
        "      <td> 0.000000</td>\n",
        "      <td>...</td>\n",
        "      <td> 0.011236</td>\n",
        "      <td> 0.000000</td>\n",
        "      <td> 0.003540</td>\n",
        "      <td> 0.000000</td>\n",
        "      <td> 0.000000</td>\n",
        "      <td> 0.018692</td>\n",
        "      <td> 0.010204</td>\n",
        "      <td> 0.00</td>\n",
        "      <td>  3.310569</td>\n",
        "      <td> 0.298013</td>\n",
        "    </tr>\n",
        "    <tr>\n",
        "      <th>arete_description</th>\n",
        "      <td> 0.000000</td>\n",
        "      <td> 0.004587</td>\n",
        "      <td> 0.000000</td>\n",
        "      <td> 0.000000</td>\n",
        "      <td> 0.000896</td>\n",
        "      <td> 0.000000</td>\n",
        "      <td> 0.000000</td>\n",
        "      <td> 0.107957</td>\n",
        "      <td> 0.005059</td>\n",
        "      <td> 0.000000</td>\n",
        "      <td>...</td>\n",
        "      <td> 0.000000</td>\n",
        "      <td> 0.005420</td>\n",
        "      <td> 0.000000</td>\n",
        "      <td> 0.000000</td>\n",
        "      <td> 0.000000</td>\n",
        "      <td> 0.000000</td>\n",
        "      <td> 0.000000</td>\n",
        "      <td> 0.00</td>\n",
        "      <td>  3.225425</td>\n",
        "      <td> 0.238258</td>\n",
        "    </tr>\n",
        "    <tr>\n",
        "      <th>flake_description</th>\n",
        "      <td> 0.000000</td>\n",
        "      <td> 0.082569</td>\n",
        "      <td> 0.040462</td>\n",
        "      <td> 0.001792</td>\n",
        "      <td> 0.000000</td>\n",
        "      <td> 0.000000</td>\n",
        "      <td> 0.000000</td>\n",
        "      <td> 0.000000</td>\n",
        "      <td> 0.000000</td>\n",
        "      <td> 0.000000</td>\n",
        "      <td>...</td>\n",
        "      <td> 0.016854</td>\n",
        "      <td> 0.000000</td>\n",
        "      <td> 0.000000</td>\n",
        "      <td> 0.000000</td>\n",
        "      <td> 0.087912</td>\n",
        "      <td> 0.000000</td>\n",
        "      <td> 0.000000</td>\n",
        "      <td> 0.00</td>\n",
        "      <td>  2.898827</td>\n",
        "      <td> 0.244558</td>\n",
        "    </tr>\n",
        "    <tr>\n",
        "      <th>ledge_commentsmerged</th>\n",
        "      <td> 0.047619</td>\n",
        "      <td> 0.073394</td>\n",
        "      <td> 0.000000</td>\n",
        "      <td> 0.000000</td>\n",
        "      <td> 0.003584</td>\n",
        "      <td> 0.013158</td>\n",
        "      <td> 0.000000</td>\n",
        "      <td> 0.000000</td>\n",
        "      <td> 0.000000</td>\n",
        "      <td> 0.000000</td>\n",
        "      <td>...</td>\n",
        "      <td> 0.000000</td>\n",
        "      <td> 0.002710</td>\n",
        "      <td> 0.024779</td>\n",
        "      <td> 0.000000</td>\n",
        "      <td> 0.000000</td>\n",
        "      <td> 0.009346</td>\n",
        "      <td> 0.000000</td>\n",
        "      <td> 0.00</td>\n",
        "      <td>  2.855650</td>\n",
        "      <td> 0.257305</td>\n",
        "    </tr>\n",
        "  </tbody>\n",
        "</table>\n",
        "<p>20 rows \u00d7 49 columns</p>\n",
        "</div>"
       ],
       "metadata": {},
       "output_type": "pyout",
       "prompt_number": 33,
       "text": [
        "                                0         1         2         3         4  \\\n",
        "pageviews                0.111111  0.059633  0.119461  0.111111  0.111111   \n",
        "other_avg                0.111111  0.036697  0.119461  0.111111  0.111111   \n",
        "numerizedgrade           0.111111  0.018349  0.119461  0.111111  0.111111   \n",
        "crack_description        0.111111  0.027523  0.086705  0.100358  0.111111   \n",
        "crux_description         0.007937  0.000000  0.104046  0.109319  0.111111   \n",
        "thin_commentsmerged      0.031746  0.009174  0.055877  0.026882  0.086918   \n",
        "crack_commentsmerged     0.039683  0.018349  0.109827  0.044803  0.010753   \n",
        "crux_commentsmerged      0.000000  0.000000  0.065511  0.005376  0.000000   \n",
        "ledge_description        0.007937  0.045872  0.003854  0.094982  0.058244   \n",
        "pitch                    0.039683  0.032110  0.003854  0.111111  0.111111   \n",
        "hard_commentsmerged      0.007937  0.004587  0.119461  0.017921  0.000000   \n",
        "steep_description        0.015873  0.022936  0.000000  0.023297  0.001792   \n",
        "thin_description         0.071429  0.000000  0.003854  0.003584  0.002688   \n",
        "corner_description       0.031746  0.004587  0.000000  0.012545  0.104839   \n",
        "easy_description         0.055556  0.004587  0.000000  0.000000  0.011649   \n",
        "slab_description         0.007937  0.018349  0.000000  0.044803  0.000000   \n",
        "traverse_commentsmerged  0.000000  0.009174  0.028902  0.000000  0.000000   \n",
        "arete_description        0.000000  0.004587  0.000000  0.000000  0.000896   \n",
        "flake_description        0.000000  0.082569  0.040462  0.001792  0.000000   \n",
        "ledge_commentsmerged     0.047619  0.073394  0.000000  0.000000  0.003584   \n",
        "\n",
        "                                5         6         7         8         9  \\\n",
        "pageviews                0.118421  0.111702  0.111111  0.115233  0.111384   \n",
        "other_avg                0.118421  0.111702  0.111111  0.115233  0.111384   \n",
        "numerizedgrade           0.118421  0.111702  0.111111  0.115233  0.111384   \n",
        "crack_description        0.092105  0.111702  0.040659  0.115233  0.102375   \n",
        "crux_description         0.013158  0.069149  0.110060  0.115233  0.082719   \n",
        "thin_commentsmerged      0.013158  0.026596  0.000000  0.064081  0.111384   \n",
        "crack_commentsmerged     0.072368  0.000000  0.000000  0.000000  0.111384   \n",
        "crux_commentsmerged      0.019737  0.015957  0.000000  0.086003  0.105651   \n",
        "ledge_description        0.000000  0.095745  0.000000  0.064643  0.029484   \n",
        "pitch                    0.039474  0.000000  0.000000  0.104553  0.022113   \n",
        "hard_commentsmerged      0.039474  0.101064  0.000000  0.028668  0.048321   \n",
        "steep_description        0.026316  0.053191  0.000000  0.000000  0.000000   \n",
        "thin_description         0.026316  0.005319  0.000000  0.004497  0.000000   \n",
        "corner_description       0.032895  0.000000  0.066947  0.001686  0.009009   \n",
        "easy_description         0.000000  0.095745  0.103049  0.000000  0.000000   \n",
        "slab_description         0.000000  0.005319  0.025587  0.033165  0.003276   \n",
        "traverse_commentsmerged  0.006579  0.000000  0.000000  0.031478  0.000000   \n",
        "arete_description        0.000000  0.000000  0.107957  0.005059  0.000000   \n",
        "flake_description        0.000000  0.000000  0.000000  0.000000  0.000000   \n",
        "ledge_commentsmerged     0.013158  0.000000  0.000000  0.000000  0.000000   \n",
        "\n",
        "                           ...           39        40        41        42  \\\n",
        "pageviews                  ...     0.089888  0.111111  0.127434  0.100671   \n",
        "other_avg                  ...     0.106742  0.111111  0.127434  0.093960   \n",
        "numerizedgrade             ...     0.106742  0.107046  0.111504  0.100671   \n",
        "crack_description          ...     0.050562  0.107046  0.127434  0.067114   \n",
        "crux_description           ...     0.061798  0.111111  0.000000  0.033557   \n",
        "thin_commentsmerged        ...     0.056180  0.085366  0.113274  0.073826   \n",
        "crack_commentsmerged       ...     0.061798  0.052846  0.028319  0.040268   \n",
        "crux_commentsmerged        ...     0.028090  0.004065  0.127434  0.060403   \n",
        "ledge_description          ...     0.000000  0.024390  0.000000  0.040268   \n",
        "pitch                      ...     0.028090  0.000000  0.023009  0.080537   \n",
        "hard_commentsmerged        ...     0.028090  0.014905  0.054867  0.053691   \n",
        "steep_description          ...     0.067416  0.048780  0.000000  0.013423   \n",
        "thin_description           ...     0.000000  0.014905  0.001770  0.006711   \n",
        "corner_description         ...     0.039326  0.082656  0.060177  0.000000   \n",
        "easy_description           ...     0.022472  0.000000  0.001770  0.093960   \n",
        "slab_description           ...     0.000000  0.018970  0.000000  0.000000   \n",
        "traverse_commentsmerged    ...     0.011236  0.000000  0.003540  0.000000   \n",
        "arete_description          ...     0.000000  0.005420  0.000000  0.000000   \n",
        "flake_description          ...     0.016854  0.000000  0.000000  0.000000   \n",
        "ledge_commentsmerged       ...     0.000000  0.002710  0.024779  0.000000   \n",
        "\n",
        "                               43        44        45    46    T_value  \\\n",
        "pageviews                0.131868  0.093458  0.102041  0.11  28.297259   \n",
        "other_avg                0.131868  0.112150  0.102041  0.11  24.605503   \n",
        "numerizedgrade           0.131868  0.046729  0.122449  0.09  20.049114   \n",
        "crack_description        0.000000  0.056075  0.091837  0.01  11.794628   \n",
        "crux_description         0.087912  0.028037  0.000000  0.04   8.700802   \n",
        "thin_commentsmerged      0.021978  0.084112  0.122449  0.03   8.621442   \n",
        "crack_commentsmerged     0.000000  0.093458  0.122449  0.00   6.480404   \n",
        "crux_commentsmerged      0.000000  0.009346  0.040816  0.03   6.250439   \n",
        "ledge_description        0.000000  0.000000  0.000000  0.05   5.885410   \n",
        "pitch                    0.054945  0.046729  0.071429  0.00   5.269159   \n",
        "hard_commentsmerged      0.000000  0.028037  0.010204  0.00   5.107321   \n",
        "steep_description        0.000000  0.009346  0.000000  0.06   4.475856   \n",
        "thin_description         0.000000  0.000000  0.081633  0.00   4.423658   \n",
        "corner_description       0.054945  0.000000  0.010204  0.00   4.368157   \n",
        "easy_description         0.000000  0.028037  0.000000  0.00   4.164750   \n",
        "slab_description         0.021978  0.000000  0.000000  0.09   3.801640   \n",
        "traverse_commentsmerged  0.000000  0.018692  0.010204  0.00   3.310569   \n",
        "arete_description        0.000000  0.000000  0.000000  0.00   3.225425   \n",
        "flake_description        0.087912  0.000000  0.000000  0.00   2.898827   \n",
        "ledge_commentsmerged     0.000000  0.009346  0.000000  0.00   2.855650   \n",
        "\n",
        "                          P_value  \n",
        "pageviews                0.242693  \n",
        "other_avg                0.233186  \n",
        "numerizedgrade           0.221607  \n",
        "crack_description        0.200871  \n",
        "crux_description         0.189992  \n",
        "thin_commentsmerged      0.207461  \n",
        "crack_commentsmerged     0.211667  \n",
        "crux_commentsmerged      0.201146  \n",
        "ledge_description        0.218471  \n",
        "pitch                    0.220969  \n",
        "hard_commentsmerged      0.225817  \n",
        "steep_description        0.239316  \n",
        "thin_description         0.229909  \n",
        "corner_description       0.241165  \n",
        "easy_description         0.220926  \n",
        "slab_description         0.240608  \n",
        "traverse_commentsmerged  0.298013  \n",
        "arete_description        0.238258  \n",
        "flake_description        0.244558  \n",
        "ledge_commentsmerged     0.257305  \n",
        "\n",
        "[20 rows x 49 columns]"
       ]
      }
     ],
     "prompt_number": 33
    },
    {
     "cell_type": "code",
     "collapsed": false,
     "input": [
      "feats=[col[:col.index('_')+1] if '_' in col and '_avg' not in col else col for col in sorteddf.index.values]\n",
      "feats=list(set(feats))\n",
      "finalfeats=[]\n",
      "print len(feats)\n",
      "print feats\n",
      "for f in feats:\n",
      "    if '_' not in f:\n",
      "        finalfeats.append(f)\n",
      "    else:\n",
      "        finalfeats.append(f+'description')\n",
      "        finalfeats.append(f+'commentsmerged')\n"
     ],
     "language": "python",
     "metadata": {},
     "outputs": [
      {
       "output_type": "stream",
       "stream": "stdout",
       "text": [
        "16\n",
        "['ledge_', 'pageviews', 'corner_', 'crux_', 'traverse_', 'thin_', 'hard_', 'easy_', 'steep_', 'numerizedgrade', 'crack_', 'other_avg', 'slab_', 'pitch', 'flake_', 'arete_']\n"
       ]
      }
     ],
     "prompt_number": 44
    },
    {
     "cell_type": "markdown",
     "metadata": {},
     "source": []
    },
    {
     "cell_type": "heading",
     "level": 3,
     "metadata": {},
     "source": [
      "Assess predictive power of reduced space"
     ]
    },
    {
     "cell_type": "code",
     "collapsed": false,
     "input": [
      "%autoreload\n",
      "name='reduced'\n",
      "clf=mo.classifier('rfc')\n",
      "clf.n_estimators=75\n",
      "cfeatures=rd.reducedfeats\n",
      "sfeatures=['other_avg']\n",
      "print \"classifying using %s features\" %(len(cfeatures)+len(sfeatures))\n",
      "full_ndf=ndf[['climbid']+rd.reducedfeats]\n",
      "full_ndf=pd.merge(full_ndf, like_mat, on='climbid', how='inner')\n",
      "full_ndf.index=full_ndf['climbid'].values\n",
      "full_ndf=full_ndf[full_ndf['climbid'].isin(sdf.climb.unique())]\n",
      "full_ndf=full_ndf.dropna()\n",
      "summarydf, resultsdf, informativefeats=mo.classify(clf,users, sfeatures, cfeatures, full_ndf, usesdf, minratings=10, dropself=True, datadir=projdir)\n",
      "resultsdict[name]=[summarydf, resultsdf]"
     ],
     "language": "python",
     "metadata": {},
     "outputs": [
      {
       "output_type": "stream",
       "stream": "stdout",
       "text": [
        "classifying using 28 features\n"
       ]
      }
     ],
     "prompt_number": 49
    },
    {
     "cell_type": "code",
     "collapsed": false,
     "input": [
      "%autoreload\n",
      "for name in ['reduced']:\n",
      "    print \"classifying with %s\" %name\n",
      "    summarydf, resultsdf=resultsdict[name]\n",
      "    viz.plotresults(resultsdf, 'true_rating', 'feat_pred')\n",
      "    acc, precision, recall, f1=mo.round2score(resultsdf, 'true_rating', 'feat_pred')"
     ],
     "language": "python",
     "metadata": {},
     "outputs": [
      {
       "output_type": "stream",
       "stream": "stdout",
       "text": [
        "classifying with reduced\n"
       ]
      },
      {
       "metadata": {},
       "output_type": "display_data",
       "png": "[encoded data removed]",
       "text": [
        "<matplotlib.figure.Figure at 0x10fb7e7d0>"
       ]
      },
      {
       "output_type": "stream",
       "stream": "stdout",
       "text": [
        "4 way accuracy 0.565\n",
        "4 way f1 0.559\n",
        "4 way precision 0.563\n",
        "4 way recall 0.565\n"
       ]
      }
     ],
     "prompt_number": 50
    },
    {
     "cell_type": "code",
     "collapsed": false,
     "input": [],
     "language": "python",
     "metadata": {},
     "outputs": []
    },
    {
     "cell_type": "code",
     "collapsed": false,
     "input": [],
     "language": "python",
     "metadata": {},
     "outputs": []
    },
    {
     "cell_type": "code",
     "collapsed": false,
     "input": [],
     "language": "python",
     "metadata": {},
     "outputs": []
    },
    {
     "cell_type": "code",
     "collapsed": false,
     "input": [],
     "language": "python",
     "metadata": {},
     "outputs": []
    },
    {
     "cell_type": "code",
     "collapsed": false,
     "input": [],
     "language": "python",
     "metadata": {},
     "outputs": []
    }
   ],
   "metadata": {}
  }
 ]
}