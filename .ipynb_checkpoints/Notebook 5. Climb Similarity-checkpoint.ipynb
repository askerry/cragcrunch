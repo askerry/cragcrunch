{
 "metadata": {
  "name": "",
  "signature": "sha256:635276f4b3288208bc2cc03c985205d0b771c8ca7950bf98db17374ca14cef22"
 },
 "nbformat": 3,
 "nbformat_minor": 0,
 "worksheets": [
  {
   "cells": [
    {
     "cell_type": "code",
     "collapsed": false,
     "input": [
      "pylab inline"
     ],
     "language": "python",
     "metadata": {},
     "outputs": [
      {
       "output_type": "stream",
       "stream": "stdout",
       "text": [
        "Populating the interactive namespace from numpy and matplotlib\n"
       ]
      }
     ],
     "prompt_number": 4
    },
    {
     "cell_type": "code",
     "collapsed": false,
     "input": [
      "import pandas as pd\n",
      "pd.options.mode.chained_assignment = 'warn'  # default='warn', None, 'raise'\n",
      "#pd.options.display.memory_usage = True\n",
      "import numpy as np\n",
      "np.random.RandomState(100)\n",
      "from sqlalchemy import create_engine\n",
      "import os\n",
      "import sys\n",
      "sys.setrecursionlimit(3000)\n",
      "from joblib import Parallel, delayed  \n",
      "import multiprocessing\n",
      "num_cores = multiprocessing.cpu_count()\n",
      "print \"%s cores available for parallel processing\" % num_cores\n",
      "sys.path.append('mpscraper')\n",
      "from mpscraper.cfgdb import cfg\n",
      "import seaborn as sns\n",
      "sns.set_style('white')\n",
      "import matplotlib.pyplot as plt\n",
      "from sklearn.metrics.pairwise import pairwise_distances"
     ],
     "language": "python",
     "metadata": {},
     "outputs": [
      {
       "output_type": "stream",
       "stream": "stdout",
       "text": [
        "4 cores available for parallel processing\n"
       ]
      }
     ],
     "prompt_number": 5
    },
    {
     "cell_type": "code",
     "collapsed": false,
     "input": [
      "import sys, os\n",
      "rootdir=os.getcwd()\n",
      "while 'Projects' in rootdir:\n",
      "    rootdir=os.path.dirname(rootdir)\n",
      "projdir=os.path.join(rootdir, 'Projects','cragcrunch','data')"
     ],
     "language": "python",
     "metadata": {},
     "outputs": [],
     "prompt_number": 83
    },
    {
     "cell_type": "code",
     "collapsed": false,
     "input": [
      "#load in preprocessed data\n",
      "engine = create_engine('mysql://%s@%s/%s?charset=%s&use_unicode=%s&passwd=%s' %(cfg.user, cfg.host, cfg.dbname, cfg.charset, cfg.use_unicode, cfg.passwd), pool_recycle=3600)\n",
      "cdf = pd.read_sql(\"SELECT * from climb_prepped where region = 'California'\", engine, index_col='index')\n",
      "adf = pd.read_sql(\"SELECT * from area_prepped where region = 'California'\", engine, index_col='index')\n",
      "climbs=list(cdf.climbid.unique())\n",
      "udf = pd.read_sql(\"SELECT * from climber_prepped\", engine, index_col='index')\n",
      "hdf= pd.read_sql(\"SELECT * from hits_prepped\", engine, index_col='index')\n"
     ],
     "language": "python",
     "metadata": {},
     "outputs": [],
     "prompt_number": 8
    },
    {
     "cell_type": "heading",
     "level": 2,
     "metadata": {},
     "source": [
      "User similarity (Climb x Climber Matrix)"
     ]
    },
    {
     "cell_type": "code",
     "collapsed": false,
     "input": [
      "hdf=hdf.loc[hdf['climb'].isin(climbs)]\n",
      "allclimbs=hdf.climb.unique()\n",
      "allclimbers=hdf.climber.unique()\n",
      "nClimb=len(allclimbs)\n",
      "nClimber=len(allclimbers)\n",
      "mat=np.zeros([nClimb, nClimber])\n",
      "groups=hdf.groupby('climb').groups\n",
      "for climbn, climb in enumerate(groups.keys()):\n",
      "    indices=groups[climb]\n",
      "    climberids=hdf.ix[indices,'climber']\n",
      "    climberind=np.array([np.where(allclimbers==climber)[0][0] for climber in climberids])\n",
      "    mat[climbn,climberind]=1\n",
      "hitmat=pd.DataFrame(index=allclimbs, columns=allclimbers, data=mat)"
     ],
     "language": "python",
     "metadata": {},
     "outputs": [],
     "prompt_number": 9
    },
    {
     "cell_type": "code",
     "collapsed": false,
     "input": [
      "print hitmat.shape\n",
      "hitmat.head()"
     ],
     "language": "python",
     "metadata": {},
     "outputs": [
      {
       "output_type": "stream",
       "stream": "stdout",
       "text": [
        "(8344, 1107)\n"
       ]
      },
      {
       "html": [
        "<div style=\"max-height:1000px;max-width:1500px;overflow:auto;\">\n",
        "<table border=\"1\" class=\"dataframe\">\n",
        "  <thead>\n",
        "    <tr style=\"text-align: right;\">\n",
        "      <th></th>\n",
        "      <th>15.0</th>\n",
        "      <th>19.0</th>\n",
        "      <th>31.0</th>\n",
        "      <th>32.0</th>\n",
        "      <th>1098.0</th>\n",
        "      <th>34.0</th>\n",
        "      <th>39.0</th>\n",
        "      <th>44.0</th>\n",
        "      <th>59.0</th>\n",
        "      <th>82.0</th>\n",
        "      <th>...</th>\n",
        "      <th>6893.0</th>\n",
        "      <th>6897.0</th>\n",
        "      <th>7140.0</th>\n",
        "      <th>7334.0</th>\n",
        "      <th>7492.0</th>\n",
        "      <th>7710.0</th>\n",
        "      <th>7711.0</th>\n",
        "      <th>7782.0</th>\n",
        "      <th>7960.0</th>\n",
        "      <th>8127.0</th>\n",
        "    </tr>\n",
        "  </thead>\n",
        "  <tbody>\n",
        "    <tr>\n",
        "      <th>1903</th>\n",
        "      <td> 0</td>\n",
        "      <td> 0</td>\n",
        "      <td> 0</td>\n",
        "      <td> 0</td>\n",
        "      <td> 0</td>\n",
        "      <td> 0</td>\n",
        "      <td> 0</td>\n",
        "      <td> 0</td>\n",
        "      <td> 0</td>\n",
        "      <td> 0</td>\n",
        "      <td>...</td>\n",
        "      <td> 0</td>\n",
        "      <td> 0</td>\n",
        "      <td> 0</td>\n",
        "      <td> 0</td>\n",
        "      <td> 0</td>\n",
        "      <td> 0</td>\n",
        "      <td> 0</td>\n",
        "      <td> 0</td>\n",
        "      <td> 0</td>\n",
        "      <td> 0</td>\n",
        "    </tr>\n",
        "    <tr>\n",
        "      <th>1904</th>\n",
        "      <td> 0</td>\n",
        "      <td> 0</td>\n",
        "      <td> 0</td>\n",
        "      <td> 0</td>\n",
        "      <td> 0</td>\n",
        "      <td> 0</td>\n",
        "      <td> 0</td>\n",
        "      <td> 0</td>\n",
        "      <td> 0</td>\n",
        "      <td> 0</td>\n",
        "      <td>...</td>\n",
        "      <td> 0</td>\n",
        "      <td> 0</td>\n",
        "      <td> 0</td>\n",
        "      <td> 0</td>\n",
        "      <td> 0</td>\n",
        "      <td> 0</td>\n",
        "      <td> 0</td>\n",
        "      <td> 0</td>\n",
        "      <td> 0</td>\n",
        "      <td> 0</td>\n",
        "    </tr>\n",
        "    <tr>\n",
        "      <th>1907</th>\n",
        "      <td> 0</td>\n",
        "      <td> 0</td>\n",
        "      <td> 0</td>\n",
        "      <td> 0</td>\n",
        "      <td> 0</td>\n",
        "      <td> 0</td>\n",
        "      <td> 0</td>\n",
        "      <td> 0</td>\n",
        "      <td> 0</td>\n",
        "      <td> 0</td>\n",
        "      <td>...</td>\n",
        "      <td> 0</td>\n",
        "      <td> 0</td>\n",
        "      <td> 0</td>\n",
        "      <td> 0</td>\n",
        "      <td> 0</td>\n",
        "      <td> 0</td>\n",
        "      <td> 0</td>\n",
        "      <td> 0</td>\n",
        "      <td> 0</td>\n",
        "      <td> 0</td>\n",
        "    </tr>\n",
        "    <tr>\n",
        "      <th>1908</th>\n",
        "      <td> 0</td>\n",
        "      <td> 0</td>\n",
        "      <td> 0</td>\n",
        "      <td> 0</td>\n",
        "      <td> 0</td>\n",
        "      <td> 0</td>\n",
        "      <td> 0</td>\n",
        "      <td> 0</td>\n",
        "      <td> 0</td>\n",
        "      <td> 0</td>\n",
        "      <td>...</td>\n",
        "      <td> 0</td>\n",
        "      <td> 0</td>\n",
        "      <td> 0</td>\n",
        "      <td> 0</td>\n",
        "      <td> 0</td>\n",
        "      <td> 0</td>\n",
        "      <td> 0</td>\n",
        "      <td> 0</td>\n",
        "      <td> 0</td>\n",
        "      <td> 0</td>\n",
        "    </tr>\n",
        "    <tr>\n",
        "      <th>1909</th>\n",
        "      <td> 0</td>\n",
        "      <td> 0</td>\n",
        "      <td> 0</td>\n",
        "      <td> 0</td>\n",
        "      <td> 0</td>\n",
        "      <td> 0</td>\n",
        "      <td> 0</td>\n",
        "      <td> 0</td>\n",
        "      <td> 0</td>\n",
        "      <td> 0</td>\n",
        "      <td>...</td>\n",
        "      <td> 0</td>\n",
        "      <td> 0</td>\n",
        "      <td> 0</td>\n",
        "      <td> 0</td>\n",
        "      <td> 0</td>\n",
        "      <td> 0</td>\n",
        "      <td> 0</td>\n",
        "      <td> 0</td>\n",
        "      <td> 0</td>\n",
        "      <td> 0</td>\n",
        "    </tr>\n",
        "  </tbody>\n",
        "</table>\n",
        "<p>5 rows \u00d7 1107 columns</p>\n",
        "</div>"
       ],
       "metadata": {},
       "output_type": "pyout",
       "prompt_number": 11,
       "text": [
        "      15    19    31    32    1098  34    39    44    59    82    ...   6893  \\\n",
        "1903     0     0     0     0     0     0     0     0     0     0  ...      0   \n",
        "1904     0     0     0     0     0     0     0     0     0     0  ...      0   \n",
        "1907     0     0     0     0     0     0     0     0     0     0  ...      0   \n",
        "1908     0     0     0     0     0     0     0     0     0     0  ...      0   \n",
        "1909     0     0     0     0     0     0     0     0     0     0  ...      0   \n",
        "\n",
        "      6897  7140  7334  7492  7710  7711  7782  7960  8127  \n",
        "1903     0     0     0     0     0     0     0     0     0  \n",
        "1904     0     0     0     0     0     0     0     0     0  \n",
        "1907     0     0     0     0     0     0     0     0     0  \n",
        "1908     0     0     0     0     0     0     0     0     0  \n",
        "1909     0     0     0     0     0     0     0     0     0  \n",
        "\n",
        "[5 rows x 1107 columns]"
       ]
      }
     ],
     "prompt_number": 11
    },
    {
     "cell_type": "code",
     "collapsed": false,
     "input": [
      "u_cosinsim=pairwise_distances(mat, metric='cosine')"
     ],
     "language": "python",
     "metadata": {},
     "outputs": [],
     "prompt_number": 12
    },
    {
     "cell_type": "code",
     "collapsed": false,
     "input": [],
     "language": "python",
     "metadata": {},
     "outputs": []
    },
    {
     "cell_type": "heading",
     "level": 2,
     "metadata": {},
     "source": [
      "Attribute similarity (Climb x Feature Matrix)"
     ]
    },
    {
     "cell_type": "code",
     "collapsed": false,
     "input": [
      "descrip_tokens=[c for c in cdf.columns if \"_description\" in c]\n",
      "comment_tokens=[c for c in cdf.columns if \"_comments\" in c]\n",
      "othercols=['numerizedgrade','pageviews','avgstars','length','numerizedgrade']\n",
      "allcols=othercols+descrip_tokens+comment_tokens\n",
      "amat=cdf.loc[allclimbs,allcols].values"
     ],
     "language": "python",
     "metadata": {},
     "outputs": [],
     "prompt_number": 26
    },
    {
     "cell_type": "code",
     "collapsed": false,
     "input": [
      "a_cosinsim=pairwise_distances(amat, metric='cosine')"
     ],
     "language": "python",
     "metadata": {},
     "outputs": [],
     "prompt_number": 28
    },
    {
     "cell_type": "code",
     "collapsed": false,
     "input": [],
     "language": "python",
     "metadata": {},
     "outputs": []
    },
    {
     "cell_type": "heading",
     "level": 2,
     "metadata": {},
     "source": [
      "Physical similarity (Location)"
     ]
    },
    {
     "cell_type": "code",
     "collapsed": false,
     "input": [
      "locdf=pd.merge(cdf,adf, left_on='area', right_on='areaid', how='inner')\n",
      "locdf=locdf.ix[allclimbs,:]\n",
      "locdf=locdf[['climbid','latitude', 'longitude']].dropna()\n",
      "locdf.index=locdf['climbid']\n",
      "del locdf['climbid']\n",
      "lmat=locdf.values"
     ],
     "language": "python",
     "metadata": {},
     "outputs": [],
     "prompt_number": 76
    },
    {
     "cell_type": "code",
     "collapsed": false,
     "input": [
      "locationsim=pairwise_distances(lmat, metric='euclidean')"
     ],
     "language": "python",
     "metadata": {},
     "outputs": [],
     "prompt_number": 78
    },
    {
     "cell_type": "heading",
     "level": 3,
     "metadata": {},
     "source": [
      "Save to access by app"
     ]
    },
    {
     "cell_type": "code",
     "collapsed": false,
     "input": [
      "print u_cosinsim.shape\n",
      "print a_cosinsim.shape\n",
      "print locationsim.shape"
     ],
     "language": "python",
     "metadata": {},
     "outputs": [
      {
       "output_type": "stream",
       "stream": "stdout",
       "text": [
        "(8344, 8344)\n",
        "(8344, 8344)\n",
        "(1177, 1177)\n"
       ]
      }
     ],
     "prompt_number": 79
    },
    {
     "cell_type": "code",
     "collapsed": false,
     "input": [
      "usimdf=pd.DataFrame(data=u_cosinsim, index=allclimbs, columns=allclimbs)\n",
      "asimdf=pd.DataFrame(data=a_cosinsim, index=allclimbs, columns=allclimbs)\n",
      "lsimdf=pd.DataFrame(data=locationsim, index=locdf.index.values, columns=locdf.index.values)"
     ],
     "language": "python",
     "metadata": {},
     "outputs": [],
     "prompt_number": 86
    },
    {
     "cell_type": "code",
     "collapsed": false,
     "input": [
      "#comparedf.plot('attrsim', 'usersim', kind='scatter')"
     ],
     "language": "python",
     "metadata": {},
     "outputs": [],
     "prompt_number": 88
    },
    {
     "cell_type": "code",
     "collapsed": false,
     "input": [
      "usimdf.to_csv(os.path.join(projdir, 'user_sim_matrix.csv'))\n",
      "#asimdf.to_csv(os.path.join(projdir, 'a_sim_matrix.csv'))\n",
      "#lsimdf.to_csv(os.path.join(projdir, 'l_sim_matrix.csv'))"
     ],
     "language": "python",
     "metadata": {},
     "outputs": [],
     "prompt_number": 90
    },
    {
     "cell_type": "code",
     "collapsed": false,
     "input": [],
     "language": "python",
     "metadata": {},
     "outputs": []
    }
   ],
   "metadata": {}
  }
 ]
}