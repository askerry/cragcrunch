{
 "metadata": {
  "name": "",
  "signature": "sha256:9eaf04a221ba894671ff647e09403635d527ba515cc98ae2849754d6a2e464b2"
 },
 "nbformat": 3,
 "nbformat_minor": 0,
 "worksheets": [
  {
   "cells": [
    {
     "cell_type": "code",
     "collapsed": false,
     "input": [
      "pylab inline"
     ],
     "language": "python",
     "metadata": {},
     "outputs": [
      {
       "output_type": "stream",
       "stream": "stdout",
       "text": [
        "Populating the interactive namespace from numpy and matplotlib\n"
       ]
      }
     ],
     "prompt_number": 1
    },
    {
     "cell_type": "code",
     "collapsed": false,
     "input": [
      "%load_ext autoreload"
     ],
     "language": "python",
     "metadata": {},
     "outputs": [],
     "prompt_number": 2
    },
    {
     "cell_type": "code",
     "collapsed": false,
     "input": [
      "import pandas as pd\n",
      "pd.options.mode.chained_assignment = 'warn'  # default='warn', None, 'raise'\n",
      "#pd.options.display.memory_usage = True\n",
      "import numpy as np\n",
      "np.random.RandomState(100)\n",
      "from sqlalchemy import create_engine\n",
      "import os\n",
      "import sys\n",
      "sys.setrecursionlimit(3000)\n",
      "from joblib import Parallel, delayed  \n",
      "import multiprocessing\n",
      "num_cores = multiprocessing.cpu_count()\n",
      "print \"%s cores available for parallel processing\" % num_cores\n",
      "sys.path.append('mpscraper')\n",
      "sys.path.append('antools')\n",
      "import antools.modeling as mo\n",
      "from mpscraper.cfgdb import cfg\n",
      "import seaborn as sns\n",
      "sns.set_style('white')\n",
      "import matplotlib.pyplot as plt\n",
      "from sklearn.metrics.pairwise import pairwise_distances"
     ],
     "language": "python",
     "metadata": {},
     "outputs": [
      {
       "output_type": "stream",
       "stream": "stdout",
       "text": [
        "4 cores available for parallel processing\n"
       ]
      }
     ],
     "prompt_number": 3
    },
    {
     "cell_type": "code",
     "collapsed": false,
     "input": [
      "import sys, os\n",
      "rootdir=os.getcwd()\n",
      "while 'Projects' in rootdir:\n",
      "    rootdir=os.path.dirname(rootdir)\n",
      "projdir=os.path.join(rootdir, 'Projects','cragcrunch','data')"
     ],
     "language": "python",
     "metadata": {},
     "outputs": [],
     "prompt_number": 4
    },
    {
     "cell_type": "code",
     "collapsed": false,
     "input": [
      "#load in preprocessed data\n",
      "engine = create_engine('mysql://%s@%s/%s?charset=%s&use_unicode=%s&passwd=%s' %(cfg.user, cfg.host, cfg.dbname, cfg.charset, cfg.use_unicode, cfg.passwd), pool_recycle=3600)\n",
      "cdf = pd.read_sql(\"SELECT * from climb_prepped\", engine, index_col='index')\n",
      "adf = pd.read_sql(\"SELECT * from area_prepped\", engine, index_col='index')\n",
      "sdf = pd.read_sql(\"SELECT * from stars_prepped\", engine, index_col='index')\n",
      "climbs=list(cdf.climbid.unique())\n",
      "udf = pd.read_sql(\"SELECT * from climber_prepped\", engine, index_col='index')\n",
      "hdf= pd.read_sql(\"SELECT * from hits_prepped\", engine, index_col='index')\n",
      "hdf=hdf.loc[hdf['climb'].isin(climbs)]\n",
      "sdf=sdf.loc[sdf['climb'].isin(climbs)]\n",
      "allclimbs=np.array([a for a in hdf.climb.unique() if a in sdf.climb.unique()])\n",
      "allclimbers=np.array([a for a in hdf.climber.unique() if a in sdf.climber.unique()])\n",
      "print len(allclimbs)\n",
      "print len(allclimbers)\n",
      "cdf=cdf.loc[allclimbs,:]\n",
      "hdf=hdf.loc[hdf['climb'].isin(allclimbs)]\n",
      "hdf=hdf.loc[hdf['climber'].isin(allclimbers)]\n",
      "sdf=sdf.loc[sdf['climb'].isin(allclimbs)]\n",
      "sdf=sdf.loc[sdf['climber'].isin(allclimbers)]"
     ],
     "language": "python",
     "metadata": {},
     "outputs": [
      {
       "output_type": "stream",
       "stream": "stdout",
       "text": [
        "2636\n",
        "107\n"
       ]
      }
     ],
     "prompt_number": 5
    },
    {
     "cell_type": "code",
     "collapsed": false,
     "input": [
      "distance_metric='cosine'\n",
      "#[\u2018cityblock\u2019, \u2018cosine\u2019, \u2018euclidean\u2019, \u2018l1\u2019, \u2018l2\u2019, \u2018manhattan\u2019]\n",
      " #['jaccard',\u2018braycurtis\u2019, \u2018canberra\u2019, \u2018chebyshev\u2019, \u2018correlation\u2019, \u2018dice\u2019, \u2018hamming\u2019, \u2018jaccard\u2019, \u2018kulsinski\u2019, \u2018mahalanobis\u2019, \u2018matching\u2019, \u2018minkowski\u2019, \u2018rogerstanimoto\u2019, \u2018russellrao\u2019, \u2018seuclidean\u2019, \u2018sokalmichener\u2019, \u2018sokalsneath\u2019, \u2018sqeuclidean\u2019, \u2018yule\u2019]"
     ],
     "language": "python",
     "metadata": {},
     "outputs": [],
     "prompt_number": 13
    },
    {
     "cell_type": "heading",
     "level": 2,
     "metadata": {},
     "source": [
      "User similarity (Climb x Climber Matrix) based on hits and based on star ratings"
     ]
    },
    {
     "cell_type": "code",
     "collapsed": false,
     "input": [
      "%autoreload\n",
      "hitmat=mo.computeinteractionmatrix(allclimbs, allclimbers, hdf)\n",
      "print hitmat.shape"
     ],
     "language": "python",
     "metadata": {},
     "outputs": [
      {
       "output_type": "stream",
       "stream": "stdout",
       "text": [
        "(2636, 107)\n"
       ]
      }
     ],
     "prompt_number": 14
    },
    {
     "cell_type": "code",
     "collapsed": false,
     "input": [
      "%autoreload\n",
      "starmat=mo.computestarmatrix(allclimbs, allclimbers, sdf)\n",
      "print starmat.shape"
     ],
     "language": "python",
     "metadata": {},
     "outputs": [
      {
       "output_type": "stream",
       "stream": "stdout",
       "text": [
        "(2103, 105)\n"
       ]
      }
     ],
     "prompt_number": 15
    },
    {
     "cell_type": "code",
     "collapsed": false,
     "input": [
      "chunksize=1000\n",
      "engine = create_engine('mysql://%s@%s/%s?charset=%s&use_unicode=%s&passwd=%s' %(cfg.user, cfg.host, cfg.dbname, cfg.charset, cfg.use_unicode, cfg.passwd), pool_recycle=3600)\n",
      "hitmat.to_sql('hit_matrix', engine, if_exists='replace', chunksize=chunksize)\n",
      "starmat.to_sql('star_matrix', engine, if_exists='replace', chunksize=500)"
     ],
     "language": "python",
     "metadata": {},
     "outputs": [],
     "prompt_number": 16
    },
    {
     "cell_type": "code",
     "collapsed": false,
     "input": [
      "u_sim=pairwise_distances(hitmat.values, metric=distance_metric)"
     ],
     "language": "python",
     "metadata": {},
     "outputs": [],
     "prompt_number": 17
    },
    {
     "cell_type": "code",
     "collapsed": false,
     "input": [
      "u_sim.shape"
     ],
     "language": "python",
     "metadata": {},
     "outputs": [
      {
       "metadata": {},
       "output_type": "pyout",
       "prompt_number": 23,
       "text": [
        "(2636, 2636)"
       ]
      }
     ],
     "prompt_number": 23
    },
    {
     "cell_type": "code",
     "collapsed": false,
     "input": [
      "#u_sim_star=starmat.apply(mo.computepairwisesimilarity, df=starmat, similaritymetric=distance_metric, axis=1)"
     ],
     "language": "python",
     "metadata": {},
     "outputs": [],
     "prompt_number": 18
    },
    {
     "cell_type": "code",
     "collapsed": false,
     "input": [
      "u_sim=pd.DataFrame(index=hitmat.index.values, columns=hitmat.index.values, data=u_sim)\n",
      "#u_sim_star=pd.DataFrame(index=starmat.index.values, columns=starmat.index.values, data=u_sim_star)"
     ],
     "language": "python",
     "metadata": {},
     "outputs": [],
     "prompt_number": 25
    },
    {
     "cell_type": "code",
     "collapsed": false,
     "input": [
      "plt.figure()\n",
      "plt.imshow(u_sim.values)"
     ],
     "language": "python",
     "metadata": {},
     "outputs": [
      {
       "metadata": {},
       "output_type": "pyout",
       "prompt_number": 26,
       "text": [
        "<matplotlib.image.AxesImage at 0x10c059550>"
       ]
      },
      {
       "metadata": {},
       "output_type": "display_data",
       "png": "[encoded data removed]",
       "text": [
        "<matplotlib.figure.Figure at 0x10c9ffed0>"
       ]
      }
     ],
     "prompt_number": 26
    },
    {
     "cell_type": "code",
     "collapsed": false,
     "input": [
      "plt.figure()\n",
      "plt.imshow(u_sim_star.values)"
     ],
     "language": "python",
     "metadata": {},
     "outputs": []
    },
    {
     "cell_type": "heading",
     "level": 2,
     "metadata": {},
     "source": [
      "Attribute similarity (Climb x Feature Matrix)"
     ]
    },
    {
     "cell_type": "code",
     "collapsed": false,
     "input": [
      "%autoreload\n",
      "descrip_tokens=[c for c in cdf.columns if \"_description\" in c]\n",
      "comment_tokens=[c for c in cdf.columns if \"_comments\" in c]\n",
      "othercols=['numerizedgrade','pageviews','avgstars','length','numerizedgrade']\n",
      "allcols=['climbid']+othercols+descrip_tokens+comment_tokens\n",
      "\n",
      "attrmat=mo.computeattributematrix(allclimbs, allcols, cdf)\n",
      "print attrmat.shape"
     ],
     "language": "python",
     "metadata": {},
     "outputs": [
      {
       "output_type": "stream",
       "stream": "stdout",
       "text": [
        "(4039, 165)\n"
       ]
      }
     ],
     "prompt_number": 19
    },
    {
     "cell_type": "code",
     "collapsed": false,
     "input": [
      "a_sim=pairwise_distances(attrmat.values, metric=distance_metric)\n",
      "a_sim=pd.DataFrame(index=attrmat.index.values, columns=attrmat.index.values, data=a_sim)"
     ],
     "language": "python",
     "metadata": {},
     "outputs": [],
     "prompt_number": 20
    },
    {
     "cell_type": "heading",
     "level": 2,
     "metadata": {},
     "source": [
      "Physical similarity (Location)"
     ]
    },
    {
     "cell_type": "code",
     "collapsed": false,
     "input": [
      "%autoreload\n",
      "lmat=mo.computelocationmatrix(cdf, adf, allclimbs)"
     ],
     "language": "python",
     "metadata": {},
     "outputs": [],
     "prompt_number": 21
    },
    {
     "cell_type": "code",
     "collapsed": false,
     "input": [
      "l_sim=pairwise_distances(lmat, metric='euclidean')\n",
      "l_sim=pd.DataFrame(index=lmat.index.values, columns=lmat.index.values, data=l_sim)"
     ],
     "language": "python",
     "metadata": {},
     "outputs": [],
     "prompt_number": 22
    },
    {
     "cell_type": "heading",
     "level": 2,
     "metadata": {},
     "source": [
      "Compute most similar and least similar for each climb for each type of similarity"
     ]
    },
    {
     "cell_type": "code",
     "collapsed": false,
     "input": [
      "%autoreload\n",
      "u_preddf=mo.gettopbottom(u_sim, n=20)\n",
      "#a_preddf=mo.gettopbottom(a_sim, n=20)\n",
      "#l_preddf=mo.gettopbottom(l_sim, n=20)"
     ],
     "language": "python",
     "metadata": {},
     "outputs": [],
     "prompt_number": 29
    },
    {
     "cell_type": "heading",
     "level": 2,
     "metadata": {},
     "source": [
      "Test it out"
     ]
    },
    {
     "cell_type": "code",
     "collapsed": false,
     "input": [
      "%autoreload\n",
      "testclimb=\"Pope's Crack\"\n",
      "simclimbs, simnames, dissimclimbs, dissimnames=mo.getsimilar(testclimb, u_preddf, cdf, adf)"
     ],
     "language": "python",
     "metadata": {},
     "outputs": [],
     "prompt_number": 30
    },
    {
     "cell_type": "code",
     "collapsed": false,
     "input": [
      "simclimbs"
     ],
     "language": "python",
     "metadata": {},
     "outputs": [
      {
       "html": [
        "<div style=\"max-height:1000px;max-width:1500px;overflow:auto;\">\n",
        "<table border=\"1\" class=\"dataframe\">\n",
        "  <thead>\n",
        "    <tr style=\"text-align: right;\">\n",
        "      <th></th>\n",
        "      <th>name</th>\n",
        "      <th>mainarea</th>\n",
        "      <th>region</th>\n",
        "      <th>grade</th>\n",
        "      <th>description</th>\n",
        "      <th>style</th>\n",
        "      <th>mainarea_name</th>\n",
        "    </tr>\n",
        "    <tr>\n",
        "      <th>index</th>\n",
        "      <th></th>\n",
        "      <th></th>\n",
        "      <th></th>\n",
        "      <th></th>\n",
        "      <th></th>\n",
        "      <th></th>\n",
        "      <th></th>\n",
        "    </tr>\n",
        "  </thead>\n",
        "  <tbody>\n",
        "    <tr>\n",
        "      <th>3853 </th>\n",
        "      <td>                                          Zee Tree</td>\n",
        "      <td>  453</td>\n",
        "      <td> California</td>\n",
        "      <td>     5.7</td>\n",
        "      <td> Zee Tree Route is a well-bolted face climb loc...</td>\n",
        "      <td>  Trad</td>\n",
        "      <td>    Yosemite National Park</td>\n",
        "    </tr>\n",
        "    <tr>\n",
        "      <th>4749 </th>\n",
        "      <td>                                         Wild Wind</td>\n",
        "      <td> 1569</td>\n",
        "      <td> California</td>\n",
        "      <td>     5.9</td>\n",
        "      <td> This is the crack just left of Sail Away.  As ...</td>\n",
        "      <td>  Trad</td>\n",
        "      <td> Joshua Tree National Park</td>\n",
        "    </tr>\n",
        "    <tr>\n",
        "      <th>3841 </th>\n",
        "      <td> Aiguille de Joshua Tree (aka The Finger of Her...</td>\n",
        "      <td> 1569</td>\n",
        "      <td> California</td>\n",
        "      <td>     5.5</td>\n",
        "      <td> From the end of the Lost Horse Road walk south...</td>\n",
        "      <td>  Trad</td>\n",
        "      <td> Joshua Tree National Park</td>\n",
        "    </tr>\n",
        "    <tr>\n",
        "      <th>66925</th>\n",
        "      <td>                                            B-Line</td>\n",
        "      <td> 1518</td>\n",
        "      <td> California</td>\n",
        "      <td>   5.10a</td>\n",
        "      <td> A long, fun pitch. A few fun face moves at the...</td>\n",
        "      <td> Sport</td>\n",
        "      <td>         Los Angeles Basin</td>\n",
        "    </tr>\n",
        "    <tr>\n",
        "      <th>5796 </th>\n",
        "      <td>                           Coyotes in the Henhouse</td>\n",
        "      <td> 5768</td>\n",
        "      <td> California</td>\n",
        "      <td> 5.10b/c</td>\n",
        "      <td> The thin and somewhat reachy start on small ed...</td>\n",
        "      <td> Sport</td>\n",
        "      <td>  San Bernardino Mountains</td>\n",
        "    </tr>\n",
        "  </tbody>\n",
        "</table>\n",
        "</div>"
       ],
       "metadata": {},
       "output_type": "pyout",
       "prompt_number": 31,
       "text": [
        "                                                    name  mainarea  \\\n",
        "index                                                                \n",
        "3853                                            Zee Tree       453   \n",
        "4749                                           Wild Wind      1569   \n",
        "3841   Aiguille de Joshua Tree (aka The Finger of Her...      1569   \n",
        "66925                                             B-Line      1518   \n",
        "5796                             Coyotes in the Henhouse      5768   \n",
        "\n",
        "           region    grade                                        description  \\\n",
        "index                                                                           \n",
        "3853   California      5.7  Zee Tree Route is a well-bolted face climb loc...   \n",
        "4749   California      5.9  This is the crack just left of Sail Away.  As ...   \n",
        "3841   California      5.5  From the end of the Lost Horse Road walk south...   \n",
        "66925  California    5.10a  A long, fun pitch. A few fun face moves at the...   \n",
        "5796   California  5.10b/c  The thin and somewhat reachy start on small ed...   \n",
        "\n",
        "       style              mainarea_name  \n",
        "index                                    \n",
        "3853    Trad     Yosemite National Park  \n",
        "4749    Trad  Joshua Tree National Park  \n",
        "3841    Trad  Joshua Tree National Park  \n",
        "66925  Sport          Los Angeles Basin  \n",
        "5796   Sport   San Bernardino Mountains  "
       ]
      }
     ],
     "prompt_number": 31
    },
    {
     "cell_type": "code",
     "collapsed": false,
     "input": [
      "dissimclimbs"
     ],
     "language": "python",
     "metadata": {},
     "outputs": [
      {
       "html": [
        "<div style=\"max-height:1000px;max-width:1500px;overflow:auto;\">\n",
        "<table border=\"1\" class=\"dataframe\">\n",
        "  <thead>\n",
        "    <tr style=\"text-align: right;\">\n",
        "      <th></th>\n",
        "      <th>name</th>\n",
        "      <th>mainarea</th>\n",
        "      <th>region</th>\n",
        "      <th>grade</th>\n",
        "      <th>description</th>\n",
        "      <th>style</th>\n",
        "      <th>mainarea_name</th>\n",
        "    </tr>\n",
        "    <tr>\n",
        "      <th>index</th>\n",
        "      <th></th>\n",
        "      <th></th>\n",
        "      <th></th>\n",
        "      <th></th>\n",
        "      <th></th>\n",
        "      <th></th>\n",
        "      <th></th>\n",
        "    </tr>\n",
        "  </thead>\n",
        "  <tbody>\n",
        "    <tr>\n",
        "      <th>83234</th>\n",
        "      <td>      Future Shock</td>\n",
        "      <td> 7126</td>\n",
        "      <td> New Hampshire</td>\n",
        "      <td> 5.11a/b</td>\n",
        "      <td> Balance your way up the dike as you will your ...</td>\n",
        "      <td>    Trad</td>\n",
        "      <td> Whitehorse Ledge</td>\n",
        "    </tr>\n",
        "    <tr>\n",
        "      <th>4600 </th>\n",
        "      <td>    Bourbon Street</td>\n",
        "      <td> 1041</td>\n",
        "      <td> New Hampshire</td>\n",
        "      <td>   5.10d</td>\n",
        "      <td> From the belay ledge at the top of pitch one o...</td>\n",
        "      <td>   Sport</td>\n",
        "      <td>           Rumney</td>\n",
        "    </tr>\n",
        "    <tr>\n",
        "      <th>61498</th>\n",
        "      <td>          The Meek</td>\n",
        "      <td> 1041</td>\n",
        "      <td> New Hampshire</td>\n",
        "      <td>     V0-</td>\n",
        "      <td> This route is a lot of fun for beginner climbe...</td>\n",
        "      <td> Boulder</td>\n",
        "      <td>           Rumney</td>\n",
        "    </tr>\n",
        "    <tr>\n",
        "      <th>45894</th>\n",
        "      <td> The Drillary Step</td>\n",
        "      <td> 1041</td>\n",
        "      <td> New Hampshire</td>\n",
        "      <td> 5.11b/c</td>\n",
        "      <td> Very enjoyable, albeit brief, climbing up a sw...</td>\n",
        "      <td>   Sport</td>\n",
        "      <td>           Rumney</td>\n",
        "    </tr>\n",
        "    <tr>\n",
        "      <th>21641</th>\n",
        "      <td>    War and  Peace</td>\n",
        "      <td> 1041</td>\n",
        "      <td> New Hampshire</td>\n",
        "      <td>     5.9</td>\n",
        "      <td> War and Peace is a steep haul on schist jugs t...</td>\n",
        "      <td>   Sport</td>\n",
        "      <td>           Rumney</td>\n",
        "    </tr>\n",
        "  </tbody>\n",
        "</table>\n",
        "</div>"
       ],
       "metadata": {},
       "output_type": "pyout",
       "prompt_number": 32,
       "text": [
        "                    name  mainarea         region    grade  \\\n",
        "index                                                        \n",
        "83234       Future Shock      7126  New Hampshire  5.11a/b   \n",
        "4600      Bourbon Street      1041  New Hampshire    5.10d   \n",
        "61498           The Meek      1041  New Hampshire      V0-   \n",
        "45894  The Drillary Step      1041  New Hampshire  5.11b/c   \n",
        "21641     War and  Peace      1041  New Hampshire      5.9   \n",
        "\n",
        "                                             description    style  \\\n",
        "index                                                               \n",
        "83234  Balance your way up the dike as you will your ...     Trad   \n",
        "4600   From the belay ledge at the top of pitch one o...    Sport   \n",
        "61498  This route is a lot of fun for beginner climbe...  Boulder   \n",
        "45894  Very enjoyable, albeit brief, climbing up a sw...    Sport   \n",
        "21641  War and Peace is a steep haul on schist jugs t...    Sport   \n",
        "\n",
        "          mainarea_name  \n",
        "index                    \n",
        "83234  Whitehorse Ledge  \n",
        "4600             Rumney  \n",
        "61498            Rumney  \n",
        "45894            Rumney  \n",
        "21641            Rumney  "
       ]
      }
     ],
     "prompt_number": 32
    },
    {
     "cell_type": "heading",
     "level": 2,
     "metadata": {},
     "source": [
      "Combine similarities into one final set of predictions"
     ]
    },
    {
     "cell_type": "code",
     "collapsed": false,
     "input": [
      "comb_preddf=u_preddf"
     ],
     "language": "python",
     "metadata": {},
     "outputs": [],
     "prompt_number": 33
    },
    {
     "cell_type": "heading",
     "level": 2,
     "metadata": {},
     "source": [
      "Save final similarity predictions to db"
     ]
    },
    {
     "cell_type": "code",
     "collapsed": false,
     "input": [
      "chunksize=1000\n",
      "engine = create_engine('mysql://%s@%s/%s?charset=%s&use_unicode=%s&passwd=%s' %(cfg.user, cfg.host, cfg.dbname, cfg.charset, cfg.use_unicode, cfg.passwd), pool_recycle=3600)\n",
      "comb_preddf.to_sql('comb_sim_preds', engine, if_exists='replace', chunksize=chunksize)"
     ],
     "language": "python",
     "metadata": {},
     "outputs": [],
     "prompt_number": 34
    },
    {
     "cell_type": "code",
     "collapsed": false,
     "input": [],
     "language": "python",
     "metadata": {},
     "outputs": []
    }
   ],
   "metadata": {}
  }
 ]
}