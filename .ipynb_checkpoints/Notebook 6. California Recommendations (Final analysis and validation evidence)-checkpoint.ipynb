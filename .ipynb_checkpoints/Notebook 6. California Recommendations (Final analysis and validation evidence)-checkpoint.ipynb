{
 "metadata": {
  "name": "",
  "signature": "sha256:d28f3f20c52d011ef7419a405e1ae1873f6383434f3729dfdd08248fd553a326"
 },
 "nbformat": 3,
 "nbformat_minor": 0,
 "worksheets": [
  {
   "cells": [
    {
     "cell_type": "code",
     "collapsed": false,
     "input": [
      "pylab inline"
     ],
     "language": "python",
     "metadata": {},
     "outputs": [
      {
       "output_type": "stream",
       "stream": "stdout",
       "text": [
        "Populating the interactive namespace from numpy and matplotlib\n"
       ]
      }
     ],
     "prompt_number": 2
    },
    {
     "cell_type": "code",
     "collapsed": false,
     "input": [
      "%load_ext autoreload"
     ],
     "language": "python",
     "metadata": {},
     "outputs": [],
     "prompt_number": 3
    },
    {
     "cell_type": "code",
     "collapsed": false,
     "input": [
      "import pandas as pd\n",
      "import numpy as np\n",
      "np.random.RandomState(100)\n",
      "from sqlalchemy import create_engine\n",
      "import os\n",
      "import sys\n",
      "import scipy.stats\n",
      "\n",
      "sys.path.append('mpscraper')\n",
      "from mpscraper.cfgdb import cfg\n",
      "sys.path.append('antools')\n",
      "import antools.randomstuff as rd\n",
      "import antools.reduction as red\n",
      "import antools.utilities as util\n",
      "import antools.visualization as viz\n",
      "import antools.modeling as mo\n",
      "import antools.newusermodeling as nmo\n",
      "\n",
      "\n",
      "import pandas as pd\n",
      "import numpy as np\n",
      "import seaborn as sns\n",
      "sns.set_style('white')\n",
      "import matplotlib.pyplot as plt\n",
      "import scipy.stats\n",
      "\n",
      "from sklearn.metrics.pairwise import pairwise_distances\n",
      "import sklearn.cross_validation\n",
      "from sklearn.ensemble import RandomForestRegressor \n",
      "from sklearn.ensemble import RandomForestClassifier \n",
      "from sklearn.linear_model import LinearRegression\n",
      "from sklearn.svm import SVC\n",
      "from sklearn.linear_model import Ridge\n",
      "from sklearn.metrics import f1_score"
     ],
     "language": "python",
     "metadata": {},
     "outputs": [
      {
       "output_type": "stream",
       "stream": "stdout",
       "text": [
        "4 cores available for parallel processing\n"
       ]
      }
     ],
     "prompt_number": 4
    },
    {
     "cell_type": "code",
     "collapsed": false,
     "input": [
      "import sys, os\n",
      "rootdir=os.getcwd()\n",
      "while 'Projects' in rootdir:\n",
      "    rootdir=os.path.dirname(rootdir)\n",
      "projdir=os.path.join(rootdir, 'Projects','cragcrunch','data')"
     ],
     "language": "python",
     "metadata": {},
     "outputs": [],
     "prompt_number": 5
    },
    {
     "cell_type": "markdown",
     "metadata": {},
     "source": [
      "###Load in preprocessed data"
     ]
    },
    {
     "cell_type": "code",
     "collapsed": false,
     "input": [
      "engine = create_engine('mysql://%s@%s/%s?charset=%s&use_unicode=%s&passwd=%s' %(cfg.user, cfg.host, cfg.dbname, cfg.charset, cfg.use_unicode, cfg.passwd), pool_recycle=3600)\n",
      "cdf = pd.read_sql(\"SELECT * from climb_prepped where region='California'\", engine, index_col='index')\n",
      "adf = pd.read_sql(\"SELECT * from area_prepped where region='California'\", engine, index_col='index')\n",
      "climbs=list(cdf.climbid.unique())\n",
      "print \"loading %s climbs\" %(len(climbs))\n",
      "cldf = pd.read_sql(\"SELECT * from climber_prepped\", engine, index_col='index')\n",
      "hdf= pd.read_sql(\"SELECT * from hits_prepped\", engine, index_col='index')\n",
      "sdf= pd.read_sql(\"SELECT * from stars_prepped\", engine, index_col='index')\n",
      "gdf= pd.read_sql(\"SELECT * from grades_prepped\", engine, index_col='index')\n",
      "codf= pd.read_sql(\"SELECT * from comments_prepped\", engine, index_col='index')\n",
      "tdf= pd.read_sql(\"SELECT * from ticks_prepped\", engine, index_col='index')"
     ],
     "language": "python",
     "metadata": {},
     "outputs": [
      {
       "output_type": "stream",
       "stream": "stdout",
       "text": [
        "loading 9600 climbs\n"
       ]
      }
     ],
     "prompt_number": 6
    },
    {
     "cell_type": "code",
     "collapsed": false,
     "input": [
      "like_mat= pd.read_sql(\"SELECT * from like_matrix\", engine, index_col='index')\n",
      "star_mat= pd.read_sql(\"SELECT * from star_matrix\", engine, index_col='index')"
     ],
     "language": "python",
     "metadata": {},
     "outputs": [],
     "prompt_number": 7
    },
    {
     "cell_type": "code",
     "collapsed": false,
     "input": [
      "minratings=2\n",
      "users=sdf[sdf['climb'].isin(climbs)]['climber'].unique().astype(int)\n",
      "users=[u for u in users if u in cldf.climberid.values]\n",
      "print \"starting with %s users\" %len(users)\n",
      "users=[u for u in users if len(sdf[sdf['climber']==u]['climb'].values)>=minratings]\n",
      "usesdf=sdf[sdf['climber'].isin(users)]\n",
      "usesdf['other_rounded']=[np.round(val) for val in usesdf['other_avg']]\n",
      "usesdf=usesdf[(usesdf['starsscore']>0) & (usesdf['other_rounded']>0)]\n",
      "usesdf['climbid']=usesdf['climb']\n",
      "ndf=cdf[cdf['climbid'].isin(usesdf['climb'].unique())]\n",
      "print \"reducing to %s users who have greater than or equal to %s ratings provided\" %(len(users), minratings)\n",
      "minratings=5"
     ],
     "language": "python",
     "metadata": {},
     "outputs": [
      {
       "output_type": "stream",
       "stream": "stdout",
       "text": [
        "starting with 106 users\n",
        "reducing to 87 users who have greater than or equal to 2 ratings provided"
       ]
      },
      {
       "output_type": "stream",
       "stream": "stdout",
       "text": [
        "\n"
       ]
      },
      {
       "output_type": "stream",
       "stream": "stderr",
       "text": [
        "-c:7: SettingWithCopyWarning: \n",
        "A value is trying to be set on a copy of a slice from a DataFrame.\n",
        "Try using .loc[row_indexer,col_indexer] = value instead\n",
        "\n",
        "See the the caveats in the documentation: http://pandas.pydata.org/pandas-docs/stable/indexing.html#indexing-view-versus-copy\n"
       ]
      }
     ],
     "prompt_number": 7
    },
    {
     "cell_type": "markdown",
     "metadata": {},
     "source": [
      "###Load up text features"
     ]
    },
    {
     "cell_type": "code",
     "collapsed": false,
     "input": [
      "featsdict=util.loadpickledobjects(os.path.join(projdir,'learnedfeatures.pkl'))[0]\n",
      "allfeats=featsdict['alltextfeats']\n",
      "reducedfeats=featsdict['reducedtextfeats']\n",
      "nestimators=80"
     ],
     "language": "python",
     "metadata": {},
     "outputs": [],
     "prompt_number": 9
    },
    {
     "cell_type": "markdown",
     "metadata": {},
     "source": [
      "###Quick visualization of the data"
     ]
    },
    {
     "cell_type": "code",
     "collapsed": false,
     "input": [
      "#how are stars dstributed()\n",
      "f,ax=plt.subplots(figsize=[4,3])\n",
      "usesdf.groupby('starsscore').count().climb.plot(kind='bar', grid=False,ax=ax)\n",
      "ax.set_ylabel('counts')\n",
      "sns.despine()"
     ],
     "language": "python",
     "metadata": {},
     "outputs": [
      {
       "metadata": {},
       "output_type": "display_data",
       "png": "[encoded data removed]",
       "text": [
        "<matplotlib.figure.Figure at 0x110635290>"
       ]
      }
     ],
     "prompt_number": 86
    },
    {
     "cell_type": "code",
     "collapsed": false,
     "input": [
      "#how many climbs per climber?\n",
      "f,ax=plt.subplots(figsize=[4,3])\n",
      "usesdf.groupby('climber').count().climb.hist(bins=20, grid=False,ax=ax)\n",
      "ax.set_ylabel('frequency')\n",
      "sns.despine()"
     ],
     "language": "python",
     "metadata": {},
     "outputs": [
      {
       "metadata": {},
       "output_type": "display_data",
       "png": "[encoded data removed]",
       "text": [
        "<matplotlib.figure.Figure at 0x10d673510>"
       ]
      }
     ],
     "prompt_number": 87
    },
    {
     "cell_type": "code",
     "collapsed": false,
     "input": [
      "#how many climbers per climb?\n",
      "f,ax=plt.subplots(figsize=[4,3])\n",
      "usesdf.groupby('climb').count().climber.hist(bins=20, grid=False,ax=ax)\n",
      "ax.set_ylabel('frequency')\n",
      "sns.despine()"
     ],
     "language": "python",
     "metadata": {},
     "outputs": [
      {
       "metadata": {},
       "output_type": "display_data",
       "png": "[encoded data removed]",
       "text": [
        "<matplotlib.figure.Figure at 0x1148c0510>"
       ]
      }
     ],
     "prompt_number": 88
    },
    {
     "cell_type": "markdown",
     "metadata": {},
     "source": [
      "###Model Comparison"
     ]
    },
    {
     "cell_type": "code",
     "collapsed": false,
     "input": [
      "compare={'name':[],'acc':[],'recall':[],'precision':[],'f1':[]}\n",
      "resultsdict={}"
     ],
     "language": "python",
     "metadata": {},
     "outputs": [],
     "prompt_number": 89
    },
    {
     "cell_type": "markdown",
     "metadata": {},
     "source": [
      "###Random"
     ]
    },
    {
     "cell_type": "code",
     "collapsed": false,
     "input": [
      "name='random'\n",
      "dumbdf=pd.DataFrame(data={'starsscore':usesdf['starsscore'].values,'random':[np.random.choice(range(1,5)) for x in range(len(usesdf))],'user':usesdf['climber'].values,'climbid':usesdf['climb'].values})\n",
      "acc, precision, recall, f1=mo.round2score(dumbdf, 'starsscore', 'random', compare)\n",
      "compare['name'].append(name)\n",
      "propdf=viz.plotresults(dumbdf, 'starsscore', 'random')\n",
      "dumbdf['score']=(dumbdf['starsscore'].values==dumbdf['random'].values).astype(float)\n",
      "resultsdict[name]=[dumbdf,[]]\n"
     ],
     "language": "python",
     "metadata": {},
     "outputs": [
      {
       "output_type": "stream",
       "stream": "stdout",
       "text": [
        "4 way accuracy 0.243\n",
        "4 way f1 0.257\n",
        "4 way precision 0.270\n",
        "4 way recall 0.244\n"
       ]
      },
      {
       "metadata": {},
       "output_type": "display_data",
       "png": "[encoded data removed]",
       "text": [
        "<matplotlib.figure.Figure at 0x10fa6d610>"
       ]
      }
     ],
     "prompt_number": 90
    },
    {
     "cell_type": "markdown",
     "metadata": {},
     "source": [
      "###Most Frequent"
     ]
    },
    {
     "cell_type": "code",
     "collapsed": false,
     "input": [
      "name='mostfrequent'\n",
      "mode=scipy.stats.mode(usesdf['starsscore'].values)[0][0]\n",
      "modedf=pd.DataFrame(data={'starsscore':usesdf['starsscore'].values, 'mostfrequent':[mode for x in range(len(usesdf))],'user':usesdf['climber'].values,'climbid':usesdf['climb'].values})\n",
      "acc, precision, recall, f1=mo.round2score(modedf, 'starsscore', 'mostfrequent', compare)\n",
      "compare['name'].append(name)\n",
      "propdf=viz.plotresults(modedf, 'starsscore', 'mostfrequent')\n",
      "modedf['score']=(modedf['starsscore'].values==modedf['mostfrequent'].values).astype(float)\n",
      "resultsdict[name]=[modedf,[]]"
     ],
     "language": "python",
     "metadata": {},
     "outputs": [
      {
       "output_type": "stream",
       "stream": "stdout",
       "text": [
        "4 way accuracy 0.347\n",
        "4 way f1 nan\n",
        "4 way precision nan\n",
        "4 way recall 0.000\n"
       ]
      },
      {
       "metadata": {},
       "output_type": "display_data",
       "png": "[encoded data removed]",
       "text": [
        "<matplotlib.figure.Figure at 0x1107e93d0>"
       ]
      }
     ],
     "prompt_number": 91
    },
    {
     "cell_type": "markdown",
     "metadata": {},
     "source": [
      "###Target most frequent:"
     ]
    },
    {
     "cell_type": "code",
     "collapsed": false,
     "input": [
      "def getavg(starid, climber, sdf=None):\n",
      "    udf=sdf[(sdf['climber']==climber) & (sdf['starid']!=starid)]\n",
      "    return udf['starsscore'].mean()\n",
      "usesdf['user_avg']=usesdf.apply(lambda x:getavg(x['starid'], x['climber'], sdf=usesdf), axis=1)\n",
      "usesdf['rounded_user_avg']=[np.round(x) for x in usesdf.user_avg.values]"
     ],
     "language": "python",
     "metadata": {},
     "outputs": [],
     "prompt_number": 92
    },
    {
     "cell_type": "code",
     "collapsed": false,
     "input": [
      "savedf=pd.DataFrame(data={'climbid':usesdf['climb'].values, 'user':usesdf['climber'].values})\n",
      "savedf['score']=(usesdf['user_avg'].values==usesdf['starsscore'].values).astype(float)\n",
      "name='targetmode'\n",
      "acc, precision, recall, f1=mo.round2score(usesdf, 'starsscore', 'rounded_user_avg', compare)\n",
      "compare['name'].append(name)\n",
      "propdf=viz.plotresults(usesdf, 'starsscore', 'rounded_user_avg')\n",
      "resultsdict[name]=[savedf,[]]\n"
     ],
     "language": "python",
     "metadata": {},
     "outputs": [
      {
       "output_type": "stream",
       "stream": "stdout",
       "text": [
        "4 way accuracy 0.401\n",
        "4 way f1 0.318\n",
        "4 way precision 0.743\n",
        "4 way recall 0.202\n"
       ]
      },
      {
       "metadata": {},
       "output_type": "display_data",
       "png": "[encoded data removed]",
       "text": [
        "<matplotlib.figure.Figure at 0x1148cfb90>"
       ]
      }
     ],
     "prompt_number": 93
    },
    {
     "cell_type": "markdown",
     "metadata": {},
     "source": [
      "###Popularity (avg of remaining group)"
     ]
    },
    {
     "cell_type": "code",
     "collapsed": false,
     "input": [
      "savedf=pd.DataFrame(data={'climbid':usesdf['climb'].values, 'user':usesdf['climber'].values})\n",
      "savedf['score']=(usesdf['other_rounded'].values==usesdf['starsscore'].values).astype(float)"
     ],
     "language": "python",
     "metadata": {},
     "outputs": [],
     "prompt_number": 94
    },
    {
     "cell_type": "code",
     "collapsed": false,
     "input": [
      "name='other_avg'\n",
      "acc, precision, recall, f1=mo.round2score(usesdf, 'starsscore', 'other_rounded', compare)\n",
      "propdf=viz.plotresults(usesdf, 'starsscore', 'other_rounded')\n",
      "compare['name'].append(name)\n",
      "resultsdict[name]=[savedf,[]]"
     ],
     "language": "python",
     "metadata": {},
     "outputs": [
      {
       "output_type": "stream",
       "stream": "stdout",
       "text": [
        "4 way accuracy 0.560\n",
        "4 way f1 0.671\n",
        "4 way precision 0.742\n",
        "4 way recall 0.613\n"
       ]
      },
      {
       "metadata": {},
       "output_type": "display_data",
       "png": "[encoded data removed]",
       "text": [
        "<matplotlib.figure.Figure at 0x1127e6190>"
       ]
      }
     ],
     "prompt_number": 95
    },
    {
     "cell_type": "markdown",
     "metadata": {},
     "source": [
      "###PERSONALIZED MODELS"
     ]
    },
    {
     "cell_type": "code",
     "collapsed": false,
     "input": [
      "clf=mo.classifier('rfc')"
     ],
     "language": "python",
     "metadata": {},
     "outputs": [],
     "prompt_number": 96
    },
    {
     "cell_type": "code",
     "collapsed": false,
     "input": [
      "#features= user likes only\n",
      "name='user_sim'\n",
      "cfeatures=list(like_mat.columns.values)\n",
      "cfeatures.remove('climbid')\n",
      "sfeatures=[]\n",
      "print \"classifying using %s features\" %(len(cfeatures)+len(sfeatures))\n",
      "summarydf, resultsdf, emptyfeats=mo.classify(clf,users, sfeatures, cfeatures, like_mat, usesdf, minratings=minratings, dropself=True)\n",
      "resultsdict[name]=[summarydf, resultsdf]\n"
     ],
     "language": "python",
     "metadata": {},
     "outputs": [
      {
       "output_type": "stream",
       "stream": "stdout",
       "text": [
        "classifying using 105 features\n"
       ]
      }
     ],
     "prompt_number": 97
    },
    {
     "cell_type": "code",
     "collapsed": false,
     "input": [
      "name ='user_sim'\n",
      "print \"classifying with %s\" %name\n",
      "summarydf, resultsdf=resultsdict[name]\n",
      "viz.plotresults(resultsdf, 'true_rating', 'feat_pred')\n",
      "acc, precision, recall, f1=mo.round2score(resultsdf, 'true_rating', 'feat_pred', compare)\n",
      "compare['name'].append(name)"
     ],
     "language": "python",
     "metadata": {},
     "outputs": [
      {
       "output_type": "stream",
       "stream": "stdout",
       "text": [
        "classifying with user_sim\n"
       ]
      },
      {
       "metadata": {},
       "output_type": "display_data",
       "png": "[encoded data removed]",
       "text": [
        "<matplotlib.figure.Figure at 0x113da44d0>"
       ]
      },
      {
       "output_type": "stream",
       "stream": "stdout",
       "text": [
        "4 way accuracy 0.671\n",
        "4 way f1 0.496\n",
        "4 way precision 0.609\n",
        "4 way recall 0.418\n"
       ]
      }
     ],
     "prompt_number": 98
    },
    {
     "cell_type": "markdown",
     "metadata": {},
     "source": [
      "###Combined-All features"
     ]
    },
    {
     "cell_type": "code",
     "collapsed": false,
     "input": [
      "name='combined'\n",
      "clf=mo.classifier('rfc')\n",
      "clf.n_estimators=nestimators\n",
      "numericfeats=['pitch','pageviews','numerizedgrade']\n",
      "cfeatures=list(like_mat.columns)+allfeats\n",
      "cfeatures.remove('climbid')\n",
      "sfeatures=['other_avg']\n",
      "print \"classifying using %s features\" %(len(cfeatures)+len(sfeatures))\n",
      "full_ndf=ndf[['climbid']+allfeats]\n",
      "full_ndf=pd.merge(full_ndf, like_mat, on='climbid', how='inner')\n",
      "full_ndf.index=full_ndf['climbid'].values\n",
      "full_ndf=full_ndf[full_ndf['climbid'].isin(sdf.climb.unique())]\n",
      "full_ndf=full_ndf.dropna()\n",
      "summarydf, resultsdf, informativefeats=mo.classify(clf,users, sfeatures, cfeatures, full_ndf, usesdf, minratings=10, dropself=True, getfeats=True)\n",
      "resultsdict[name]=[summarydf, resultsdf]"
     ],
     "language": "python",
     "metadata": {},
     "outputs": [
      {
       "output_type": "stream",
       "stream": "stdout",
       "text": [
        "classifying using 313 features\n"
       ]
      }
     ],
     "prompt_number": 99
    },
    {
     "cell_type": "code",
     "collapsed": false,
     "input": [
      "name='combined'\n",
      "print \"classifying with %s\" %name\n",
      "summarydf, resultsdf=resultsdict[name]\n",
      "viz.plotresults(resultsdf, 'true_rating', 'feat_pred')\n",
      "acc, precision, recall, f1=mo.round2score(resultsdf, 'true_rating', 'feat_pred', compare)\n",
      "compare['name'].append(name)\n"
     ],
     "language": "python",
     "metadata": {},
     "outputs": [
      {
       "output_type": "stream",
       "stream": "stdout",
       "text": [
        "classifying with combined\n"
       ]
      },
      {
       "metadata": {},
       "output_type": "display_data",
       "png": "[encoded data removed]",
       "text": [
        "<matplotlib.figure.Figure at 0x10f7849d0>"
       ]
      },
      {
       "output_type": "stream",
       "stream": "stdout",
       "text": [
        "4 way accuracy 0.665\n",
        "4 way f1 0.571\n",
        "4 way precision 0.633\n",
        "4 way recall 0.520\n"
       ]
      }
     ],
     "prompt_number": 100
    },
    {
     "cell_type": "markdown",
     "metadata": {},
     "source": [
      "###Combined but reduced features"
     ]
    },
    {
     "cell_type": "code",
     "collapsed": false,
     "input": [
      "#combined features, but limiting text-features to the 100 words selected on the NH data\n",
      "name='combined_reduced'\n",
      "clf=mo.classifier('rfc')\n",
      "clf.n_estimators=nestimators\n",
      "numericfeats=['pitch','pageviews','numerizedgrade']\n",
      "cfeatures=list(like_mat.columns)+reducedfeats\n",
      "cfeatures.remove('climbid')\n",
      "sfeatures=['other_avg']\n",
      "print \"classifying using %s features\" %(len(cfeatures)+len(sfeatures))\n",
      "full_ndf=ndf[['climbid']+reducedfeats]\n",
      "full_ndf=pd.merge(full_ndf, like_mat, on='climbid', how='inner')\n",
      "full_ndf.index=full_ndf['climbid'].values\n",
      "full_ndf=full_ndf[full_ndf['climbid'].isin(sdf.climb.unique())]\n",
      "full_ndf=full_ndf.dropna()\n",
      "summarydf, resultsdf, informativefeats=mo.classify(clf,users, sfeatures, cfeatures, full_ndf, usesdf, minratings=10, dropself=True, datadir=projdir, getfeats=True)\n",
      "resultsdict[name]=[summarydf, resultsdf]"
     ],
     "language": "python",
     "metadata": {},
     "outputs": [
      {
       "output_type": "stream",
       "stream": "stdout",
       "text": [
        "classifying using 127 features\n"
       ]
      }
     ],
     "prompt_number": 101
    },
    {
     "cell_type": "code",
     "collapsed": false,
     "input": [
      "name ='combined_reduced'\n",
      "print \"classifying with %s\" %name\n",
      "summarydf, resultsdf=resultsdict[name]\n",
      "viz.plotresults(resultsdf, 'true_rating', 'feat_pred')\n",
      "acc, precision, recall, f1=mo.round2score(resultsdf, 'true_rating', 'feat_pred', compare)\n",
      "compare['name'].append(name)"
     ],
     "language": "python",
     "metadata": {},
     "outputs": [
      {
       "output_type": "stream",
       "stream": "stdout",
       "text": [
        "classifying with combined_reduced\n"
       ]
      },
      {
       "metadata": {},
       "output_type": "display_data",
       "png": "[encoded data removed]",
       "text": [
        "<matplotlib.figure.Figure at 0x114111550>"
       ]
      },
      {
       "output_type": "stream",
       "stream": "stdout",
       "text": [
        "4 way accuracy 0.704\n",
        "4 way f1 0.608\n",
        "4 way precision 0.651\n",
        "4 way recall 0.569\n"
       ]
      }
     ],
     "prompt_number": 102
    },
    {
     "cell_type": "markdown",
     "metadata": {},
     "source": [
      "###Reduced Space"
     ]
    },
    {
     "cell_type": "code",
     "collapsed": false,
     "input": [
      "#reduced text-space (manually pruned 20 features) that will be available for new users\n",
      "name='reduced'\n",
      "clf=mo.classifier('rfc')\n",
      "clf.n_estimators=nestimators\n",
      "cfeatures=reducedfeats\n",
      "sfeatures=['other_avg']\n",
      "print \"classifying using %s features\" %(len(cfeatures)+len(sfeatures))\n",
      "red_ndf=ndf[['climbid']+reducedfeats]\n",
      "red_ndf.index=red_ndf['climbid'].values\n",
      "red_ndf=red_ndf[red_ndf['climbid'].isin(sdf.climb.unique())]\n",
      "red_ndf=red_ndf.dropna()\n",
      "summarydf, resultsdf, informativefeats=mo.classify(clf,users, sfeatures, cfeatures, red_ndf, usesdf, minratings=10, dropself=True)\n",
      "resultsdict[name]=[summarydf, resultsdf]"
     ],
     "language": "python",
     "metadata": {},
     "outputs": []
    },
    {
     "cell_type": "code",
     "collapsed": false,
     "input": [
      "name='reduced'\n",
      "print \"classifying with %s\" %name\n",
      "summarydf, resultsdf=resultsdict[name]\n",
      "viz.plotresults(resultsdf, 'true_rating', 'feat_pred')\n",
      "acc, precision, recall, f1=mo.round2score(resultsdf, 'true_rating', 'feat_pred', compare)\n",
      "compare['name'].append(name)"
     ],
     "language": "python",
     "metadata": {},
     "outputs": [
      {
       "output_type": "stream",
       "stream": "stdout",
       "text": [
        "classifying with reduced\n"
       ]
      },
      {
       "metadata": {},
       "output_type": "display_data",
       "png": "[encoded data removed]",
       "text": [
        "<matplotlib.figure.Figure at 0x1138d6090>"
       ]
      },
      {
       "html": [
        "<div style=\"max-height:1000px;max-width:1500px;overflow:auto;\">\n",
        "<table border=\"1\" class=\"dataframe\">\n",
        "  <thead>\n",
        "    <tr style=\"text-align: right;\">\n",
        "      <th></th>\n",
        "      <th>1 star</th>\n",
        "      <th>2 stars</th>\n",
        "      <th>3 stars</th>\n",
        "      <th>4 stars</th>\n",
        "    </tr>\n",
        "  </thead>\n",
        "  <tbody>\n",
        "    <tr>\n",
        "      <th>1 star</th>\n",
        "      <td> 0.247232</td>\n",
        "      <td> 0.590406</td>\n",
        "      <td> 0.140221</td>\n",
        "      <td> 0.022140</td>\n",
        "    </tr>\n",
        "    <tr>\n",
        "      <th>2 stars</th>\n",
        "      <td> 0.097041</td>\n",
        "      <td> 0.586982</td>\n",
        "      <td> 0.269822</td>\n",
        "      <td> 0.046154</td>\n",
        "    </tr>\n",
        "    <tr>\n",
        "      <th>3 stars</th>\n",
        "      <td> 0.023958</td>\n",
        "      <td> 0.222917</td>\n",
        "      <td> 0.591667</td>\n",
        "      <td> 0.161458</td>\n",
        "    </tr>\n",
        "    <tr>\n",
        "      <th>4 stars</th>\n",
        "      <td> 0.001825</td>\n",
        "      <td> 0.080292</td>\n",
        "      <td> 0.381387</td>\n",
        "      <td> 0.536496</td>\n",
        "    </tr>\n",
        "  </tbody>\n",
        "</table>\n",
        "</div>"
       ],
       "metadata": {},
       "output_type": "pyout",
       "prompt_number": 19,
       "text": [
        "           1 star   2 stars   3 stars   4 stars\n",
        "1 star   0.247232  0.590406  0.140221  0.022140\n",
        "2 stars  0.097041  0.586982  0.269822  0.046154\n",
        "3 stars  0.023958  0.222917  0.591667  0.161458\n",
        "4 stars  0.001825  0.080292  0.381387  0.536496"
       ]
      }
     ],
     "prompt_number": 19
    },
    {
     "cell_type": "markdown",
     "metadata": {},
     "source": [
      "###Directly Compare Models:"
     ]
    },
    {
     "cell_type": "code",
     "collapsed": false,
     "input": [
      "def plotcomparisons(comparisonlabels, comparisons, resultsdict, colors):\n",
      "    '''compare performance of different models'''\n",
      "    means,sems,labels=[],[],[]\n",
      "    for xn,x in enumerate(comparisons):\n",
      "        vals=resultsdict[x][0].groupby('user').mean().score.values\n",
      "        #print \"%s:  M(std)=%.3f(%.2f), t(%s)=%.3f, p=%.3f\" %(x, np.mean(vals), np.std(vals), len(vals)-1, scipy.stats.ttest_1samp(vals, 0)[0], scipy.stats.ttest_1samp(vals, 0)[1])\n",
      "        means.append(np.mean(vals))\n",
      "        sems.append(np.std(vals)/np.sqrt(len(vals)))\n",
      "        labels.append(comparisonlabels[xn])\n",
      "    f,ax=plt.subplots(figsize=[8,12])\n",
      "    ax.bar(np.arange(len(means)), means, yerr=sems, width=.5, color=colors,error_kw={'ecolor': 'black'})\n",
      "    ax.set_xticks(np.arange(len(means))+.25)\n",
      "    ax.set_xlim(-.25,len(means))\n",
      "    x=ax.set_xticklabels(labels, rotation=90, fontsize=18)\n",
      "    sns.despine()\n",
      "    plt.show()"
     ],
     "language": "python",
     "metadata": {},
     "outputs": [],
     "prompt_number": 105
    },
    {
     "cell_type": "code",
     "collapsed": false,
     "input": [
      "comparedf=pd.DataFrame(data=compare)\n",
      "comparisons=['random','mostfrequent','other_avg','user_sim','reduced','combined','combined_reduced']\n",
      "comparisonlabels=['random','mode','popularity','collaborative \\nfiltering','text \\nattributes','all features', 'selected \\nfeaturess']\n",
      "colors=['#447766','#447766','#446677','#446677','#446677','#4466AA']\n",
      "plotcomparisons(comparisonlabels, comparisons, resultsdict, colors=colors)"
     ],
     "language": "python",
     "metadata": {},
     "outputs": [
      {
       "metadata": {},
       "output_type": "display_data",
       "png": "[encoded data removed]",
       "text": [
        "<matplotlib.figure.Figure at 0x114201c90>"
       ]
      }
     ],
     "prompt_number": 106
    },
    {
     "cell_type": "code",
     "collapsed": false,
     "input": [
      "#statistically compare\n",
      "finalmodelvals=resultsdict['combined_reduced'][0].groupby('user').mean().score.values\n",
      "for x in ['other_avg', 'user_sim','reduced','combined']:\n",
      "    compvals=resultsdict[x][0].groupby('user').mean().score.values\n",
      "    t,p=scipy.stats.ttest_ind(finalmodelvals, compvals)\n",
      "    print \"final model vs. %s: t(%s)=%.3f, p=%.3f\" %(x, len(finalmodelvals)+len(compvals)-2, t,p/2)"
     ],
     "language": "python",
     "metadata": {},
     "outputs": [
      {
       "output_type": "stream",
       "stream": "stdout",
       "text": [
        "final model vs. other_avg: t(126)=1.659, p=0.050\n",
        "final model vs. user_sim: t(91)=1.059, p=0.146\n",
        "final model vs. reduced: t(80)=2.364, p=0.010\n",
        "final model vs. combined: t(79)=1.500, p=0.069\n"
       ]
      }
     ],
     "prompt_number": 107
    },
    {
     "cell_type": "markdown",
     "metadata": {},
     "source": [
      "###ROC curves"
     ]
    },
    {
     "cell_type": "code",
     "collapsed": false,
     "input": [
      "name='combined_reduced'"
     ],
     "language": "python",
     "metadata": {},
     "outputs": [],
     "prompt_number": 110
    },
    {
     "cell_type": "code",
     "collapsed": false,
     "input": [
      "tempdf=resultsdict[name][1]\n",
      "trues=(tempdf['true_rating']==4).values.astype(int)\n",
      "from sklearn.metrics import precision_score\n",
      "from sklearn.metrics import recall_score\n",
      "from sklearn.metrics import roc_curve"
     ],
     "language": "python",
     "metadata": {},
     "outputs": [],
     "prompt_number": 111
    },
    {
     "cell_type": "code",
     "collapsed": false,
     "input": [
      "threshes=np.arange(0,1,.001)\n",
      "datadict={'thresh':threshes, 'precision':[], 'recall':[], 'false positives':[], 'true positives':[]}\n",
      "for t in threshes:\n",
      "    preds=np.array([int(p>t) for p in tempdf['prob'].values])\n",
      "    datadict['precision'].append(precision_score(trues, preds))\n",
      "    datadict['recall'].append(recall_score(trues, preds))\n",
      "    truep=float(sum(preds[trues==1]))\n",
      "    falsep=float(sum(preds[trues==0]))\n",
      "    totalP=sum(trues)\n",
      "    totalN=len(trues)-sum(trues)\n",
      "    datadict['false positives'].append(falsep/totalN)\n",
      "    datadict['true positives'].append(truep/totalP)\n",
      "rocdf=pd.DataFrame(data=datadict)    "
     ],
     "language": "python",
     "metadata": {},
     "outputs": [],
     "prompt_number": 112
    },
    {
     "cell_type": "code",
     "collapsed": false,
     "input": [
      "f,ax=plt.subplots(figsize=[5,5])\n",
      "rocdf.plot('false positives', 'true positives', kind=\"scatter\", ax=ax, grid=False)\n",
      "ax.set_xlim([0,1])\n",
      "ax.set_ylim([0,1.1])\n",
      "sns.despine()"
     ],
     "language": "python",
     "metadata": {},
     "outputs": [
      {
       "metadata": {},
       "output_type": "display_data",
       "png": "[encoded data removed]",
       "text": [
        "<matplotlib.figure.Figure at 0x1073020d0>"
       ]
      }
     ],
     "prompt_number": 113
    },
    {
     "cell_type": "markdown",
     "metadata": {},
     "source": [
      "###Performance as a function of user data"
     ]
    },
    {
     "cell_type": "markdown",
     "metadata": {},
     "source": [
      "- no data (avg stars)\n",
      "- user entered data (reduced space)\n",
      "- 5 ratings-100 ratings (performance as a function of N)"
     ]
    },
    {
     "cell_type": "code",
     "collapsed": false,
     "input": [
      "df=resultsdict['combined_reduced'][0].groupby('user').mean()[['score']].join(usesdf.groupby('climber').count()['climb'], how='left')\n",
      "df=df.rename(columns={'climb':'# climbs rated', 'score':'accuracy'})"
     ],
     "language": "python",
     "metadata": {},
     "outputs": [],
     "prompt_number": 114
    },
    {
     "cell_type": "code",
     "collapsed": false,
     "input": [
      "viz.accbyN(resultsdict, usesdf, 'combined_reduced')"
     ],
     "language": "python",
     "metadata": {},
     "outputs": [
      {
       "metadata": {},
       "output_type": "display_data",
       "png": "[encoded data removed]",
       "text": [
        "<matplotlib.figure.Figure at 0x1127ed950>"
       ]
      }
     ],
     "prompt_number": 115
    },
    {
     "cell_type": "markdown",
     "metadata": {},
     "source": [
      "###Use final model to create feature space for training models on new users"
     ]
    },
    {
     "cell_type": "code",
     "collapsed": false,
     "input": [
      "newuserfeats=['avgstars']+reducedfeats\n",
      "featdf=nmo.makefeatdf(cdf, newuserfeats)\n",
      "engine = create_engine('mysql://%s@%s/%s?charset=%s&use_unicode=%s&passwd=%s' %(cfg.user, cfg.host, cfg.dbname, cfg.charset, cfg.use_unicode, cfg.passwd), pool_recycle=3600)\n",
      "featdf.to_sql('featranges', engine, if_exists='replace', chunksize=1000)"
     ],
     "language": "python",
     "metadata": {},
     "outputs": [],
     "prompt_number": 116
    },
    {
     "cell_type": "markdown",
     "metadata": {},
     "source": [
      "###Create final climb x feature vector"
     ]
    },
    {
     "cell_type": "code",
     "collapsed": false,
     "input": [
      "#for final set of features, get all climbs that can be scored on those features (note, we can include all data here, so averages including the target are fine....)"
     ],
     "language": "python",
     "metadata": {},
     "outputs": [],
     "prompt_number": 117
    },
    {
     "cell_type": "code",
     "collapsed": false,
     "input": [
      "allfeats=['avgstars']+reducedfeats+list(like_mat.columns)\n",
      "redfeats=['avgstars']+reducedfeats\n",
      "final_ndf=full_ndf.join(cdf[['avgstars']], how='left')"
     ],
     "language": "python",
     "metadata": {},
     "outputs": [],
     "prompt_number": 21
    },
    {
     "cell_type": "code",
     "collapsed": false,
     "input": [
      "final_X=final_ndf[['climbid']+allfeats]\n",
      "final_X_red=final_ndf[['climbid']+redfeats]\n",
      "final_X=final_X.rename(columns={'avgstars':'other_avg'})\n",
      "final_X_red=final_X_red.rename(columns={'avgstars':'other_avg'})"
     ],
     "language": "python",
     "metadata": {},
     "outputs": [],
     "prompt_number": 22
    },
    {
     "cell_type": "code",
     "collapsed": false,
     "input": [
      "chunksize=1000\n",
      "engine = create_engine('mysql://%s@%s/%s?charset=%s&use_unicode=%s&passwd=%s' %(cfg.user, cfg.host, cfg.dbname, cfg.charset, cfg.use_unicode, cfg.passwd), pool_recycle=3600)\n",
      "final_X.to_sql('final_X_matrix', engine, if_exists='replace', chunksize=chunksize)"
     ],
     "language": "python",
     "metadata": {},
     "outputs": [],
     "prompt_number": 23
    },
    {
     "cell_type": "code",
     "collapsed": false,
     "input": [
      "chunksize=1000\n",
      "engine = create_engine('mysql://%s@%s/%s?charset=%s&use_unicode=%s&passwd=%s' %(cfg.user, cfg.host, cfg.dbname, cfg.charset, cfg.use_unicode, cfg.passwd), pool_recycle=3600)\n",
      "final_X_red.to_sql('final_X_matrix_red', engine, if_exists='replace', chunksize=chunksize)"
     ],
     "language": "python",
     "metadata": {},
     "outputs": [],
     "prompt_number": 24
    },
    {
     "cell_type": "markdown",
     "metadata": {},
     "source": [
      "###Add reduced feature space to pkl files"
     ]
    },
    {
     "cell_type": "code",
     "collapsed": false,
     "input": [
      "#allfeats\n",
      "modeldir=os.path.join(projdir,'models')\n",
      "modelfiles=os.listdir(modeldir)\n",
      "for f in modelfiles:\n",
      "    if f[:5]=='user_':\n",
      "        filename=os.path.join(modeldir, f)\n",
      "        traineddict=util.loadpickledobjects(filename)[0]\n",
      "        traineddict['finalfeats']=allfeats\n",
      "        traineddict['redfeats']=redfeats\n",
      "        util.pickletheseobjects(filename, [traineddict])"
     ],
     "language": "python",
     "metadata": {},
     "outputs": [],
     "prompt_number": 129
    }
   ],
   "metadata": {}
  }
 ]
}