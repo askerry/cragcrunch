{
 "metadata": {
  "name": "",
  "signature": "sha256:9ab9b11d057747393872b24dea8165b796264e9c5df7dd99befa28ced6efff91"
 },
 "nbformat": 3,
 "nbformat_minor": 0,
 "worksheets": [
  {
   "cells": [
    {
     "cell_type": "code",
     "collapsed": false,
     "input": [
      "pylab inline"
     ],
     "language": "python",
     "metadata": {},
     "outputs": [
      {
       "output_type": "stream",
       "stream": "stdout",
       "text": [
        "Populating the interactive namespace from numpy and matplotlib\n"
       ]
      }
     ],
     "prompt_number": 1
    },
    {
     "cell_type": "code",
     "collapsed": false,
     "input": [
      "import pandas as pd\n",
      "pd.options.mode.chained_assignment = 'warn'  # default='warn', None, 'raise'\n",
      "#pd.options.display.memory_usage = True\n",
      "import numpy as np\n",
      "np.random.RandomState(100)\n",
      "from sqlalchemy import create_engine\n",
      "import os\n",
      "import sys\n",
      "sys.setrecursionlimit(3000)\n",
      "from joblib import Parallel, delayed  \n",
      "import multiprocessing\n",
      "num_cores = multiprocessing.cpu_count()\n",
      "print \"%s cores available for parallel processing\" % num_cores\n",
      "sys.path.append('mpscraper')\n",
      "from mpscraper.cfgdb import cfg\n",
      "import seaborn as sns\n",
      "sns.set_style('white')\n",
      "import matplotlib.pyplot as plt\n",
      "from sklearn.metrics.pairwise import pairwise_distances"
     ],
     "language": "python",
     "metadata": {},
     "outputs": [
      {
       "output_type": "stream",
       "stream": "stdout",
       "text": [
        "4 cores available for parallel processing\n"
       ]
      }
     ],
     "prompt_number": 2
    },
    {
     "cell_type": "code",
     "collapsed": false,
     "input": [
      "#load in preprocessed data\n",
      "engine = create_engine('mysql://%s@%s/%s?charset=%s&use_unicode=%s&passwd=%s' %(cfg.user, cfg.host, cfg.dbname, cfg.charset, cfg.use_unicode, cfg.passwd), pool_recycle=3600)\n",
      "cdf = pd.read_sql(\"SELECT * from climb_prepped\", engine, index_col='index')\n",
      "adf = pd.read_sql(\"SELECT * from area_prepped\", engine, index_col='index')\n",
      "udf = pd.read_sql(\"SELECT * from climber_prepped\", engine, index_col='index')\n",
      "hdf= pd.read_sql(\"SELECT * from hits_prepped\", engine, index_col='index')\n"
     ],
     "language": "python",
     "metadata": {},
     "outputs": [],
     "prompt_number": 3
    },
    {
     "cell_type": "heading",
     "level": 2,
     "metadata": {},
     "source": [
      "User similarity (Climb x Climber Matrix)"
     ]
    },
    {
     "cell_type": "code",
     "collapsed": false,
     "input": [
      "allclimbs=hdf.climb.unique()\n",
      "allclimbers=hdf.climber.unique()\n",
      "nClimb=len(allclimbs)\n",
      "nClimber=len(allclimbers)\n",
      "mat=np.zeros([nClimb, nClimber])\n",
      "groups=hdf.groupby('climb').groups\n",
      "for climbn, climb in enumerate(groups.keys()):\n",
      "    indices=groups[climb]\n",
      "    climberids=hdf.ix[indices,'climber']\n",
      "    climberind=np.array([np.where(allclimbers==climber)[0][0] for climber in climberids])\n",
      "    mat[climbn,climberind]=1\n",
      "hitmat=pd.DataFrame(index=allclimbs, columns=allclimbers, data=mat)"
     ],
     "language": "python",
     "metadata": {},
     "outputs": []
    },
    {
     "cell_type": "code",
     "collapsed": false,
     "input": [
      "u_cosinsim=pairwise_distances(mat, metric='cosine')"
     ],
     "language": "python",
     "metadata": {},
     "outputs": []
    },
    {
     "cell_type": "code",
     "collapsed": false,
     "input": [
      "hitmat.head()"
     ],
     "language": "python",
     "metadata": {},
     "outputs": []
    },
    {
     "cell_type": "code",
     "collapsed": false,
     "input": [],
     "language": "python",
     "metadata": {},
     "outputs": []
    },
    {
     "cell_type": "heading",
     "level": 2,
     "metadata": {},
     "source": [
      "Attribute similarity (Climb x Feature Matrix)"
     ]
    },
    {
     "cell_type": "code",
     "collapsed": false,
     "input": [
      "descrip_tokens=[c for c in cdf.columns if \"_description\" in c]\n",
      "comment_tokens=[c for c in cdf.columns if \"_comments\" in c]\n",
      "othercols=['grade','pagevews','avgstars','length','style','numerizedgrade','submittedby']\n",
      "allcols=othercols+descrip_tokens+comment_tokens\n",
      "amat=climbdf.loc[allclimbs,allcols].values"
     ],
     "language": "python",
     "metadata": {},
     "outputs": [
      {
       "metadata": {},
       "output_type": "pyout",
       "prompt_number": 28,
       "text": [
        "Index([u'name', u'climbid', u'area', u'region', u'description', u'grade', u'fa', u'protection', u'locationdescrip', u'pitch', u'style', u'url', u'length', u'avgstars', u'pageviews', u'submittedby', u'urlname', u'numerizedgrade', u'numgrade', u'lettergrade', u'commentsmerged', u'crimp_description', u'pinch_description', u'jug_description', u'sloper_description', u'ledge_description', u'pocket_description', u'sidepull_description', u'dyno_description', u'deadpoint_description', u'heelhook_description', u'toehook_description', u'bat-hang_description', u'undercling_description', u'crack_description', u'flake_description', u'arete_description', u'gaston_description', u'layback_description', u'hand crack_description', u'flaring crack_description', u'fingers crack_description', u'wide crack_description', u'thin crack_description', u'offwidth_description', u'chimney_description', u'diahedral_description', u'corner_description', u'traverse_description', u'steep_description', u'overhang_description', u'slab_description', u'technical_description', u'thin_description', u'ramp_description', u'overhung_description', u'sporty_description', u'vertical_description', u'boulder_description', u'bouldery_description', u'easy_description', u'hard_description', u'stiff_description', u'pumpy_description', u'beginner_description', u'hang_description', u'hung_description', u'take_description', u'difficult_description', u'committing_description', u'crux_description', u'soft_description', u'sandbag_description', u'awkward_description', u'creative_description', u'comfortable_description', u'runout_description', u'spicy_description', u'exciting_description', u'nervous_description', u'sketchy_description', u'no pro_description', u'deck_description', u'eats gear_description', u'easy to protect_description', u'fall_description', u'rusty_description', u'clipping_description', u'swing_description', u'tenuous_description', u'minimal pro_description', u'mental_description', u'granite_description', u'limestone_description', u'schist_description', u'patina_description', u'sandstone_description', u'conglomerate_description', u'quartzite_description', u'gneiss_description', ...], dtype='object')"
       ]
      }
     ],
     "prompt_number": 28
    },
    {
     "cell_type": "code",
     "collapsed": false,
     "input": [
      "a_cosinsim=pairwise_distances(amat, metric='cosine')"
     ],
     "language": "python",
     "metadata": {},
     "outputs": []
    },
    {
     "cell_type": "code",
     "collapsed": false,
     "input": [],
     "language": "python",
     "metadata": {},
     "outputs": []
    },
    {
     "cell_type": "code",
     "collapsed": false,
     "input": [],
     "language": "python",
     "metadata": {},
     "outputs": []
    },
    {
     "cell_type": "heading",
     "level": 2,
     "metadata": {},
     "source": [
      "Physical similarity (Location)"
     ]
    },
    {
     "cell_type": "code",
     "collapsed": false,
     "input": [
      "locdf=pd.merge(cdf,areadf, left_on='area', right_on='areaid', how='inner')"
     ],
     "language": "python",
     "metadata": {},
     "outputs": [],
     "prompt_number": 6
    },
    {
     "cell_type": "code",
     "collapsed": false,
     "input": [],
     "language": "python",
     "metadata": {},
     "outputs": [],
     "prompt_number": 6
    },
    {
     "cell_type": "code",
     "collapsed": false,
     "input": [],
     "language": "python",
     "metadata": {},
     "outputs": [],
     "prompt_number": 6
    },
    {
     "cell_type": "code",
     "collapsed": false,
     "input": [],
     "language": "python",
     "metadata": {},
     "outputs": []
    }
   ],
   "metadata": {}
  }
 ]
}