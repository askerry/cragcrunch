{
 "metadata": {
  "name": "",
  "signature": "sha256:ba270898bb1a249116849a862a67b74d2bc940dff0c77294df98a7258eac1e8c"
 },
 "nbformat": 3,
 "nbformat_minor": 0,
 "worksheets": [
  {
   "cells": [
    {
     "cell_type": "code",
     "collapsed": false,
     "input": [
      "pylab inline"
     ],
     "language": "python",
     "metadata": {},
     "outputs": [
      {
       "output_type": "stream",
       "stream": "stdout",
       "text": [
        "Populating the interactive namespace from numpy and matplotlib\n"
       ]
      }
     ],
     "prompt_number": 1
    },
    {
     "cell_type": "code",
     "collapsed": false,
     "input": [
      "%load_ext autoreload"
     ],
     "language": "python",
     "metadata": {},
     "outputs": [],
     "prompt_number": 10
    },
    {
     "cell_type": "code",
     "collapsed": false,
     "input": [
      "#basic\n",
      "import pandas as pd\n",
      "import numpy as np\n",
      "np.random.RandomState(100)\n",
      "from sqlalchemy import create_engine\n",
      "import MySQLdb\n",
      "import os\n",
      "import sys\n",
      "sys.setrecursionlimit(3000)\n",
      "\n",
      "#specific\n",
      "sys.path.append('mpscraper')\n",
      "sys.path.append('analysis')\n",
      "import analysis.random as rd\n",
      "from mpscraper.cfgdb import cfg\n",
      "import analysis.utilities as util\n",
      "import analysis.clean as clean\n",
      "import analysis.reduction as red\n",
      "import analysis.miscdf as miscdf\n",
      "import analysis.climbingcalcs as ccc"
     ],
     "language": "python",
     "metadata": {},
     "outputs": [],
     "prompt_number": 6
    },
    {
     "cell_type": "code",
     "collapsed": false,
     "input": [
      "rootdir=os.getcwd()\n",
      "while 'Projects' in rootdir:\n",
      "    rootdir=os.path.dirname(rootdir)\n",
      "rootdir=os.path.join(rootdir, 'Projects','cragcrunch')"
     ],
     "language": "python",
     "metadata": {},
     "outputs": [],
     "prompt_number": 7
    },
    {
     "cell_type": "code",
     "collapsed": false,
     "input": [
      "dropfulls=True #if true, drop the full dataframes once we split into train and test (to save RAM)\n",
      "writedb=True #write dfs to sql database\n",
      "chunksize=1000 #chunk size when writing out large dataframes to sql\n",
      "terms=rd.rockterms+rd.holdterms+rd.descriptors+rd.easeterms+rd.safetyterms"
     ],
     "language": "python",
     "metadata": {},
     "outputs": [],
     "prompt_number": 24
    },
    {
     "cell_type": "code",
     "collapsed": false,
     "input": [
      "%autoreload\n",
      "\n",
      "#load in raw scraped data\n",
      "con=MySQLdb.connect(user=cfg.user, passwd=cfg.passwd, db=cfg.dbname, host=cfg.host, charset=cfg.charset, use_unicode=cfg.charset)\n",
      "full_climbdf = pd.read_sql(\"SELECT * from Climb\", con)\n",
      "full_climbdf=full_climbdf[['name']+[el for el in full_climbdf.columns.tolist() if el!='name']] #moving name first\n",
      "full_areadf = pd.read_sql(\"SELECT * from Area\", con)\n",
      "full_climberdf = pd.read_sql(\"SELECT * from Climber\", con)\n",
      "full_tickdf = pd.read_sql(\"SELECT * from Ticks\", con)\n",
      "full_commentdf = pd.read_sql(\"SELECT * from Comments\", con)\n",
      "full_gradedf = pd.read_sql(\"SELECT * from Grades\", con)\n",
      "full_stardf = pd.read_sql(\"SELECT * from Stars\", con)\n",
      "full_tododf = pd.read_sql(\"SELECT * from ToDos\", con)\n",
      "print \"data loaded\""
     ],
     "language": "python",
     "metadata": {},
     "outputs": [
      {
       "output_type": "stream",
       "stream": "stdout",
       "text": [
        "data loaded\n"
       ]
      }
     ],
     "prompt_number": 50
    },
    {
     "cell_type": "code",
     "collapsed": false,
     "input": [
      "%autoreload\n",
      "#bulk of cleaning performed online during scraping process, but I didn't get everything right\n",
      "#so, some additional data cleaning needs to be performed post acquisition \n",
      "#cleandf makes sure columns are of the right datatype, strips empty spaces from ends of strings, cleans up missing values, etc.\n",
      "full_climbdf=util.cleandf(full_climbdf)\n",
      "full_areadf=util.cleandf(full_areadf) \n",
      "full_climberdf=util.cleandf(full_climberdf) \n",
      "full_tickdf=util.cleandf(full_tickdf) \n",
      "full_commentdf=util.cleandf(full_commentdf) \n",
      "full_gradedf=util.cleandf(full_gradedf) \n",
      "full_stardf=util.cleandf(full_stardf) \n",
      "full_tododf=util.cleandf(full_tododf) \n",
      "print \"performed dataframe initial cleaning\""
     ],
     "language": "python",
     "metadata": {},
     "outputs": [
      {
       "output_type": "stream",
       "stream": "stdout",
       "text": [
        "performed dataframe initial cleaning\n"
       ]
      }
     ],
     "prompt_number": 51
    },
    {
     "cell_type": "code",
     "collapsed": false,
     "input": [
      "#we are focusing on rock climbing and will drop alpine/ice climbing data from the dataset\n",
      "i=len(full_climbdf)\n",
      "full_climbdf,full_stardf,full_commentdf,full_gradedf,full_tickdf,full_tododf=red.dropstyles(full_climbdf,full_stardf,full_commentdf,full_gradedf,full_tickdf,full_tododf)\n",
      "print \"dropped types of climbs we don't care about\"\n",
      "print \"starting with %s, reducing to %s\" %(i, len(full_climbdf))"
     ],
     "language": "python",
     "metadata": {},
     "outputs": [
      {
       "output_type": "stream",
       "stream": "stdout",
       "text": [
        "dropped types of climbs we don't care about\n",
        "starting with 121849, reducing to 118539\n"
       ]
      }
     ],
     "prompt_number": 52
    },
    {
     "cell_type": "code",
     "collapsed": false,
     "input": [
      "%autoreload\n",
      "i=len(full_areadf)\n",
      "j=len(full_climbdf)\n",
      "full_climbdf, full_areadf=red.limittoUSA(full_climbdf, full_areadf)\n",
      "print \"limited to USA\"\n",
      "print \"starting with %s, reducing to %s\" %(i, len(full_areadf))\n",
      "print \"starting with %s, reducing to %s\" %(j, len(full_climbdf))"
     ],
     "language": "python",
     "metadata": {},
     "outputs": [
      {
       "output_type": "stream",
       "stream": "stdout",
       "text": [
        "limited to USA\n",
        "starting with 26703, reducing to 21106\n",
        "starting with 118539, reducing to 110317\n"
       ]
      }
     ],
     "prompt_number": 53
    },
    {
     "cell_type": "code",
     "collapsed": false,
     "input": [
      "i=len(full_climbdf)\n",
      "full_climbdf=pd.merge(full_climbdf, full_areadf[['areaid','region']], left_on='area', right_on='areaid', how='inner')\n",
      "full_climbdf=full_climbdf.rename(columns={'region_y':'region'})\n",
      "print \"added regions to climbs and dropped climbs missing areas\"\n",
      "print \"starting with %s, reducing to %s\" %(i, len(full_climbdf))"
     ],
     "language": "python",
     "metadata": {},
     "outputs": [
      {
       "output_type": "stream",
       "stream": "stdout",
       "text": [
        "starting with 98547, reducing to 92511\n"
       ]
      }
     ],
     "prompt_number": 103
    },
    {
     "cell_type": "code",
     "collapsed": false,
     "input": [
      "#drop climbs that we don't have grade information for\n",
      "i=len(full_climbdf)\n",
      "full_climbdf,full_stardf,full_commentdf,full_gradedf,full_tickdf,full_tododf=red.dropungraded(full_climbdf,full_stardf,full_commentdf,full_gradedf,full_tickdf,full_tododf)\n",
      "print \"starting with %s, reducing to %s\" %(i, len(full_climbdf))"
     ],
     "language": "python",
     "metadata": {},
     "outputs": [
      {
       "output_type": "stream",
       "stream": "stdout",
       "text": [
        "starting with 110317, reducing to 98547\n"
       ]
      }
     ],
     "prompt_number": 54
    },
    {
     "cell_type": "code",
     "collapsed": false,
     "input": [
      "#fix up some climber data errors\n",
      "full_climberdf=clean.fixclimbers(full_climberdf, full_hitsdf)\n",
      "\"fixed dupped climbers\""
     ],
     "language": "python",
     "metadata": {},
     "outputs": [
      {
       "metadata": {},
       "output_type": "pyout",
       "prompt_number": 55,
       "text": [
        "'fixed dupped climbers'"
       ]
      }
     ],
     "prompt_number": 55
    },
    {
     "cell_type": "code",
     "collapsed": false,
     "input": [
      "i=len(full_areadf)\n",
      "full_climberdf, full_areadf, full_climbdf,full_stardf,full_commentdf,full_gradedf,full_tickdf,full_tododf=util.dedupsandmissing(full_climberdf, full_areadf, full_climbdf,full_stardf,full_commentdf,full_gradedf,full_tickdf,full_tododf)\n",
      "print \"performed deduping, filled in missing values\"\n",
      "print \"starting with %s, reducing to %s\" %(i, len(full_areadf))"
     ],
     "language": "python",
     "metadata": {},
     "outputs": [
      {
       "output_type": "stream",
       "stream": "stdout",
       "text": [
        "performed deduping, filled in missing values\n",
        "starting with 98547, reducing to 98547\n"
       ]
      }
     ],
     "prompt_number": 56
    },
    {
     "cell_type": "code",
     "collapsed": false,
     "input": [
      "#make single df of all climberxclimb interactions (of any kind: tick, star, grade, comment) (1 or 0 based on whether climber interacted with climb in any capacity)\n",
      "full_hitsdf=pd.concat([full_tickdf[['climb','climber', 'urlname']],full_tododf[['climb','climber','urlname']],full_commentdf[['climb','climber','urlname']],full_gradedf[['climb','climber','urlname']]])\n",
      "full_hitsdf=full_hitsdf[~full_hitsdf.duplicated()]\n",
      "full_hitsdf=full_hitsdf.loc[~np.isnan(full_hitsdf.climber.values)]\n",
      "print \"created full climber x climber matrix\""
     ],
     "language": "python",
     "metadata": {},
     "outputs": [
      {
       "output_type": "stream",
       "stream": "stdout",
       "text": [
        "created full climber x climber matrix\n"
       ]
      }
     ],
     "prompt_number": 65
    },
    {
     "cell_type": "code",
     "collapsed": false,
     "input": [
      "#reindex everything so that id is index\n",
      "full_climberdf, full_areadf, full_climbdf,full_stardf,full_commentdf,full_gradedf,full_tickdf,full_tododf=util.reindexall(full_climberdf, full_areadf, full_climbdf,full_stardf,full_commentdf,full_gradedf,full_tickdf,full_tododf)\n",
      "print \"reindexed dataframes\""
     ],
     "language": "python",
     "metadata": {},
     "outputs": [
      {
       "output_type": "stream",
       "stream": "stdout",
       "text": [
        "reindexed dataframes\n"
       ]
      }
     ],
     "prompt_number": 66
    },
    {
     "cell_type": "code",
     "collapsed": false,
     "input": [
      "#goofed up when extracting data and thought we were in a 1-5 system. actually in 0-4 where zero is \"danger\"/\"bomb\" rating\n",
      "#random cleanup hacks\n",
      "full_stardf.starsscore=full_stardf.starsscore-1\n",
      "full_climberdf.loc[full_climberdf['age']>120, 'age']=np.nan\n",
      "print \"performed random cleanup hacks\""
     ],
     "language": "python",
     "metadata": {},
     "outputs": [
      {
       "output_type": "stream",
       "stream": "stdout",
       "text": [
        "performed random cleanup hacks\n"
       ]
      }
     ],
     "prompt_number": 67
    },
    {
     "cell_type": "code",
     "collapsed": false,
     "input": [
      "%autoreload\n",
      "full_climbdf['numerizedgrade']=full_climbdf['grade'].apply(clean.numerizegrades, gradelists=[rd.grades, rd.bouldergrades])\n",
      "full_climbdf['numgrade']=full_climbdf['grade'].apply(clean.splitgrade, output='num')\n",
      "full_climbdf['lettergrade']=full_climbdf['grade'].apply(clean.splitgrade, output='letter')\n",
      "print \"redefined grading\""
     ],
     "language": "python",
     "metadata": {},
     "outputs": [
      {
       "output_type": "stream",
       "stream": "stdout",
       "text": [
        "redefined grading\n"
       ]
      }
     ],
     "prompt_number": 68
    },
    {
     "cell_type": "code",
     "collapsed": false,
     "input": [
      "%autoreload\n",
      "states, stateids, statedict, mainareadf, full_areadf, full_climbdf=miscdf.getstatesandmainareas(full_areadf, full_climbdf)"
     ],
     "language": "python",
     "metadata": {},
     "outputs": [
      {
       "output_type": "stream",
       "stream": "stdout",
       "text": [
        "identified main areas/parks for subareas\n"
       ]
      }
     ],
     "prompt_number": 133
    },
    {
     "cell_type": "code",
     "collapsed": false,
     "input": [],
     "language": "python",
     "metadata": {},
     "outputs": []
    },
    {
     "cell_type": "code",
     "collapsed": false,
     "input": [
      "full_climberdf=ccc.getclimberareas(full_hitsdf, full_climbdf, full_climberdf) #note this uses whole dataset, shouldn't be part of any training/testing\n",
      "print \"identified climber mainareas\"   "
     ],
     "language": "python",
     "metadata": {},
     "outputs": [
      {
       "ename": "KeyError",
       "evalue": "'None of [[104013 104014 104015]] are in the [index]'",
       "output_type": "pyerr",
       "traceback": [
        "\u001b[0;31m---------------------------------------------------------------------------\u001b[0m\n\u001b[0;31mKeyError\u001b[0m                                  Traceback (most recent call last)",
        "\u001b[0;32m<ipython-input-143-4126c028dd30>\u001b[0m in \u001b[0;36m<module>\u001b[0;34m()\u001b[0m\n\u001b[0;32m----> 1\u001b[0;31m \u001b[0mfull_climberdf\u001b[0m\u001b[0;34m=\u001b[0m\u001b[0mccc\u001b[0m\u001b[0;34m.\u001b[0m\u001b[0mgetclimberareas\u001b[0m\u001b[0;34m(\u001b[0m\u001b[0mfull_hitsdf\u001b[0m\u001b[0;34m,\u001b[0m \u001b[0mfull_climbdf\u001b[0m\u001b[0;34m,\u001b[0m \u001b[0mfull_climberdf\u001b[0m\u001b[0;34m)\u001b[0m \u001b[0;31m#note this uses whole dataset, shouldn't be part of any training/testing\u001b[0m\u001b[0;34m\u001b[0m\u001b[0m\n\u001b[0m\u001b[1;32m      2\u001b[0m \u001b[0;32mprint\u001b[0m \u001b[0;34m\"identified climber mainareas\"\u001b[0m\u001b[0;34m\u001b[0m\u001b[0m\n",
        "\u001b[0;32m/Users/amyskerry/Documents/Projects/cragcrunch/analysis/climbingcalcs.py\u001b[0m in \u001b[0;36mgetclimberareas\u001b[0;34m(hitsdf, climbdf, climberdf)\u001b[0m\n\u001b[1;32m     41\u001b[0m     \u001b[0;32mfor\u001b[0m \u001b[0mc\u001b[0m \u001b[0;32min\u001b[0m \u001b[0mhitsdf\u001b[0m\u001b[0;34m.\u001b[0m\u001b[0mclimber\u001b[0m\u001b[0;34m.\u001b[0m\u001b[0munique\u001b[0m\u001b[0;34m(\u001b[0m\u001b[0;34m)\u001b[0m\u001b[0;34m:\u001b[0m\u001b[0;34m\u001b[0m\u001b[0m\n\u001b[1;32m     42\u001b[0m         \u001b[0mclimbids\u001b[0m\u001b[0;34m=\u001b[0m\u001b[0mhitsdf\u001b[0m\u001b[0;34m.\u001b[0m\u001b[0mloc\u001b[0m\u001b[0;34m[\u001b[0m\u001b[0mhitsdf\u001b[0m\u001b[0;34m[\u001b[0m\u001b[0;34m'climber'\u001b[0m\u001b[0;34m]\u001b[0m\u001b[0;34m==\u001b[0m\u001b[0mc\u001b[0m\u001b[0;34m,\u001b[0m\u001b[0;34m'climb'\u001b[0m\u001b[0;34m]\u001b[0m\u001b[0;34m.\u001b[0m\u001b[0mvalues\u001b[0m\u001b[0;34m\u001b[0m\u001b[0m\n\u001b[0;32m---> 43\u001b[0;31m         \u001b[0mareas\u001b[0m\u001b[0;34m=\u001b[0m\u001b[0mclimbdf\u001b[0m\u001b[0;34m.\u001b[0m\u001b[0mloc\u001b[0m\u001b[0;34m[\u001b[0m\u001b[0mclimbids\u001b[0m\u001b[0;34m,\u001b[0m\u001b[0;34m'mainarea'\u001b[0m\u001b[0;34m]\u001b[0m\u001b[0;34m.\u001b[0m\u001b[0mvalues\u001b[0m\u001b[0;34m\u001b[0m\u001b[0m\n\u001b[0m\u001b[1;32m     44\u001b[0m         \u001b[0mnumareas\u001b[0m\u001b[0;34m=\u001b[0m\u001b[0mlen\u001b[0m\u001b[0;34m(\u001b[0m\u001b[0mset\u001b[0m\u001b[0;34m(\u001b[0m\u001b[0mareas\u001b[0m\u001b[0;34m)\u001b[0m\u001b[0;34m)\u001b[0m\u001b[0;34m\u001b[0m\u001b[0m\n\u001b[1;32m     45\u001b[0m         \u001b[0;32mtry\u001b[0m\u001b[0;34m:\u001b[0m\u001b[0;34m\u001b[0m\u001b[0m\n",
        "\u001b[0;32m/usr/local/lib/python2.7/site-packages/pandas/core/indexing.pyc\u001b[0m in \u001b[0;36m__getitem__\u001b[0;34m(self, key)\u001b[0m\n\u001b[1;32m   1198\u001b[0m     \u001b[0;32mdef\u001b[0m \u001b[0m__getitem__\u001b[0m\u001b[0;34m(\u001b[0m\u001b[0mself\u001b[0m\u001b[0;34m,\u001b[0m \u001b[0mkey\u001b[0m\u001b[0;34m)\u001b[0m\u001b[0;34m:\u001b[0m\u001b[0;34m\u001b[0m\u001b[0m\n\u001b[1;32m   1199\u001b[0m         \u001b[0;32mif\u001b[0m \u001b[0mtype\u001b[0m\u001b[0;34m(\u001b[0m\u001b[0mkey\u001b[0m\u001b[0;34m)\u001b[0m \u001b[0;32mis\u001b[0m \u001b[0mtuple\u001b[0m\u001b[0;34m:\u001b[0m\u001b[0;34m\u001b[0m\u001b[0m\n\u001b[0;32m-> 1200\u001b[0;31m             \u001b[0;32mreturn\u001b[0m \u001b[0mself\u001b[0m\u001b[0;34m.\u001b[0m\u001b[0m_getitem_tuple\u001b[0m\u001b[0;34m(\u001b[0m\u001b[0mkey\u001b[0m\u001b[0;34m)\u001b[0m\u001b[0;34m\u001b[0m\u001b[0m\n\u001b[0m\u001b[1;32m   1201\u001b[0m         \u001b[0;32melse\u001b[0m\u001b[0;34m:\u001b[0m\u001b[0;34m\u001b[0m\u001b[0m\n\u001b[1;32m   1202\u001b[0m             \u001b[0;32mreturn\u001b[0m \u001b[0mself\u001b[0m\u001b[0;34m.\u001b[0m\u001b[0m_getitem_axis\u001b[0m\u001b[0;34m(\u001b[0m\u001b[0mkey\u001b[0m\u001b[0;34m,\u001b[0m \u001b[0maxis\u001b[0m\u001b[0;34m=\u001b[0m\u001b[0;36m0\u001b[0m\u001b[0;34m)\u001b[0m\u001b[0;34m\u001b[0m\u001b[0m\n",
        "\u001b[0;32m/usr/local/lib/python2.7/site-packages/pandas/core/indexing.pyc\u001b[0m in \u001b[0;36m_getitem_tuple\u001b[0;34m(self, tup)\u001b[0m\n\u001b[1;32m    697\u001b[0m     \u001b[0;32mdef\u001b[0m \u001b[0m_getitem_tuple\u001b[0m\u001b[0;34m(\u001b[0m\u001b[0mself\u001b[0m\u001b[0;34m,\u001b[0m \u001b[0mtup\u001b[0m\u001b[0;34m)\u001b[0m\u001b[0;34m:\u001b[0m\u001b[0;34m\u001b[0m\u001b[0m\n\u001b[1;32m    698\u001b[0m         \u001b[0;32mtry\u001b[0m\u001b[0;34m:\u001b[0m\u001b[0;34m\u001b[0m\u001b[0m\n\u001b[0;32m--> 699\u001b[0;31m             \u001b[0;32mreturn\u001b[0m \u001b[0mself\u001b[0m\u001b[0;34m.\u001b[0m\u001b[0m_getitem_lowerdim\u001b[0m\u001b[0;34m(\u001b[0m\u001b[0mtup\u001b[0m\u001b[0;34m)\u001b[0m\u001b[0;34m\u001b[0m\u001b[0m\n\u001b[0m\u001b[1;32m    700\u001b[0m         \u001b[0;32mexcept\u001b[0m \u001b[0mIndexingError\u001b[0m\u001b[0;34m:\u001b[0m\u001b[0;34m\u001b[0m\u001b[0m\n\u001b[1;32m    701\u001b[0m             \u001b[0;32mpass\u001b[0m\u001b[0;34m\u001b[0m\u001b[0m\n",
        "\u001b[0;32m/usr/local/lib/python2.7/site-packages/pandas/core/indexing.pyc\u001b[0m in \u001b[0;36m_getitem_lowerdim\u001b[0;34m(self, tup)\u001b[0m\n\u001b[1;32m    847\u001b[0m \u001b[0;34m\u001b[0m\u001b[0m\n\u001b[1;32m    848\u001b[0m                 \u001b[0;31m# This is an elided recursive call to iloc/loc/etc'\u001b[0m\u001b[0;34m\u001b[0m\u001b[0;34m\u001b[0m\u001b[0m\n\u001b[0;32m--> 849\u001b[0;31m                 \u001b[0;32mreturn\u001b[0m \u001b[0mgetattr\u001b[0m\u001b[0;34m(\u001b[0m\u001b[0msection\u001b[0m\u001b[0;34m,\u001b[0m \u001b[0mself\u001b[0m\u001b[0;34m.\u001b[0m\u001b[0mname\u001b[0m\u001b[0;34m)\u001b[0m\u001b[0;34m[\u001b[0m\u001b[0mnew_key\u001b[0m\u001b[0;34m]\u001b[0m\u001b[0;34m\u001b[0m\u001b[0m\n\u001b[0m\u001b[1;32m    850\u001b[0m \u001b[0;34m\u001b[0m\u001b[0m\n\u001b[1;32m    851\u001b[0m         \u001b[0;32mraise\u001b[0m \u001b[0mIndexingError\u001b[0m\u001b[0;34m(\u001b[0m\u001b[0;34m'not applicable'\u001b[0m\u001b[0;34m)\u001b[0m\u001b[0;34m\u001b[0m\u001b[0m\n",
        "\u001b[0;32m/usr/local/lib/python2.7/site-packages/pandas/core/indexing.pyc\u001b[0m in \u001b[0;36m__getitem__\u001b[0;34m(self, key)\u001b[0m\n\u001b[1;32m   1200\u001b[0m             \u001b[0;32mreturn\u001b[0m \u001b[0mself\u001b[0m\u001b[0;34m.\u001b[0m\u001b[0m_getitem_tuple\u001b[0m\u001b[0;34m(\u001b[0m\u001b[0mkey\u001b[0m\u001b[0;34m)\u001b[0m\u001b[0;34m\u001b[0m\u001b[0m\n\u001b[1;32m   1201\u001b[0m         \u001b[0;32melse\u001b[0m\u001b[0;34m:\u001b[0m\u001b[0;34m\u001b[0m\u001b[0m\n\u001b[0;32m-> 1202\u001b[0;31m             \u001b[0;32mreturn\u001b[0m \u001b[0mself\u001b[0m\u001b[0;34m.\u001b[0m\u001b[0m_getitem_axis\u001b[0m\u001b[0;34m(\u001b[0m\u001b[0mkey\u001b[0m\u001b[0;34m,\u001b[0m \u001b[0maxis\u001b[0m\u001b[0;34m=\u001b[0m\u001b[0;36m0\u001b[0m\u001b[0;34m)\u001b[0m\u001b[0;34m\u001b[0m\u001b[0m\n\u001b[0m\u001b[1;32m   1203\u001b[0m \u001b[0;34m\u001b[0m\u001b[0m\n\u001b[1;32m   1204\u001b[0m     \u001b[0;32mdef\u001b[0m \u001b[0m_getitem_axis\u001b[0m\u001b[0;34m(\u001b[0m\u001b[0mself\u001b[0m\u001b[0;34m,\u001b[0m \u001b[0mkey\u001b[0m\u001b[0;34m,\u001b[0m \u001b[0maxis\u001b[0m\u001b[0;34m=\u001b[0m\u001b[0;36m0\u001b[0m\u001b[0;34m)\u001b[0m\u001b[0;34m:\u001b[0m\u001b[0;34m\u001b[0m\u001b[0m\n",
        "\u001b[0;32m/usr/local/lib/python2.7/site-packages/pandas/core/indexing.pyc\u001b[0m in \u001b[0;36m_getitem_axis\u001b[0;34m(self, key, axis)\u001b[0m\n\u001b[1;32m   1333\u001b[0m                     \u001b[0;32mraise\u001b[0m \u001b[0mValueError\u001b[0m\u001b[0;34m(\u001b[0m\u001b[0;34m'Cannot index with multidimensional key'\u001b[0m\u001b[0;34m)\u001b[0m\u001b[0;34m\u001b[0m\u001b[0m\n\u001b[1;32m   1334\u001b[0m \u001b[0;34m\u001b[0m\u001b[0m\n\u001b[0;32m-> 1335\u001b[0;31m                 \u001b[0;32mreturn\u001b[0m \u001b[0mself\u001b[0m\u001b[0;34m.\u001b[0m\u001b[0m_getitem_iterable\u001b[0m\u001b[0;34m(\u001b[0m\u001b[0mkey\u001b[0m\u001b[0;34m,\u001b[0m \u001b[0maxis\u001b[0m\u001b[0;34m=\u001b[0m\u001b[0maxis\u001b[0m\u001b[0;34m)\u001b[0m\u001b[0;34m\u001b[0m\u001b[0m\n\u001b[0m\u001b[1;32m   1336\u001b[0m \u001b[0;34m\u001b[0m\u001b[0m\n\u001b[1;32m   1337\u001b[0m             \u001b[0;31m# nested tuple slicing\u001b[0m\u001b[0;34m\u001b[0m\u001b[0;34m\u001b[0m\u001b[0m\n",
        "\u001b[0;32m/usr/local/lib/python2.7/site-packages/pandas/core/indexing.pyc\u001b[0m in \u001b[0;36m_getitem_iterable\u001b[0;34m(self, key, axis)\u001b[0m\n\u001b[1;32m    930\u001b[0m     \u001b[0;32mdef\u001b[0m \u001b[0m_getitem_iterable\u001b[0m\u001b[0;34m(\u001b[0m\u001b[0mself\u001b[0m\u001b[0;34m,\u001b[0m \u001b[0mkey\u001b[0m\u001b[0;34m,\u001b[0m \u001b[0maxis\u001b[0m\u001b[0;34m=\u001b[0m\u001b[0;36m0\u001b[0m\u001b[0;34m)\u001b[0m\u001b[0;34m:\u001b[0m\u001b[0;34m\u001b[0m\u001b[0m\n\u001b[1;32m    931\u001b[0m         \u001b[0;32mif\u001b[0m \u001b[0mself\u001b[0m\u001b[0;34m.\u001b[0m\u001b[0m_should_validate_iterable\u001b[0m\u001b[0;34m(\u001b[0m\u001b[0maxis\u001b[0m\u001b[0;34m)\u001b[0m\u001b[0;34m:\u001b[0m\u001b[0;34m\u001b[0m\u001b[0m\n\u001b[0;32m--> 932\u001b[0;31m             \u001b[0mself\u001b[0m\u001b[0;34m.\u001b[0m\u001b[0m_has_valid_type\u001b[0m\u001b[0;34m(\u001b[0m\u001b[0mkey\u001b[0m\u001b[0;34m,\u001b[0m \u001b[0maxis\u001b[0m\u001b[0;34m)\u001b[0m\u001b[0;34m\u001b[0m\u001b[0m\n\u001b[0m\u001b[1;32m    933\u001b[0m \u001b[0;34m\u001b[0m\u001b[0m\n\u001b[1;32m    934\u001b[0m         \u001b[0mlabels\u001b[0m \u001b[0;34m=\u001b[0m \u001b[0mself\u001b[0m\u001b[0;34m.\u001b[0m\u001b[0mobj\u001b[0m\u001b[0;34m.\u001b[0m\u001b[0m_get_axis\u001b[0m\u001b[0;34m(\u001b[0m\u001b[0maxis\u001b[0m\u001b[0;34m)\u001b[0m\u001b[0;34m\u001b[0m\u001b[0m\n",
        "\u001b[0;32m/usr/local/lib/python2.7/site-packages/pandas/core/indexing.pyc\u001b[0m in \u001b[0;36m_has_valid_type\u001b[0;34m(self, key, axis)\u001b[0m\n\u001b[1;32m   1281\u001b[0m \u001b[0;34m\u001b[0m\u001b[0m\n\u001b[1;32m   1282\u001b[0m                 raise KeyError(\"None of [%s] are in the [%s]\" %\n\u001b[0;32m-> 1283\u001b[0;31m                                (key, self.obj._get_axis_name(axis)))\n\u001b[0m\u001b[1;32m   1284\u001b[0m \u001b[0;34m\u001b[0m\u001b[0m\n\u001b[1;32m   1285\u001b[0m             \u001b[0;32mreturn\u001b[0m \u001b[0mTrue\u001b[0m\u001b[0;34m\u001b[0m\u001b[0m\n",
        "\u001b[0;31mKeyError\u001b[0m: 'None of [[104013 104014 104015]] are in the [index]'"
       ]
      }
     ],
     "prompt_number": 143
    },
    {
     "cell_type": "code",
     "collapsed": false,
     "input": [
      "print \"merging climb comments\"\n",
      "#full_climbdf=miscdf.mergeclimbcomment(full_commentdf, full_climbdf)\n",
      "print \"making descripdf\"\n",
      "full_climbdf=miscdf.makedescripdf(full_climbdf, terms, ['description']) #'commentsmerged'\n",
      "full_climbdf=miscdf.makedescripdf(full_climbdf, terms, ['commentsmerged'])\n",
      "print \"finished descripdf\""
     ],
     "language": "python",
     "metadata": {},
     "outputs": [
      {
       "output_type": "stream",
       "stream": "stdout",
       "text": [
        "merging climb comments\n",
        "making descripdf\n",
        "finished descripdf"
       ]
      },
      {
       "output_type": "stream",
       "stream": "stdout",
       "text": [
        "\n"
       ]
      }
     ],
     "prompt_number": 27
    },
    {
     "cell_type": "code",
     "collapsed": false,
     "input": [
      "full_climbdf=clean.fixstars(full_stardf, full_climbdf)\n",
      "print \"fixed stars\"\n",
      "full_climbdf=miscdf.combinestars(full_climbdf)\n",
      "print \"combined stars\"\n",
      "full_climbdf['roundedstars']=full_climbdf['avgstars'].apply(np.round) \n",
      "#stardf=getrelativestar(stardf,climbdf)\n",
      "#gradedf=computerelativegrades(climbdf, gradedf)"
     ],
     "language": "python",
     "metadata": {},
     "outputs": [
      {
       "output_type": "stream",
       "stream": "stdout",
       "text": [
        "fixed stars\n",
        "combined stars"
       ]
      },
      {
       "output_type": "stream",
       "stream": "stdout",
       "text": [
        "\n"
       ]
      },
      {
       "output_type": "stream",
       "stream": "stderr",
       "text": [
        "/usr/local/lib/python2.7/site-packages/numpy/lib/nanfunctions.py:598: RuntimeWarning: Mean of empty slice\n",
        "  warnings.warn(\"Mean of empty slice\", RuntimeWarning)\n"
       ]
      }
     ],
     "prompt_number": 21
    },
    {
     "cell_type": "code",
     "collapsed": false,
     "input": [
      "#print \"computing grade variability\"\n",
      "#climbdf=computegradevariability(climbdf, gradedf)\n",
      "#climbdf=computeclimbstiffness(climbdf, gradedf, climberdf)\n",
      "#print \"finished grade stiffness\"\n",
      "#areadf=computeareastiffness(climbdf, areadf)"
     ],
     "language": "python",
     "metadata": {},
     "outputs": []
    },
    {
     "cell_type": "code",
     "collapsed": false,
     "input": [
      "#submittercounts=summarizesubmitters(climbdf, climberdf, hitsdf) #note this uses whole dataset, shouldn't be part of any training/testing"
     ],
     "language": "python",
     "metadata": {},
     "outputs": []
    },
    {
     "cell_type": "code",
     "collapsed": false,
     "input": [
      "full_climbdf, full_hitsdf, full_stardf, full_commentdf, full_gradedf, full_tickdf=red.dropclimbs(full_climbdf, full_hitsdf, full_stardf, full_commentdf, full_gradedf, full_tickdf)"
     ],
     "language": "python",
     "metadata": {},
     "outputs": []
    },
    {
     "cell_type": "code",
     "collapsed": false,
     "input": [
      "if writedb:\n",
      "    #save prepped data to sql\n",
      "    engine = create_engine('mysql://%s@%s/%s?charset=%s&use_unicode=%s&passwd=%s' %(cfg.user, cfg.host, cfg.dbname, cfg.charset, cfg.use_unicode, cfg.passwd), pool_recycle=3600)\n",
      "    full_climbdf.to_sql('climb_prepped', engine, if_exists='replace', chunksize=chunksize)\n",
      "    full_areadf.to_sql('area_prepped', engine, if_exists='replace', chunksize=chunksize)\n",
      "    full_climberdf.to_sql('climber_prepped', engine, if_exists='replace', chunksize=chunksize)\n",
      "    full_tickdf.to_sql('ticks_prepped', engine, if_exists='replace', chunksize=chunksize)\n",
      "    full_commentdf.to_sql('comments_prepped', engine, if_exists='replace', chunksize=chunksize)\n",
      "    full_gradedf.to_sql('grades_prepped', engine, if_exists='replace', chunksize=chunksize)\n",
      "    full_stardf.to_sql('stars_prepped', engine, if_exists='replace', chunksize=chunksize)\n",
      "    full_tododf.to_sql('todos_prepped', engine, if_exists='replace', chunksize=chunksize)\n",
      "    full_hitsdf.to_sql('hits_prepped', engine, if_exists='replace', chunksize=chunksize)\n",
      "    regioninfo={'regions':regions, 'regionids':regionids, 'regiondict':regiondict}\n",
      "    #util.pickletheseobjects(os.path.join(rootdir, 'data', 'regioninfo.pkl'), [regioninfo])\n",
      "    util.pickletheseobjects(os.path.join(rootdir, 'data', 'terms.pkl'),[terms])\n",
      "    #util.pickletheseobjects(os.path.join(rootdir, 'data', 'vterms.pkl'),[valenceterms])\n",
      "    mainareadf.to_sql('mainarea_prepped', engine, engine, if_exists='replace', chunksize=chunksize)\n",
      "    climberxareadf.to_sql('climberxareadf_prepped', engine, engine, if_exists='replace', chunksize=chunksize)\n",
      "    submittercounts.to_sql('submittercounts_prepped', engine, if_exists='replace', chunksize=chunksize)\n",
      "    print \"wrote to db\""
     ],
     "language": "python",
     "metadata": {},
     "outputs": []
    },
    {
     "cell_type": "code",
     "collapsed": false,
     "input": [],
     "language": "python",
     "metadata": {},
     "outputs": []
    },
    {
     "cell_type": "code",
     "collapsed": false,
     "input": [],
     "language": "python",
     "metadata": {},
     "outputs": []
    },
    {
     "cell_type": "code",
     "collapsed": false,
     "input": [
      "#to keep the dataset size managable, and focus on climbs that get SOME traffic, we will limit to climbs with at least minthresh climbers reporting on them\n",
      "minthresh=5\n",
      "full_hitsdf, full_stardf, full_commentdf, full_gradedf, full_tickdf=red.limit2popular(full_hitsdf, full_stardf, full_commentdf, full_gradedf, full_tickdf, minthresh=minthresh)\n"
     ],
     "language": "python",
     "metadata": {},
     "outputs": []
    },
    {
     "cell_type": "code",
     "collapsed": false,
     "input": [
      "full_climbdf.head()"
     ],
     "language": "python",
     "metadata": {},
     "outputs": [
      {
       "html": [
        "<div style=\"max-height:1000px;max-width:1500px;overflow:auto;\">\n",
        "<table border=\"1\" class=\"dataframe\">\n",
        "  <thead>\n",
        "    <tr style=\"text-align: right;\">\n",
        "      <th></th>\n",
        "      <th>name</th>\n",
        "      <th>climbid</th>\n",
        "      <th>area</th>\n",
        "      <th>region</th>\n",
        "      <th>description</th>\n",
        "      <th>grade</th>\n",
        "      <th>fa</th>\n",
        "      <th>protection</th>\n",
        "      <th>locationdescrip</th>\n",
        "      <th>pitch</th>\n",
        "      <th>...</th>\n",
        "      <th>submittedby</th>\n",
        "      <th>urlname</th>\n",
        "      <th>numerizedgrade</th>\n",
        "      <th>numgrade</th>\n",
        "      <th>lettergrade</th>\n",
        "      <th>commentsmerged</th>\n",
        "      <th>extracted_avgstars</th>\n",
        "      <th>computed_avgstars</th>\n",
        "      <th>roundedstars</th>\n",
        "      <th>mainarea</th>\n",
        "    </tr>\n",
        "  </thead>\n",
        "  <tbody>\n",
        "    <tr>\n",
        "      <th>1</th>\n",
        "      <td>                  High Exposure</td>\n",
        "      <td> 1</td>\n",
        "      <td>     1</td>\n",
        "      <td>      New York</td>\n",
        "      <td> High Exposure.  The climbing itself is flawles...</td>\n",
        "      <td>     5.6</td>\n",
        "      <td> Hans Kraus &amp; Fritz Wiessner - 1941</td>\n",
        "      <td>                                    Standard Rack.</td>\n",
        "      <td>                                               nan</td>\n",
        "      <td> 2 pitches</td>\n",
        "      <td>...</td>\n",
        "      <td>  Josh Janes</td>\n",
        "      <td>NaN</td>\n",
        "      <td> 22</td>\n",
        "      <td>  5.6</td>\n",
        "      <td>    </td>\n",
        "      <td>                                               NaN</td>\n",
        "      <td> 3.8</td>\n",
        "      <td> 2.882353</td>\n",
        "      <td>  3</td>\n",
        "      <td>  1988</td>\n",
        "    </tr>\n",
        "    <tr>\n",
        "      <th>4</th>\n",
        "      <td> Barada Aksakal (White Beard...</td>\n",
        "      <td> 4</td>\n",
        "      <td>   NaN</td>\n",
        "      <td>           nan</td>\n",
        "      <td>                                               nan</td>\n",
        "      <td>     nan</td>\n",
        "      <td>                                nan</td>\n",
        "      <td>                                               nan</td>\n",
        "      <td>                                               nan</td>\n",
        "      <td>       NaN</td>\n",
        "      <td>...</td>\n",
        "      <td>         nan</td>\n",
        "      <td>NaN</td>\n",
        "      <td>NaN</td>\n",
        "      <td>  nan</td>\n",
        "      <td>    </td>\n",
        "      <td> This waterfall is big and really imposing.  Ab...</td>\n",
        "      <td> NaN</td>\n",
        "      <td>      NaN</td>\n",
        "      <td>NaN</td>\n",
        "      <td>   NaN</td>\n",
        "    </tr>\n",
        "    <tr>\n",
        "      <th>6</th>\n",
        "      <td> Malinevaya Ushelia / Raspbe...</td>\n",
        "      <td> 6</td>\n",
        "      <td>   NaN</td>\n",
        "      <td>           nan</td>\n",
        "      <td>                                               nan</td>\n",
        "      <td>     nan</td>\n",
        "      <td>                                nan</td>\n",
        "      <td>                                               nan</td>\n",
        "      <td>                                               nan</td>\n",
        "      <td>       NaN</td>\n",
        "      <td>...</td>\n",
        "      <td>         nan</td>\n",
        "      <td>NaN</td>\n",
        "      <td>NaN</td>\n",
        "      <td>  nan</td>\n",
        "      <td>    </td>\n",
        "      <td> Once you are at the area, you will notice a la...</td>\n",
        "      <td> NaN</td>\n",
        "      <td>      NaN</td>\n",
        "      <td>NaN</td>\n",
        "      <td>   NaN</td>\n",
        "    </tr>\n",
        "    <tr>\n",
        "      <th>7</th>\n",
        "      <td>                     Thug Route</td>\n",
        "      <td> 7</td>\n",
        "      <td> 14280</td>\n",
        "      <td>      Colorado</td>\n",
        "      <td> 'Thuggish' about sums it up: big holds, some w...</td>\n",
        "      <td> 5.11b/c</td>\n",
        "      <td>            M. Kennedy and M. Benge</td>\n",
        "      <td> Bolts.  Maybe a bit of gear for the start, not...</td>\n",
        "      <td>                                               nan</td>\n",
        "      <td>   1 pitch</td>\n",
        "      <td>...</td>\n",
        "      <td>  Rob Dillon</td>\n",
        "      <td>NaN</td>\n",
        "      <td> 48</td>\n",
        "      <td> 5.11</td>\n",
        "      <td> b/c</td>\n",
        "      <td> Jeez! Where did the block come off from? Were ...</td>\n",
        "      <td> 2.9</td>\n",
        "      <td> 1.750000</td>\n",
        "      <td>  2</td>\n",
        "      <td> 14128</td>\n",
        "    </tr>\n",
        "    <tr>\n",
        "      <th>8</th>\n",
        "      <td>             Scene of the Crime</td>\n",
        "      <td> 8</td>\n",
        "      <td>  8663</td>\n",
        "      <td> New Hampshire</td>\n",
        "      <td> A very enjoyable climb and a good first climb ...</td>\n",
        "      <td> 5.10a/b</td>\n",
        "      <td>                    Tom Bowker 1990</td>\n",
        "      <td> 5 bolts to quick clips. \\n, or at least get a ...</td>\n",
        "      <td> On the left side of the cave, the next route l...</td>\n",
        "      <td>   1 pitch</td>\n",
        "      <td>...</td>\n",
        "      <td> lee hansche</td>\n",
        "      <td>NaN</td>\n",
        "      <td> 35</td>\n",
        "      <td> 5.10</td>\n",
        "      <td> a/b</td>\n",
        "      <td> The hold Lee is talking about is kind of hidde...</td>\n",
        "      <td> 2.4</td>\n",
        "      <td> 1.333333</td>\n",
        "      <td>  2</td>\n",
        "      <td>  1041</td>\n",
        "    </tr>\n",
        "  </tbody>\n",
        "</table>\n",
        "<p>5 rows \u00d7 25 columns</p>\n",
        "</div>"
       ],
       "metadata": {},
       "output_type": "pyout",
       "prompt_number": 35,
       "text": [
        "                             name  climbid   area         region  \\\n",
        "1                   High Exposure        1      1       New York   \n",
        "4  Barada Aksakal (White Beard...        4    NaN            nan   \n",
        "6  Malinevaya Ushelia / Raspbe...        6    NaN            nan   \n",
        "7                      Thug Route        7  14280       Colorado   \n",
        "8              Scene of the Crime        8   8663  New Hampshire   \n",
        "\n",
        "                                         description    grade  \\\n",
        "1  High Exposure.  The climbing itself is flawles...      5.6   \n",
        "4                                                nan      nan   \n",
        "6                                                nan      nan   \n",
        "7  'Thuggish' about sums it up: big holds, some w...  5.11b/c   \n",
        "8  A very enjoyable climb and a good first climb ...  5.10a/b   \n",
        "\n",
        "                                   fa  \\\n",
        "1  Hans Kraus & Fritz Wiessner - 1941   \n",
        "4                                 nan   \n",
        "6                                 nan   \n",
        "7             M. Kennedy and M. Benge   \n",
        "8                     Tom Bowker 1990   \n",
        "\n",
        "                                          protection  \\\n",
        "1                                     Standard Rack.   \n",
        "4                                                nan   \n",
        "6                                                nan   \n",
        "7  Bolts.  Maybe a bit of gear for the start, not...   \n",
        "8  5 bolts to quick clips. \\n, or at least get a ...   \n",
        "\n",
        "                                     locationdescrip      pitch   ...     \\\n",
        "1                                                nan  2 pitches   ...      \n",
        "4                                                nan        NaN   ...      \n",
        "6                                                nan        NaN   ...      \n",
        "7                                                nan    1 pitch   ...      \n",
        "8  On the left side of the cave, the next route l...    1 pitch   ...      \n",
        "\n",
        "   submittedby urlname  numerizedgrade  numgrade  lettergrade  \\\n",
        "1   Josh Janes     NaN              22       5.6                \n",
        "4          nan     NaN             NaN       nan                \n",
        "6          nan     NaN             NaN       nan                \n",
        "7   Rob Dillon     NaN              48      5.11          b/c   \n",
        "8  lee hansche     NaN              35      5.10          a/b   \n",
        "\n",
        "                                      commentsmerged  extracted_avgstars  \\\n",
        "1                                                NaN                 3.8   \n",
        "4  This waterfall is big and really imposing.  Ab...                 NaN   \n",
        "6  Once you are at the area, you will notice a la...                 NaN   \n",
        "7  Jeez! Where did the block come off from? Were ...                 2.9   \n",
        "8  The hold Lee is talking about is kind of hidde...                 2.4   \n",
        "\n",
        "   computed_avgstars roundedstars mainarea  \n",
        "1           2.882353            3     1988  \n",
        "4                NaN          NaN      NaN  \n",
        "6                NaN          NaN      NaN  \n",
        "7           1.750000            2    14128  \n",
        "8           1.333333            2     1041  \n",
        "\n",
        "[5 rows x 25 columns]"
       ]
      }
     ],
     "prompt_number": 35
    },
    {
     "cell_type": "code",
     "collapsed": false,
     "input": [],
     "language": "python",
     "metadata": {},
     "outputs": []
    }
   ],
   "metadata": {}
  }
 ]
}