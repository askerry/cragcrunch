{
 "metadata": {
  "name": "",
  "signature": "sha256:1f760393ecf253ec068bbf44cb4c4f098e9ccdf3e9d2ce2e8c5c4580c08c7acf"
 },
 "nbformat": 3,
 "nbformat_minor": 0,
 "worksheets": [
  {
   "cells": [
    {
     "cell_type": "code",
     "collapsed": false,
     "input": [
      "pylab inline"
     ],
     "language": "python",
     "metadata": {},
     "outputs": [
      {
       "output_type": "stream",
       "stream": "stdout",
       "text": [
        "Populating the interactive namespace from numpy and matplotlib\n"
       ]
      }
     ],
     "prompt_number": 1
    },
    {
     "cell_type": "code",
     "collapsed": false,
     "input": [
      "%load_ext autoreload"
     ],
     "language": "python",
     "metadata": {},
     "outputs": [],
     "prompt_number": 2
    },
    {
     "cell_type": "code",
     "collapsed": false,
     "input": [
      "import pandas as pd\n",
      "import numpy as np\n",
      "np.random.RandomState(100)\n",
      "from sqlalchemy import create_engine\n",
      "import os\n",
      "import sys\n",
      "import scipy.stats\n",
      "\n",
      "from joblib import Parallel, delayed  \n",
      "import multiprocessing\n",
      "num_cores = multiprocessing.cpu_count()\n",
      "print \"%s cores available for parallel processing\" % num_cores\n",
      "\n",
      "sys.path.append('mpscraper')\n",
      "from mpscraper.cfgdb import cfg\n",
      "sys.path.append('antools')\n",
      "import antools.random as rd\n",
      "import antools.reduction as red\n",
      "import antools.utilities as util\n",
      "import antools.visualization as viz\n",
      "import antools.modeling as mo\n",
      "\n",
      "import pandas as pd\n",
      "import numpy as np\n",
      "import seaborn as sns\n",
      "sns.set_style('white')\n",
      "import matplotlib.pyplot as plt\n",
      "import scipy.stats\n",
      "\n",
      "from sklearn.metrics.pairwise import pairwise_distances\n",
      "import sklearn.cross_validation\n",
      "from sklearn.ensemble import RandomForestRegressor \n",
      "from sklearn.ensemble import RandomForestClassifier \n",
      "from sklearn.linear_model import LinearRegression\n",
      "from sklearn.svm import SVC\n",
      "from sklearn.linear_model import Ridge\n",
      "from sklearn.metrics import f1_score"
     ],
     "language": "python",
     "metadata": {},
     "outputs": [
      {
       "output_type": "stream",
       "stream": "stdout",
       "text": [
        "4 cores available for parallel processing\n"
       ]
      }
     ],
     "prompt_number": 3
    },
    {
     "cell_type": "code",
     "collapsed": false,
     "input": [
      "import sys, os\n",
      "rootdir=os.getcwd()\n",
      "while 'Projects' in rootdir:\n",
      "    rootdir=os.path.dirname(rootdir)\n",
      "projdir=os.path.join(rootdir, 'Projects','cragcrunch','data')"
     ],
     "language": "python",
     "metadata": {},
     "outputs": [],
     "prompt_number": 4
    },
    {
     "cell_type": "heading",
     "level": 3,
     "metadata": {},
     "source": [
      "Load in preprocessed data"
     ]
    },
    {
     "cell_type": "code",
     "collapsed": false,
     "input": [
      "engine = create_engine('mysql://%s@%s/%s?charset=%s&use_unicode=%s&passwd=%s' %(cfg.user, cfg.host, cfg.dbname, cfg.charset, cfg.use_unicode, cfg.passwd), pool_recycle=3600)\n",
      "cdf = pd.read_sql(\"SELECT * from climb_prepped where region = 'California'\", engine, index_col='index')\n",
      "adf = pd.read_sql(\"SELECT * from area_prepped where region = 'California'\", engine, index_col='index')\n",
      "climbs=list(cdf.climbid.unique())\n",
      "print \"loading %s climbs\" %(len(climbs))\n",
      "cldf = pd.read_sql(\"SELECT * from climber_prepped\", engine, index_col='index')\n",
      "hdf= pd.read_sql(\"SELECT * from hits_prepped\", engine, index_col='index')\n",
      "sdf= pd.read_sql(\"SELECT * from stars_prepped\", engine, index_col='index')\n",
      "gdf= pd.read_sql(\"SELECT * from grades_prepped\", engine, index_col='index')\n",
      "codf= pd.read_sql(\"SELECT * from comments_prepped\", engine, index_col='index')\n",
      "tdf= pd.read_sql(\"SELECT * from ticks_prepped\", engine, index_col='index')"
     ],
     "language": "python",
     "metadata": {},
     "outputs": [
      {
       "output_type": "stream",
       "stream": "stdout",
       "text": [
        "loading 8297 climbs\n"
       ]
      }
     ],
     "prompt_number": 5
    },
    {
     "cell_type": "code",
     "collapsed": false,
     "input": [
      "like_mat= pd.read_sql(\"SELECT * from like_matrix\", engine, index_col='index')\n",
      "star_mat= pd.read_sql(\"SELECT * from star_matrix\", engine, index_col='index')"
     ],
     "language": "python",
     "metadata": {},
     "outputs": [],
     "prompt_number": 6
    },
    {
     "cell_type": "code",
     "collapsed": false,
     "input": [
      "minratings=5\n",
      "users=sdf[sdf['climb'].isin(climbs)]['climber'].unique().astype(int)\n",
      "users=[u for u in users if u in cldf.climberid.values]\n",
      "print \"starting with %s users\" %len(users)\n",
      "users=[u for u in users if len(sdf[sdf['climber']==u]['climb'].values)>minratings]\n",
      "usesdf=sdf[sdf['climber'].isin(users)]\n",
      "usesdf['other_rounded']=[np.round(val) for val in usesdf['other_avg']]\n",
      "usesdf=usesdf[(usesdf['starsscore']>0) & (usesdf['other_rounded']>0)]\n",
      "usesdf['climbid']=usesdf['climb']\n",
      "print \"reducing to %s users who have greater than %s ratings provided\" %(len(users), minratings)"
     ],
     "language": "python",
     "metadata": {},
     "outputs": [
      {
       "output_type": "stream",
       "stream": "stdout",
       "text": [
        "starting with 106 users\n",
        "reducing to 63 users who have greater than 5 ratings provided"
       ]
      },
      {
       "output_type": "stream",
       "stream": "stdout",
       "text": [
        "\n"
       ]
      },
      {
       "output_type": "stream",
       "stream": "stderr",
       "text": [
        "-c:7: SettingWithCopyWarning: \n",
        "A value is trying to be set on a copy of a slice from a DataFrame.\n",
        "Try using .loc[row_indexer,col_indexer] = value instead\n",
        "\n",
        "See the the caveats in the documentation: http://pandas.pydata.org/pandas-docs/stable/indexing.html#indexing-view-versus-copy\n"
       ]
      }
     ],
     "prompt_number": 7
    },
    {
     "cell_type": "heading",
     "level": 3,
     "metadata": {},
     "source": [
      "Quick visualization of the data"
     ]
    },
    {
     "cell_type": "code",
     "collapsed": false,
     "input": [
      "#how are stars dstributed()\n",
      "f,ax=plt.subplots(figsize=[4,3])\n",
      "usesdf.groupby('starsscore').count().climb.plot(kind='bar', grid=False,ax=ax)\n",
      "ax.set_ylabel('counts')\n",
      "sns.despine()"
     ],
     "language": "python",
     "metadata": {},
     "outputs": [
      {
       "metadata": {},
       "output_type": "display_data",
       "png": "[encoded data removed]",
       "text": [
        "<matplotlib.figure.Figure at 0x113ca8cd0>"
       ]
      }
     ],
     "prompt_number": 8
    },
    {
     "cell_type": "code",
     "collapsed": false,
     "input": [
      "#how many climbs per climber?\n",
      "f,ax=plt.subplots(figsize=[4,3])\n",
      "usesdf.groupby('climber').count().climb.hist(bins=20, grid=False,ax=ax)\n",
      "ax.set_ylabel('frequency')\n",
      "sns.despine()"
     ],
     "language": "python",
     "metadata": {},
     "outputs": [
      {
       "metadata": {},
       "output_type": "display_data",
       "png": "[encoded data removed]",
       "text": [
        "<matplotlib.figure.Figure at 0x113ca8a90>"
       ]
      }
     ],
     "prompt_number": 9
    },
    {
     "cell_type": "code",
     "collapsed": false,
     "input": [
      "#how many climbers per climb?\n",
      "f,ax=plt.subplots(figsize=[4,3])\n",
      "usesdf.groupby('climb').count().climber.hist(bins=20, grid=False,ax=ax)\n",
      "ax.set_ylabel('frequency')\n",
      "sns.despine()"
     ],
     "language": "python",
     "metadata": {},
     "outputs": [
      {
       "metadata": {},
       "output_type": "display_data",
       "png": "[encoded data removed]",
       "text": [
        "<matplotlib.figure.Figure at 0x113ca8e10>"
       ]
      }
     ],
     "prompt_number": 10
    },
    {
     "cell_type": "heading",
     "level": 3,
     "metadata": {},
     "source": [
      "Absolute dumbest model guesses randomly"
     ]
    },
    {
     "cell_type": "code",
     "collapsed": false,
     "input": [
      "dumbdf=pd.DataFrame(data={'starsscore':usesdf['starsscore'],'random':[np.random.choice(range(1,5)) for x in range(len(usesdf))]})\n",
      "acc, precision, recall, f1=mo.round2score(dumbdf, 'starsscore', 'random')\n",
      "propdf=viz.plotresults(dumbdf, 'starsscore', 'random')"
     ],
     "language": "python",
     "metadata": {},
     "outputs": [
      {
       "output_type": "stream",
       "stream": "stdout",
       "text": [
        "4 way accuracy 0.257\n",
        "4 way f1 0.270\n",
        "4 way precision 0.298\n",
        "4 way recall 0.257\n"
       ]
      },
      {
       "output_type": "stream",
       "stream": "stderr",
       "text": [
        "/usr/local/lib/python2.7/site-packages/numpy/core/fromnumeric.py:2499: VisibleDeprecationWarning: `rank` is deprecated; use the `ndim` attribute or function instead. To find the rank of a matrix see `numpy.linalg.matrix_rank`.\n",
        "  VisibleDeprecationWarning)\n"
       ]
      },
      {
       "metadata": {},
       "output_type": "display_data",
       "png": "[encoded data removed]",
       "text": [
        "<matplotlib.figure.Figure at 0x11168f1d0>"
       ]
      }
     ],
     "prompt_number": 11
    },
    {
     "cell_type": "heading",
     "level": 3,
     "metadata": {},
     "source": [
      "Another really dumb model guesses most frequent rating label"
     ]
    },
    {
     "cell_type": "code",
     "collapsed": false,
     "input": [
      "mode=scipy.stats.mode(usesdf['starsscore'].values)[0][0]\n",
      "modedf=pd.DataFrame(data={'starsscore':usesdf['starsscore'].values, 'mostfrequent':[mode for x in range(len(usesdf))]})\n",
      "acc, precision, recall, f1=mo.round2score(modedf, 'starsscore', 'mostfrequent')\n",
      "propdf=viz.plotresults(modedf, 'starsscore', 'mostfrequent')"
     ],
     "language": "python",
     "metadata": {},
     "outputs": [
      {
       "output_type": "stream",
       "stream": "stdout",
       "text": [
        "4 way accuracy 0.348\n",
        "4 way f1 0.179\n",
        "4 way precision 0.121\n",
        "4 way recall 0.348\n"
       ]
      },
      {
       "output_type": "stream",
       "stream": "stderr",
       "text": [
        "/usr/local/lib/python2.7/site-packages/sklearn/metrics/metrics.py:1249: UserWarning: The sum of true positives and false positives are equal to zero for some labels. Precision is ill defined for those labels [ 1.  2.  4.]. The precision and recall are equal to zero for some labels. fbeta_score is ill defined for those labels [ 1.  2.  4.]. \n",
        "  average=average)\n",
        "/usr/local/lib/python2.7/site-packages/sklearn/metrics/metrics.py:1734: UserWarning: The sum of true positives and false positives are equal to zero for some labels. Precision is ill defined for those labels [ 1.  2.  4.]. The precision and recall are equal to zero for some labels. fbeta_score is ill defined for those labels [ 1.  2.  4.]. \n",
        "  average=average)\n",
        "/usr/local/lib/python2.7/site-packages/sklearn/metrics/metrics.py:1809: UserWarning: The sum of true positives and false positives are equal to zero for some labels. Precision is ill defined for those labels [ 1.  2.  4.]. The precision and recall are equal to zero for some labels. fbeta_score is ill defined for those labels [ 1.  2.  4.]. \n",
        "  average=average)\n"
       ]
      },
      {
       "metadata": {},
       "output_type": "display_data",
       "png": "[encoded data removed]",
       "text": [
        "<matplotlib.figure.Figure at 0x114ffc550>"
       ]
      }
     ],
     "prompt_number": 12
    },
    {
     "cell_type": "heading",
     "level": 3,
     "metadata": {},
     "source": [
      "A sliiiightly less dumb model guesses the target's most frequently used label (mode of their ratings on other items)"
     ]
    },
    {
     "cell_type": "code",
     "collapsed": false,
     "input": [
      "def getavg(starid, climber, sdf=None):\n",
      "    udf=sdf[(sdf['climber']==climber) & (sdf['starid']!=starid)]\n",
      "    return udf['starsscore'].mean()\n",
      "usesdf['user_avg']=usesdf.apply(lambda x:getavg(x['starid'], x['climber'], sdf=usesdf), axis=1)\n",
      "usesdf['rounded_user_avg']=[np.round(x) for x in usesdf.user_avg.values]"
     ],
     "language": "python",
     "metadata": {},
     "outputs": [],
     "prompt_number": 13
    },
    {
     "cell_type": "code",
     "collapsed": false,
     "input": [
      "%autoreload\n",
      "acc, precision, recall, f1=mo.round2score(usesdf, 'starsscore', 'rounded_user_avg')\n",
      "propdf=viz.plotresults(usesdf, 'starsscore', 'rounded_user_avg')"
     ],
     "language": "python",
     "metadata": {},
     "outputs": [
      {
       "output_type": "stream",
       "stream": "stdout",
       "text": [
        "4 way accuracy 0.399\n",
        "4 way f1 0.355\n",
        "4 way precision 0.442\n",
        "4 way recall 0.399\n"
       ]
      },
      {
       "output_type": "stream",
       "stream": "stderr",
       "text": [
        "/usr/local/lib/python2.7/site-packages/sklearn/metrics/metrics.py:1249: UserWarning: The sum of true positives and false positives are equal to zero for some labels. Precision is ill defined for those labels [ 1.]. The precision and recall are equal to zero for some labels. fbeta_score is ill defined for those labels [ 1.]. \n",
        "  average=average)\n",
        "/usr/local/lib/python2.7/site-packages/sklearn/metrics/metrics.py:1734: UserWarning: The sum of true positives and false positives are equal to zero for some labels. Precision is ill defined for those labels [ 1.]. The precision and recall are equal to zero for some labels. fbeta_score is ill defined for those labels [ 1.]. \n",
        "  average=average)\n",
        "/usr/local/lib/python2.7/site-packages/sklearn/metrics/metrics.py:1809: UserWarning: The sum of true positives and false positives are equal to zero for some labels. Precision is ill defined for those labels [ 1.]. The precision and recall are equal to zero for some labels. fbeta_score is ill defined for those labels [ 1.]. \n",
        "  average=average)\n"
       ]
      },
      {
       "metadata": {},
       "output_type": "display_data",
       "png": "[encoded data removed]",
       "text": [
        "<matplotlib.figure.Figure at 0x11627d050>"
       ]
      }
     ],
     "prompt_number": 14
    },
    {
     "cell_type": "heading",
     "level": 3,
     "metadata": {},
     "source": [
      "A reasonable model makes recommendations based on the ratings of the full remaining group"
     ]
    },
    {
     "cell_type": "raw",
     "metadata": {},
     "source": [
      "%autoreload\n",
      "acc, precision, recall, f1=mo.round2score(usesdf, 'starsscore', 'other_rounded')\n",
      "propdf=viz.plotresults(usesdf, 'starsscore', 'other_rounded')"
     ]
    },
    {
     "cell_type": "heading",
     "level": 3,
     "metadata": {},
     "source": [
      "CAN I OUTPERFORM THIS?"
     ]
    },
    {
     "cell_type": "code",
     "collapsed": false,
     "input": [
      "#for now, let's just get a dummy model into production that learns that individual ratings are identical to avg ratings\n",
      "dummydf=cdf[['climbid','roundedstars']]"
     ],
     "language": "python",
     "metadata": {},
     "outputs": [],
     "prompt_number": 73
    },
    {
     "cell_type": "code",
     "collapsed": false,
     "input": [
      "%autoreload\n",
      "clf=mo.classifier('rfc')\n",
      "clf.n_estimators=10\n",
      "name='dummy'\n",
      "resultsdict={}\n",
      "cfeatures=['roundedstars']\n",
      "sfeatures=[]\n",
      "print \"classifying using %s features\" %(len(cfeatures)+len(sfeatures))\n",
      "summarydf, resultsdf=mo.classify(clf,users, sfeatures, cfeatures, cdf, usesdf, minratings=10, dropself=False, truecol='other_rounded', datadir=projdir)\n",
      "resultsdict[name]=[summarydf, resultsdf]"
     ],
     "language": "python",
     "metadata": {},
     "outputs": [
      {
       "output_type": "stream",
       "stream": "stdout",
       "text": [
        "classifying using 1 features\n"
       ]
      }
     ],
     "prompt_number": 75
    },
    {
     "cell_type": "code",
     "collapsed": false,
     "input": [
      "for name in ['dummy']:\n",
      "    print \"classifying with %s\" %name\n",
      "    summarydf, resultsdf=resultsdict[name]\n",
      "    viz.plotresults(resultsdf, 'true_rating', 'feat_pred')\n",
      "    acc, precision, recall, f1=mo.round2score(resultsdf, 'true_rating', 'feat_pred')"
     ],
     "language": "python",
     "metadata": {},
     "outputs": [
      {
       "output_type": "stream",
       "stream": "stdout",
       "text": [
        "classifying with dummy\n"
       ]
      },
      {
       "metadata": {},
       "output_type": "display_data",
       "png": "[encoded data removed]",
       "text": [
        "<matplotlib.figure.Figure at 0x11858f490>"
       ]
      },
      {
       "output_type": "stream",
       "stream": "stdout",
       "text": [
        "4 way accuracy 0.877\n",
        "4 way f1 0.875\n",
        "4 way precision 0.878\n",
        "4 way recall 0.877\n"
       ]
      }
     ],
     "prompt_number": 76
    },
    {
     "cell_type": "heading",
     "level": 3,
     "metadata": {},
     "source": [
      "Create final climb x feature vector"
     ]
    },
    {
     "cell_type": "code",
     "collapsed": false,
     "input": [
      "#for final set of features, get all climbs that can be scored on those features (note, we can include all data here, so averages including the target are fine....)"
     ],
     "language": "python",
     "metadata": {},
     "outputs": []
    },
    {
     "cell_type": "code",
     "collapsed": false,
     "input": [
      "finalX=cdf[['climbid','roundedstars']]"
     ],
     "language": "python",
     "metadata": {},
     "outputs": [
      {
       "html": [
        "<div style=\"max-height:1000px;max-width:1500px;overflow:auto;\">\n",
        "<table border=\"1\" class=\"dataframe\">\n",
        "  <thead>\n",
        "    <tr style=\"text-align: right;\">\n",
        "      <th></th>\n",
        "      <th>climbid</th>\n",
        "      <th>roundedstars</th>\n",
        "    </tr>\n",
        "    <tr>\n",
        "      <th>index</th>\n",
        "      <th></th>\n",
        "      <th></th>\n",
        "    </tr>\n",
        "  </thead>\n",
        "  <tbody>\n",
        "    <tr>\n",
        "      <th>24    </th>\n",
        "      <td>     24</td>\n",
        "      <td> 2</td>\n",
        "    </tr>\n",
        "    <tr>\n",
        "      <th>584   </th>\n",
        "      <td>    584</td>\n",
        "      <td> 4</td>\n",
        "    </tr>\n",
        "    <tr>\n",
        "      <th>636   </th>\n",
        "      <td>    636</td>\n",
        "      <td> 3</td>\n",
        "    </tr>\n",
        "    <tr>\n",
        "      <th>637   </th>\n",
        "      <td>    637</td>\n",
        "      <td> 4</td>\n",
        "    </tr>\n",
        "    <tr>\n",
        "      <th>771   </th>\n",
        "      <td>    771</td>\n",
        "      <td> 4</td>\n",
        "    </tr>\n",
        "    <tr>\n",
        "      <th>773   </th>\n",
        "      <td>    773</td>\n",
        "      <td> 3</td>\n",
        "    </tr>\n",
        "    <tr>\n",
        "      <th>802   </th>\n",
        "      <td>    802</td>\n",
        "      <td> 4</td>\n",
        "    </tr>\n",
        "    <tr>\n",
        "      <th>6726  </th>\n",
        "      <td>   6726</td>\n",
        "      <td> 2</td>\n",
        "    </tr>\n",
        "    <tr>\n",
        "      <th>14655 </th>\n",
        "      <td>  14655</td>\n",
        "      <td> 4</td>\n",
        "    </tr>\n",
        "    <tr>\n",
        "      <th>15344 </th>\n",
        "      <td>  15344</td>\n",
        "      <td> 3</td>\n",
        "    </tr>\n",
        "    <tr>\n",
        "      <th>21505 </th>\n",
        "      <td>  21505</td>\n",
        "      <td> 3</td>\n",
        "    </tr>\n",
        "    <tr>\n",
        "      <th>23617 </th>\n",
        "      <td>  23617</td>\n",
        "      <td> 3</td>\n",
        "    </tr>\n",
        "    <tr>\n",
        "      <th>35870 </th>\n",
        "      <td>  35870</td>\n",
        "      <td> 4</td>\n",
        "    </tr>\n",
        "    <tr>\n",
        "      <th>50630 </th>\n",
        "      <td>  50630</td>\n",
        "      <td> 3</td>\n",
        "    </tr>\n",
        "    <tr>\n",
        "      <th>53128 </th>\n",
        "      <td>  53128</td>\n",
        "      <td> 2</td>\n",
        "    </tr>\n",
        "    <tr>\n",
        "      <th>53135 </th>\n",
        "      <td>  53135</td>\n",
        "      <td> 2</td>\n",
        "    </tr>\n",
        "    <tr>\n",
        "      <th>53136 </th>\n",
        "      <td>  53136</td>\n",
        "      <td> 3</td>\n",
        "    </tr>\n",
        "    <tr>\n",
        "      <th>624   </th>\n",
        "      <td>    624</td>\n",
        "      <td> 3</td>\n",
        "    </tr>\n",
        "    <tr>\n",
        "      <th>6591  </th>\n",
        "      <td>   6591</td>\n",
        "      <td> 4</td>\n",
        "    </tr>\n",
        "    <tr>\n",
        "      <th>26154 </th>\n",
        "      <td>  26154</td>\n",
        "      <td> 2</td>\n",
        "    </tr>\n",
        "    <tr>\n",
        "      <th>34791 </th>\n",
        "      <td>  34791</td>\n",
        "      <td> 3</td>\n",
        "    </tr>\n",
        "    <tr>\n",
        "      <th>37621 </th>\n",
        "      <td>  37621</td>\n",
        "      <td> 3</td>\n",
        "    </tr>\n",
        "    <tr>\n",
        "      <th>37634 </th>\n",
        "      <td>  37634</td>\n",
        "      <td> 4</td>\n",
        "    </tr>\n",
        "    <tr>\n",
        "      <th>37635 </th>\n",
        "      <td>  37635</td>\n",
        "      <td> 3</td>\n",
        "    </tr>\n",
        "    <tr>\n",
        "      <th>47191 </th>\n",
        "      <td>  47191</td>\n",
        "      <td> 3</td>\n",
        "    </tr>\n",
        "    <tr>\n",
        "      <th>47202 </th>\n",
        "      <td>  47202</td>\n",
        "      <td> 3</td>\n",
        "    </tr>\n",
        "    <tr>\n",
        "      <th>77796 </th>\n",
        "      <td>  77796</td>\n",
        "      <td> 2</td>\n",
        "    </tr>\n",
        "    <tr>\n",
        "      <th>103437</th>\n",
        "      <td> 103437</td>\n",
        "      <td> 4</td>\n",
        "    </tr>\n",
        "    <tr>\n",
        "      <th>32825 </th>\n",
        "      <td>  32825</td>\n",
        "      <td> 3</td>\n",
        "    </tr>\n",
        "    <tr>\n",
        "      <th>33127 </th>\n",
        "      <td>  33127</td>\n",
        "      <td> 3</td>\n",
        "    </tr>\n",
        "    <tr>\n",
        "      <th>...</th>\n",
        "      <td>...</td>\n",
        "      <td>...</td>\n",
        "    </tr>\n",
        "    <tr>\n",
        "      <th>127428</th>\n",
        "      <td> 127428</td>\n",
        "      <td> 3</td>\n",
        "    </tr>\n",
        "    <tr>\n",
        "      <th>127462</th>\n",
        "      <td> 127462</td>\n",
        "      <td> 3</td>\n",
        "    </tr>\n",
        "    <tr>\n",
        "      <th>127463</th>\n",
        "      <td> 127463</td>\n",
        "      <td> 2</td>\n",
        "    </tr>\n",
        "    <tr>\n",
        "      <th>128680</th>\n",
        "      <td> 128680</td>\n",
        "      <td> 3</td>\n",
        "    </tr>\n",
        "    <tr>\n",
        "      <th>128681</th>\n",
        "      <td> 128681</td>\n",
        "      <td> 2</td>\n",
        "    </tr>\n",
        "    <tr>\n",
        "      <th>128686</th>\n",
        "      <td> 128686</td>\n",
        "      <td> 2</td>\n",
        "    </tr>\n",
        "    <tr>\n",
        "      <th>128693</th>\n",
        "      <td> 128693</td>\n",
        "      <td> 4</td>\n",
        "    </tr>\n",
        "    <tr>\n",
        "      <th>128710</th>\n",
        "      <td> 128710</td>\n",
        "      <td> 1</td>\n",
        "    </tr>\n",
        "    <tr>\n",
        "      <th>128717</th>\n",
        "      <td> 128717</td>\n",
        "      <td> 1</td>\n",
        "    </tr>\n",
        "    <tr>\n",
        "      <th>128718</th>\n",
        "      <td> 128718</td>\n",
        "      <td> 1</td>\n",
        "    </tr>\n",
        "    <tr>\n",
        "      <th>128762</th>\n",
        "      <td> 128762</td>\n",
        "      <td> 1</td>\n",
        "    </tr>\n",
        "    <tr>\n",
        "      <th>128783</th>\n",
        "      <td> 128783</td>\n",
        "      <td> 2</td>\n",
        "    </tr>\n",
        "    <tr>\n",
        "      <th>128785</th>\n",
        "      <td> 128785</td>\n",
        "      <td> 1</td>\n",
        "    </tr>\n",
        "    <tr>\n",
        "      <th>128766</th>\n",
        "      <td> 128766</td>\n",
        "      <td> 2</td>\n",
        "    </tr>\n",
        "    <tr>\n",
        "      <th>128767</th>\n",
        "      <td> 128767</td>\n",
        "      <td> 2</td>\n",
        "    </tr>\n",
        "    <tr>\n",
        "      <th>128801</th>\n",
        "      <td> 128801</td>\n",
        "      <td> 2</td>\n",
        "    </tr>\n",
        "    <tr>\n",
        "      <th>129052</th>\n",
        "      <td> 129052</td>\n",
        "      <td> 3</td>\n",
        "    </tr>\n",
        "    <tr>\n",
        "      <th>129058</th>\n",
        "      <td> 129058</td>\n",
        "      <td> 3</td>\n",
        "    </tr>\n",
        "    <tr>\n",
        "      <th>129063</th>\n",
        "      <td> 129063</td>\n",
        "      <td> 1</td>\n",
        "    </tr>\n",
        "    <tr>\n",
        "      <th>130117</th>\n",
        "      <td> 130117</td>\n",
        "      <td> 2</td>\n",
        "    </tr>\n",
        "    <tr>\n",
        "      <th>130536</th>\n",
        "      <td> 130536</td>\n",
        "      <td> 3</td>\n",
        "    </tr>\n",
        "    <tr>\n",
        "      <th>130571</th>\n",
        "      <td> 130571</td>\n",
        "      <td> 2</td>\n",
        "    </tr>\n",
        "    <tr>\n",
        "      <th>131035</th>\n",
        "      <td> 131035</td>\n",
        "      <td> 2</td>\n",
        "    </tr>\n",
        "    <tr>\n",
        "      <th>132434</th>\n",
        "      <td> 132434</td>\n",
        "      <td> 3</td>\n",
        "    </tr>\n",
        "    <tr>\n",
        "      <th>132630</th>\n",
        "      <td> 132630</td>\n",
        "      <td> 4</td>\n",
        "    </tr>\n",
        "    <tr>\n",
        "      <th>133370</th>\n",
        "      <td> 133370</td>\n",
        "      <td> 2</td>\n",
        "    </tr>\n",
        "    <tr>\n",
        "      <th>133517</th>\n",
        "      <td> 133517</td>\n",
        "      <td> 3</td>\n",
        "    </tr>\n",
        "    <tr>\n",
        "      <th>136244</th>\n",
        "      <td> 136244</td>\n",
        "      <td> 4</td>\n",
        "    </tr>\n",
        "    <tr>\n",
        "      <th>136247</th>\n",
        "      <td> 136247</td>\n",
        "      <td> 4</td>\n",
        "    </tr>\n",
        "    <tr>\n",
        "      <th>137485</th>\n",
        "      <td> 137485</td>\n",
        "      <td> 4</td>\n",
        "    </tr>\n",
        "  </tbody>\n",
        "</table>\n",
        "<p>8297 rows \u00d7 2 columns</p>\n",
        "</div>"
       ],
       "metadata": {},
       "output_type": "pyout",
       "prompt_number": 78,
       "text": [
        "        climbid  roundedstars\n",
        "index                        \n",
        "24           24             2\n",
        "584         584             4\n",
        "636         636             3\n",
        "637         637             4\n",
        "771         771             4\n",
        "773         773             3\n",
        "802         802             4\n",
        "6726       6726             2\n",
        "14655     14655             4\n",
        "15344     15344             3\n",
        "21505     21505             3\n",
        "23617     23617             3\n",
        "35870     35870             4\n",
        "50630     50630             3\n",
        "53128     53128             2\n",
        "53135     53135             2\n",
        "53136     53136             3\n",
        "624         624             3\n",
        "6591       6591             4\n",
        "26154     26154             2\n",
        "34791     34791             3\n",
        "37621     37621             3\n",
        "37634     37634             4\n",
        "37635     37635             3\n",
        "47191     47191             3\n",
        "47202     47202             3\n",
        "77796     77796             2\n",
        "103437   103437             4\n",
        "32825     32825             3\n",
        "33127     33127             3\n",
        "...         ...           ...\n",
        "127428   127428             3\n",
        "127462   127462             3\n",
        "127463   127463             2\n",
        "128680   128680             3\n",
        "128681   128681             2\n",
        "128686   128686             2\n",
        "128693   128693             4\n",
        "128710   128710             1\n",
        "128717   128717             1\n",
        "128718   128718             1\n",
        "128762   128762             1\n",
        "128783   128783             2\n",
        "128785   128785             1\n",
        "128766   128766             2\n",
        "128767   128767             2\n",
        "128801   128801             2\n",
        "129052   129052             3\n",
        "129058   129058             3\n",
        "129063   129063             1\n",
        "130117   130117             2\n",
        "130536   130536             3\n",
        "130571   130571             2\n",
        "131035   131035             2\n",
        "132434   132434             3\n",
        "132630   132630             4\n",
        "133370   133370             2\n",
        "133517   133517             3\n",
        "136244   136244             4\n",
        "136247   136247             4\n",
        "137485   137485             4\n",
        "\n",
        "[8297 rows x 2 columns]"
       ]
      }
     ],
     "prompt_number": 78
    },
    {
     "cell_type": "code",
     "collapsed": false,
     "input": [
      "\n",
      "    "
     ],
     "language": "python",
     "metadata": {},
     "outputs": []
    }
   ],
   "metadata": {}
  }
 ]
}