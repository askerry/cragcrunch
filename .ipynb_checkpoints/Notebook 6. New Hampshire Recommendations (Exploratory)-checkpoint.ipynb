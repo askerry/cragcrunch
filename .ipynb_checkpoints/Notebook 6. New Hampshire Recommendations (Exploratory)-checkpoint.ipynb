{
 "metadata": {
  "name": "",
  "signature": "sha256:e56f26b31d81f7f9339cabb1ea5d33a814e99a0c51f08c037a6f4d54a262af10"
 },
 "nbformat": 3,
 "nbformat_minor": 0,
 "worksheets": [
  {
   "cells": [
    {
     "cell_type": "code",
     "collapsed": false,
     "input": [
      "pylab inline"
     ],
     "language": "python",
     "metadata": {},
     "outputs": [
      {
       "output_type": "stream",
       "stream": "stdout",
       "text": [
        "Populating the interactive namespace from numpy and matplotlib\n"
       ]
      }
     ],
     "prompt_number": 1
    },
    {
     "cell_type": "code",
     "collapsed": false,
     "input": [
      "%load_ext autoreload"
     ],
     "language": "python",
     "metadata": {},
     "outputs": [],
     "prompt_number": 2
    },
    {
     "cell_type": "heading",
     "level": 3,
     "metadata": {},
     "source": [
      "Setup"
     ]
    },
    {
     "cell_type": "code",
     "collapsed": false,
     "input": [
      "import pandas as pd\n",
      "import numpy as np\n",
      "np.random.RandomState(100)\n",
      "from sqlalchemy import create_engine\n",
      "import os\n",
      "import sys\n",
      "import scipy.stats\n",
      "\n",
      "from joblib import Parallel, delayed  \n",
      "import multiprocessing\n",
      "num_cores = multiprocessing.cpu_count()\n",
      "print \"%s cores available for parallel processing\" % num_cores\n",
      "\n",
      "sys.path.append('mpscraper')\n",
      "from mpscraper.cfgdb import cfg\n",
      "sys.path.append('antools')\n",
      "import antools.random as rd\n",
      "import antools.reduction as red\n",
      "import antools.utilities as util\n",
      "import antools.visualization as viz\n",
      "import antools.modeling as mo\n",
      "\n",
      "import pandas as pd\n",
      "import numpy as np\n",
      "import seaborn as sns\n",
      "sns.set_style('white')\n",
      "import matplotlib.pyplot as plt\n",
      "import scipy.stats\n",
      "\n",
      "from sklearn.metrics.pairwise import pairwise_distances\n",
      "import sklearn.cross_validation\n",
      "from sklearn.ensemble import RandomForestRegressor \n",
      "from sklearn.ensemble import RandomForestClassifier \n",
      "from sklearn.linear_model import LinearRegression\n",
      "from sklearn.svm import SVC\n",
      "from sklearn.linear_model import Ridge\n",
      "from sklearn.metrics import f1_score"
     ],
     "language": "python",
     "metadata": {},
     "outputs": [
      {
       "output_type": "stream",
       "stream": "stdout",
       "text": [
        "4 cores available for parallel processing\n"
       ]
      }
     ],
     "prompt_number": 3
    },
    {
     "cell_type": "code",
     "collapsed": false,
     "input": [
      "import sys, os\n",
      "rootdir=os.getcwd()\n",
      "while 'Projects' in rootdir:\n",
      "    rootdir=os.path.dirname(rootdir)\n",
      "projdir=os.path.join(rootdir, 'Projects','cragcrunch','data')"
     ],
     "language": "python",
     "metadata": {},
     "outputs": [],
     "prompt_number": 4
    },
    {
     "cell_type": "heading",
     "level": 3,
     "metadata": {},
     "source": [
      "Load in preprocessed data"
     ]
    },
    {
     "cell_type": "code",
     "collapsed": false,
     "input": [
      "engine = create_engine('mysql://%s@%s/%s?charset=%s&use_unicode=%s&passwd=%s' %(cfg.user, cfg.host, cfg.dbname, cfg.charset, cfg.use_unicode, cfg.passwd), pool_recycle=3600)\n",
      "cdf = pd.read_sql(\"SELECT * from climb_prepped where region = 'New Hampshire'\", engine, index_col='index')\n",
      "adf = pd.read_sql(\"SELECT * from area_prepped where region = 'New Hampshire'\", engine, index_col='index')\n",
      "climbs=list(cdf.climbid.unique())\n",
      "print \"loading %s climbs\" %(len(climbs))\n",
      "cldf = pd.read_sql(\"SELECT * from climber_prepped\", engine, index_col='index')\n",
      "hdf= pd.read_sql(\"SELECT * from hits_prepped\", engine, index_col='index')\n",
      "sdf= pd.read_sql(\"SELECT * from stars_prepped\", engine, index_col='index')\n",
      "gdf= pd.read_sql(\"SELECT * from grades_prepped\", engine, index_col='index')\n",
      "codf= pd.read_sql(\"SELECT * from comments_prepped\", engine, index_col='index')\n",
      "tdf= pd.read_sql(\"SELECT * from ticks_prepped\", engine, index_col='index')"
     ],
     "language": "python",
     "metadata": {},
     "outputs": [
      {
       "output_type": "stream",
       "stream": "stdout",
       "text": [
        "loading 1303 climbs\n"
       ]
      }
     ],
     "prompt_number": 65
    },
    {
     "cell_type": "code",
     "collapsed": false,
     "input": [
      "like_mat= pd.read_sql(\"SELECT * from like_matrix\", engine, index_col='index')\n",
      "star_mat= pd.read_sql(\"SELECT * from star_matrix\", engine, index_col='index')"
     ],
     "language": "python",
     "metadata": {},
     "outputs": [],
     "prompt_number": 66
    },
    {
     "cell_type": "code",
     "collapsed": false,
     "input": [
      "minratings=5\n",
      "users=sdf[sdf['climb'].isin(climbs)]['climber'].unique().astype(int)\n",
      "users=[u for u in users if u in cldf.climberid.values]\n",
      "print \"starting with %s users\" %len(users)\n",
      "users=[u for u in users if len(sdf[sdf['climber']==u]['climb'].values)>minratings]\n",
      "usesdf=sdf[sdf['climber'].isin(users)]\n",
      "usesdf['other_rounded']=[np.round(val) for val in usesdf['other_avg']]\n",
      "usesdf=usesdf[(usesdf['starsscore']>0) & (usesdf['other_rounded']>0)]\n",
      "usesdf['climbid']=usesdf['climb']\n",
      "print \"reducing to %s users who have greater than %s ratings provided\" %(len(users), minratings)"
     ],
     "language": "python",
     "metadata": {},
     "outputs": [
      {
       "output_type": "stream",
       "stream": "stdout",
       "text": [
        "starting with 27 users\n",
        "reducing to 19 users who have greater than 5 ratings provided"
       ]
      },
      {
       "output_type": "stream",
       "stream": "stdout",
       "text": [
        "\n"
       ]
      }
     ],
     "prompt_number": 67
    },
    {
     "cell_type": "code",
     "collapsed": false,
     "input": [],
     "language": "python",
     "metadata": {},
     "outputs": [],
     "prompt_number": 67
    },
    {
     "cell_type": "heading",
     "level": 3,
     "metadata": {},
     "source": [
      "Quick visualization of the data"
     ]
    },
    {
     "cell_type": "code",
     "collapsed": false,
     "input": [
      "#how are stars dstributed()\n",
      "f,ax=plt.subplots(figsize=[4,3])\n",
      "usesdf.groupby('starsscore').count().climb.plot(kind='bar', grid=False,ax=ax)\n",
      "ax.set_ylabel('counts')\n",
      "sns.despine()"
     ],
     "language": "python",
     "metadata": {},
     "outputs": [
      {
       "metadata": {},
       "output_type": "display_data",
       "png": "[encoded data removed]",
       "text": [
        "<matplotlib.figure.Figure at 0x116337f50>"
       ]
      }
     ],
     "prompt_number": 8
    },
    {
     "cell_type": "code",
     "collapsed": false,
     "input": [
      "#how many climbs per climber?\n",
      "f,ax=plt.subplots(figsize=[4,3])\n",
      "usesdf.groupby('climber').count().climb.hist(bins=20, grid=False,ax=ax)\n",
      "ax.set_ylabel('frequency')\n",
      "sns.despine()"
     ],
     "language": "python",
     "metadata": {},
     "outputs": [
      {
       "metadata": {},
       "output_type": "display_data",
       "png": "[encoded data removed]",
       "text": [
        "<matplotlib.figure.Figure at 0x116352ad0>"
       ]
      }
     ],
     "prompt_number": 9
    },
    {
     "cell_type": "code",
     "collapsed": false,
     "input": [
      "#how many climbers per climb?\n",
      "f,ax=plt.subplots(figsize=[4,3])\n",
      "usesdf.groupby('climb').count().climber.hist(bins=20, grid=False,ax=ax)\n",
      "ax.set_ylabel('frequency')\n",
      "sns.despine()"
     ],
     "language": "python",
     "metadata": {},
     "outputs": [
      {
       "metadata": {},
       "output_type": "display_data",
       "png": "[encoded data removed]",
       "text": [
        "<matplotlib.figure.Figure at 0x116ff7d90>"
       ]
      }
     ],
     "prompt_number": 10
    },
    {
     "cell_type": "heading",
     "level": 3,
     "metadata": {},
     "source": [
      "Absolute dumbest model guesses randomly"
     ]
    },
    {
     "cell_type": "code",
     "collapsed": false,
     "input": [
      "dumbdf=pd.DataFrame(data={'starsscore':usesdf['starsscore'],'random':[np.random.choice(range(1,5)) for x in range(len(usesdf))]})\n",
      "acc, precision, recall, f1=mo.round2score(dumbdf, 'starsscore', 'random')\n",
      "propdf=viz.plotresults(dumbdf, 'starsscore', 'random')"
     ],
     "language": "python",
     "metadata": {},
     "outputs": [
      {
       "output_type": "stream",
       "stream": "stdout",
       "text": [
        "4 way accuracy 0.244\n",
        "4 way f1 0.249\n",
        "4 way precision 0.263\n",
        "4 way recall 0.244\n"
       ]
      },
      {
       "output_type": "stream",
       "stream": "stderr",
       "text": [
        "/usr/local/lib/python2.7/site-packages/numpy/core/fromnumeric.py:2499: VisibleDeprecationWarning: `rank` is deprecated; use the `ndim` attribute or function instead. To find the rank of a matrix see `numpy.linalg.matrix_rank`.\n",
        "  VisibleDeprecationWarning)\n"
       ]
      },
      {
       "metadata": {},
       "output_type": "display_data",
       "png": "[encoded data removed]",
       "text": [
        "<matplotlib.figure.Figure at 0x11896b1d0>"
       ]
      }
     ],
     "prompt_number": 11
    },
    {
     "cell_type": "heading",
     "level": 3,
     "metadata": {},
     "source": [
      "Another really dumb model guesses most frequent rating label"
     ]
    },
    {
     "cell_type": "code",
     "collapsed": false,
     "input": [
      "mode=scipy.stats.mode(usesdf['starsscore'].values)[0][0]\n",
      "modedf=pd.DataFrame(data={'starsscore':usesdf['starsscore'].values, 'mostfrequent':[mode for x in range(len(usesdf))]})\n",
      "acc, precision, recall, f1=mo.round2score(modedf, 'starsscore', 'mostfrequent')\n",
      "propdf=viz.plotresults(modedf, 'starsscore', 'mostfrequent')"
     ],
     "language": "python",
     "metadata": {},
     "outputs": [
      {
       "output_type": "stream",
       "stream": "stdout",
       "text": [
        "4 way accuracy 0.359\n",
        "4 way f1 0.189\n",
        "4 way precision 0.129\n",
        "4 way recall 0.359\n"
       ]
      },
      {
       "output_type": "stream",
       "stream": "stderr",
       "text": [
        "/usr/local/lib/python2.7/site-packages/sklearn/metrics/metrics.py:1249: UserWarning: The sum of true positives and false positives are equal to zero for some labels. Precision is ill defined for those labels [ 1.  3.  4.]. The precision and recall are equal to zero for some labels. fbeta_score is ill defined for those labels [ 1.  3.  4.]. \n",
        "  average=average)\n",
        "/usr/local/lib/python2.7/site-packages/sklearn/metrics/metrics.py:1734: UserWarning: The sum of true positives and false positives are equal to zero for some labels. Precision is ill defined for those labels [ 1.  3.  4.]. The precision and recall are equal to zero for some labels. fbeta_score is ill defined for those labels [ 1.  3.  4.]. \n",
        "  average=average)\n",
        "/usr/local/lib/python2.7/site-packages/sklearn/metrics/metrics.py:1809: UserWarning: The sum of true positives and false positives are equal to zero for some labels. Precision is ill defined for those labels [ 1.  3.  4.]. The precision and recall are equal to zero for some labels. fbeta_score is ill defined for those labels [ 1.  3.  4.]. \n",
        "  average=average)\n"
       ]
      },
      {
       "metadata": {},
       "output_type": "display_data",
       "png": "[encoded data removed]",
       "text": [
        "<matplotlib.figure.Figure at 0x118be4c90>"
       ]
      }
     ],
     "prompt_number": 12
    },
    {
     "cell_type": "heading",
     "level": 3,
     "metadata": {},
     "source": [
      "A sliiiightly less dumb model guesses the target's most frequently used label (mode of their ratings on other items)"
     ]
    },
    {
     "cell_type": "code",
     "collapsed": false,
     "input": [
      "def getavg(starid, climber, sdf=None):\n",
      "    udf=sdf[(sdf['climber']==climber) & (sdf['starid']!=starid)]\n",
      "    return udf['starsscore'].mean()\n",
      "usesdf['user_avg']=usesdf.apply(lambda x:getavg(x['starid'], x['climber'], sdf=usesdf), axis=1)\n",
      "usesdf['rounded_user_avg']=[np.round(x) for x in usesdf.user_avg.values]"
     ],
     "language": "python",
     "metadata": {},
     "outputs": [],
     "prompt_number": 13
    },
    {
     "cell_type": "code",
     "collapsed": false,
     "input": [
      "%autoreload\n",
      "acc, precision, recall, f1=mo.round2score(usesdf, 'starsscore', 'rounded_user_avg')\n",
      "propdf=viz.plotresults(usesdf, 'starsscore', 'rounded_user_avg')"
     ],
     "language": "python",
     "metadata": {},
     "outputs": [
      {
       "output_type": "stream",
       "stream": "stdout",
       "text": [
        "4 way accuracy 0.386\n",
        "4 way f1 0.325\n",
        "4 way precision 0.433\n",
        "4 way recall 0.386\n"
       ]
      },
      {
       "output_type": "stream",
       "stream": "stderr",
       "text": [
        "/usr/local/lib/python2.7/site-packages/sklearn/metrics/metrics.py:1249: UserWarning: The sum of true positives and false positives are equal to zero for some labels. Precision is ill defined for those labels [ 1.]. The precision and recall are equal to zero for some labels. fbeta_score is ill defined for those labels [ 1.]. \n",
        "  average=average)\n",
        "/usr/local/lib/python2.7/site-packages/sklearn/metrics/metrics.py:1734: UserWarning: The sum of true positives and false positives are equal to zero for some labels. Precision is ill defined for those labels [ 1.]. The precision and recall are equal to zero for some labels. fbeta_score is ill defined for those labels [ 1.]. \n",
        "  average=average)\n",
        "/usr/local/lib/python2.7/site-packages/sklearn/metrics/metrics.py:1809: UserWarning: The sum of true positives and false positives are equal to zero for some labels. Precision is ill defined for those labels [ 1.]. The precision and recall are equal to zero for some labels. fbeta_score is ill defined for those labels [ 1.]. \n",
        "  average=average)\n"
       ]
      },
      {
       "metadata": {},
       "output_type": "display_data",
       "png": "[encoded data removed]",
       "text": [
        "<matplotlib.figure.Figure at 0x118a2b850>"
       ]
      }
     ],
     "prompt_number": 14
    },
    {
     "cell_type": "heading",
     "level": 3,
     "metadata": {},
     "source": [
      "A reasonable model makes recommendations based on the ratings of the full remaining group"
     ]
    },
    {
     "cell_type": "code",
     "collapsed": false,
     "input": [
      "%autoreload\n",
      "acc, precision, recall, f1=mo.round2score(usesdf, 'starsscore', 'other_rounded')\n",
      "propdf=viz.plotresults(usesdf, 'starsscore', 'other_rounded')"
     ],
     "language": "python",
     "metadata": {},
     "outputs": [
      {
       "output_type": "stream",
       "stream": "stdout",
       "text": [
        "4 way accuracy 0.558\n",
        "4 way f1 0.555\n",
        "4 way precision 0.571\n",
        "4 way recall 0.558\n"
       ]
      },
      {
       "metadata": {},
       "output_type": "display_data",
       "png": "[encoded data removed]",
       "text": [
        "<matplotlib.figure.Figure at 0x11719df90>"
       ]
      }
     ],
     "prompt_number": 15
    },
    {
     "cell_type": "heading",
     "level": 3,
     "metadata": {},
     "source": [
      "CAN I OUTPERFORM THIS?"
     ]
    },
    {
     "cell_type": "code",
     "collapsed": false,
     "input": [
      "%autoreload\n",
      "clf=mo.classifier('rfc')"
     ],
     "language": "python",
     "metadata": {},
     "outputs": [],
     "prompt_number": 77
    },
    {
     "cell_type": "heading",
     "level": 3,
     "metadata": {},
     "source": [
      "A smart model might use attributes of other climbs the user likes"
     ]
    },
    {
     "cell_type": "code",
     "collapsed": false,
     "input": [
      "%autoreload\n",
      "\n",
      "allterms=rd.holdterms+rd.descriptors+rd.easeterms+rd.safetyterms+rd.rockterms\n",
      "alltermsdict={'holdterms':rd.holdterms,'descriptors':rd.descriptors,'easeterms':rd.easeterms,'safety':rd.safetyterms,'rockterms':rd.rockterms}\n",
      "alltermsdict['allterms']=allterms\n",
      "resultsdict={}\n",
      "for name in alltermsdict.keys():\n",
      "    terms=alltermsdict[name]\n",
      "    key='description'\n",
      "    cfeatures=['%s_%s' %(h,key) for h in terms]\n",
      "    sfeatures=[]\n",
      "    print \"classifying using %s features\" %(len(cfeatures)+len(sfeatures))\n",
      "    ndf=mo.normalizewordcounts(cdf, cfeatures, key)\n",
      "    summarydf, resultsdf=mo.classify(clf,users, sfeatures, cfeatures, ndf, usesdf, minratings=10)\n",
      "    resultsdict[name]=[summarydf, resultsdf]\n",
      "\n"
     ],
     "language": "python",
     "metadata": {},
     "outputs": [
      {
       "output_type": "stream",
       "stream": "stdout",
       "text": [
        "classifying using 28 features\n",
        "classifying using 11 features"
       ]
      },
      {
       "output_type": "stream",
       "stream": "stdout",
       "text": [
        "\n",
        "classifying using 80 features"
       ]
      },
      {
       "output_type": "stream",
       "stream": "stdout",
       "text": [
        "\n",
        "classifying using 16 features"
       ]
      },
      {
       "output_type": "stream",
       "stream": "stdout",
       "text": [
        "\n",
        "classifying using 9 features"
       ]
      },
      {
       "output_type": "stream",
       "stream": "stdout",
       "text": [
        "\n",
        "classifying using 16 features"
       ]
      },
      {
       "output_type": "stream",
       "stream": "stdout",
       "text": [
        "\n"
       ]
      }
     ],
     "prompt_number": 78
    },
    {
     "cell_type": "code",
     "collapsed": false,
     "input": [
      "%autoreload\n",
      "for name in resultsdict.keys():\n",
      "    print \"\"\n",
      "    print \"classifying with %s\" %name\n",
      "    summarydf, resultsdf=resultsdict[name]\n",
      "    viz.plotresults(resultsdf, 'true_rating', 'feat_pred')\n",
      "    acc, precision, recall, f1=mo.round2score(resultsdf, 'true_rating', 'feat_pred')"
     ],
     "language": "python",
     "metadata": {},
     "outputs": [
      {
       "output_type": "stream",
       "stream": "stdout",
       "text": [
        "\n",
        "classifying with holdterms\n"
       ]
      },
      {
       "metadata": {},
       "output_type": "display_data",
       "png": "[encoded data removed]",
       "text": [
        "<matplotlib.figure.Figure at 0x1199925d0>"
       ]
      },
      {
       "output_type": "stream",
       "stream": "stdout",
       "text": [
        "4 way accuracy 0.429\n",
        "4 way f1 0.421\n",
        "4 way precision 0.421\n",
        "4 way recall 0.429\n",
        "\n",
        "classifying with descriptors\n"
       ]
      },
      {
       "metadata": {},
       "output_type": "display_data",
       "png": "[encoded data removed]",
       "text": [
        "<matplotlib.figure.Figure at 0x117af4710>"
       ]
      },
      {
       "output_type": "stream",
       "stream": "stdout",
       "text": [
        "4 way accuracy 0.403\n",
        "4 way f1 0.385\n",
        "4 way precision 0.381\n",
        "4 way recall 0.403\n",
        "\n",
        "classifying with allterms\n"
       ]
      },
      {
       "metadata": {},
       "output_type": "display_data",
       "png": "[encoded data removed]",
       "text": [
        "<matplotlib.figure.Figure at 0x117def890>"
       ]
      },
      {
       "output_type": "stream",
       "stream": "stdout",
       "text": [
        "4 way accuracy 0.434\n",
        "4 way f1 0.410\n",
        "4 way precision 0.407\n",
        "4 way recall 0.434\n",
        "\n",
        "classifying with safety\n"
       ]
      },
      {
       "metadata": {},
       "output_type": "display_data",
       "png": "[encoded data removed]",
       "text": [
        "<matplotlib.figure.Figure at 0x1186b6d90>"
       ]
      },
      {
       "output_type": "stream",
       "stream": "stdout",
       "text": [
        "4 way accuracy 0.450\n",
        "4 way f1 0.361\n",
        "4 way precision 0.369\n",
        "4 way recall 0.450\n",
        "\n",
        "classifying with rockterms\n"
       ]
      },
      {
       "metadata": {},
       "output_type": "display_data",
       "png": "[encoded data removed]",
       "text": [
        "<matplotlib.figure.Figure at 0x117416410>"
       ]
      },
      {
       "output_type": "stream",
       "stream": "stdout",
       "text": [
        "4 way accuracy 0.433\n",
        "4 way f1 0.317\n",
        "4 way precision 0.259\n",
        "4 way recall 0.433\n",
        "\n",
        "classifying with easeterms\n"
       ]
      },
      {
       "output_type": "stream",
       "stream": "stderr",
       "text": [
        "/usr/local/lib/python2.7/site-packages/sklearn/metrics/metrics.py:1249: UserWarning: The precision and recall are equal to zero for some labels. fbeta_score is ill defined for those labels [ 1.  3.]. \n",
        "  average=average)\n",
        "/usr/local/lib/python2.7/site-packages/sklearn/metrics/metrics.py:1734: UserWarning: The precision and recall are equal to zero for some labels. fbeta_score is ill defined for those labels [ 1.  3.]. \n",
        "  average=average)\n",
        "/usr/local/lib/python2.7/site-packages/sklearn/metrics/metrics.py:1809: UserWarning: The precision and recall are equal to zero for some labels. fbeta_score is ill defined for those labels [ 1.  3.]. \n",
        "  average=average)\n"
       ]
      },
      {
       "metadata": {},
       "output_type": "display_data",
       "png": "[encoded data removed]",
       "text": [
        "<matplotlib.figure.Figure at 0x11731f910>"
       ]
      },
      {
       "output_type": "stream",
       "stream": "stdout",
       "text": [
        "4 way accuracy 0.376\n",
        "4 way f1 0.361\n",
        "4 way precision 0.358\n",
        "4 way recall 0.376\n"
       ]
      }
     ],
     "prompt_number": 79
    },
    {
     "cell_type": "heading",
     "level": 3,
     "metadata": {},
     "source": [
      "A smart model might also use the ratings of climbers"
     ]
    },
    {
     "cell_type": "markdown",
     "metadata": {},
     "source": [
      "Specifically, we can include as features the ratings of each climb by each other user (here using a binarized \"like\" matrix). In contrast to using the group average, training on each individual climber's ratings allows the model to learn which other climber's ratings are most predictive of the target's."
     ]
    },
    {
     "cell_type": "code",
     "collapsed": false,
     "input": [
      "clf=mo.classifier('rfc')"
     ],
     "language": "python",
     "metadata": {},
     "outputs": [],
     "prompt_number": 80
    },
    {
     "cell_type": "code",
     "collapsed": false,
     "input": [
      "%autoreload\n",
      "name='user_sim'\n",
      "#terms=alltermsdict[name]\n",
      "#key='description'\n",
      "cfeatures=list(like_mat.columns.values)\n",
      "cfeatures.remove('climbid')\n",
      "sfeatures=[]#['other_avg']\n",
      "print \"classifying using %s features\" %(len(cfeatures)+len(sfeatures))\n",
      "#ndf=mo.normalizewordcounts(ndf, cfeatures, key)\n",
      "summarydf, resultsdf=mo.classify(clf,users, sfeatures, cfeatures, like_mat, usesdf, minratings=10, dropself=True)\n",
      "resultsdict[name]=[summarydf, resultsdf]\n"
     ],
     "language": "python",
     "metadata": {},
     "outputs": [
      {
       "output_type": "stream",
       "stream": "stdout",
       "text": [
        "classifying using 105 features\n"
       ]
      }
     ],
     "prompt_number": 81
    },
    {
     "cell_type": "code",
     "collapsed": false,
     "input": [
      "%autoreload\n",
      "for name in ['user_sim']:\n",
      "    print \"classifying with %s\" %name\n",
      "    summarydf, resultsdf=resultsdict[name]\n",
      "    viz.plotresults(resultsdf, 'true_rating', 'feat_pred')\n",
      "    acc, precision, recall, f1=mo.round2score(resultsdf, 'true_rating', 'feat_pred')"
     ],
     "language": "python",
     "metadata": {},
     "outputs": [
      {
       "output_type": "stream",
       "stream": "stdout",
       "text": [
        "classifying with user_sim\n"
       ]
      },
      {
       "metadata": {},
       "output_type": "display_data",
       "png": "[encoded data removed]",
       "text": [
        "<matplotlib.figure.Figure at 0x115e49b10>"
       ]
      },
      {
       "output_type": "stream",
       "stream": "stdout",
       "text": [
        "4 way accuracy 0.695\n",
        "4 way f1 0.647\n",
        "4 way precision 0.662\n",
        "4 way recall 0.695\n"
       ]
      }
     ],
     "prompt_number": 82
    },
    {
     "cell_type": "heading",
     "level": 3,
     "metadata": {},
     "source": [
      "Combining all features"
     ]
    },
    {
     "cell_type": "code",
     "collapsed": false,
     "input": [
      "allfeatsdf=pd.merge(ndf, like_mat, on='climbid', how='inner')\n",
      "allfeatsdf.index=allfeatsdf['climbid'].values\n",
      "allfeatsdf=allfeatsdf[allfeatsdf['climbid'].isin(sdf.climb.unique())]"
     ],
     "language": "python",
     "metadata": {},
     "outputs": [],
     "prompt_number": 83
    },
    {
     "cell_type": "code",
     "collapsed": false,
     "input": [
      "clf=mo.classifier('rfc')"
     ],
     "language": "python",
     "metadata": {},
     "outputs": [],
     "prompt_number": 84
    },
    {
     "cell_type": "code",
     "collapsed": false,
     "input": [
      "%autoreload\n",
      "name='combined'\n",
      "termfeatures=['%s_description' %(h) for h in allterms]\n",
      "cfeatures=list(like_mat.columns)+termfeatures\n",
      "cfeatures.remove('climbid')\n",
      "sfeatures=[]\n",
      "print \"classifying using %s features\" %(len(cfeatures)+len(sfeatures))\n",
      "summarydf, resultsdf=mo.classify(clf,users, sfeatures, cfeatures, allfeatsdf, usesdf, minratings=10, dropself=True, datadir=projdir)\n",
      "resultsdict[name]=[summarydf, resultsdf]"
     ],
     "language": "python",
     "metadata": {},
     "outputs": [
      {
       "output_type": "stream",
       "stream": "stdout",
       "text": [
        "classifying using 185 features\n"
       ]
      },
      {
       "output_type": "stream",
       "stream": "stderr",
       "text": [
        "antools/modeling.py:276: UnicodeWarning: Unicode equal comparison failed to convert both arguments to Unicode - interpreting them as being unequal\n",
        "  if dropself and u in features:\n"
       ]
      }
     ],
     "prompt_number": 85
    },
    {
     "cell_type": "code",
     "collapsed": false,
     "input": [
      "%autoreload\n",
      "for name in ['combined']:\n",
      "    print \"classifying with %s\" %name\n",
      "    summarydf, resultsdf=resultsdict[name]\n",
      "    viz.plotresults(resultsdf, 'true_rating', 'feat_pred')\n",
      "    acc, precision, recall, f1=mo.round2score(resultsdf, 'true_rating', 'feat_pred')"
     ],
     "language": "python",
     "metadata": {},
     "outputs": [
      {
       "output_type": "stream",
       "stream": "stdout",
       "text": [
        "classifying with combined\n"
       ]
      },
      {
       "metadata": {},
       "output_type": "display_data",
       "png": "[encoded data removed]",
       "text": [
        "<matplotlib.figure.Figure at 0x11707f750>"
       ]
      },
      {
       "output_type": "stream",
       "stream": "stdout",
       "text": [
        "4 way accuracy 0.731\n",
        "4 way f1 0.702\n",
        "4 way precision 0.704\n",
        "4 way recall 0.731\n"
       ]
      }
     ],
     "prompt_number": 105
    },
    {
     "cell_type": "heading",
     "level": 3,
     "metadata": {},
     "source": [
      "Model optimization"
     ]
    },
    {
     "cell_type": "markdown",
     "metadata": {},
     "source": [
      "The analyses above suggest that we want to build a model that incorporates three kinds of information: \n",
      "- climb attributes \n",
      "- overall climb popularity\n",
      "- ratings of individual users (e.g. preferences of similar climbers)\n",
      "\n",
      "A model that naively combines these features does reasonably well, but I can try to improve performance by toggling the following:\n",
      "- algorithm (RFC vs. SVM vs. Logistic Regression)\n",
      "- features (try dimensionality reduction/feature selection methods)\n",
      "- model parameters (e.g. C param if using SVM)"
     ]
    },
    {
     "cell_type": "heading",
     "level": 3,
     "metadata": {},
     "source": [
      "Which algorithm?"
     ]
    },
    {
     "cell_type": "markdown",
     "metadata": {},
     "source": [
      "####Random Forest:\n",
      "    - pros:\n",
      "    - cons:\n",
      "    - parameters to fit:\n",
      "        - n_estimators : The number of trees in the forest.\n",
      "        - criterion : measure of quality of a split... Gini impurity(\u201cgini\u201d) vs information gain (\"entropy\")\n",
      "        - max_features: # of features to use when looking for  best split:\n",
      "            - float --> max_features is a percentage of n_features \n",
      "            - 'auto' --> sqrt(n_features).\n",
      "            - 'log2' --> log2(n_features).\n",
      "            - None --> max_features=n_features."
     ]
    },
    {
     "cell_type": "markdown",
     "metadata": {},
     "source": [
      "####SVM:\n",
      "    - pros:\n",
      "    - cons:\n",
      "    - parameters to fit:"
     ]
    },
    {
     "cell_type": "markdown",
     "metadata": {},
     "source": [
      "####Multinomial Logistic Regression:\n",
      "    - pros:\n",
      "    - cons:\n",
      "    - parameters to fit:"
     ]
    },
    {
     "cell_type": "heading",
     "level": 3,
     "metadata": {},
     "source": [
      "Compare empirically"
     ]
    },
    {
     "cell_type": "code",
     "collapsed": false,
     "input": [
      "#RFC\n",
      "clf=mo.classifier('rfc')\n",
      "name='combined_rfc'\n",
      "print \"classifying using %s features\" %(len(cfeatures)+len(sfeatures))\n",
      "summarydf, resultsdf, importantfeats=mo.classify(clf,users, sfeatures, cfeatures, allfeatsdf, usesdf, minratings=10, dropself=True)\n",
      "resultsdict[name]=[summarydf, resultsdf]"
     ],
     "language": "python",
     "metadata": {},
     "outputs": [
      {
       "output_type": "stream",
       "stream": "stdout",
       "text": [
        "classifying using 185 features\n"
       ]
      }
     ],
     "prompt_number": 96
    },
    {
     "cell_type": "code",
     "collapsed": false,
     "input": [
      "#RFC\n",
      "%autoreload\n",
      "clf=mo.classifier('svm')\n",
      "name='combined_svm'\n",
      "print \"classifying using %s features\" %(len(cfeatures)+len(sfeatures))\n",
      "summarydf, resultsdf, importantfeats=mo.classify(clf,users, sfeatures, cfeatures, allfeatsdf, usesdf, minratings=10, dropself=True)\n",
      "resultsdict[name]=[summarydf, resultsdf]"
     ],
     "language": "python",
     "metadata": {},
     "outputs": [
      {
       "output_type": "stream",
       "stream": "stdout",
       "text": [
        "classifying using 185 features\n"
       ]
      }
     ],
     "prompt_number": 97
    },
    {
     "cell_type": "code",
     "collapsed": false,
     "input": [
      "#multinomial logistic\n",
      "clf=mo.classifier('logistic')\n",
      "name='combined_logistic'\n",
      "print \"classifying using %s features\" %(len(cfeatures)+len(sfeatures))\n",
      "summarydf, resultsdf, importantfeats=mo.classify(clf,users, sfeatures, cfeatures, allfeatsdf, usesdf, minratings=10, dropself=True)\n",
      "resultsdict[name]=[summarydf, resultsdf]"
     ],
     "language": "python",
     "metadata": {},
     "outputs": [
      {
       "output_type": "stream",
       "stream": "stdout",
       "text": [
        "classifying using 185 features\n"
       ]
      }
     ],
     "prompt_number": 100
    },
    {
     "cell_type": "code",
     "collapsed": false,
     "input": [
      "for name in ['combined_rfc','combined_svm','combined_logistic']:\n",
      "    print \"classifying with %s\" %name\n",
      "    summarydf, resultsdf=resultsdict[name]\n",
      "    viz.plotresults(resultsdf, 'true_rating', 'feat_pred')\n",
      "    acc, precision, recall, f1=mo.round2score(resultsdf, 'true_rating', 'feat_pred')"
     ],
     "language": "python",
     "metadata": {},
     "outputs": [
      {
       "output_type": "stream",
       "stream": "stdout",
       "text": [
        "classifying with combined_rfc\n"
       ]
      },
      {
       "metadata": {},
       "output_type": "display_data",
       "png": "[encoded data removed]",
       "text": [
        "<matplotlib.figure.Figure at 0x111d12b10>"
       ]
      },
      {
       "output_type": "stream",
       "stream": "stdout",
       "text": [
        "4 way accuracy 0.747\n",
        "4 way f1 0.723\n",
        "4 way precision 0.727\n",
        "4 way recall 0.747\n",
        "classifying with combined_svm\n"
       ]
      },
      {
       "metadata": {},
       "output_type": "display_data",
       "png": "[encoded data removed]",
       "text": [
        "<matplotlib.figure.Figure at 0x11707fc10>"
       ]
      },
      {
       "output_type": "stream",
       "stream": "stdout",
       "text": [
        "4 way accuracy 0.681\n",
        "4 way f1 0.661\n",
        "4 way precision 0.652\n",
        "4 way recall 0.681\n",
        "classifying with combined_logistic\n"
       ]
      },
      {
       "metadata": {},
       "output_type": "display_data",
       "png": "[encoded data removed]",
       "text": [
        "<matplotlib.figure.Figure at 0x11705eb90>"
       ]
      },
      {
       "output_type": "stream",
       "stream": "stdout",
       "text": [
        "4 way accuracy 0.670\n",
        "4 way f1 0.658\n",
        "4 way precision 0.652\n",
        "4 way recall 0.670\n"
       ]
      }
     ],
     "prompt_number": 101
    },
    {
     "cell_type": "markdown",
     "metadata": {},
     "source": [
      "Random Forests slightly outperforms SVM and logisic (on these data and with these fairly arbitrary parameters). Combining the advantages of RFC describe above, and it's apparently strong performance here, I'll focus subsequent analyses on random forests"
     ]
    },
    {
     "cell_type": "heading",
     "level": 3,
     "metadata": {},
     "source": [
      "Optimize parameters of chosen model"
     ]
    },
    {
     "cell_type": "code",
     "collapsed": false,
     "input": [
      "poss_n=range(100,2000,100)\n",
      "results=[]\n",
      "for n in poss_n:\n",
      "    clf=mo.classifier('rfc')\n",
      "    clf.n_estimators=n\n",
      "    name='combined_rfc_n_est_%s' %(n)\n",
      "    print \"classifying using %s features\" %(len(cfeatures)+len(sfeatures))\n",
      "    summarydf, resultsdf, importantfeats=mo.classify(clf,users, sfeatures, cfeatures, allfeatsdf, usesdf, minratings=10, dropself=True)\n",
      "    resultsdict[name]=[summarydf, resultsdf]\n",
      "    results.append(summarydf['score'].mean())"
     ],
     "language": "python",
     "metadata": {},
     "outputs": []
    },
    {
     "cell_type": "heading",
     "level": 3,
     "metadata": {},
     "source": [
      "Feature selection"
     ]
    },
    {
     "cell_type": "code",
     "collapsed": false,
     "input": [],
     "language": "python",
     "metadata": {},
     "outputs": []
    },
    {
     "cell_type": "heading",
     "level": 3,
     "metadata": {},
     "source": [
      "Feature reduction"
     ]
    },
    {
     "cell_type": "markdown",
     "metadata": {},
     "source": [
      "To be able to quickly incorporate new users who don't have a full climbing history, I want to identify a relatively simple, intuitive feature vector that can be used to provide predictions for a new user based on a few indicated preferences. So, I want to reduce this space of features. Many approaches to dimensionality reduction (i.e. PCA) reduce features into components that are linear combinations of the initial input space. However, the most intuitive inputs for the user are simple words like those contained in the set of a priori features."
     ]
    },
    {
     "cell_type": "heading",
     "level": 3,
     "metadata": {},
     "source": [
      "Forward stepwise iterative regression"
     ]
    },
    {
     "cell_type": "code",
     "collapsed": false,
     "input": [],
     "language": "python",
     "metadata": {},
     "outputs": []
    },
    {
     "cell_type": "code",
     "collapsed": false,
     "input": [],
     "language": "python",
     "metadata": {},
     "outputs": []
    },
    {
     "cell_type": "code",
     "collapsed": false,
     "input": [],
     "language": "python",
     "metadata": {},
     "outputs": []
    },
    {
     "cell_type": "code",
     "collapsed": false,
     "input": [],
     "language": "python",
     "metadata": {},
     "outputs": []
    },
    {
     "cell_type": "code",
     "collapsed": false,
     "input": [],
     "language": "python",
     "metadata": {},
     "outputs": []
    },
    {
     "cell_type": "code",
     "collapsed": false,
     "input": [],
     "language": "python",
     "metadata": {},
     "outputs": []
    },
    {
     "cell_type": "code",
     "collapsed": false,
     "input": [],
     "language": "python",
     "metadata": {},
     "outputs": []
    },
    {
     "cell_type": "heading",
     "level": 3,
     "metadata": {},
     "source": [
      "Put aside final test data"
     ]
    },
    {
     "cell_type": "code",
     "collapsed": false,
     "input": [
      "#take testp% of climbs and put aside all entries relating to that climb as test data\n",
      "testp=0.05\n",
      "\n",
      "testids=np.random.choice(cdf.index.values,int(len(cdf)*testp))\n",
      "util.pickletheseobjects(os.path.join(rootdir,'projects','cragcrunch', 'data', 'testids.pkl'),[testids])\n",
      "testclimbdf,climbdf=cdf.loc[testids,:].copy(), cdf.drop(testids)\n",
      "testtdf,tdf=mo.splittraintest(tdf, testids)\n",
      "testcodf,codf=mo.splittraintest(codf, testids)\n",
      "testgdf,gdf=mo.splittraintest(gdf, testids)\n",
      "testsdf,sdf=mo.splittraintest(sdf, testids)\n",
      "testhdf,hdf=mo.splittraintest(hdf, testids)\n",
      "print \"putting aside %s of %s climbs for a final validation test\" %(len(testids), len(popclimbdf))"
     ],
     "language": "python",
     "metadata": {},
     "outputs": [
      {
       "output_type": "stream",
       "stream": "stdout",
       "text": [
        "putting aside 415 of 7082 climbs for a final validation test\n"
       ]
      }
     ],
     "prompt_number": 44
    },
    {
     "cell_type": "code",
     "collapsed": false,
     "input": [
      "%autoreload\n",
      "allpdf=az.individualpred(hitsdf, climberdf,stardf, gradedf,parallel=False,needsprep=False)\n",
      "allpdf=allpdf[allpdf['source']!=allpdf['targetclimber']]"
     ],
     "language": "python",
     "metadata": {},
     "outputs": [
      {
       "ename": "NameError",
       "evalue": "name 'az' is not defined",
       "output_type": "pyerr",
       "traceback": [
        "\u001b[0;31m---------------------------------------------------------------------------\u001b[0m\n\u001b[0;31mNameError\u001b[0m                                 Traceback (most recent call last)",
        "\u001b[0;32m<ipython-input-45-96f48e806a8a>\u001b[0m in \u001b[0;36m<module>\u001b[0;34m()\u001b[0m\n\u001b[1;32m      1\u001b[0m \u001b[0mget_ipython\u001b[0m\u001b[0;34m(\u001b[0m\u001b[0;34m)\u001b[0m\u001b[0;34m.\u001b[0m\u001b[0mmagic\u001b[0m\u001b[0;34m(\u001b[0m\u001b[0;34mu'autoreload'\u001b[0m\u001b[0;34m)\u001b[0m\u001b[0;34m\u001b[0m\u001b[0m\n\u001b[0;32m----> 2\u001b[0;31m \u001b[0mallpdf\u001b[0m\u001b[0;34m=\u001b[0m\u001b[0maz\u001b[0m\u001b[0;34m.\u001b[0m\u001b[0mindividualpred\u001b[0m\u001b[0;34m(\u001b[0m\u001b[0mhitsdf\u001b[0m\u001b[0;34m,\u001b[0m \u001b[0mclimberdf\u001b[0m\u001b[0;34m,\u001b[0m\u001b[0mstardf\u001b[0m\u001b[0;34m,\u001b[0m \u001b[0mgradedf\u001b[0m\u001b[0;34m,\u001b[0m\u001b[0mparallel\u001b[0m\u001b[0;34m=\u001b[0m\u001b[0mFalse\u001b[0m\u001b[0;34m,\u001b[0m\u001b[0mneedsprep\u001b[0m\u001b[0;34m=\u001b[0m\u001b[0mFalse\u001b[0m\u001b[0;34m)\u001b[0m\u001b[0;34m\u001b[0m\u001b[0m\n\u001b[0m\u001b[1;32m      3\u001b[0m \u001b[0mallpdf\u001b[0m\u001b[0;34m=\u001b[0m\u001b[0mallpdf\u001b[0m\u001b[0;34m[\u001b[0m\u001b[0mallpdf\u001b[0m\u001b[0;34m[\u001b[0m\u001b[0;34m'source'\u001b[0m\u001b[0;34m]\u001b[0m\u001b[0;34m!=\u001b[0m\u001b[0mallpdf\u001b[0m\u001b[0;34m[\u001b[0m\u001b[0;34m'targetclimber'\u001b[0m\u001b[0;34m]\u001b[0m\u001b[0;34m]\u001b[0m\u001b[0;34m\u001b[0m\u001b[0m\n",
        "\u001b[0;31mNameError\u001b[0m: name 'az' is not defined"
       ]
      }
     ],
     "prompt_number": 45
    },
    {
     "cell_type": "code",
     "collapsed": false,
     "input": [
      "possims=np.arange(-1,1,.25)\n",
      "poscounts=np.arange(0,50,5)\n",
      "compdf=az.makecompdf(possims,poscounts,allpdf)\n",
      "f,ax=plt.subplots(1,2, figsize=[14,6], sharey=True)\n",
      "sns.pointplot(x='simthresh', y='coverage', hue='countthresh',data=compdf, ax=ax[0])\n",
      "sns.pointplot(x='countthresh', y='coverage', hue='simthresh', data=compdf, ax=ax[1])\n",
      "sns.despine()"
     ],
     "language": "python",
     "metadata": {},
     "outputs": [],
     "prompt_number": 16
    },
    {
     "cell_type": "code",
     "collapsed": false,
     "input": [
      "sns.factorplot(x='simthresh', y='variance explained', hue='countthresh', data=compdf)"
     ],
     "language": "python",
     "metadata": {},
     "outputs": [],
     "prompt_number": 16
    },
    {
     "cell_type": "code",
     "collapsed": false,
     "input": [
      "#test accuracy of rating predictions bsaed on ratings of similar climbers\n",
      "mincount=0\n",
      "minsim=-.5\n",
      "usepdf=allpdf[allpdf['true']!=0]\n",
      "matchdf=az.assessindpreds(usepdf, minsim, mincount, operator='>')"
     ],
     "language": "python",
     "metadata": {},
     "outputs": []
    },
    {
     "cell_type": "code",
     "collapsed": false,
     "input": [
      "#test accuracy of rating predictions bsaed on ratings of all climbers\n",
      "allmatchdf=az.assessindpreds(usepdf, minsim, mincount, operator='all')"
     ],
     "language": "python",
     "metadata": {},
     "outputs": [],
     "prompt_number": 17
    },
    {
     "cell_type": "code",
     "collapsed": false,
     "input": [
      "#test accuracy of rating predictions bsaed on ratings of dissimilar climbers\n",
      "mismatchdf=az.assessindpreds(usepdf, minsim, mincount, operator='<')"
     ],
     "language": "python",
     "metadata": {},
     "outputs": [],
     "prompt_number": 17
    },
    {
     "cell_type": "code",
     "collapsed": false,
     "input": [
      "compare=pd.concat([matchdf, mismatchdf, allmatchdf])\n",
      "acc=compare['true']==compare['intpreds']\n",
      "compare['correct']=acc.astype(int)\n",
      "f,ax=plt.subplots(1,2,figsize=[10,4], sharex=True)\n",
      "compare.groupby('simtype').mean()['correct'].plot(kind='bar', ax=ax[0], grid=False, color=['g','b','orange'])\n",
      "ax[0].set_ylabel('accuracy')\n",
      "sns.barplot(x='simtype', y='discrep', data=compare, ci=68, ax=ax[1], color=['g','b','orange'])\n",
      "plt.ylabel('average prediction error')\n",
      "plt.xlabel('prediction basis')\n",
      "sns.despine()"
     ],
     "language": "python",
     "metadata": {},
     "outputs": [],
     "prompt_number": 17
    },
    {
     "cell_type": "code",
     "collapsed": false,
     "input": [],
     "language": "python",
     "metadata": {},
     "outputs": [],
     "prompt_number": 17
    },
    {
     "cell_type": "code",
     "collapsed": false,
     "input": [],
     "language": "python",
     "metadata": {},
     "outputs": [],
     "prompt_number": 17
    },
    {
     "cell_type": "code",
     "collapsed": false,
     "input": [
      "def predictbasedonsimilarclimbers(climberdf, stardf,gradedf, climberid, testclimberdf=[], teststardf=[], testgradedf=[],similarity='pref', parallel=False):\n",
      "    if similarity=='pref':\n",
      "        reldf=stardf\n",
      "        testreldf=teststardf\n",
      "        col='starsscore'\n",
      "    elif similarity=='skill':\n",
      "        reldf=gradedf\n",
      "        testreldf=testgradedf\n",
      "        col='grade'\n",
      "    if len(testclimberdf)==0:\n",
      "        availclimbs=reldf[reldf['climber']==climberid]['climb'].values\n",
      "        availratings=reldf[reldf['climber']==climberid][col].values\n",
      "        from sklearn.cross_validation import train_test_split\n",
      "        availclimbs_train, availclimbs_test, availratings_train, availratings_test = train_test_split(availclimbs, availratings, test_size=0.33, random_state=42)\n",
      "    else:\n",
      "        availclimbs_train=reldf[reldf['climber']==climberid]['climb'].values\n",
      "        availratings_train=reldf[reldf['climber']==climberid][col].values\n",
      "        availclimbs_test=testreldf[testreldf['climber']==climberid]['climb'].values\n",
      "        availratings_test=testreldf[testreldf['climber']==climberid][col].values\n",
      "    print len(availclimbs_test)\n",
      "    if len(availclimbs_test)>20:\n",
      "        availclimbs_test=availclimbs_test[:20]\n",
      "        availratings_test=availratings_test[:20]\n",
      "    otherclimbers=reldf[reldf['climb'].isin(availclimbs_train)]['climber'].values\n",
      "    print len(otherclimbers)\n",
      "    otherratings, sims, climbids, climbersources, climbids, trues, counts, test, targetclimber=[],[],[],[],[],[],[],[],[]\n",
      "    for oid in otherclimbers:\n",
      "        r,climbcounts=computeclimbersimilarity(climberid,oid, reldf, col, trainclimbs=availclimbs_train,similarity=similarity)\n",
      "        for climbn,climb in enumerate(availclimbs_test):\n",
      "            rating=reldf[(reldf['climber']==oid) & (reldf['climb']==climb)][col].values\n",
      "            if len(rating)>0:\n",
      "                otherratings.append(rating[0])\n",
      "                targetclimber.append(climberid)\n",
      "                sims.append(r);climbids.append(climb);climbersources.append(oid);trues.append(availratings_test[climbn]);counts.append(climbcounts);test.append(True)\n",
      "    pdf=pd.DataFrame(data={'targetclimber':targetclimber, 'climbid':climbids, 'otherrating':otherratings, 'similarity':sims,'number':counts, 'source':climbersources, 'true':trues, 'test':test})\n",
      "    return pdf\n",
      "\n",
      "def computeclimbersimilarity(c1,c2, reldf,col, trainclimbs=None, relative=True, similarity='pref'):\n",
      "    r1=reldf.loc[reldf['climber']==c1]\n",
      "    r2=reldf.loc[reldf['climber']==c2]\n",
      "    if similarity=='pref':\n",
      "        common=pd.merge(r1[[col,'relative_star','climb','climber']], r2[['starsscore','relative_star','climb','climber']], on='climb')\n",
      "        common=common[common['climb'].isin(trainclimbs)]       \n",
      "        if relative:\n",
      "            a,b='relative_star_x', 'relative_star_y'\n",
      "        else:\n",
      "            a,b='starsscore_x', 'starsscore_y'\n",
      "    elif similarity=='skill':\n",
      "       common=pd.merge(r1[[col,'rankdiff','climb','climber']], r2[['grade','rankdiff','climb','climber']], on='climb')\n",
      "       a,b='rankdiff_x','rankdiff_y'\n",
      "    if len(common)>1:\n",
      "        r,p=scipy.stats.pearsonr(common[a].values,common[b].values)\n",
      "        num=len(common[a].values)\n",
      "    elif len(common)==1:\n",
      "            if common[a].values==common[b].values:\n",
      "                r,num=1,1\n",
      "            elif np.abs(common[a].values-common[b].values)<2:\n",
      "                r,num=0,1\n",
      "            else:\n",
      "                r,num=-1,1\n",
      "    else:\n",
      "        r=np.nan\n",
      "        num=0\n",
      "    return r,num\n",
      "\n",
      "'''\n",
      "def predictpref(reldf, climb, climber, r, count, col):\n",
      "    rating=reldf[reldf['climber']==climber][col].values[0]\n",
      "    if r>0:\n",
      "        pred=rating\n",
      "    elif r<0:\n",
      "        pred=5-rating\n",
      "    else:\n",
      "        pred=np.nan\n",
      "    return pred, r, count\n",
      "def normalizetoindividual(indstars):\n",
      "    indstars['zscored_star_relative']=(indstars['relative_star'].values-indstars['relative_star'].mean())/indstars['relative_star'].std()\n",
      "    indstars['zscored_star']=(indstars['starsscore'].values-indstars['starsscore'].mean())/indstars['starsscore'].std()\n",
      "    return indstars\n",
      "'''\n"
     ],
     "language": "python",
     "metadata": {},
     "outputs": [],
     "prompt_number": 17
    },
    {
     "cell_type": "code",
     "collapsed": false,
     "input": [
      "def individualpred(hitsdf, climberdf,stardf, gradedf,parallel=False,needsprep=False, mode='train', countthresh=20): \n",
      "    if needsprep:\n",
      "        #sample of individual climbers\n",
      "        counts=hitsdf.groupby('climber').count()[['climb']]\n",
      "        possclimbers=counts[counts['climb']>countthresh].index #let's focus on predicting ratings for climbers who have climbed a large number of climbs\n",
      "        possclimbers=[c for c in possclimbers if c in climberdf.climberid.values]\n",
      "        print len(possclimbers)\n",
      "            pdfs=Parallel(n_jobs=3)(delayed(az.predictbasedonsimilarclimbers)(climberdf, stardf,gradedf, climber, similarity='pref') for climber in possclimbers)\n",
      "        else:\n",
      "            pdfs=[]\n",
      "            for climber in possclimbers:\n",
      "                print \"working on climber %s\" %climber\n",
      "                pdfs.append(predictbasedonsimilarclimbers(climberdf, stardf,gradedf, climber, similarity='pref'))\n",
      "    \n",
      "        allpdf=pd.concat(pdfs)\n",
      "        if mode=='test':\n",
      "            util.pickletheseobjects(os.path.join(rootdir, 'data', 'allpdftest.pkl'),[allpdf])\n",
      "        else:\n",
      "            util.pickletheseobjects(os.path.join(rootdir, 'data', 'allpdf.pkl'),[allpdf])\n",
      "    else:\n",
      "        if mode=='test':\n",
      "            allpdf=util.loadpickledobjects(os.path.join(rootdir, 'data', 'allpdftest.pkl'))[0]\n",
      "        else:\n",
      "            allpdf=util.loadpickledobjects(os.path.join(rootdir, 'data', 'allpdf.pkl'))[0]\n",
      "    return allpdf\n"
     ],
     "language": "python",
     "metadata": {},
     "outputs": [],
     "prompt_number": 17
    },
    {
     "cell_type": "code",
     "collapsed": false,
     "input": [
      "climberid=15\n",
      "climbs=hdf[hdf['climber']==climberid]['climb'].values\n",
      "print climbs\n"
     ],
     "language": "python",
     "metadata": {},
     "outputs": [
      {
       "output_type": "stream",
       "stream": "stdout",
       "text": [
        "[  1903   1904   1909   1912   1913   1914   1918   2142   2145   2144\n",
        "   2412   8596   6081  14407   8221   1386   4004   3467   5648   4625\n",
        "   2061   2287   4257    533   1845   9542  33948  75387 103236   1582\n",
        "  56917 103974  81024]\n"
       ]
      },
      {
       "html": [
        "<div style=\"max-height:1000px;max-width:1500px;overflow:auto;\">\n",
        "<table border=\"1\" class=\"dataframe\">\n",
        "  <thead>\n",
        "    <tr style=\"text-align: right;\">\n",
        "      <th></th>\n",
        "      <th>starid</th>\n",
        "      <th>starsscore</th>\n",
        "      <th>climb</th>\n",
        "      <th>climblink</th>\n",
        "      <th>climber</th>\n",
        "      <th>url</th>\n",
        "      <th>name</th>\n",
        "      <th>urlname</th>\n",
        "    </tr>\n",
        "    <tr>\n",
        "      <th>index</th>\n",
        "      <th></th>\n",
        "      <th></th>\n",
        "      <th></th>\n",
        "      <th></th>\n",
        "      <th></th>\n",
        "      <th></th>\n",
        "      <th></th>\n",
        "      <th></th>\n",
        "    </tr>\n",
        "  </thead>\n",
        "  <tbody>\n",
        "  </tbody>\n",
        "</table>\n",
        "</div>"
       ],
       "metadata": {},
       "output_type": "pyout",
       "prompt_number": 34,
       "text": [
        "Empty DataFrame\n",
        "Columns: [starid, starsscore, climb, climblink, climber, url, name, urlname]\n",
        "Index: []"
       ]
      }
     ],
     "prompt_number": 34
    },
    {
     "cell_type": "code",
     "collapsed": false,
     "input": [],
     "language": "python",
     "metadata": {},
     "outputs": []
    },
    {
     "cell_type": "code",
     "collapsed": false,
     "input": [
      "routetypes=['Trad', 'Sport', 'Toprope', 'Boulder', 'Ice', 'Miaxed', 'Aid', 'Alpine']\n",
      "holdterms=['crimp','pinch','jug','sloper','ledge','pocket','sidepull','dyno', 'deadpoint','heelhook','toehook','bat-hang', 'undercling', 'crack', 'flake', 'arete','gaston', 'layback','hand crack', 'flaring crack','fingers crack', 'wide crack','thin crack', 'offwidth', 'chimney','diahedral','corner', 'traverse']\n",
      "descriptors=['steep','overhang','slab','technical','thin', 'ramp', 'overhung','sporty','vertical', 'boulder', 'bouldery']\n",
      "easeterms=['easy','hard','stiff','pumpy','beginner','hang','hung','take','difficult', 'committing', 'crux', 'soft','sandbag', 'awkward','creative','comfortable']\n",
      "safetyterms=['runout','spicy','exciting','nervous','sketchy','no pro', 'deck', 'eats gear', 'easy to protect','fall','rusty','clipping','swing', 'tenuous', 'minimal pro', 'mental']\n",
      "rockterms=['granite', 'limestone', 'schist', 'patina','sandstone', 'conglomerate', 'quartzite', 'gneiss', 'basalt']\n"
     ],
     "language": "python",
     "metadata": {},
     "outputs": [],
     "prompt_number": 93
    },
    {
     "cell_type": "code",
     "collapsed": false,
     "input": [
      "terms=holdterms+descriptors+easeterms+safetyterms+rockterms"
     ],
     "language": "python",
     "metadata": {},
     "outputs": [],
     "prompt_number": 94
    },
    {
     "cell_type": "code",
     "collapsed": false,
     "input": [
      "def getuserstars(sdf, cdf, climberid):\n",
      "    sdf=sdf[sdf['climber']==climberid]\n",
      "    sdf=pd.merge(sdf, cdf, left_on='climb', right_on=['climbid'], how='left')\n",
      "    return sdf[['climber','starsscore', 'climb','grade','style','avgstars']]\n",
      "usdf2=plotuserstars(sdf, cdf, climberid)"
     ],
     "language": "python",
     "metadata": {},
     "outputs": [],
     "prompt_number": 118
    },
    {
     "cell_type": "code",
     "collapsed": false,
     "input": [
      "def getuserstarsbywords(sdf, cdf, climberid, terms):\n",
      "    sdf=sdf[sdf['climber']==climberid]\n",
      "    sdf=pd.merge(sdf, cdf, left_on='climb', right_on=['climbid'], how='left')\n",
      "    dcols=[c+'_description' for c in terms]\n",
      "    dlen=np.array([len(x) if isinstance(x,str) else 0 for x in sdf.description.values])\n",
      "    ccols=[c+'_commentsmerged' for c in terms]\n",
      "    clen=np.array([len(x) if isinstance(x,str) else 0 for x in sdf.commentsmerged.values])\n",
      "    dvals=(sdf[dcols].values.T/dlen).T\n",
      "    cvals=(sdf[ccols].values.T/clen).T\n",
      "    mvals=np.nanmean([cvals,dvals], axis=0)\n",
      "    ndf=pd.DataFrame(index=sdf['climb'], data=mvals, columns=terms)\n",
      "    ndf['starsscore']=sdf['starsscore'].values\n",
      "    return ndf[['starsscore']+terms]\n",
      "def standarderrorcorr(r,n):\n",
      "    return (1-r**2)/np.sqrt(n-1)\n",
      "def getuserpredictors(usdf,t,minn=6):\n",
      "    predictions=usdf.corr().loc['starsscore'][1:].dropna()\n",
      "    corrs=predictions.values\n",
      "    labels=predictions.index.values\n",
      "    sems=[standarderrorcorr(r, len(usdf)) for r in corrs]\n",
      "    if len(labels)>4:\n",
      "        f,ax=plt.subplots(figsize=[4,3])\n",
      "        ax.bar(range(len(corrs)), corrs, yerr=sems)\n",
      "        ax.set_xlim([0,len(corrs)])\n",
      "        ax.set_xticks(np.arange(len(corrs))+.5)\n",
      "        ax.set_xticklabels(labels, rotation=90)\n",
      "        ax.set_ylabel('preference score')\n",
      "        ax.set_xlabel(t)\n",
      "        sns.despine()\n",
      "        plt.tight_layout()\n",
      "    else:\n",
      "        f,ax=[],[]\n",
      "    return f,ax, corrs, labels, sems\n"
     ],
     "language": "python",
     "metadata": {},
     "outputs": [],
     "prompt_number": 336
    },
    {
     "cell_type": "code",
     "collapsed": false,
     "input": [
      "termtypes={'rock type':rockterms, 'ease factors':easeterms, 'hold types':holdterms,'safety factors': safetyterms, 'face descriptions':descriptors}\n",
      "for t in termtypes.keys():\n",
      "    usdf=getuserstarsbywords(sdf, cdf, climberid, termtypes[t])\n",
      "    f,ax, corrs, labels, sems=getuserpredictors(usdf,t, minn=6)"
     ],
     "language": "python",
     "metadata": {},
     "outputs": [
      {
       "metadata": {},
       "output_type": "display_data",
       "png": "[encoded data removed]",
       "text": [
        "<matplotlib.figure.Figure at 0x119c7e9d0>"
       ]
      },
      {
       "metadata": {},
       "output_type": "display_data",
       "png": "[encoded data removed]",
       "text": [
        "<matplotlib.figure.Figure at 0x11d8c4550>"
       ]
      },
      {
       "metadata": {},
       "output_type": "display_data",
       "png": "[encoded data removed]",
       "text": [
        "<matplotlib.figure.Figure at 0x11c35cb50>"
       ]
      },
      {
       "metadata": {},
       "output_type": "display_data",
       "png": "[encoded data removed]",
       "text": [
        "<matplotlib.figure.Figure at 0x11e53af90>"
       ]
      }
     ],
     "prompt_number": 349
    },
    {
     "cell_type": "code",
     "collapsed": false,
     "input": [
      "testclimbdf.head()"
     ],
     "language": "python",
     "metadata": {},
     "outputs": [
      {
       "html": [
        "<div style=\"max-height:1000px;max-width:1500px;overflow:auto;\">\n",
        "<table border=\"1\" class=\"dataframe\">\n",
        "  <thead>\n",
        "    <tr style=\"text-align: right;\">\n",
        "      <th></th>\n",
        "      <th>name</th>\n",
        "      <th>climbid</th>\n",
        "      <th>area</th>\n",
        "      <th>description</th>\n",
        "      <th>grade</th>\n",
        "      <th>fa</th>\n",
        "      <th>protection</th>\n",
        "      <th>locationdescrip</th>\n",
        "      <th>pitch</th>\n",
        "      <th>style</th>\n",
        "      <th>...</th>\n",
        "      <th>fall_commentsmerged</th>\n",
        "      <th>rusty_commentsmerged</th>\n",
        "      <th>clipping_commentsmerged</th>\n",
        "      <th>swing_commentsmerged</th>\n",
        "      <th>tenuous_commentsmerged</th>\n",
        "      <th>minimal pro_commentsmerged</th>\n",
        "      <th>mental_commentsmerged</th>\n",
        "      <th>extracted_avgstars</th>\n",
        "      <th>computed_avgstars</th>\n",
        "      <th>roundedstars</th>\n",
        "    </tr>\n",
        "    <tr>\n",
        "      <th>index</th>\n",
        "      <th></th>\n",
        "      <th></th>\n",
        "      <th></th>\n",
        "      <th></th>\n",
        "      <th></th>\n",
        "      <th></th>\n",
        "      <th></th>\n",
        "      <th></th>\n",
        "      <th></th>\n",
        "      <th></th>\n",
        "      <th></th>\n",
        "      <th></th>\n",
        "      <th></th>\n",
        "      <th></th>\n",
        "      <th></th>\n",
        "      <th></th>\n",
        "      <th></th>\n",
        "      <th></th>\n",
        "      <th></th>\n",
        "      <th></th>\n",
        "      <th></th>\n",
        "    </tr>\n",
        "  </thead>\n",
        "  <tbody>\n",
        "    <tr>\n",
        "      <th>2371 </th>\n",
        "      <td>       NaN</td>\n",
        "      <td>   NaN</td>\n",
        "      <td>  NaN</td>\n",
        "      <td>                                               NaN</td>\n",
        "      <td>  NaN</td>\n",
        "      <td>     NaN</td>\n",
        "      <td>                                               NaN</td>\n",
        "      <td>                                               NaN</td>\n",
        "      <td>NaN</td>\n",
        "      <td>  NaN</td>\n",
        "      <td>...</td>\n",
        "      <td>NaN</td>\n",
        "      <td>NaN</td>\n",
        "      <td>NaN</td>\n",
        "      <td>NaN</td>\n",
        "      <td>NaN</td>\n",
        "      <td>NaN</td>\n",
        "      <td>NaN</td>\n",
        "      <td> NaN</td>\n",
        "      <td>     NaN</td>\n",
        "      <td>NaN</td>\n",
        "    </tr>\n",
        "    <tr>\n",
        "      <th>35009</th>\n",
        "      <td>   Bandito</td>\n",
        "      <td> 35009</td>\n",
        "      <td> 9083</td>\n",
        "      <td> Climb the crack just right of AC Devil Dog.  I...</td>\n",
        "      <td>  5.8</td>\n",
        "      <td> unknown</td>\n",
        "      <td> Gear from small to four inches, very easy to p...</td>\n",
        "      <td>                                               nan</td>\n",
        "      <td>  1</td>\n",
        "      <td> Trad</td>\n",
        "      <td>...</td>\n",
        "      <td>  0</td>\n",
        "      <td>  0</td>\n",
        "      <td>  0</td>\n",
        "      <td>  0</td>\n",
        "      <td>  0</td>\n",
        "      <td>  0</td>\n",
        "      <td>  0</td>\n",
        "      <td> 2.6</td>\n",
        "      <td> 2.42857</td>\n",
        "      <td>  3</td>\n",
        "    </tr>\n",
        "    <tr>\n",
        "      <th>72748</th>\n",
        "      <td>       NaN</td>\n",
        "      <td>   NaN</td>\n",
        "      <td>  NaN</td>\n",
        "      <td>                                               NaN</td>\n",
        "      <td>  NaN</td>\n",
        "      <td>     NaN</td>\n",
        "      <td>                                               NaN</td>\n",
        "      <td>                                               NaN</td>\n",
        "      <td>NaN</td>\n",
        "      <td>  NaN</td>\n",
        "      <td>...</td>\n",
        "      <td>NaN</td>\n",
        "      <td>NaN</td>\n",
        "      <td>NaN</td>\n",
        "      <td>NaN</td>\n",
        "      <td>NaN</td>\n",
        "      <td>NaN</td>\n",
        "      <td>NaN</td>\n",
        "      <td> NaN</td>\n",
        "      <td>     NaN</td>\n",
        "      <td>NaN</td>\n",
        "    </tr>\n",
        "    <tr>\n",
        "      <th>10138</th>\n",
        "      <td>       NaN</td>\n",
        "      <td>   NaN</td>\n",
        "      <td>  NaN</td>\n",
        "      <td>                                               NaN</td>\n",
        "      <td>  NaN</td>\n",
        "      <td>     NaN</td>\n",
        "      <td>                                               NaN</td>\n",
        "      <td>                                               NaN</td>\n",
        "      <td>NaN</td>\n",
        "      <td>  NaN</td>\n",
        "      <td>...</td>\n",
        "      <td>NaN</td>\n",
        "      <td>NaN</td>\n",
        "      <td>NaN</td>\n",
        "      <td>NaN</td>\n",
        "      <td>NaN</td>\n",
        "      <td>NaN</td>\n",
        "      <td>NaN</td>\n",
        "      <td> NaN</td>\n",
        "      <td>     NaN</td>\n",
        "      <td>NaN</td>\n",
        "    </tr>\n",
        "    <tr>\n",
        "      <th>9527 </th>\n",
        "      <td> Crack   5</td>\n",
        "      <td>  9527</td>\n",
        "      <td> 6685</td>\n",
        "      <td> Great, splitter route!  Rated 5.9+ in the Voge...</td>\n",
        "      <td> 5.9+</td>\n",
        "      <td>     nan</td>\n",
        "      <td> Lots and lots of hand to wide-hand size gear. ...</td>\n",
        "      <td> This splitter crack is located in Isles Corrid...</td>\n",
        "      <td>  1</td>\n",
        "      <td> Trad</td>\n",
        "      <td>...</td>\n",
        "      <td>  0</td>\n",
        "      <td>  0</td>\n",
        "      <td>  0</td>\n",
        "      <td>  0</td>\n",
        "      <td>  0</td>\n",
        "      <td>  0</td>\n",
        "      <td>  0</td>\n",
        "      <td> 2.8</td>\n",
        "      <td> 2.89474</td>\n",
        "      <td>  3</td>\n",
        "    </tr>\n",
        "  </tbody>\n",
        "</table>\n",
        "<p>5 rows \u00d7 186 columns</p>\n",
        "</div>"
       ],
       "metadata": {},
       "output_type": "pyout",
       "prompt_number": 441,
       "text": [
        "            name  climbid  area  \\\n",
        "index                             \n",
        "2371         NaN      NaN   NaN   \n",
        "35009    Bandito    35009  9083   \n",
        "72748        NaN      NaN   NaN   \n",
        "10138        NaN      NaN   NaN   \n",
        "9527   Crack   5     9527  6685   \n",
        "\n",
        "                                             description grade       fa  \\\n",
        "index                                                                     \n",
        "2371                                                 NaN   NaN      NaN   \n",
        "35009  Climb the crack just right of AC Devil Dog.  I...   5.8  unknown   \n",
        "72748                                                NaN   NaN      NaN   \n",
        "10138                                                NaN   NaN      NaN   \n",
        "9527   Great, splitter route!  Rated 5.9+ in the Voge...  5.9+      nan   \n",
        "\n",
        "                                              protection  \\\n",
        "index                                                      \n",
        "2371                                                 NaN   \n",
        "35009  Gear from small to four inches, very easy to p...   \n",
        "72748                                                NaN   \n",
        "10138                                                NaN   \n",
        "9527   Lots and lots of hand to wide-hand size gear. ...   \n",
        "\n",
        "                                         locationdescrip  pitch style  \\\n",
        "index                                                                   \n",
        "2371                                                 NaN    NaN   NaN   \n",
        "35009                                                nan      1  Trad   \n",
        "72748                                                NaN    NaN   NaN   \n",
        "10138                                                NaN    NaN   NaN   \n",
        "9527   This splitter crack is located in Isles Corrid...      1  Trad   \n",
        "\n",
        "          ...      fall_commentsmerged  rusty_commentsmerged  \\\n",
        "index     ...                                                  \n",
        "2371      ...                      NaN                   NaN   \n",
        "35009     ...                        0                     0   \n",
        "72748     ...                      NaN                   NaN   \n",
        "10138     ...                      NaN                   NaN   \n",
        "9527      ...                        0                     0   \n",
        "\n",
        "       clipping_commentsmerged  swing_commentsmerged tenuous_commentsmerged  \\\n",
        "index                                                                         \n",
        "2371                       NaN                   NaN                    NaN   \n",
        "35009                        0                     0                      0   \n",
        "72748                      NaN                   NaN                    NaN   \n",
        "10138                      NaN                   NaN                    NaN   \n",
        "9527                         0                     0                      0   \n",
        "\n",
        "      minimal pro_commentsmerged  mental_commentsmerged extracted_avgstars  \\\n",
        "index                                                                        \n",
        "2371                         NaN                    NaN                NaN   \n",
        "35009                          0                      0                2.6   \n",
        "72748                        NaN                    NaN                NaN   \n",
        "10138                        NaN                    NaN                NaN   \n",
        "9527                           0                      0                2.8   \n",
        "\n",
        "       computed_avgstars roundedstars  \n",
        "index                                  \n",
        "2371                 NaN          NaN  \n",
        "35009            2.42857            3  \n",
        "72748                NaN          NaN  \n",
        "10138                NaN          NaN  \n",
        "9527             2.89474            3  \n",
        "\n",
        "[5 rows x 186 columns]"
       ]
      }
     ],
     "prompt_number": 441
    }
   ],
   "metadata": {}
  }
 ]
}