{
 "metadata": {
  "name": "",
  "signature": "sha256:ca87d4257b5d649e3d92adcd35d0d53bd60bb77c6851620d77087cc7377144f6"
 },
 "nbformat": 3,
 "nbformat_minor": 0,
 "worksheets": [
  {
   "cells": [
    {
     "cell_type": "code",
     "collapsed": false,
     "input": [
      "pylab inline"
     ],
     "language": "python",
     "metadata": {},
     "outputs": [
      {
       "output_type": "stream",
       "stream": "stdout",
       "text": [
        "Populating the interactive namespace from numpy and matplotlib\n"
       ]
      }
     ],
     "prompt_number": 1
    },
    {
     "cell_type": "code",
     "collapsed": false,
     "input": [
      "%load_ext autoreload"
     ],
     "language": "python",
     "metadata": {},
     "outputs": [],
     "prompt_number": 2
    },
    {
     "cell_type": "heading",
     "level": 3,
     "metadata": {},
     "source": [
      "Setup"
     ]
    },
    {
     "cell_type": "code",
     "collapsed": false,
     "input": [
      "import pandas as pd\n",
      "import numpy as np\n",
      "np.random.RandomState(100)\n",
      "from sqlalchemy import create_engine\n",
      "import os\n",
      "import sys\n",
      "import scipy.stats\n",
      "\n",
      "from joblib import Parallel, delayed  \n",
      "import multiprocessing\n",
      "num_cores = multiprocessing.cpu_count()\n",
      "print \"%s cores available for parallel processing\" % num_cores\n",
      "\n",
      "sys.path.append('mpscraper')\n",
      "from mpscraper.cfgdb import cfg\n",
      "sys.path.append('antools')\n",
      "import antools.random as rd\n",
      "import antools.reduction as red\n",
      "import antools.utilities as uf\n",
      "import antools.visualization as viz\n",
      "import antools.modeling as mo\n",
      "\n",
      "import pandas as pd\n",
      "import numpy as np\n",
      "import seaborn as sns\n",
      "sns.set_style('white')\n",
      "import matplotlib.pyplot as plt\n",
      "import scipy.stats\n",
      "\n",
      "from sklearn.metrics.pairwise import pairwise_distances\n",
      "import sklearn.cross_validation\n",
      "from sklearn.ensemble import RandomForestRegressor \n",
      "from sklearn.ensemble import RandomForestClassifier \n",
      "from sklearn.linear_model import LinearRegression\n",
      "from sklearn.svm import SVC\n",
      "from sklearn.linear_model import Ridge\n",
      "from sklearn.metrics import f1_score"
     ],
     "language": "python",
     "metadata": {},
     "outputs": [
      {
       "output_type": "stream",
       "stream": "stdout",
       "text": [
        "4 cores available for parallel processing\n"
       ]
      }
     ],
     "prompt_number": 3
    },
    {
     "cell_type": "code",
     "collapsed": false,
     "input": [
      "import sys, os\n",
      "rootdir=os.getcwd()\n",
      "while 'Projects' in rootdir:\n",
      "    rootdir=os.path.dirname(rootdir)\n",
      "projdir=os.path.join(rootdir, 'Projects','cragcrunch','data')"
     ],
     "language": "python",
     "metadata": {},
     "outputs": [],
     "prompt_number": 4
    },
    {
     "cell_type": "heading",
     "level": 3,
     "metadata": {},
     "source": [
      "Load in preprocessed data"
     ]
    },
    {
     "cell_type": "code",
     "collapsed": false,
     "input": [
      "engine = create_engine('mysql://%s@%s/%s?charset=%s&use_unicode=%s&passwd=%s' %(cfg.user, cfg.host, cfg.dbname, cfg.charset, cfg.use_unicode, cfg.passwd), pool_recycle=3600)\n",
      "cdf = pd.read_sql(\"SELECT * from climb_prepped\", engine, index_col='index')\n",
      "adf = pd.read_sql(\"SELECT * from area_prepped\", engine, index_col='index')\n",
      "climbs=list(cdf.climbid.unique())\n",
      "print \"loading %s climbs\" %(len(climbs))\n",
      "cldf = pd.read_sql(\"SELECT * from climber_prepped\", engine, index_col='index')\n",
      "hdf= pd.read_sql(\"SELECT * from hits_prepped\", engine, index_col='index')\n",
      "sdf= pd.read_sql(\"SELECT * from stars_prepped\", engine, index_col='index')\n",
      "gdf= pd.read_sql(\"SELECT * from grades_prepped\", engine, index_col='index')\n",
      "codf= pd.read_sql(\"SELECT * from comments_prepped\", engine, index_col='index')\n",
      "tdf= pd.read_sql(\"SELECT * from ticks_prepped\", engine, index_col='index')"
     ],
     "language": "python",
     "metadata": {},
     "outputs": [
      {
       "output_type": "stream",
       "stream": "stdout",
       "text": [
        "loading 9600 climbs\n"
       ]
      }
     ],
     "prompt_number": 181
    },
    {
     "cell_type": "code",
     "collapsed": false,
     "input": [
      "like_mat= pd.read_sql(\"SELECT * from like_matrix\", engine, index_col='index')\n",
      "star_mat= pd.read_sql(\"SELECT * from star_matrix\", engine, index_col='index')"
     ],
     "language": "python",
     "metadata": {},
     "outputs": [],
     "prompt_number": 6
    },
    {
     "cell_type": "code",
     "collapsed": false,
     "input": [
      "minratings=5\n",
      "users=sdf[sdf['climb'].isin(climbs)]['climber'].unique().astype(int)\n",
      "users=[u for u in users if u in cldf.climberid.values]\n",
      "print \"starting with %s users\" %len(users)\n",
      "users=[u for u in users if len(sdf[sdf['climber']==u]['climb'].values)>=minratings]\n",
      "usesdf=sdf[sdf['climber'].isin(users)]\n",
      "usesdf['other_rounded']=[np.round(val) for val in usesdf['other_avg']]\n",
      "usesdf=usesdf[(usesdf['starsscore']>0) & (usesdf['other_rounded']>0)]\n",
      "usesdf['climbid']=usesdf['climb']\n",
      "print \"reducing to %s users who have greater than or equal to %s ratings provided\" %(len(users), minratings)"
     ],
     "language": "python",
     "metadata": {},
     "outputs": [
      {
       "output_type": "stream",
       "stream": "stdout",
       "text": [
        "starting with 27 users\n",
        "reducing to 20 users who have greater than or equal to 5 ratings provided"
       ]
      },
      {
       "output_type": "stream",
       "stream": "stdout",
       "text": [
        "\n"
       ]
      },
      {
       "output_type": "stream",
       "stream": "stderr",
       "text": [
        "-c:7: SettingWithCopyWarning: \n",
        "A value is trying to be set on a copy of a slice from a DataFrame.\n",
        "Try using .loc[row_indexer,col_indexer] = value instead\n",
        "\n",
        "See the the caveats in the documentation: http://pandas.pydata.org/pandas-docs/stable/indexing.html#indexing-view-versus-copy\n"
       ]
      }
     ],
     "prompt_number": 7
    },
    {
     "cell_type": "heading",
     "level": 3,
     "metadata": {},
     "source": [
      "Prep text features"
     ]
    },
    {
     "cell_type": "code",
     "collapsed": false,
     "input": [
      "%autoreload\n",
      "allterms, alltermsdict, descripfeats, commentfeats, ndf=uf.gettextfeats(cdf)\n",
      "ndf=ndf[ndf['climbid'].isin(usesdf['climb'].unique())]"
     ],
     "language": "python",
     "metadata": {},
     "outputs": [
      {
       "output_type": "stream",
       "stream": "stdout",
       "text": [
        "False\n"
       ]
      }
     ],
     "prompt_number": 8
    },
    {
     "cell_type": "heading",
     "level": 3,
     "metadata": {},
     "source": [
      "Quick visualization of the data"
     ]
    },
    {
     "cell_type": "code",
     "collapsed": false,
     "input": [
      "#how are stars dstributed()\n",
      "f,ax=plt.subplots(figsize=[4,3])\n",
      "usesdf.groupby('starsscore').count().climb.plot(kind='bar', grid=False,ax=ax)\n",
      "ax.set_ylabel('counts')\n",
      "sns.despine()"
     ],
     "language": "python",
     "metadata": {},
     "outputs": [
      {
       "metadata": {},
       "output_type": "display_data",
       "png": "[encoded data removed]",
       "text": [
        "<matplotlib.figure.Figure at 0x10b523f50>"
       ]
      }
     ],
     "prompt_number": 9
    },
    {
     "cell_type": "code",
     "collapsed": false,
     "input": [
      "#how many climbs per climber?\n",
      "f,ax=plt.subplots(figsize=[4,3])\n",
      "usesdf.groupby('climber').count().climb.hist(bins=20, grid=False,ax=ax)\n",
      "ax.set_ylabel('frequency')\n",
      "sns.despine()"
     ],
     "language": "python",
     "metadata": {},
     "outputs": [
      {
       "metadata": {},
       "output_type": "display_data",
       "png": "[encoded data removed]",
       "text": [
        "<matplotlib.figure.Figure at 0x10ba874d0>"
       ]
      }
     ],
     "prompt_number": 10
    },
    {
     "cell_type": "code",
     "collapsed": false,
     "input": [
      "#how many climbers per climb?\n",
      "f,ax=plt.subplots(figsize=[4,3])\n",
      "usesdf.groupby('climb').count().climber.hist(bins=20, grid=False,ax=ax)\n",
      "ax.set_ylabel('frequency')\n",
      "sns.despine()"
     ],
     "language": "python",
     "metadata": {},
     "outputs": [
      {
       "metadata": {},
       "output_type": "display_data",
       "png": "[encoded data removed]",
       "text": [
        "<matplotlib.figure.Figure at 0x10b523f90>"
       ]
      }
     ],
     "prompt_number": 11
    },
    {
     "cell_type": "heading",
     "level": 2,
     "metadata": {},
     "source": [
      "Model Comparison"
     ]
    },
    {
     "cell_type": "markdown",
     "metadata": {},
     "source": [
      "I'll start with some really naive models that can serve as baselines I want to beat"
     ]
    },
    {
     "cell_type": "heading",
     "level": 3,
     "metadata": {},
     "source": [
      "Absolute dumbest model guesses randomly"
     ]
    },
    {
     "cell_type": "code",
     "collapsed": false,
     "input": [
      "dumbdf=pd.DataFrame(data={'starsscore':usesdf['starsscore'],'random':[np.random.choice(range(1,5)) for x in range(len(usesdf))]})\n",
      "acc, precision, recall, f1=mo.round2score(dumbdf, 'starsscore', 'random')\n",
      "propdf=viz.plotresults(dumbdf, 'starsscore', 'random')"
     ],
     "language": "python",
     "metadata": {},
     "outputs": [
      {
       "output_type": "stream",
       "stream": "stdout",
       "text": [
        "4 way accuracy 0.257\n",
        "4 way f1 0.262\n",
        "4 way precision 0.275\n",
        "4 way recall 0.257\n"
       ]
      },
      {
       "output_type": "stream",
       "stream": "stderr",
       "text": [
        "/usr/local/lib/python2.7/site-packages/numpy/core/fromnumeric.py:2499: VisibleDeprecationWarning: `rank` is deprecated; use the `ndim` attribute or function instead. To find the rank of a matrix see `numpy.linalg.matrix_rank`.\n",
        "  VisibleDeprecationWarning)\n"
       ]
      },
      {
       "metadata": {},
       "output_type": "display_data",
       "png": "[encoded data removed]",
       "text": [
        "<matplotlib.figure.Figure at 0x10dbc4350>"
       ]
      }
     ],
     "prompt_number": 12
    },
    {
     "cell_type": "heading",
     "level": 3,
     "metadata": {},
     "source": [
      "Another really dumb model guesses most frequent rating label"
     ]
    },
    {
     "cell_type": "code",
     "collapsed": false,
     "input": [
      "mode=scipy.stats.mode(usesdf['starsscore'].values)[0][0]\n",
      "modedf=pd.DataFrame(data={'starsscore':usesdf['starsscore'].values, 'mostfrequent':[mode for x in range(len(usesdf))]})\n",
      "acc, precision, recall, f1=mo.round2score(modedf, 'starsscore', 'mostfrequent')\n",
      "propdf=viz.plotresults(modedf, 'starsscore', 'mostfrequent')"
     ],
     "language": "python",
     "metadata": {},
     "outputs": [
      {
       "output_type": "stream",
       "stream": "stdout",
       "text": [
        "4 way accuracy 0.360\n",
        "4 way f1 0.190\n",
        "4 way precision 0.129\n",
        "4 way recall 0.360\n"
       ]
      },
      {
       "output_type": "stream",
       "stream": "stderr",
       "text": [
        "/usr/local/lib/python2.7/site-packages/sklearn/metrics/metrics.py:1249: UserWarning: The sum of true positives and false positives are equal to zero for some labels. Precision is ill defined for those labels [ 1.  3.  4.]. The precision and recall are equal to zero for some labels. fbeta_score is ill defined for those labels [ 1.  3.  4.]. \n",
        "  average=average)\n",
        "/usr/local/lib/python2.7/site-packages/sklearn/metrics/metrics.py:1734: UserWarning: The sum of true positives and false positives are equal to zero for some labels. Precision is ill defined for those labels [ 1.  3.  4.]. The precision and recall are equal to zero for some labels. fbeta_score is ill defined for those labels [ 1.  3.  4.]. \n",
        "  average=average)\n",
        "/usr/local/lib/python2.7/site-packages/sklearn/metrics/metrics.py:1809: UserWarning: The sum of true positives and false positives are equal to zero for some labels. Precision is ill defined for those labels [ 1.  3.  4.]. The precision and recall are equal to zero for some labels. fbeta_score is ill defined for those labels [ 1.  3.  4.]. \n",
        "  average=average)\n"
       ]
      },
      {
       "metadata": {},
       "output_type": "display_data",
       "png": "[encoded data removed]",
       "text": [
        "<matplotlib.figure.Figure at 0x10dbc7150>"
       ]
      }
     ],
     "prompt_number": 13
    },
    {
     "cell_type": "heading",
     "level": 3,
     "metadata": {},
     "source": [
      "A sliiiightly less dumb model guesses the target's most frequently used label (mode of their ratings on other items)"
     ]
    },
    {
     "cell_type": "code",
     "collapsed": false,
     "input": [
      "def getavg(starid, climber, sdf=None):\n",
      "    udf=sdf[(sdf['climber']==climber) & (sdf['starid']!=starid)]\n",
      "    return udf['starsscore'].mean()\n",
      "usesdf['user_avg']=usesdf.apply(lambda x:getavg(x['starid'], x['climber'], sdf=usesdf), axis=1)\n",
      "usesdf['rounded_user_avg']=[np.round(x) for x in usesdf.user_avg.values]"
     ],
     "language": "python",
     "metadata": {},
     "outputs": [],
     "prompt_number": 14
    },
    {
     "cell_type": "code",
     "collapsed": false,
     "input": [
      "%autoreload\n",
      "acc, precision, recall, f1=mo.round2score(usesdf, 'starsscore', 'rounded_user_avg')\n",
      "propdf=viz.plotresults(usesdf, 'starsscore', 'rounded_user_avg')"
     ],
     "language": "python",
     "metadata": {},
     "outputs": [
      {
       "output_type": "stream",
       "stream": "stdout",
       "text": [
        "4 way accuracy 0.385\n",
        "4 way f1 0.324\n",
        "4 way precision 0.433\n",
        "4 way recall 0.385\n"
       ]
      },
      {
       "output_type": "stream",
       "stream": "stderr",
       "text": [
        "/usr/local/lib/python2.7/site-packages/sklearn/metrics/metrics.py:1249: UserWarning: The sum of true positives and false positives are equal to zero for some labels. Precision is ill defined for those labels [ 1.]. The precision and recall are equal to zero for some labels. fbeta_score is ill defined for those labels [ 1.]. \n",
        "  average=average)\n",
        "/usr/local/lib/python2.7/site-packages/sklearn/metrics/metrics.py:1734: UserWarning: The sum of true positives and false positives are equal to zero for some labels. Precision is ill defined for those labels [ 1.]. The precision and recall are equal to zero for some labels. fbeta_score is ill defined for those labels [ 1.]. \n",
        "  average=average)\n",
        "/usr/local/lib/python2.7/site-packages/sklearn/metrics/metrics.py:1809: UserWarning: The sum of true positives and false positives are equal to zero for some labels. Precision is ill defined for those labels [ 1.]. The precision and recall are equal to zero for some labels. fbeta_score is ill defined for those labels [ 1.]. \n",
        "  average=average)\n"
       ]
      },
      {
       "metadata": {},
       "output_type": "display_data",
       "png": "[encoded data removed]",
       "text": [
        "<matplotlib.figure.Figure at 0x106ec6290>"
       ]
      }
     ],
     "prompt_number": 15
    },
    {
     "cell_type": "heading",
     "level": 3,
     "metadata": {},
     "source": [
      "A really simple model makes recommendations based on the ratings of the full remaining group"
     ]
    },
    {
     "cell_type": "code",
     "collapsed": false,
     "input": [
      "%autoreload\n",
      "acc, precision, recall, f1=mo.round2score(usesdf, 'starsscore', 'other_rounded')\n",
      "propdf=viz.plotresults(usesdf, 'starsscore', 'other_rounded')"
     ],
     "language": "python",
     "metadata": {},
     "outputs": [
      {
       "output_type": "stream",
       "stream": "stdout",
       "text": [
        "4 way accuracy 0.559\n",
        "4 way f1 0.556\n",
        "4 way precision 0.572\n",
        "4 way recall 0.559\n"
       ]
      },
      {
       "metadata": {},
       "output_type": "display_data",
       "png": "[encoded data removed]",
       "text": [
        "<matplotlib.figure.Figure at 0x1075b8b90>"
       ]
      }
     ],
     "prompt_number": 16
    },
    {
     "cell_type": "heading",
     "level": 3,
     "metadata": {},
     "source": [
      "CAN I OUTPERFORM THIS?"
     ]
    },
    {
     "cell_type": "code",
     "collapsed": false,
     "input": [
      "#set general model params\n",
      "clf=mo.classifier('rfc')"
     ],
     "language": "python",
     "metadata": {},
     "outputs": [],
     "prompt_number": 17
    },
    {
     "cell_type": "heading",
     "level": 3,
     "metadata": {},
     "source": [
      "A smart model might use attributes of other climbs the user likes"
     ]
    },
    {
     "cell_type": "code",
     "collapsed": false,
     "input": [
      "%autoreload\n",
      "resultsdict={}\n",
      "numericfeats=['pitch','pageviews','numerizedgrade']\n",
      "for name in alltermsdict.keys():\n",
      "    cfeatures=descripfeats+commentfeats+numericfeats\n",
      "    sfeatures=[]\n",
      "    print \"classifying using %s features\" %(len(cfeatures)+len(sfeatures))\n",
      "    this_ndf=ndf[['climbid']+cfeatures].dropna()\n",
      "    print this_ndf.shape\n",
      "    summarydf, resultsdf, importantfeats=mo.classify(clf,users, sfeatures, cfeatures, this_ndf, usesdf, minratings=10)\n",
      "    resultsdict[name]=[summarydf, resultsdf]\n",
      "\n"
     ],
     "language": "python",
     "metadata": {},
     "outputs": [
      {
       "output_type": "stream",
       "stream": "stdout",
       "text": [
        "classifying using 163 features\n",
        "(498, 164)\n",
        "classifying using 163 features"
       ]
      },
      {
       "output_type": "stream",
       "stream": "stdout",
       "text": [
        "\n",
        "(498, 164)\n",
        "classifying using 163 features"
       ]
      },
      {
       "output_type": "stream",
       "stream": "stdout",
       "text": [
        "\n",
        "(498, 164)\n",
        "classifying using 163 features"
       ]
      },
      {
       "output_type": "stream",
       "stream": "stdout",
       "text": [
        "\n",
        "(498, 164)\n",
        "classifying using 163 features"
       ]
      },
      {
       "output_type": "stream",
       "stream": "stdout",
       "text": [
        "\n",
        "(498, 164)\n",
        "classifying using 163 features"
       ]
      },
      {
       "output_type": "stream",
       "stream": "stdout",
       "text": [
        "\n",
        "(498, 164)\n"
       ]
      }
     ],
     "prompt_number": 19
    },
    {
     "cell_type": "code",
     "collapsed": false,
     "input": [
      "%autoreload\n",
      "for name in resultsdict.keys():\n",
      "    print \"\"\n",
      "    print \"classifying with %s\" %name\n",
      "    summarydf, resultsdf=resultsdict[name]\n",
      "    viz.plotresults(resultsdf, 'true_rating', 'feat_pred')\n",
      "    acc, precision, recall, f1=mo.round2score(resultsdf, 'true_rating', 'feat_pred')"
     ],
     "language": "python",
     "metadata": {},
     "outputs": [
      {
       "output_type": "stream",
       "stream": "stdout",
       "text": [
        "\n",
        "classifying with holdterms\n"
       ]
      },
      {
       "metadata": {},
       "output_type": "display_data",
       "png": "[encoded data removed]",
       "text": [
        "<matplotlib.figure.Figure at 0x10bf4c750>"
       ]
      },
      {
       "output_type": "stream",
       "stream": "stdout",
       "text": [
        "4 way accuracy 0.499\n",
        "4 way f1 0.489\n",
        "4 way precision 0.496\n",
        "4 way recall 0.499\n",
        "\n",
        "classifying with descriptors\n"
       ]
      },
      {
       "metadata": {},
       "output_type": "display_data",
       "png": "[encoded data removed]",
       "text": [
        "<matplotlib.figure.Figure at 0x10be76d10>"
       ]
      },
      {
       "output_type": "stream",
       "stream": "stdout",
       "text": [
        "4 way accuracy 0.468\n",
        "4 way f1 0.461\n",
        "4 way precision 0.463\n",
        "4 way recall 0.468\n",
        "\n",
        "classifying with allterms\n"
       ]
      },
      {
       "metadata": {},
       "output_type": "display_data",
       "png": "[encoded data removed]",
       "text": [
        "<matplotlib.figure.Figure at 0x10e0e7850>"
       ]
      },
      {
       "output_type": "stream",
       "stream": "stdout",
       "text": [
        "4 way accuracy 0.461\n",
        "4 way f1 0.458\n",
        "4 way precision 0.464\n",
        "4 way recall 0.461\n",
        "\n",
        "classifying with safety\n"
       ]
      },
      {
       "metadata": {},
       "output_type": "display_data",
       "png": "[encoded data removed]",
       "text": [
        "<matplotlib.figure.Figure at 0x10df88ad0>"
       ]
      },
      {
       "output_type": "stream",
       "stream": "stdout",
       "text": [
        "4 way accuracy 0.499\n",
        "4 way f1 0.491\n",
        "4 way precision 0.495\n",
        "4 way recall 0.499\n",
        "\n",
        "classifying with rockterms\n"
       ]
      },
      {
       "metadata": {},
       "output_type": "display_data",
       "png": "[encoded data removed]",
       "text": [
        "<matplotlib.figure.Figure at 0x10e0f27d0>"
       ]
      },
      {
       "output_type": "stream",
       "stream": "stdout",
       "text": [
        "4 way accuracy 0.479\n",
        "4 way f1 0.467\n",
        "4 way precision 0.469\n",
        "4 way recall 0.479\n",
        "\n",
        "classifying with easeterms\n"
       ]
      },
      {
       "metadata": {},
       "output_type": "display_data",
       "png": "[encoded data removed]",
       "text": [
        "<matplotlib.figure.Figure at 0x10e2e2290>"
       ]
      },
      {
       "output_type": "stream",
       "stream": "stdout",
       "text": [
        "4 way accuracy 0.466\n",
        "4 way f1 0.460\n",
        "4 way precision 0.464\n",
        "4 way recall 0.466\n"
       ]
      }
     ],
     "prompt_number": 20
    },
    {
     "cell_type": "heading",
     "level": 3,
     "metadata": {},
     "source": [
      "A smart model might also use the ratings of climbers"
     ]
    },
    {
     "cell_type": "markdown",
     "metadata": {},
     "source": [
      "Specifically, we can include as features the ratings of each climb by each other user (here using a binarized \"like\" matrix). In contrast to using the group average, training on each individual climber's ratings allows the model to learn which other climber's ratings are most predictive of the target's."
     ]
    },
    {
     "cell_type": "code",
     "collapsed": false,
     "input": [
      "clf=mo.classifier('rfc')"
     ],
     "language": "python",
     "metadata": {},
     "outputs": [],
     "prompt_number": 80
    },
    {
     "cell_type": "code",
     "collapsed": false,
     "input": [
      "%autoreload\n",
      "name='user_sim'\n",
      "cfeatures=list(like_mat.columns.values)\n",
      "cfeatures.remove('climbid')\n",
      "sfeatures=[]#['other_avg']\n",
      "print \"classifying using %s features\" %(len(cfeatures)+len(sfeatures))\n",
      "summarydf, resultsdf, importantfeats=mo.classify(clf,users, sfeatures, cfeatures, like_mat, usesdf, minratings=10, dropself=True)\n",
      "resultsdict[name]=[summarydf, resultsdf]\n"
     ],
     "language": "python",
     "metadata": {},
     "outputs": [
      {
       "output_type": "stream",
       "stream": "stdout",
       "text": [
        "classifying using 105 features\n"
       ]
      }
     ],
     "prompt_number": 21
    },
    {
     "cell_type": "code",
     "collapsed": false,
     "input": [
      "%autoreload\n",
      "for name in ['user_sim']:\n",
      "    print \"classifying with %s\" %name\n",
      "    summarydf, resultsdf=resultsdict[name]\n",
      "    viz.plotresults(resultsdf, 'true_rating', 'feat_pred')\n",
      "    acc, precision, recall, f1=mo.round2score(resultsdf, 'true_rating', 'feat_pred')"
     ],
     "language": "python",
     "metadata": {},
     "outputs": [
      {
       "output_type": "stream",
       "stream": "stdout",
       "text": [
        "classifying with user_sim\n"
       ]
      },
      {
       "metadata": {},
       "output_type": "display_data",
       "png": "[encoded data removed]",
       "text": [
        "<matplotlib.figure.Figure at 0x10db48110>"
       ]
      },
      {
       "output_type": "stream",
       "stream": "stdout",
       "text": [
        "4 way accuracy 0.688\n",
        "4 way f1 0.641\n",
        "4 way precision 0.652\n",
        "4 way recall 0.688\n"
       ]
      }
     ],
     "prompt_number": 22
    },
    {
     "cell_type": "code",
     "collapsed": false,
     "input": [
      "len(ndf[descripfeats+commentfeats+numericfeats])"
     ],
     "language": "python",
     "metadata": {},
     "outputs": [
      {
       "metadata": {},
       "output_type": "pyout",
       "prompt_number": 30,
       "text": [
        "521"
       ]
      }
     ],
     "prompt_number": 30
    },
    {
     "cell_type": "heading",
     "level": 3,
     "metadata": {},
     "source": [
      "Combining all features"
     ]
    },
    {
     "cell_type": "code",
     "collapsed": false,
     "input": [
      "clf=mo.classifier('rfc')"
     ],
     "language": "python",
     "metadata": {},
     "outputs": [],
     "prompt_number": 24
    },
    {
     "cell_type": "code",
     "collapsed": false,
     "input": [
      "%autoreload\n",
      "name='combined'\n",
      "cfeatures=list(like_mat.columns)+descripfeats+commentfeats+numericfeats\n",
      "cfeatures.remove('climbid')\n",
      "sfeatures=[]\n",
      "print \"classifying using %s features\" %(len(cfeatures)+len(sfeatures))\n",
      "full_ndf=ndf[['climbid']+descripfeats+commentfeats+numericfeats]\n",
      "full_ndf=pd.merge(full_ndf, like_mat, on='climbid', how='inner')\n",
      "full_ndf.index=full_ndf['climbid'].values\n",
      "full_ndf=full_ndf[full_ndf['climbid'].isin(sdf.climb.unique())]\n",
      "full_ndf=full_ndf.dropna()\n",
      "print full_ndf.shape\n",
      "summarydf, resultsdf, informativefeats=mo.classify(clf,users, sfeatures, cfeatures, full_ndf, usesdf, minratings=10, dropself=True, datadir=projdir)\n",
      "resultsdict[name]=[summarydf, resultsdf]"
     ],
     "language": "python",
     "metadata": {},
     "outputs": [
      {
       "output_type": "stream",
       "stream": "stdout",
       "text": [
        "classifying using 268 features\n",
        "(430, 269)\n"
       ]
      }
     ],
     "prompt_number": 52
    },
    {
     "cell_type": "code",
     "collapsed": false,
     "input": [
      "%autoreload\n",
      "for name in ['combined']:\n",
      "    print \"classifying with %s\" %name\n",
      "    summarydf, resultsdf=resultsdict[name]\n",
      "    viz.plotresults(resultsdf, 'true_rating', 'feat_pred')\n",
      "    acc, precision, recall, f1=mo.round2score(resultsdf, 'true_rating', 'feat_pred')"
     ],
     "language": "python",
     "metadata": {},
     "outputs": [
      {
       "output_type": "stream",
       "stream": "stdout",
       "text": [
        "classifying with combined\n"
       ]
      },
      {
       "metadata": {},
       "output_type": "display_data",
       "png": "[encoded data removed]",
       "text": [
        "<matplotlib.figure.Figure at 0x10db1c050>"
       ]
      },
      {
       "output_type": "stream",
       "stream": "stdout",
       "text": [
        "4 way accuracy 0.707\n",
        "4 way f1 0.697\n",
        "4 way precision 0.696\n",
        "4 way recall 0.707\n"
       ]
      }
     ],
     "prompt_number": 53
    },
    {
     "cell_type": "heading",
     "level": 3,
     "metadata": {},
     "source": [
      "Model optimization"
     ]
    },
    {
     "cell_type": "markdown",
     "metadata": {},
     "source": [
      "The analyses above suggest that we want to build a model that incorporates three kinds of information: \n",
      "- climb attributes \n",
      "- overall climb popularity\n",
      "- ratings of individual users (e.g. preferences of similar climbers)\n",
      "\n",
      "A model that naively combines these features does reasonably well, but I can try to improve performance by toggling the following:\n",
      "- algorithm (RFC vs. SVM vs. Logistic Regression)\n",
      "- features (try dimensionality reduction/feature selection methods)\n",
      "- model parameters (e.g. C param if using SVM)"
     ]
    },
    {
     "cell_type": "heading",
     "level": 3,
     "metadata": {},
     "source": [
      "Which algorithm? (conceptual)"
     ]
    },
    {
     "cell_type": "heading",
     "level": 4,
     "metadata": {},
     "source": [
      "Random Forest:"
     ]
    },
    {
     "cell_type": "markdown",
     "metadata": {},
     "source": [
      "- pros:\n",
      "    -provides interpretable feature importances\n",
      "    -handles large #s features\n",
      "    -handles diverse feature types (i.e. continuous and categorical)\n",
      "    -efficient with large dataset\n",
      "- cons:\n",
      "    - can be prone to overfitting\n",
      "    - decision rules can be complex and unintuitive\n",
      "- parameters to set:\n",
      "    - n_estimators : The number of trees in the forest.\n",
      "    - criterion : measure of quality of a split... Gini impurity(\u201cgini\u201d) vs information gain (\"entropy\")\n",
      "    - max_features: # of features to use when looking for  best split:\n",
      "        - float --> max_features is a percentage of n_features \n",
      "        - 'auto' --> sqrt(n_features).\n",
      "        - 'log2' --> log2(n_features).\n",
      "        - None --> max_features=n_features."
     ]
    },
    {
     "cell_type": "heading",
     "level": 4,
     "metadata": {},
     "source": [
      "SVM:"
     ]
    },
    {
     "cell_type": "markdown",
     "metadata": {},
     "source": [
      "- pros:\n",
      "    - efficient in high-d spaces\n",
      "    - given well separable classes, focus on the points near the boundary (support vectors) rather than all data points (as in MLE) optimizes best hyperplan\n",
      "- cons: \n",
      "    - weights/coefficients not very interpretable\n",
      "    - not naturally multiclass (must do one vs one or one vs all which each binary class)\n",
      "    - rbf kernels generally power powerful, but not appropriate for text classification problems\n",
      "- parameters to set:\n",
      "    - C param\n",
      "    - kernel\n",
      "    - if non-linear kernel: gamma"
     ]
    },
    {
     "cell_type": "heading",
     "level": 4,
     "metadata": {},
     "source": [
      "Multinomial Logistic Regression"
     ]
    },
    {
     "cell_type": "markdown",
     "metadata": {},
     "source": [
      "\n",
      "- pros:\n",
      "    - simple\n",
      "    - interpretable coefficients\n",
      "- cons:\n",
      "    - performs best with low number of dimensions \n",
      "    - best suited for cases where classes aren't well separable (i.e. predictors provide only probabilistic estimate of class), as it won't find plane with optimal margin amongst separating boundaries\n",
      "- parameters to set:\n",
      "    - penalty: regularization parameter ('l1' or 'l2')\n",
      "    - C param (like for SVM... smaller values --> stronger regularization)"
     ]
    },
    {
     "cell_type": "heading",
     "level": 3,
     "metadata": {},
     "source": [
      "Which algorithm? (empirical)"
     ]
    },
    {
     "cell_type": "code",
     "collapsed": false,
     "input": [
      "#RFC\n",
      "%autoreload\n",
      "clf=mo.classifier('rfc')\n",
      "name='combined_rfc'\n",
      "print \"classifying using %s features\" %(len(cfeatures)+len(sfeatures))\n",
      "summarydf, resultsdf, emptyfeats=mo.classify(clf,users, sfeatures, cfeatures, full_ndf, usesdf, minratings=10, dropself=True)\n",
      "resultsdict[name]=[summarydf, resultsdf]"
     ],
     "language": "python",
     "metadata": {},
     "outputs": [
      {
       "output_type": "stream",
       "stream": "stdout",
       "text": [
        "classifying using 268 features\n"
       ]
      }
     ],
     "prompt_number": 54
    },
    {
     "cell_type": "code",
     "collapsed": false,
     "input": [
      "#RFC\n",
      "%autoreload\n",
      "clf=mo.classifier('svm')\n",
      "name='combined_svm'\n",
      "print \"classifying using %s features\" %(len(cfeatures)+len(sfeatures))\n",
      "summarydf, resultsdf, emptyfeats=mo.classify(clf,users, sfeatures, cfeatures, full_ndf, usesdf, minratings=10, dropself=True)\n",
      "resultsdict[name]=[summarydf, resultsdf]"
     ],
     "language": "python",
     "metadata": {},
     "outputs": [
      {
       "output_type": "stream",
       "stream": "stdout",
       "text": [
        "classifying using 268 features\n"
       ]
      }
     ],
     "prompt_number": 56
    },
    {
     "cell_type": "code",
     "collapsed": false,
     "input": [
      "#multinomial logistic\n",
      "clf=mo.classifier('logistic')\n",
      "name='combined_logistic'\n",
      "print \"classifying using %s features\" %(len(cfeatures)+len(sfeatures))\n",
      "summarydf, resultsdf, emptyfeats=mo.classify(clf,users, sfeatures, cfeatures, full_ndf, usesdf, minratings=10, dropself=True)\n",
      "resultsdict[name]=[summarydf, resultsdf]"
     ],
     "language": "python",
     "metadata": {},
     "outputs": [
      {
       "output_type": "stream",
       "stream": "stdout",
       "text": [
        "classifying using 268 features\n"
       ]
      }
     ],
     "prompt_number": 57
    },
    {
     "cell_type": "code",
     "collapsed": false,
     "input": [
      "for name in ['combined_rfc','combined_svm','combined_logistic', 'combined_naivebayes']:\n",
      "    print \"classifying with %s\" %name\n",
      "    summarydf, resultsdf=resultsdict[name]\n",
      "    viz.plotresults(resultsdf, 'true_rating', 'feat_pred')\n",
      "    acc, precision, recall, f1=mo.round2score(resultsdf, 'true_rating', 'feat_pred')"
     ],
     "language": "python",
     "metadata": {},
     "outputs": [
      {
       "output_type": "stream",
       "stream": "stdout",
       "text": [
        "classifying with combined_rfc\n"
       ]
      },
      {
       "metadata": {},
       "output_type": "display_data",
       "png": "[encoded data removed]",
       "text": [
        "<matplotlib.figure.Figure at 0x10dffaf90>"
       ]
      },
      {
       "output_type": "stream",
       "stream": "stdout",
       "text": [
        "4 way accuracy 0.700\n",
        "4 way f1 0.686\n",
        "4 way precision 0.685\n",
        "4 way recall 0.700\n",
        "classifying with combined_svm\n"
       ]
      },
      {
       "metadata": {},
       "output_type": "display_data",
       "png": "[encoded data removed]",
       "text": [
        "<matplotlib.figure.Figure at 0x10e23b410>"
       ]
      },
      {
       "output_type": "stream",
       "stream": "stdout",
       "text": [
        "4 way accuracy 0.661\n",
        "4 way f1 0.652\n",
        "4 way precision 0.646\n",
        "4 way recall 0.661\n",
        "classifying with combined_logistic\n"
       ]
      },
      {
       "metadata": {},
       "output_type": "display_data",
       "png": "[encoded data removed]",
       "text": [
        "<matplotlib.figure.Figure at 0x10e23b210>"
       ]
      },
      {
       "output_type": "stream",
       "stream": "stdout",
       "text": [
        "4 way accuracy 0.631\n",
        "4 way f1 0.630\n",
        "4 way precision 0.629\n",
        "4 way recall 0.631\n",
        "classifying with combined_naivebayes\n"
       ]
      },
      {
       "metadata": {},
       "output_type": "display_data",
       "png": "[encoded data removed]",
       "text": [
        "<matplotlib.figure.Figure at 0x1101c4f90>"
       ]
      },
      {
       "output_type": "stream",
       "stream": "stdout",
       "text": [
        "4 way accuracy 0.631\n",
        "4 way f1 0.630\n",
        "4 way precision 0.629\n",
        "4 way recall 0.631\n"
       ]
      }
     ],
     "prompt_number": 59
    },
    {
     "cell_type": "markdown",
     "metadata": {},
     "source": [
      "Random Forests slightly outperforms SVM and logisic (on these data and with these fairly arbitrary parameters). Combining the advantages of RFC describe above, and it's apparently strong performance here, I'll focus subsequent analyses on random forests"
     ]
    },
    {
     "cell_type": "heading",
     "level": 3,
     "metadata": {},
     "source": [
      "Optimize parameters of chosen model"
     ]
    },
    {
     "cell_type": "code",
     "collapsed": false,
     "input": [
      "poss_n=range(1,200,10)\n",
      "results=[]\n",
      "for n in poss_n:\n",
      "    clf=mo.classifier('rfc')\n",
      "    clf.n_estimators=n\n",
      "    name='combined_rfc_n_est_%s' %(n)\n",
      "    print \"classifying using %s features\" %(len(cfeatures)+len(sfeatures))\n",
      "    summarydf, resultsdf, emptyfeats=mo.classify(clf,users, sfeatures, cfeatures, full_ndf, usesdf, minratings=10, dropself=True)\n",
      "    resultsdict[name]=[summarydf, resultsdf]\n",
      "    results.append(summarydf['score'].mean())"
     ],
     "language": "python",
     "metadata": {},
     "outputs": [
      {
       "output_type": "stream",
       "stream": "stdout",
       "text": [
        "classifying using 268 features\n",
        "classifying using 268 features"
       ]
      },
      {
       "output_type": "stream",
       "stream": "stdout",
       "text": [
        "\n",
        "classifying using 268 features"
       ]
      },
      {
       "output_type": "stream",
       "stream": "stdout",
       "text": [
        "\n",
        "classifying using 268 features"
       ]
      },
      {
       "output_type": "stream",
       "stream": "stdout",
       "text": [
        "\n",
        "classifying using 268 features"
       ]
      },
      {
       "output_type": "stream",
       "stream": "stdout",
       "text": [
        "\n",
        "classifying using 268 features"
       ]
      },
      {
       "output_type": "stream",
       "stream": "stdout",
       "text": [
        "\n",
        "classifying using 268 features"
       ]
      },
      {
       "output_type": "stream",
       "stream": "stdout",
       "text": [
        "\n",
        "classifying using 268 features"
       ]
      },
      {
       "output_type": "stream",
       "stream": "stdout",
       "text": [
        "\n",
        "classifying using 268 features"
       ]
      },
      {
       "output_type": "stream",
       "stream": "stdout",
       "text": [
        "\n",
        "classifying using 268 features"
       ]
      },
      {
       "output_type": "stream",
       "stream": "stdout",
       "text": [
        "\n",
        "classifying using 268 features"
       ]
      },
      {
       "output_type": "stream",
       "stream": "stdout",
       "text": [
        "\n",
        "classifying using 268 features"
       ]
      },
      {
       "output_type": "stream",
       "stream": "stdout",
       "text": [
        "\n",
        "classifying using 268 features"
       ]
      },
      {
       "output_type": "stream",
       "stream": "stdout",
       "text": [
        "\n",
        "classifying using 268 features"
       ]
      },
      {
       "output_type": "stream",
       "stream": "stdout",
       "text": [
        "\n",
        "classifying using 268 features"
       ]
      },
      {
       "output_type": "stream",
       "stream": "stdout",
       "text": [
        "\n",
        "classifying using 268 features"
       ]
      },
      {
       "output_type": "stream",
       "stream": "stdout",
       "text": [
        "\n",
        "classifying using 268 features"
       ]
      },
      {
       "output_type": "stream",
       "stream": "stdout",
       "text": [
        "\n",
        "classifying using 268 features"
       ]
      },
      {
       "output_type": "stream",
       "stream": "stdout",
       "text": [
        "\n",
        "classifying using 268 features"
       ]
      },
      {
       "output_type": "stream",
       "stream": "stdout",
       "text": [
        "\n",
        "classifying using 268 features"
       ]
      },
      {
       "output_type": "stream",
       "stream": "stdout",
       "text": [
        "\n"
       ]
      }
     ],
     "prompt_number": 72
    },
    {
     "cell_type": "code",
     "collapsed": false,
     "input": [
      "f,ax=plt.subplots()\n",
      "ax.plot(range(1,200,10),results)\n",
      "ax.set_xlabel('# of estimators')\n",
      "ax.set_ylabel('accuracy')"
     ],
     "language": "python",
     "metadata": {},
     "outputs": [
      {
       "metadata": {},
       "output_type": "pyout",
       "prompt_number": 78,
       "text": [
        "<matplotlib.text.Text at 0x10e30d610>"
       ]
      },
      {
       "metadata": {},
       "output_type": "display_data",
       "png": "[encoded data removed]",
       "text": [
        "<matplotlib.figure.Figure at 0x1101f5050>"
       ]
      }
     ],
     "prompt_number": 78
    },
    {
     "cell_type": "heading",
     "level": 3,
     "metadata": {},
     "source": [
      "Feature selection"
     ]
    },
    {
     "cell_type": "code",
     "collapsed": false,
     "input": [
      "%autoreload\n",
      "clf=mo.classifier('rfc')\n",
      "clf.n_estimators=75\n",
      "name='combined_rfc_n_est_%s' %(n)\n",
      "print \"classifying using %s features\" %(len(cfeatures)+len(sfeatures))\n",
      "summarydf, resultsdf, importantfeats=mo.classify(clf,users, sfeatures, cfeatures, full_ndf, usesdf, minratings=10, dropself=True, getfeats=True)\n",
      "resultsdict[name]=[summarydf, resultsdf]\n",
      "results.append(summarydf['score'].mean())"
     ],
     "language": "python",
     "metadata": {},
     "outputs": []
    },
    {
     "cell_type": "heading",
     "level": 3,
     "metadata": {},
     "source": [
      "Feature reduction"
     ]
    },
    {
     "cell_type": "markdown",
     "metadata": {},
     "source": [
      "To be able to quickly incorporate new users who don't have a full climbing history, I want to identify a relatively simple, intuitive feature vector that can be used to provide predictions for a new user based on a few indicated preferences. So, I want to reduce this space of features. Many approaches to dimensionality reduction (i.e. PCA) reduce features into components that are linear combinations of the initial input space. However, the most intuitive inputs for the user are simple words like those contained in the set of a priori features."
     ]
    },
    {
     "cell_type": "code",
     "collapsed": false,
     "input": [
      "%autoreload\n",
      "featdf=importantfeats[[col for col in importantfeats.columns if col != 'climber']].T\n",
      "featdf['T_value']=featdf.apply(lambda x:scipy.stats.ttest_1samp(x.values, 0)[0], axis=1)\n",
      "featdf['P_value']=featdf.apply(lambda x:scipy.stats.ttest_1samp(x.values, 0)[1], axis=1)\n",
      "sorteddf=featdf.sort(columns='T_value', ascending=False).iloc[:20,:]\n",
      "sorteddf"
     ],
     "language": "python",
     "metadata": {},
     "outputs": [
      {
       "html": [
        "<div style=\"max-height:1000px;max-width:1500px;overflow:auto;\">\n",
        "<table border=\"1\" class=\"dataframe\">\n",
        "  <thead>\n",
        "    <tr style=\"text-align: right;\">\n",
        "      <th></th>\n",
        "      <th>0</th>\n",
        "      <th>1</th>\n",
        "      <th>2</th>\n",
        "      <th>3</th>\n",
        "      <th>4</th>\n",
        "      <th>5</th>\n",
        "      <th>6</th>\n",
        "      <th>T_value</th>\n",
        "      <th>P_value</th>\n",
        "    </tr>\n",
        "  </thead>\n",
        "  <tbody>\n",
        "    <tr>\n",
        "      <th>pageviews</th>\n",
        "      <td> 0.111111</td>\n",
        "      <td> 0.111111</td>\n",
        "      <td> 0.122573</td>\n",
        "      <td> 0.132948</td>\n",
        "      <td> 0.127660</td>\n",
        "      <td> 0.111111</td>\n",
        "      <td> 0.133333</td>\n",
        "      <td> 31.250468</td>\n",
        "      <td> 0.336753</td>\n",
        "    </tr>\n",
        "    <tr>\n",
        "      <th>numerizedgrade</th>\n",
        "      <td> 0.104938</td>\n",
        "      <td> 0.111111</td>\n",
        "      <td> 0.121359</td>\n",
        "      <td> 0.132948</td>\n",
        "      <td> 0.127660</td>\n",
        "      <td> 0.105263</td>\n",
        "      <td> 0.133333</td>\n",
        "      <td> 25.434881</td>\n",
        "      <td> 0.333891</td>\n",
        "    </tr>\n",
        "    <tr>\n",
        "      <th>crux_description</th>\n",
        "      <td> 0.092593</td>\n",
        "      <td> 0.111111</td>\n",
        "      <td> 0.078883</td>\n",
        "      <td> 0.098266</td>\n",
        "      <td> 0.106383</td>\n",
        "      <td> 0.111111</td>\n",
        "      <td> 0.088889</td>\n",
        "      <td> 21.307970</td>\n",
        "      <td> 0.334212</td>\n",
        "    </tr>\n",
        "    <tr>\n",
        "      <th>slab_description</th>\n",
        "      <td> 0.061728</td>\n",
        "      <td> 0.051525</td>\n",
        "      <td> 0.122573</td>\n",
        "      <td> 0.086705</td>\n",
        "      <td> 0.053191</td>\n",
        "      <td> 0.031189</td>\n",
        "      <td> 0.044444</td>\n",
        "      <td>  5.543993</td>\n",
        "      <td> 0.310157</td>\n",
        "    </tr>\n",
        "    <tr>\n",
        "      <th>corner_description</th>\n",
        "      <td> 0.049383</td>\n",
        "      <td> 0.089029</td>\n",
        "      <td> 0.046117</td>\n",
        "      <td> 0.000000</td>\n",
        "      <td> 0.000000</td>\n",
        "      <td> 0.109162</td>\n",
        "      <td> 0.088889</td>\n",
        "      <td>  3.317443</td>\n",
        "      <td> 0.294402</td>\n",
        "    </tr>\n",
        "    <tr>\n",
        "      <th>crack_description</th>\n",
        "      <td> 0.000000</td>\n",
        "      <td> 0.069050</td>\n",
        "      <td> 0.075243</td>\n",
        "      <td> 0.069364</td>\n",
        "      <td> 0.031915</td>\n",
        "      <td> 0.111111</td>\n",
        "      <td> 0.000000</td>\n",
        "      <td>  3.233404</td>\n",
        "      <td> 0.296720</td>\n",
        "    </tr>\n",
        "    <tr>\n",
        "      <th>thin_commentsmerged</th>\n",
        "      <td> 0.024691</td>\n",
        "      <td> 0.000000</td>\n",
        "      <td> 0.078883</td>\n",
        "      <td> 0.121387</td>\n",
        "      <td> 0.117021</td>\n",
        "      <td> 0.037037</td>\n",
        "      <td> 0.011111</td>\n",
        "      <td>  2.947832</td>\n",
        "      <td> 0.286764</td>\n",
        "    </tr>\n",
        "    <tr>\n",
        "      <th>easy_description</th>\n",
        "      <td> 0.111111</td>\n",
        "      <td> 0.108658</td>\n",
        "      <td> 0.003641</td>\n",
        "      <td> 0.011561</td>\n",
        "      <td> 0.095745</td>\n",
        "      <td> 0.000000</td>\n",
        "      <td> 0.011111</td>\n",
        "      <td>  2.434566</td>\n",
        "      <td> 0.283402</td>\n",
        "    </tr>\n",
        "    <tr>\n",
        "      <th>hard_description</th>\n",
        "      <td> 0.104938</td>\n",
        "      <td> 0.000000</td>\n",
        "      <td> 0.008495</td>\n",
        "      <td> 0.109827</td>\n",
        "      <td> 0.010638</td>\n",
        "      <td> 0.085770</td>\n",
        "      <td> 0.000000</td>\n",
        "      <td>  2.338454</td>\n",
        "      <td> 0.285099</td>\n",
        "    </tr>\n",
        "    <tr>\n",
        "      <th>crimp_description</th>\n",
        "      <td> 0.043210</td>\n",
        "      <td> 0.031195</td>\n",
        "      <td> 0.083738</td>\n",
        "      <td> 0.000000</td>\n",
        "      <td> 0.000000</td>\n",
        "      <td> 0.000000</td>\n",
        "      <td> 0.111111</td>\n",
        "      <td>  2.290828</td>\n",
        "      <td> 0.293698</td>\n",
        "    </tr>\n",
        "    <tr>\n",
        "      <th>steep_description</th>\n",
        "      <td> 0.049383</td>\n",
        "      <td> 0.000000</td>\n",
        "      <td> 0.004854</td>\n",
        "      <td> 0.052023</td>\n",
        "      <td> 0.000000</td>\n",
        "      <td> 0.042885</td>\n",
        "      <td> 0.000000</td>\n",
        "      <td>  2.231193</td>\n",
        "      <td> 0.317337</td>\n",
        "    </tr>\n",
        "    <tr>\n",
        "      <th>thin_description</th>\n",
        "      <td> 0.018519</td>\n",
        "      <td> 0.000000</td>\n",
        "      <td> 0.086165</td>\n",
        "      <td> 0.040462</td>\n",
        "      <td> 0.000000</td>\n",
        "      <td> 0.037037</td>\n",
        "      <td> 0.000000</td>\n",
        "      <td>  2.171220</td>\n",
        "      <td> 0.309250</td>\n",
        "    </tr>\n",
        "    <tr>\n",
        "      <th>ledge_description</th>\n",
        "      <td> 0.080247</td>\n",
        "      <td> 0.000000</td>\n",
        "      <td> 0.048544</td>\n",
        "      <td> 0.000000</td>\n",
        "      <td> 0.000000</td>\n",
        "      <td> 0.097466</td>\n",
        "      <td> 0.000000</td>\n",
        "      <td>  1.998834</td>\n",
        "      <td> 0.295838</td>\n",
        "    </tr>\n",
        "    <tr>\n",
        "      <th>arete_description</th>\n",
        "      <td> 0.018519</td>\n",
        "      <td> 0.111111</td>\n",
        "      <td> 0.002427</td>\n",
        "      <td> 0.017341</td>\n",
        "      <td> 0.063830</td>\n",
        "      <td> 0.000000</td>\n",
        "      <td> 0.000000</td>\n",
        "      <td>  1.919747</td>\n",
        "      <td> 0.296857</td>\n",
        "    </tr>\n",
        "    <tr>\n",
        "      <th>ledge_commentsmerged</th>\n",
        "      <td> 0.024691</td>\n",
        "      <td> 0.000000</td>\n",
        "      <td> 0.000000</td>\n",
        "      <td> 0.011561</td>\n",
        "      <td> 0.042553</td>\n",
        "      <td> 0.003899</td>\n",
        "      <td> 0.000000</td>\n",
        "      <td>  1.918934</td>\n",
        "      <td> 0.328912</td>\n",
        "    </tr>\n",
        "    <tr>\n",
        "      <th>crack_commentsmerged</th>\n",
        "      <td> 0.000000</td>\n",
        "      <td> 0.000000</td>\n",
        "      <td> 0.000000</td>\n",
        "      <td> 0.075145</td>\n",
        "      <td> 0.031915</td>\n",
        "      <td> 0.019493</td>\n",
        "      <td> 0.000000</td>\n",
        "      <td>  1.698702</td>\n",
        "      <td> 0.313863</td>\n",
        "    </tr>\n",
        "    <tr>\n",
        "      <th>flake_description</th>\n",
        "      <td> 0.006173</td>\n",
        "      <td> 0.000000</td>\n",
        "      <td> 0.086165</td>\n",
        "      <td> 0.005780</td>\n",
        "      <td> 0.000000</td>\n",
        "      <td> 0.000000</td>\n",
        "      <td> 0.088889</td>\n",
        "      <td>  1.697629</td>\n",
        "      <td> 0.297476</td>\n",
        "    </tr>\n",
        "    <tr>\n",
        "      <th>crux_commentsmerged</th>\n",
        "      <td> 0.000000</td>\n",
        "      <td> 0.000000</td>\n",
        "      <td> 0.007282</td>\n",
        "      <td> 0.011561</td>\n",
        "      <td> 0.000000</td>\n",
        "      <td> 0.001949</td>\n",
        "      <td> 0.000000</td>\n",
        "      <td>  1.696678</td>\n",
        "      <td> 0.344340</td>\n",
        "    </tr>\n",
        "    <tr>\n",
        "      <th>hard_commentsmerged</th>\n",
        "      <td> 0.012346</td>\n",
        "      <td> 0.000000</td>\n",
        "      <td> 0.002427</td>\n",
        "      <td> 0.000000</td>\n",
        "      <td> 0.000000</td>\n",
        "      <td> 0.003899</td>\n",
        "      <td> 0.000000</td>\n",
        "      <td>  1.554233</td>\n",
        "      <td> 0.344465</td>\n",
        "    </tr>\n",
        "    <tr>\n",
        "      <th>jug_description</th>\n",
        "      <td> 0.061728</td>\n",
        "      <td> 0.094988</td>\n",
        "      <td> 0.000000</td>\n",
        "      <td> 0.000000</td>\n",
        "      <td> 0.000000</td>\n",
        "      <td> 0.003899</td>\n",
        "      <td> 0.000000</td>\n",
        "      <td>  1.553439</td>\n",
        "      <td> 0.300686</td>\n",
        "    </tr>\n",
        "  </tbody>\n",
        "</table>\n",
        "</div>"
       ],
       "metadata": {},
       "output_type": "pyout",
       "prompt_number": 157,
       "text": [
        "                             0         1         2         3         4  \\\n",
        "pageviews             0.111111  0.111111  0.122573  0.132948  0.127660   \n",
        "numerizedgrade        0.104938  0.111111  0.121359  0.132948  0.127660   \n",
        "crux_description      0.092593  0.111111  0.078883  0.098266  0.106383   \n",
        "slab_description      0.061728  0.051525  0.122573  0.086705  0.053191   \n",
        "corner_description    0.049383  0.089029  0.046117  0.000000  0.000000   \n",
        "crack_description     0.000000  0.069050  0.075243  0.069364  0.031915   \n",
        "thin_commentsmerged   0.024691  0.000000  0.078883  0.121387  0.117021   \n",
        "easy_description      0.111111  0.108658  0.003641  0.011561  0.095745   \n",
        "hard_description      0.104938  0.000000  0.008495  0.109827  0.010638   \n",
        "crimp_description     0.043210  0.031195  0.083738  0.000000  0.000000   \n",
        "steep_description     0.049383  0.000000  0.004854  0.052023  0.000000   \n",
        "thin_description      0.018519  0.000000  0.086165  0.040462  0.000000   \n",
        "ledge_description     0.080247  0.000000  0.048544  0.000000  0.000000   \n",
        "arete_description     0.018519  0.111111  0.002427  0.017341  0.063830   \n",
        "ledge_commentsmerged  0.024691  0.000000  0.000000  0.011561  0.042553   \n",
        "crack_commentsmerged  0.000000  0.000000  0.000000  0.075145  0.031915   \n",
        "flake_description     0.006173  0.000000  0.086165  0.005780  0.000000   \n",
        "crux_commentsmerged   0.000000  0.000000  0.007282  0.011561  0.000000   \n",
        "hard_commentsmerged   0.012346  0.000000  0.002427  0.000000  0.000000   \n",
        "jug_description       0.061728  0.094988  0.000000  0.000000  0.000000   \n",
        "\n",
        "                             5         6    T_value   P_value  \n",
        "pageviews             0.111111  0.133333  31.250468  0.336753  \n",
        "numerizedgrade        0.105263  0.133333  25.434881  0.333891  \n",
        "crux_description      0.111111  0.088889  21.307970  0.334212  \n",
        "slab_description      0.031189  0.044444   5.543993  0.310157  \n",
        "corner_description    0.109162  0.088889   3.317443  0.294402  \n",
        "crack_description     0.111111  0.000000   3.233404  0.296720  \n",
        "thin_commentsmerged   0.037037  0.011111   2.947832  0.286764  \n",
        "easy_description      0.000000  0.011111   2.434566  0.283402  \n",
        "hard_description      0.085770  0.000000   2.338454  0.285099  \n",
        "crimp_description     0.000000  0.111111   2.290828  0.293698  \n",
        "steep_description     0.042885  0.000000   2.231193  0.317337  \n",
        "thin_description      0.037037  0.000000   2.171220  0.309250  \n",
        "ledge_description     0.097466  0.000000   1.998834  0.295838  \n",
        "arete_description     0.000000  0.000000   1.919747  0.296857  \n",
        "ledge_commentsmerged  0.003899  0.000000   1.918934  0.328912  \n",
        "crack_commentsmerged  0.019493  0.000000   1.698702  0.313863  \n",
        "flake_description     0.000000  0.088889   1.697629  0.297476  \n",
        "crux_commentsmerged   0.001949  0.000000   1.696678  0.344340  \n",
        "hard_commentsmerged   0.003899  0.000000   1.554233  0.344465  \n",
        "jug_description       0.003899  0.000000   1.553439  0.300686  "
       ]
      }
     ],
     "prompt_number": 157
    },
    {
     "cell_type": "code",
     "collapsed": false,
     "input": [
      "feats=[col[:col.index('_')+1] if '_' in col else col for col in sorteddf.index.values]\n",
      "feats=list(set(feats))\n",
      "finalfeats=[]\n",
      "print len(feats)\n",
      "print feats\n",
      "for f in feats:\n",
      "    if '_' not in f:\n",
      "        finalfeats.append(f)\n",
      "    else:\n",
      "        finalfeats.append(f+'description')\n",
      "        finalfeats.append(f+'commentsmerged')\n"
     ],
     "language": "python",
     "metadata": {},
     "outputs": [
      {
       "output_type": "stream",
       "stream": "stdout",
       "text": [
        "15\n",
        "['ledge_', 'pageviews', 'corner_', 'crux_', 'jug_', 'thin_', 'easy_', 'steep_', 'numerizedgrade', 'crack_', 'slab_', 'hard_', 'flake_', 'crimp_', 'arete_']\n"
       ]
      }
     ],
     "prompt_number": 159
    },
    {
     "cell_type": "heading",
     "level": 3,
     "metadata": {},
     "source": [
      "Forward stepwise iterative regression"
     ]
    },
    {
     "cell_type": "code",
     "collapsed": false,
     "input": [],
     "language": "python",
     "metadata": {},
     "outputs": []
    },
    {
     "cell_type": "code",
     "collapsed": false,
     "input": [],
     "language": "python",
     "metadata": {},
     "outputs": []
    },
    {
     "cell_type": "code",
     "collapsed": false,
     "input": [],
     "language": "python",
     "metadata": {},
     "outputs": []
    },
    {
     "cell_type": "code",
     "collapsed": false,
     "input": [],
     "language": "python",
     "metadata": {},
     "outputs": []
    },
    {
     "cell_type": "code",
     "collapsed": false,
     "input": [],
     "language": "python",
     "metadata": {},
     "outputs": []
    },
    {
     "cell_type": "code",
     "collapsed": false,
     "input": [],
     "language": "python",
     "metadata": {},
     "outputs": []
    },
    {
     "cell_type": "code",
     "collapsed": false,
     "input": [],
     "language": "python",
     "metadata": {},
     "outputs": []
    }
   ],
   "metadata": {}
  }
 ]
}