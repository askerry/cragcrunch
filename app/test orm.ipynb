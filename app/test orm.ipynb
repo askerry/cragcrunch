{
 "metadata": {
  "name": "",
  "signature": "sha256:036eeb29c9e6a88d8bb254ad05aa1c6302ea904ed86e028e771c6c32dc9d73ba"
 },
 "nbformat": 3,
 "nbformat_minor": 0,
 "worksheets": [
  {
   "cells": [
    {
     "cell_type": "code",
     "collapsed": false,
     "input": [
      "pylab inline"
     ],
     "language": "python",
     "metadata": {},
     "outputs": [
      {
       "output_type": "stream",
       "stream": "stdout",
       "text": [
        "Populating the interactive namespace from numpy and matplotlib\n"
       ]
      }
     ],
     "prompt_number": 1
    },
    {
     "cell_type": "code",
     "collapsed": false,
     "input": [
      "import ormcfg\n",
      "from ormcfg import ClimbTable, AreaTable, ClimberTable, TicksTable, CommentsTable, StarsTable, GradesTable, ToDosTable\n",
      "from recrocks import connect_db\n",
      "from sqlalchemy import create_engine\n",
      "from sqlalchemy import distinct\n",
      "from recrocks import app\n",
      "from sqlalchemy.orm import sessionmaker"
     ],
     "language": "python",
     "metadata": {},
     "outputs": [],
     "prompt_number": 2
    },
    {
     "cell_type": "code",
     "collapsed": false,
     "input": [
      "db=connect_db()"
     ],
     "language": "python",
     "metadata": {},
     "outputs": [],
     "prompt_number": 3
    },
    {
     "cell_type": "code",
     "collapsed": false,
     "input": [
      "local=db.session.query(AreaTable).filter_by(country = 'USA').all()\n",
      "regions=set([l.region for l in local])"
     ],
     "language": "python",
     "metadata": {},
     "outputs": [],
     "prompt_number": 4
    },
    {
     "cell_type": "code",
     "collapsed": false,
     "input": [
      "def getareanest(areaid, db, AreaTable, regions,areanest=[], nestednames=[]):\n",
      "    name=db.session.query(AreaTable).filter_by(areaid=areaid).first().name\n",
      "    if name not in regions:\n",
      "        parent=db.session.query(AreaTable).filter_by(areaid=areaid).first().area\n",
      "        areanest.append(parent)\n",
      "        nestednames.append(name)\n",
      "        getareanest(parent, db, AreaTable, regions,areanest, nestednames)\n",
      "    return areanest, nestednames\n",
      "def getclimbdict(c, db, AreaTable):\n",
      "    cdict=c.__dict__\n",
      "    cdict['climbid']=int(cdict['climbid'])\n",
      "    cdict['areaname']=db.session.query(AreaTable).filter_by(areaid=int(c.area)).first().name\n",
      "    cdict['mainarea']=db.session.query(AreaTable).filter_by(areaid=int(c.area)).first().mainarea\n",
      "    cdict['mainarea_name']=db.session.query(AreaTable).filter_by(areaid=cdict['mainarea']).first().name\n",
      "    cdict['region']=db.session.query(AreaTable).filter_by(areaid=cdict['mainarea']).first().region\n",
      "    nestedids,nestednames=getareanest(300, db, AreaTable, regions)\n",
      "    cdict['nest']=' -- '.join(nestednames)\n",
      "    return cdict\n"
     ],
     "language": "python",
     "metadata": {},
     "outputs": [],
     "prompt_number": 5
    },
    {
     "cell_type": "code",
     "collapsed": false,
     "input": [
      "c=db.session.query(AreaTable).first()\n"
     ],
     "language": "python",
     "metadata": {},
     "outputs": [],
     "prompt_number": 6
    },
    {
     "cell_type": "code",
     "collapsed": false,
     "input": [
      "c=db.session.query(ClimbTable).filter_by(climbid=12).first()\n",
      "cdict=getclimbdict(c, db, AreaTable)"
     ],
     "language": "python",
     "metadata": {},
     "outputs": [],
     "prompt_number": 7
    },
    {
     "cell_type": "code",
     "collapsed": false,
     "input": [
      "cdict\n"
     ],
     "language": "python",
     "metadata": {},
     "outputs": [
      {
       "metadata": {},
       "output_type": "pyout",
       "prompt_number": 8,
       "text": [
        "{'_sa_instance_state': <sqlalchemy.orm.state.InstanceState at 0x7f7d0caa9d50>,\n",
        " 'area': 14213.0,\n",
        " 'areaname': 'Lower Grotto Wall',\n",
        " 'avgstars': 3.0,\n",
        " 'climbid': 12,\n",
        " 'description': 'Climbs moderate jugs to a bouldery bulge crux, makes an improbable move to a jug on the arete, then follows the arete to the anchor. \\nShares start with \\n (right of \\n).\\n9 bolts, chain anchor.',\n",
        " 'fa': 'Josh Gross, Madoline Wallace',\n",
        " 'grade': '5.12b',\n",
        " 'length': 90.0,\n",
        " 'locationdescrip': 'Shares start with \\n (right of \\n).\\n9 bolts, chain anchor.',\n",
        " 'mainarea': '14128',\n",
        " 'mainarea_name': 'Independence Pass',\n",
        " 'name': 'The Engagement',\n",
        " 'nest': \"South Section (Right Side) -- Rock Creek Cliff (Clif's Cliff) -- Southwest Cascades\",\n",
        " 'pageviews': 1183.0,\n",
        " 'pitch': 1.0,\n",
        " 'protection': '9 bolts, chain anchor.',\n",
        " 'region': 'Colorado',\n",
        " 'style': 'Sport',\n",
        " 'submittedby': 'Josh Gross',\n",
        " 'url': 'mountainproject.com/v/the-engagement/106189703'}"
       ]
      }
     ],
     "prompt_number": 8
    },
    {
     "cell_type": "code",
     "collapsed": false,
     "input": [
      "climbids=range(0,1000)\n",
      "c=db.session.query(ClimbTable).filter(ClimbTable.climbid.in_(climbids)).order_by('pageviews').all()[-10:]"
     ],
     "language": "python",
     "metadata": {},
     "outputs": [],
     "prompt_number": 30
    },
    {
     "cell_type": "code",
     "collapsed": false,
     "input": [
      "for inum,i in enumerate(c):\n",
      "    print i.name, i.pageviews"
     ],
     "language": "python",
     "metadata": {},
     "outputs": [
      {
       "output_type": "stream",
       "stream": "stdout",
       "text": [
        "Calypso 39833.0\n",
        "Kiener's Route 40828.0\n",
        "Crimson Chrysalis 51414.0\n",
        "Kor-Ingalls Route 56584.0\n",
        "The Naked Edge 57108.0\n",
        "Stolen Chimney 69700.0\n",
        "High Exposure 73382.0\n",
        "The Bastille Crack 84984.0\n",
        "Casual Route 94224.0\n",
        "The Nose 102232.0\n"
       ]
      }
     ],
     "prompt_number": 31
    },
    {
     "cell_type": "code",
     "collapsed": false,
     "input": [
      "x=db.session.query(ClimbTable).first().climbid"
     ],
     "language": "python",
     "metadata": {},
     "outputs": [],
     "prompt_number": 23
    },
    {
     "cell_type": "code",
     "collapsed": false,
     "input": [
      "float(x)"
     ],
     "language": "python",
     "metadata": {},
     "outputs": [
      {
       "metadata": {},
       "output_type": "pyout",
       "prompt_number": 26,
       "text": [
        "1.0"
       ]
      }
     ],
     "prompt_number": 26
    },
    {
     "cell_type": "code",
     "collapsed": false,
     "input": [],
     "language": "python",
     "metadata": {},
     "outputs": []
    }
   ],
   "metadata": {}
  }
 ]
}