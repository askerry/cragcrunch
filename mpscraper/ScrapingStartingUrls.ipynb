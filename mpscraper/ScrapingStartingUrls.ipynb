{
 "metadata": {
  "name": "",
  "signature": "sha256:5fcf8a96c7483398b89d0d579434ba60bfe731573b1cee2f5fd7c28fc273e4d0"
 },
 "nbformat": 3,
 "nbformat_minor": 0,
 "worksheets": [
  {
   "cells": [
    {
     "cell_type": "code",
     "collapsed": false,
     "input": [
      "pylab inline"
     ],
     "language": "python",
     "metadata": {},
     "outputs": [
      {
       "output_type": "stream",
       "stream": "stdout",
       "text": [
        "Populating the interactive namespace from numpy and matplotlib\n"
       ]
      }
     ],
     "prompt_number": 42
    },
    {
     "cell_type": "code",
     "collapsed": false,
     "input": [
      "#general\n",
      "import pandas as pd\n",
      "import numpy as np\n",
      "np.random.RandomState(100)\n",
      "from sqlalchemy import create_engine\n",
      "import MySQLdb\n",
      "import os\n",
      "import sys\n",
      "import us\n",
      "sys.setrecursionlimit(3000)\n",
      "\n",
      "#project specific code\n",
      "sys.path.append('mpscraper')\n",
      "from mpscraper.cfgdb import cfg\n",
      "sys.path.append('antools')"
     ],
     "language": "python",
     "metadata": {},
     "outputs": [],
     "prompt_number": 4
    },
    {
     "cell_type": "code",
     "collapsed": false,
     "input": [
      "#misc config\n",
      "rootdir=os.getcwd()\n",
      "while 'Projects' in rootdir:\n",
      "    rootdir=os.path.dirname(rootdir)\n",
      "rootdir=os.path.join(rootdir, 'Projects','cragcrunch')"
     ],
     "language": "python",
     "metadata": {},
     "outputs": [],
     "prompt_number": 5
    },
    {
     "cell_type": "code",
     "collapsed": false,
     "input": [
      "states=str(tuple([str(state.name) for state in us.states.STATES]))"
     ],
     "language": "python",
     "metadata": {},
     "outputs": [],
     "prompt_number": 21
    },
    {
     "cell_type": "code",
     "collapsed": false,
     "input": [
      "con=MySQLdb.connect(user=cfg.user, passwd=cfg.passwd, db=cfg.dbname, host=cfg.host, charset=cfg.charset, use_unicode=cfg.charset)\n",
      "#stateurls = pd.read_sql(\"SELECT name, region,url from Area where region in ('World', '* In Progress') and name in %s\" %(states), con)\n",
      "stateurls = pd.read_sql(\"SELECT name, region,url from Area\", con)"
     ],
     "language": "python",
     "metadata": {},
     "outputs": [],
     "prompt_number": 61
    },
    {
     "cell_type": "code",
     "collapsed": false,
     "input": [
      "urls=['http://www.mountainproject.com/v/africa/106135596','http://www.mountainproject.com/v/australia/105907756','http://www.mountainproject.com/v/asia/106661515','http://www.mountainproject.com/v/europe/106660030','http://www.mountainproject.com/v/north-america/106661469','http://www.mountainproject.com/v/oceania/107833406','http://www.mountainproject.com/v/south-america/106661603']\n",
      "newstates=pd.DataFrame(data={'name':['Africa', 'Australia', 'Asia', 'Europe', 'North America', 'Oceania', 'South America'], 'region':['World', 'World','World','World','World','World','World'], 'url':urls})"
     ],
     "language": "python",
     "metadata": {},
     "outputs": [],
     "prompt_number": 39
    },
    {
     "cell_type": "code",
     "collapsed": false,
     "input": [
      "stateurls=pd.concat([stateurls,newstates])"
     ],
     "language": "python",
     "metadata": {},
     "outputs": [],
     "prompt_number": 40
    },
    {
     "cell_type": "code",
     "collapsed": false,
     "input": [
      "with open(\"mpscraper/startingurls.txt\", 'wb') as f:\n",
      "    urls=stateurls.url.values\n",
      "    urls=[\"http://\"+url for url in urls]\n",
      "    f.write(', '.join(urls))"
     ],
     "language": "python",
     "metadata": {},
     "outputs": [],
     "prompt_number": 64
    },
    {
     "cell_type": "code",
     "collapsed": false,
     "input": [
      "with open(\"mpscraper/startingurls.txt\", 'rb') as f:\n",
      "    urls=f.read()\n",
      "    urls=urls.split(', ')"
     ],
     "language": "python",
     "metadata": {},
     "outputs": [],
     "prompt_number": 57
    },
    {
     "cell_type": "code",
     "collapsed": false,
     "input": [
      "len(stateurls)"
     ],
     "language": "python",
     "metadata": {},
     "outputs": [
      {
       "metadata": {},
       "output_type": "pyout",
       "prompt_number": 63,
       "text": [
        "26703"
       ]
      }
     ],
     "prompt_number": 63
    },
    {
     "cell_type": "code",
     "collapsed": false,
     "input": [],
     "language": "python",
     "metadata": {},
     "outputs": []
    }
   ],
   "metadata": {}
  }
 ]
}