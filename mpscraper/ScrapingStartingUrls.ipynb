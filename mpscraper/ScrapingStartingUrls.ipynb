{
 "metadata": {
  "name": "",
  "signature": "sha256:034d874e2fe8b71226b105304e9ea461d79378f3c987bbbd52b2970ecabfb7c3"
 },
 "nbformat": 3,
 "nbformat_minor": 0,
 "worksheets": [
  {
   "cells": [
    {
     "cell_type": "code",
     "collapsed": false,
     "input": [
      "pylab inline"
     ],
     "language": "python",
     "metadata": {},
     "outputs": [
      {
       "output_type": "stream",
       "stream": "stdout",
       "text": [
        "Populating the interactive namespace from numpy and matplotlib\n"
       ]
      }
     ],
     "prompt_number": 42
    },
    {
     "cell_type": "code",
     "collapsed": false,
     "input": [
      "#general\n",
      "import pandas as pd\n",
      "import numpy as np\n",
      "np.random.RandomState(100)\n",
      "from sqlalchemy import create_engine\n",
      "import MySQLdb\n",
      "import os\n",
      "import sys\n",
      "import us\n",
      "sys.setrecursionlimit(3000)\n",
      "\n",
      "#project specific code\n",
      "sys.path.append('mpscraper')\n",
      "from mpscraper.cfgdb import cfg\n",
      "sys.path.append('antools')"
     ],
     "language": "python",
     "metadata": {},
     "outputs": [],
     "prompt_number": 4
    },
    {
     "cell_type": "code",
     "collapsed": false,
     "input": [
      "#misc config\n",
      "rootdir=os.getcwd()\n",
      "while 'Projects' in rootdir:\n",
      "    rootdir=os.path.dirname(rootdir)\n",
      "rootdir=os.path.join(rootdir, 'Projects','cragcrunch')"
     ],
     "language": "python",
     "metadata": {},
     "outputs": [],
     "prompt_number": 5
    },
    {
     "cell_type": "code",
     "collapsed": false,
     "input": [
      "states=str(tuple([str(state.name) for state in us.states.STATES]))"
     ],
     "language": "python",
     "metadata": {},
     "outputs": [],
     "prompt_number": 21
    },
    {
     "cell_type": "code",
     "collapsed": false,
     "input": [
      "con=MySQLdb.connect(user=cfg.user, passwd=cfg.passwd, db=cfg.dbname, host=cfg.host, charset=cfg.charset, use_unicode=cfg.charset)\n",
      "stateurls = pd.read_sql(\"SELECT name, region,url from Area where region in ('World', '* In Progress') and name in %s\" %(states), con)"
     ],
     "language": "python",
     "metadata": {},
     "outputs": [],
     "prompt_number": 38
    },
    {
     "cell_type": "code",
     "collapsed": false,
     "input": [
      "urls=['http://www.mountainproject.com/v/africa/106135596','http://www.mountainproject.com/v/australia/105907756','http://www.mountainproject.com/v/asia/106661515','http://www.mountainproject.com/v/europe/106660030','http://www.mountainproject.com/v/north-america/106661469','http://www.mountainproject.com/v/oceania/107833406','http://www.mountainproject.com/v/south-america/106661603']\n",
      "newstates=pd.DataFrame(data={'name':['Africa', 'Australia', 'Asia', 'Europe', 'North America', 'Oceania', 'South America'], 'region':['World', 'World','World','World','World','World','World'], 'url':urls})"
     ],
     "language": "python",
     "metadata": {},
     "outputs": [],
     "prompt_number": 39
    },
    {
     "cell_type": "code",
     "collapsed": false,
     "input": [
      "stateurls=pd.concat([stateurls,newstates])"
     ],
     "language": "python",
     "metadata": {},
     "outputs": [],
     "prompt_number": 40
    },
    {
     "cell_type": "code",
     "collapsed": false,
     "input": [
      "with open(\"mpscraper/startingurls.txt\", 'wb') as f:\n",
      "    f.write(', '.join(stateurls.url.values))"
     ],
     "language": "python",
     "metadata": {},
     "outputs": [],
     "prompt_number": 48
    },
    {
     "cell_type": "code",
     "collapsed": false,
     "input": [
      "with open(\"mpscraper/startingurls.txt\", 'rb') as f:\n",
      "    urls=f.read()\n",
      "    urls=urls.split(', ')"
     ],
     "language": "python",
     "metadata": {},
     "outputs": [],
     "prompt_number": 52
    },
    {
     "cell_type": "code",
     "collapsed": false,
     "input": [],
     "language": "python",
     "metadata": {},
     "outputs": [],
     "prompt_number": 52
    },
    {
     "cell_type": "code",
     "collapsed": false,
     "input": [
      "urls"
     ],
     "language": "python",
     "metadata": {},
     "outputs": [
      {
       "metadata": {},
       "output_type": "pyout",
       "prompt_number": 53,
       "text": [
        "['mountainproject.com/v/new-hampshire/105872225',\n",
        " 'mountainproject.com/v/alaska/105909311',\n",
        " 'mountainproject.com/v/alabama/105905173',\n",
        " 'mountainproject.com/v/arizona/105708962',\n",
        " 'mountainproject.com/v/oregon/105708965',\n",
        " 'mountainproject.com/v/washington/105708966',\n",
        " 'mountainproject.com/v/california/105708959',\n",
        " 'mountainproject.com/v/colorado/105708956',\n",
        " 'mountainproject.com/v/wyoming/105708960',\n",
        " 'mountainproject.com/v/utah/105708957',\n",
        " 'mountainproject.com/v/montana/105907492',\n",
        " 'mountainproject.com/v/new-york/105800424',\n",
        " 'mountainproject.com/v/illinois/105911816',\n",
        " 'mountainproject.com/v/idaho/105708958',\n",
        " 'mountainproject.com/v/north-carolina/105873282',\n",
        " 'mountainproject.com/v/west-virginia/105855459',\n",
        " 'mountainproject.com/v/ohio/105994953',\n",
        " 'mountainproject.com/v/wisconsin/105708968',\n",
        " 'mountainproject.com/v/minnesota/105812481',\n",
        " 'mountainproject.com/v/south-dakota/105708963',\n",
        " 'mountainproject.com/v/arkansas/105901027',\n",
        " 'mountainproject.com/v/virginia/105852400',\n",
        " 'mountainproject.com/v/vermont/105891603',\n",
        " 'mountainproject.com/v/new-mexico/105708964',\n",
        " 'mountainproject.com/v/new-jersey/106374428',\n",
        " 'mountainproject.com/v/maine/105948977',\n",
        " 'mountainproject.com/v/massachusetts/105908062',\n",
        " 'mountainproject.com/v/tennessee/105887760',\n",
        " 'mountainproject.com/v/south-carolina-/107638915',\n",
        " 'mountainproject.com/v/nevada/105708961',\n",
        " 'mountainproject.com/v/texas/105835804',\n",
        " 'mountainproject.com/v/connecticut/105806977',\n",
        " 'mountainproject.com/v/pennsylvania/105913279',\n",
        " 'mountainproject.com/v/michigan/106113246',\n",
        " 'mountainproject.com/v/iowa/106092653',\n",
        " 'mountainproject.com/v/oklahoma/105854466',\n",
        " 'mountainproject.com/v/delaware/106861605',\n",
        " 'mountainproject.com/v/missouri/105899020',\n",
        " 'mountainproject.com/v/kentucky/105868674',\n",
        " 'mountainproject.com/v/kansas/107235316',\n",
        " 'mountainproject.com/v/maryland/106029417',\n",
        " 'mountainproject.com/v/georgia/105897947',\n",
        " 'mountainproject.com/v/rhode-island/106842810',\n",
        " 'mountainproject.com/v/north-dakota/106598130',\n",
        " 'mountainproject.com/v/mississippi/108307056',\n",
        " 'mountainproject.com/v/hawaii/106316122',\n",
        " 'http://www.mountainproject.com/v/africa/106135596',\n",
        " 'http://www.mountainproject.com/v/australia/105907756',\n",
        " 'http://www.mountainproject.com/v/asia/106661515',\n",
        " 'http://www.mountainproject.com/v/europe/106660030',\n",
        " 'http://www.mountainproject.com/v/north-america/106661469',\n",
        " 'http://www.mountainproject.com/v/oceania/107833406',\n",
        " 'http://www.mountainproject.com/v/south-america/106661603']"
       ]
      }
     ],
     "prompt_number": 53
    },
    {
     "cell_type": "code",
     "collapsed": false,
     "input": [],
     "language": "python",
     "metadata": {},
     "outputs": []
    }
   ],
   "metadata": {}
  }
 ]
}