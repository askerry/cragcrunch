{
 "metadata": {
  "name": "",
  "signature": "sha256:8e3684a52dcfbfe7bd67c3923054917db5e959160a5fefba96e4154fcb0285cf"
 },
 "nbformat": 3,
 "nbformat_minor": 0,
 "worksheets": [
  {
   "cells": [
    {
     "cell_type": "code",
     "collapsed": false,
     "input": [
      "import sys\n",
      "from scipy.io import mmread\n",
      "import pandas as pd\n",
      "import numpy as np\n",
      "np.random.RandomState(100)\n",
      "from sqlalchemy import create_engine\n",
      "import MySQLdb\n",
      "import os\n",
      "import sys\n",
      "sys.setrecursionlimit(3000)\n",
      "\n",
      "#project specific code\n",
      "sys.path.append('mpscraper')\n",
      "from mpscraper.cfgdb import cfg\n",
      "sys.path.append('antools')\n",
      "import antools.random as rd\n",
      "import antools.utilities as util\n",
      "import antools.clean as clean\n",
      "import antools.reduction as red\n",
      "import antools.miscdf as miscdf\n",
      "import antools.climbingcalcs as ccc"
     ],
     "language": "python",
     "metadata": {},
     "outputs": [],
     "prompt_number": 0
    },
    {
     "cell_type": "code",
     "collapsed": false,
     "input": [
      "import sys\n",
      "from scipy.io import mmread\n",
      "import numpy as np\n",
      "from math import exp\n",
      "import random\n",
      "    "
     ],
     "language": "python",
     "metadata": {},
     "outputs": [],
     "prompt_number": 2
    },
    {
     "cell_type": "code",
     "collapsed": false,
     "input": [
      "data=np.random.random([100,100])\n",
      "x[1,5]=2\n",
      "x[6,8]=6\n",
      "x[1,11]=7\n",
      "x[1,11]=7\n",
      "x[3,14]=1\n",
      "x[3,11]=2\n",
      "x[8,44]=6\n",
      "x[5,34]=7\n",
      "x[4,54]=7\n",
      "x[1,46]=1\n"
     ],
     "language": "python",
     "metadata": {},
     "outputs": [],
     "prompt_number": 6
    },
    {
     "cell_type": "code",
     "collapsed": false,
     "input": [
      "import bpr"
     ],
     "language": "python",
     "metadata": {},
     "outputs": [
      {
       "ename": "ImportError",
       "evalue": "No module named bpr",
       "output_type": "pyerr",
       "traceback": [
        "\u001b[0;31m---------------------------------------------------------------------------\u001b[0m\n\u001b[0;31mImportError\u001b[0m                               Traceback (most recent call last)",
        "\u001b[0;32m<ipython-input-9-58fae6095e7f>\u001b[0m in \u001b[0;36m<module>\u001b[0;34m()\u001b[0m\n\u001b[0;32m----> 1\u001b[0;31m \u001b[0;32mimport\u001b[0m \u001b[0mbpr\u001b[0m\u001b[0;34m\u001b[0m\u001b[0m\n\u001b[0m",
        "\u001b[0;31mImportError\u001b[0m: No module named bpr"
       ]
      }
     ],
     "prompt_number": 9
    },
    {
     "cell_type": "code",
     "collapsed": false,
     "input": [
      "args = BPRArgs()\n",
      "args.learning_rate = 0.3\n",
      "\n",
      "num_factors = 10\n",
      "model = BPR(num_factors,args)\n",
      "\n",
      "sample_negative_items_empirically = True\n",
      "sampler = UniformPairWithoutReplacement(sample_negative_items_empirically)\n",
      "num_iters = 10\n",
      "model.train(data,sampler,num_iters)"
     ],
     "language": "python",
     "metadata": {},
     "outputs": [
      {
       "ename": "NameError",
       "evalue": "name 'BPRArgs' is not defined",
       "output_type": "pyerr",
       "traceback": [
        "\u001b[0;31m---------------------------------------------------------------------------\u001b[0m\n\u001b[0;31mNameError\u001b[0m                                 Traceback (most recent call last)",
        "\u001b[0;32m<ipython-input-8-53c18f70bfd9>\u001b[0m in \u001b[0;36m<module>\u001b[0;34m()\u001b[0m\n\u001b[0;32m----> 1\u001b[0;31m \u001b[0margs\u001b[0m \u001b[0;34m=\u001b[0m \u001b[0mBPRArgs\u001b[0m\u001b[0;34m(\u001b[0m\u001b[0;34m)\u001b[0m\u001b[0;34m\u001b[0m\u001b[0m\n\u001b[0m\u001b[1;32m      2\u001b[0m \u001b[0margs\u001b[0m\u001b[0;34m.\u001b[0m\u001b[0mlearning_rate\u001b[0m \u001b[0;34m=\u001b[0m \u001b[0;36m0.3\u001b[0m\u001b[0;34m\u001b[0m\u001b[0m\n\u001b[1;32m      3\u001b[0m \u001b[0;34m\u001b[0m\u001b[0m\n\u001b[1;32m      4\u001b[0m \u001b[0mnum_factors\u001b[0m \u001b[0;34m=\u001b[0m \u001b[0;36m10\u001b[0m\u001b[0;34m\u001b[0m\u001b[0m\n\u001b[1;32m      5\u001b[0m \u001b[0mmodel\u001b[0m \u001b[0;34m=\u001b[0m \u001b[0mBPR\u001b[0m\u001b[0;34m(\u001b[0m\u001b[0mnum_factors\u001b[0m\u001b[0;34m,\u001b[0m\u001b[0margs\u001b[0m\u001b[0;34m)\u001b[0m\u001b[0;34m\u001b[0m\u001b[0m\n",
        "\u001b[0;31mNameError\u001b[0m: name 'BPRArgs' is not defined"
       ]
      }
     ],
     "prompt_number": 8
    },
    {
     "cell_type": "code",
     "collapsed": false,
     "input": [],
     "language": "python",
     "metadata": {},
     "outputs": [],
     "prompt_number": 9
    },
    {
     "cell_type": "code",
     "collapsed": false,
     "input": [],
     "language": "python",
     "metadata": {},
     "outputs": [],
     "prompt_number": 9
    },
    {
     "cell_type": "code",
     "collapsed": false,
     "input": [],
     "language": "python",
     "metadata": {},
     "outputs": [],
     "prompt_number": 9
    },
    {
     "cell_type": "markdown",
     "metadata": {},
     "source": [
      "Dumbest model:\n",
      "1) raw grades from others\n",
      "2) 1 + user scale\n",
      "3) 2 + grades of similar users\n",
      "4) upweight similar climbs (similar on user data, similar on objective features)"
     ]
    },
    {
     "cell_type": "code",
     "collapsed": false,
     "input": [],
     "language": "python",
     "metadata": {},
     "outputs": []
    }
   ],
   "metadata": {}
  }
 ]
}