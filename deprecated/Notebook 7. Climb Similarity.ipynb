{
 "metadata": {
  "name": "",
  "signature": "sha256:895b73e9fd8d68df0ce28465bd7965fbf469937208ac9cf59cae0f85d05a10f3"
 },
 "nbformat": 3,
 "nbformat_minor": 0,
 "worksheets": [
  {
   "cells": [
    {
     "cell_type": "markdown",
     "metadata": {},
     "source": [
      "#Characterize the similarity space of climbs"
     ]
    },
    {
     "cell_type": "markdown",
     "metadata": {},
     "source": [
      "I can now define climb-to-climb similarity using the same set of attributes I used to make individualized predictions. Unfortunately, I can't directly validate the performance of my similarity estimates. However, if rating predictions are reliable (which they are), this would suggest that the feature vectors capture a dimension of similarity that matters to people. Thus, I can use these features to construct a similarity space of climbs and to cluster climbs into different categories."
     ]
    },
    {
     "cell_type": "code",
     "collapsed": false,
     "input": [
      "pylab inline"
     ],
     "language": "python",
     "metadata": {},
     "outputs": [
      {
       "output_type": "stream",
       "stream": "stdout",
       "text": [
        "Populating the interactive namespace from numpy and matplotlib\n"
       ]
      }
     ],
     "prompt_number": 1
    },
    {
     "cell_type": "code",
     "collapsed": false,
     "input": [
      "%load_ext autoreload"
     ],
     "language": "python",
     "metadata": {},
     "outputs": [],
     "prompt_number": 2
    },
    {
     "cell_type": "markdown",
     "metadata": {},
     "source": [
      "###Setup"
     ]
    },
    {
     "cell_type": "code",
     "collapsed": false,
     "input": [
      "import pandas as pd\n",
      "pd.options.mode.chained_assignment = 'warn'  # default='warn', None, 'raise'\n",
      "#pd.options.display.memory_usage = True\n",
      "import numpy as np\n",
      "np.random.RandomState(100)\n",
      "from sqlalchemy import create_engine\n",
      "import os\n",
      "import sys\n",
      "sys.setrecursionlimit(3000)\n",
      "from joblib import Parallel, delayed  \n",
      "import multiprocessing\n",
      "num_cores = multiprocessing.cpu_count()\n",
      "print \"%s cores available for parallel processing\" % num_cores\n",
      "sys.path.append('mpscraper')\n",
      "sys.path.append('antools')\n",
      "import antools.modeling as mo\n",
      "from mpscraper.cfgdb import cfg\n",
      "import seaborn as sns\n",
      "sns.set_style('white')\n",
      "import matplotlib.pyplot as plt\n",
      "from sklearn.metrics.pairwise import pairwise_distances\n",
      "import sklearn.preprocessing"
     ],
     "language": "python",
     "metadata": {},
     "outputs": [
      {
       "output_type": "stream",
       "stream": "stdout",
       "text": [
        "4 cores available for parallel processing\n"
       ]
      }
     ],
     "prompt_number": 3
    },
    {
     "cell_type": "code",
     "collapsed": false,
     "input": [
      "import sys, os\n",
      "rootdir=os.getcwd()\n",
      "while 'Projects' in rootdir:\n",
      "    rootdir=os.path.dirname(rootdir)\n",
      "projdir=os.path.join(rootdir, 'Projects','cragcrunch','data')"
     ],
     "language": "python",
     "metadata": {},
     "outputs": [],
     "prompt_number": 4
    },
    {
     "cell_type": "code",
     "collapsed": false,
     "input": [
      "#load in preprocessed data\n",
      "engine = create_engine('mysql://%s@%s/%s?charset=%s&use_unicode=%s&passwd=%s' %(cfg.user, cfg.host, cfg.dbname, cfg.charset, cfg.use_unicode, cfg.passwd), pool_recycle=3600)\n",
      "cdf = pd.read_sql(\"SELECT * from climb_prepped where region ='California' or region ='New Hampshire'\", engine, index_col='index')\n",
      "adf = pd.read_sql(\"SELECT * from area_prepped where region = 'California' or region = 'New Hampshire'\", engine, index_col='index')\n",
      "climbs=list(cdf.climbid.unique())\n",
      "udf = pd.read_sql(\"SELECT * from climber_prepped\", engine, index_col='index')\n",
      "hdf= pd.read_sql(\"SELECT * from hits_prepped\", engine, index_col='index')\n",
      "sdf= pd.read_sql(\"SELECT * from stars_prepped\", engine, index_col='index')\n",
      "\n",
      "hdf=hdf.loc[hdf['climb'].isin(climbs)]\n",
      "allclimbs=hdf.climb.unique()\n",
      "allclimbers=hdf.climber.unique()"
     ],
     "language": "python",
     "metadata": {},
     "outputs": [],
     "prompt_number": 5
    },
    {
     "cell_type": "markdown",
     "metadata": {},
     "source": [
      "###Make climb similarity matrix using feature vectors from personalization"
     ]
    },
    {
     "cell_type": "code",
     "collapsed": false,
     "input": [
      "final_X = pd.read_sql(\"SELECT * from final_X_matrix\", engine, index_col='index')\n",
      "del final_X['climbid']\n",
      "final_X_red = pd.read_sql(\"SELECT * from final_X_matrix_red\", engine, index_col='index')\n",
      "del final_X_red['climbid']\n"
     ],
     "language": "python",
     "metadata": {},
     "outputs": [],
     "prompt_number": 6
    },
    {
     "cell_type": "code",
     "collapsed": false,
     "input": [
      "normalizer=sklearn.preprocessing.StandardScaler(copy=True, with_mean=True, with_std=True)"
     ],
     "language": "python",
     "metadata": {},
     "outputs": [],
     "prompt_number": 7
    },
    {
     "cell_type": "code",
     "collapsed": false,
     "input": [
      "inputdf=final_X\n",
      "sim=pairwise_distances(normalizer.fit_transform(inputdf.values), metric='cosine')\n",
      "simdf=pd.DataFrame(data=sim, columns=inputdf.index.values, index=inputdf.index.values)\n",
      "inputdf=final_X_red\n",
      "sim_red=pairwise_distances(normalizer.fit_transform(inputdf.values), metric='cosine')\n",
      "simdf_red=pd.DataFrame(data=sim_red, columns=inputdf.index.values, index=inputdf.index.values)"
     ],
     "language": "python",
     "metadata": {},
     "outputs": [],
     "prompt_number": 8
    },
    {
     "cell_type": "code",
     "collapsed": false,
     "input": [
      "plt.figure(figsize=[12,12])\n",
      "plt.imshow(sim)\n",
      "plt.show()"
     ],
     "language": "python",
     "metadata": {},
     "outputs": []
    },
    {
     "cell_type": "code",
     "collapsed": false,
     "input": [
      "plt.figure(figsize=[12,12])\n",
      "plt.imshow(sim_red)\n",
      "plt.show()"
     ],
     "language": "python",
     "metadata": {},
     "outputs": []
    },
    {
     "cell_type": "code",
     "collapsed": false,
     "input": [
      "canddict={}\n",
      "for climbid in cdf.index.values:\n",
      "    canddict[climbid]=mo.getsimilarclimbcandidates(climbid, cdf)"
     ],
     "language": "python",
     "metadata": {},
     "outputs": [],
     "prompt_number": 13
    },
    {
     "cell_type": "code",
     "collapsed": false,
     "input": [
      "mat=[]\n",
      "for climbid in cdf.index.values:\n",
      "    candidates=canddict[climbid]\n",
      "    similar, dissimilar=mo.gettopbottom(simdf, climbid, candidates, n=10)\n",
      "    mat.append([climbid]+list(similar))\n",
      "mat=[list(row) for row in mat]\n",
      "simpreds=pd.DataFrame(data=mat, columns=['climbid']+range(1,11))\n",
      "simpreds.index=simpreds.climbid.values"
     ],
     "language": "python",
     "metadata": {},
     "outputs": [],
     "prompt_number": 14
    },
    {
     "cell_type": "markdown",
     "metadata": {},
     "source": [
      "Use similarity matrix to precompute a set of similar climbs (using additional user-oriented constraints of matched state and difficulty)"
     ]
    },
    {
     "cell_type": "code",
     "collapsed": false,
     "input": [
      "#save top 10 similar climbs for all climbs in cdf\n",
      "chunksize=1000\n",
      "engine = create_engine('mysql://%s@%s/%s?charset=%s&use_unicode=%s&passwd=%s' %(cfg.user, cfg.host, cfg.dbname, cfg.charset, cfg.use_unicode, cfg.passwd), pool_recycle=3600)\n",
      "simpreds.to_sql('simclimbs', engine, if_exists='replace', chunksize=chunksize)"
     ],
     "language": "python",
     "metadata": {},
     "outputs": [],
     "prompt_number": 15
    },
    {
     "cell_type": "markdown",
     "metadata": {},
     "source": [
      "###Testing it out (the fun part)"
     ]
    },
    {
     "cell_type": "code",
     "collapsed": false,
     "input": [
      "testname=\"Double Cross\"\n",
      "climbid=cdf[cdf['name']==testname].climbid.values[0]\n",
      "candidates=mo.getsimilarclimbcandidates(climbid, cdf)\n",
      "similar, dissimilar=mo.gettopbottom(simdf, climbid, candidates, n=10)\n"
     ],
     "language": "python",
     "metadata": {},
     "outputs": [],
     "prompt_number": 16
    },
    {
     "cell_type": "code",
     "collapsed": false,
     "input": [
      "cdf.loc[similar,['region','grade','name','avgstars', 'mainarea']]"
     ],
     "language": "python",
     "metadata": {},
     "outputs": [
      {
       "html": [
        "<div style=\"max-height:1000px;max-width:1500px;overflow:auto;\">\n",
        "<table border=\"1\" class=\"dataframe\">\n",
        "  <thead>\n",
        "    <tr style=\"text-align: right;\">\n",
        "      <th></th>\n",
        "      <th>region</th>\n",
        "      <th>grade</th>\n",
        "      <th>name</th>\n",
        "      <th>avgstars</th>\n",
        "      <th>mainarea</th>\n",
        "    </tr>\n",
        "    <tr>\n",
        "      <th>index</th>\n",
        "      <th></th>\n",
        "      <th></th>\n",
        "      <th></th>\n",
        "      <th></th>\n",
        "      <th></th>\n",
        "    </tr>\n",
        "  </thead>\n",
        "  <tbody>\n",
        "    <tr>\n",
        "      <th>2030 </th>\n",
        "      <td> California</td>\n",
        "      <td> 5.8</td>\n",
        "      <td>              The Flake</td>\n",
        "      <td> 3.17857</td>\n",
        "      <td> 1569</td>\n",
        "    </tr>\n",
        "    <tr>\n",
        "      <th>3834 </th>\n",
        "      <td> California</td>\n",
        "      <td> 5.8</td>\n",
        "      <td>            Nurn's Romp</td>\n",
        "      <td> 2.55000</td>\n",
        "      <td> 1569</td>\n",
        "    </tr>\n",
        "    <tr>\n",
        "      <th>21712</th>\n",
        "      <td> California</td>\n",
        "      <td> 5.8</td>\n",
        "      <td>              Sail Away</td>\n",
        "      <td> 3.45362</td>\n",
        "      <td> 1569</td>\n",
        "    </tr>\n",
        "    <tr>\n",
        "      <th>1907 </th>\n",
        "      <td> California</td>\n",
        "      <td> 5.8</td>\n",
        "      <td> Breakfast of Champions</td>\n",
        "      <td> 3.33966</td>\n",
        "      <td> 1569</td>\n",
        "    </tr>\n",
        "    <tr>\n",
        "      <th>58668</th>\n",
        "      <td> California</td>\n",
        "      <td> 5.6</td>\n",
        "      <td>               Gargoyle</td>\n",
        "      <td> 2.55000</td>\n",
        "      <td> 1569</td>\n",
        "    </tr>\n",
        "    <tr>\n",
        "      <th>1582 </th>\n",
        "      <td> California</td>\n",
        "      <td> 5.7</td>\n",
        "      <td>        Overhang Bypass</td>\n",
        "      <td> 2.94315</td>\n",
        "      <td> 1569</td>\n",
        "    </tr>\n",
        "    <tr>\n",
        "      <th>1845 </th>\n",
        "      <td> California</td>\n",
        "      <td> 5.7</td>\n",
        "      <td>             Fingertrip</td>\n",
        "      <td> 3.53088</td>\n",
        "      <td> 4237</td>\n",
        "    </tr>\n",
        "    <tr>\n",
        "      <th>23436</th>\n",
        "      <td> California</td>\n",
        "      <td> 5.6</td>\n",
        "      <td>            Puppy Crack</td>\n",
        "      <td> 2.39444</td>\n",
        "      <td>  453</td>\n",
        "    </tr>\n",
        "    <tr>\n",
        "      <th>14407</th>\n",
        "      <td> California</td>\n",
        "      <td> 5.7</td>\n",
        "      <td>             Rock-a-Lot</td>\n",
        "      <td> 2.36429</td>\n",
        "      <td> 1569</td>\n",
        "    </tr>\n",
        "    <tr>\n",
        "      <th>4361 </th>\n",
        "      <td> California</td>\n",
        "      <td> 5.6</td>\n",
        "      <td>         Anti-Ego Crack</td>\n",
        "      <td> 2.25385</td>\n",
        "      <td>  453</td>\n",
        "    </tr>\n",
        "  </tbody>\n",
        "</table>\n",
        "</div>"
       ],
       "metadata": {},
       "output_type": "pyout",
       "prompt_number": 17,
       "text": [
        "           region grade                    name  avgstars  mainarea\n",
        "index                                                              \n",
        "2030   California   5.8               The Flake   3.17857      1569\n",
        "3834   California   5.8             Nurn's Romp   2.55000      1569\n",
        "21712  California   5.8               Sail Away   3.45362      1569\n",
        "1907   California   5.8  Breakfast of Champions   3.33966      1569\n",
        "58668  California   5.6                Gargoyle   2.55000      1569\n",
        "1582   California   5.7         Overhang Bypass   2.94315      1569\n",
        "1845   California   5.7              Fingertrip   3.53088      4237\n",
        "23436  California   5.6             Puppy Crack   2.39444       453\n",
        "14407  California   5.7              Rock-a-Lot   2.36429      1569\n",
        "4361   California   5.6          Anti-Ego Crack   2.25385       453"
       ]
      }
     ],
     "prompt_number": 17
    },
    {
     "cell_type": "code",
     "collapsed": false,
     "input": [
      "cdf.loc[dissimilar,['region','grade','name','avgstars', 'mainarea']]"
     ],
     "language": "python",
     "metadata": {},
     "outputs": [
      {
       "html": [
        "<div style=\"max-height:1000px;max-width:1500px;overflow:auto;\">\n",
        "<table border=\"1\" class=\"dataframe\">\n",
        "  <thead>\n",
        "    <tr style=\"text-align: right;\">\n",
        "      <th></th>\n",
        "      <th>region</th>\n",
        "      <th>grade</th>\n",
        "      <th>name</th>\n",
        "      <th>avgstars</th>\n",
        "      <th>mainarea</th>\n",
        "    </tr>\n",
        "    <tr>\n",
        "      <th>index</th>\n",
        "      <th></th>\n",
        "      <th></th>\n",
        "      <th></th>\n",
        "      <th></th>\n",
        "      <th></th>\n",
        "    </tr>\n",
        "  </thead>\n",
        "  <tbody>\n",
        "    <tr>\n",
        "      <th>11170</th>\n",
        "      <td> California</td>\n",
        "      <td> 5.7</td>\n",
        "      <td>     Claude's Delight</td>\n",
        "      <td> 2.20714</td>\n",
        "      <td>  453</td>\n",
        "    </tr>\n",
        "    <tr>\n",
        "      <th>4647 </th>\n",
        "      <td> California</td>\n",
        "      <td> 5.8</td>\n",
        "      <td>     Butthole Express</td>\n",
        "      <td> 2.05000</td>\n",
        "      <td> 1520</td>\n",
        "    </tr>\n",
        "    <tr>\n",
        "      <th>72434</th>\n",
        "      <td> California</td>\n",
        "      <td> 5.6</td>\n",
        "      <td>           Double Dip</td>\n",
        "      <td> 2.47549</td>\n",
        "      <td> 1569</td>\n",
        "    </tr>\n",
        "    <tr>\n",
        "      <th>1782 </th>\n",
        "      <td> California</td>\n",
        "      <td> 5.8</td>\n",
        "      <td>           Palmreader</td>\n",
        "      <td> 2.19167</td>\n",
        "      <td> 1569</td>\n",
        "    </tr>\n",
        "    <tr>\n",
        "      <th>9488 </th>\n",
        "      <td> California</td>\n",
        "      <td> 5.8</td>\n",
        "      <td> Catch A Falling Star</td>\n",
        "      <td> 2.51087</td>\n",
        "      <td> 1569</td>\n",
        "    </tr>\n",
        "    <tr>\n",
        "      <th>41000</th>\n",
        "      <td> California</td>\n",
        "      <td> 5.7</td>\n",
        "      <td>     Wings and Stings</td>\n",
        "      <td> 2.41667</td>\n",
        "      <td> 9082</td>\n",
        "    </tr>\n",
        "    <tr>\n",
        "      <th>37259</th>\n",
        "      <td> California</td>\n",
        "      <td> 5.8</td>\n",
        "      <td>        Trial By Fire</td>\n",
        "      <td> 2.55000</td>\n",
        "      <td>  453</td>\n",
        "    </tr>\n",
        "    <tr>\n",
        "      <th>14404</th>\n",
        "      <td> California</td>\n",
        "      <td> 5.7</td>\n",
        "      <td>             Minotaur</td>\n",
        "      <td> 2.10000</td>\n",
        "      <td> 1569</td>\n",
        "    </tr>\n",
        "    <tr>\n",
        "      <th>83350</th>\n",
        "      <td> California</td>\n",
        "      <td> 5.6</td>\n",
        "      <td>          Tranquility</td>\n",
        "      <td> 2.00000</td>\n",
        "      <td> 1569</td>\n",
        "    </tr>\n",
        "    <tr>\n",
        "      <th>23291</th>\n",
        "      <td> California</td>\n",
        "      <td> 5.7</td>\n",
        "      <td>        Free and Easy</td>\n",
        "      <td> 2.35000</td>\n",
        "      <td> 8542</td>\n",
        "    </tr>\n",
        "    <tr>\n",
        "      <th>17539</th>\n",
        "      <td> California</td>\n",
        "      <td> 5.7</td>\n",
        "      <td>          El Cap Tree</td>\n",
        "      <td> 2.46667</td>\n",
        "      <td>  453</td>\n",
        "    </tr>\n",
        "  </tbody>\n",
        "</table>\n",
        "</div>"
       ],
       "metadata": {},
       "output_type": "pyout",
       "prompt_number": 18,
       "text": [
        "           region grade                  name  avgstars  mainarea\n",
        "index                                                            \n",
        "11170  California   5.7      Claude's Delight   2.20714       453\n",
        "4647   California   5.8      Butthole Express   2.05000      1520\n",
        "72434  California   5.6            Double Dip   2.47549      1569\n",
        "1782   California   5.8            Palmreader   2.19167      1569\n",
        "9488   California   5.8  Catch A Falling Star   2.51087      1569\n",
        "41000  California   5.7      Wings and Stings   2.41667      9082\n",
        "37259  California   5.8         Trial By Fire   2.55000       453\n",
        "14404  California   5.7              Minotaur   2.10000      1569\n",
        "83350  California   5.6           Tranquility   2.00000      1569\n",
        "23291  California   5.7         Free and Easy   2.35000      8542\n",
        "17539  California   5.7           El Cap Tree   2.46667       453"
       ]
      }
     ],
     "prompt_number": 18
    },
    {
     "cell_type": "markdown",
     "metadata": {},
     "source": [
      "###Clustering/Dimensionality Reduction on Climbs"
     ]
    },
    {
     "cell_type": "markdown",
     "metadata": {},
     "source": [
      "playing around with some other clustering/dim reduction approaches to better understand the landscape of climbs"
     ]
    },
    {
     "cell_type": "code",
     "collapsed": false,
     "input": [
      "from sklearn import svm, cluster\n",
      "from sklearn.decomposition import PCA, FastICA\n",
      "from sklearn.cross_decomposition import PLSRegression\n",
      "from sklearn.cluster import AffinityPropagation\n",
      "from matplotlib.patches import FancyArrowPatch\n",
      "from mpl_toolkits.mplot3d import proj3d, Axes3D"
     ],
     "language": "python",
     "metadata": {},
     "outputs": [],
     "prompt_number": 86
    },
    {
     "cell_type": "code",
     "collapsed": false,
     "input": [
      "testmat=combmat"
     ],
     "language": "python",
     "metadata": {},
     "outputs": [],
     "prompt_number": 138
    },
    {
     "cell_type": "code",
     "collapsed": false,
     "input": [
      "hminicluster=mo.cluster(testmat, 'climbid', clustertype='kmeans', k=10)"
     ],
     "language": "python",
     "metadata": {},
     "outputs": [],
     "prompt_number": 139
    },
    {
     "cell_type": "code",
     "collapsed": false,
     "input": [
      "cdf.loc[hminicluster['climbid'].values,'cluster']=hminicluster['cluster'].values"
     ],
     "language": "python",
     "metadata": {},
     "outputs": [],
     "prompt_number": 119
    },
    {
     "cell_type": "code",
     "collapsed": false,
     "input": [
      "x=cdf[['climbid','name','grade','style','region','cluster','numerizedgrade']]\n",
      "x=x.dropna()"
     ],
     "language": "python",
     "metadata": {},
     "outputs": [],
     "prompt_number": 120
    },
    {
     "cell_type": "code",
     "collapsed": false,
     "input": [
      "#x.sort(columns='cluster')\n",
      "stds=x.groupby('cluster').std().numerizedgrade/np.sqrt(x.groupby('cluster').count().numerizedgrade.values)\n",
      "x.groupby('cluster').std().numerizedgrade.plot(kind='bar',yerr=stds)"
     ],
     "language": "python",
     "metadata": {},
     "outputs": [
      {
       "metadata": {},
       "output_type": "pyout",
       "prompt_number": 121,
       "text": [
        "<matplotlib.axes._subplots.AxesSubplot at 0x10c33ed90>"
       ]
      },
      {
       "metadata": {},
       "output_type": "display_data",
       "png": "[encoded data removed]",
       "text": [
        "<matplotlib.figure.Figure at 0x109bc10d0>"
       ]
      }
     ],
     "prompt_number": 121
    },
    {
     "cell_type": "code",
     "collapsed": false,
     "input": [
      "clf=AffinityPropagation()"
     ],
     "language": "python",
     "metadata": {},
     "outputs": []
    },
    {
     "cell_type": "code",
     "collapsed": false,
     "input": [
      "clusters=clf.fit_predict(mat.values.T)\n",
      "userclusterdf=pd.DataFrame(data={'cluster':clusters, 'climberid':mat.columns.values})\n",
      "userclusterdf=pd.merge(userclusterdf, udf, on='climberid', how='inner')[['climberid','cluster','name', 'g_median']]"
     ],
     "language": "python",
     "metadata": {},
     "outputs": []
    },
    {
     "cell_type": "code",
     "collapsed": false,
     "input": [
      "err=userclusterdf.groupby('cluster').mean()/np.sqrt(userclusterdf.groupby('cluster').count())\n",
      "userclusterdf.groupby('cluster').mean().g_median.plot(kind='bar', yerr=err)"
     ],
     "language": "python",
     "metadata": {},
     "outputs": []
    },
    {
     "cell_type": "code",
     "collapsed": false,
     "input": [
      "pcaobsscores, pcadimloadings, pcarecoveredinput, pcavarexplained=reduction(mat.values.T, reductiontype='PCA')\n",
      "pcaobsscores, pcadimloadings, pcarecoveredinput, pcavarexplained=reduction(mat.values.T, ncomp=2, reductiontype='PCA')#set this based on first screen plot\n",
      "plotinputincomponentspace(pcaobsscores, axislabels, axisdict, componentindices=[0, 1, 2])\n",
      "plotdimensionsincomponentspace(pcadimloadings, mat.index.values, mapping=None, componentindices=[0, 1, 2], title=None)"
     ],
     "language": "python",
     "metadata": {},
     "outputs": []
    },
    {
     "cell_type": "code",
     "collapsed": false,
     "input": [
      "def reduction(matrix, ncomp=None, reductiontype='PCA'):\n",
      "    #set up figure\n",
      "    f, ax = plt.subplots(1, 3, figsize=[10, 3])\n",
      "    if reductiontype == 'PCA':\n",
      "        ca = mcfg.PCA()\n",
      "    elif reductiontype == 'ICA':\n",
      "        ca = mcfg.ICA()\n",
      "    if ncomp:\n",
      "        ca.n_components = ncomp\n",
      "    #do basic reduction\n",
      "    obsscores = ca.fit_transform(matrix)  #scores of our observations on the 3 components\n",
      "    dimloadings = ca.components_  #loadings of initial data dimensions onto these components (eigenvectors)\n",
      "    recoveredinput = ca.inverse_transform(\n",
      "        obsscores)  #recomputed obs x dimension matrix based on scores on the components, and weights on components\n",
      "    if ncomp:  #if we know our intended # of components\n",
      "        plotmatrix(obsscores, xlabel='components', ylabel='observations', ax=ax[0], title='obsscores')\n",
      "        plotmatrix(dimloadings, xlabel='initial dimensions', ylabel='components', ax=ax[1], title='dim loadings')\n",
      "    else:  #if we are fitting an initial model to evaluate dimensions\n",
      "        plotmatrix(matrix, xlabel='initial dimensions', ylabel='initial observations', ax=ax[0],\n",
      "                       title='initial input')\n",
      "        if reductiontype == 'PCA':\n",
      "            plotscree(ca, ax=ax[1])\n",
      "    plotmatrix(recoveredinput, xlabel='initial dimensions', ylabel='transformed observations', ax=ax[2],\n",
      "                   title='recovered input (all components)')\n",
      "    plt.tight_layout()\n",
      "    print \"reduced to %s dimensions\" % (len(ca.components_))\n",
      "    if reductiontype == 'PCA':\n",
      "        print \"explaining %.3f%% of variance\" % (100 * np.sum(ca.explained_variance_ratio_))\n",
      "        varexplained=ca.explained_variance_ratio_\n",
      "    else:\n",
      "        varexplained=None\n",
      "    return obsscores, dimloadings, recoveredinput, varexplained\n",
      "\n",
      "def plotinputincomponentspace(obsscores, axislabels, mapping=None, componentindices=[0, 1, 2], title=None):\n",
      "    #plot observations on 3 components\n",
      "    componentindices=componentindices[:len(obsscores[0])]\n",
      "    data=obsscores[:, componentindices]\n",
      "    if mapping:\n",
      "        axisdims = list(set(mapping.values()))\n",
      "        colornums = sns.color_palette('husl', len(axisdims))\n",
      "        labelcolors = {el: colornums[eln] for eln, el in enumerate(axisdims)}\n",
      "        colors = [labelcolors[mapping[el]] for el in axislabels]\n",
      "    else:\n",
      "        colors='b'\n",
      "    if len(obsscores[0])==3:\n",
      "        ax=plot3d(data, colors=colors, dimname='component')\n",
      "    else:\n",
      "        ax=plot2d(data, colors=colors, dimname='component')\n",
      "    if mapping:\n",
      "        for label,name in mapping.items():\n",
      "            if len(obsscores[0])==3:\n",
      "                ax.text3D(obsscores[axislabels == label, 0].mean(),\n",
      "                          obsscores[axislabels == label, 1].mean(),\n",
      "                          obsscores[axislabels == label, 2].mean(), name,\n",
      "                          bbox=dict(alpha=.5, edgecolor='w', facecolor='w'))\n",
      "            else:\n",
      "                ax.text(obsscores[axislabels == label, 0].mean(),\n",
      "                          obsscores[axislabels == label, 1].mean(), name,\n",
      "                          bbox=dict(alpha=.5, edgecolor='w', facecolor='w'))\n",
      "def plotdimensionsincomponentspace(dimloadings, dimlabels, mapping=None, componentindices=[0, 1, 2], title=None):\n",
      "    #plot dimensions on 3 components\n",
      "    dimloadings=dimloadings.T\n",
      "    componentindices=componentindices[:len(dimloadings[0])]\n",
      "    data=dimloadings[:,componentindices]\n",
      "    if len(componentindices)==3:\n",
      "        ax=plot3d(data, dimname='component')\n",
      "    else:\n",
      "        ax=plot2d(data, dimname='component')\n",
      "    for labeln,label in enumerate(dimlabels):\n",
      "        if len(componentindices)==3:\n",
      "            ax.text3D(dimloadings[labeln][0],dimloadings[labeln][1],dimloadings[labeln][2], label,bbox=dict(alpha=.5, edgecolor='w', facecolor='w'))\n",
      "        else:\n",
      "            ax.text(dimloadings[labeln][0],dimloadings[labeln][1], label, bbox=dict(alpha=.5, edgecolor='w', facecolor='w'))\n",
      "def plotcomponentcorrs(obsscores, ax=None, label=''):\n",
      "    #sns.corrplot(pd.DataFrame(obsscores), method='pearson', annot=False, ax=ax)\n",
      "    correlations = pd.DataFrame(obsscores).corr(method='pearson').values\n",
      "    plotmatrix(correlations)\n",
      "    corrs = correlations[np.tril_indices(len(correlations), 1)]\n",
      "    plotmatrix(np.tril(correlations, -1), colorbar=False, figsize=[3, 2], ax=ax, xlabel=label)\n",
      "    plt.title('correlation of components in raw input space\\n mean corr= %.6f' % (np.mean(corrs)))\n",
      "    plt.tight_layout()\n",
      "def plotcompsininputspace(matrix, axislabels, dimloadings, varexplained, mapping=None, dimindices=[0, 1, 2], dimlabels=[],\n",
      "                               componentindices=[0,1,2], title=None, constant=None):  #plot observations on 3 components\n",
      "    #plot 3 components in input dimension space\n",
      "    data=matrix[:, dimindices]\n",
      "    components=dimloadings.T[:,dimindices]\n",
      "    if mapping:\n",
      "        axisdims = list(set(mapping.values()))\n",
      "        colornums = sns.color_palette('husl', len(axisdims))\n",
      "        labelcolors = {el: colornums[eln] for eln, el in enumerate(axisdims)}\n",
      "        colors = [labelcolors[mapping[el]] for el in axislabels]\n",
      "    else:\n",
      "        colors='b'\n",
      "    if len(dimlabels) > 0:\n",
      "        dimname = [dimlabels[el] for el in dimindices]\n",
      "    else:\n",
      "        dimname = 'input dim'\n",
      "    if len(dimindices)==3:\n",
      "        ax = plot3d(data, colors=colors, dimname=dimname)\n",
      "    else:\n",
      "        ax = plot2d(data, colors=colors, dimname=dimname)\n",
      "    ar=[np.max(data,axis=0)[index]-np.min(data,axis=0)[index] for index in range(len(dimindices))]\n",
      "    datamean = np.mean(data, axis=0)\n",
      "    for x in componentindices:\n",
      "        drawvector(components, x, datamean, ax, ar, constant)    \n",
      "    plt.show()\n",
      "def drawvector(eigenvectors, index, datamean, ax, ar, constant):\n",
      "    eigenvector=eigenvectors[index]\n",
      "    if not constant:\n",
      "        constant=5\n",
      "    scaler=constant/np.mean(ar)\n",
      "    x=(datamean[0],(eigenvector[0]*scaler+datamean[0]))\n",
      "    y=(datamean[1],(eigenvector[1]*scaler+datamean[1]))\n",
      "    if len(datamean)==2:\n",
      "        ax.text(x[1],y[1], index, bbox=dict(boxstyle=\"round\", fc=\"w\"))\n",
      "        arrow = ax.annotate('',xy=[x[1],y[1]], xycoords='data',xytext=[x[0],y[0]], textcoords='data',arrowprops=dict(facecolor='red', width=1))\n",
      "    else:\n",
      "        z=(datamean[2],eigenvector[2]*scaler+datamean[2])\n",
      "        a = Arrow3D(x, y, z, mutation_scale=10, lw=1, arrowstyle=\"-|>\", color=\"r\")\n",
      "        ax.add_artist(a)"
     ],
     "language": "python",
     "metadata": {},
     "outputs": [],
     "prompt_number": 88
    },
    {
     "cell_type": "code",
     "collapsed": false,
     "input": [
      "# configure main modeling parameters here\n",
      "class ModelConfig():\n",
      "    def SVM_model(self):\n",
      "        model = svm.SVC(C=.01, kernel='linear')  #svm.SVC implements multiclass as one vs. one\n",
      "        #SVC(C=1.0, cache_size=200, class_weight=None, coef0=0.0, degree=3,gamma=0.0, kernel='rbf', max_iter=-1, probability=False, random_state=None,shrinking=True, tol=0.001, verbose=False)\n",
      "        #model=svm.LinearSVC() #svm.LinearSVC() implements multiclass as one vs. test\n",
      "        #see http://scikit-learn.org/stable/modules/svm.html\n",
      "        return model\n",
      "\n",
      "    def PLSR_model(self, ncomp):\n",
      "        #PLS regression is particularly suited when the matrix of predictors has more variables than observations, and when there is multicollinearity among X values. By contrast, standard regression will fail in these cases.\n",
      "        model = PLSRegression(self, n_components=ncomp, scale=True)\n",
      "        return model\n",
      "\n",
      "    def KMEANS_model(self, numclust):\n",
      "        model = cluster.KMeans(n_clusters=numclust)\n",
      "        return model\n",
      "\n",
      "    def affinityprop(self):\n",
      "        ap = AffinityPropagation(damping=0.8, max_iter=500, affinity='euclidean', convergence_iter=25, copy=True,\n",
      "                                 preference=None)\n",
      "        return ap\n",
      "    \n",
      "    def PCA(self):\n",
      "        pca=PCA()\n",
      "        return pca\n",
      "    \n",
      "    def ICA(self):\n",
      "        ica=FastICA()\n",
      "        return ica\n",
      "\n",
      "    def printmodelparams(self):\n",
      "        print \"not implemented yet\"\n",
      "\n",
      "#set up config info to import into analysis        \n",
      "\n",
      "mcfg = ModelConfig()"
     ],
     "language": "python",
     "metadata": {},
     "outputs": [],
     "prompt_number": 89
    },
    {
     "cell_type": "code",
     "collapsed": false,
     "input": [
      "def plotmatrix(matrix, xlabel='', ylabel='', ax=None, title='', colorbar=False, figsize=[4, 3], xticklabels=[],\n",
      "               yticklabels=[]):\n",
      "    matrix = np.array(matrix)\n",
      "    if not ax:\n",
      "        f, ax = plt.subplots(figsize=figsize)\n",
      "    ax.set_ylim(0, len(matrix))\n",
      "    ax.set_xlim(0, len(matrix[0]))\n",
      "    ax.set_title(title)\n",
      "    im = ax.pcolor(matrix)\n",
      "    ax.set_xlabel(xlabel)\n",
      "    ax.set_ylabel(ylabel)\n",
      "    if len(xticklabels) > 0:\n",
      "        ax.set_xticks(np.arange(len(xticklabels)) + .5)\n",
      "        ax.set_xticklabels(xticklabels, rotation=90)\n",
      "    if len(yticklabels) > 0:\n",
      "        ax.set_yticks(range(len(yticklabels)))\n",
      "        ax.set_yticklabels(yticklabels)\n",
      "    if colorbar:\n",
      "        plt.colorbar(im)\n",
      "        #plt.colorbar(im, cax=ax)\n",
      "def plotscree(ca, ax=0):\n",
      "    if ax == 0:\n",
      "        f, ax = plt.subplots()\n",
      "    else:\n",
      "        ax.plot(ca.explained_variance_ratio_)\n",
      "        ax.set_title('scree plot')\n",
      "        ax.set_ylabel('variance explained')\n",
      "        ax.set_xlabel('eigenvector')\n",
      "def plot3d(matrix, colors=['b'], dimname='dimension', figsize=[4, 3]):\n",
      "    fig = plt.figure(figsize=figsize)\n",
      "    ax = Axes3D(fig, elev=-150, azim=110)\n",
      "    ax.scatter(matrix[:, 0], matrix[:, 1], matrix[:, 2], c=colors, cmap=plt.cm.spectral)\n",
      "    if type(dimname) == str:\n",
      "        dimname = [dimname for el in range(3)]\n",
      "    ax.set_xlabel('%s #%s' % (dimname[0], 0))\n",
      "    ax.set_ylabel('%s #%s' % (dimname[1], 1))\n",
      "    ax.set_zlabel('%s #%s' % (dimname[2], 2))\n",
      "    return ax\n",
      "def plot2d(matrix, colors=['b'], dimname='dimension', figsize=[4, 3]):\n",
      "    fig, ax = plt.subplots(figsize=figsize)\n",
      "    ax.scatter(matrix[:, 0], matrix[:, 1], c=colors, cmap=plt.cm.spectral)\n",
      "    if type(dimname) == str:\n",
      "        dimname = [dimname for el in range(2)]\n",
      "    ax.set_xlabel('%s #%s' % (dimname[0], 0))\n",
      "    ax.set_ylabel('%s #%s' % (dimname[1], 1))\n",
      "    return ax\n",
      "class Arrow3D(FancyArrowPatch):\n",
      "    def __init__(self, xs, ys, zs, *args, **kwargs):\n",
      "        FancyArrowPatch.__init__(self, (0, 0), (0, 0), *args, **kwargs)\n",
      "        self._verts3d = xs, ys, zs\n",
      "    def draw(self, renderer):\n",
      "        with warnings.catch_warnings():\n",
      "            warnings.simplefilter(\"ignore\")\n",
      "            xs3d, ys3d, zs3d = self._verts3d\n",
      "            xs, ys, zs = proj3d.proj_transform(xs3d, ys3d, zs3d, renderer.M)\n",
      "            self.set_positions((xs[0], ys[0]), (xs[1], ys[1]))\n",
      "            FancyArrowPatch.draw(self, renderer)\n"
     ],
     "language": "python",
     "metadata": {},
     "outputs": [],
     "prompt_number": 90
    }
   ],
   "metadata": {}
  }
 ]
}