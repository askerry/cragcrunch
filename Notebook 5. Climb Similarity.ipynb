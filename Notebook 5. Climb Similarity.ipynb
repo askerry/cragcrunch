{
 "metadata": {
  "name": "",
  "signature": "sha256:4be2eb73e410feab57c41808897f13281587f5514420c88c97eccd485b6c78b5"
 },
 "nbformat": 3,
 "nbformat_minor": 0,
 "worksheets": [
  {
   "cells": [
    {
     "cell_type": "code",
     "collapsed": false,
     "input": [
      "pylab inline"
     ],
     "language": "python",
     "metadata": {},
     "outputs": [
      {
       "output_type": "stream",
       "stream": "stdout",
       "text": [
        "Populating the interactive namespace from numpy and matplotlib\n"
       ]
      }
     ],
     "prompt_number": 1
    },
    {
     "cell_type": "code",
     "collapsed": false,
     "input": [
      "%load_ext autoreload"
     ],
     "language": "python",
     "metadata": {},
     "outputs": [],
     "prompt_number": 2
    },
    {
     "cell_type": "code",
     "collapsed": false,
     "input": [
      "import pandas as pd\n",
      "pd.options.mode.chained_assignment = 'warn'  # default='warn', None, 'raise'\n",
      "#pd.options.display.memory_usage = True\n",
      "import numpy as np\n",
      "np.random.RandomState(100)\n",
      "from sqlalchemy import create_engine\n",
      "import os\n",
      "import sys\n",
      "sys.setrecursionlimit(3000)\n",
      "from joblib import Parallel, delayed  \n",
      "import multiprocessing\n",
      "num_cores = multiprocessing.cpu_count()\n",
      "print \"%s cores available for parallel processing\" % num_cores\n",
      "sys.path.append('mpscraper')\n",
      "sys.path.append('antools')\n",
      "import antools.modeling as mo\n",
      "from mpscraper.cfgdb import cfg\n",
      "import seaborn as sns\n",
      "sns.set_style('white')\n",
      "import matplotlib.pyplot as plt\n",
      "from sklearn.metrics.pairwise import pairwise_distances"
     ],
     "language": "python",
     "metadata": {},
     "outputs": [
      {
       "output_type": "stream",
       "stream": "stdout",
       "text": [
        "4 cores available for parallel processing\n"
       ]
      }
     ],
     "prompt_number": 3
    },
    {
     "cell_type": "code",
     "collapsed": false,
     "input": [
      "import sys, os\n",
      "rootdir=os.getcwd()\n",
      "while 'Projects' in rootdir:\n",
      "    rootdir=os.path.dirname(rootdir)\n",
      "projdir=os.path.join(rootdir, 'Projects','cragcrunch','data')"
     ],
     "language": "python",
     "metadata": {},
     "outputs": [],
     "prompt_number": 35
    },
    {
     "cell_type": "code",
     "collapsed": false,
     "input": [
      "#load in preprocessed data\n",
      "engine = create_engine('mysql://%s@%s/%s?charset=%s&use_unicode=%s&passwd=%s' %(cfg.user, cfg.host, cfg.dbname, cfg.charset, cfg.use_unicode, cfg.passwd), pool_recycle=3600)\n",
      "cdf = pd.read_sql(\"SELECT * from climb_prepped\", engine, index_col='index')\n",
      "adf = pd.read_sql(\"SELECT * from area_prepped\", engine, index_col='index')\n",
      "sdf = pd.read_sql(\"SELECT * from stars_prepped\", engine, index_col='index')\n",
      "climbs=list(cdf.climbid.unique())\n",
      "udf = pd.read_sql(\"SELECT * from climber_prepped\", engine, index_col='index')\n",
      "hdf= pd.read_sql(\"SELECT * from hits_prepped\", engine, index_col='index')\n",
      "hdf=hdf.loc[hdf['climb'].isin(climbs)]\n",
      "sdf=sdf.loc[sdf['climb'].isin(climbs)]\n",
      "allclimbs=np.array([a for a in hdf.climb.unique() if a in sdf.climb.unique()])\n",
      "allclimbers=np.array([a for a in hdf.climber.unique() if a in sdf.climber.unique()])\n",
      "print len(allclimbs)\n",
      "print len(allclimbers)\n",
      "cdf=cdf.loc[allclimbs,:]\n",
      "hdf=hdf.loc[hdf['climb'].isin(allclimbs)]\n",
      "hdf=hdf.loc[hdf['climber'].isin(allclimbers)]\n",
      "sdf=sdf.loc[sdf['climb'].isin(allclimbs)]\n",
      "sdf=sdf.loc[sdf['climber'].isin(allclimbers)]"
     ],
     "language": "python",
     "metadata": {},
     "outputs": [
      {
       "output_type": "stream",
       "stream": "stdout",
       "text": [
        "2424\n",
        "105\n"
       ]
      }
     ],
     "prompt_number": 36
    },
    {
     "cell_type": "code",
     "collapsed": false,
     "input": [
      "distance_metric='cosine'\n",
      "#[\u2018cityblock\u2019, \u2018cosine\u2019, \u2018euclidean\u2019, \u2018l1\u2019, \u2018l2\u2019, \u2018manhattan\u2019]\n",
      " #['jaccard',\u2018braycurtis\u2019, \u2018canberra\u2019, \u2018chebyshev\u2019, \u2018correlation\u2019, \u2018dice\u2019, \u2018hamming\u2019, \u2018jaccard\u2019, \u2018kulsinski\u2019, \u2018mahalanobis\u2019, \u2018matching\u2019, \u2018minkowski\u2019, \u2018rogerstanimoto\u2019, \u2018russellrao\u2019, \u2018seuclidean\u2019, \u2018sokalmichener\u2019, \u2018sokalsneath\u2019, \u2018sqeuclidean\u2019, \u2018yule\u2019]"
     ],
     "language": "python",
     "metadata": {},
     "outputs": [],
     "prompt_number": 37
    },
    {
     "cell_type": "heading",
     "level": 2,
     "metadata": {},
     "source": [
      "User similarity (Climb x Climber Matrix) based on hits and based on star ratings"
     ]
    },
    {
     "cell_type": "code",
     "collapsed": false,
     "input": [
      "%autoreload\n",
      "hitmat=mo.computeinteractionmatrix(allclimbs, allclimbers, hdf)\n",
      "print hitmat.shape"
     ],
     "language": "python",
     "metadata": {},
     "outputs": [
      {
       "output_type": "stream",
       "stream": "stdout",
       "text": [
        "(2221, 103)\n"
       ]
      }
     ],
     "prompt_number": 38
    },
    {
     "cell_type": "code",
     "collapsed": false,
     "input": [
      "%autoreload\n",
      "starmat=mo.computestarmatrix(allclimbs, allclimbers, sdf)\n",
      "print starmat.shape"
     ],
     "language": "python",
     "metadata": {},
     "outputs": [
      {
       "output_type": "stream",
       "stream": "stdout",
       "text": [
        "(1873, 103)\n"
       ]
      }
     ],
     "prompt_number": 39
    },
    {
     "cell_type": "code",
     "collapsed": false,
     "input": [
      "chunksize=1000\n",
      "engine = create_engine('mysql://%s@%s/%s?charset=%s&use_unicode=%s&passwd=%s' %(cfg.user, cfg.host, cfg.dbname, cfg.charset, cfg.use_unicode, cfg.passwd), pool_recycle=3600)\n",
      "hitmat.to_sql('hit_matrix', engine, if_exists='replace', chunksize=chunksize)\n",
      "starmat.to_sql('star_matrix', engine, if_exists='replace', chunksize=500)"
     ],
     "language": "python",
     "metadata": {},
     "outputs": [],
     "prompt_number": 40
    },
    {
     "cell_type": "code",
     "collapsed": false,
     "input": [
      "u_sim=pairwise_distances(hitmat.values, metric=distance_metric)"
     ],
     "language": "python",
     "metadata": {},
     "outputs": [],
     "prompt_number": 43
    },
    {
     "cell_type": "code",
     "collapsed": false,
     "input": [
      "x[starmat.index.values]=starmat.apply(mo.computepairwisesimilarity, df=starmat, similaritymetric=distance_metric, axis=1)"
     ],
     "language": "python",
     "metadata": {},
     "outputs": [
      {
       "ename": "NameError",
       "evalue": "name 'x' is not defined",
       "output_type": "pyerr",
       "traceback": [
        "\u001b[0;31m---------------------------------------------------------------------------\u001b[0m\n\u001b[0;31mNameError\u001b[0m                                 Traceback (most recent call last)",
        "\u001b[0;32m<ipython-input-71-fe610799936a>\u001b[0m in \u001b[0;36m<module>\u001b[0;34m()\u001b[0m\n\u001b[0;32m----> 1\u001b[0;31m \u001b[0mx\u001b[0m\u001b[0;34m[\u001b[0m\u001b[0mstarmat\u001b[0m\u001b[0;34m.\u001b[0m\u001b[0mindex\u001b[0m\u001b[0;34m.\u001b[0m\u001b[0mvalues\u001b[0m\u001b[0;34m]\u001b[0m\u001b[0;34m=\u001b[0m\u001b[0mstarmat\u001b[0m\u001b[0;34m.\u001b[0m\u001b[0mapply\u001b[0m\u001b[0;34m(\u001b[0m\u001b[0mmo\u001b[0m\u001b[0;34m.\u001b[0m\u001b[0mcomputepairwisesimilarity\u001b[0m\u001b[0;34m,\u001b[0m \u001b[0mdf\u001b[0m\u001b[0;34m=\u001b[0m\u001b[0mstarmat\u001b[0m\u001b[0;34m,\u001b[0m \u001b[0msimilaritymetric\u001b[0m\u001b[0;34m=\u001b[0m\u001b[0mdistance_metric\u001b[0m\u001b[0;34m,\u001b[0m \u001b[0maxis\u001b[0m\u001b[0;34m=\u001b[0m\u001b[0;36m1\u001b[0m\u001b[0;34m)\u001b[0m\u001b[0;34m\u001b[0m\u001b[0m\n\u001b[0m",
        "\u001b[0;31mNameError\u001b[0m: name 'x' is not defined"
       ]
      }
     ],
     "prompt_number": 71
    },
    {
     "cell_type": "code",
     "collapsed": false,
     "input": [],
     "language": "python",
     "metadata": {},
     "outputs": [
      {
       "metadata": {},
       "output_type": "pyout",
       "prompt_number": 70,
       "text": [
        "1873"
       ]
      }
     ],
     "prompt_number": 70
    },
    {
     "cell_type": "code",
     "collapsed": false,
     "input": [
      "u_sim_star[starmat.index.values]"
     ],
     "language": "python",
     "metadata": {},
     "outputs": [
      {
       "metadata": {},
       "output_type": "pyout",
       "prompt_number": 64,
       "text": [
        "44275    [2.22044604925e-16, 0.0, 0.0, 0.0, 0.0, 0.0, 0...\n",
        "4954     [0.0, 0.0, 0.0, 0.0, 0.0, 0.0, 0.0, 0.0, 0.0, ...\n",
        "4955     [0.0, 0.0, 2.22044604925e-16, 0.0, 0.0, 0.0, 0...\n",
        "4938     [0.0, 0.0, 0.0, 0.0, 0.0, 0.0, 0.0, 0.0, 0.0, ...\n",
        "4959     [0.0, 0.0, 0.0, 0.0, -2.22044604925e-16, 0.0, ...\n",
        "4941     [0.0, 0.0, 0.0, 0.0, 0.0, 0.0, 0.0, 0.0, 0.0, ...\n",
        "75294    [0.0, 0.0, 0.0, 0.0, 0.0, 0.0, 0.0, 0.0, 0.0, ...\n",
        "5194     [0.0, 0.0, 0.0, 0.0, 0.0, 0.0, 0.0, -2.2204460...\n",
        "4723     [0.0, 0.0, 0.0, 0.0, 0.0, 0.0, 0.0, 0.0, 0.0, ...\n",
        "5195     [0.0, 0.0, 0.0, 0.0, 0.0, 0.0, 0.0, 0.0, 0.0, ...\n",
        "531      [0.0, 0.0, 0.0, 0.0, 0.0, 0.0, 0.0, 0.00816340...\n",
        "2321     [0.0, 0.0, 0.0, 0.0, 0.0, 0.0, 0.0, 0.0, 0.0, ...\n",
        "5234     [2.22044604925e-16, 0.0, 0.0, 0.0, 0.0, 0.0, 0...\n",
        "5247     [0.0513167019495, 0.0, 0.0, 0.0, 0.05131670194...\n",
        "1571     [nan, nan, nan, nan, nan, nan, nan, nan, nan, ...\n",
        "...\n",
        "49646     [nan, nan, nan, nan, nan, nan, nan, nan, nan, ...\n",
        "9486      [nan, nan, nan, nan, nan, nan, nan, nan, nan, ...\n",
        "18881     [nan, nan, nan, nan, nan, 0.0, nan, nan, nan, ...\n",
        "4734      [nan, nan, nan, nan, nan, 0.0, nan, nan, nan, ...\n",
        "49042     [nan, nan, nan, nan, nan, nan, nan, nan, nan, ...\n",
        "31813     [nan, nan, nan, nan, nan, nan, nan, nan, nan, ...\n",
        "31822     [nan, nan, nan, nan, nan, nan, nan, nan, nan, ...\n",
        "80130     [nan, nan, nan, nan, nan, nan, nan, nan, nan, ...\n",
        "38259     [nan, nan, nan, nan, nan, nan, nan, nan, nan, ...\n",
        "38206     [nan, nan, nan, nan, nan, nan, nan, nan, nan, ...\n",
        "40919     [nan, nan, nan, nan, nan, nan, nan, nan, nan, ...\n",
        "4761      [nan, nan, nan, nan, nan, nan, nan, nan, nan, ...\n",
        "41218     [nan, nan, nan, nan, nan, nan, nan, nan, nan, ...\n",
        "114864    [nan, nan, nan, nan, nan, nan, nan, nan, nan, ...\n",
        "23364     [nan, nan, nan, nan, nan, nan, nan, nan, nan, ...\n",
        "Length: 1873, dtype: object"
       ]
      }
     ],
     "prompt_number": 64
    },
    {
     "cell_type": "code",
     "collapsed": false,
     "input": [
      "u_sim=pd.DataFrame(index=hitmat.index.values, columns=hitmat.index.values, data=u_sim)\n",
      "u_sim_star=pd.DataFrame(index=starmat.index.values, columns=starmat.index.values, data=u_sim_star)"
     ],
     "language": "python",
     "metadata": {},
     "outputs": [
      {
       "ename": "ValueError",
       "evalue": "Shape of passed values is (1, 1873), indices imply (1873, 1873)",
       "output_type": "pyerr",
       "traceback": [
        "\u001b[0;31m---------------------------------------------------------------------------\u001b[0m\n\u001b[0;31mValueError\u001b[0m                                Traceback (most recent call last)",
        "\u001b[0;32m<ipython-input-47-6a0f85e4629a>\u001b[0m in \u001b[0;36m<module>\u001b[0;34m()\u001b[0m\n\u001b[1;32m      1\u001b[0m \u001b[0mu_sim\u001b[0m\u001b[0;34m=\u001b[0m\u001b[0mpd\u001b[0m\u001b[0;34m.\u001b[0m\u001b[0mDataFrame\u001b[0m\u001b[0;34m(\u001b[0m\u001b[0mindex\u001b[0m\u001b[0;34m=\u001b[0m\u001b[0mhitmat\u001b[0m\u001b[0;34m.\u001b[0m\u001b[0mindex\u001b[0m\u001b[0;34m.\u001b[0m\u001b[0mvalues\u001b[0m\u001b[0;34m,\u001b[0m \u001b[0mcolumns\u001b[0m\u001b[0;34m=\u001b[0m\u001b[0mhitmat\u001b[0m\u001b[0;34m.\u001b[0m\u001b[0mindex\u001b[0m\u001b[0;34m.\u001b[0m\u001b[0mvalues\u001b[0m\u001b[0;34m,\u001b[0m \u001b[0mdata\u001b[0m\u001b[0;34m=\u001b[0m\u001b[0mu_sim\u001b[0m\u001b[0;34m)\u001b[0m\u001b[0;34m\u001b[0m\u001b[0m\n\u001b[0;32m----> 2\u001b[0;31m \u001b[0mu_sim_star\u001b[0m\u001b[0;34m=\u001b[0m\u001b[0mpd\u001b[0m\u001b[0;34m.\u001b[0m\u001b[0mDataFrame\u001b[0m\u001b[0;34m(\u001b[0m\u001b[0mindex\u001b[0m\u001b[0;34m=\u001b[0m\u001b[0mstarmat\u001b[0m\u001b[0;34m.\u001b[0m\u001b[0mindex\u001b[0m\u001b[0;34m.\u001b[0m\u001b[0mvalues\u001b[0m\u001b[0;34m,\u001b[0m \u001b[0mcolumns\u001b[0m\u001b[0;34m=\u001b[0m\u001b[0mstarmat\u001b[0m\u001b[0;34m.\u001b[0m\u001b[0mindex\u001b[0m\u001b[0;34m.\u001b[0m\u001b[0mvalues\u001b[0m\u001b[0;34m,\u001b[0m \u001b[0mdata\u001b[0m\u001b[0;34m=\u001b[0m\u001b[0mu_sim_star\u001b[0m\u001b[0;34m)\u001b[0m\u001b[0;34m\u001b[0m\u001b[0m\n\u001b[0m",
        "\u001b[0;32m/usr/local/lib/python2.7/site-packages/pandas/core/frame.pyc\u001b[0m in \u001b[0;36m__init__\u001b[0;34m(self, data, index, columns, dtype, copy)\u001b[0m\n\u001b[1;32m    237\u001b[0m             \u001b[0;32melse\u001b[0m\u001b[0;34m:\u001b[0m\u001b[0;34m\u001b[0m\u001b[0m\n\u001b[1;32m    238\u001b[0m                 mgr = self._init_ndarray(data, index, columns, dtype=dtype,\n\u001b[0;32m--> 239\u001b[0;31m                                          copy=copy)\n\u001b[0m\u001b[1;32m    240\u001b[0m         \u001b[0;32melif\u001b[0m \u001b[0misinstance\u001b[0m\u001b[0;34m(\u001b[0m\u001b[0mdata\u001b[0m\u001b[0;34m,\u001b[0m \u001b[0;34m(\u001b[0m\u001b[0mlist\u001b[0m\u001b[0;34m,\u001b[0m \u001b[0mtypes\u001b[0m\u001b[0;34m.\u001b[0m\u001b[0mGeneratorType\u001b[0m\u001b[0;34m)\u001b[0m\u001b[0;34m)\u001b[0m\u001b[0;34m:\u001b[0m\u001b[0;34m\u001b[0m\u001b[0m\n\u001b[1;32m    241\u001b[0m             \u001b[0;32mif\u001b[0m \u001b[0misinstance\u001b[0m\u001b[0;34m(\u001b[0m\u001b[0mdata\u001b[0m\u001b[0;34m,\u001b[0m \u001b[0mtypes\u001b[0m\u001b[0;34m.\u001b[0m\u001b[0mGeneratorType\u001b[0m\u001b[0;34m)\u001b[0m\u001b[0;34m:\u001b[0m\u001b[0;34m\u001b[0m\u001b[0m\n",
        "\u001b[0;32m/usr/local/lib/python2.7/site-packages/pandas/core/frame.pyc\u001b[0m in \u001b[0;36m_init_ndarray\u001b[0;34m(self, values, index, columns, dtype, copy)\u001b[0m\n\u001b[1;32m    397\u001b[0m \u001b[0;34m\u001b[0m\u001b[0m\n\u001b[1;32m    398\u001b[0m         \u001b[0mindex\u001b[0m\u001b[0;34m,\u001b[0m \u001b[0mcolumns\u001b[0m \u001b[0;34m=\u001b[0m \u001b[0m_get_axes\u001b[0m\u001b[0;34m(\u001b[0m\u001b[0;34m*\u001b[0m\u001b[0mvalues\u001b[0m\u001b[0;34m.\u001b[0m\u001b[0mshape\u001b[0m\u001b[0;34m)\u001b[0m\u001b[0;34m\u001b[0m\u001b[0m\n\u001b[0;32m--> 399\u001b[0;31m         \u001b[0;32mreturn\u001b[0m \u001b[0mcreate_block_manager_from_blocks\u001b[0m\u001b[0;34m(\u001b[0m\u001b[0;34m[\u001b[0m\u001b[0mvalues\u001b[0m\u001b[0;34m.\u001b[0m\u001b[0mT\u001b[0m\u001b[0;34m]\u001b[0m\u001b[0;34m,\u001b[0m \u001b[0;34m[\u001b[0m\u001b[0mcolumns\u001b[0m\u001b[0;34m,\u001b[0m \u001b[0mindex\u001b[0m\u001b[0;34m]\u001b[0m\u001b[0;34m)\u001b[0m\u001b[0;34m\u001b[0m\u001b[0m\n\u001b[0m\u001b[1;32m    400\u001b[0m \u001b[0;34m\u001b[0m\u001b[0m\n\u001b[1;32m    401\u001b[0m     \u001b[0;34m@\u001b[0m\u001b[0mproperty\u001b[0m\u001b[0;34m\u001b[0m\u001b[0m\n",
        "\u001b[0;32m/usr/local/lib/python2.7/site-packages/pandas/core/internals.pyc\u001b[0m in \u001b[0;36mcreate_block_manager_from_blocks\u001b[0;34m(blocks, axes)\u001b[0m\n\u001b[1;32m   3570\u001b[0m         \u001b[0mblocks\u001b[0m \u001b[0;34m=\u001b[0m \u001b[0;34m[\u001b[0m\u001b[0mgetattr\u001b[0m\u001b[0;34m(\u001b[0m\u001b[0mb\u001b[0m\u001b[0;34m,\u001b[0m \u001b[0;34m'values'\u001b[0m\u001b[0;34m,\u001b[0m \u001b[0mb\u001b[0m\u001b[0;34m)\u001b[0m \u001b[0;32mfor\u001b[0m \u001b[0mb\u001b[0m \u001b[0;32min\u001b[0m \u001b[0mblocks\u001b[0m\u001b[0;34m]\u001b[0m\u001b[0;34m\u001b[0m\u001b[0m\n\u001b[1;32m   3571\u001b[0m         \u001b[0mtot_items\u001b[0m \u001b[0;34m=\u001b[0m \u001b[0msum\u001b[0m\u001b[0;34m(\u001b[0m\u001b[0mb\u001b[0m\u001b[0;34m.\u001b[0m\u001b[0mshape\u001b[0m\u001b[0;34m[\u001b[0m\u001b[0;36m0\u001b[0m\u001b[0;34m]\u001b[0m \u001b[0;32mfor\u001b[0m \u001b[0mb\u001b[0m \u001b[0;32min\u001b[0m \u001b[0mblocks\u001b[0m\u001b[0;34m)\u001b[0m\u001b[0;34m\u001b[0m\u001b[0m\n\u001b[0;32m-> 3572\u001b[0;31m         \u001b[0mconstruction_error\u001b[0m\u001b[0;34m(\u001b[0m\u001b[0mtot_items\u001b[0m\u001b[0;34m,\u001b[0m \u001b[0mblocks\u001b[0m\u001b[0;34m[\u001b[0m\u001b[0;36m0\u001b[0m\u001b[0;34m]\u001b[0m\u001b[0;34m.\u001b[0m\u001b[0mshape\u001b[0m\u001b[0;34m[\u001b[0m\u001b[0;36m1\u001b[0m\u001b[0;34m:\u001b[0m\u001b[0;34m]\u001b[0m\u001b[0;34m,\u001b[0m \u001b[0maxes\u001b[0m\u001b[0;34m,\u001b[0m \u001b[0me\u001b[0m\u001b[0;34m)\u001b[0m\u001b[0;34m\u001b[0m\u001b[0m\n\u001b[0m\u001b[1;32m   3573\u001b[0m \u001b[0;34m\u001b[0m\u001b[0m\n\u001b[1;32m   3574\u001b[0m \u001b[0;34m\u001b[0m\u001b[0m\n",
        "\u001b[0;32m/usr/local/lib/python2.7/site-packages/pandas/core/internals.pyc\u001b[0m in \u001b[0;36mconstruction_error\u001b[0;34m(tot_items, block_shape, axes, e)\u001b[0m\n\u001b[1;32m   3551\u001b[0m         \u001b[0;32mraise\u001b[0m \u001b[0me\u001b[0m\u001b[0;34m\u001b[0m\u001b[0m\n\u001b[1;32m   3552\u001b[0m     raise ValueError(\"Shape of passed values is {0}, indices imply {1}\".format(\n\u001b[0;32m-> 3553\u001b[0;31m         passed,implied))\n\u001b[0m\u001b[1;32m   3554\u001b[0m \u001b[0;34m\u001b[0m\u001b[0m\n\u001b[1;32m   3555\u001b[0m \u001b[0;34m\u001b[0m\u001b[0m\n",
        "\u001b[0;31mValueError\u001b[0m: Shape of passed values is (1, 1873), indices imply (1873, 1873)"
       ]
      }
     ],
     "prompt_number": 47
    },
    {
     "cell_type": "code",
     "collapsed": false,
     "input": [
      "plt.figure()\n",
      "plt.imshow(u_sim.values)"
     ],
     "language": "python",
     "metadata": {},
     "outputs": []
    },
    {
     "cell_type": "code",
     "collapsed": false,
     "input": [
      "plt.figure()\n",
      "plt.imshow(u_sim_star.values)"
     ],
     "language": "python",
     "metadata": {},
     "outputs": []
    },
    {
     "cell_type": "heading",
     "level": 2,
     "metadata": {},
     "source": [
      "Attribute similarity (Climb x Feature Matrix)"
     ]
    },
    {
     "cell_type": "code",
     "collapsed": false,
     "input": [
      "%autoreload\n",
      "descrip_tokens=[c for c in cdf.columns if \"_description\" in c]\n",
      "comment_tokens=[c for c in cdf.columns if \"_comments\" in c]\n",
      "othercols=['numerizedgrade','pageviews','avgstars','length','numerizedgrade']\n",
      "allcols=['climbid']+othercols+descrip_tokens+comment_tokens\n",
      "\n",
      "attrmat=mo.computeattributematrix(allclimbs, allcols, cdf)\n",
      "print attrmat.shape"
     ],
     "language": "python",
     "metadata": {},
     "outputs": [
      {
       "output_type": "stream",
       "stream": "stdout",
       "text": [
        "(1429, 165)\n"
       ]
      }
     ],
     "prompt_number": 54
    },
    {
     "cell_type": "code",
     "collapsed": false,
     "input": [
      "a_sim=pairwise_distances(attrmat.values, metric=distance_metric)\n",
      "a_sim=pd.DataFrame(index=attrmat.index.values, columns=attrmat.index.values, data=a_sim)"
     ],
     "language": "python",
     "metadata": {},
     "outputs": [],
     "prompt_number": 57
    },
    {
     "cell_type": "heading",
     "level": 2,
     "metadata": {},
     "source": [
      "Physical similarity (Location)"
     ]
    },
    {
     "cell_type": "code",
     "collapsed": false,
     "input": [
      "%autoreload\n",
      "lmat=mo.computelocationmatrix(cdf, adf, allclimbs)"
     ],
     "language": "python",
     "metadata": {},
     "outputs": [],
     "prompt_number": 59
    },
    {
     "cell_type": "code",
     "collapsed": false,
     "input": [
      "l_sim=pairwise_distances(lmat, metric='euclidean')\n",
      "l_sim=pd.DataFrame(index=lmat.index.values, columns=lmat.index.values, data=l_sim)"
     ],
     "language": "python",
     "metadata": {},
     "outputs": [],
     "prompt_number": 60
    },
    {
     "cell_type": "heading",
     "level": 2,
     "metadata": {},
     "source": [
      "Save climb similarities"
     ]
    },
    {
     "cell_type": "code",
     "collapsed": false,
     "input": [
      "#u_sim.to_csv(os.path.join(projdir, 'user_sim_matrix.csv'))\n",
      "a_sim.to_csv(os.path.join(projdir, 'attr_sim_matrix.csv'))\n",
      "#l_sim.to_csv(os.path.join(projdir,'location_sim_matrix.csv'))"
     ],
     "language": "python",
     "metadata": {},
     "outputs": [],
     "prompt_number": 72
    },
    {
     "cell_type": "heading",
     "level": 2,
     "metadata": {},
     "source": [
      "Compute most similar and least similar for each climb for each type of similarity"
     ]
    },
    {
     "cell_type": "code",
     "collapsed": false,
     "input": [
      "%autoreload\n",
      "u_preddf=mo.gettopbottom(u_sim, n=20)\n",
      "a_preddf=mo.gettopbottom(a_sim, n=20)\n",
      "l_preddf=mo.gettopbottom(l_sim, n=20)"
     ],
     "language": "python",
     "metadata": {},
     "outputs": [],
     "prompt_number": 73
    },
    {
     "cell_type": "heading",
     "level": 2,
     "metadata": {},
     "source": [
      "Test it out"
     ]
    },
    {
     "cell_type": "code",
     "collapsed": false,
     "input": [
      "%autoreload\n",
      "testclimb=\"Recompense\"\n",
      "simclimbs, simnames, dissimclimbs, dissimnames=mo.getsimilar(testclimb, a_preddf, cdf, adf)"
     ],
     "language": "python",
     "metadata": {},
     "outputs": [],
     "prompt_number": 105
    },
    {
     "cell_type": "code",
     "collapsed": false,
     "input": [
      "simclimbs"
     ],
     "language": "python",
     "metadata": {},
     "outputs": [
      {
       "html": [
        "<div style=\"max-height:1000px;max-width:1500px;overflow:auto;\">\n",
        "<table border=\"1\" class=\"dataframe\">\n",
        "  <thead>\n",
        "    <tr style=\"text-align: right;\">\n",
        "      <th></th>\n",
        "      <th>name</th>\n",
        "      <th>mainarea</th>\n",
        "      <th>region</th>\n",
        "      <th>grade</th>\n",
        "      <th>description</th>\n",
        "      <th>style</th>\n",
        "      <th>mainarea_name</th>\n",
        "    </tr>\n",
        "    <tr>\n",
        "      <th>index</th>\n",
        "      <th></th>\n",
        "      <th></th>\n",
        "      <th></th>\n",
        "      <th></th>\n",
        "      <th></th>\n",
        "      <th></th>\n",
        "      <th></th>\n",
        "    </tr>\n",
        "  </thead>\n",
        "  <tbody>\n",
        "    <tr>\n",
        "      <th>89334</th>\n",
        "      <td>           Open Book</td>\n",
        "      <td> 4237</td>\n",
        "      <td> California</td>\n",
        "      <td>   5.9</td>\n",
        "      <td> This three pitch beauty ascends a very obvious...</td>\n",
        "      <td> Trad</td>\n",
        "      <td>  Tahquitz &amp; Suicide Rocks</td>\n",
        "    </tr>\n",
        "    <tr>\n",
        "      <th>223  </th>\n",
        "      <td>          Nutcracker</td>\n",
        "      <td>  453</td>\n",
        "      <td> California</td>\n",
        "      <td>   5.8</td>\n",
        "      <td> Nutcracker is one of the most popular routes i...</td>\n",
        "      <td> Trad</td>\n",
        "      <td>    Yosemite National Park</td>\n",
        "    </tr>\n",
        "    <tr>\n",
        "      <th>95630</th>\n",
        "      <td>         The Vampire</td>\n",
        "      <td> 4237</td>\n",
        "      <td> California</td>\n",
        "      <td> 5.11a</td>\n",
        "      <td> The ultimate SoCal classic which takes pride o...</td>\n",
        "      <td> Trad</td>\n",
        "      <td>  Tahquitz &amp; Suicide Rocks</td>\n",
        "    </tr>\n",
        "    <tr>\n",
        "      <th>12912</th>\n",
        "      <td> Surrealistic Pillar</td>\n",
        "      <td>   85</td>\n",
        "      <td> California</td>\n",
        "      <td>   5.7</td>\n",
        "      <td> This excellent route ascends the entire length...</td>\n",
        "      <td> Trad</td>\n",
        "      <td>            Tahoe Vicinity</td>\n",
        "    </tr>\n",
        "    <tr>\n",
        "      <th>3830 </th>\n",
        "      <td>        Dappled Mare</td>\n",
        "      <td> 1569</td>\n",
        "      <td> California</td>\n",
        "      <td>   5.8</td>\n",
        "      <td> Approach: walk up the wash below the Lost Hors...</td>\n",
        "      <td> Trad</td>\n",
        "      <td> Joshua Tree National Park</td>\n",
        "    </tr>\n",
        "    <tr>\n",
        "      <th>12916</th>\n",
        "      <td>        Bear's Reach</td>\n",
        "      <td>   85</td>\n",
        "      <td> California</td>\n",
        "      <td>   5.7</td>\n",
        "      <td> This is one of the classic 5.7 climbs at the L...</td>\n",
        "      <td> Trad</td>\n",
        "      <td>            Tahoe Vicinity</td>\n",
        "    </tr>\n",
        "    <tr>\n",
        "      <th>15980</th>\n",
        "      <td>         Coffin Nail</td>\n",
        "      <td> 4237</td>\n",
        "      <td> California</td>\n",
        "      <td>   5.8</td>\n",
        "      <td> This large, clean, right-facing dihedral is to...</td>\n",
        "      <td> Trad</td>\n",
        "      <td>  Tahquitz &amp; Suicide Rocks</td>\n",
        "    </tr>\n",
        "  </tbody>\n",
        "</table>\n",
        "</div>"
       ],
       "metadata": {},
       "output_type": "pyout",
       "prompt_number": 106,
       "text": [
        "                      name  mainarea      region  grade  \\\n",
        "index                                                     \n",
        "89334            Open Book      4237  California    5.9   \n",
        "223             Nutcracker       453  California    5.8   \n",
        "95630          The Vampire      4237  California  5.11a   \n",
        "12912  Surrealistic Pillar        85  California    5.7   \n",
        "3830          Dappled Mare      1569  California    5.8   \n",
        "12916         Bear's Reach        85  California    5.7   \n",
        "15980          Coffin Nail      4237  California    5.8   \n",
        "\n",
        "                                             description style  \\\n",
        "index                                                            \n",
        "89334  This three pitch beauty ascends a very obvious...  Trad   \n",
        "223    Nutcracker is one of the most popular routes i...  Trad   \n",
        "95630  The ultimate SoCal classic which takes pride o...  Trad   \n",
        "12912  This excellent route ascends the entire length...  Trad   \n",
        "3830   Approach: walk up the wash below the Lost Hors...  Trad   \n",
        "12916  This is one of the classic 5.7 climbs at the L...  Trad   \n",
        "15980  This large, clean, right-facing dihedral is to...  Trad   \n",
        "\n",
        "                   mainarea_name  \n",
        "index                             \n",
        "89334   Tahquitz & Suicide Rocks  \n",
        "223       Yosemite National Park  \n",
        "95630   Tahquitz & Suicide Rocks  \n",
        "12912             Tahoe Vicinity  \n",
        "3830   Joshua Tree National Park  \n",
        "12916             Tahoe Vicinity  \n",
        "15980   Tahquitz & Suicide Rocks  "
       ]
      }
     ],
     "prompt_number": 106
    },
    {
     "cell_type": "code",
     "collapsed": false,
     "input": [
      "dissimclimbs"
     ],
     "language": "python",
     "metadata": {},
     "outputs": [
      {
       "html": [
        "<div style=\"max-height:1000px;max-width:1500px;overflow:auto;\">\n",
        "<table border=\"1\" class=\"dataframe\">\n",
        "  <thead>\n",
        "    <tr style=\"text-align: right;\">\n",
        "      <th></th>\n",
        "      <th>name</th>\n",
        "      <th>mainarea</th>\n",
        "      <th>region</th>\n",
        "      <th>grade</th>\n",
        "      <th>description</th>\n",
        "      <th>style</th>\n",
        "      <th>mainarea_name</th>\n",
        "    </tr>\n",
        "    <tr>\n",
        "      <th>index</th>\n",
        "      <th></th>\n",
        "      <th></th>\n",
        "      <th></th>\n",
        "      <th></th>\n",
        "      <th></th>\n",
        "      <th></th>\n",
        "      <th></th>\n",
        "    </tr>\n",
        "  </thead>\n",
        "  <tbody>\n",
        "    <tr>\n",
        "      <th>66506 </th>\n",
        "      <td> Yosemite Point Buttress</td>\n",
        "      <td>   453</td>\n",
        "      <td> California</td>\n",
        "      <td>   5.9</td>\n",
        "      <td> This route is long and complex and contains so...</td>\n",
        "      <td> Trad</td>\n",
        "      <td>      Yosemite National Park</td>\n",
        "    </tr>\n",
        "    <tr>\n",
        "      <th>4803  </th>\n",
        "      <td>             Timex Route</td>\n",
        "      <td>   380</td>\n",
        "      <td> California</td>\n",
        "      <td>   5.9</td>\n",
        "      <td> As the only free option on the Watchtower, the...</td>\n",
        "      <td> Trad</td>\n",
        "      <td>   Sequoia &amp; Kings Canyon NP</td>\n",
        "    </tr>\n",
        "    <tr>\n",
        "      <th>40627 </th>\n",
        "      <td>               Homeworld</td>\n",
        "      <td>   453</td>\n",
        "      <td> California</td>\n",
        "      <td> 5.10d</td>\n",
        "      <td> This is an excellent climb up a large chunk of...</td>\n",
        "      <td> Trad</td>\n",
        "      <td>      Yosemite National Park</td>\n",
        "    </tr>\n",
        "    <tr>\n",
        "      <th>120002</th>\n",
        "      <td>       Sticks and Stones</td>\n",
        "      <td>   453</td>\n",
        "      <td> California</td>\n",
        "      <td> 5.10a</td>\n",
        "      <td> This is a varied and physical crack climb with...</td>\n",
        "      <td> Trad</td>\n",
        "      <td>      Yosemite National Park</td>\n",
        "    </tr>\n",
        "    <tr>\n",
        "      <th>110613</th>\n",
        "      <td>          P-Line Express</td>\n",
        "      <td>   453</td>\n",
        "      <td> California</td>\n",
        "      <td> 5.10+</td>\n",
        "      <td> P1(5.7)-Start 75' right of Homeworld. Scramble...</td>\n",
        "      <td> Trad</td>\n",
        "      <td>      Yosemite National Park</td>\n",
        "    </tr>\n",
        "    <tr>\n",
        "      <th>81110 </th>\n",
        "      <td> Gutenberger Wall Direct</td>\n",
        "      <td> 12889</td>\n",
        "      <td> California</td>\n",
        "      <td>   5.7</td>\n",
        "      <td> Pitch 1: The regular way it to climb \\n 5.7 to...</td>\n",
        "      <td> Trad</td>\n",
        "      <td> Sacramento Valley/Foothills</td>\n",
        "    </tr>\n",
        "    <tr>\n",
        "      <th>46520 </th>\n",
        "      <td>           Drunks in Tow</td>\n",
        "      <td>  5768</td>\n",
        "      <td> California</td>\n",
        "      <td> 5.10b</td>\n",
        "      <td> Alternate ending to Hoodoo Temple. Interesting...</td>\n",
        "      <td> Trad</td>\n",
        "      <td>    San Bernardino Mountains</td>\n",
        "    </tr>\n",
        "  </tbody>\n",
        "</table>\n",
        "</div>"
       ],
       "metadata": {},
       "output_type": "pyout",
       "prompt_number": 107,
       "text": [
        "                           name  mainarea      region  grade  \\\n",
        "index                                                          \n",
        "66506   Yosemite Point Buttress       453  California    5.9   \n",
        "4803                Timex Route       380  California    5.9   \n",
        "40627                 Homeworld       453  California  5.10d   \n",
        "120002        Sticks and Stones       453  California  5.10a   \n",
        "110613           P-Line Express       453  California  5.10+   \n",
        "81110   Gutenberger Wall Direct     12889  California    5.7   \n",
        "46520             Drunks in Tow      5768  California  5.10b   \n",
        "\n",
        "                                              description style  \\\n",
        "index                                                             \n",
        "66506   This route is long and complex and contains so...  Trad   \n",
        "4803    As the only free option on the Watchtower, the...  Trad   \n",
        "40627   This is an excellent climb up a large chunk of...  Trad   \n",
        "120002  This is a varied and physical crack climb with...  Trad   \n",
        "110613  P1(5.7)-Start 75' right of Homeworld. Scramble...  Trad   \n",
        "81110   Pitch 1: The regular way it to climb \\n 5.7 to...  Trad   \n",
        "46520   Alternate ending to Hoodoo Temple. Interesting...  Trad   \n",
        "\n",
        "                      mainarea_name  \n",
        "index                                \n",
        "66506        Yosemite National Park  \n",
        "4803      Sequoia & Kings Canyon NP  \n",
        "40627        Yosemite National Park  \n",
        "120002       Yosemite National Park  \n",
        "110613       Yosemite National Park  \n",
        "81110   Sacramento Valley/Foothills  \n",
        "46520      San Bernardino Mountains  "
       ]
      }
     ],
     "prompt_number": 107
    },
    {
     "cell_type": "code",
     "collapsed": false,
     "input": [
      "x=cdf[cdf['name'].isin([\"Bird of Fire\", \"Pope's Crack\", \"Touch and Go\",\"Homeworld\",\"Sticks and Stones\"])][['name']+[col for col in cdf.columns if '_desc' in col]].T"
     ],
     "language": "python",
     "metadata": {},
     "outputs": [],
     "prompt_number": 102
    },
    {
     "cell_type": "code",
     "collapsed": false,
     "input": [
      "x[x.sum(axis=1)>0]"
     ],
     "language": "python",
     "metadata": {},
     "outputs": [
      {
       "html": [
        "<div style=\"max-height:1000px;max-width:1500px;overflow:auto;\">\n",
        "<table border=\"1\" class=\"dataframe\">\n",
        "  <thead>\n",
        "    <tr style=\"text-align: right;\">\n",
        "      <th>index</th>\n",
        "      <th>3842</th>\n",
        "      <th>5038</th>\n",
        "      <th>3060</th>\n",
        "      <th>40627</th>\n",
        "      <th>120002</th>\n",
        "    </tr>\n",
        "  </thead>\n",
        "  <tbody>\n",
        "    <tr>\n",
        "      <th>name</th>\n",
        "      <td> Pope's Crack</td>\n",
        "      <td> Bird of Fire</td>\n",
        "      <td> Touch and Go</td>\n",
        "      <td> Homeworld</td>\n",
        "      <td> Sticks and Stones</td>\n",
        "    </tr>\n",
        "    <tr>\n",
        "      <th>jug_description</th>\n",
        "      <td>            0</td>\n",
        "      <td>            0</td>\n",
        "      <td>            1</td>\n",
        "      <td>         0</td>\n",
        "      <td>                 0</td>\n",
        "    </tr>\n",
        "    <tr>\n",
        "      <th>ledge_description</th>\n",
        "      <td>            0</td>\n",
        "      <td>            1</td>\n",
        "      <td>            0</td>\n",
        "      <td>         2</td>\n",
        "      <td>                 2</td>\n",
        "    </tr>\n",
        "    <tr>\n",
        "      <th>undercling_description</th>\n",
        "      <td>            0</td>\n",
        "      <td>            0</td>\n",
        "      <td>            0</td>\n",
        "      <td>         1</td>\n",
        "      <td>                 0</td>\n",
        "    </tr>\n",
        "    <tr>\n",
        "      <th>crack_description</th>\n",
        "      <td>            4</td>\n",
        "      <td>            1</td>\n",
        "      <td>            4</td>\n",
        "      <td>         3</td>\n",
        "      <td>                 5</td>\n",
        "    </tr>\n",
        "    <tr>\n",
        "      <th>flake_description</th>\n",
        "      <td>            0</td>\n",
        "      <td>            0</td>\n",
        "      <td>            0</td>\n",
        "      <td>         4</td>\n",
        "      <td>                 0</td>\n",
        "    </tr>\n",
        "    <tr>\n",
        "      <th>hand crack_description</th>\n",
        "      <td>            1</td>\n",
        "      <td>            0</td>\n",
        "      <td>            0</td>\n",
        "      <td>         0</td>\n",
        "      <td>                 1</td>\n",
        "    </tr>\n",
        "    <tr>\n",
        "      <th>chimney_description</th>\n",
        "      <td>            0</td>\n",
        "      <td>            0</td>\n",
        "      <td>            0</td>\n",
        "      <td>         0</td>\n",
        "      <td>                 1</td>\n",
        "    </tr>\n",
        "    <tr>\n",
        "      <th>corner_description</th>\n",
        "      <td>            1</td>\n",
        "      <td>            0</td>\n",
        "      <td>            0</td>\n",
        "      <td>         0</td>\n",
        "      <td>                 1</td>\n",
        "    </tr>\n",
        "    <tr>\n",
        "      <th>traverse_description</th>\n",
        "      <td>            0</td>\n",
        "      <td>            0</td>\n",
        "      <td>            0</td>\n",
        "      <td>         3</td>\n",
        "      <td>                 0</td>\n",
        "    </tr>\n",
        "    <tr>\n",
        "      <th>thin_description</th>\n",
        "      <td>            0</td>\n",
        "      <td>            0</td>\n",
        "      <td>            0</td>\n",
        "      <td>         2</td>\n",
        "      <td>                 4</td>\n",
        "    </tr>\n",
        "    <tr>\n",
        "      <th>sporty_description</th>\n",
        "      <td>            0</td>\n",
        "      <td>            0</td>\n",
        "      <td>            0</td>\n",
        "      <td>         1</td>\n",
        "      <td>                 0</td>\n",
        "    </tr>\n",
        "    <tr>\n",
        "      <th>vertical_description</th>\n",
        "      <td>            0</td>\n",
        "      <td>            0</td>\n",
        "      <td>            0</td>\n",
        "      <td>         1</td>\n",
        "      <td>                 0</td>\n",
        "    </tr>\n",
        "    <tr>\n",
        "      <th>boulder_description</th>\n",
        "      <td>            1</td>\n",
        "      <td>            0</td>\n",
        "      <td>            1</td>\n",
        "      <td>         0</td>\n",
        "      <td>                 0</td>\n",
        "    </tr>\n",
        "    <tr>\n",
        "      <th>easy_description</th>\n",
        "      <td>            0</td>\n",
        "      <td>            0</td>\n",
        "      <td>            0</td>\n",
        "      <td>         1</td>\n",
        "      <td>                 0</td>\n",
        "    </tr>\n",
        "    <tr>\n",
        "      <th>fall_description</th>\n",
        "      <td>            0</td>\n",
        "      <td>            0</td>\n",
        "      <td>            0</td>\n",
        "      <td>         1</td>\n",
        "      <td>                 0</td>\n",
        "    </tr>\n",
        "    <tr>\n",
        "      <th>swing_description</th>\n",
        "      <td>            0</td>\n",
        "      <td>            0</td>\n",
        "      <td>            0</td>\n",
        "      <td>         1</td>\n",
        "      <td>                 0</td>\n",
        "    </tr>\n",
        "  </tbody>\n",
        "</table>\n",
        "</div>"
       ],
       "metadata": {},
       "output_type": "pyout",
       "prompt_number": 103,
       "text": [
        "index                         3842          5038          3060       40627   \\\n",
        "name                    Pope's Crack  Bird of Fire  Touch and Go  Homeworld   \n",
        "jug_description                    0             0             1          0   \n",
        "ledge_description                  0             1             0          2   \n",
        "undercling_description             0             0             0          1   \n",
        "crack_description                  4             1             4          3   \n",
        "flake_description                  0             0             0          4   \n",
        "hand crack_description             1             0             0          0   \n",
        "chimney_description                0             0             0          0   \n",
        "corner_description                 1             0             0          0   \n",
        "traverse_description               0             0             0          3   \n",
        "thin_description                   0             0             0          2   \n",
        "sporty_description                 0             0             0          1   \n",
        "vertical_description               0             0             0          1   \n",
        "boulder_description                1             0             1          0   \n",
        "easy_description                   0             0             0          1   \n",
        "fall_description                   0             0             0          1   \n",
        "swing_description                  0             0             0          1   \n",
        "\n",
        "index                              120002  \n",
        "name                    Sticks and Stones  \n",
        "jug_description                         0  \n",
        "ledge_description                       2  \n",
        "undercling_description                  0  \n",
        "crack_description                       5  \n",
        "flake_description                       0  \n",
        "hand crack_description                  1  \n",
        "chimney_description                     1  \n",
        "corner_description                      1  \n",
        "traverse_description                    0  \n",
        "thin_description                        4  \n",
        "sporty_description                      0  \n",
        "vertical_description                    0  \n",
        "boulder_description                     0  \n",
        "easy_description                        0  \n",
        "fall_description                        0  \n",
        "swing_description                       0  "
       ]
      }
     ],
     "prompt_number": 103
    },
    {
     "cell_type": "code",
     "collapsed": false,
     "input": [],
     "language": "python",
     "metadata": {},
     "outputs": []
    },
    {
     "cell_type": "heading",
     "level": 2,
     "metadata": {},
     "source": [
      "Combine similarities into one final set of predictions"
     ]
    },
    {
     "cell_type": "code",
     "collapsed": false,
     "input": [
      "comb_preddf=u_preddf"
     ],
     "language": "python",
     "metadata": {},
     "outputs": [],
     "prompt_number": 33
    },
    {
     "cell_type": "heading",
     "level": 2,
     "metadata": {},
     "source": [
      "Save final similarity predictions to db"
     ]
    },
    {
     "cell_type": "code",
     "collapsed": false,
     "input": [
      "chunksize=1000\n",
      "engine = create_engine('mysql://%s@%s/%s?charset=%s&use_unicode=%s&passwd=%s' %(cfg.user, cfg.host, cfg.dbname, cfg.charset, cfg.use_unicode, cfg.passwd), pool_recycle=3600)\n",
      "comb_preddf.to_sql('comb_sim_preds', engine, if_exists='replace', chunksize=chunksize)"
     ],
     "language": "python",
     "metadata": {},
     "outputs": [],
     "prompt_number": 34
    },
    {
     "cell_type": "code",
     "collapsed": false,
     "input": [],
     "language": "python",
     "metadata": {},
     "outputs": []
    }
   ],
   "metadata": {}
  }
 ]
}