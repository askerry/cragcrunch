{
 "metadata": {
  "name": "",
  "signature": "sha256:9d4499f0060fbdf296941a004b6934e24efbe5e642bcee4b819c67c2140caa72"
 },
 "nbformat": 3,
 "nbformat_minor": 0,
 "worksheets": [
  {
   "cells": [
    {
     "cell_type": "code",
     "collapsed": false,
     "input": [
      "pylab inline"
     ],
     "language": "python",
     "metadata": {},
     "outputs": [
      {
       "output_type": "stream",
       "stream": "stdout",
       "text": [
        "Populating the interactive namespace from numpy and matplotlib\n"
       ]
      }
     ],
     "prompt_number": 1
    },
    {
     "cell_type": "code",
     "collapsed": false,
     "input": [
      "%load_ext autoreload"
     ],
     "language": "python",
     "metadata": {},
     "outputs": [],
     "prompt_number": 2
    },
    {
     "cell_type": "code",
     "collapsed": false,
     "input": [
      "import pandas as pd\n",
      "pd.options.mode.chained_assignment = 'warn'  # default='warn', None, 'raise'\n",
      "#pd.options.display.memory_usage = True\n",
      "import numpy as np\n",
      "np.random.RandomState(100)\n",
      "from sqlalchemy import create_engine\n",
      "import os\n",
      "import sys\n",
      "sys.setrecursionlimit(3000)\n",
      "from joblib import Parallel, delayed  \n",
      "import multiprocessing\n",
      "num_cores = multiprocessing.cpu_count()\n",
      "print \"%s cores available for parallel processing\" % num_cores\n",
      "sys.path.append('mpscraper')\n",
      "sys.path.append('antools')\n",
      "import antools.modeling as mo\n",
      "from mpscraper.cfgdb import cfg\n",
      "import seaborn as sns\n",
      "sns.set_style('white')\n",
      "import matplotlib.pyplot as plt\n",
      "from sklearn.metrics.pairwise import pairwise_distances"
     ],
     "language": "python",
     "metadata": {},
     "outputs": [
      {
       "output_type": "stream",
       "stream": "stdout",
       "text": [
        "4 cores available for parallel processing\n"
       ]
      }
     ],
     "prompt_number": 3
    },
    {
     "cell_type": "code",
     "collapsed": false,
     "input": [
      "import sys, os\n",
      "rootdir=os.getcwd()\n",
      "while 'Projects' in rootdir:\n",
      "    rootdir=os.path.dirname(rootdir)\n",
      "projdir=os.path.join(rootdir, 'Projects','cragcrunch','data')"
     ],
     "language": "python",
     "metadata": {},
     "outputs": [],
     "prompt_number": 4
    },
    {
     "cell_type": "code",
     "collapsed": false,
     "input": [
      "#load in preprocessed data\n",
      "engine = create_engine('mysql://%s@%s/%s?charset=%s&use_unicode=%s&passwd=%s' %(cfg.user, cfg.host, cfg.dbname, cfg.charset, cfg.use_unicode, cfg.passwd), pool_recycle=3600)\n",
      "cdf = pd.read_sql(\"SELECT * from climb_prepped\", engine, index_col='index')\n",
      "adf = pd.read_sql(\"SELECT * from area_prepped\", engine, index_col='index')\n",
      "sdf = pd.read_sql(\"SELECT * from stars_prepped\", engine, index_col='index')\n",
      "climbs=list(cdf.climbid.unique())\n",
      "udf = pd.read_sql(\"SELECT * from climber_prepped\", engine, index_col='index')\n",
      "hdf= pd.read_sql(\"SELECT * from hits_prepped\", engine, index_col='index')\n",
      "hdf=hdf.loc[hdf['climb'].isin(climbs)]\n",
      "sdf=sdf.loc[sdf['climb'].isin(climbs)]\n",
      "allclimbs=np.array([a for a in hdf.climb.unique() if a in sdf.climb.unique()])\n",
      "allclimbers=np.array([a for a in hdf.climber.unique() if a in sdf.climber.unique()])\n",
      "print len(allclimbs)\n",
      "print len(allclimbers)\n",
      "cdf=cdf.loc[allclimbs,:]\n",
      "hdf=hdf.loc[hdf['climb'].isin(allclimbs)]\n",
      "hdf=hdf.loc[hdf['climber'].isin(allclimbers)]\n",
      "sdf=sdf.loc[sdf['climb'].isin(allclimbs)]\n",
      "sdf=sdf.loc[sdf['climber'].isin(allclimbers)]"
     ],
     "language": "python",
     "metadata": {},
     "outputs": [
      {
       "output_type": "stream",
       "stream": "stdout",
       "text": [
        "8076\n",
        "827\n"
       ]
      }
     ],
     "prompt_number": 5
    },
    {
     "cell_type": "code",
     "collapsed": false,
     "input": [
      "distance_metric='jaccard'\n",
      "#[\u2018cityblock\u2019, \u2018cosine\u2019, \u2018euclidean\u2019, \u2018l1\u2019, \u2018l2\u2019, \u2018manhattan\u2019]\n",
      " #['jaccard',\u2018braycurtis\u2019, \u2018canberra\u2019, \u2018chebyshev\u2019, \u2018correlation\u2019, \u2018dice\u2019, \u2018hamming\u2019, \u2018jaccard\u2019, \u2018kulsinski\u2019, \u2018mahalanobis\u2019, \u2018matching\u2019, \u2018minkowski\u2019, \u2018rogerstanimoto\u2019, \u2018russellrao\u2019, \u2018seuclidean\u2019, \u2018sokalmichener\u2019, \u2018sokalsneath\u2019, \u2018sqeuclidean\u2019, \u2018yule\u2019]"
     ],
     "language": "python",
     "metadata": {},
     "outputs": [],
     "prompt_number": 6
    },
    {
     "cell_type": "heading",
     "level": 2,
     "metadata": {},
     "source": [
      "User similarity (Climb x Climber Matrix) based on hits and based on star ratings"
     ]
    },
    {
     "cell_type": "code",
     "collapsed": false,
     "input": [
      "%autoreload\n",
      "hitmat=mo.computeinteractionmatrix(allclimbs, allclimbers, hdf)\n",
      "print hitmat.shape"
     ],
     "language": "python",
     "metadata": {},
     "outputs": [
      {
       "output_type": "stream",
       "stream": "stdout",
       "text": [
        "(7966, 820)\n"
       ]
      }
     ],
     "prompt_number": 10
    },
    {
     "cell_type": "code",
     "collapsed": false,
     "input": [
      "%autoreload\n",
      "starmat=mo.computestarmatrix(allclimbs, allclimbers, sdf)\n",
      "print starmat.shape"
     ],
     "language": "python",
     "metadata": {},
     "outputs": [
      {
       "output_type": "stream",
       "stream": "stdout",
       "text": [
        "(8051, 827)\n"
       ]
      }
     ],
     "prompt_number": 11
    },
    {
     "cell_type": "code",
     "collapsed": false,
     "input": [
      "chunksize=1000\n",
      "engine = create_engine('mysql://%s@%s/%s?charset=%s&use_unicode=%s&passwd=%s' %(cfg.user, cfg.host, cfg.dbname, cfg.charset, cfg.use_unicode, cfg.passwd), pool_recycle=3600)\n",
      "hitmat.to_sql('hit_matrix', engine, if_exists='replace', chunksize=chunksize)\n",
      "starmat.to_sql('star_matrix', engine, if_exists='replace', chunksize=500)"
     ],
     "language": "python",
     "metadata": {},
     "outputs": [],
     "prompt_number": 14
    },
    {
     "cell_type": "code",
     "collapsed": false,
     "input": [
      "%autoreload\n",
      "#u_sim=pairwise_distances(hitmat.values, metric=distance_metric)\n",
      "u_sim_star=starmat.apply(mo.computepairwisesimilarity, df=starmat, similaritymetric=distance_metric, axis=1)\n"
     ],
     "language": "python",
     "metadata": {},
     "outputs": []
    },
    {
     "cell_type": "code",
     "collapsed": false,
     "input": [
      "u_sim=pd.DataFrame(index=hitmat.index.values, columns=hitmat.index.values, data=u_sim)\n",
      "u_sim_star=pd.DataFrame(index=starmat.index.values, columns=starmat.index.values, data=u_sim_star)"
     ],
     "language": "python",
     "metadata": {},
     "outputs": []
    },
    {
     "cell_type": "code",
     "collapsed": false,
     "input": [
      "plt.figure()\n",
      "plt.imshow(u_sim.values)"
     ],
     "language": "python",
     "metadata": {},
     "outputs": []
    },
    {
     "cell_type": "code",
     "collapsed": false,
     "input": [
      "plt.figure()\n",
      "plt.imshow(u_sim_star.values)"
     ],
     "language": "python",
     "metadata": {},
     "outputs": []
    },
    {
     "cell_type": "heading",
     "level": 2,
     "metadata": {},
     "source": [
      "Attribute similarity (Climb x Feature Matrix)"
     ]
    },
    {
     "cell_type": "code",
     "collapsed": false,
     "input": [
      "%autoreload\n",
      "descrip_tokens=[c for c in cdf.columns if \"_description\" in c]\n",
      "comment_tokens=[c for c in cdf.columns if \"_comments\" in c]\n",
      "othercols=['numerizedgrade','pageviews','avgstars','length','numerizedgrade']\n",
      "allcols=['climbid']+othercols+descrip_tokens+comment_tokens\n",
      "\n",
      "attrmat=mo.computeattributematrix(allclimbs, allcols, cdf)\n",
      "print attrmat.shape"
     ],
     "language": "python",
     "metadata": {},
     "outputs": [
      {
       "output_type": "stream",
       "stream": "stdout",
       "text": [
        "(4039, 165)\n"
       ]
      }
     ],
     "prompt_number": 19
    },
    {
     "cell_type": "code",
     "collapsed": false,
     "input": [
      "a_sim=pairwise_distances(attrmat.values, metric=distance_metric)\n",
      "a_sim=pd.DataFrame(index=attrmat.index.values, columns=attrmat.index.values, data=a_sim)"
     ],
     "language": "python",
     "metadata": {},
     "outputs": [],
     "prompt_number": 20
    },
    {
     "cell_type": "heading",
     "level": 2,
     "metadata": {},
     "source": [
      "Physical similarity (Location)"
     ]
    },
    {
     "cell_type": "code",
     "collapsed": false,
     "input": [
      "%autoreload\n",
      "lmat=mo.computelocationmatrix(cdf, adf, allclimbs)"
     ],
     "language": "python",
     "metadata": {},
     "outputs": [],
     "prompt_number": 21
    },
    {
     "cell_type": "code",
     "collapsed": false,
     "input": [
      "l_sim=pairwise_distances(lmat, metric='euclidean')\n",
      "l_sim=pd.DataFrame(index=lmat.index.values, columns=lmat.index.values, data=l_sim)"
     ],
     "language": "python",
     "metadata": {},
     "outputs": [],
     "prompt_number": 22
    },
    {
     "cell_type": "heading",
     "level": 2,
     "metadata": {},
     "source": [
      "Compute most similar and least similar for each climb for each type of similarity"
     ]
    },
    {
     "cell_type": "code",
     "collapsed": false,
     "input": [
      "%autoreload\n",
      "u_preddf=mo.gettopbottom(u_sim, n=20)\n",
      "a_preddf=mo.gettopbottom(a_sim, n=20)\n",
      "l_preddf=mo.gettopbottom(l_sim, n=20)"
     ],
     "language": "python",
     "metadata": {},
     "outputs": [],
     "prompt_number": 23
    },
    {
     "cell_type": "heading",
     "level": 2,
     "metadata": {},
     "source": [
      "Test it out"
     ]
    },
    {
     "cell_type": "code",
     "collapsed": false,
     "input": [
      "%autoreload\n",
      "testclimb=\"Pope's Crack\"\n",
      "simclimbs, simnames, dissimclimbs, dissimnames=mo.getsimilar(testclimb, u_preddf, cdf, adf)"
     ],
     "language": "python",
     "metadata": {},
     "outputs": [],
     "prompt_number": 24
    },
    {
     "cell_type": "code",
     "collapsed": false,
     "input": [
      "simclimbs"
     ],
     "language": "python",
     "metadata": {},
     "outputs": [
      {
       "html": [
        "<div style=\"max-height:1000px;max-width:1500px;overflow:auto;\">\n",
        "<table border=\"1\" class=\"dataframe\">\n",
        "  <thead>\n",
        "    <tr style=\"text-align: right;\">\n",
        "      <th></th>\n",
        "      <th>name</th>\n",
        "      <th>mainarea</th>\n",
        "      <th>region</th>\n",
        "      <th>grade</th>\n",
        "      <th>description</th>\n",
        "      <th>style</th>\n",
        "      <th>mainarea_name</th>\n",
        "    </tr>\n",
        "    <tr>\n",
        "      <th>index</th>\n",
        "      <th></th>\n",
        "      <th></th>\n",
        "      <th></th>\n",
        "      <th></th>\n",
        "      <th></th>\n",
        "      <th></th>\n",
        "      <th></th>\n",
        "    </tr>\n",
        "  </thead>\n",
        "  <tbody>\n",
        "    <tr>\n",
        "      <th>21712</th>\n",
        "      <td>              Sail Away</td>\n",
        "      <td> 1569</td>\n",
        "      <td> California</td>\n",
        "      <td>   5.8</td>\n",
        "      <td> Climb perfect hand and finger crack that virtu...</td>\n",
        "      <td> Trad</td>\n",
        "      <td> Joshua Tree National Park</td>\n",
        "    </tr>\n",
        "    <tr>\n",
        "      <th>1934 </th>\n",
        "      <td>       Illusion Dweller</td>\n",
        "      <td> 1569</td>\n",
        "      <td> California</td>\n",
        "      <td> 5.10b</td>\n",
        "      <td> Located on the far right side of the west face...</td>\n",
        "      <td> Trad</td>\n",
        "      <td> Joshua Tree National Park</td>\n",
        "    </tr>\n",
        "    <tr>\n",
        "      <th>2337 </th>\n",
        "      <td>               Overseer</td>\n",
        "      <td> 1569</td>\n",
        "      <td> California</td>\n",
        "      <td>   5.9</td>\n",
        "      <td> Start up the hollow-sounding expando flake to ...</td>\n",
        "      <td> Trad</td>\n",
        "      <td> Joshua Tree National Park</td>\n",
        "    </tr>\n",
        "    <tr>\n",
        "      <th>2197 </th>\n",
        "      <td>   Invisibility Lessons</td>\n",
        "      <td> 1569</td>\n",
        "      <td> California</td>\n",
        "      <td>   5.9</td>\n",
        "      <td> This is the right hand, hand crack of the face...</td>\n",
        "      <td> Trad</td>\n",
        "      <td> Joshua Tree National Park</td>\n",
        "    </tr>\n",
        "    <tr>\n",
        "      <th>4255 </th>\n",
        "      <td> No Calculators Allowed</td>\n",
        "      <td> 1569</td>\n",
        "      <td> California</td>\n",
        "      <td>  5.9+</td>\n",
        "      <td> One of the better routes on the Thin Wall, thi...</td>\n",
        "      <td> Trad</td>\n",
        "      <td> Joshua Tree National Park</td>\n",
        "    </tr>\n",
        "  </tbody>\n",
        "</table>\n",
        "</div>"
       ],
       "metadata": {},
       "output_type": "pyout",
       "prompt_number": 25,
       "text": [
        "                         name  mainarea      region  grade  \\\n",
        "index                                                        \n",
        "21712               Sail Away      1569  California    5.8   \n",
        "1934         Illusion Dweller      1569  California  5.10b   \n",
        "2337                 Overseer      1569  California    5.9   \n",
        "2197     Invisibility Lessons      1569  California    5.9   \n",
        "4255   No Calculators Allowed      1569  California   5.9+   \n",
        "\n",
        "                                             description style  \\\n",
        "index                                                            \n",
        "21712  Climb perfect hand and finger crack that virtu...  Trad   \n",
        "1934   Located on the far right side of the west face...  Trad   \n",
        "2337   Start up the hollow-sounding expando flake to ...  Trad   \n",
        "2197   This is the right hand, hand crack of the face...  Trad   \n",
        "4255   One of the better routes on the Thin Wall, thi...  Trad   \n",
        "\n",
        "                   mainarea_name  \n",
        "index                             \n",
        "21712  Joshua Tree National Park  \n",
        "1934   Joshua Tree National Park  \n",
        "2337   Joshua Tree National Park  \n",
        "2197   Joshua Tree National Park  \n",
        "4255   Joshua Tree National Park  "
       ]
      }
     ],
     "prompt_number": 25
    },
    {
     "cell_type": "code",
     "collapsed": false,
     "input": [
      "dissimclimbs"
     ],
     "language": "python",
     "metadata": {},
     "outputs": [
      {
       "html": [
        "<div style=\"max-height:1000px;max-width:1500px;overflow:auto;\">\n",
        "<table border=\"1\" class=\"dataframe\">\n",
        "  <thead>\n",
        "    <tr style=\"text-align: right;\">\n",
        "      <th></th>\n",
        "      <th>name</th>\n",
        "      <th>mainarea</th>\n",
        "      <th>region</th>\n",
        "      <th>grade</th>\n",
        "      <th>description</th>\n",
        "      <th>style</th>\n",
        "      <th>mainarea_name</th>\n",
        "    </tr>\n",
        "    <tr>\n",
        "      <th>index</th>\n",
        "      <th></th>\n",
        "      <th></th>\n",
        "      <th></th>\n",
        "      <th></th>\n",
        "      <th></th>\n",
        "      <th></th>\n",
        "      <th></th>\n",
        "    </tr>\n",
        "  </thead>\n",
        "  <tbody>\n",
        "    <tr>\n",
        "      <th>48000 </th>\n",
        "      <td> Too Much For Mike Pope</td>\n",
        "      <td>  460</td>\n",
        "      <td> California</td>\n",
        "      <td> V0+</td>\n",
        "      <td> Start at the good flake (low), and climb the w...</td>\n",
        "      <td> Boulder</td>\n",
        "      <td>          Sierra Eastside</td>\n",
        "    </tr>\n",
        "    <tr>\n",
        "      <th>113222</th>\n",
        "      <td>           Jerry's Kids</td>\n",
        "      <td> 5768</td>\n",
        "      <td> California</td>\n",
        "      <td> 5.9</td>\n",
        "      <td> Climb the face as pictured in the photo to a b...</td>\n",
        "      <td>    Trad</td>\n",
        "      <td> San Bernardino Mountains</td>\n",
        "    </tr>\n",
        "    <tr>\n",
        "      <th>46736 </th>\n",
        "      <td>              Crack Two</td>\n",
        "      <td> 5768</td>\n",
        "      <td> California</td>\n",
        "      <td> 5.6</td>\n",
        "      <td> Climb the leftmost crack on the face.  Crux is...</td>\n",
        "      <td>    Trad</td>\n",
        "      <td> San Bernardino Mountains</td>\n",
        "    </tr>\n",
        "    <tr>\n",
        "      <th>46698 </th>\n",
        "      <td>              Crack One</td>\n",
        "      <td> 5768</td>\n",
        "      <td> California</td>\n",
        "      <td> 5.6</td>\n",
        "      <td> Start up the broken face into the crack that s...</td>\n",
        "      <td>    Trad</td>\n",
        "      <td> San Bernardino Mountains</td>\n",
        "    </tr>\n",
        "    <tr>\n",
        "      <th>46733 </th>\n",
        "      <td>             Crack Zero</td>\n",
        "      <td> 5768</td>\n",
        "      <td> California</td>\n",
        "      <td> 5.2</td>\n",
        "      <td> Follow the wide diagonal crack on the left of ...</td>\n",
        "      <td>    Trad</td>\n",
        "      <td> San Bernardino Mountains</td>\n",
        "    </tr>\n",
        "  </tbody>\n",
        "</table>\n",
        "</div>"
       ],
       "metadata": {},
       "output_type": "pyout",
       "prompt_number": 26,
       "text": [
        "                          name  mainarea      region grade  \\\n",
        "index                                                        \n",
        "48000   Too Much For Mike Pope       460  California   V0+   \n",
        "113222            Jerry's Kids      5768  California   5.9   \n",
        "46736                Crack Two      5768  California   5.6   \n",
        "46698                Crack One      5768  California   5.6   \n",
        "46733               Crack Zero      5768  California   5.2   \n",
        "\n",
        "                                              description    style  \\\n",
        "index                                                                \n",
        "48000   Start at the good flake (low), and climb the w...  Boulder   \n",
        "113222  Climb the face as pictured in the photo to a b...     Trad   \n",
        "46736   Climb the leftmost crack on the face.  Crux is...     Trad   \n",
        "46698   Start up the broken face into the crack that s...     Trad   \n",
        "46733   Follow the wide diagonal crack on the left of ...     Trad   \n",
        "\n",
        "                   mainarea_name  \n",
        "index                             \n",
        "48000            Sierra Eastside  \n",
        "113222  San Bernardino Mountains  \n",
        "46736   San Bernardino Mountains  \n",
        "46698   San Bernardino Mountains  \n",
        "46733   San Bernardino Mountains  "
       ]
      }
     ],
     "prompt_number": 26
    },
    {
     "cell_type": "heading",
     "level": 2,
     "metadata": {},
     "source": [
      "Combine similarities into one final set of predictions"
     ]
    },
    {
     "cell_type": "code",
     "collapsed": false,
     "input": [
      "comb_preddf=u_preddf"
     ],
     "language": "python",
     "metadata": {},
     "outputs": []
    },
    {
     "cell_type": "heading",
     "level": 2,
     "metadata": {},
     "source": [
      "Save final similarity predictions to db"
     ]
    },
    {
     "cell_type": "code",
     "collapsed": false,
     "input": [
      "chunksize=1000\n",
      "engine = create_engine('mysql://%s@%s/%s?charset=%s&use_unicode=%s&passwd=%s' %(cfg.user, cfg.host, cfg.dbname, cfg.charset, cfg.use_unicode, cfg.passwd), pool_recycle=3600)\n",
      "comb_preddf.to_sql('comb_sim_preds', engine, if_exists='replace', chunksize=chunksize)"
     ],
     "language": "python",
     "metadata": {},
     "outputs": []
    },
    {
     "cell_type": "code",
     "collapsed": false,
     "input": [],
     "language": "python",
     "metadata": {},
     "outputs": []
    }
   ],
   "metadata": {}
  }
 ]
}