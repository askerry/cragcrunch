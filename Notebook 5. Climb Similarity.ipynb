{
 "metadata": {
  "name": "",
  "signature": "sha256:336938fda2556320d17a01b6bec4444b6e5710e1d137feb57cdf4dcb2f266b26"
 },
 "nbformat": 3,
 "nbformat_minor": 0,
 "worksheets": [
  {
   "cells": [
    {
     "cell_type": "code",
     "collapsed": false,
     "input": [
      "pylab inline"
     ],
     "language": "python",
     "metadata": {},
     "outputs": [
      {
       "output_type": "stream",
       "stream": "stdout",
       "text": [
        "Populating the interactive namespace from numpy and matplotlib\n"
       ]
      }
     ],
     "prompt_number": 1
    },
    {
     "cell_type": "code",
     "collapsed": false,
     "input": [
      "%load_ext autoreload"
     ],
     "language": "python",
     "metadata": {},
     "outputs": [],
     "prompt_number": 92
    },
    {
     "cell_type": "code",
     "collapsed": false,
     "input": [
      "import pandas as pd\n",
      "pd.options.mode.chained_assignment = 'warn'  # default='warn', None, 'raise'\n",
      "#pd.options.display.memory_usage = True\n",
      "import numpy as np\n",
      "np.random.RandomState(100)\n",
      "from sqlalchemy import create_engine\n",
      "import os\n",
      "import sys\n",
      "sys.setrecursionlimit(3000)\n",
      "from joblib import Parallel, delayed  \n",
      "import multiprocessing\n",
      "num_cores = multiprocessing.cpu_count()\n",
      "print \"%s cores available for parallel processing\" % num_cores\n",
      "sys.path.append('mpscraper')\n",
      "sys.path.append('antools')\n",
      "import antools.modeling as mo\n",
      "from mpscraper.cfgdb import cfg\n",
      "import seaborn as sns\n",
      "sns.set_style('white')\n",
      "import matplotlib.pyplot as plt\n",
      "from sklearn.metrics.pairwise import pairwise_distances"
     ],
     "language": "python",
     "metadata": {},
     "outputs": [
      {
       "output_type": "stream",
       "stream": "stdout",
       "text": [
        "4 cores available for parallel processing\n"
       ]
      }
     ],
     "prompt_number": 93
    },
    {
     "cell_type": "code",
     "collapsed": false,
     "input": [
      "import sys, os\n",
      "rootdir=os.getcwd()\n",
      "while 'Projects' in rootdir:\n",
      "    rootdir=os.path.dirname(rootdir)\n",
      "projdir=os.path.join(rootdir, 'Projects','cragcrunch','data')"
     ],
     "language": "python",
     "metadata": {},
     "outputs": [],
     "prompt_number": 3
    },
    {
     "cell_type": "code",
     "collapsed": false,
     "input": [
      "#load in preprocessed data\n",
      "engine = create_engine('mysql://%s@%s/%s?charset=%s&use_unicode=%s&passwd=%s' %(cfg.user, cfg.host, cfg.dbname, cfg.charset, cfg.use_unicode, cfg.passwd), pool_recycle=3600)\n",
      "cdf = pd.read_sql(\"SELECT * from climb_prepped where region = 'New Hampshire'\", engine, index_col='index')\n",
      "adf = pd.read_sql(\"SELECT * from area_prepped where region = 'New Hampshire'\", engine, index_col='index')\n",
      "climbs=list(cdf.climbid.unique())\n",
      "udf = pd.read_sql(\"SELECT * from climber_prepped\", engine, index_col='index')\n",
      "hdf= pd.read_sql(\"SELECT * from hits_prepped\", engine, index_col='index')\n",
      "hdf=hdf.loc[hdf['climb'].isin(climbs)]\n",
      "allclimbs=hdf.climb.unique()\n",
      "allclimbers=hdf.climber.unique()"
     ],
     "language": "python",
     "metadata": {},
     "outputs": [],
     "prompt_number": 127
    },
    {
     "cell_type": "code",
     "collapsed": false,
     "input": [
      "distance_metric='cosine'#'jaccard'\n",
      "#[\u2018cityblock\u2019, \u2018cosine\u2019, \u2018euclidean\u2019, \u2018l1\u2019, \u2018l2\u2019, \u2018manhattan\u2019]\n",
      " #['jaccard',\u2018braycurtis\u2019, \u2018canberra\u2019, \u2018chebyshev\u2019, \u2018correlation\u2019, \u2018dice\u2019, \u2018hamming\u2019, \u2018jaccard\u2019, \u2018kulsinski\u2019, \u2018mahalanobis\u2019, \u2018matching\u2019, \u2018minkowski\u2019, \u2018rogerstanimoto\u2019, \u2018russellrao\u2019, \u2018seuclidean\u2019, \u2018sokalmichener\u2019, \u2018sokalsneath\u2019, \u2018sqeuclidean\u2019, \u2018yule\u2019]"
     ],
     "language": "python",
     "metadata": {},
     "outputs": [],
     "prompt_number": 153
    },
    {
     "cell_type": "heading",
     "level": 2,
     "metadata": {},
     "source": [
      "User similarity (Climb x Climber Matrix)"
     ]
    },
    {
     "cell_type": "code",
     "collapsed": false,
     "input": [
      "%autoreload\n",
      "hitmat=mo.computeinteractionmatrix(allclimbs, allclimbers, hdf)\n",
      "print hitmat.shape\n"
     ],
     "language": "python",
     "metadata": {},
     "outputs": [
      {
       "output_type": "stream",
       "stream": "stdout",
       "text": [
        "(1303, 254)\n"
       ]
      }
     ],
     "prompt_number": 189
    },
    {
     "cell_type": "code",
     "collapsed": false,
     "input": [
      "u_sim=pairwise_distances(hitmat.values, metric=distance_metric)\n",
      "u_sim=pd.DataFrame(index=hitmat.index.values, columns=hitmat.index.values, data=u_sim)"
     ],
     "language": "python",
     "metadata": {},
     "outputs": [],
     "prompt_number": 191
    },
    {
     "cell_type": "heading",
     "level": 2,
     "metadata": {},
     "source": [
      "Attribute similarity (Climb x Feature Matrix)"
     ]
    },
    {
     "cell_type": "code",
     "collapsed": false,
     "input": [
      "%autoreload\n",
      "descrip_tokens=[c for c in cdf.columns if \"_description\" in c]\n",
      "comment_tokens=[c for c in cdf.columns if \"_comments\" in c]\n",
      "othercols=['numerizedgrade','pageviews','avgstars','length','numerizedgrade']\n",
      "allcols=['climbid']+othercols+descrip_tokens+comment_tokens\n",
      "\n",
      "attrmat=mo.computeattributematrix(allclimbs, allcols, cdf)\n",
      "print attrmat.shape"
     ],
     "language": "python",
     "metadata": {},
     "outputs": [
      {
       "output_type": "stream",
       "stream": "stdout",
       "text": [
        "(469, 165)\n"
       ]
      }
     ],
     "prompt_number": 192
    },
    {
     "cell_type": "code",
     "collapsed": false,
     "input": [
      "a_sim=pairwise_distances(attrmat.values, metric=distance_metric)\n",
      "a_sim=pd.DataFrame(index=attrmat.index.values, columns=attrmat.index.values, data=a_sim)"
     ],
     "language": "python",
     "metadata": {},
     "outputs": [],
     "prompt_number": 193
    },
    {
     "cell_type": "heading",
     "level": 2,
     "metadata": {},
     "source": [
      "Physical similarity (Location)"
     ]
    },
    {
     "cell_type": "code",
     "collapsed": false,
     "input": [
      "%autoreload\n",
      "lmat=mo.computelocationmatrix(cdf, adf, allclimbs)"
     ],
     "language": "python",
     "metadata": {},
     "outputs": [],
     "prompt_number": 245
    },
    {
     "cell_type": "code",
     "collapsed": false,
     "input": [
      "l_sim=pairwise_distances(lmat, metric='euclidean')\n",
      "l_sim=pd.DataFrame(index=lmat.index.values, columns=lmat.index.values, data=l_sim)"
     ],
     "language": "python",
     "metadata": {},
     "outputs": [],
     "prompt_number": 246
    },
    {
     "cell_type": "heading",
     "level": 2,
     "metadata": {},
     "source": [
      "Compute most similar and least similar for each climb for each type of similarity"
     ]
    },
    {
     "cell_type": "code",
     "collapsed": false,
     "input": [
      "%autoreload\n",
      "u_preddf=mo.gettopbottom(u_sim, n=20)\n",
      "a_preddf=mo.gettopbottom(a_sim, n=20)\n",
      "l_preddf=mo.gettopbottom(l_sim, n=20)"
     ],
     "language": "python",
     "metadata": {},
     "outputs": [],
     "prompt_number": 248
    },
    {
     "cell_type": "heading",
     "level": 2,
     "metadata": {},
     "source": [
      "Test it out"
     ]
    },
    {
     "cell_type": "code",
     "collapsed": false,
     "input": [
      "%autoreload\n",
      "testclimb=\"Flesh For Lulu\"\n",
      "simclimbs, simnames, dissimclimbs, dissimnames=mo.getsimilar(testclimb, l_preddf, cdf, adf)"
     ],
     "language": "python",
     "metadata": {},
     "outputs": [],
     "prompt_number": 252
    },
    {
     "cell_type": "code",
     "collapsed": false,
     "input": [
      "simclimbs"
     ],
     "language": "python",
     "metadata": {},
     "outputs": [
      {
       "html": [
        "<div style=\"max-height:1000px;max-width:1500px;overflow:auto;\">\n",
        "<table border=\"1\" class=\"dataframe\">\n",
        "  <thead>\n",
        "    <tr style=\"text-align: right;\">\n",
        "      <th></th>\n",
        "      <th>name</th>\n",
        "      <th>mainarea</th>\n",
        "      <th>region</th>\n",
        "      <th>grade</th>\n",
        "      <th>description</th>\n",
        "      <th>style</th>\n",
        "      <th>mainarea_name</th>\n",
        "    </tr>\n",
        "    <tr>\n",
        "      <th>index</th>\n",
        "      <th></th>\n",
        "      <th></th>\n",
        "      <th></th>\n",
        "      <th></th>\n",
        "      <th></th>\n",
        "      <th></th>\n",
        "      <th></th>\n",
        "    </tr>\n",
        "  </thead>\n",
        "  <tbody>\n",
        "    <tr>\n",
        "      <th>61769</th>\n",
        "      <td>   Granny's Route</td>\n",
        "      <td> 1041</td>\n",
        "      <td> New Hampshire</td>\n",
        "      <td> 5.4</td>\n",
        "      <td> This route right now would be described as cho...</td>\n",
        "      <td>   Sport</td>\n",
        "      <td> Rumney</td>\n",
        "    </tr>\n",
        "    <tr>\n",
        "      <th>58620</th>\n",
        "      <td> Beginner's Route</td>\n",
        "      <td> 1041</td>\n",
        "      <td> New Hampshire</td>\n",
        "      <td> 5.5</td>\n",
        "      <td> After climbing hundreds of routes at Rumney, t...</td>\n",
        "      <td>    Trad</td>\n",
        "      <td> Rumney</td>\n",
        "    </tr>\n",
        "    <tr>\n",
        "      <th>24483</th>\n",
        "      <td>      Dung Beetle</td>\n",
        "      <td> 1041</td>\n",
        "      <td> New Hampshire</td>\n",
        "      <td> 5.8</td>\n",
        "      <td> Another route up this fun (but often crowded) ...</td>\n",
        "      <td>   Sport</td>\n",
        "      <td> Rumney</td>\n",
        "    </tr>\n",
        "    <tr>\n",
        "      <th>47298</th>\n",
        "      <td>   The Down Climb</td>\n",
        "      <td> 1041</td>\n",
        "      <td> New Hampshire</td>\n",
        "      <td>  V0</td>\n",
        "      <td> Around the arete that the moat flake is on. Th...</td>\n",
        "      <td> Boulder</td>\n",
        "      <td> Rumney</td>\n",
        "    </tr>\n",
        "    <tr>\n",
        "      <th>61433</th>\n",
        "      <td>      Fingerflake</td>\n",
        "      <td> 1041</td>\n",
        "      <td> New Hampshire</td>\n",
        "      <td> V0+</td>\n",
        "      <td> This is a newly cleaned route, that I do not k...</td>\n",
        "      <td> Boulder</td>\n",
        "      <td> Rumney</td>\n",
        "    </tr>\n",
        "  </tbody>\n",
        "</table>\n",
        "</div>"
       ],
       "metadata": {},
       "output_type": "pyout",
       "prompt_number": 253,
       "text": [
        "                   name  mainarea         region grade  \\\n",
        "index                                                    \n",
        "61769    Granny's Route      1041  New Hampshire   5.4   \n",
        "58620  Beginner's Route      1041  New Hampshire   5.5   \n",
        "24483       Dung Beetle      1041  New Hampshire   5.8   \n",
        "47298    The Down Climb      1041  New Hampshire    V0   \n",
        "61433       Fingerflake      1041  New Hampshire   V0+   \n",
        "\n",
        "                                             description    style  \\\n",
        "index                                                               \n",
        "61769  This route right now would be described as cho...    Sport   \n",
        "58620  After climbing hundreds of routes at Rumney, t...     Trad   \n",
        "24483  Another route up this fun (but often crowded) ...    Sport   \n",
        "47298  Around the arete that the moat flake is on. Th...  Boulder   \n",
        "61433  This is a newly cleaned route, that I do not k...  Boulder   \n",
        "\n",
        "      mainarea_name  \n",
        "index                \n",
        "61769        Rumney  \n",
        "58620        Rumney  \n",
        "24483        Rumney  \n",
        "47298        Rumney  \n",
        "61433        Rumney  "
       ]
      }
     ],
     "prompt_number": 253
    },
    {
     "cell_type": "code",
     "collapsed": false,
     "input": [
      "dissimclimbs"
     ],
     "language": "python",
     "metadata": {},
     "outputs": [
      {
       "html": [
        "<div style=\"max-height:1000px;max-width:1500px;overflow:auto;\">\n",
        "<table border=\"1\" class=\"dataframe\">\n",
        "  <thead>\n",
        "    <tr style=\"text-align: right;\">\n",
        "      <th></th>\n",
        "      <th>name</th>\n",
        "      <th>mainarea</th>\n",
        "      <th>region</th>\n",
        "      <th>grade</th>\n",
        "      <th>description</th>\n",
        "      <th>style</th>\n",
        "      <th>mainarea_name</th>\n",
        "    </tr>\n",
        "    <tr>\n",
        "      <th>index</th>\n",
        "      <th></th>\n",
        "      <th></th>\n",
        "      <th></th>\n",
        "      <th></th>\n",
        "      <th></th>\n",
        "      <th></th>\n",
        "      <th></th>\n",
        "    </tr>\n",
        "  </thead>\n",
        "  <tbody>\n",
        "    <tr>\n",
        "      <th>82455 </th>\n",
        "      <td> Lakeside warmup</td>\n",
        "      <td>     5</td>\n",
        "      <td> New Hampshire</td>\n",
        "      <td>    V0</td>\n",
        "      <td> A nice warmup for the other routes on these tw...</td>\n",
        "      <td> Boulder</td>\n",
        "      <td>                                NaN</td>\n",
        "    </tr>\n",
        "    <tr>\n",
        "      <th>82456 </th>\n",
        "      <td>     Summer Camp</td>\n",
        "      <td>     5</td>\n",
        "      <td> New Hampshire</td>\n",
        "      <td>    V2</td>\n",
        "      <td> Start with hands on the seam and a bad left fo...</td>\n",
        "      <td> Boulder</td>\n",
        "      <td>                                NaN</td>\n",
        "    </tr>\n",
        "    <tr>\n",
        "      <th>31    </th>\n",
        "      <td>      Wild Thing</td>\n",
        "      <td> 10977</td>\n",
        "      <td> New Hampshire</td>\n",
        "      <td> 5.12d</td>\n",
        "      <td> A long pitch with some awesome, pumpy climbing...</td>\n",
        "      <td>   Sport</td>\n",
        "      <td> Wild River Crags (aka Evans Notch)</td>\n",
        "    </tr>\n",
        "    <tr>\n",
        "      <th>122107</th>\n",
        "      <td>         Big Red</td>\n",
        "      <td> 10977</td>\n",
        "      <td> New Hampshire</td>\n",
        "      <td> 5.11d</td>\n",
        "      <td> Requires two rappels if you are climbing with ...</td>\n",
        "      <td>   Sport</td>\n",
        "      <td> Wild River Crags (aka Evans Notch)</td>\n",
        "    </tr>\n",
        "    <tr>\n",
        "      <th>40057 </th>\n",
        "      <td> The Flake Route</td>\n",
        "      <td>  1902</td>\n",
        "      <td> New Hampshire</td>\n",
        "      <td>  V3-4</td>\n",
        "      <td> Although not actually named the Flake Route, i...</td>\n",
        "      <td> Boulder</td>\n",
        "      <td>                        Pawtuckaway</td>\n",
        "    </tr>\n",
        "  </tbody>\n",
        "</table>\n",
        "</div>"
       ],
       "metadata": {},
       "output_type": "pyout",
       "prompt_number": 254,
       "text": [
        "                   name  mainarea         region  grade  \\\n",
        "index                                                     \n",
        "82455   Lakeside warmup         5  New Hampshire     V0   \n",
        "82456       Summer Camp         5  New Hampshire     V2   \n",
        "31           Wild Thing     10977  New Hampshire  5.12d   \n",
        "122107          Big Red     10977  New Hampshire  5.11d   \n",
        "40057   The Flake Route      1902  New Hampshire   V3-4   \n",
        "\n",
        "                                              description    style  \\\n",
        "index                                                                \n",
        "82455   A nice warmup for the other routes on these tw...  Boulder   \n",
        "82456   Start with hands on the seam and a bad left fo...  Boulder   \n",
        "31      A long pitch with some awesome, pumpy climbing...    Sport   \n",
        "122107  Requires two rappels if you are climbing with ...    Sport   \n",
        "40057   Although not actually named the Flake Route, i...  Boulder   \n",
        "\n",
        "                             mainarea_name  \n",
        "index                                       \n",
        "82455                                  NaN  \n",
        "82456                                  NaN  \n",
        "31      Wild River Crags (aka Evans Notch)  \n",
        "122107  Wild River Crags (aka Evans Notch)  \n",
        "40057                          Pawtuckaway  "
       ]
      }
     ],
     "prompt_number": 254
    },
    {
     "cell_type": "heading",
     "level": 2,
     "metadata": {},
     "source": [
      "Combine similarities into one final set of predictions"
     ]
    },
    {
     "cell_type": "code",
     "collapsed": false,
     "input": [],
     "language": "python",
     "metadata": {},
     "outputs": []
    },
    {
     "cell_type": "heading",
     "level": 2,
     "metadata": {},
     "source": [
      "Save final similarity predictions to db"
     ]
    },
    {
     "cell_type": "code",
     "collapsed": false,
     "input": [
      "chunksize=1000\n",
      "engine = create_engine('mysql://%s@%s/%s?charset=%s&use_unicode=%s&passwd=%s' %(cfg.user, cfg.host, cfg.dbname, cfg.charset, cfg.use_unicode, cfg.passwd), pool_recycle=3600)\n",
      "comb_preddf.to_sql('comb_sim_preds', engine, if_exists='replace', chunksize=chunksize)"
     ],
     "language": "python",
     "metadata": {},
     "outputs": []
    },
    {
     "cell_type": "code",
     "collapsed": false,
     "input": [],
     "language": "python",
     "metadata": {},
     "outputs": []
    }
   ],
   "metadata": {}
  }
 ]
}