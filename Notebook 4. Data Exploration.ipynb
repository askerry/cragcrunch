{
 "metadata": {
  "name": "",
  "signature": "sha256:ce8a34f39923841d96fc168d94caf197ce326e629b9c42d0e3829fb97ebf2a13"
 },
 "nbformat": 3,
 "nbformat_minor": 0,
 "worksheets": [
  {
   "cells": [
    {
     "cell_type": "code",
     "collapsed": false,
     "input": [],
     "language": "python",
     "metadata": {},
     "outputs": []
    }
   ],
   "metadata": {}
  }
 ]
}