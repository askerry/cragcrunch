{
 "metadata": {
  "name": "",
  "signature": "sha256:0f648bbf0f54b75b9a943ec099b5fc0892038fd8997efcc5424bf55dc3761ff3"
 },
 "nbformat": 3,
 "nbformat_minor": 0,
 "worksheets": [
  {
   "cells": [
    {
     "cell_type": "code",
     "collapsed": false,
     "input": [],
     "language": "python",
     "metadata": {},
     "outputs": [],
     "prompt_number": 0
    },
    {
     "cell_type": "code",
     "collapsed": false,
     "input": [],
     "language": "python",
     "metadata": {},
     "outputs": [],
     "prompt_number": 0
    },
    {
     "cell_type": "heading",
     "level": 1,
     "metadata": {},
     "source": [
      "Limitations"
     ]
    },
    {
     "cell_type": "markdown",
     "metadata": {},
     "source": [
      "1. Didn't take into account variability in grading standards across regions\n",
      "    - the same grade can refer to very different difficulty levels across different areas\n",
      "    - ideally, a personalized model can go beyond recorded grades when telling you what climbs are appropriate for your skill level\n",
      "    - unfortunately, it is difficult to estimate the region/area-level differences in grading standards from the data, because some areas are more stiff vs. soft in the grading, but some areas also contain easier vs. harder climbs. Thus, a simple approach like normalizing by average difficulty of the region would not suffice\n",
      "2. Didn't take into account relative difficult assessment as a signal\n",
      "    - a major factor in enjoyment of a climb is fit to the climber's skill set (i.e. if there is a climb rated 5.12 that is all crimps and I find it easy, I'll probably enjoy that climb more than a climb that is rated 5.10d but very overhung and difficult for me\n",
      "    - in principle, we should be able to use the perceived difficulty of a climb to an individual user as another signal relating to the climber's skills and preferences\n",
      "3. Popularity is weighted equally\n",
      "    - Overall popularity should be weighted in a graded fashion depending on the amount of personalized information available for a given user"
     ]
    },
    {
     "cell_type": "markdown",
     "metadata": {},
     "source": []
    },
    {
     "cell_type": "markdown",
     "metadata": {},
     "source": []
    },
    {
     "cell_type": "code",
     "collapsed": false,
     "input": [],
     "language": "python",
     "metadata": {},
     "outputs": [],
     "prompt_number": 1
    },
    {
     "cell_type": "code",
     "collapsed": false,
     "input": [],
     "language": "python",
     "metadata": {},
     "outputs": [],
     "prompt_number": 1
    },
    {
     "cell_type": "code",
     "collapsed": false,
     "input": [],
     "language": "python",
     "metadata": {},
     "outputs": []
    }
   ],
   "metadata": {}
  }
 ]
}