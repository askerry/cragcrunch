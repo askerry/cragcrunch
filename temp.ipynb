{
 "cells": [
  {
   "cell_type": "code",
   "execution_count": 1,
   "metadata": {
    "collapsed": false
   },
   "outputs": [
    {
     "name": "stdout",
     "output_type": "stream",
     "text": [
      "Populating the interactive namespace from numpy and matplotlib\n"
     ]
    }
   ],
   "source": [
    "pylab inline"
   ]
  },
  {
   "cell_type": "code",
   "execution_count": 3,
   "metadata": {
    "collapsed": true
   },
   "outputs": [],
   "source": [
    "import numpy as np\n",
    "import matplotlib.pyplot as plt\n",
    "import scipy.stats\n",
    "import pandas as pd\n",
    "import os\n",
    "import MySQLdb"
   ]
  },
  {
   "cell_type": "code",
   "execution_count": null,
   "metadata": {
    "collapsed": true
   },
   "outputs": [],
   "source": []
  },
  {
   "cell_type": "code",
   "execution_count": null,
   "metadata": {
    "collapsed": true
   },
   "outputs": [],
   "source": []
  },
  {
   "cell_type": "code",
   "execution_count": null,
   "metadata": {
    "collapsed": true
   },
   "outputs": [],
   "source": []
  },
  {
   "cell_type": "code",
   "execution_count": null,
   "metadata": {
    "collapsed": true
   },
   "outputs": [],
   "source": []
  },
  {
   "cell_type": "code",
   "execution_count": 6,
   "metadata": {
    "collapsed": false
   },
   "outputs": [
    {
     "data": {
      "text/plain": [
       "[<a href=\"/v/the-anchovy-caper/106148899\">Anchovy Caper, The</a>,\n",
       " <a href=\"/v/armed-and-dangerous-and-off-my-medication/105935097\">Armed and Dangerous, and Off My Medication</a>,\n",
       " <a href=\"/v/arugula-arugula/108005676\">Arugula, Arugula</a>,\n",
       " <a href=\"/v/barbershop-duet/106791802\">Barbershop Duet</a>,\n",
       " <a href=\"/v/the-big-easy/106052151\">Big Easy, The</a>,\n",
       " <a href=\"/v/boats-from-cuba/108133264\">Boats from Cuba</a>,\n",
       " <a href=\"/v/bonnie-and-clyde/106884452\">Bonnie and Clyde</a>,\n",
       " <a href=\"/v/bourbon-street/106054635\">Bourbon Street</a>,\n",
       " <a href=\"/v/brendans-bitches/106054645\">Brendan's Bitches</a>,\n",
       " <a href=\"/v/cereal-killer/105935083\">Cereal Killer</a>,\n",
       " <a href=\"/v/climb-and-punishment/106891606\">Climb and Punishment</a>,\n",
       " <a href=\"/v/clusterphobia/105959353\">Clusterphobia</a>,\n",
       " <a href=\"/v/far-from-feral/107543333\">Far From Feral</a>,\n",
       " <a href=\"/v/fish-corner-/106543794\">Fish Corner </a>,\n",
       " <a href=\"/v/flying-squirrel/106744677\">Flying Squirrel</a>,\n",
       " <a href=\"/v/green-mile/106009586\">Green Mile</a>,\n",
       " <a href=\"/v/half-nelson-57-full-nelson-511b/106913131\">Half Nelson 5.7/ Full Nelson 5.11b</a>,\n",
       " <a href=\"/v/juicy-fingers/106011991\">Juicy Fingers</a>,\n",
       " <a href=\"/v/the-maltese-falcon/107543321\">Maltese Falcon, The</a>,\n",
       " <a href=\"/v/marias-variation/106168784\">Maria's Variation</a>,\n",
       " <a href=\"/v/men-in-white-suits/105959381\">Men In White Suits</a>,\n",
       " <a href=\"/v/mentally-disturbed/109491316\">Mentally Disturbed</a>,\n",
       " <a href=\"/v/mesresha-open-project/107671111\">Mesresha (open project)</a>,\n",
       " <a href=\"/v/metamorphosis/105959363\">Metamorphosis</a>,\n",
       " <a href=\"/v/panama-hat-aka-mister-meaner/106744657\">Panama Hat (aka Mister Meaner)</a>,\n",
       " <a href=\"/v/rainbow/106054653\">Rainbow</a>,\n",
       " <a href=\"/v/scene-of-the-crime/105947723\">Scene of the Crime</a>,\n",
       " <a href=\"/v/sesame-street/105959390\">Sesame Street</a>,\n",
       " <a href=\"/v/slack/106018063\">Slack</a>,\n",
       " <a href=\"/v/toxic-gumbo/106148885\">Toxic Gumbo</a>,\n",
       " <a href=\"/v/the-white-buttress/107392855\">White Buttress, The</a>]"
      ]
     },
     "execution_count": 6,
     "metadata": {},
     "output_type": "execute_result"
    }
   ],
   "source": [
    "import urllib2\n",
    "from bs4 import BeautifulSoup\n",
    "import re\n",
    "import os\n",
    "url='http://www.mountainproject.com/v/armed-and-dangerous-and-off-my-medication/105935097'\n",
    "url='http://www.mountainproject.com/v/armed-and-dangerous-area-main-cliff-left/105935079'\n",
    "r=urllib2.urlopen(url)\n",
    "html = r.read()\n",
    "soup = BeautifulSoup(html)\n",
    "leftnav=soup.find('table', id=re.compile('leftNav'))\n",
    "leftnav.find_all('a', href=re.compile(\"/v/\"))"
   ]
  },
  {
   "cell_type": "code",
   "execution_count": null,
   "metadata": {
    "collapsed": true
   },
   "outputs": [],
   "source": []
  }
 ],
 "metadata": {
  "kernelspec": {
   "display_name": "Python 2",
   "language": "python",
   "name": "python2"
  },
  "language_info": {
   "codemirror_mode": {
    "name": "ipython",
    "version": 2
   },
   "file_extension": ".py",
   "mimetype": "text/x-python",
   "name": "python",
   "nbconvert_exporter": "python",
   "pygments_lexer": "ipython2",
   "version": "2.7.6"
  }
 },
 "nbformat": 4,
 "nbformat_minor": 0
}
