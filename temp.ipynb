{
 "cells": [
  {
   "cell_type": "code",
   "execution_count": 1,
   "metadata": {
    "collapsed": false
   },
   "outputs": [
    {
     "name": "stdout",
     "output_type": "stream",
     "text": [
      "Populating the interactive namespace from numpy and matplotlib\n"
     ]
    }
   ],
   "source": [
    "pylab inline"
   ]
  },
  {
   "cell_type": "code",
   "execution_count": 3,
   "metadata": {
    "collapsed": true
   },
   "outputs": [],
   "source": [
    "import numpy as np\n",
    "import matplotlib.pyplot as plt\n",
    "import scipy.stats\n",
    "import pandas as pd\n",
    "import os\n",
    "import MySQLdb"
   ]
  },
  {
   "cell_type": "code",
   "execution_count": 218,
   "metadata": {
    "collapsed": false
   },
   "outputs": [
    {
     "name": "stdout",
     "output_type": "stream",
     "text": [
      "The autoreload extension is already loaded. To reload it, use:\n",
      "  %reload_ext autoreload\n"
     ]
    }
   ],
   "source": [
    "%load_ext autoreload"
   ]
  },
  {
   "cell_type": "code",
   "execution_count": 222,
   "metadata": {
    "collapsed": false
   },
   "outputs": [],
   "source": [
    "%autoreload 2"
   ]
  },
  {
   "cell_type": "code",
   "execution_count": 21,
   "metadata": {
    "collapsed": false
   },
   "outputs": [],
   "source": [
    "logging.info('prep_logger')"
   ]
  },
  {
   "cell_type": "code",
   "execution_count": 39,
   "metadata": {
    "collapsed": false
   },
   "outputs": [],
   "source": [
    "class User():\n",
    "    def __init__(self):\n",
    "        self.a='A'\n",
    "        self.b='B'\n",
    "        self.happy=True"
   ]
  },
  {
   "cell_type": "code",
   "execution_count": 62,
   "metadata": {
    "collapsed": false
   },
   "outputs": [
    {
     "data": {
      "text/plain": [
       "'__'"
      ]
     },
     "execution_count": 62,
     "metadata": {},
     "output_type": "execute_result"
    }
   ],
   "source": [
    "inspect.getmembers(u)[0][0][:2]"
   ]
  },
  {
   "cell_type": "code",
   "execution_count": 64,
   "metadata": {
    "collapsed": false
   },
   "outputs": [
    {
     "data": {
      "text/plain": [
       "[('__doc__', None),\n",
       " ('__init__',\n",
       "  <bound method User.__init__ of <__main__.User instance at 0x10b8983f8>>),\n",
       " ('__module__', '__main__'),\n",
       " ('a', 'A'),\n",
       " ('b', 'B'),\n",
       " ('happy', True)]"
      ]
     },
     "execution_count": 64,
     "metadata": {},
     "output_type": "execute_result"
    }
   ],
   "source": [
    "u=User()\n",
    "inspect.getmembers(u)"
   ]
  },
  {
   "cell_type": "code",
   "execution_count": 80,
   "metadata": {
    "collapsed": false
   },
   "outputs": [],
   "source": [
    "import inspect\n",
    "attrs,_=zip(*inspect.getmembers(u, lambda x: not inspect.ismethod(x)))\n",
    "attrs=[a for a in attrs if a[:2]!='__']"
   ]
  },
  {
   "cell_type": "code",
   "execution_count": 81,
   "metadata": {
    "collapsed": false
   },
   "outputs": [
    {
     "data": {
      "text/plain": [
       "['a', 'b', 'happy']"
      ]
     },
     "execution_count": 81,
     "metadata": {},
     "output_type": "execute_result"
    }
   ],
   "source": [
    "attrs"
   ]
  },
  {
   "cell_type": "code",
   "execution_count": 92,
   "metadata": {
    "collapsed": false
   },
   "outputs": [],
   "source": [
    "holdterms=['crimp','pinch','jug','sloper','ledge','pocket','sidepull','dyno', 'deadpoint','heelhook','toehook','bat-hang', 'undercling', 'crack', 'flake', 'arete','gaston', 'layback','hand', 'flaring','fingers', 'wide','thin', 'offwidth', 'chimney','diahedral','corner', 'traverse']\n",
    "descriptors=['steep','overhung','slab','technical','thin', 'ramp','sporty','vertical', 'boulder']\n",
    "easeterms=['easy','hard','stiff','pump','beginner','hung','take','difficult', 'committing', 'crux', 'soft','sandbag', 'awkward','creative','comfortable']\n",
    "safetyterms=['runout','spicy','exciting','nervous','sketchy','pro', 'deck', 'gear', 'protect','fall','rusty','clipping','swing', 'tenuous', 'nopro', 'mental']\n",
    "rockterms=['granite', 'limestone', 'schist', 'patina','sandstone', 'conglomerate', 'quartzite', 'gneiss', 'basalt']\n",
    "allterms=holdterms+descriptors+easeterms+safetyterms+rockterms"
   ]
  },
  {
   "cell_type": "code",
   "execution_count": 122,
   "metadata": {
    "collapsed": false
   },
   "outputs": [],
   "source": [
    "del term_dict['runout']\n",
    "term_dict['run']=['run']"
   ]
  },
  {
   "cell_type": "code",
   "execution_count": 158,
   "metadata": {
    "collapsed": false
   },
   "outputs": [],
   "source": [
    "term_dict=collections.OrderedDict(term_dict)"
   ]
  },
  {
   "cell_type": "code",
   "execution_count": 159,
   "metadata": {
    "collapsed": false
   },
   "outputs": [],
   "source": [
    "import json\n",
    "with open('cfg/apriori.json', 'w') as f:\n",
    "    json.dump(term_dict, f)"
   ]
  },
  {
   "cell_type": "code",
   "execution_count": 160,
   "metadata": {
    "collapsed": false
   },
   "outputs": [],
   "source": [
    "import collections\n",
    "with open('cfg/apriori.json', 'r') as f:\n",
    "    j=json.loads(f.read(), object_pairs_hook=collections.OrderedDict)"
   ]
  },
  {
   "cell_type": "code",
   "execution_count": 183,
   "metadata": {
    "collapsed": false
   },
   "outputs": [],
   "source": [
    "def func(x):\n",
    "    return x+1, x*2\n",
    "x=zip(*df['a'].apply(func).values)"
   ]
  },
  {
   "cell_type": "code",
   "execution_count": 187,
   "metadata": {
    "collapsed": false
   },
   "outputs": [],
   "source": [
    "a=x[0]\n",
    "b=x[1]"
   ]
  },
  {
   "cell_type": "code",
   "execution_count": 199,
   "metadata": {
    "collapsed": false
   },
   "outputs": [
    {
     "name": "stdout",
     "output_type": "stream",
     "text": [
      "-1.29841452478\n",
      "2.03545623778\n",
      "1.70486721564\n",
      "0.607695499633\n",
      "1.51234796083\n",
      "1.79628204118\n",
      "-3.390008332\n",
      "-3.88380839757\n",
      "-2.32484885381\n",
      "2.0825226482\n"
     ]
    }
   ],
   "source": [
    "for a_el, b_el in zip(a,b):\n",
    "    print b_el"
   ]
  },
  {
   "cell_type": "code",
   "execution_count": 141,
   "metadata": {
    "collapsed": false
   },
   "outputs": [
    {
     "data": {
      "text/plain": [
       "True"
      ]
     },
     "execution_count": 141,
     "metadata": {},
     "output_type": "execute_result"
    }
   ],
   "source": [
    "def text_processing(string, feature_dict):\n",
    "    wordlist=nltk.tokenize.word_tokenize(string.lower())\n",
    "    c=Counter()\n",
    "    for term in feature_dict:\n",
    "        for word in wordlist:\n",
    "            if any([match in word for match in feature_dict[term]]):\n",
    "                c[term]+=1\n",
    "    return c"
   ]
  },
  {
   "cell_type": "code",
   "execution_count": 126,
   "metadata": {
    "collapsed": false
   },
   "outputs": [],
   "source": [
    "html=\"This is a really interesting and fun climb around the left corner of the Darth Vader Crag. Originally a spicy trad climb now it's been retro-bolted and it is a spooky sport climb with a big run out in the middle (not sure why, though the move there aren't too hard). It's a fine route, just be careful and bring a cool head. <br> <br>Start by the birch tree on the ledge. Make a committing move right and gain a huge flake. move back left and up connecting jugs with some balance moves. eventually climb a perfect hand crack to the chains.\""
   ]
  },
  {
   "cell_type": "code",
   "execution_count": 127,
   "metadata": {
    "collapsed": false
   },
   "outputs": [
    {
     "data": {
      "text/plain": [
       "\"This is a really interesting and fun climb around the left corner of the Darth Vader Crag. Originally a spicy trad climb now it's been retro-bolted and it is a spooky sport climb with a big run out in the middle (not sure why, though the move there aren't too hard). It's a fine route, just be careful and bring a cool head. <br> <br>Start by the birch tree on the ledge. Make a committing move right and gain a huge flake. move back left and up connecting jugs with some balance moves. eventually climb a perfect hand crack to the chains.\""
      ]
     },
     "execution_count": 127,
     "metadata": {},
     "output_type": "execute_result"
    }
   ],
   "source": [
    "html"
   ]
  },
  {
   "cell_type": "code",
   "execution_count": 149,
   "metadata": {
    "collapsed": false
   },
   "outputs": [],
   "source": [
    "from collections import Counter\n",
    "def text_processing(string, feature_dict):\n",
    "    wordlist=nltk.tokenize.word_tokenize(string.lower())\n",
    "    c=Counter()\n",
    "    for term in feature_dict:\n",
    "        for word in wordlist:\n",
    "            if any([match in word for match in feature_dict[term]]):\n",
    "                c[term]+=1\n",
    "    return c"
   ]
  },
  {
   "cell_type": "code",
   "execution_count": 154,
   "metadata": {
    "collapsed": false
   },
   "outputs": [
    {
     "data": {
      "text/plain": [
       "Counter({u'crimp': 3, u'bat': 1, u'spicy': 1, u'run': 1, u'jug': 1, u'committing': 1, u'flake': 1, u'hand': 1, u'ledge': 1, u'crack': 1, u'hung': 1, u'corner': 1, u'difficult': 1})"
      ]
     },
     "execution_count": 154,
     "metadata": {},
     "output_type": "execute_result"
    }
   ],
   "source": [
    "text_processing(html, j)"
   ]
  },
  {
   "cell_type": "code",
   "execution_count": 153,
   "metadata": {
    "collapsed": false
   },
   "outputs": [
    {
     "data": {
      "text/plain": [
       "['This',\n",
       " 'is',\n",
       " 'a',\n",
       " 'really',\n",
       " 'interesting',\n",
       " 'and',\n",
       " 'fun',\n",
       " 'climb',\n",
       " 'around',\n",
       " 'the',\n",
       " 'left',\n",
       " 'corner',\n",
       " 'of',\n",
       " 'the',\n",
       " 'Darth',\n",
       " 'Vader',\n",
       " 'Crag',\n",
       " '.',\n",
       " 'Originally',\n",
       " 'a',\n",
       " 'spicy',\n",
       " 'trad',\n",
       " 'climb',\n",
       " 'now',\n",
       " 'it',\n",
       " \"'\",\n",
       " 's',\n",
       " 'been',\n",
       " 'retro',\n",
       " '-',\n",
       " 'bolted',\n",
       " 'and',\n",
       " 'it',\n",
       " 'is',\n",
       " 'a',\n",
       " 'spooky',\n",
       " 'sport',\n",
       " 'climb',\n",
       " 'with',\n",
       " 'a',\n",
       " 'big',\n",
       " 'run',\n",
       " 'out',\n",
       " 'in',\n",
       " 'the',\n",
       " 'middle',\n",
       " '(',\n",
       " 'not',\n",
       " 'sure',\n",
       " 'why',\n",
       " ',',\n",
       " 'though',\n",
       " 'the',\n",
       " 'move',\n",
       " 'there',\n",
       " 'aren',\n",
       " \"'\",\n",
       " 't',\n",
       " 'too',\n",
       " 'hard',\n",
       " ').',\n",
       " 'It',\n",
       " \"'\",\n",
       " 's',\n",
       " 'a',\n",
       " 'fine',\n",
       " 'route',\n",
       " ',',\n",
       " 'just',\n",
       " 'be',\n",
       " 'careful',\n",
       " 'and',\n",
       " 'bring',\n",
       " 'a',\n",
       " 'cool',\n",
       " 'head',\n",
       " '.',\n",
       " '<',\n",
       " 'br',\n",
       " '>',\n",
       " '<',\n",
       " 'br',\n",
       " '>',\n",
       " 'Start',\n",
       " 'by',\n",
       " 'the',\n",
       " 'birch',\n",
       " 'tree',\n",
       " 'on',\n",
       " 'the',\n",
       " 'ledge',\n",
       " '.',\n",
       " 'Make',\n",
       " 'a',\n",
       " 'committing',\n",
       " 'move',\n",
       " 'right',\n",
       " 'and',\n",
       " 'gain',\n",
       " 'a',\n",
       " 'huge',\n",
       " 'flake',\n",
       " '.',\n",
       " 'move',\n",
       " 'back',\n",
       " 'left',\n",
       " 'and',\n",
       " 'up',\n",
       " 'connecting',\n",
       " 'jugs',\n",
       " 'with',\n",
       " 'some',\n",
       " 'balance',\n",
       " 'moves',\n",
       " '.',\n",
       " 'eventually',\n",
       " 'climb',\n",
       " 'a',\n",
       " 'perfect',\n",
       " 'hand',\n",
       " 'crack',\n",
       " 'to',\n",
       " 'the',\n",
       " 'chains',\n",
       " '..',\n",
       " 'and',\n",
       " 'it',\n",
       " 'was',\n",
       " 'the',\n",
       " 'best',\n",
       " 'crimpy',\n",
       " 'crimpfest',\n",
       " 'I',\n",
       " 'ever',\n",
       " 'did',\n",
       " 'crimp',\n",
       " '.',\n",
       " 'I',\n",
       " 'loved',\n",
       " 'the',\n",
       " 'bat',\n",
       " '-',\n",
       " 'hang',\n",
       " 'too']"
      ]
     },
     "execution_count": 153,
     "metadata": {},
     "output_type": "execute_result"
    }
   ],
   "source": [
    "html=html+'. and it was the best crimpy crimpfest I ever did crimp. I loved the bat-hang too'\n",
    "tok.tokenize(html)"
   ]
  },
  {
   "cell_type": "code",
   "execution_count": 200,
   "metadata": {
    "collapsed": false
   },
   "outputs": [
    {
     "data": {
      "text/plain": [
       "u'/Users/amyskerry/Documents/Projects/cragcrunch'"
      ]
     },
     "execution_count": 200,
     "metadata": {},
     "output_type": "execute_result"
    }
   ],
   "source": [
    "pwd"
   ]
  },
  {
   "cell_type": "code",
   "execution_count": 205,
   "metadata": {
    "collapsed": false
   },
   "outputs": [],
   "source": [
    "import batch.batch_prep as bp\n",
    "from batch.process import *"
   ]
  },
  {
   "cell_type": "code",
   "execution_count": 208,
   "metadata": {
    "collapsed": false
   },
   "outputs": [],
   "source": [
    "sys.path.append('../cfg')\n",
    "from cfg.database_cfg import cfg\n",
    "\n",
    "#parse database input\n",
    "cfg.dbname='climbdb2'\n",
    "\n",
    "#load in the data\n",
    "climbdf, areadf, climberdf, tickdf, commentdf, gradedf, stardf=load_data(cfg)\n",
    "\n",
    "#basic cleaning    \n",
    "climbdf=cleandf(climbdf)\n",
    "areadf=cleandf(areadf) \n",
    "climberdf=cleandf(climberdf) \n",
    "tickdf=cleandf(tickdf) \n",
    "commentdf=cleandf(commentdf) \n",
    "gradedf=cleandf(gradedf) \n",
    "stardf=cleandf(stardf) \n",
    "logging.info(\"performed dataframe initial cleaning ({} climbs)\".format(len(climbdf)))\n"
   ]
  },
  {
   "cell_type": "code",
   "execution_count": 209,
   "metadata": {
    "collapsed": true
   },
   "outputs": [],
   "source": [
    "#initial reduction steps\n",
    "climbdf,stardf,commentdf,gradedf,tickdf=bp.dropstyles(climbdf,stardf,commentdf,gradedf,tickdf)\n",
    "climbdf, areadf=bp.limittoUSA(climbdf, areadf)\n",
    "climbdf,stardf,commentdf,gradedf,tickdf=bp.dropungraded(climbdf,stardf,commentdf,gradedf,tickdf)\n",
    "climberdf, areadf, climbdf,stardf,commentdf,gradedf,tickdf=bp.dedupsandmissing(climberdf, areadf, climbdf,stardf,commentdf,gradedf,tickdf)\n",
    "logging.info(\"performed data reduction ({} climbs)\".format(len(climbdf)))\n",
    "\n",
    "#create climber x climb matrix\n",
    "hitsdf=create_hitdf(tickdf, commentdf, gradedf)\n",
    "\n",
    "#misc fixes  \n",
    "climberdf=bp.fixclimbers(climberdf, hitsdf)\n",
    "hitsdf, climberdf, areadf, climbdf,stardf,commentdf,gradedf,tickdf=bp.reindexall(hitsdf,climberdf, areadf, climbdf,stardf,commentdf,gradedf,tickdf)\n",
    "#random cleanup hacks\n",
    "stardf.starsscore=stardf.starsscore-1\n",
    "climberdf.loc[climberdf['age']>120, 'age']=np.nan #catch some jokesters\n",
    "#limit all dfs to the climbs we currently have in climbdf\n",
    "hitsdf, stardf, commentdf, gradedf, tickdf=bp.dropclimbs(climbdf, hitsdf, stardf, commentdf, gradedf, tickdf)\n",
    "climbdf=bp.quantize_grades(climbdf)\n",
    "logging.info(\"performed additional cleaning ({} climbs)\".format(len(climbdf)))"
   ]
  },
  {
   "cell_type": "code",
   "execution_count": 228,
   "metadata": {
    "collapsed": false
   },
   "outputs": [],
   "source": [
    "#area parsing\n",
    "areadf, climbdf=area_parsing(areadf, climbdf)"
   ]
  },
  {
   "cell_type": "code",
   "execution_count": null,
   "metadata": {
    "collapsed": true
   },
   "outputs": [],
   "source": [
    "def getclimberareas(hitsdf, climbdf, climberdf):\n",
    "    '''get all mainareas that a climber has climbd in'''\n",
    "    for c in climberdf.climberid.values:\n",
    "        climbids=[i for i in hitsdf[hitsdf['climber']==c]['climb'].values if i in climbdf['climbid'].values]\n",
    "        areas=climbdf.loc[climbids,'mainarea'].values\n",
    "        numareas=len(set(areas))\n",
    "        try:\n",
    "            m=scipy.stats.mode(areas)[0][0]\n",
    "        except:\n",
    "            m=np.nan\n",
    "        climberdf.loc[c,'mainarea']=m\n",
    "        climberdf.loc[c,'numareas']=numareas\n",
    "    return climberdf"
   ]
  },
  {
   "cell_type": "code",
   "execution_count": null,
   "metadata": {
    "collapsed": false
   },
   "outputs": [],
   "source": [
    "climberdf=getclimberareas(hitsdf, climbdf, climberdf)"
   ]
  },
  {
   "cell_type": "code",
   "execution_count": null,
   "metadata": {
    "collapsed": true
   },
   "outputs": [],
   "source": [
    "climberdf['region']=climberdf['mainarea'].apply(prep.getregion, areadf=areadf)"
   ]
  },
  {
   "cell_type": "code",
   "execution_count": null,
   "metadata": {
    "collapsed": true
   },
   "outputs": [],
   "source": [
    "#cleanup stars\n",
    "climbdf=bp.fixstars(stardf, climbdf)\n",
    "climbdf=bp.combinestars(climbdf)\n",
    "climbdf['roundedstars']=climbdf['avgstars'].apply(np.round) \n",
    "morecols=climbdf['climbid'].apply(bp.getratingcounts, sdf=stardf)\n",
    "climbdf['starcounts']=[x[0] for x in morecols.values]\n",
    "climbdf['starstd']=[x[1] for x in morecols.values]\n",
    "logging.info(\"performed star rating clean up\")\n",
    "\n"
   ]
  },
  {
   "cell_type": "code",
   "execution_count": null,
   "metadata": {
    "collapsed": true
   },
   "outputs": [],
   "source": [
    "#final reduction for consistency\n",
    "hitsdf, stardf, commentdf, gradedf, tickdf=bp.dropclimbs(climbdf, hitsdf, stardf, commentdf, gradedf, tickdf)\n",
    "hitsdf, climberdf, areadf, climbdf,stardf,commentdf,gradedf,tickdf=bp.renameindices(hitsdf, climberdf, areadf, climbdf,stardf,commentdf,gradedf,tickdf)\n",
    "hitsdf=hitsdf[hitsdf['climber'].isin(climberdf.climberid.unique())]\n",
    "logging.info(\"final reduction to ({} climbs)\".format(len(climbdf)))\n",
    "\n",
    "climbdf=bp.text_counts(climbdf)\n"
   ]
  },
  {
   "cell_type": "code",
   "execution_count": null,
   "metadata": {
    "collapsed": true
   },
   "outputs": [],
   "source": []
  },
  {
   "cell_type": "code",
   "execution_count": null,
   "metadata": {
    "collapsed": true
   },
   "outputs": [],
   "source": []
  }
 ],
 "metadata": {
  "kernelspec": {
   "display_name": "Python 2",
   "language": "python",
   "name": "python2"
  },
  "language_info": {
   "codemirror_mode": {
    "name": "ipython",
    "version": 2
   },
   "file_extension": ".py",
   "mimetype": "text/x-python",
   "name": "python",
   "nbconvert_exporter": "python",
   "pygments_lexer": "ipython2",
   "version": "2.7.6"
  }
 },
 "nbformat": 4,
 "nbformat_minor": 0
}
