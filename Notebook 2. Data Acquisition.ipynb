{
 "metadata": {
  "name": "",
  "signature": "sha256:da2aa88d683c2f4ae886ffad6d9e5c443566288ac7e61bcaa262de1605120a18"
 },
 "nbformat": 3,
 "nbformat_minor": 0,
 "worksheets": [
  {
   "cells": [
    {
     "cell_type": "heading",
     "level": 1,
     "metadata": {},
     "source": [
      "Data Acquisition"
     ]
    },
    {
     "cell_type": "heading",
     "level": 3,
     "metadata": {},
     "source": [
      "Choosing a data source"
     ]
    },
    {
     "cell_type": "markdown",
     "metadata": {},
     "source": [
      "What sort of data can I use to provide personalized climbing recommendations? Over the years, the [rock climbing](http://en.wikipedia.org/wiki/Rock_climbing) community has amassed a wealth of climbing information through a website called http://www.mountainproject.com. This data includes descriptions and facts about individual routes and [bouldering](http://en.wikipedia.org/wiki/Bouldering) problems, information about different parks and areas, and a massive store of user data in the form of comments, ratings, and suggested difficulty [grades](http://en.wikipedia.org/wiki/Grade_%28climbing%29). This is an impressive [community-driven project](http://www.mountainproject.com/community/) and currently functions as a useful [web resource](www.mountainproject.com) for planning climbing trips and obtaining route details. However, in its current form, much of the richness of this dataset is locked away from the community of users who have built it. CragCrunch aims to be a comprehensive and interactive platform for making the most of this unique data resource.\n",
      "\n",
      "To obtain data for user-specific climbing recommendations, I scraped HTML content from MountainProject. From the site, I extract three distinct kinds of data:\n",
      "- user data (e.g. which routes different climbers climbed, and their personal ratings)\n",
      "- route attributes (e.g. location, elevation, route length, grade)\n",
      "- unstructured text associated with routes (e.g. comments, descriptions)\n"
     ]
    },
    {
     "cell_type": "heading",
     "level": 3,
     "metadata": {},
     "source": [
      "Scraping MountainProject.com"
     ]
    },
    {
     "cell_type": "markdown",
     "metadata": {},
     "source": [
      "Scraping and cleaning this data from MP was one of the biggest challenges of the project. I used python library scrapy to build crawlers, scrape html, and clean extracted data, and python library sqlalchemy to save the cleaned data to a mysql database.\n",
      "Scraping the data involved digging into the (unfortunately not entirely systematic) structure of this website using a variety of features of the scrapy library. I first defined a set of Scrapy items that defined the individual kinds of data and relevant attributes to extract from different pages. I then created a set of crawlers which, given a set of starting URLs, followed links according to specified regex rules, applying a specific set of scraping functions depending on the type of page it encountered. These scraping functions used xpath expressions to extract desired data based on position in the html and fill in item attributes based on the extracted data. I then wrote a set of pipelines which performed initial preprocessing of these items, and saved them to a mysql database.\n"
     ]
    },
    {
     "cell_type": "heading",
     "level": 3,
     "metadata": {},
     "source": [
      "Data"
     ]
    },
    {
     "cell_type": "markdown",
     "metadata": {},
     "source": [
      "The end result of the scraping process was a mysql database with 7 iterrelated tables that form the basis for the subsequent analyses. \n",
      "- climbs: database of individual routes and facts about them (descriptions, average rating, average grade, route length, route style, etc.) \n",
      "- climbers: database of individual climbers and facts about them (gender, age, hobbies) areas: database of individual climbing - areas (parks or \"crags\"), their locations, descriptions \n",
      "- stars: individual users' ratings (1-4 star scale) of the climbs (references climbs and climbers) grades: individual users' - - grades (yosemite decimal system and USA boulder system) of the climbs (references climbs and climbers) \n",
      "- comments: individual users' comments about the climbs (references climbs and climbers) \n",
      "- ticks: individual users' \"ticks\" (records of having completed a climb, plus notes) (references climbs and climbers)\n"
     ]
    },
    {
     "cell_type": "code",
     "collapsed": false,
     "input": [],
     "language": "python",
     "metadata": {},
     "outputs": []
    }
   ],
   "metadata": {}
  }
 ]
}