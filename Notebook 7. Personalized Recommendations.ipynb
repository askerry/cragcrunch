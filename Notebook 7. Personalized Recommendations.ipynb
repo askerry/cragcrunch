{
 "metadata": {
  "name": "",
  "signature": "sha256:ffd8a4534b5422ea49c444ac20aa226a2e52e2d81c0dcad73bf85fb4621a4ac4"
 },
 "nbformat": 3,
 "nbformat_minor": 0,
 "worksheets": [
  {
   "cells": [
    {
     "cell_type": "code",
     "collapsed": false,
     "input": [
      "pylab inline"
     ],
     "language": "python",
     "metadata": {},
     "outputs": [
      {
       "output_type": "stream",
       "stream": "stdout",
       "text": [
        "Populating the interactive namespace from numpy and matplotlib\n"
       ]
      }
     ],
     "prompt_number": 1
    },
    {
     "cell_type": "code",
     "collapsed": false,
     "input": [
      "%load_ext autoreload"
     ],
     "language": "python",
     "metadata": {},
     "outputs": [],
     "prompt_number": 2
    },
    {
     "cell_type": "code",
     "collapsed": false,
     "input": [
      "import pandas as pd\n",
      "import numpy as np\n",
      "np.random.RandomState(100)\n",
      "from sqlalchemy import create_engine\n",
      "import os\n",
      "import sys\n",
      "\n",
      "from joblib import Parallel, delayed  \n",
      "import multiprocessing\n",
      "num_cores = multiprocessing.cpu_count()\n",
      "print \"%s cores available for parallel processing\" % num_cores\n",
      "\n",
      "sys.path.append('mpscraper')\n",
      "from mpscraper.cfgdb import cfg\n",
      "sys.path.append('antools')\n",
      "import antools.reduction as red\n",
      "import antools.utilities as util\n",
      "import antools.modeling as mo\n",
      "import seaborn as sns\n",
      "sns.set_style('white')\n",
      "import matplotlib.pyplot as plt\n",
      "from sklearn.metrics.pairwise import pairwise_distances"
     ],
     "language": "python",
     "metadata": {},
     "outputs": [
      {
       "output_type": "stream",
       "stream": "stdout",
       "text": [
        "4 cores available for parallel processing\n"
       ]
      }
     ],
     "prompt_number": 13
    },
    {
     "cell_type": "code",
     "collapsed": false,
     "input": [
      "import sys, os\n",
      "rootdir=os.getcwd()\n",
      "while 'Projects' in rootdir:\n",
      "    rootdir=os.path.dirname(rootdir)\n",
      "projdir=os.path.join(rootdir, 'Projects','cragcrunch','data')"
     ],
     "language": "python",
     "metadata": {},
     "outputs": [],
     "prompt_number": 5
    },
    {
     "cell_type": "heading",
     "level": 3,
     "metadata": {},
     "source": [
      "Load in preprocessed data"
     ]
    },
    {
     "cell_type": "code",
     "collapsed": false,
     "input": [
      "engine = create_engine('mysql://%s@%s/%s?charset=%s&use_unicode=%s&passwd=%s' %(cfg.user, cfg.host, cfg.dbname, cfg.charset, cfg.use_unicode, cfg.passwd), pool_recycle=3600)\n",
      "cdf = pd.read_sql(\"SELECT * from climb_prepped where region = 'California'\", engine, index_col='index')\n",
      "adf = pd.read_sql(\"SELECT * from area_prepped where region = 'California'\", engine, index_col='index')\n",
      "climbs=list(cdf.climbid.unique())\n",
      "udf = pd.read_sql(\"SELECT * from climber_prepped\", engine, index_col='index')\n",
      "hdf= pd.read_sql(\"SELECT * from hits_prepped\", engine, index_col='index')\n",
      "sdf= pd.read_sql(\"SELECT * from stars_prepped\", engine, index_col='index')\n",
      "gdf= pd.read_sql(\"SELECT * from grades_prepped\", engine, index_col='index')\n",
      "codf= pd.read_sql(\"SELECT * from comments_prepped\", engine, index_col='index')\n",
      "tdf= pd.read_sql(\"SELECT * from ticks_prepped\", engine, index_col='index')"
     ],
     "language": "python",
     "metadata": {},
     "outputs": [],
     "prompt_number": 6
    },
    {
     "cell_type": "heading",
     "level": 3,
     "metadata": {},
     "source": [
      "Eliminate climbs with very low traffic"
     ]
    },
    {
     "cell_type": "code",
     "collapsed": false,
     "input": [
      "#to keep the dataset size managable, and focus on climbs that get SOME traffic, we will limit to climbs with at least minthresh climbers reporting on them\n",
      "%autoreload\n",
      "minthresh=5\n",
      "i=len(adf)\n",
      "j=len(cdf)\n",
      "popclimbdf, hdf, sdf, codf, gdf, tdf=red.limit2popular(hdf,cdf, sdf, codf, gdf, tdf, minthresh=minthresh)\n",
      "print \"dropped to climbs with > %s hits\" %(minthresh)\n",
      "print \"starting with %s, reducing to %s\" %(i, len(adf))\n",
      "print \"starting with %s, reducing to %s\" %(j, len(cdf))"
     ],
     "language": "python",
     "metadata": {},
     "outputs": [
      {
       "output_type": "stream",
       "stream": "stdout",
       "text": [
        "beginning with 8314 unique climbs\n",
        "limited to 7082 climbs by restricting to climbs with >5 climber entries\n",
        "dropped to climbs with > 5 hits"
       ]
      },
      {
       "output_type": "stream",
       "stream": "stdout",
       "text": [
        "\n",
        "starting with 3049, reducing to 3049\n",
        "starting with 8314, reducing to 8314\n"
       ]
      }
     ],
     "prompt_number": 7
    },
    {
     "cell_type": "code",
     "collapsed": false,
     "input": [
      "#take testp% of climbs and put aside all entries relating to that climb as test data\n",
      "testp=0.05\n",
      "\n",
      "testids=np.random.choice(popclimbdf.index.values,int(len(popclimbdf)*testp))\n",
      "util.pickletheseobjects(os.path.join(rootdir,'projects','cragcrunch', 'data', 'testids.pkl'),[testids])\n",
      "testclimbdf,climbdf=popclimbdf.loc[testids,:].copy(), popclimbdf.drop(testids)\n",
      "testtdf,tdf=mo.splittraintest(tdf, testids)\n",
      "testcodf,codf=mo.splittraintest(codf, testids)\n",
      "testgdf,gdf=mo.splittraintest(gdf, testids)\n",
      "testsdf,sdf=mo.splittraintest(sdf, testids)\n",
      "testhdf,hdf=mo.splittraintest(hdf, testids)\n",
      "print \"putting aside %s of %s climbs for a final validation test\" %(len(testids), len(popclimbdf))"
     ],
     "language": "python",
     "metadata": {},
     "outputs": [
      {
       "output_type": "stream",
       "stream": "stdout",
       "text": [
        "putting aside 354 of 7082 climbs for a final validation test\n"
       ]
      }
     ],
     "prompt_number": 14
    },
    {
     "cell_type": "code",
     "collapsed": false,
     "input": [
      "sdf.head(4)"
     ],
     "language": "python",
     "metadata": {},
     "outputs": [
      {
       "html": [
        "<div style=\"max-height:1000px;max-width:1500px;overflow:auto;\">\n",
        "<table border=\"1\" class=\"dataframe\">\n",
        "  <thead>\n",
        "    <tr style=\"text-align: right;\">\n",
        "      <th></th>\n",
        "      <th>starid</th>\n",
        "      <th>starsscore</th>\n",
        "      <th>climb</th>\n",
        "      <th>climblink</th>\n",
        "      <th>climber</th>\n",
        "      <th>url</th>\n",
        "      <th>name</th>\n",
        "      <th>urlname</th>\n",
        "    </tr>\n",
        "    <tr>\n",
        "      <th>index</th>\n",
        "      <th></th>\n",
        "      <th></th>\n",
        "      <th></th>\n",
        "      <th></th>\n",
        "      <th></th>\n",
        "      <th></th>\n",
        "      <th></th>\n",
        "      <th></th>\n",
        "    </tr>\n",
        "  </thead>\n",
        "  <tbody>\n",
        "    <tr>\n",
        "      <th>96 </th>\n",
        "      <td>  96</td>\n",
        "      <td> 4</td>\n",
        "      <td> 699</td>\n",
        "      <td>    mountainproject.com/v/new-dimensions/105992537</td>\n",
        "      <td> 10</td>\n",
        "      <td> mountainproject.com/u/ken-duncan//13115?action...</td>\n",
        "      <td>               Ken Duncan_New Dimensions</td>\n",
        "      <td> ken-duncan</td>\n",
        "    </tr>\n",
        "    <tr>\n",
        "      <th>122</th>\n",
        "      <td> 122</td>\n",
        "      <td> 4</td>\n",
        "      <td> 724</td>\n",
        "      <td> mountainproject.com/v/reeds-pinnacle-direct-ro...</td>\n",
        "      <td> 10</td>\n",
        "      <td> mountainproject.com/u/ken-duncan//13115?action...</td>\n",
        "      <td> Ken Duncan_Reed's Pinnacle-Direct Route</td>\n",
        "      <td> ken-duncan</td>\n",
        "    </tr>\n",
        "    <tr>\n",
        "      <th>124</th>\n",
        "      <td> 124</td>\n",
        "      <td> 4</td>\n",
        "      <td> 727</td>\n",
        "      <td>        mountainproject.com/v/mr-natural/105954972</td>\n",
        "      <td> 10</td>\n",
        "      <td> mountainproject.com/u/ken-duncan//13115?action...</td>\n",
        "      <td>                  Ken Duncan_Mr. Natural</td>\n",
        "      <td> ken-duncan</td>\n",
        "    </tr>\n",
        "    <tr>\n",
        "      <th>125</th>\n",
        "      <td> 125</td>\n",
        "      <td> 4</td>\n",
        "      <td> 728</td>\n",
        "      <td>     mountainproject.com/v/crack-a-go-go/105872888</td>\n",
        "      <td> 10</td>\n",
        "      <td> mountainproject.com/u/ken-duncan//13115?action...</td>\n",
        "      <td>                Ken Duncan_Crack-a-Go-Go</td>\n",
        "      <td> ken-duncan</td>\n",
        "    </tr>\n",
        "  </tbody>\n",
        "</table>\n",
        "</div>"
       ],
       "metadata": {},
       "output_type": "pyout",
       "prompt_number": 15,
       "text": [
        "       starid  starsscore  climb  \\\n",
        "index                              \n",
        "96         96           4    699   \n",
        "122       122           4    724   \n",
        "124       124           4    727   \n",
        "125       125           4    728   \n",
        "\n",
        "                                               climblink  climber  \\\n",
        "index                                                               \n",
        "96        mountainproject.com/v/new-dimensions/105992537       10   \n",
        "122    mountainproject.com/v/reeds-pinnacle-direct-ro...       10   \n",
        "124           mountainproject.com/v/mr-natural/105954972       10   \n",
        "125        mountainproject.com/v/crack-a-go-go/105872888       10   \n",
        "\n",
        "                                                     url  \\\n",
        "index                                                      \n",
        "96     mountainproject.com/u/ken-duncan//13115?action...   \n",
        "122    mountainproject.com/u/ken-duncan//13115?action...   \n",
        "124    mountainproject.com/u/ken-duncan//13115?action...   \n",
        "125    mountainproject.com/u/ken-duncan//13115?action...   \n",
        "\n",
        "                                          name     urlname  \n",
        "index                                                       \n",
        "96                   Ken Duncan_New Dimensions  ken-duncan  \n",
        "122    Ken Duncan_Reed's Pinnacle-Direct Route  ken-duncan  \n",
        "124                     Ken Duncan_Mr. Natural  ken-duncan  \n",
        "125                   Ken Duncan_Crack-a-Go-Go  ken-duncan  "
       ]
      }
     ],
     "prompt_number": 15
    },
    {
     "cell_type": "code",
     "collapsed": false,
     "input": [
      "len(testsdf)"
     ],
     "language": "python",
     "metadata": {},
     "outputs": [
      {
       "metadata": {},
       "output_type": "pyout",
       "prompt_number": 16,
       "text": [
        "969"
       ]
      }
     ],
     "prompt_number": 16
    },
    {
     "cell_type": "code",
     "collapsed": false,
     "input": [],
     "language": "python",
     "metadata": {},
     "outputs": [],
     "prompt_number": 16
    },
    {
     "cell_type": "code",
     "collapsed": false,
     "input": [
      "%autoreload\n",
      "allpdf=az.individualpred(hitsdf, climberdf,stardf, gradedf,parallel=False,needsprep=False)\n",
      "allpdf=allpdf[allpdf['source']!=allpdf['targetclimber']]"
     ],
     "language": "python",
     "metadata": {},
     "outputs": [],
     "prompt_number": 16
    },
    {
     "cell_type": "code",
     "collapsed": false,
     "input": [
      "possims=np.arange(-1,1,.25)\n",
      "poscounts=np.arange(0,50,5)\n",
      "compdf=az.makecompdf(possims,poscounts,allpdf)\n",
      "f,ax=plt.subplots(1,2, figsize=[14,6], sharey=True)\n",
      "sns.pointplot(x='simthresh', y='coverage', hue='countthresh',data=compdf, ax=ax[0])\n",
      "sns.pointplot(x='countthresh', y='coverage', hue='simthresh', data=compdf, ax=ax[1])\n",
      "sns.despine()"
     ],
     "language": "python",
     "metadata": {},
     "outputs": [],
     "prompt_number": 16
    },
    {
     "cell_type": "code",
     "collapsed": false,
     "input": [
      "sns.factorplot(x='simthresh', y='variance explained', hue='countthresh', data=compdf)"
     ],
     "language": "python",
     "metadata": {},
     "outputs": [],
     "prompt_number": 16
    },
    {
     "cell_type": "code",
     "collapsed": false,
     "input": [
      "#test accuracy of rating predictions bsaed on ratings of similar climbers\n",
      "mincount=0\n",
      "minsim=-.5\n",
      "usepdf=allpdf[allpdf['true']!=0]\n",
      "matchdf=az.assessindpreds(usepdf, minsim, mincount, operator='>')"
     ],
     "language": "python",
     "metadata": {},
     "outputs": []
    },
    {
     "cell_type": "code",
     "collapsed": false,
     "input": [
      "#test accuracy of rating predictions bsaed on ratings of all climbers\n",
      "allmatchdf=az.assessindpreds(usepdf, minsim, mincount, operator='all')"
     ],
     "language": "python",
     "metadata": {},
     "outputs": [],
     "prompt_number": 17
    },
    {
     "cell_type": "code",
     "collapsed": false,
     "input": [
      "#test accuracy of rating predictions bsaed on ratings of dissimilar climbers\n",
      "mismatchdf=az.assessindpreds(usepdf, minsim, mincount, operator='<')"
     ],
     "language": "python",
     "metadata": {},
     "outputs": [],
     "prompt_number": 17
    },
    {
     "cell_type": "code",
     "collapsed": false,
     "input": [
      "compare=pd.concat([matchdf, mismatchdf, allmatchdf])\n",
      "acc=compare['true']==compare['intpreds']\n",
      "compare['correct']=acc.astype(int)\n",
      "f,ax=plt.subplots(1,2,figsize=[10,4], sharex=True)\n",
      "compare.groupby('simtype').mean()['correct'].plot(kind='bar', ax=ax[0], grid=False, color=['g','b','orange'])\n",
      "ax[0].set_ylabel('accuracy')\n",
      "sns.barplot(x='simtype', y='discrep', data=compare, ci=68, ax=ax[1], color=['g','b','orange'])\n",
      "plt.ylabel('average prediction error')\n",
      "plt.xlabel('prediction basis')\n",
      "sns.despine()"
     ],
     "language": "python",
     "metadata": {},
     "outputs": [],
     "prompt_number": 17
    },
    {
     "cell_type": "code",
     "collapsed": false,
     "input": [],
     "language": "python",
     "metadata": {},
     "outputs": [],
     "prompt_number": 17
    },
    {
     "cell_type": "code",
     "collapsed": false,
     "input": [],
     "language": "python",
     "metadata": {},
     "outputs": [],
     "prompt_number": 17
    },
    {
     "cell_type": "code",
     "collapsed": false,
     "input": [
      "def predictbasedonsimilarclimbers(climberdf, stardf,gradedf, climberid, testclimberdf=[], teststardf=[], testgradedf=[],similarity='pref', parallel=False):\n",
      "    if similarity=='pref':\n",
      "        reldf=stardf\n",
      "        testreldf=teststardf\n",
      "        col='starsscore'\n",
      "    elif similarity=='skill':\n",
      "        reldf=gradedf\n",
      "        testreldf=testgradedf\n",
      "        col='grade'\n",
      "    if len(testclimberdf)==0:\n",
      "        availclimbs=reldf[reldf['climber']==climberid]['climb'].values\n",
      "        availratings=reldf[reldf['climber']==climberid][col].values\n",
      "        from sklearn.cross_validation import train_test_split\n",
      "        availclimbs_train, availclimbs_test, availratings_train, availratings_test = train_test_split(availclimbs, availratings, test_size=0.33, random_state=42)\n",
      "    else:\n",
      "        availclimbs_train=reldf[reldf['climber']==climberid]['climb'].values\n",
      "        availratings_train=reldf[reldf['climber']==climberid][col].values\n",
      "        availclimbs_test=testreldf[testreldf['climber']==climberid]['climb'].values\n",
      "        availratings_test=testreldf[testreldf['climber']==climberid][col].values\n",
      "    print len(availclimbs_test)\n",
      "    if len(availclimbs_test)>20:\n",
      "        availclimbs_test=availclimbs_test[:20]\n",
      "        availratings_test=availratings_test[:20]\n",
      "    otherclimbers=reldf[reldf['climb'].isin(availclimbs_train)]['climber'].values\n",
      "    print len(otherclimbers)\n",
      "    otherratings, sims, climbids, climbersources, climbids, trues, counts, test, targetclimber=[],[],[],[],[],[],[],[],[]\n",
      "    for oid in otherclimbers:\n",
      "        r,climbcounts=computeclimbersimilarity(climberid,oid, reldf, col, trainclimbs=availclimbs_train,similarity=similarity)\n",
      "        for climbn,climb in enumerate(availclimbs_test):\n",
      "            rating=reldf[(reldf['climber']==oid) & (reldf['climb']==climb)][col].values\n",
      "            if len(rating)>0:\n",
      "                otherratings.append(rating[0])\n",
      "                targetclimber.append(climberid)\n",
      "                sims.append(r);climbids.append(climb);climbersources.append(oid);trues.append(availratings_test[climbn]);counts.append(climbcounts);test.append(True)\n",
      "    pdf=pd.DataFrame(data={'targetclimber':targetclimber, 'climbid':climbids, 'otherrating':otherratings, 'similarity':sims,'number':counts, 'source':climbersources, 'true':trues, 'test':test})\n",
      "    return pdf\n",
      "\n",
      "def computeclimbersimilarity(c1,c2, reldf,col, trainclimbs=None, relative=True, similarity='pref'):\n",
      "    r1=reldf.loc[reldf['climber']==c1]\n",
      "    r2=reldf.loc[reldf['climber']==c2]\n",
      "    if similarity=='pref':\n",
      "        common=pd.merge(r1[[col,'relative_star','climb','climber']], r2[['starsscore','relative_star','climb','climber']], on='climb')\n",
      "        common=common[common['climb'].isin(trainclimbs)]       \n",
      "        if relative:\n",
      "            a,b='relative_star_x', 'relative_star_y'\n",
      "        else:\n",
      "            a,b='starsscore_x', 'starsscore_y'\n",
      "    elif similarity=='skill':\n",
      "       common=pd.merge(r1[[col,'rankdiff','climb','climber']], r2[['grade','rankdiff','climb','climber']], on='climb')\n",
      "       a,b='rankdiff_x','rankdiff_y'\n",
      "    if len(common)>1:\n",
      "        r,p=scipy.stats.pearsonr(common[a].values,common[b].values)\n",
      "        num=len(common[a].values)\n",
      "    elif len(common)==1:\n",
      "            if common[a].values==common[b].values:\n",
      "                r,num=1,1\n",
      "            elif np.abs(common[a].values-common[b].values)<2:\n",
      "                r,num=0,1\n",
      "            else:\n",
      "                r,num=-1,1\n",
      "    else:\n",
      "        r=np.nan\n",
      "        num=0\n",
      "    return r,num\n",
      "\n",
      "'''\n",
      "def predictpref(reldf, climb, climber, r, count, col):\n",
      "    rating=reldf[reldf['climber']==climber][col].values[0]\n",
      "    if r>0:\n",
      "        pred=rating\n",
      "    elif r<0:\n",
      "        pred=5-rating\n",
      "    else:\n",
      "        pred=np.nan\n",
      "    return pred, r, count\n",
      "def normalizetoindividual(indstars):\n",
      "    indstars['zscored_star_relative']=(indstars['relative_star'].values-indstars['relative_star'].mean())/indstars['relative_star'].std()\n",
      "    indstars['zscored_star']=(indstars['starsscore'].values-indstars['starsscore'].mean())/indstars['starsscore'].std()\n",
      "    return indstars\n",
      "'''\n"
     ],
     "language": "python",
     "metadata": {},
     "outputs": [],
     "prompt_number": 17
    },
    {
     "cell_type": "code",
     "collapsed": false,
     "input": [
      "def individualpred(hitsdf, climberdf,stardf, gradedf,parallel=False,needsprep=False, mode='train', countthresh=20): \n",
      "    if needsprep:\n",
      "        #sample of individual climbers\n",
      "        counts=hitsdf.groupby('climber').count()[['climb']]\n",
      "        possclimbers=counts[counts['climb']>countthresh].index #let's focus on predicting ratings for climbers who have climbed a large number of climbs\n",
      "        possclimbers=[c for c in possclimbers if c in climberdf.climberid.values]\n",
      "        print len(possclimbers)\n",
      "            pdfs=Parallel(n_jobs=3)(delayed(az.predictbasedonsimilarclimbers)(climberdf, stardf,gradedf, climber, similarity='pref') for climber in possclimbers)\n",
      "        else:\n",
      "            pdfs=[]\n",
      "            for climber in possclimbers:\n",
      "                print \"working on climber %s\" %climber\n",
      "                pdfs.append(predictbasedonsimilarclimbers(climberdf, stardf,gradedf, climber, similarity='pref'))\n",
      "    \n",
      "        allpdf=pd.concat(pdfs)\n",
      "        if mode=='test':\n",
      "            util.pickletheseobjects(os.path.join(rootdir, 'data', 'allpdftest.pkl'),[allpdf])\n",
      "        else:\n",
      "            util.pickletheseobjects(os.path.join(rootdir, 'data', 'allpdf.pkl'),[allpdf])\n",
      "    else:\n",
      "        if mode=='test':\n",
      "            allpdf=util.loadpickledobjects(os.path.join(rootdir, 'data', 'allpdftest.pkl'))[0]\n",
      "        else:\n",
      "            allpdf=util.loadpickledobjects(os.path.join(rootdir, 'data', 'allpdf.pkl'))[0]\n",
      "    return allpdf\n"
     ],
     "language": "python",
     "metadata": {},
     "outputs": [],
     "prompt_number": 17
    },
    {
     "cell_type": "code",
     "collapsed": false,
     "input": [
      "climberid=15\n",
      "climbs=hdf[hdf['climber']==climberid]['climb'].values\n",
      "print climbs\n"
     ],
     "language": "python",
     "metadata": {},
     "outputs": [
      {
       "output_type": "stream",
       "stream": "stdout",
       "text": [
        "[  1903   1904   1909   1912   1913   1914   1918   2142   2145   2144\n",
        "   2412   8596   6081  14407   8221   1386   4004   3467   5648   4625\n",
        "   2061   2287   4257    533   1845   9542  33948  75387 103236   1582\n",
        "  56917 103974  81024]\n"
       ]
      },
      {
       "html": [
        "<div style=\"max-height:1000px;max-width:1500px;overflow:auto;\">\n",
        "<table border=\"1\" class=\"dataframe\">\n",
        "  <thead>\n",
        "    <tr style=\"text-align: right;\">\n",
        "      <th></th>\n",
        "      <th>starid</th>\n",
        "      <th>starsscore</th>\n",
        "      <th>climb</th>\n",
        "      <th>climblink</th>\n",
        "      <th>climber</th>\n",
        "      <th>url</th>\n",
        "      <th>name</th>\n",
        "      <th>urlname</th>\n",
        "    </tr>\n",
        "    <tr>\n",
        "      <th>index</th>\n",
        "      <th></th>\n",
        "      <th></th>\n",
        "      <th></th>\n",
        "      <th></th>\n",
        "      <th></th>\n",
        "      <th></th>\n",
        "      <th></th>\n",
        "      <th></th>\n",
        "    </tr>\n",
        "  </thead>\n",
        "  <tbody>\n",
        "  </tbody>\n",
        "</table>\n",
        "</div>"
       ],
       "metadata": {},
       "output_type": "pyout",
       "prompt_number": 34,
       "text": [
        "Empty DataFrame\n",
        "Columns: [starid, starsscore, climb, climblink, climber, url, name, urlname]\n",
        "Index: []"
       ]
      }
     ],
     "prompt_number": 34
    },
    {
     "cell_type": "code",
     "collapsed": false,
     "input": [],
     "language": "python",
     "metadata": {},
     "outputs": []
    },
    {
     "cell_type": "code",
     "collapsed": false,
     "input": [
      "routetypes=['Trad', 'Sport', 'Toprope', 'Boulder', 'Ice', 'Miaxed', 'Aid', 'Alpine']\n",
      "holdterms=['crimp','pinch','jug','sloper','ledge','pocket','sidepull','dyno', 'deadpoint','heelhook','toehook','bat-hang', 'undercling', 'crack', 'flake', 'arete','gaston', 'layback','hand crack', 'flaring crack','fingers crack', 'wide crack','thin crack', 'offwidth', 'chimney','diahedral','corner', 'traverse']\n",
      "descriptors=['steep','overhang','slab','technical','thin', 'ramp', 'overhung','sporty','vertical', 'boulder', 'bouldery']\n",
      "easeterms=['easy','hard','stiff','pumpy','beginner','hang','hung','take','difficult', 'committing', 'crux', 'soft','sandbag', 'awkward','creative','comfortable']\n",
      "safetyterms=['runout','spicy','exciting','nervous','sketchy','no pro', 'deck', 'eats gear', 'easy to protect','fall','rusty','clipping','swing', 'tenuous', 'minimal pro', 'mental']\n",
      "rockterms=['granite', 'limestone', 'schist', 'patina','sandstone', 'conglomerate', 'quartzite', 'gneiss', 'basalt']\n"
     ],
     "language": "python",
     "metadata": {},
     "outputs": [],
     "prompt_number": 93
    },
    {
     "cell_type": "code",
     "collapsed": false,
     "input": [
      "terms=holdterms+descriptors+easeterms+safetyterms+rockterms"
     ],
     "language": "python",
     "metadata": {},
     "outputs": [],
     "prompt_number": 94
    },
    {
     "cell_type": "code",
     "collapsed": false,
     "input": [
      "def getuserstars(sdf, cdf, climberid):\n",
      "    sdf=sdf[sdf['climber']==climberid]\n",
      "    sdf=pd.merge(sdf, cdf, left_on='climb', right_on=['climbid'], how='left')\n",
      "    return sdf[['climber','starsscore', 'climb','grade','style','avgstars']]\n",
      "usdf2=plotuserstars(sdf, cdf, climberid)"
     ],
     "language": "python",
     "metadata": {},
     "outputs": [],
     "prompt_number": 118
    },
    {
     "cell_type": "code",
     "collapsed": false,
     "input": [
      "[len(x) for x in cdf['commentsmerged'].values]"
     ],
     "language": "python",
     "metadata": {},
     "outputs": [
      {
       "ename": "TypeError",
       "evalue": "object of type 'NoneType' has no len()",
       "output_type": "pyerr",
       "traceback": [
        "\u001b[0;31m---------------------------------------------------------------------------\u001b[0m\n\u001b[0;31mTypeError\u001b[0m                                 Traceback (most recent call last)",
        "\u001b[0;32m<ipython-input-196-2d87c14cba15>\u001b[0m in \u001b[0;36m<module>\u001b[0;34m()\u001b[0m\n\u001b[0;32m----> 1\u001b[0;31m \u001b[0;34m[\u001b[0m\u001b[0mlen\u001b[0m\u001b[0;34m(\u001b[0m\u001b[0mx\u001b[0m\u001b[0;34m)\u001b[0m \u001b[0;32mfor\u001b[0m \u001b[0mx\u001b[0m \u001b[0;32min\u001b[0m \u001b[0mcdf\u001b[0m\u001b[0;34m[\u001b[0m\u001b[0;34m'commentsmerged'\u001b[0m\u001b[0;34m]\u001b[0m\u001b[0;34m.\u001b[0m\u001b[0mvalues\u001b[0m\u001b[0;34m]\u001b[0m\u001b[0;34m\u001b[0m\u001b[0m\n\u001b[0m",
        "\u001b[0;31mTypeError\u001b[0m: object of type 'NoneType' has no len()"
       ]
      }
     ],
     "prompt_number": 196
    },
    {
     "cell_type": "code",
     "collapsed": false,
     "input": [
      "def getuserstarsbywords(sdf, cdf, climberid, terms):\n",
      "    sdf=sdf[sdf['climber']==climberid]\n",
      "    sdf=pd.merge(sdf, cdf, left_on='climb', right_on=['climbid'], how='left')\n",
      "    dcols=[c+'_description' for c in terms]\n",
      "    dlen=np.array([len(x) if isinstance(x,str) else 0 for x in sdf.description.values])\n",
      "    ccols=[c+'_commentsmerged' for c in terms]\n",
      "    clen=np.array([len(x) if isinstance(x,str) else 0 for x in sdf.commentsmerged.values])\n",
      "    dvals=(sdf[dcols].values.T/dlen).T\n",
      "    cvals=(sdf[ccols].values.T/clen).T\n",
      "    mvals=np.nanmean([cvals,dvals], axis=0)\n",
      "    ndf=pd.DataFrame(index=sdf['climb'], data=mvals, columns=terms)\n",
      "    ndf['starsscore']=sdf['starsscore'].values\n",
      "    return ndf[['starsscore']+terms]\n",
      "def standarderrorcorr(r,n):\n",
      "    return (1-r**2)/np.sqrt(n-1)\n",
      "def getuserpredictors(usdf,t,minn=6):\n",
      "    predictions=usdf.corr().loc['starsscore'][1:].dropna()\n",
      "    corrs=predictions.values\n",
      "    labels=predictions.index.values\n",
      "    sems=[standarderrorcorr(r, len(usdf)) for r in corrs]\n",
      "    if len(labels)>4:\n",
      "        f,ax=plt.subplots(figsize=[4,3])\n",
      "        ax.bar(range(len(corrs)), corrs, yerr=sems)\n",
      "        ax.set_xlim([0,len(corrs)])\n",
      "        ax.set_xticks(np.arange(len(corrs))+.5)\n",
      "        ax.set_xticklabels(labels, rotation=90)\n",
      "        ax.set_ylabel('preference score')\n",
      "        ax.set_xlabel(t)\n",
      "        sns.despine()\n",
      "        plt.tight_layout()\n",
      "    else:\n",
      "        f,ax=[],[]\n",
      "    return f,ax, corrs, labels, sems\n"
     ],
     "language": "python",
     "metadata": {},
     "outputs": [],
     "prompt_number": 336
    },
    {
     "cell_type": "code",
     "collapsed": false,
     "input": [
      "termtypes={'rock type':rockterms, 'ease factors':easeterms, 'hold types':holdterms,'safety factors': safetyterms, 'face descriptions':descriptors}\n",
      "for t in termtypes.keys():\n",
      "    usdf=getuserstarsbywords(sdf, cdf, climberid, termtypes[t])\n",
      "    f,ax, corrs, labels, sems=getuserpredictors(usdf,t, minn=6)"
     ],
     "language": "python",
     "metadata": {},
     "outputs": [
      {
       "metadata": {},
       "output_type": "display_data",
       "png": "[encoded data removed]",
       "text": [
        "<matplotlib.figure.Figure at 0x119c7e9d0>"
       ]
      },
      {
       "metadata": {},
       "output_type": "display_data",
       "png": "[encoded data removed]",
       "text": [
        "<matplotlib.figure.Figure at 0x11d8c4550>"
       ]
      },
      {
       "metadata": {},
       "output_type": "display_data",
       "png": "[encoded data removed]",
       "text": [
        "<matplotlib.figure.Figure at 0x11c35cb50>"
       ]
      },
      {
       "metadata": {},
       "output_type": "display_data",
       "png": "[encoded data removed]",
       "text": [
        "<matplotlib.figure.Figure at 0x11e53af90>"
       ]
      }
     ],
     "prompt_number": 349
    },
    {
     "cell_type": "markdown",
     "metadata": {},
     "source": [
      "def highchart_errorbar(means, sems, labels):\n",
      "chardict=\n",
      "\n",
      "\n",
      "\n",
      "string=\"<script>var chart;$(function () {$('#plotcontainer').highcharts(chartdict)});</script>\" %chardict"
     ]
    },
    {
     "cell_type": "code",
     "collapsed": false,
     "input": [
      "fhtml=mpld3.fig_to_html(f)"
     ],
     "language": "python",
     "metadata": {},
     "outputs": [],
     "prompt_number": 214
    },
    {
     "cell_type": "code",
     "collapsed": false,
     "input": [
      "mpld3.display(f)"
     ],
     "language": "python",
     "metadata": {},
     "outputs": [
      {
       "html": [
        "\n",
        "\n",
        "<style>\n",
        "\n",
        "</style>\n",
        "\n",
        "<div id=\"fig_el71947723152167272517028\"></div>\n",
        "<script>\n",
        "function mpld3_load_lib(url, callback){\n",
        "  var s = document.createElement('script');\n",
        "  s.src = url;\n",
        "  s.async = true;\n",
        "  s.onreadystatechange = s.onload = callback;\n",
        "  s.onerror = function(){console.warn(\"failed to load library \" + url);};\n",
        "  document.getElementsByTagName(\"head\")[0].appendChild(s);\n",
        "}\n",
        "\n",
        "if(typeof(mpld3) !== \"undefined\" && mpld3._mpld3IsLoaded){\n",
        "   // already loaded: just create the figure\n",
        "   !function(mpld3){\n",
        "       \n",
        "       mpld3.draw_figure(\"fig_el71947723152167272517028\", {\"axes\": [{\"xlim\": [0.0, 9.0], \"yscale\": \"linear\", \"axesbg\": \"#FFFFFF\", \"texts\": [{\"v_baseline\": \"hanging\", \"h_anchor\": \"middle\", \"color\": \"#262626\", \"text\": \"face descriptions\", \"coordinates\": \"axes\", \"zorder\": 3, \"alpha\": 1, \"fontsize\": 11.0, \"position\": [0.5, -0.41272747244699926], \"rotation\": -0.0, \"id\": \"el7194778446352\"}, {\"v_baseline\": \"auto\", \"h_anchor\": \"middle\", \"color\": \"#262626\", \"text\": \"preference score\", \"coordinates\": \"axes\", \"zorder\": 3, \"alpha\": 1, \"fontsize\": 11.0, \"position\": [-0.13621221212936335, 0.5], \"rotation\": -90.0, \"id\": \"el7194793778384\"}], \"zoomable\": true, \"images\": [], \"xdomain\": [0.0, 9.0], \"ylim\": [-0.40000000000000002, 0.5], \"paths\": [{\"edgecolor\": \"#000000\", \"facecolor\": \"#4C72B0\", \"edgewidth\": 0.3, \"pathcodes\": [\"M\", \"L\", \"L\", \"L\", \"Z\"], \"yindex\": 1, \"coordinates\": \"data\", \"dasharray\": \"10,0\", \"zorder\": 1, \"alpha\": 1, \"xindex\": 0, \"data\": \"data02\", \"id\": \"el7194791447632\"}, {\"edgecolor\": \"#000000\", \"facecolor\": \"#4C72B0\", \"edgewidth\": 0.3, \"pathcodes\": [\"M\", \"L\", \"L\", \"L\", \"Z\"], \"yindex\": 1, \"coordinates\": \"data\", \"dasharray\": \"10,0\", \"zorder\": 1, \"alpha\": 1, \"xindex\": 0, \"data\": \"data03\", \"id\": \"el7194791451152\"}, {\"edgecolor\": \"#000000\", \"facecolor\": \"#4C72B0\", \"edgewidth\": 0.3, \"pathcodes\": [\"M\", \"L\", \"L\", \"L\", \"Z\"], \"yindex\": 1, \"coordinates\": \"data\", \"dasharray\": \"10,0\", \"zorder\": 1, \"alpha\": 1, \"xindex\": 0, \"data\": \"data04\", \"id\": \"el7194791450064\"}, {\"edgecolor\": \"#000000\", \"facecolor\": \"#4C72B0\", \"edgewidth\": 0.3, \"pathcodes\": [\"M\", \"L\", \"L\", \"L\", \"Z\"], \"yindex\": 1, \"coordinates\": \"data\", \"dasharray\": \"10,0\", \"zorder\": 1, \"alpha\": 1, \"xindex\": 0, \"data\": \"data05\", \"id\": \"el7194667259280\"}, {\"edgecolor\": \"#000000\", \"facecolor\": \"#4C72B0\", \"edgewidth\": 0.3, \"pathcodes\": [\"M\", \"L\", \"L\", \"L\", \"Z\"], \"yindex\": 1, \"coordinates\": \"data\", \"dasharray\": \"10,0\", \"zorder\": 1, \"alpha\": 1, \"xindex\": 0, \"data\": \"data06\", \"id\": \"el7194667259984\"}, {\"edgecolor\": \"#000000\", \"facecolor\": \"#4C72B0\", \"edgewidth\": 0.3, \"pathcodes\": [\"M\", \"L\", \"L\", \"L\", \"Z\"], \"yindex\": 1, \"coordinates\": \"data\", \"dasharray\": \"10,0\", \"zorder\": 1, \"alpha\": 1, \"xindex\": 0, \"data\": \"data07\", \"id\": \"el7194793178576\"}, {\"edgecolor\": \"#000000\", \"facecolor\": \"#4C72B0\", \"edgewidth\": 0.3, \"pathcodes\": [\"M\", \"L\", \"L\", \"L\", \"Z\"], \"yindex\": 1, \"coordinates\": \"data\", \"dasharray\": \"10,0\", \"zorder\": 1, \"alpha\": 1, \"xindex\": 0, \"data\": \"data08\", \"id\": \"el7194739044560\"}, {\"edgecolor\": \"#000000\", \"facecolor\": \"#4C72B0\", \"edgewidth\": 0.3, \"pathcodes\": [\"M\", \"L\", \"L\", \"L\", \"Z\"], \"yindex\": 1, \"coordinates\": \"data\", \"dasharray\": \"10,0\", \"zorder\": 1, \"alpha\": 1, \"xindex\": 0, \"data\": \"data09\", \"id\": \"el7194794057680\"}, {\"edgecolor\": \"#000000\", \"facecolor\": \"#4C72B0\", \"edgewidth\": 0.3, \"pathcodes\": [\"M\", \"L\", \"L\", \"L\", \"Z\"], \"yindex\": 1, \"coordinates\": \"data\", \"dasharray\": \"10,0\", \"zorder\": 1, \"alpha\": 1, \"xindex\": 0, \"data\": \"data10\", \"id\": \"el7194793779408\"}], \"sharey\": [], \"sharex\": [], \"axesbgalpha\": null, \"axes\": [{\"scale\": \"linear\", \"tickformat\": null, \"grid\": {\"gridOn\": false}, \"fontsize\": 10.0, \"position\": \"bottom\", \"nticks\": 9, \"tickvalues\": [0.5, 1.5, 2.5, 3.5, 4.5, 5.5, 6.5, 7.5, 8.5]}, {\"scale\": \"linear\", \"tickformat\": null, \"grid\": {\"gridOn\": false}, \"fontsize\": 10.0, \"position\": \"left\", \"nticks\": 10, \"tickvalues\": null}], \"lines\": [], \"markers\": [{\"edgecolor\": \"#4C72B0\", \"facecolor\": \"#4C72B0\", \"edgewidth\": 0, \"yindex\": 1, \"coordinates\": \"data\", \"zorder\": 2, \"markerpath\": [[[3.0, 1.8369701987210297e-16], [-3.0, -1.8369701987210297e-16]], [\"M\", \"L\"]], \"alpha\": 1, \"xindex\": 0, \"data\": \"data01\", \"id\": \"el7194739376400pts\"}, {\"edgecolor\": \"#4C72B0\", \"facecolor\": \"#4C72B0\", \"edgewidth\": 0, \"yindex\": 2, \"coordinates\": \"data\", \"zorder\": 2, \"markerpath\": [[[3.0, 1.8369701987210297e-16], [-3.0, -1.8369701987210297e-16]], [\"M\", \"L\"]], \"alpha\": 1, \"xindex\": 0, \"data\": \"data01\", \"id\": \"el7194739376208pts\"}], \"id\": \"el7194791169808\", \"ydomain\": [-0.40000000000000002, 0.5], \"collections\": [{\"paths\": [[[[0.4, -0.14115545642828245], [0.4, 0.16380257658464195]], [\"M\", \"L\"]], [[[1.4, -0.13644284918042193], [1.4, 0.16847605011369193]], [\"M\", \"L\"]], [[[2.4, 0.23418531674378323], [2.4, 0.49827487370781703]], [\"M\", \"L\"]], [[[3.4, 0.15850091464049437], [3.4, 0.43650350142429434]], [\"M\", \"L\"]], [[[4.4, -0.3499177185426259], [4.4, -0.05758224603612477]], [\"M\", \"L\"]], [[[5.4, -0.13088183319073962], [5.4, 0.17397371936448372]], [\"M\", \"L\"]], [[[6.4, -0.015941810075741192], [6.4, 0.283593046491098]], [\"M\", \"L\"]], [[[7.4, -0.30493235653954964], [7.4, -0.007372120227085582]], [\"M\", \"L\"]], [[[8.4, -0.3180925579623143], [8.4, -0.02190996550327942]], [\"M\", \"L\"]]], \"edgecolors\": [\"#4C72B0\"], \"edgewidths\": [1.75], \"offsets\": \"data11\", \"yindex\": 1, \"id\": \"el7194792669392\", \"pathtransforms\": [], \"pathcoordinates\": \"data\", \"offsetcoordinates\": \"display\", \"zorder\": 2, \"xindex\": 0, \"alphas\": [null], \"facecolors\": []}], \"xscale\": \"linear\", \"bbox\": [0.17589518229166667, 0.33648003472222221, 0.78660481770833335, 0.59268663194444449]}], \"height\": 240.0, \"width\": 320.0, \"plugins\": [{\"type\": \"reset\"}, {\"enabled\": false, \"button\": true, \"type\": \"zoom\"}, {\"enabled\": false, \"button\": true, \"type\": \"boxzoom\"}], \"data\": {\"data11\": [[0.0, 0.0]], \"data10\": [[8.0, -0.17000126173279684], [8.8, -0.17000126173279684], [8.8, 0.0], [8.0, 0.0]], \"data08\": [[6.0, 0.0], [6.8, 0.0], [6.8, 0.1338256182076784], [6.0, 0.1338256182076784]], \"data09\": [[7.0, -0.15615223838331763], [7.8, -0.15615223838331763], [7.8, 0.0], [7.0, 0.0]], \"data06\": [[4.0, -0.20374998228937533], [4.8, -0.20374998228937533], [4.8, 0.0], [4.0, 0.0]], \"data07\": [[5.0, 0.0], [5.8, 0.0], [5.8, 0.02154594308687204], [5.0, 0.02154594308687204]], \"data04\": [[2.0, 0.0], [2.8, 0.0], [2.8, 0.36623009522580013], [2.0, 0.36623009522580013]], \"data05\": [[3.0, 0.0], [3.8, 0.0], [3.8, 0.29750220803239436], [3.0, 0.29750220803239436]], \"data02\": [[0.0, 0.0], [0.8, 0.0], [0.8, 0.011323560078179763], [0.0, 0.011323560078179763]], \"data03\": [[1.0, 0.0], [1.8, 0.0], [1.8, 0.016016600466635], [1.0, 0.016016600466635]], \"data01\": [[0.4, -0.14115545642828245, 0.16380257658464195], [1.4, -0.13644284918042193, 0.16847605011369193], [2.4, 0.23418531674378323, 0.49827487370781703], [3.4, 0.15850091464049437, 0.43650350142429434], [4.4, -0.3499177185426259, -0.05758224603612477], [5.4, -0.13088183319073962, 0.17397371936448372], [6.4, -0.015941810075741192, 0.283593046491098], [7.4, -0.30493235653954964, -0.007372120227085582], [8.4, -0.3180925579623143, -0.02190996550327942]]}, \"id\": \"el7194772315216\"});\n",
        "   }(mpld3);\n",
        "}else if(typeof define === \"function\" && define.amd){\n",
        "   // require.js is available: use it to load d3/mpld3\n",
        "   require.config({paths: {d3: \"https://mpld3.github.io/js/d3.v3.min\"}});\n",
        "   require([\"d3\"], function(d3){\n",
        "      window.d3 = d3;\n",
        "      mpld3_load_lib(\"https://mpld3.github.io/js/mpld3.v0.2.js\", function(){\n",
        "         \n",
        "         mpld3.draw_figure(\"fig_el71947723152167272517028\", {\"axes\": [{\"xlim\": [0.0, 9.0], \"yscale\": \"linear\", \"axesbg\": \"#FFFFFF\", \"texts\": [{\"v_baseline\": \"hanging\", \"h_anchor\": \"middle\", \"color\": \"#262626\", \"text\": \"face descriptions\", \"coordinates\": \"axes\", \"zorder\": 3, \"alpha\": 1, \"fontsize\": 11.0, \"position\": [0.5, -0.41272747244699926], \"rotation\": -0.0, \"id\": \"el7194778446352\"}, {\"v_baseline\": \"auto\", \"h_anchor\": \"middle\", \"color\": \"#262626\", \"text\": \"preference score\", \"coordinates\": \"axes\", \"zorder\": 3, \"alpha\": 1, \"fontsize\": 11.0, \"position\": [-0.13621221212936335, 0.5], \"rotation\": -90.0, \"id\": \"el7194793778384\"}], \"zoomable\": true, \"images\": [], \"xdomain\": [0.0, 9.0], \"ylim\": [-0.40000000000000002, 0.5], \"paths\": [{\"edgecolor\": \"#000000\", \"facecolor\": \"#4C72B0\", \"edgewidth\": 0.3, \"pathcodes\": [\"M\", \"L\", \"L\", \"L\", \"Z\"], \"yindex\": 1, \"coordinates\": \"data\", \"dasharray\": \"10,0\", \"zorder\": 1, \"alpha\": 1, \"xindex\": 0, \"data\": \"data02\", \"id\": \"el7194791447632\"}, {\"edgecolor\": \"#000000\", \"facecolor\": \"#4C72B0\", \"edgewidth\": 0.3, \"pathcodes\": [\"M\", \"L\", \"L\", \"L\", \"Z\"], \"yindex\": 1, \"coordinates\": \"data\", \"dasharray\": \"10,0\", \"zorder\": 1, \"alpha\": 1, \"xindex\": 0, \"data\": \"data03\", \"id\": \"el7194791451152\"}, {\"edgecolor\": \"#000000\", \"facecolor\": \"#4C72B0\", \"edgewidth\": 0.3, \"pathcodes\": [\"M\", \"L\", \"L\", \"L\", \"Z\"], \"yindex\": 1, \"coordinates\": \"data\", \"dasharray\": \"10,0\", \"zorder\": 1, \"alpha\": 1, \"xindex\": 0, \"data\": \"data04\", \"id\": \"el7194791450064\"}, {\"edgecolor\": \"#000000\", \"facecolor\": \"#4C72B0\", \"edgewidth\": 0.3, \"pathcodes\": [\"M\", \"L\", \"L\", \"L\", \"Z\"], \"yindex\": 1, \"coordinates\": \"data\", \"dasharray\": \"10,0\", \"zorder\": 1, \"alpha\": 1, \"xindex\": 0, \"data\": \"data05\", \"id\": \"el7194667259280\"}, {\"edgecolor\": \"#000000\", \"facecolor\": \"#4C72B0\", \"edgewidth\": 0.3, \"pathcodes\": [\"M\", \"L\", \"L\", \"L\", \"Z\"], \"yindex\": 1, \"coordinates\": \"data\", \"dasharray\": \"10,0\", \"zorder\": 1, \"alpha\": 1, \"xindex\": 0, \"data\": \"data06\", \"id\": \"el7194667259984\"}, {\"edgecolor\": \"#000000\", \"facecolor\": \"#4C72B0\", \"edgewidth\": 0.3, \"pathcodes\": [\"M\", \"L\", \"L\", \"L\", \"Z\"], \"yindex\": 1, \"coordinates\": \"data\", \"dasharray\": \"10,0\", \"zorder\": 1, \"alpha\": 1, \"xindex\": 0, \"data\": \"data07\", \"id\": \"el7194793178576\"}, {\"edgecolor\": \"#000000\", \"facecolor\": \"#4C72B0\", \"edgewidth\": 0.3, \"pathcodes\": [\"M\", \"L\", \"L\", \"L\", \"Z\"], \"yindex\": 1, \"coordinates\": \"data\", \"dasharray\": \"10,0\", \"zorder\": 1, \"alpha\": 1, \"xindex\": 0, \"data\": \"data08\", \"id\": \"el7194739044560\"}, {\"edgecolor\": \"#000000\", \"facecolor\": \"#4C72B0\", \"edgewidth\": 0.3, \"pathcodes\": [\"M\", \"L\", \"L\", \"L\", \"Z\"], \"yindex\": 1, \"coordinates\": \"data\", \"dasharray\": \"10,0\", \"zorder\": 1, \"alpha\": 1, \"xindex\": 0, \"data\": \"data09\", \"id\": \"el7194794057680\"}, {\"edgecolor\": \"#000000\", \"facecolor\": \"#4C72B0\", \"edgewidth\": 0.3, \"pathcodes\": [\"M\", \"L\", \"L\", \"L\", \"Z\"], \"yindex\": 1, \"coordinates\": \"data\", \"dasharray\": \"10,0\", \"zorder\": 1, \"alpha\": 1, \"xindex\": 0, \"data\": \"data10\", \"id\": \"el7194793779408\"}], \"sharey\": [], \"sharex\": [], \"axesbgalpha\": null, \"axes\": [{\"scale\": \"linear\", \"tickformat\": null, \"grid\": {\"gridOn\": false}, \"fontsize\": 10.0, \"position\": \"bottom\", \"nticks\": 9, \"tickvalues\": [0.5, 1.5, 2.5, 3.5, 4.5, 5.5, 6.5, 7.5, 8.5]}, {\"scale\": \"linear\", \"tickformat\": null, \"grid\": {\"gridOn\": false}, \"fontsize\": 10.0, \"position\": \"left\", \"nticks\": 10, \"tickvalues\": null}], \"lines\": [], \"markers\": [{\"edgecolor\": \"#4C72B0\", \"facecolor\": \"#4C72B0\", \"edgewidth\": 0, \"yindex\": 1, \"coordinates\": \"data\", \"zorder\": 2, \"markerpath\": [[[3.0, 1.8369701987210297e-16], [-3.0, -1.8369701987210297e-16]], [\"M\", \"L\"]], \"alpha\": 1, \"xindex\": 0, \"data\": \"data01\", \"id\": \"el7194739376400pts\"}, {\"edgecolor\": \"#4C72B0\", \"facecolor\": \"#4C72B0\", \"edgewidth\": 0, \"yindex\": 2, \"coordinates\": \"data\", \"zorder\": 2, \"markerpath\": [[[3.0, 1.8369701987210297e-16], [-3.0, -1.8369701987210297e-16]], [\"M\", \"L\"]], \"alpha\": 1, \"xindex\": 0, \"data\": \"data01\", \"id\": \"el7194739376208pts\"}], \"id\": \"el7194791169808\", \"ydomain\": [-0.40000000000000002, 0.5], \"collections\": [{\"paths\": [[[[0.4, -0.14115545642828245], [0.4, 0.16380257658464195]], [\"M\", \"L\"]], [[[1.4, -0.13644284918042193], [1.4, 0.16847605011369193]], [\"M\", \"L\"]], [[[2.4, 0.23418531674378323], [2.4, 0.49827487370781703]], [\"M\", \"L\"]], [[[3.4, 0.15850091464049437], [3.4, 0.43650350142429434]], [\"M\", \"L\"]], [[[4.4, -0.3499177185426259], [4.4, -0.05758224603612477]], [\"M\", \"L\"]], [[[5.4, -0.13088183319073962], [5.4, 0.17397371936448372]], [\"M\", \"L\"]], [[[6.4, -0.015941810075741192], [6.4, 0.283593046491098]], [\"M\", \"L\"]], [[[7.4, -0.30493235653954964], [7.4, -0.007372120227085582]], [\"M\", \"L\"]], [[[8.4, -0.3180925579623143], [8.4, -0.02190996550327942]], [\"M\", \"L\"]]], \"edgecolors\": [\"#4C72B0\"], \"edgewidths\": [1.75], \"offsets\": \"data11\", \"yindex\": 1, \"id\": \"el7194792669392\", \"pathtransforms\": [], \"pathcoordinates\": \"data\", \"offsetcoordinates\": \"display\", \"zorder\": 2, \"xindex\": 0, \"alphas\": [null], \"facecolors\": []}], \"xscale\": \"linear\", \"bbox\": [0.17589518229166667, 0.33648003472222221, 0.78660481770833335, 0.59268663194444449]}], \"height\": 240.0, \"width\": 320.0, \"plugins\": [{\"type\": \"reset\"}, {\"enabled\": false, \"button\": true, \"type\": \"zoom\"}, {\"enabled\": false, \"button\": true, \"type\": \"boxzoom\"}], \"data\": {\"data11\": [[0.0, 0.0]], \"data10\": [[8.0, -0.17000126173279684], [8.8, -0.17000126173279684], [8.8, 0.0], [8.0, 0.0]], \"data08\": [[6.0, 0.0], [6.8, 0.0], [6.8, 0.1338256182076784], [6.0, 0.1338256182076784]], \"data09\": [[7.0, -0.15615223838331763], [7.8, -0.15615223838331763], [7.8, 0.0], [7.0, 0.0]], \"data06\": [[4.0, -0.20374998228937533], [4.8, -0.20374998228937533], [4.8, 0.0], [4.0, 0.0]], \"data07\": [[5.0, 0.0], [5.8, 0.0], [5.8, 0.02154594308687204], [5.0, 0.02154594308687204]], \"data04\": [[2.0, 0.0], [2.8, 0.0], [2.8, 0.36623009522580013], [2.0, 0.36623009522580013]], \"data05\": [[3.0, 0.0], [3.8, 0.0], [3.8, 0.29750220803239436], [3.0, 0.29750220803239436]], \"data02\": [[0.0, 0.0], [0.8, 0.0], [0.8, 0.011323560078179763], [0.0, 0.011323560078179763]], \"data03\": [[1.0, 0.0], [1.8, 0.0], [1.8, 0.016016600466635], [1.0, 0.016016600466635]], \"data01\": [[0.4, -0.14115545642828245, 0.16380257658464195], [1.4, -0.13644284918042193, 0.16847605011369193], [2.4, 0.23418531674378323, 0.49827487370781703], [3.4, 0.15850091464049437, 0.43650350142429434], [4.4, -0.3499177185426259, -0.05758224603612477], [5.4, -0.13088183319073962, 0.17397371936448372], [6.4, -0.015941810075741192, 0.283593046491098], [7.4, -0.30493235653954964, -0.007372120227085582], [8.4, -0.3180925579623143, -0.02190996550327942]]}, \"id\": \"el7194772315216\"});\n",
        "      });\n",
        "    });\n",
        "}else{\n",
        "    // require.js not available: dynamically load d3 & mpld3\n",
        "    mpld3_load_lib(\"https://mpld3.github.io/js/d3.v3.min.js\", function(){\n",
        "         mpld3_load_lib(\"https://mpld3.github.io/js/mpld3.v0.2.js\", function(){\n",
        "                 \n",
        "                 mpld3.draw_figure(\"fig_el71947723152167272517028\", {\"axes\": [{\"xlim\": [0.0, 9.0], \"yscale\": \"linear\", \"axesbg\": \"#FFFFFF\", \"texts\": [{\"v_baseline\": \"hanging\", \"h_anchor\": \"middle\", \"color\": \"#262626\", \"text\": \"face descriptions\", \"coordinates\": \"axes\", \"zorder\": 3, \"alpha\": 1, \"fontsize\": 11.0, \"position\": [0.5, -0.41272747244699926], \"rotation\": -0.0, \"id\": \"el7194778446352\"}, {\"v_baseline\": \"auto\", \"h_anchor\": \"middle\", \"color\": \"#262626\", \"text\": \"preference score\", \"coordinates\": \"axes\", \"zorder\": 3, \"alpha\": 1, \"fontsize\": 11.0, \"position\": [-0.13621221212936335, 0.5], \"rotation\": -90.0, \"id\": \"el7194793778384\"}], \"zoomable\": true, \"images\": [], \"xdomain\": [0.0, 9.0], \"ylim\": [-0.40000000000000002, 0.5], \"paths\": [{\"edgecolor\": \"#000000\", \"facecolor\": \"#4C72B0\", \"edgewidth\": 0.3, \"pathcodes\": [\"M\", \"L\", \"L\", \"L\", \"Z\"], \"yindex\": 1, \"coordinates\": \"data\", \"dasharray\": \"10,0\", \"zorder\": 1, \"alpha\": 1, \"xindex\": 0, \"data\": \"data02\", \"id\": \"el7194791447632\"}, {\"edgecolor\": \"#000000\", \"facecolor\": \"#4C72B0\", \"edgewidth\": 0.3, \"pathcodes\": [\"M\", \"L\", \"L\", \"L\", \"Z\"], \"yindex\": 1, \"coordinates\": \"data\", \"dasharray\": \"10,0\", \"zorder\": 1, \"alpha\": 1, \"xindex\": 0, \"data\": \"data03\", \"id\": \"el7194791451152\"}, {\"edgecolor\": \"#000000\", \"facecolor\": \"#4C72B0\", \"edgewidth\": 0.3, \"pathcodes\": [\"M\", \"L\", \"L\", \"L\", \"Z\"], \"yindex\": 1, \"coordinates\": \"data\", \"dasharray\": \"10,0\", \"zorder\": 1, \"alpha\": 1, \"xindex\": 0, \"data\": \"data04\", \"id\": \"el7194791450064\"}, {\"edgecolor\": \"#000000\", \"facecolor\": \"#4C72B0\", \"edgewidth\": 0.3, \"pathcodes\": [\"M\", \"L\", \"L\", \"L\", \"Z\"], \"yindex\": 1, \"coordinates\": \"data\", \"dasharray\": \"10,0\", \"zorder\": 1, \"alpha\": 1, \"xindex\": 0, \"data\": \"data05\", \"id\": \"el7194667259280\"}, {\"edgecolor\": \"#000000\", \"facecolor\": \"#4C72B0\", \"edgewidth\": 0.3, \"pathcodes\": [\"M\", \"L\", \"L\", \"L\", \"Z\"], \"yindex\": 1, \"coordinates\": \"data\", \"dasharray\": \"10,0\", \"zorder\": 1, \"alpha\": 1, \"xindex\": 0, \"data\": \"data06\", \"id\": \"el7194667259984\"}, {\"edgecolor\": \"#000000\", \"facecolor\": \"#4C72B0\", \"edgewidth\": 0.3, \"pathcodes\": [\"M\", \"L\", \"L\", \"L\", \"Z\"], \"yindex\": 1, \"coordinates\": \"data\", \"dasharray\": \"10,0\", \"zorder\": 1, \"alpha\": 1, \"xindex\": 0, \"data\": \"data07\", \"id\": \"el7194793178576\"}, {\"edgecolor\": \"#000000\", \"facecolor\": \"#4C72B0\", \"edgewidth\": 0.3, \"pathcodes\": [\"M\", \"L\", \"L\", \"L\", \"Z\"], \"yindex\": 1, \"coordinates\": \"data\", \"dasharray\": \"10,0\", \"zorder\": 1, \"alpha\": 1, \"xindex\": 0, \"data\": \"data08\", \"id\": \"el7194739044560\"}, {\"edgecolor\": \"#000000\", \"facecolor\": \"#4C72B0\", \"edgewidth\": 0.3, \"pathcodes\": [\"M\", \"L\", \"L\", \"L\", \"Z\"], \"yindex\": 1, \"coordinates\": \"data\", \"dasharray\": \"10,0\", \"zorder\": 1, \"alpha\": 1, \"xindex\": 0, \"data\": \"data09\", \"id\": \"el7194794057680\"}, {\"edgecolor\": \"#000000\", \"facecolor\": \"#4C72B0\", \"edgewidth\": 0.3, \"pathcodes\": [\"M\", \"L\", \"L\", \"L\", \"Z\"], \"yindex\": 1, \"coordinates\": \"data\", \"dasharray\": \"10,0\", \"zorder\": 1, \"alpha\": 1, \"xindex\": 0, \"data\": \"data10\", \"id\": \"el7194793779408\"}], \"sharey\": [], \"sharex\": [], \"axesbgalpha\": null, \"axes\": [{\"scale\": \"linear\", \"tickformat\": null, \"grid\": {\"gridOn\": false}, \"fontsize\": 10.0, \"position\": \"bottom\", \"nticks\": 9, \"tickvalues\": [0.5, 1.5, 2.5, 3.5, 4.5, 5.5, 6.5, 7.5, 8.5]}, {\"scale\": \"linear\", \"tickformat\": null, \"grid\": {\"gridOn\": false}, \"fontsize\": 10.0, \"position\": \"left\", \"nticks\": 10, \"tickvalues\": null}], \"lines\": [], \"markers\": [{\"edgecolor\": \"#4C72B0\", \"facecolor\": \"#4C72B0\", \"edgewidth\": 0, \"yindex\": 1, \"coordinates\": \"data\", \"zorder\": 2, \"markerpath\": [[[3.0, 1.8369701987210297e-16], [-3.0, -1.8369701987210297e-16]], [\"M\", \"L\"]], \"alpha\": 1, \"xindex\": 0, \"data\": \"data01\", \"id\": \"el7194739376400pts\"}, {\"edgecolor\": \"#4C72B0\", \"facecolor\": \"#4C72B0\", \"edgewidth\": 0, \"yindex\": 2, \"coordinates\": \"data\", \"zorder\": 2, \"markerpath\": [[[3.0, 1.8369701987210297e-16], [-3.0, -1.8369701987210297e-16]], [\"M\", \"L\"]], \"alpha\": 1, \"xindex\": 0, \"data\": \"data01\", \"id\": \"el7194739376208pts\"}], \"id\": \"el7194791169808\", \"ydomain\": [-0.40000000000000002, 0.5], \"collections\": [{\"paths\": [[[[0.4, -0.14115545642828245], [0.4, 0.16380257658464195]], [\"M\", \"L\"]], [[[1.4, -0.13644284918042193], [1.4, 0.16847605011369193]], [\"M\", \"L\"]], [[[2.4, 0.23418531674378323], [2.4, 0.49827487370781703]], [\"M\", \"L\"]], [[[3.4, 0.15850091464049437], [3.4, 0.43650350142429434]], [\"M\", \"L\"]], [[[4.4, -0.3499177185426259], [4.4, -0.05758224603612477]], [\"M\", \"L\"]], [[[5.4, -0.13088183319073962], [5.4, 0.17397371936448372]], [\"M\", \"L\"]], [[[6.4, -0.015941810075741192], [6.4, 0.283593046491098]], [\"M\", \"L\"]], [[[7.4, -0.30493235653954964], [7.4, -0.007372120227085582]], [\"M\", \"L\"]], [[[8.4, -0.3180925579623143], [8.4, -0.02190996550327942]], [\"M\", \"L\"]]], \"edgecolors\": [\"#4C72B0\"], \"edgewidths\": [1.75], \"offsets\": \"data11\", \"yindex\": 1, \"id\": \"el7194792669392\", \"pathtransforms\": [], \"pathcoordinates\": \"data\", \"offsetcoordinates\": \"display\", \"zorder\": 2, \"xindex\": 0, \"alphas\": [null], \"facecolors\": []}], \"xscale\": \"linear\", \"bbox\": [0.17589518229166667, 0.33648003472222221, 0.78660481770833335, 0.59268663194444449]}], \"height\": 240.0, \"width\": 320.0, \"plugins\": [{\"type\": \"reset\"}, {\"enabled\": false, \"button\": true, \"type\": \"zoom\"}, {\"enabled\": false, \"button\": true, \"type\": \"boxzoom\"}], \"data\": {\"data11\": [[0.0, 0.0]], \"data10\": [[8.0, -0.17000126173279684], [8.8, -0.17000126173279684], [8.8, 0.0], [8.0, 0.0]], \"data08\": [[6.0, 0.0], [6.8, 0.0], [6.8, 0.1338256182076784], [6.0, 0.1338256182076784]], \"data09\": [[7.0, -0.15615223838331763], [7.8, -0.15615223838331763], [7.8, 0.0], [7.0, 0.0]], \"data06\": [[4.0, -0.20374998228937533], [4.8, -0.20374998228937533], [4.8, 0.0], [4.0, 0.0]], \"data07\": [[5.0, 0.0], [5.8, 0.0], [5.8, 0.02154594308687204], [5.0, 0.02154594308687204]], \"data04\": [[2.0, 0.0], [2.8, 0.0], [2.8, 0.36623009522580013], [2.0, 0.36623009522580013]], \"data05\": [[3.0, 0.0], [3.8, 0.0], [3.8, 0.29750220803239436], [3.0, 0.29750220803239436]], \"data02\": [[0.0, 0.0], [0.8, 0.0], [0.8, 0.011323560078179763], [0.0, 0.011323560078179763]], \"data03\": [[1.0, 0.0], [1.8, 0.0], [1.8, 0.016016600466635], [1.0, 0.016016600466635]], \"data01\": [[0.4, -0.14115545642828245, 0.16380257658464195], [1.4, -0.13644284918042193, 0.16847605011369193], [2.4, 0.23418531674378323, 0.49827487370781703], [3.4, 0.15850091464049437, 0.43650350142429434], [4.4, -0.3499177185426259, -0.05758224603612477], [5.4, -0.13088183319073962, 0.17397371936448372], [6.4, -0.015941810075741192, 0.283593046491098], [7.4, -0.30493235653954964, -0.007372120227085582], [8.4, -0.3180925579623143, -0.02190996550327942]]}, \"id\": \"el7194772315216\"});\n",
        "            })\n",
        "         });\n",
        "}\n",
        "</script>"
       ],
       "metadata": {},
       "output_type": "pyout",
       "prompt_number": 338,
       "text": [
        "<IPython.core.display.HTML at 0x11daf73d0>"
       ]
      }
     ],
     "prompt_number": 338
    },
    {
     "cell_type": "code",
     "collapsed": false,
     "input": [
      "\n",
      "ax_fmt = HelloWorld()\n",
      "mpld3.plugins.connect(f, ax_fmt)"
     ],
     "language": "python",
     "metadata": {},
     "outputs": [],
     "prompt_number": 350
    },
    {
     "cell_type": "code",
     "collapsed": false,
     "input": [
      "mpld3.display(f)"
     ],
     "language": "python",
     "metadata": {},
     "outputs": [
      {
       "html": [
        "\n",
        "\n",
        "<style>\n",
        "\n",
        "</style>\n",
        "\n",
        "<div id=\"fig_el71948037682085280774557\"></div>\n",
        "<script>\n",
        "function mpld3_load_lib(url, callback){\n",
        "  var s = document.createElement('script');\n",
        "  s.src = url;\n",
        "  s.async = true;\n",
        "  s.onreadystatechange = s.onload = callback;\n",
        "  s.onerror = function(){console.warn(\"failed to load library \" + url);};\n",
        "  document.getElementsByTagName(\"head\")[0].appendChild(s);\n",
        "}\n",
        "\n",
        "if(typeof(mpld3) !== \"undefined\" && mpld3._mpld3IsLoaded){\n",
        "   // already loaded: just create the figure\n",
        "   !function(mpld3){\n",
        "       \n",
        "    mpld3.register_plugin(\"helloworld\", HelloWorld);\n",
        "    HelloWorld.prototype = Object.create(mpld3.Plugin.prototype);\n",
        "    HelloWorld.prototype.constructor = HelloWorld;\n",
        "    function HelloWorld(fig, props){\n",
        "        mpld3.Plugin.call(this, fig, props);\n",
        "    };\n",
        "    \n",
        "    HelloWorld.prototype.draw = function(){\n",
        "        // FIXME: this is a very brittle way to select the y-axis element\n",
        "        var ax = this.fig.axes[0].elements[1];\n",
        "\n",
        "        // see https://github.com/mbostock/d3/wiki/Formatting#d3_format\n",
        "        // for d3js formating documentation\n",
        "        ax.axis.tickFormat(d3.format(\"d\"));\n",
        "\n",
        "        // TODO: use a function for tick values that\n",
        "        // updates when values pan and zoom\n",
        "        ax.axis.tickValues([1,100,1000]);\n",
        "\n",
        "        // HACK: use reset to redraw figure\n",
        "        this.fig.reset(); \n",
        "    }\n",
        "    \n",
        "       mpld3.draw_figure(\"fig_el71948037682085280774557\", {\"axes\": [{\"xlim\": [0.0, 9.0], \"yscale\": \"linear\", \"axesbg\": \"#FFFFFF\", \"texts\": [{\"v_baseline\": \"hanging\", \"h_anchor\": \"middle\", \"color\": \"#262626\", \"text\": \"face descriptions\", \"coordinates\": \"axes\", \"zorder\": 3, \"alpha\": 1, \"fontsize\": 11.0, \"position\": [0.5, -0.41272747244699926], \"rotation\": -0.0, \"id\": \"el7194787267088\"}, {\"v_baseline\": \"auto\", \"h_anchor\": \"middle\", \"color\": \"#262626\", \"text\": \"preference score\", \"coordinates\": \"axes\", \"zorder\": 3, \"alpha\": 1, \"fontsize\": 11.0, \"position\": [-0.13621221212936335, 0.5], \"rotation\": -90.0, \"id\": \"el7194808057296\"}], \"zoomable\": true, \"images\": [], \"xdomain\": [0.0, 9.0], \"ylim\": [-0.40000000000000002, 0.5], \"paths\": [{\"edgecolor\": \"#000000\", \"facecolor\": \"#4C72B0\", \"edgewidth\": 0.3, \"pathcodes\": [\"M\", \"L\", \"L\", \"L\", \"Z\"], \"yindex\": 1, \"coordinates\": \"data\", \"dasharray\": \"10,0\", \"zorder\": 1, \"alpha\": 1, \"xindex\": 0, \"data\": \"data02\", \"id\": \"el7194798448016\"}, {\"edgecolor\": \"#000000\", \"facecolor\": \"#4C72B0\", \"edgewidth\": 0.3, \"pathcodes\": [\"M\", \"L\", \"L\", \"L\", \"Z\"], \"yindex\": 1, \"coordinates\": \"data\", \"dasharray\": \"10,0\", \"zorder\": 1, \"alpha\": 1, \"xindex\": 0, \"data\": \"data03\", \"id\": \"el7194798448528\"}, {\"edgecolor\": \"#000000\", \"facecolor\": \"#4C72B0\", \"edgewidth\": 0.3, \"pathcodes\": [\"M\", \"L\", \"L\", \"L\", \"Z\"], \"yindex\": 1, \"coordinates\": \"data\", \"dasharray\": \"10,0\", \"zorder\": 1, \"alpha\": 1, \"xindex\": 0, \"data\": \"data04\", \"id\": \"el7194662842960\"}, {\"edgecolor\": \"#000000\", \"facecolor\": \"#4C72B0\", \"edgewidth\": 0.3, \"pathcodes\": [\"M\", \"L\", \"L\", \"L\", \"Z\"], \"yindex\": 1, \"coordinates\": \"data\", \"dasharray\": \"10,0\", \"zorder\": 1, \"alpha\": 1, \"xindex\": 0, \"data\": \"data05\", \"id\": \"el7194662841616\"}, {\"edgecolor\": \"#000000\", \"facecolor\": \"#4C72B0\", \"edgewidth\": 0.3, \"pathcodes\": [\"M\", \"L\", \"L\", \"L\", \"Z\"], \"yindex\": 1, \"coordinates\": \"data\", \"dasharray\": \"10,0\", \"zorder\": 1, \"alpha\": 1, \"xindex\": 0, \"data\": \"data06\", \"id\": \"el7194794571984\"}, {\"edgecolor\": \"#000000\", \"facecolor\": \"#4C72B0\", \"edgewidth\": 0.3, \"pathcodes\": [\"M\", \"L\", \"L\", \"L\", \"Z\"], \"yindex\": 1, \"coordinates\": \"data\", \"dasharray\": \"10,0\", \"zorder\": 1, \"alpha\": 1, \"xindex\": 0, \"data\": \"data07\", \"id\": \"el7194789173968\"}, {\"edgecolor\": \"#000000\", \"facecolor\": \"#4C72B0\", \"edgewidth\": 0.3, \"pathcodes\": [\"M\", \"L\", \"L\", \"L\", \"Z\"], \"yindex\": 1, \"coordinates\": \"data\", \"dasharray\": \"10,0\", \"zorder\": 1, \"alpha\": 1, \"xindex\": 0, \"data\": \"data08\", \"id\": \"el7194808687952\"}, {\"edgecolor\": \"#000000\", \"facecolor\": \"#4C72B0\", \"edgewidth\": 0.3, \"pathcodes\": [\"M\", \"L\", \"L\", \"L\", \"Z\"], \"yindex\": 1, \"coordinates\": \"data\", \"dasharray\": \"10,0\", \"zorder\": 1, \"alpha\": 1, \"xindex\": 0, \"data\": \"data09\", \"id\": \"el7194749993424\"}, {\"edgecolor\": \"#000000\", \"facecolor\": \"#4C72B0\", \"edgewidth\": 0.3, \"pathcodes\": [\"M\", \"L\", \"L\", \"L\", \"Z\"], \"yindex\": 1, \"coordinates\": \"data\", \"dasharray\": \"10,0\", \"zorder\": 1, \"alpha\": 1, \"xindex\": 0, \"data\": \"data10\", \"id\": \"el7194808058832\"}], \"sharey\": [], \"sharex\": [], \"axesbgalpha\": null, \"axes\": [{\"scale\": \"linear\", \"tickformat\": null, \"grid\": {\"gridOn\": false}, \"fontsize\": 10.0, \"position\": \"bottom\", \"nticks\": 9, \"tickvalues\": [0.5, 1.5, 2.5, 3.5, 4.5, 5.5, 6.5, 7.5, 8.5]}, {\"scale\": \"linear\", \"tickformat\": null, \"grid\": {\"gridOn\": false}, \"fontsize\": 10.0, \"position\": \"left\", \"nticks\": 10, \"tickvalues\": null}], \"lines\": [], \"markers\": [{\"edgecolor\": \"#4C72B0\", \"facecolor\": \"#4C72B0\", \"edgewidth\": 0, \"yindex\": 1, \"coordinates\": \"data\", \"zorder\": 2, \"markerpath\": [[[3.0, 1.8369701987210297e-16], [-3.0, -1.8369701987210297e-16]], [\"M\", \"L\"]], \"alpha\": 1, \"xindex\": 0, \"data\": \"data01\", \"id\": \"el7194789593552pts\"}, {\"edgecolor\": \"#4C72B0\", \"facecolor\": \"#4C72B0\", \"edgewidth\": 0, \"yindex\": 2, \"coordinates\": \"data\", \"zorder\": 2, \"markerpath\": [[[3.0, 1.8369701987210297e-16], [-3.0, -1.8369701987210297e-16]], [\"M\", \"L\"]], \"alpha\": 1, \"xindex\": 0, \"data\": \"data01\", \"id\": \"el7194789732176pts\"}], \"id\": \"el7194803505552\", \"ydomain\": [-0.40000000000000002, 0.5], \"collections\": [{\"paths\": [[[[0.4, -0.14115545642828245], [0.4, 0.16380257658464195]], [\"M\", \"L\"]], [[[1.4, -0.13644284918042193], [1.4, 0.16847605011369193]], [\"M\", \"L\"]], [[[2.4, 0.23418531674378323], [2.4, 0.49827487370781703]], [\"M\", \"L\"]], [[[3.4, 0.15850091464049437], [3.4, 0.43650350142429434]], [\"M\", \"L\"]], [[[4.4, -0.3499177185426259], [4.4, -0.05758224603612477]], [\"M\", \"L\"]], [[[5.4, -0.13088183319073962], [5.4, 0.17397371936448372]], [\"M\", \"L\"]], [[[6.4, -0.015941810075741192], [6.4, 0.283593046491098]], [\"M\", \"L\"]], [[[7.4, -0.30493235653954964], [7.4, -0.007372120227085582]], [\"M\", \"L\"]], [[[8.4, -0.3180925579623143], [8.4, -0.02190996550327942]], [\"M\", \"L\"]]], \"edgecolors\": [\"#4C72B0\"], \"edgewidths\": [1.75], \"offsets\": \"data11\", \"yindex\": 1, \"id\": \"el7194803506000\", \"pathtransforms\": [], \"pathcoordinates\": \"data\", \"offsetcoordinates\": \"display\", \"zorder\": 2, \"xindex\": 0, \"alphas\": [null], \"facecolors\": []}], \"xscale\": \"linear\", \"bbox\": [0.17589518229166667, 0.33648003472222221, 0.78660481770833335, 0.59268663194444449]}], \"height\": 240.0, \"width\": 320.0, \"plugins\": [{\"type\": \"reset\"}, {\"enabled\": false, \"button\": true, \"type\": \"zoom\"}, {\"enabled\": false, \"button\": true, \"type\": \"boxzoom\"}, {\"type\": \"helloworld\"}], \"data\": {\"data11\": [[0.0, 0.0]], \"data10\": [[8.0, -0.17000126173279684], [8.8, -0.17000126173279684], [8.8, 0.0], [8.0, 0.0]], \"data08\": [[6.0, 0.0], [6.8, 0.0], [6.8, 0.1338256182076784], [6.0, 0.1338256182076784]], \"data09\": [[7.0, -0.15615223838331763], [7.8, -0.15615223838331763], [7.8, 0.0], [7.0, 0.0]], \"data06\": [[4.0, -0.20374998228937533], [4.8, -0.20374998228937533], [4.8, 0.0], [4.0, 0.0]], \"data07\": [[5.0, 0.0], [5.8, 0.0], [5.8, 0.02154594308687204], [5.0, 0.02154594308687204]], \"data04\": [[2.0, 0.0], [2.8, 0.0], [2.8, 0.36623009522580013], [2.0, 0.36623009522580013]], \"data05\": [[3.0, 0.0], [3.8, 0.0], [3.8, 0.29750220803239436], [3.0, 0.29750220803239436]], \"data02\": [[0.0, 0.0], [0.8, 0.0], [0.8, 0.011323560078179763], [0.0, 0.011323560078179763]], \"data03\": [[1.0, 0.0], [1.8, 0.0], [1.8, 0.016016600466635], [1.0, 0.016016600466635]], \"data01\": [[0.4, -0.14115545642828245, 0.16380257658464195], [1.4, -0.13644284918042193, 0.16847605011369193], [2.4, 0.23418531674378323, 0.49827487370781703], [3.4, 0.15850091464049437, 0.43650350142429434], [4.4, -0.3499177185426259, -0.05758224603612477], [5.4, -0.13088183319073962, 0.17397371936448372], [6.4, -0.015941810075741192, 0.283593046491098], [7.4, -0.30493235653954964, -0.007372120227085582], [8.4, -0.3180925579623143, -0.02190996550327942]]}, \"id\": \"el7194803768208\"});\n",
        "   }(mpld3);\n",
        "}else if(typeof define === \"function\" && define.amd){\n",
        "   // require.js is available: use it to load d3/mpld3\n",
        "   require.config({paths: {d3: \"https://mpld3.github.io/js/d3.v3.min\"}});\n",
        "   require([\"d3\"], function(d3){\n",
        "      window.d3 = d3;\n",
        "      mpld3_load_lib(\"https://mpld3.github.io/js/mpld3.v0.2.js\", function(){\n",
        "         \n",
        "    mpld3.register_plugin(\"helloworld\", HelloWorld);\n",
        "    HelloWorld.prototype = Object.create(mpld3.Plugin.prototype);\n",
        "    HelloWorld.prototype.constructor = HelloWorld;\n",
        "    function HelloWorld(fig, props){\n",
        "        mpld3.Plugin.call(this, fig, props);\n",
        "    };\n",
        "    \n",
        "    HelloWorld.prototype.draw = function(){\n",
        "        // FIXME: this is a very brittle way to select the y-axis element\n",
        "        var ax = this.fig.axes[0].elements[1];\n",
        "\n",
        "        // see https://github.com/mbostock/d3/wiki/Formatting#d3_format\n",
        "        // for d3js formating documentation\n",
        "        ax.axis.tickFormat(d3.format(\"d\"));\n",
        "\n",
        "        // TODO: use a function for tick values that\n",
        "        // updates when values pan and zoom\n",
        "        ax.axis.tickValues([1,100,1000]);\n",
        "\n",
        "        // HACK: use reset to redraw figure\n",
        "        this.fig.reset(); \n",
        "    }\n",
        "    \n",
        "         mpld3.draw_figure(\"fig_el71948037682085280774557\", {\"axes\": [{\"xlim\": [0.0, 9.0], \"yscale\": \"linear\", \"axesbg\": \"#FFFFFF\", \"texts\": [{\"v_baseline\": \"hanging\", \"h_anchor\": \"middle\", \"color\": \"#262626\", \"text\": \"face descriptions\", \"coordinates\": \"axes\", \"zorder\": 3, \"alpha\": 1, \"fontsize\": 11.0, \"position\": [0.5, -0.41272747244699926], \"rotation\": -0.0, \"id\": \"el7194787267088\"}, {\"v_baseline\": \"auto\", \"h_anchor\": \"middle\", \"color\": \"#262626\", \"text\": \"preference score\", \"coordinates\": \"axes\", \"zorder\": 3, \"alpha\": 1, \"fontsize\": 11.0, \"position\": [-0.13621221212936335, 0.5], \"rotation\": -90.0, \"id\": \"el7194808057296\"}], \"zoomable\": true, \"images\": [], \"xdomain\": [0.0, 9.0], \"ylim\": [-0.40000000000000002, 0.5], \"paths\": [{\"edgecolor\": \"#000000\", \"facecolor\": \"#4C72B0\", \"edgewidth\": 0.3, \"pathcodes\": [\"M\", \"L\", \"L\", \"L\", \"Z\"], \"yindex\": 1, \"coordinates\": \"data\", \"dasharray\": \"10,0\", \"zorder\": 1, \"alpha\": 1, \"xindex\": 0, \"data\": \"data02\", \"id\": \"el7194798448016\"}, {\"edgecolor\": \"#000000\", \"facecolor\": \"#4C72B0\", \"edgewidth\": 0.3, \"pathcodes\": [\"M\", \"L\", \"L\", \"L\", \"Z\"], \"yindex\": 1, \"coordinates\": \"data\", \"dasharray\": \"10,0\", \"zorder\": 1, \"alpha\": 1, \"xindex\": 0, \"data\": \"data03\", \"id\": \"el7194798448528\"}, {\"edgecolor\": \"#000000\", \"facecolor\": \"#4C72B0\", \"edgewidth\": 0.3, \"pathcodes\": [\"M\", \"L\", \"L\", \"L\", \"Z\"], \"yindex\": 1, \"coordinates\": \"data\", \"dasharray\": \"10,0\", \"zorder\": 1, \"alpha\": 1, \"xindex\": 0, \"data\": \"data04\", \"id\": \"el7194662842960\"}, {\"edgecolor\": \"#000000\", \"facecolor\": \"#4C72B0\", \"edgewidth\": 0.3, \"pathcodes\": [\"M\", \"L\", \"L\", \"L\", \"Z\"], \"yindex\": 1, \"coordinates\": \"data\", \"dasharray\": \"10,0\", \"zorder\": 1, \"alpha\": 1, \"xindex\": 0, \"data\": \"data05\", \"id\": \"el7194662841616\"}, {\"edgecolor\": \"#000000\", \"facecolor\": \"#4C72B0\", \"edgewidth\": 0.3, \"pathcodes\": [\"M\", \"L\", \"L\", \"L\", \"Z\"], \"yindex\": 1, \"coordinates\": \"data\", \"dasharray\": \"10,0\", \"zorder\": 1, \"alpha\": 1, \"xindex\": 0, \"data\": \"data06\", \"id\": \"el7194794571984\"}, {\"edgecolor\": \"#000000\", \"facecolor\": \"#4C72B0\", \"edgewidth\": 0.3, \"pathcodes\": [\"M\", \"L\", \"L\", \"L\", \"Z\"], \"yindex\": 1, \"coordinates\": \"data\", \"dasharray\": \"10,0\", \"zorder\": 1, \"alpha\": 1, \"xindex\": 0, \"data\": \"data07\", \"id\": \"el7194789173968\"}, {\"edgecolor\": \"#000000\", \"facecolor\": \"#4C72B0\", \"edgewidth\": 0.3, \"pathcodes\": [\"M\", \"L\", \"L\", \"L\", \"Z\"], \"yindex\": 1, \"coordinates\": \"data\", \"dasharray\": \"10,0\", \"zorder\": 1, \"alpha\": 1, \"xindex\": 0, \"data\": \"data08\", \"id\": \"el7194808687952\"}, {\"edgecolor\": \"#000000\", \"facecolor\": \"#4C72B0\", \"edgewidth\": 0.3, \"pathcodes\": [\"M\", \"L\", \"L\", \"L\", \"Z\"], \"yindex\": 1, \"coordinates\": \"data\", \"dasharray\": \"10,0\", \"zorder\": 1, \"alpha\": 1, \"xindex\": 0, \"data\": \"data09\", \"id\": \"el7194749993424\"}, {\"edgecolor\": \"#000000\", \"facecolor\": \"#4C72B0\", \"edgewidth\": 0.3, \"pathcodes\": [\"M\", \"L\", \"L\", \"L\", \"Z\"], \"yindex\": 1, \"coordinates\": \"data\", \"dasharray\": \"10,0\", \"zorder\": 1, \"alpha\": 1, \"xindex\": 0, \"data\": \"data10\", \"id\": \"el7194808058832\"}], \"sharey\": [], \"sharex\": [], \"axesbgalpha\": null, \"axes\": [{\"scale\": \"linear\", \"tickformat\": null, \"grid\": {\"gridOn\": false}, \"fontsize\": 10.0, \"position\": \"bottom\", \"nticks\": 9, \"tickvalues\": [0.5, 1.5, 2.5, 3.5, 4.5, 5.5, 6.5, 7.5, 8.5]}, {\"scale\": \"linear\", \"tickformat\": null, \"grid\": {\"gridOn\": false}, \"fontsize\": 10.0, \"position\": \"left\", \"nticks\": 10, \"tickvalues\": null}], \"lines\": [], \"markers\": [{\"edgecolor\": \"#4C72B0\", \"facecolor\": \"#4C72B0\", \"edgewidth\": 0, \"yindex\": 1, \"coordinates\": \"data\", \"zorder\": 2, \"markerpath\": [[[3.0, 1.8369701987210297e-16], [-3.0, -1.8369701987210297e-16]], [\"M\", \"L\"]], \"alpha\": 1, \"xindex\": 0, \"data\": \"data01\", \"id\": \"el7194789593552pts\"}, {\"edgecolor\": \"#4C72B0\", \"facecolor\": \"#4C72B0\", \"edgewidth\": 0, \"yindex\": 2, \"coordinates\": \"data\", \"zorder\": 2, \"markerpath\": [[[3.0, 1.8369701987210297e-16], [-3.0, -1.8369701987210297e-16]], [\"M\", \"L\"]], \"alpha\": 1, \"xindex\": 0, \"data\": \"data01\", \"id\": \"el7194789732176pts\"}], \"id\": \"el7194803505552\", \"ydomain\": [-0.40000000000000002, 0.5], \"collections\": [{\"paths\": [[[[0.4, -0.14115545642828245], [0.4, 0.16380257658464195]], [\"M\", \"L\"]], [[[1.4, -0.13644284918042193], [1.4, 0.16847605011369193]], [\"M\", \"L\"]], [[[2.4, 0.23418531674378323], [2.4, 0.49827487370781703]], [\"M\", \"L\"]], [[[3.4, 0.15850091464049437], [3.4, 0.43650350142429434]], [\"M\", \"L\"]], [[[4.4, -0.3499177185426259], [4.4, -0.05758224603612477]], [\"M\", \"L\"]], [[[5.4, -0.13088183319073962], [5.4, 0.17397371936448372]], [\"M\", \"L\"]], [[[6.4, -0.015941810075741192], [6.4, 0.283593046491098]], [\"M\", \"L\"]], [[[7.4, -0.30493235653954964], [7.4, -0.007372120227085582]], [\"M\", \"L\"]], [[[8.4, -0.3180925579623143], [8.4, -0.02190996550327942]], [\"M\", \"L\"]]], \"edgecolors\": [\"#4C72B0\"], \"edgewidths\": [1.75], \"offsets\": \"data11\", \"yindex\": 1, \"id\": \"el7194803506000\", \"pathtransforms\": [], \"pathcoordinates\": \"data\", \"offsetcoordinates\": \"display\", \"zorder\": 2, \"xindex\": 0, \"alphas\": [null], \"facecolors\": []}], \"xscale\": \"linear\", \"bbox\": [0.17589518229166667, 0.33648003472222221, 0.78660481770833335, 0.59268663194444449]}], \"height\": 240.0, \"width\": 320.0, \"plugins\": [{\"type\": \"reset\"}, {\"enabled\": false, \"button\": true, \"type\": \"zoom\"}, {\"enabled\": false, \"button\": true, \"type\": \"boxzoom\"}, {\"type\": \"helloworld\"}], \"data\": {\"data11\": [[0.0, 0.0]], \"data10\": [[8.0, -0.17000126173279684], [8.8, -0.17000126173279684], [8.8, 0.0], [8.0, 0.0]], \"data08\": [[6.0, 0.0], [6.8, 0.0], [6.8, 0.1338256182076784], [6.0, 0.1338256182076784]], \"data09\": [[7.0, -0.15615223838331763], [7.8, -0.15615223838331763], [7.8, 0.0], [7.0, 0.0]], \"data06\": [[4.0, -0.20374998228937533], [4.8, -0.20374998228937533], [4.8, 0.0], [4.0, 0.0]], \"data07\": [[5.0, 0.0], [5.8, 0.0], [5.8, 0.02154594308687204], [5.0, 0.02154594308687204]], \"data04\": [[2.0, 0.0], [2.8, 0.0], [2.8, 0.36623009522580013], [2.0, 0.36623009522580013]], \"data05\": [[3.0, 0.0], [3.8, 0.0], [3.8, 0.29750220803239436], [3.0, 0.29750220803239436]], \"data02\": [[0.0, 0.0], [0.8, 0.0], [0.8, 0.011323560078179763], [0.0, 0.011323560078179763]], \"data03\": [[1.0, 0.0], [1.8, 0.0], [1.8, 0.016016600466635], [1.0, 0.016016600466635]], \"data01\": [[0.4, -0.14115545642828245, 0.16380257658464195], [1.4, -0.13644284918042193, 0.16847605011369193], [2.4, 0.23418531674378323, 0.49827487370781703], [3.4, 0.15850091464049437, 0.43650350142429434], [4.4, -0.3499177185426259, -0.05758224603612477], [5.4, -0.13088183319073962, 0.17397371936448372], [6.4, -0.015941810075741192, 0.283593046491098], [7.4, -0.30493235653954964, -0.007372120227085582], [8.4, -0.3180925579623143, -0.02190996550327942]]}, \"id\": \"el7194803768208\"});\n",
        "      });\n",
        "    });\n",
        "}else{\n",
        "    // require.js not available: dynamically load d3 & mpld3\n",
        "    mpld3_load_lib(\"https://mpld3.github.io/js/d3.v3.min.js\", function(){\n",
        "         mpld3_load_lib(\"https://mpld3.github.io/js/mpld3.v0.2.js\", function(){\n",
        "                 \n",
        "    mpld3.register_plugin(\"helloworld\", HelloWorld);\n",
        "    HelloWorld.prototype = Object.create(mpld3.Plugin.prototype);\n",
        "    HelloWorld.prototype.constructor = HelloWorld;\n",
        "    function HelloWorld(fig, props){\n",
        "        mpld3.Plugin.call(this, fig, props);\n",
        "    };\n",
        "    \n",
        "    HelloWorld.prototype.draw = function(){\n",
        "        // FIXME: this is a very brittle way to select the y-axis element\n",
        "        var ax = this.fig.axes[0].elements[1];\n",
        "\n",
        "        // see https://github.com/mbostock/d3/wiki/Formatting#d3_format\n",
        "        // for d3js formating documentation\n",
        "        ax.axis.tickFormat(d3.format(\"d\"));\n",
        "\n",
        "        // TODO: use a function for tick values that\n",
        "        // updates when values pan and zoom\n",
        "        ax.axis.tickValues([1,100,1000]);\n",
        "\n",
        "        // HACK: use reset to redraw figure\n",
        "        this.fig.reset(); \n",
        "    }\n",
        "    \n",
        "                 mpld3.draw_figure(\"fig_el71948037682085280774557\", {\"axes\": [{\"xlim\": [0.0, 9.0], \"yscale\": \"linear\", \"axesbg\": \"#FFFFFF\", \"texts\": [{\"v_baseline\": \"hanging\", \"h_anchor\": \"middle\", \"color\": \"#262626\", \"text\": \"face descriptions\", \"coordinates\": \"axes\", \"zorder\": 3, \"alpha\": 1, \"fontsize\": 11.0, \"position\": [0.5, -0.41272747244699926], \"rotation\": -0.0, \"id\": \"el7194787267088\"}, {\"v_baseline\": \"auto\", \"h_anchor\": \"middle\", \"color\": \"#262626\", \"text\": \"preference score\", \"coordinates\": \"axes\", \"zorder\": 3, \"alpha\": 1, \"fontsize\": 11.0, \"position\": [-0.13621221212936335, 0.5], \"rotation\": -90.0, \"id\": \"el7194808057296\"}], \"zoomable\": true, \"images\": [], \"xdomain\": [0.0, 9.0], \"ylim\": [-0.40000000000000002, 0.5], \"paths\": [{\"edgecolor\": \"#000000\", \"facecolor\": \"#4C72B0\", \"edgewidth\": 0.3, \"pathcodes\": [\"M\", \"L\", \"L\", \"L\", \"Z\"], \"yindex\": 1, \"coordinates\": \"data\", \"dasharray\": \"10,0\", \"zorder\": 1, \"alpha\": 1, \"xindex\": 0, \"data\": \"data02\", \"id\": \"el7194798448016\"}, {\"edgecolor\": \"#000000\", \"facecolor\": \"#4C72B0\", \"edgewidth\": 0.3, \"pathcodes\": [\"M\", \"L\", \"L\", \"L\", \"Z\"], \"yindex\": 1, \"coordinates\": \"data\", \"dasharray\": \"10,0\", \"zorder\": 1, \"alpha\": 1, \"xindex\": 0, \"data\": \"data03\", \"id\": \"el7194798448528\"}, {\"edgecolor\": \"#000000\", \"facecolor\": \"#4C72B0\", \"edgewidth\": 0.3, \"pathcodes\": [\"M\", \"L\", \"L\", \"L\", \"Z\"], \"yindex\": 1, \"coordinates\": \"data\", \"dasharray\": \"10,0\", \"zorder\": 1, \"alpha\": 1, \"xindex\": 0, \"data\": \"data04\", \"id\": \"el7194662842960\"}, {\"edgecolor\": \"#000000\", \"facecolor\": \"#4C72B0\", \"edgewidth\": 0.3, \"pathcodes\": [\"M\", \"L\", \"L\", \"L\", \"Z\"], \"yindex\": 1, \"coordinates\": \"data\", \"dasharray\": \"10,0\", \"zorder\": 1, \"alpha\": 1, \"xindex\": 0, \"data\": \"data05\", \"id\": \"el7194662841616\"}, {\"edgecolor\": \"#000000\", \"facecolor\": \"#4C72B0\", \"edgewidth\": 0.3, \"pathcodes\": [\"M\", \"L\", \"L\", \"L\", \"Z\"], \"yindex\": 1, \"coordinates\": \"data\", \"dasharray\": \"10,0\", \"zorder\": 1, \"alpha\": 1, \"xindex\": 0, \"data\": \"data06\", \"id\": \"el7194794571984\"}, {\"edgecolor\": \"#000000\", \"facecolor\": \"#4C72B0\", \"edgewidth\": 0.3, \"pathcodes\": [\"M\", \"L\", \"L\", \"L\", \"Z\"], \"yindex\": 1, \"coordinates\": \"data\", \"dasharray\": \"10,0\", \"zorder\": 1, \"alpha\": 1, \"xindex\": 0, \"data\": \"data07\", \"id\": \"el7194789173968\"}, {\"edgecolor\": \"#000000\", \"facecolor\": \"#4C72B0\", \"edgewidth\": 0.3, \"pathcodes\": [\"M\", \"L\", \"L\", \"L\", \"Z\"], \"yindex\": 1, \"coordinates\": \"data\", \"dasharray\": \"10,0\", \"zorder\": 1, \"alpha\": 1, \"xindex\": 0, \"data\": \"data08\", \"id\": \"el7194808687952\"}, {\"edgecolor\": \"#000000\", \"facecolor\": \"#4C72B0\", \"edgewidth\": 0.3, \"pathcodes\": [\"M\", \"L\", \"L\", \"L\", \"Z\"], \"yindex\": 1, \"coordinates\": \"data\", \"dasharray\": \"10,0\", \"zorder\": 1, \"alpha\": 1, \"xindex\": 0, \"data\": \"data09\", \"id\": \"el7194749993424\"}, {\"edgecolor\": \"#000000\", \"facecolor\": \"#4C72B0\", \"edgewidth\": 0.3, \"pathcodes\": [\"M\", \"L\", \"L\", \"L\", \"Z\"], \"yindex\": 1, \"coordinates\": \"data\", \"dasharray\": \"10,0\", \"zorder\": 1, \"alpha\": 1, \"xindex\": 0, \"data\": \"data10\", \"id\": \"el7194808058832\"}], \"sharey\": [], \"sharex\": [], \"axesbgalpha\": null, \"axes\": [{\"scale\": \"linear\", \"tickformat\": null, \"grid\": {\"gridOn\": false}, \"fontsize\": 10.0, \"position\": \"bottom\", \"nticks\": 9, \"tickvalues\": [0.5, 1.5, 2.5, 3.5, 4.5, 5.5, 6.5, 7.5, 8.5]}, {\"scale\": \"linear\", \"tickformat\": null, \"grid\": {\"gridOn\": false}, \"fontsize\": 10.0, \"position\": \"left\", \"nticks\": 10, \"tickvalues\": null}], \"lines\": [], \"markers\": [{\"edgecolor\": \"#4C72B0\", \"facecolor\": \"#4C72B0\", \"edgewidth\": 0, \"yindex\": 1, \"coordinates\": \"data\", \"zorder\": 2, \"markerpath\": [[[3.0, 1.8369701987210297e-16], [-3.0, -1.8369701987210297e-16]], [\"M\", \"L\"]], \"alpha\": 1, \"xindex\": 0, \"data\": \"data01\", \"id\": \"el7194789593552pts\"}, {\"edgecolor\": \"#4C72B0\", \"facecolor\": \"#4C72B0\", \"edgewidth\": 0, \"yindex\": 2, \"coordinates\": \"data\", \"zorder\": 2, \"markerpath\": [[[3.0, 1.8369701987210297e-16], [-3.0, -1.8369701987210297e-16]], [\"M\", \"L\"]], \"alpha\": 1, \"xindex\": 0, \"data\": \"data01\", \"id\": \"el7194789732176pts\"}], \"id\": \"el7194803505552\", \"ydomain\": [-0.40000000000000002, 0.5], \"collections\": [{\"paths\": [[[[0.4, -0.14115545642828245], [0.4, 0.16380257658464195]], [\"M\", \"L\"]], [[[1.4, -0.13644284918042193], [1.4, 0.16847605011369193]], [\"M\", \"L\"]], [[[2.4, 0.23418531674378323], [2.4, 0.49827487370781703]], [\"M\", \"L\"]], [[[3.4, 0.15850091464049437], [3.4, 0.43650350142429434]], [\"M\", \"L\"]], [[[4.4, -0.3499177185426259], [4.4, -0.05758224603612477]], [\"M\", \"L\"]], [[[5.4, -0.13088183319073962], [5.4, 0.17397371936448372]], [\"M\", \"L\"]], [[[6.4, -0.015941810075741192], [6.4, 0.283593046491098]], [\"M\", \"L\"]], [[[7.4, -0.30493235653954964], [7.4, -0.007372120227085582]], [\"M\", \"L\"]], [[[8.4, -0.3180925579623143], [8.4, -0.02190996550327942]], [\"M\", \"L\"]]], \"edgecolors\": [\"#4C72B0\"], \"edgewidths\": [1.75], \"offsets\": \"data11\", \"yindex\": 1, \"id\": \"el7194803506000\", \"pathtransforms\": [], \"pathcoordinates\": \"data\", \"offsetcoordinates\": \"display\", \"zorder\": 2, \"xindex\": 0, \"alphas\": [null], \"facecolors\": []}], \"xscale\": \"linear\", \"bbox\": [0.17589518229166667, 0.33648003472222221, 0.78660481770833335, 0.59268663194444449]}], \"height\": 240.0, \"width\": 320.0, \"plugins\": [{\"type\": \"reset\"}, {\"enabled\": false, \"button\": true, \"type\": \"zoom\"}, {\"enabled\": false, \"button\": true, \"type\": \"boxzoom\"}, {\"type\": \"helloworld\"}], \"data\": {\"data11\": [[0.0, 0.0]], \"data10\": [[8.0, -0.17000126173279684], [8.8, -0.17000126173279684], [8.8, 0.0], [8.0, 0.0]], \"data08\": [[6.0, 0.0], [6.8, 0.0], [6.8, 0.1338256182076784], [6.0, 0.1338256182076784]], \"data09\": [[7.0, -0.15615223838331763], [7.8, -0.15615223838331763], [7.8, 0.0], [7.0, 0.0]], \"data06\": [[4.0, -0.20374998228937533], [4.8, -0.20374998228937533], [4.8, 0.0], [4.0, 0.0]], \"data07\": [[5.0, 0.0], [5.8, 0.0], [5.8, 0.02154594308687204], [5.0, 0.02154594308687204]], \"data04\": [[2.0, 0.0], [2.8, 0.0], [2.8, 0.36623009522580013], [2.0, 0.36623009522580013]], \"data05\": [[3.0, 0.0], [3.8, 0.0], [3.8, 0.29750220803239436], [3.0, 0.29750220803239436]], \"data02\": [[0.0, 0.0], [0.8, 0.0], [0.8, 0.011323560078179763], [0.0, 0.011323560078179763]], \"data03\": [[1.0, 0.0], [1.8, 0.0], [1.8, 0.016016600466635], [1.0, 0.016016600466635]], \"data01\": [[0.4, -0.14115545642828245, 0.16380257658464195], [1.4, -0.13644284918042193, 0.16847605011369193], [2.4, 0.23418531674378323, 0.49827487370781703], [3.4, 0.15850091464049437, 0.43650350142429434], [4.4, -0.3499177185426259, -0.05758224603612477], [5.4, -0.13088183319073962, 0.17397371936448372], [6.4, -0.015941810075741192, 0.283593046491098], [7.4, -0.30493235653954964, -0.007372120227085582], [8.4, -0.3180925579623143, -0.02190996550327942]]}, \"id\": \"el7194803768208\"});\n",
        "            })\n",
        "         });\n",
        "}\n",
        "</script>"
       ],
       "metadata": {},
       "output_type": "pyout",
       "prompt_number": 351,
       "text": [
        "<IPython.core.display.HTML at 0x11db078d0>"
       ]
      }
     ],
     "prompt_number": 351
    },
    {
     "cell_type": "code",
     "collapsed": false,
     "input": [
      "labels=['a','b','c','d']\n",
      "means=[1,4,3,2]\n",
      "error=[.5,.3,.7,.1]\n",
      "datadict=\"{chart: {zoomType: 'xy'},title: {text: 'Temperature vs Rainfall'},xAxis: [{categories: %s}],yAxis: [{ // Primary yAxis labels: {style: {color: Highcharts.getOptions().colors[1]}},title: {text: 'Rainfall',style: {color: Highcharts.getOptions().colors[1]}}}],tooltip: {shared: true},series: [{name: 'Rainfall',type: 'column',yAxis: 0,data: %s,tooltip: {pointFormat: '<span style=font-weight: bold; color: {series.color}\">{series.name}</span>: <b>{point.y:.1f} mm</b> '}}, {name: 'Rainfall error',type: 'errorbar',yAxis: 0,data: %s,tooltip: {pointFormat: '(error range: {point.low}-{point.high} mm)<br/>'}}]}\" %(labels, data, error)"
     ],
     "language": "python",
     "metadata": {},
     "outputs": [
      {
       "ename": "SyntaxError",
       "evalue": "invalid syntax (<ipython-input-224-9d1a7580a978>, line 4)",
       "output_type": "pyerr",
       "traceback": [
        "\u001b[0;36m  File \u001b[0;32m\"<ipython-input-224-9d1a7580a978>\"\u001b[0;36m, line \u001b[0;32m4\u001b[0m\n\u001b[0;31m    datadict=\"{chart: {zoomType: 'xy'},title: {text: 'Temperature vs Rainfall'},xAxis: [{categories: %s}],yAxis: [{ // Primary yAxis labels: {style: {color: Highcharts.getOptions().colors[1]}},title: {text: 'Rainfall',style: {color: Highcharts.getOptions().colors[1]}}}],tooltip: {shared: true},series: [{name: 'Rainfall',type: 'column',yAxis: 0,data: %s,tooltip: {pointFormat: '<span style=\"font-weight: bold; color: {series.color}\">{series.name}</span>: <b>{point.y:.1f} mm</b> '}}, {name: 'Rainfall error',type: 'errorbar',yAxis: 0,data: %s,tooltip: {pointFormat: '(error range: {point.low}-{point.high} mm)<br/>'}}]}\" %(labels, data, error)\u001b[0m\n\u001b[0m                                                                                                                                                                                                                                                                                                                                                                                                           ^\u001b[0m\n\u001b[0;31mSyntaxError\u001b[0m\u001b[0;31m:\u001b[0m invalid syntax\n"
       ]
      }
     ],
     "prompt_number": 224
    },
    {
     "cell_type": "code",
     "collapsed": false,
     "input": [
      "import mpld3.plugins\n",
      "class HelloWorld(mpld3.plugins.PluginBase):  # inherit from PluginBase\n",
      "    \"\"\"Hello World plugin\"\"\"\n",
      "    \n",
      "    JAVASCRIPT = \"\"\"\n",
      "    mpld3.register_plugin(\"helloworld\", HelloWorld);\n",
      "    HelloWorld.prototype = Object.create(mpld3.Plugin.prototype);\n",
      "    HelloWorld.prototype.constructor = HelloWorld;\n",
      "    function HelloWorld(fig, props){\n",
      "        mpld3.Plugin.call(this, fig, props);\n",
      "    };\n",
      "    \n",
      "    HelloWorld.prototype.draw = function(){\n",
      "        // FIXME: this is a very brittle way to select the y-axis element\n",
      "        var ax = this.fig.axes[0].elements[1];\n",
      "\n",
      "        // see https://github.com/mbostock/d3/wiki/Formatting#d3_format\n",
      "        // for d3js formating documentation\n",
      "        ax.axis.tickFormat(d3.format(\"d\"));\n",
      "\n",
      "        // TODO: use a function for tick values that\n",
      "        // updates when values pan and zoom\n",
      "        ax.axis.tickValues([1,100,1000]);\n",
      "\n",
      "        // HACK: use reset to redraw figure\n",
      "        this.fig.reset(); \n",
      "    }\n",
      "    \"\"\"\n",
      "    def __init__(self):\n",
      "        self.dict_ = {\"type\": \"helloworld\"}"
     ],
     "language": "python",
     "metadata": {},
     "outputs": [],
     "prompt_number": 331
    },
    {
     "cell_type": "code",
     "collapsed": false,
     "input": [
      "fig, ax = plt.subplots()\n",
      "ax.set_yscale('log')\n",
      "ax.plot([3,1,4,1,5,9,100,1000], 'ko-', mfc='k', mew=2, mec='w', ms=10)\n",
      "ax.set_xticklabels(['3','1','4','5','9','c','d'])\n",
      "ax_fmt = HelloWorld()\n",
      "mpld3.plugins.connect(fig, ax_fmt)\n"
     ],
     "language": "python",
     "metadata": {},
     "outputs": [
      {
       "metadata": {},
       "output_type": "display_data",
       "png": "[encoded data removed]",
       "text": [
        "<matplotlib.figure.Figure at 0x11deaee10>"
       ]
      }
     ],
     "prompt_number": 333
    },
    {
     "cell_type": "code",
     "collapsed": false,
     "input": [
      "jsonobj=json.encoder.encode_basestring(jsonstr)"
     ],
     "language": "python",
     "metadata": {},
     "outputs": [],
     "prompt_number": 309
    },
    {
     "cell_type": "code",
     "collapsed": false,
     "input": [
      "import json"
     ],
     "language": "python",
     "metadata": {},
     "outputs": [],
     "prompt_number": 402
    },
    {
     "cell_type": "code",
     "collapsed": false,
     "input": [
      "def makejsontemplate():\n",
      "    errdata={\"name\": \"variable error\",\"type\": \"errorbar\",\"yAxis\": 0,\"data\": [[48, 51], [68, 73], [92, 110], [128, 136]],\"tooltip\": {\"pointFormat\": \"(error range: {point.low}-{point.high} mm)<br/>\"}}\n",
      "    coldata={\"name\": \"variable\",\"type\": \"column\",\"yAxis\": 0, \"data\": [49.9, 71.5, 106.4, 129.2],\"tooltip\": {\"pointFormat\": '<span style=\"font-weight: bold; color: {series.color}\">{series.name}</span>: <b>{point.y:.1f} mm</b>'}}\n",
      "    series=[coldata, errdata]\n",
      "    jsondict={\"chart\": {\"zoomType\": \"xy\"},\"title\": {\"text\": \" default title\"},\"xAxis\": [{\"categories\": [\"a\", \"b\", \"c\", \"d\"]}],\"yAxis\": [{\"labels\": {\"style\": {\"color\": 'red'}},\"title\": {\"text\": \"variable name\",\"style\": {\"color\": 'blue'}}}],\"tooltip\": {\"shared\": True}, 'series':series}\n",
      "    return jsondict\n",
      "def pushdata(means, sems, labels, title, xlabel, ylabel):\n",
      "    jsondict=makejsontemplate()\n",
      "    jsondict['series'][0]['data']=means\n",
      "    jsondict['series'][1]['data']=sems\n",
      "    jsondict['xAxis'][0]['categories']=labels\n",
      "    jsondict['title']['text']=plottitle\n",
      "    jsondict['yAxis'][0]['title']['text']=ylabel\n",
      "    jsondict['yAxis'][0]['title']['text']=xlabel\n",
      "    encoder=json.JSONEncoder()\n",
      "    djson=encoder.encode(jsondict)\n",
      "    return djson"
     ],
     "language": "python",
     "metadata": {},
     "outputs": [],
     "prompt_number": 432
    },
    {
     "cell_type": "code",
     "collapsed": false,
     "input": [
      "djson=pushdata(means, sems, labels, title, xlabel, ylabel)"
     ],
     "language": "python",
     "metadata": {},
     "outputs": [],
     "prompt_number": 433
    },
    {
     "cell_type": "code",
     "collapsed": false,
     "input": [
      "djson2=json.dump"
     ],
     "language": "python",
     "metadata": {},
     "outputs": [
      {
       "ename": "TypeError",
       "evalue": "dump() takes at least 2 arguments (1 given)",
       "output_type": "pyerr",
       "traceback": [
        "\u001b[0;31m---------------------------------------------------------------------------\u001b[0m\n\u001b[0;31mTypeError\u001b[0m                                 Traceback (most recent call last)",
        "\u001b[0;32m<ipython-input-439-93f93bc518fd>\u001b[0m in \u001b[0;36m<module>\u001b[0;34m()\u001b[0m\n\u001b[0;32m----> 1\u001b[0;31m \u001b[0mdjson2\u001b[0m\u001b[0;34m=\u001b[0m\u001b[0mjson\u001b[0m\u001b[0;34m.\u001b[0m\u001b[0mdump\u001b[0m\u001b[0;34m(\u001b[0m\u001b[0mjsondict\u001b[0m\u001b[0;34m)\u001b[0m\u001b[0;34m\u001b[0m\u001b[0m\n\u001b[0m",
        "\u001b[0;31mTypeError\u001b[0m: dump() takes at least 2 arguments (1 given)"
       ]
      }
     ],
     "prompt_number": 439
    },
    {
     "cell_type": "code",
     "collapsed": false,
     "input": [
      "encoder=json.JSONEncoder()\n",
      "decoder=json.JSONDecoder()"
     ],
     "language": "python",
     "metadata": {},
     "outputs": [],
     "prompt_number": 428
    },
    {
     "cell_type": "code",
     "collapsed": false,
     "input": [
      "djson==djson2"
     ],
     "language": "python",
     "metadata": {},
     "outputs": [
      {
       "metadata": {},
       "output_type": "pyout",
       "prompt_number": 438,
       "text": [
        "True"
       ]
      }
     ],
     "prompt_number": 438
    },
    {
     "cell_type": "code",
     "collapsed": false,
     "input": [],
     "language": "python",
     "metadata": {},
     "outputs": []
    }
   ],
   "metadata": {}
  }
 ]
}