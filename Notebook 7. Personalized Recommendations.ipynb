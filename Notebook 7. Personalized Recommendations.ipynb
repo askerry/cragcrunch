{
 "metadata": {
  "name": "",
  "signature": "sha256:bc917b8291b5d6537e8638b26897796a3103acc60e242b938fb06d3fcce06073"
 },
 "nbformat": 3,
 "nbformat_minor": 0,
 "worksheets": [
  {
   "cells": [
    {
     "cell_type": "code",
     "collapsed": false,
     "input": [
      "pylab inline"
     ],
     "language": "python",
     "metadata": {},
     "outputs": [
      {
       "output_type": "stream",
       "stream": "stdout",
       "text": [
        "Populating the interactive namespace from numpy and matplotlib\n"
       ]
      }
     ],
     "prompt_number": 1
    },
    {
     "cell_type": "code",
     "collapsed": false,
     "input": [
      "%load_ext autoreload"
     ],
     "language": "python",
     "metadata": {},
     "outputs": [],
     "prompt_number": 2
    },
    {
     "cell_type": "code",
     "collapsed": false,
     "input": [
      "import pandas as pd\n",
      "import numpy as np\n",
      "np.random.RandomState(100)\n",
      "from sqlalchemy import create_engine\n",
      "import os\n",
      "import sys\n",
      "\n",
      "from joblib import Parallel, delayed  \n",
      "import multiprocessing\n",
      "num_cores = multiprocessing.cpu_count()\n",
      "print \"%s cores available for parallel processing\" % num_cores\n",
      "\n",
      "sys.path.append('mpscraper')\n",
      "from mpscraper.cfgdb import cfg\n",
      "sys.path.append('antools')\n",
      "import antools.reduction as red\n",
      "import antools.utilities as util\n",
      "import antools.modeling as mo\n",
      "import seaborn as sns\n",
      "sns.set_style('white')\n",
      "import matplotlib.pyplot as plt\n",
      "from sklearn.metrics.pairwise import pairwise_distances"
     ],
     "language": "python",
     "metadata": {},
     "outputs": [
      {
       "output_type": "stream",
       "stream": "stdout",
       "text": [
        "4 cores available for parallel processing\n"
       ]
      }
     ],
     "prompt_number": 13
    },
    {
     "cell_type": "code",
     "collapsed": false,
     "input": [
      "import sys, os\n",
      "rootdir=os.getcwd()\n",
      "while 'Projects' in rootdir:\n",
      "    rootdir=os.path.dirname(rootdir)\n",
      "projdir=os.path.join(rootdir, 'Projects','cragcrunch','data')"
     ],
     "language": "python",
     "metadata": {},
     "outputs": [],
     "prompt_number": 5
    },
    {
     "cell_type": "heading",
     "level": 3,
     "metadata": {},
     "source": [
      "Load in preprocessed data"
     ]
    },
    {
     "cell_type": "code",
     "collapsed": false,
     "input": [
      "engine = create_engine('mysql://%s@%s/%s?charset=%s&use_unicode=%s&passwd=%s' %(cfg.user, cfg.host, cfg.dbname, cfg.charset, cfg.use_unicode, cfg.passwd), pool_recycle=3600)\n",
      "cdf = pd.read_sql(\"SELECT * from climb_prepped where region = 'California'\", engine, index_col='index')\n",
      "adf = pd.read_sql(\"SELECT * from area_prepped where region = 'California'\", engine, index_col='index')\n",
      "climbs=list(cdf.climbid.unique())\n",
      "udf = pd.read_sql(\"SELECT * from climber_prepped\", engine, index_col='index')\n",
      "hdf= pd.read_sql(\"SELECT * from hits_prepped\", engine, index_col='index')\n",
      "sdf= pd.read_sql(\"SELECT * from stars_prepped\", engine, index_col='index')\n",
      "gdf= pd.read_sql(\"SELECT * from grades_prepped\", engine, index_col='index')\n",
      "codf= pd.read_sql(\"SELECT * from comments_prepped\", engine, index_col='index')\n",
      "tdf= pd.read_sql(\"SELECT * from ticks_prepped\", engine, index_col='index')"
     ],
     "language": "python",
     "metadata": {},
     "outputs": [],
     "prompt_number": 6
    },
    {
     "cell_type": "heading",
     "level": 3,
     "metadata": {},
     "source": [
      "Eliminate climbs with very low traffic"
     ]
    },
    {
     "cell_type": "code",
     "collapsed": false,
     "input": [
      "#to keep the dataset size managable, and focus on climbs that get SOME traffic, we will limit to climbs with at least minthresh climbers reporting on them\n",
      "%autoreload\n",
      "minthresh=5\n",
      "i=len(adf)\n",
      "j=len(cdf)\n",
      "popclimbdf, hdf, sdf, codf, gdf, tdf=red.limit2popular(hdf,cdf, sdf, codf, gdf, tdf, minthresh=minthresh)\n",
      "print \"dropped to climbs with > %s hits\" %(minthresh)\n",
      "print \"starting with %s, reducing to %s\" %(i, len(adf))\n",
      "print \"starting with %s, reducing to %s\" %(j, len(cdf))"
     ],
     "language": "python",
     "metadata": {},
     "outputs": [
      {
       "output_type": "stream",
       "stream": "stdout",
       "text": [
        "beginning with 8314 unique climbs\n",
        "limited to 7082 climbs by restricting to climbs with >5 climber entries\n",
        "dropped to climbs with > 5 hits"
       ]
      },
      {
       "output_type": "stream",
       "stream": "stdout",
       "text": [
        "\n",
        "starting with 3049, reducing to 3049\n",
        "starting with 8314, reducing to 8314\n"
       ]
      }
     ],
     "prompt_number": 7
    },
    {
     "cell_type": "code",
     "collapsed": false,
     "input": [
      "#take testp% of climbs and put aside all entries relating to that climb as test data\n",
      "testp=0.05\n",
      "\n",
      "testids=np.random.choice(popclimbdf.index.values,int(len(popclimbdf)*testp))\n",
      "util.pickletheseobjects(os.path.join(rootdir,'projects','cragcrunch', 'data', 'testids.pkl'),[testids])\n",
      "testclimbdf,climbdf=popclimbdf.loc[testids,:].copy(), popclimbdf.drop(testids)\n",
      "testtdf,tdf=mo.splittraintest(tdf, testids)\n",
      "testcodf,codf=mo.splittraintest(codf, testids)\n",
      "testgdf,gdf=mo.splittraintest(gdf, testids)\n",
      "testsdf,sdf=mo.splittraintest(sdf, testids)\n",
      "testhdf,hdf=mo.splittraintest(hdf, testids)\n",
      "print \"putting aside %s of %s climbs for a final validation test\" %(len(testids), len(popclimbdf))"
     ],
     "language": "python",
     "metadata": {},
     "outputs": [
      {
       "output_type": "stream",
       "stream": "stdout",
       "text": [
        "putting aside 354 of 7082 climbs for a final validation test\n"
       ]
      }
     ],
     "prompt_number": 14
    },
    {
     "cell_type": "code",
     "collapsed": false,
     "input": [
      "sdf.head(4)"
     ],
     "language": "python",
     "metadata": {},
     "outputs": [
      {
       "html": [
        "<div style=\"max-height:1000px;max-width:1500px;overflow:auto;\">\n",
        "<table border=\"1\" class=\"dataframe\">\n",
        "  <thead>\n",
        "    <tr style=\"text-align: right;\">\n",
        "      <th></th>\n",
        "      <th>starid</th>\n",
        "      <th>starsscore</th>\n",
        "      <th>climb</th>\n",
        "      <th>climblink</th>\n",
        "      <th>climber</th>\n",
        "      <th>url</th>\n",
        "      <th>name</th>\n",
        "      <th>urlname</th>\n",
        "    </tr>\n",
        "    <tr>\n",
        "      <th>index</th>\n",
        "      <th></th>\n",
        "      <th></th>\n",
        "      <th></th>\n",
        "      <th></th>\n",
        "      <th></th>\n",
        "      <th></th>\n",
        "      <th></th>\n",
        "      <th></th>\n",
        "    </tr>\n",
        "  </thead>\n",
        "  <tbody>\n",
        "    <tr>\n",
        "      <th>96 </th>\n",
        "      <td>  96</td>\n",
        "      <td> 4</td>\n",
        "      <td> 699</td>\n",
        "      <td>    mountainproject.com/v/new-dimensions/105992537</td>\n",
        "      <td> 10</td>\n",
        "      <td> mountainproject.com/u/ken-duncan//13115?action...</td>\n",
        "      <td>               Ken Duncan_New Dimensions</td>\n",
        "      <td> ken-duncan</td>\n",
        "    </tr>\n",
        "    <tr>\n",
        "      <th>122</th>\n",
        "      <td> 122</td>\n",
        "      <td> 4</td>\n",
        "      <td> 724</td>\n",
        "      <td> mountainproject.com/v/reeds-pinnacle-direct-ro...</td>\n",
        "      <td> 10</td>\n",
        "      <td> mountainproject.com/u/ken-duncan//13115?action...</td>\n",
        "      <td> Ken Duncan_Reed's Pinnacle-Direct Route</td>\n",
        "      <td> ken-duncan</td>\n",
        "    </tr>\n",
        "    <tr>\n",
        "      <th>124</th>\n",
        "      <td> 124</td>\n",
        "      <td> 4</td>\n",
        "      <td> 727</td>\n",
        "      <td>        mountainproject.com/v/mr-natural/105954972</td>\n",
        "      <td> 10</td>\n",
        "      <td> mountainproject.com/u/ken-duncan//13115?action...</td>\n",
        "      <td>                  Ken Duncan_Mr. Natural</td>\n",
        "      <td> ken-duncan</td>\n",
        "    </tr>\n",
        "    <tr>\n",
        "      <th>125</th>\n",
        "      <td> 125</td>\n",
        "      <td> 4</td>\n",
        "      <td> 728</td>\n",
        "      <td>     mountainproject.com/v/crack-a-go-go/105872888</td>\n",
        "      <td> 10</td>\n",
        "      <td> mountainproject.com/u/ken-duncan//13115?action...</td>\n",
        "      <td>                Ken Duncan_Crack-a-Go-Go</td>\n",
        "      <td> ken-duncan</td>\n",
        "    </tr>\n",
        "  </tbody>\n",
        "</table>\n",
        "</div>"
       ],
       "metadata": {},
       "output_type": "pyout",
       "prompt_number": 15,
       "text": [
        "       starid  starsscore  climb  \\\n",
        "index                              \n",
        "96         96           4    699   \n",
        "122       122           4    724   \n",
        "124       124           4    727   \n",
        "125       125           4    728   \n",
        "\n",
        "                                               climblink  climber  \\\n",
        "index                                                               \n",
        "96        mountainproject.com/v/new-dimensions/105992537       10   \n",
        "122    mountainproject.com/v/reeds-pinnacle-direct-ro...       10   \n",
        "124           mountainproject.com/v/mr-natural/105954972       10   \n",
        "125        mountainproject.com/v/crack-a-go-go/105872888       10   \n",
        "\n",
        "                                                     url  \\\n",
        "index                                                      \n",
        "96     mountainproject.com/u/ken-duncan//13115?action...   \n",
        "122    mountainproject.com/u/ken-duncan//13115?action...   \n",
        "124    mountainproject.com/u/ken-duncan//13115?action...   \n",
        "125    mountainproject.com/u/ken-duncan//13115?action...   \n",
        "\n",
        "                                          name     urlname  \n",
        "index                                                       \n",
        "96                   Ken Duncan_New Dimensions  ken-duncan  \n",
        "122    Ken Duncan_Reed's Pinnacle-Direct Route  ken-duncan  \n",
        "124                     Ken Duncan_Mr. Natural  ken-duncan  \n",
        "125                   Ken Duncan_Crack-a-Go-Go  ken-duncan  "
       ]
      }
     ],
     "prompt_number": 15
    },
    {
     "cell_type": "code",
     "collapsed": false,
     "input": [
      "len(testsdf)"
     ],
     "language": "python",
     "metadata": {},
     "outputs": [
      {
       "metadata": {},
       "output_type": "pyout",
       "prompt_number": 16,
       "text": [
        "969"
       ]
      }
     ],
     "prompt_number": 16
    },
    {
     "cell_type": "code",
     "collapsed": false,
     "input": [],
     "language": "python",
     "metadata": {},
     "outputs": [],
     "prompt_number": 16
    },
    {
     "cell_type": "code",
     "collapsed": false,
     "input": [
      "%autoreload\n",
      "allpdf=az.individualpred(hitsdf, climberdf,stardf, gradedf,parallel=False,needsprep=False)\n",
      "allpdf=allpdf[allpdf['source']!=allpdf['targetclimber']]"
     ],
     "language": "python",
     "metadata": {},
     "outputs": [],
     "prompt_number": 16
    },
    {
     "cell_type": "code",
     "collapsed": false,
     "input": [
      "possims=np.arange(-1,1,.25)\n",
      "poscounts=np.arange(0,50,5)\n",
      "compdf=az.makecompdf(possims,poscounts,allpdf)\n",
      "f,ax=plt.subplots(1,2, figsize=[14,6], sharey=True)\n",
      "sns.pointplot(x='simthresh', y='coverage', hue='countthresh',data=compdf, ax=ax[0])\n",
      "sns.pointplot(x='countthresh', y='coverage', hue='simthresh', data=compdf, ax=ax[1])\n",
      "sns.despine()"
     ],
     "language": "python",
     "metadata": {},
     "outputs": [],
     "prompt_number": 16
    },
    {
     "cell_type": "code",
     "collapsed": false,
     "input": [
      "sns.factorplot(x='simthresh', y='variance explained', hue='countthresh', data=compdf)"
     ],
     "language": "python",
     "metadata": {},
     "outputs": [],
     "prompt_number": 16
    },
    {
     "cell_type": "code",
     "collapsed": false,
     "input": [
      "#test accuracy of rating predictions bsaed on ratings of similar climbers\n",
      "mincount=0\n",
      "minsim=-.5\n",
      "usepdf=allpdf[allpdf['true']!=0]\n",
      "matchdf=az.assessindpreds(usepdf, minsim, mincount, operator='>')"
     ],
     "language": "python",
     "metadata": {},
     "outputs": []
    },
    {
     "cell_type": "code",
     "collapsed": false,
     "input": [
      "#test accuracy of rating predictions bsaed on ratings of all climbers\n",
      "allmatchdf=az.assessindpreds(usepdf, minsim, mincount, operator='all')"
     ],
     "language": "python",
     "metadata": {},
     "outputs": [],
     "prompt_number": 17
    },
    {
     "cell_type": "code",
     "collapsed": false,
     "input": [
      "#test accuracy of rating predictions bsaed on ratings of dissimilar climbers\n",
      "mismatchdf=az.assessindpreds(usepdf, minsim, mincount, operator='<')"
     ],
     "language": "python",
     "metadata": {},
     "outputs": [],
     "prompt_number": 17
    },
    {
     "cell_type": "code",
     "collapsed": false,
     "input": [
      "compare=pd.concat([matchdf, mismatchdf, allmatchdf])\n",
      "acc=compare['true']==compare['intpreds']\n",
      "compare['correct']=acc.astype(int)\n",
      "f,ax=plt.subplots(1,2,figsize=[10,4], sharex=True)\n",
      "compare.groupby('simtype').mean()['correct'].plot(kind='bar', ax=ax[0], grid=False, color=['g','b','orange'])\n",
      "ax[0].set_ylabel('accuracy')\n",
      "sns.barplot(x='simtype', y='discrep', data=compare, ci=68, ax=ax[1], color=['g','b','orange'])\n",
      "plt.ylabel('average prediction error')\n",
      "plt.xlabel('prediction basis')\n",
      "sns.despine()"
     ],
     "language": "python",
     "metadata": {},
     "outputs": [],
     "prompt_number": 17
    },
    {
     "cell_type": "code",
     "collapsed": false,
     "input": [],
     "language": "python",
     "metadata": {},
     "outputs": [],
     "prompt_number": 17
    },
    {
     "cell_type": "code",
     "collapsed": false,
     "input": [],
     "language": "python",
     "metadata": {},
     "outputs": [],
     "prompt_number": 17
    },
    {
     "cell_type": "code",
     "collapsed": false,
     "input": [
      "def predictbasedonsimilarclimbers(climberdf, stardf,gradedf, climberid, testclimberdf=[], teststardf=[], testgradedf=[],similarity='pref', parallel=False):\n",
      "    if similarity=='pref':\n",
      "        reldf=stardf\n",
      "        testreldf=teststardf\n",
      "        col='starsscore'\n",
      "    elif similarity=='skill':\n",
      "        reldf=gradedf\n",
      "        testreldf=testgradedf\n",
      "        col='grade'\n",
      "    if len(testclimberdf)==0:\n",
      "        availclimbs=reldf[reldf['climber']==climberid]['climb'].values\n",
      "        availratings=reldf[reldf['climber']==climberid][col].values\n",
      "        from sklearn.cross_validation import train_test_split\n",
      "        availclimbs_train, availclimbs_test, availratings_train, availratings_test = train_test_split(availclimbs, availratings, test_size=0.33, random_state=42)\n",
      "    else:\n",
      "        availclimbs_train=reldf[reldf['climber']==climberid]['climb'].values\n",
      "        availratings_train=reldf[reldf['climber']==climberid][col].values\n",
      "        availclimbs_test=testreldf[testreldf['climber']==climberid]['climb'].values\n",
      "        availratings_test=testreldf[testreldf['climber']==climberid][col].values\n",
      "    print len(availclimbs_test)\n",
      "    if len(availclimbs_test)>20:\n",
      "        availclimbs_test=availclimbs_test[:20]\n",
      "        availratings_test=availratings_test[:20]\n",
      "    otherclimbers=reldf[reldf['climb'].isin(availclimbs_train)]['climber'].values\n",
      "    print len(otherclimbers)\n",
      "    otherratings, sims, climbids, climbersources, climbids, trues, counts, test, targetclimber=[],[],[],[],[],[],[],[],[]\n",
      "    for oid in otherclimbers:\n",
      "        r,climbcounts=computeclimbersimilarity(climberid,oid, reldf, col, trainclimbs=availclimbs_train,similarity=similarity)\n",
      "        for climbn,climb in enumerate(availclimbs_test):\n",
      "            rating=reldf[(reldf['climber']==oid) & (reldf['climb']==climb)][col].values\n",
      "            if len(rating)>0:\n",
      "                otherratings.append(rating[0])\n",
      "                targetclimber.append(climberid)\n",
      "                sims.append(r);climbids.append(climb);climbersources.append(oid);trues.append(availratings_test[climbn]);counts.append(climbcounts);test.append(True)\n",
      "    pdf=pd.DataFrame(data={'targetclimber':targetclimber, 'climbid':climbids, 'otherrating':otherratings, 'similarity':sims,'number':counts, 'source':climbersources, 'true':trues, 'test':test})\n",
      "    return pdf\n",
      "\n",
      "def computeclimbersimilarity(c1,c2, reldf,col, trainclimbs=None, relative=True, similarity='pref'):\n",
      "    r1=reldf.loc[reldf['climber']==c1]\n",
      "    r2=reldf.loc[reldf['climber']==c2]\n",
      "    if similarity=='pref':\n",
      "        common=pd.merge(r1[[col,'relative_star','climb','climber']], r2[['starsscore','relative_star','climb','climber']], on='climb')\n",
      "        common=common[common['climb'].isin(trainclimbs)]       \n",
      "        if relative:\n",
      "            a,b='relative_star_x', 'relative_star_y'\n",
      "        else:\n",
      "            a,b='starsscore_x', 'starsscore_y'\n",
      "    elif similarity=='skill':\n",
      "       common=pd.merge(r1[[col,'rankdiff','climb','climber']], r2[['grade','rankdiff','climb','climber']], on='climb')\n",
      "       a,b='rankdiff_x','rankdiff_y'\n",
      "    if len(common)>1:\n",
      "        r,p=scipy.stats.pearsonr(common[a].values,common[b].values)\n",
      "        num=len(common[a].values)\n",
      "    elif len(common)==1:\n",
      "            if common[a].values==common[b].values:\n",
      "                r,num=1,1\n",
      "            elif np.abs(common[a].values-common[b].values)<2:\n",
      "                r,num=0,1\n",
      "            else:\n",
      "                r,num=-1,1\n",
      "    else:\n",
      "        r=np.nan\n",
      "        num=0\n",
      "    return r,num\n",
      "\n",
      "'''\n",
      "def predictpref(reldf, climb, climber, r, count, col):\n",
      "    rating=reldf[reldf['climber']==climber][col].values[0]\n",
      "    if r>0:\n",
      "        pred=rating\n",
      "    elif r<0:\n",
      "        pred=5-rating\n",
      "    else:\n",
      "        pred=np.nan\n",
      "    return pred, r, count\n",
      "def normalizetoindividual(indstars):\n",
      "    indstars['zscored_star_relative']=(indstars['relative_star'].values-indstars['relative_star'].mean())/indstars['relative_star'].std()\n",
      "    indstars['zscored_star']=(indstars['starsscore'].values-indstars['starsscore'].mean())/indstars['starsscore'].std()\n",
      "    return indstars\n",
      "'''\n"
     ],
     "language": "python",
     "metadata": {},
     "outputs": [],
     "prompt_number": 17
    },
    {
     "cell_type": "code",
     "collapsed": false,
     "input": [
      "def individualpred(hitsdf, climberdf,stardf, gradedf,parallel=False,needsprep=False, mode='train', countthresh=20): \n",
      "    if needsprep:\n",
      "        #sample of individual climbers\n",
      "        counts=hitsdf.groupby('climber').count()[['climb']]\n",
      "        possclimbers=counts[counts['climb']>countthresh].index #let's focus on predicting ratings for climbers who have climbed a large number of climbs\n",
      "        possclimbers=[c for c in possclimbers if c in climberdf.climberid.values]\n",
      "        print len(possclimbers)\n",
      "            pdfs=Parallel(n_jobs=3)(delayed(az.predictbasedonsimilarclimbers)(climberdf, stardf,gradedf, climber, similarity='pref') for climber in possclimbers)\n",
      "        else:\n",
      "            pdfs=[]\n",
      "            for climber in possclimbers:\n",
      "                print \"working on climber %s\" %climber\n",
      "                pdfs.append(predictbasedonsimilarclimbers(climberdf, stardf,gradedf, climber, similarity='pref'))\n",
      "    \n",
      "        allpdf=pd.concat(pdfs)\n",
      "        if mode=='test':\n",
      "            util.pickletheseobjects(os.path.join(rootdir, 'data', 'allpdftest.pkl'),[allpdf])\n",
      "        else:\n",
      "            util.pickletheseobjects(os.path.join(rootdir, 'data', 'allpdf.pkl'),[allpdf])\n",
      "    else:\n",
      "        if mode=='test':\n",
      "            allpdf=util.loadpickledobjects(os.path.join(rootdir, 'data', 'allpdftest.pkl'))[0]\n",
      "        else:\n",
      "            allpdf=util.loadpickledobjects(os.path.join(rootdir, 'data', 'allpdf.pkl'))[0]\n",
      "    return allpdf\n"
     ],
     "language": "python",
     "metadata": {},
     "outputs": [],
     "prompt_number": 17
    },
    {
     "cell_type": "code",
     "collapsed": false,
     "input": [],
     "language": "python",
     "metadata": {},
     "outputs": [],
     "prompt_number": 17
    },
    {
     "cell_type": "code",
     "collapsed": false,
     "input": [],
     "language": "python",
     "metadata": {},
     "outputs": []
    }
   ],
   "metadata": {}
  }
 ]
}