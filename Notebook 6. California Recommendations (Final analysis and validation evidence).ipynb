{
 "metadata": {
  "name": "",
  "signature": "sha256:9e36f93fba21f661c6df66e825d4e9b8e247042d220a7189fe567809c8a66e7c"
 },
 "nbformat": 3,
 "nbformat_minor": 0,
 "worksheets": [
  {
   "cells": [
    {
     "cell_type": "code",
     "collapsed": false,
     "input": [
      "pylab inline"
     ],
     "language": "python",
     "metadata": {},
     "outputs": [
      {
       "output_type": "stream",
       "stream": "stdout",
       "text": [
        "Populating the interactive namespace from numpy and matplotlib\n"
       ]
      }
     ],
     "prompt_number": 1
    },
    {
     "cell_type": "code",
     "collapsed": false,
     "input": [
      "%load_ext autoreload"
     ],
     "language": "python",
     "metadata": {},
     "outputs": [],
     "prompt_number": 2
    },
    {
     "cell_type": "code",
     "collapsed": false,
     "input": [
      "import pandas as pd\n",
      "import numpy as np\n",
      "np.random.RandomState(100)\n",
      "from sqlalchemy import create_engine\n",
      "import os\n",
      "import sys\n",
      "import scipy.stats\n",
      "\n",
      "sys.path.append('mpscraper')\n",
      "from mpscraper.cfgdb import cfg\n",
      "sys.path.append('antools')\n",
      "import antools.randomstuff as rd\n",
      "import antools.reduction as red\n",
      "import antools.utilities as util\n",
      "import antools.visualization as viz\n",
      "import antools.modeling as mo\n",
      "import antools.newusermodeling as nmo\n",
      "\n",
      "\n",
      "import pandas as pd\n",
      "import numpy as np\n",
      "import seaborn as sns\n",
      "sns.set_style('white')\n",
      "import matplotlib.pyplot as plt\n",
      "import scipy.stats\n",
      "\n",
      "from sklearn.metrics.pairwise import pairwise_distances\n",
      "import sklearn.cross_validation\n",
      "from sklearn.ensemble import RandomForestRegressor \n",
      "from sklearn.ensemble import RandomForestClassifier \n",
      "from sklearn.linear_model import LinearRegression\n",
      "from sklearn.svm import SVC\n",
      "from sklearn.linear_model import Ridge\n",
      "from sklearn.metrics import f1_score"
     ],
     "language": "python",
     "metadata": {},
     "outputs": [
      {
       "output_type": "stream",
       "stream": "stdout",
       "text": [
        "4 cores available for parallel processing\n"
       ]
      }
     ],
     "prompt_number": 3
    },
    {
     "cell_type": "code",
     "collapsed": false,
     "input": [
      "import sys, os\n",
      "rootdir=os.getcwd()\n",
      "while 'Projects' in rootdir:\n",
      "    rootdir=os.path.dirname(rootdir)\n",
      "projdir=os.path.join(rootdir, 'Projects','cragcrunch','data')"
     ],
     "language": "python",
     "metadata": {},
     "outputs": [],
     "prompt_number": 4
    },
    {
     "cell_type": "heading",
     "level": 3,
     "metadata": {},
     "source": [
      "Load in preprocessed data"
     ]
    },
    {
     "cell_type": "code",
     "collapsed": false,
     "input": [
      "engine = create_engine('mysql://%s@%s/%s?charset=%s&use_unicode=%s&passwd=%s' %(cfg.user, cfg.host, cfg.dbname, cfg.charset, cfg.use_unicode, cfg.passwd), pool_recycle=3600)\n",
      "cdf = pd.read_sql(\"SELECT * from climb_prepped where region='California'\", engine, index_col='index')\n",
      "adf = pd.read_sql(\"SELECT * from area_prepped where region='California'\", engine, index_col='index')\n",
      "climbs=list(cdf.climbid.unique())\n",
      "print \"loading %s climbs\" %(len(climbs))\n",
      "cldf = pd.read_sql(\"SELECT * from climber_prepped\", engine, index_col='index')\n",
      "hdf= pd.read_sql(\"SELECT * from hits_prepped\", engine, index_col='index')\n",
      "sdf= pd.read_sql(\"SELECT * from stars_prepped\", engine, index_col='index')\n",
      "gdf= pd.read_sql(\"SELECT * from grades_prepped\", engine, index_col='index')\n",
      "codf= pd.read_sql(\"SELECT * from comments_prepped\", engine, index_col='index')\n",
      "tdf= pd.read_sql(\"SELECT * from ticks_prepped\", engine, index_col='index')"
     ],
     "language": "python",
     "metadata": {},
     "outputs": [
      {
       "output_type": "stream",
       "stream": "stdout",
       "text": [
        "loading 8297 climbs\n"
       ]
      }
     ],
     "prompt_number": 5
    },
    {
     "cell_type": "code",
     "collapsed": false,
     "input": [
      "like_mat= pd.read_sql(\"SELECT * from like_matrix\", engine, index_col='index')\n",
      "star_mat= pd.read_sql(\"SELECT * from star_matrix\", engine, index_col='index')"
     ],
     "language": "python",
     "metadata": {},
     "outputs": [],
     "prompt_number": 6
    },
    {
     "cell_type": "code",
     "collapsed": false,
     "input": [
      "minratings=2\n",
      "users=sdf[sdf['climb'].isin(climbs)]['climber'].unique().astype(int)\n",
      "users=[u for u in users if u in cldf.climberid.values]\n",
      "print \"starting with %s users\" %len(users)\n",
      "users=[u for u in users if len(sdf[sdf['climber']==u]['climb'].values)>=minratings]\n",
      "usesdf=sdf[sdf['climber'].isin(users)]\n",
      "usesdf['other_rounded']=[np.round(val) for val in usesdf['other_avg']]\n",
      "usesdf=usesdf[(usesdf['starsscore']>0) & (usesdf['other_rounded']>0)]\n",
      "usesdf['climbid']=usesdf['climb']\n",
      "ndf=cdf[cdf['climbid'].isin(usesdf['climb'].unique())]\n",
      "print \"reducing to %s users who have greater than or equal to %s ratings provided\" %(len(users), minratings)\n",
      "minratings=5"
     ],
     "language": "python",
     "metadata": {},
     "outputs": [
      {
       "output_type": "stream",
       "stream": "stdout",
       "text": [
        "starting with 106 users\n",
        "reducing to 87 users who have greater than or equal to 2 ratings provided"
       ]
      },
      {
       "output_type": "stream",
       "stream": "stdout",
       "text": [
        "\n"
       ]
      }
     ],
     "prompt_number": 84
    },
    {
     "cell_type": "heading",
     "level": 3,
     "metadata": {},
     "source": [
      "Load up text features\n"
     ]
    },
    {
     "cell_type": "code",
     "collapsed": false,
     "input": [
      "featsdict=util.loadpickledobjects(os.path.join(projdir,'learnedfeatures.pkl'))[0]\n",
      "allfeats=featsdict['alltextfeats']\n",
      "reducedfeats=featsdict['reducedtextfeats']\n",
      "nestimators=100"
     ],
     "language": "python",
     "metadata": {},
     "outputs": [],
     "prompt_number": 85
    },
    {
     "cell_type": "heading",
     "level": 3,
     "metadata": {},
     "source": [
      "Quick visualization of the data\n"
     ]
    },
    {
     "cell_type": "code",
     "collapsed": false,
     "input": [
      "#how are stars dstributed()\n",
      "f,ax=plt.subplots(figsize=[4,3])\n",
      "usesdf.groupby('starsscore').count().climb.plot(kind='bar', grid=False,ax=ax)\n",
      "ax.set_ylabel('counts')\n",
      "sns.despine()"
     ],
     "language": "python",
     "metadata": {},
     "outputs": [
      {
       "metadata": {},
       "output_type": "display_data",
       "png": "[encoded data removed]",
       "text": [
        "<matplotlib.figure.Figure at 0x11453ac90>"
       ]
      }
     ],
     "prompt_number": 86
    },
    {
     "cell_type": "code",
     "collapsed": false,
     "input": [
      "#how many climbs per climber?\n",
      "f,ax=plt.subplots(figsize=[4,3])\n",
      "usesdf.groupby('climber').count().climb.hist(bins=20, grid=False,ax=ax)\n",
      "ax.set_ylabel('frequency')\n",
      "sns.despine()"
     ],
     "language": "python",
     "metadata": {},
     "outputs": [
      {
       "metadata": {},
       "output_type": "display_data",
       "png": "[encoded data removed]",
       "text": [
        "<matplotlib.figure.Figure at 0x11056cf10>"
       ]
      }
     ],
     "prompt_number": 87
    },
    {
     "cell_type": "code",
     "collapsed": false,
     "input": [
      "#how many climbers per climb?\n",
      "f,ax=plt.subplots(figsize=[4,3])\n",
      "usesdf.groupby('climb').count().climber.hist(bins=20, grid=False,ax=ax)\n",
      "ax.set_ylabel('frequency')\n",
      "sns.despine()"
     ],
     "language": "python",
     "metadata": {},
     "outputs": [
      {
       "metadata": {},
       "output_type": "display_data",
       "png": "[encoded data removed]",
       "text": [
        "<matplotlib.figure.Figure at 0x11626a710>"
       ]
      }
     ],
     "prompt_number": 88
    },
    {
     "cell_type": "heading",
     "level": 3,
     "metadata": {},
     "source": [
      "Model Comparison"
     ]
    },
    {
     "cell_type": "code",
     "collapsed": false,
     "input": [
      "compare={'name':[],'acc':[],'recall':[],'precision':[],'f1':[]}\n",
      "resultsdict={}"
     ],
     "language": "python",
     "metadata": {},
     "outputs": [],
     "prompt_number": 89
    },
    {
     "cell_type": "heading",
     "level": 3,
     "metadata": {},
     "source": [
      "Random"
     ]
    },
    {
     "cell_type": "code",
     "collapsed": false,
     "input": [
      "name='random'\n",
      "dumbdf=pd.DataFrame(data={'starsscore':usesdf['starsscore'].values,'random':[np.random.choice(range(1,5)) for x in range(len(usesdf))],'user':usesdf['climber'].values,'climbid':usesdf['climb'].values})\n",
      "acc, precision, recall, f1=mo.round2score(dumbdf, 'starsscore', 'random', compare)\n",
      "compare['name'].append(name)\n",
      "propdf=viz.plotresults(dumbdf, 'starsscore', 'random')\n",
      "dumbdf['score']=(dumbdf['starsscore'].values==dumbdf['random'].values).astype(float)\n",
      "resultsdict[name]=[dumbdf,[]]\n"
     ],
     "language": "python",
     "metadata": {},
     "outputs": [
      {
       "output_type": "stream",
       "stream": "stdout",
       "text": [
        "4 way accuracy 0.250\n",
        "4 way f1 0.256\n",
        "4 way precision 0.276\n",
        "4 way recall 0.238\n"
       ]
      },
      {
       "metadata": {},
       "output_type": "display_data",
       "png": "[encoded data removed]",
       "text": [
        "<matplotlib.figure.Figure at 0x1152fc110>"
       ]
      }
     ],
     "prompt_number": 90
    },
    {
     "cell_type": "heading",
     "level": 3,
     "metadata": {},
     "source": [
      "Most Frequent"
     ]
    },
    {
     "cell_type": "code",
     "collapsed": false,
     "input": [
      "name='mostfrequent'\n",
      "mode=scipy.stats.mode(usesdf['starsscore'].values)[0][0]\n",
      "modedf=pd.DataFrame(data={'starsscore':usesdf['starsscore'].values, 'mostfrequent':[mode for x in range(len(usesdf))],'user':usesdf['climber'].values,'climbid':usesdf['climb'].values})\n",
      "acc, precision, recall, f1=mo.round2score(modedf, 'starsscore', 'mostfrequent', compare)\n",
      "compare['name'].append(name)\n",
      "propdf=viz.plotresults(modedf, 'starsscore', 'mostfrequent')\n",
      "modedf['score']=(modedf['starsscore'].values==modedf['mostfrequent'].values).astype(float)\n",
      "resultsdict[name]=[modedf,[]]"
     ],
     "language": "python",
     "metadata": {},
     "outputs": [
      {
       "output_type": "stream",
       "stream": "stdout",
       "text": [
        "4 way accuracy 0.347\n",
        "4 way f1 nan\n",
        "4 way precision nan\n",
        "4 way recall 0.000\n"
       ]
      },
      {
       "metadata": {},
       "output_type": "display_data",
       "png": "[encoded data removed]",
       "text": [
        "<matplotlib.figure.Figure at 0x110568190>"
       ]
      }
     ],
     "prompt_number": 91
    },
    {
     "cell_type": "heading",
     "level": 3,
     "metadata": {},
     "source": [
      "Target most frequent:"
     ]
    },
    {
     "cell_type": "code",
     "collapsed": false,
     "input": [
      "def getavg(starid, climber, sdf=None):\n",
      "    udf=sdf[(sdf['climber']==climber) & (sdf['starid']!=starid)]\n",
      "    return udf['starsscore'].mean()\n",
      "usesdf['user_avg']=usesdf.apply(lambda x:getavg(x['starid'], x['climber'], sdf=usesdf), axis=1)\n",
      "usesdf['rounded_user_avg']=[np.round(x) for x in usesdf.user_avg.values]"
     ],
     "language": "python",
     "metadata": {},
     "outputs": [],
     "prompt_number": 92
    },
    {
     "cell_type": "code",
     "collapsed": false,
     "input": [
      "%autoreload\n",
      "savedf=pd.DataFrame(data={'climbid':usesdf['climb'].values, 'user':usesdf['climber'].values})\n",
      "savedf['score']=(usesdf['user_avg'].values==usesdf['starsscore'].values).astype(float)\n",
      "name='targetmode'\n",
      "acc, precision, recall, f1=mo.round2score(usesdf, 'starsscore', 'rounded_user_avg', compare)\n",
      "compare['name'].append(name)\n",
      "propdf=viz.plotresults(usesdf, 'starsscore', 'rounded_user_avg')\n",
      "resultsdict[name]=[savedf,[]]\n"
     ],
     "language": "python",
     "metadata": {},
     "outputs": [
      {
       "output_type": "stream",
       "stream": "stdout",
       "text": [
        "4 way accuracy 0.401\n",
        "4 way f1 0.318\n",
        "4 way precision 0.743\n",
        "4 way recall 0.202\n"
       ]
      },
      {
       "metadata": {},
       "output_type": "display_data",
       "png": "[encoded data removed]",
       "text": [
        "<matplotlib.figure.Figure at 0x113b320d0>"
       ]
      }
     ],
     "prompt_number": 93
    },
    {
     "cell_type": "heading",
     "level": 3,
     "metadata": {},
     "source": [
      "Popularity (avg of remaining group)"
     ]
    },
    {
     "cell_type": "code",
     "collapsed": false,
     "input": [
      "savedf=pd.DataFrame(data={'climbid':usesdf['climb'].values, 'user':usesdf['climber'].values})\n",
      "savedf['score']=(usesdf['other_rounded'].values==usesdf['starsscore'].values).astype(float)"
     ],
     "language": "python",
     "metadata": {},
     "outputs": [],
     "prompt_number": 94
    },
    {
     "cell_type": "code",
     "collapsed": false,
     "input": [
      "%autoreload\n",
      "name='other_avg'\n",
      "acc, precision, recall, f1=mo.round2score(usesdf, 'starsscore', 'other_rounded', compare)\n",
      "propdf=viz.plotresults(usesdf, 'starsscore', 'other_rounded')\n",
      "compare['name'].append(name)\n",
      "resultsdict[name]=[savedf,[]]"
     ],
     "language": "python",
     "metadata": {},
     "outputs": [
      {
       "output_type": "stream",
       "stream": "stdout",
       "text": [
        "4 way accuracy 0.560\n",
        "4 way f1 0.671\n",
        "4 way precision 0.742\n",
        "4 way recall 0.613\n"
       ]
      },
      {
       "metadata": {},
       "output_type": "display_data",
       "png": "[encoded data removed]",
       "text": [
        "<matplotlib.figure.Figure at 0x114721090>"
       ]
      }
     ],
     "prompt_number": 95
    },
    {
     "cell_type": "heading",
     "level": 3,
     "metadata": {},
     "source": [
      "VAlLIDATION"
     ]
    },
    {
     "cell_type": "code",
     "collapsed": false,
     "input": [
      "clf=mo.classifier('rfc')"
     ],
     "language": "python",
     "metadata": {},
     "outputs": [],
     "prompt_number": 96
    },
    {
     "cell_type": "code",
     "collapsed": false,
     "input": [
      "%autoreload\n",
      "name='user_sim'\n",
      "cfeatures=list(like_mat.columns.values)\n",
      "cfeatures.remove('climbid')\n",
      "sfeatures=[]\n",
      "print \"classifying using %s features\" %(len(cfeatures)+len(sfeatures))\n",
      "summarydf, resultsdf, emptyfeats=mo.classify(clf,users, sfeatures, cfeatures, like_mat, usesdf, minratings=minratings, dropself=True)\n",
      "resultsdict[name]=[summarydf, resultsdf]\n"
     ],
     "language": "python",
     "metadata": {},
     "outputs": [
      {
       "output_type": "stream",
       "stream": "stdout",
       "text": [
        "classifying using 105 features\n"
       ]
      }
     ],
     "prompt_number": 97
    },
    {
     "cell_type": "code",
     "collapsed": false,
     "input": [
      "%autoreload\n",
      "name ='user_sim'\n",
      "print \"classifying with %s\" %name\n",
      "summarydf, resultsdf=resultsdict[name]\n",
      "viz.plotresults(resultsdf, 'true_rating', 'feat_pred')\n",
      "acc, precision, recall, f1=mo.round2score(resultsdf, 'true_rating', 'feat_pred', compare)\n",
      "compare['name'].append(name)"
     ],
     "language": "python",
     "metadata": {},
     "outputs": [
      {
       "output_type": "stream",
       "stream": "stdout",
       "text": [
        "classifying with user_sim\n"
       ]
      },
      {
       "metadata": {},
       "output_type": "display_data",
       "png": "[encoded data removed]",
       "text": [
        "<matplotlib.figure.Figure at 0x11057ba10>"
       ]
      },
      {
       "output_type": "stream",
       "stream": "stdout",
       "text": [
        "4 way accuracy 0.673\n",
        "4 way f1 0.502\n",
        "4 way precision 0.608\n",
        "4 way recall 0.428\n"
       ]
      }
     ],
     "prompt_number": 98
    },
    {
     "cell_type": "heading",
     "level": 3,
     "metadata": {},
     "source": [
      "Combined-All features"
     ]
    },
    {
     "cell_type": "code",
     "collapsed": false,
     "input": [
      "%autoreload\n",
      "name='combined'\n",
      "clf=mo.classifier('rfc')\n",
      "clf.n_estimators=nestimators\n",
      "numericfeats=['pitch','pageviews','numerizedgrade']\n",
      "cfeatures=list(like_mat.columns)+allfeats\n",
      "cfeatures.remove('climbid')\n",
      "sfeatures=['other_avg']\n",
      "print \"classifying using %s features\" %(len(cfeatures)+len(sfeatures))\n",
      "full_ndf=ndf[['climbid']+allfeats]\n",
      "full_ndf=pd.merge(full_ndf, like_mat, on='climbid', how='inner')\n",
      "full_ndf.index=full_ndf['climbid'].values\n",
      "full_ndf=full_ndf[full_ndf['climbid'].isin(sdf.climb.unique())]\n",
      "full_ndf=full_ndf.dropna()\n",
      "summarydf, resultsdf, informativefeats=mo.classify(clf,users, sfeatures, cfeatures, full_ndf, usesdf, minratings=10, dropself=True, getfeats=True)\n",
      "resultsdict[name]=[summarydf, resultsdf]"
     ],
     "language": "python",
     "metadata": {},
     "outputs": [
      {
       "output_type": "stream",
       "stream": "stdout",
       "text": [
        "classifying using 263 features\n"
       ]
      }
     ],
     "prompt_number": 99
    },
    {
     "cell_type": "code",
     "collapsed": false,
     "input": [
      "%autoreload\n",
      "name='combined'\n",
      "print \"classifying with %s\" %name\n",
      "summarydf, resultsdf=resultsdict[name]\n",
      "viz.plotresults(resultsdf, 'true_rating', 'feat_pred')\n",
      "acc, precision, recall, f1=mo.round2score(resultsdf, 'true_rating', 'feat_pred', compare)\n",
      "compare['name'].append(name)\n"
     ],
     "language": "python",
     "metadata": {},
     "outputs": [
      {
       "output_type": "stream",
       "stream": "stdout",
       "text": [
        "classifying with combined\n"
       ]
      },
      {
       "metadata": {},
       "output_type": "display_data",
       "png": "[encoded data removed]",
       "text": [
        "<matplotlib.figure.Figure at 0x1151a3650>"
       ]
      },
      {
       "output_type": "stream",
       "stream": "stdout",
       "text": [
        "4 way accuracy 0.686\n",
        "4 way f1 0.599\n",
        "4 way precision 0.645\n",
        "4 way recall 0.559\n"
       ]
      }
     ],
     "prompt_number": 100
    },
    {
     "cell_type": "heading",
     "level": 3,
     "metadata": {},
     "source": [
      "Combined but reduced features"
     ]
    },
    {
     "cell_type": "code",
     "collapsed": false,
     "input": [
      "%autoreload\n",
      "name='combined_reduced'\n",
      "clf=mo.classifier('rfc')\n",
      "clf.n_estimators=nestimators\n",
      "numericfeats=['pitch','pageviews','numerizedgrade']\n",
      "cfeatures=list(like_mat.columns)+reducedfeats\n",
      "cfeatures.remove('climbid')\n",
      "sfeatures=['other_avg']\n",
      "print \"classifying using %s features\" %(len(cfeatures)+len(sfeatures))\n",
      "full_ndf=ndf[['climbid']+reducedfeats]\n",
      "full_ndf=pd.merge(full_ndf, like_mat, on='climbid', how='inner')\n",
      "full_ndf.index=full_ndf['climbid'].values\n",
      "full_ndf=full_ndf[full_ndf['climbid'].isin(sdf.climb.unique())]\n",
      "full_ndf=full_ndf.dropna()\n",
      "summarydf, resultsdf, informativefeats=mo.classify(clf,users, sfeatures, cfeatures, full_ndf, usesdf, minratings=10, dropself=True, datadir=projdir, getfeats=True)\n",
      "resultsdict[name]=[summarydf, resultsdf]"
     ],
     "language": "python",
     "metadata": {},
     "outputs": [
      {
       "output_type": "stream",
       "stream": "stdout",
       "text": [
        "classifying using 145 features\n"
       ]
      }
     ],
     "prompt_number": 101
    },
    {
     "cell_type": "code",
     "collapsed": false,
     "input": [
      "%autoreload\n",
      "name ='combined_reduced'\n",
      "print \"classifying with %s\" %name\n",
      "summarydf, resultsdf=resultsdict[name]\n",
      "viz.plotresults(resultsdf, 'true_rating', 'feat_pred')\n",
      "acc, precision, recall, f1=mo.round2score(resultsdf, 'true_rating', 'feat_pred', compare)\n",
      "compare['name'].append(name)"
     ],
     "language": "python",
     "metadata": {},
     "outputs": [
      {
       "output_type": "stream",
       "stream": "stdout",
       "text": [
        "classifying with combined_reduced\n"
       ]
      },
      {
       "metadata": {},
       "output_type": "display_data",
       "png": "[encoded data removed]",
       "text": [
        "<matplotlib.figure.Figure at 0x115191650>"
       ]
      },
      {
       "output_type": "stream",
       "stream": "stdout",
       "text": [
        "4 way accuracy 0.702\n",
        "4 way f1 0.614\n",
        "4 way precision 0.650\n",
        "4 way recall 0.582\n"
       ]
      }
     ],
     "prompt_number": 102
    },
    {
     "cell_type": "heading",
     "level": 3,
     "metadata": {},
     "source": [
      "Reduced Space (features available for new users)"
     ]
    },
    {
     "cell_type": "code",
     "collapsed": false,
     "input": [
      "%autoreload\n",
      "name='reduced'\n",
      "clf=mo.classifier('rfc')\n",
      "clf.n_estimators=nestimators\n",
      "cfeatures=reducedfeats\n",
      "sfeatures=['other_avg']\n",
      "print \"classifying using %s features\" %(len(cfeatures)+len(sfeatures))\n",
      "red_ndf=ndf[['climbid']+reducedfeats]\n",
      "red_ndf=pd.merge(red_ndf, like_mat, on='climbid', how='inner')\n",
      "red_ndf.index=red_ndf['climbid'].values\n",
      "red_ndf=red_ndf[red_ndf['climbid'].isin(sdf.climb.unique())]\n",
      "red_ndf=red_ndf.dropna()\n",
      "summarydf, resultsdf, informativefeats=mo.classify(clf,users, sfeatures, cfeatures, red_ndf, usesdf, minratings=10, dropself=True)\n",
      "resultsdict[name]=[summarydf, resultsdf]"
     ],
     "language": "python",
     "metadata": {},
     "outputs": [
      {
       "output_type": "stream",
       "stream": "stdout",
       "text": [
        "classifying using 40 features\n"
       ]
      }
     ],
     "prompt_number": 103
    },
    {
     "cell_type": "code",
     "collapsed": false,
     "input": [
      "name='reduced'\n",
      "print \"classifying with %s\" %name\n",
      "summarydf, resultsdf=resultsdict[name]\n",
      "viz.plotresults(resultsdf, 'true_rating', 'feat_pred')\n",
      "acc, precision, recall, f1=mo.round2score(resultsdf, 'true_rating', 'feat_pred', compare)\n",
      "compare['name'].append(name)"
     ],
     "language": "python",
     "metadata": {},
     "outputs": [
      {
       "output_type": "stream",
       "stream": "stdout",
       "text": [
        "classifying with reduced\n"
       ]
      },
      {
       "metadata": {},
       "output_type": "display_data",
       "png": "[encoded data removed]",
       "text": [
        "<matplotlib.figure.Figure at 0x10f214a90>"
       ]
      },
      {
       "output_type": "stream",
       "stream": "stdout",
       "text": [
        "4 way accuracy 0.562\n",
        "4 way f1 0.632\n",
        "4 way precision 0.658\n",
        "4 way recall 0.607\n"
       ]
      }
     ],
     "prompt_number": 104
    },
    {
     "cell_type": "heading",
     "level": 3,
     "metadata": {},
     "source": [
      "Directly Compare Models:"
     ]
    },
    {
     "cell_type": "code",
     "collapsed": false,
     "input": [
      "def plotcomparisons(comparisonlabels, comparisons, resultsdict, colors):\n",
      "    '''compare performance of different models'''\n",
      "    means,sems,labels=[],[],[]\n",
      "    for xn,x in enumerate(comparisons):\n",
      "        vals=resultsdict[x][0].groupby('user').mean().score.values\n",
      "        #print \"%s:  M(std)=%.3f(%.2f), t(%s)=%.3f, p=%.3f\" %(x, np.mean(vals), np.std(vals), len(vals)-1, scipy.stats.ttest_1samp(vals, 0)[0], scipy.stats.ttest_1samp(vals, 0)[1])\n",
      "        means.append(np.mean(vals))\n",
      "        sems.append(np.std(vals)/np.sqrt(len(vals)))\n",
      "        labels.append(comparisonlabels[xn])\n",
      "    f,ax=plt.subplots(figsize=[8,12])\n",
      "    ax.bar(np.arange(len(means)), means, yerr=sems, width=.5, color=colors,error_kw={'ecolor': 'black'})\n",
      "    ax.set_xticks(np.arange(len(means))+.25)\n",
      "    ax.set_xlim(-.25,len(means))\n",
      "    x=ax.set_xticklabels(labels, rotation=90, fontsize=18)\n",
      "    sns.despine()\n",
      "    plt.show()"
     ],
     "language": "python",
     "metadata": {},
     "outputs": [],
     "prompt_number": 168
    },
    {
     "cell_type": "code",
     "collapsed": false,
     "input": [
      "%autoreload\n",
      "comparedf=pd.DataFrame(data=compare)\n",
      "#comparisons=['random','mostfrequent','other_avg','user_sim','reduced','combined','combined_reduced']\n",
      "#comparisonlabels=['random','mode','popularity','collaborative \\nfiltering','text \\nattributes','all features', 'selected \\nfeaturess']\n",
      "comparisons=['random','mostfrequent','user_sim','reduced','combined','combined_reduced']\n",
      "comparisonlabels=['random','mode','collaborative \\nfiltering','text \\nattributes','all features', 'selected \\nfeaturess']\n",
      "colors=['#447766','#447766','#446677','#446677','#446677','#4466AA']\n",
      "plotcomparisons(comparisonlabels, comparisons, resultsdict, colors=colors)"
     ],
     "language": "python",
     "metadata": {},
     "outputs": [
      {
       "metadata": {},
       "output_type": "display_data",
       "png": "[encoded data removed]",
       "text": [
        "<matplotlib.figure.Figure at 0x11056d190>"
       ]
      }
     ],
     "prompt_number": 169
    },
    {
     "cell_type": "code",
     "collapsed": false,
     "input": [
      "#statistically compare\n",
      "finalmodelvals=resultsdict['combined_reduced'][0].groupby('user').mean().score.values\n",
      "for x in ['other_avg', 'user_sim','reduced','combined']:\n",
      "    compvals=resultsdict[x][0].groupby('user').mean().score.values\n",
      "    t,p=scipy.stats.ttest_ind(finalmodelvals, compvals)\n",
      "    print \"%s: t(%s)=%.3f, p=%.3f\" %(x, len(finalmodelvals)+len(compvals)-2, t,p/2)"
     ],
     "language": "python",
     "metadata": {},
     "outputs": [
      {
       "output_type": "stream",
       "stream": "stdout",
       "text": [
        "other_avg: t(120)=1.781, p=0.039\n",
        "user_sim: t(85)=1.543, p=0.063\n",
        "reduced: t(68)=2.298, p=0.012\n",
        "combined: t(68)=0.705, p=0.242\n"
       ]
      }
     ],
     "prompt_number": 178
    },
    {
     "cell_type": "code",
     "collapsed": false,
     "input": [
      "x=comparedf.groupby('name').mean().acc[comparisonlabels].plot(kind='bar')"
     ],
     "language": "python",
     "metadata": {},
     "outputs": [
      {
       "metadata": {},
       "output_type": "display_data",
       "png": "[encoded data removed]",
       "text": [
        "<matplotlib.figure.Figure at 0x113c4bb50>"
       ]
      }
     ],
     "prompt_number": 106
    },
    {
     "cell_type": "code",
     "collapsed": false,
     "input": [
      "x=comparedf.groupby('name').mean().precision[comparisonlabels].plot(kind='bar')"
     ],
     "language": "python",
     "metadata": {},
     "outputs": [
      {
       "metadata": {},
       "output_type": "display_data",
       "png": "[encoded data removed]",
       "text": [
        "<matplotlib.figure.Figure at 0x10f1b5050>"
       ]
      }
     ],
     "prompt_number": 107
    },
    {
     "cell_type": "heading",
     "level": 3,
     "metadata": {},
     "source": [
      "ROC curves"
     ]
    },
    {
     "cell_type": "code",
     "collapsed": false,
     "input": [],
     "language": "python",
     "metadata": {},
     "outputs": [],
     "prompt_number": 107
    },
    {
     "cell_type": "heading",
     "level": 3,
     "metadata": {},
     "source": [
      "Performance as a function of user data"
     ]
    },
    {
     "cell_type": "markdown",
     "metadata": {},
     "source": [
      "- no data (avg stars)\n",
      "- user entered data (reduced space)\n",
      "- 5 ratings-100 ratings (performance as a function of N)"
     ]
    },
    {
     "cell_type": "code",
     "collapsed": false,
     "input": [
      "df=resultsdict['combined_reduced'][0].groupby('user').mean()[['score']].join(usesdf.groupby('climber').count()['climb'], how='left')\n",
      "df=df.rename(columns={'climb':'# climbs rated', 'score':'accuracy'})"
     ],
     "language": "python",
     "metadata": {},
     "outputs": [],
     "prompt_number": 108
    },
    {
     "cell_type": "code",
     "collapsed": false,
     "input": [
      "%autoreload\n",
      "viz.accbyN(resultsdict, usesdf, 'combined_reduced')"
     ],
     "language": "python",
     "metadata": {},
     "outputs": [
      {
       "metadata": {},
       "output_type": "display_data",
       "png": "[encoded data removed]",
       "text": [
        "<matplotlib.figure.Figure at 0x113b3c910>"
       ]
      }
     ],
     "prompt_number": 109
    },
    {
     "cell_type": "heading",
     "level": 3,
     "metadata": {},
     "source": [
      "Use final model to create feature space for training models on new users"
     ]
    },
    {
     "cell_type": "code",
     "collapsed": false,
     "input": [
      "newuserfeats=['avgstars']+reducedfeats\n",
      "%autoreload\n",
      "featdf=nmo.makefeatdf(cdf, newuserfeats)\n",
      "samplesdf=nmo.makesampleclimbs(newuserfeats, featdf)\n",
      "engine = create_engine('mysql://%s@%s/%s?charset=%s&use_unicode=%s&passwd=%s' %(cfg.user, cfg.host, cfg.dbname, cfg.charset, cfg.use_unicode, cfg.passwd), pool_recycle=3600)\n",
      "samplesdf.to_sql('fakesamples', engine, if_exists='replace', chunksize=1000)\n",
      "featdf.to_sql('featranges', engine, if_exists='replace', chunksize=1000)"
     ],
     "language": "python",
     "metadata": {},
     "outputs": [],
     "prompt_number": 110
    },
    {
     "cell_type": "code",
     "collapsed": false,
     "input": [
      "### for setting this up\n",
      "#make up a user whos preferences I've acquired\n",
      "userdf=pd.DataFrame(data={'feature':newuserfeats})\n",
      "userdf['user']=[5 for el in range(len(userdf))]\n",
      "userdf['pref']=[np.random.choice([1,2,3,4]) for el in range(len(userdf))]\n",
      "userdf.loc[userdf['feature']=='avgstars', 'pred']=4"
     ],
     "language": "python",
     "metadata": {},
     "outputs": [],
     "prompt_number": 111
    },
    {
     "cell_type": "heading",
     "level": 3,
     "metadata": {},
     "source": [
      "Create final climb x feature vector"
     ]
    },
    {
     "cell_type": "code",
     "collapsed": false,
     "input": [
      "#for final set of features, get all climbs that can be scored on those features (note, we can include all data here, so averages including the target are fine....)"
     ],
     "language": "python",
     "metadata": {},
     "outputs": [],
     "prompt_number": 112
    },
    {
     "cell_type": "code",
     "collapsed": false,
     "input": [
      "allfeats=['avgstars']+reducedfeats+list(like_mat.columns)\n",
      "redfeats=['avgstars']+reducedfeats\n",
      "final_ndf=full_ndf.join(cdf[['avgstars']], how='left')"
     ],
     "language": "python",
     "metadata": {},
     "outputs": [],
     "prompt_number": 113
    },
    {
     "cell_type": "code",
     "collapsed": false,
     "input": [
      "final_X=final_ndf[['climbid']+allfeats]\n",
      "final_X_red=final_ndf[['climbid']+redfeats]\n",
      "final_X=final_X.rename(columns={'avgstars':'other_avg'})\n",
      "final_X_red=final_X_red.rename(columns={'avgstars':'other_avg'})"
     ],
     "language": "python",
     "metadata": {},
     "outputs": [],
     "prompt_number": 114
    },
    {
     "cell_type": "code",
     "collapsed": false,
     "input": [
      "chunksize=1000\n",
      "engine = create_engine('mysql://%s@%s/%s?charset=%s&use_unicode=%s&passwd=%s' %(cfg.user, cfg.host, cfg.dbname, cfg.charset, cfg.use_unicode, cfg.passwd), pool_recycle=3600)\n",
      "final_X.to_sql('final_X_matrix', engine, if_exists='replace', chunksize=chunksize)"
     ],
     "language": "python",
     "metadata": {},
     "outputs": [],
     "prompt_number": 115
    },
    {
     "cell_type": "code",
     "collapsed": false,
     "input": [
      "chunksize=1000\n",
      "engine = create_engine('mysql://%s@%s/%s?charset=%s&use_unicode=%s&passwd=%s' %(cfg.user, cfg.host, cfg.dbname, cfg.charset, cfg.use_unicode, cfg.passwd), pool_recycle=3600)\n",
      "final_X_red.to_sql('final_X_matrix_red', engine, if_exists='replace', chunksize=chunksize)"
     ],
     "language": "python",
     "metadata": {},
     "outputs": [],
     "prompt_number": 116
    },
    {
     "cell_type": "heading",
     "level": 3,
     "metadata": {},
     "source": [
      "Confirm optimal n_estimators parameter"
     ]
    },
    {
     "cell_type": "code",
     "collapsed": false,
     "input": [
      "poss_n=range(1,100,5)\n",
      "results=[]\n",
      "for n in poss_n:\n",
      "    clf=mo.classifier('rfc')\n",
      "    clf.n_estimators=n\n",
      "    name='combined_rfc_n_est_%s' %(n)\n",
      "    summarydf, resultsdf, emptyfeats=mo.classify(clf,users, sfeatures, cfeatures, full_ndf, usesdf, minratings=minratings, dropself=True)\n",
      "    resultsdict[name]=[summarydf, resultsdf]\n",
      "    results.append(summarydf['score'].mean())"
     ],
     "language": "python",
     "metadata": {},
     "outputs": [],
     "prompt_number": 36
    },
    {
     "cell_type": "code",
     "collapsed": false,
     "input": [
      "f,ax=plt.subplots()\n",
      "ax.plot(range(1,100,5),results)\n",
      "ax.set_xlabel('# of estimators')\n",
      "ax.set_ylabel('accuracy')"
     ],
     "language": "python",
     "metadata": {},
     "outputs": [
      {
       "metadata": {},
       "output_type": "pyout",
       "prompt_number": 64,
       "text": [
        "<matplotlib.text.Text at 0x11521f150>"
       ]
      },
      {
       "metadata": {},
       "output_type": "display_data",
       "png": "[encoded data removed]",
       "text": [
        "<matplotlib.figure.Figure at 0x1162856d0>"
       ]
      }
     ],
     "prompt_number": 64
    },
    {
     "cell_type": "heading",
     "level": 3,
     "metadata": {},
     "source": [
      "Add reduced feature space to pkl files"
     ]
    },
    {
     "cell_type": "code",
     "collapsed": false,
     "input": [
      "#allfeats\n",
      "modeldir=os.path.join(projdir,'models')\n",
      "modelfiles=os.listdir(modeldir)\n",
      "for f in modelfiles:\n",
      "    if f[:5]=='user_':\n",
      "        filename=os.path.join(modeldir, f)\n",
      "        traineddict=util.loadpickledobjects(filename)[0]\n",
      "        traineddict['finalfeats']=allfeats\n",
      "        util.pickletheseobjects(filename, [traineddict])"
     ],
     "language": "python",
     "metadata": {},
     "outputs": [],
     "prompt_number": 186
    },
    {
     "cell_type": "code",
     "collapsed": false,
     "input": [
      "{'ledge','good belay ledges','undercling':'underclings','steep':'steep climbs','pump':'pumpy climbs','clipping':'exciting clipping','arete':'aretes','crack':'cracks','gear':'good gear placements','slab':'slabs','crimp':'crimps','traverse':'traverses','techincal':'technical climbs','crux':'tough cruxes','vertical':'vertical climbs','boulder':'bouldery moves','corner':'corners'"
     ],
     "language": "python",
     "metadata": {},
     "outputs": [
      {
       "metadata": {},
       "output_type": "pyout",
       "prompt_number": 189,
       "text": [
        "['avgstars',\n",
        " 'ledge_description',\n",
        " 'ledge_commentsmerged',\n",
        " 'undercling_description',\n",
        " 'undercling_commentsmerged',\n",
        " 'pageviews',\n",
        " 'slab_description',\n",
        " 'slab_commentsmerged',\n",
        " 'pitch',\n",
        " 'crimp_description',\n",
        " 'crimp_commentsmerged',\n",
        " 'crux_description',\n",
        " 'crux_commentsmerged',\n",
        " 'traverse_description',\n",
        " 'traverse_commentsmerged',\n",
        " 'technical_description',\n",
        " 'technical_commentsmerged',\n",
        " 'hard_description',\n",
        " 'hard_commentsmerged',\n",
        " 'vertical_description',\n",
        " 'vertical_commentsmerged',\n",
        " 'boulder_description',\n",
        " 'boulder_commentsmerged',\n",
        " 'corner_description',\n",
        " 'corner_commentsmerged',\n",
        " 'clipping_description',\n",
        " 'clipping_commentsmerged',\n",
        " 'easy_description',\n",
        " 'easy_commentsmerged',\n",
        " 'arete_description',\n",
        " 'arete_commentsmerged',\n",
        " 'crack_description',\n",
        " 'crack_commentsmerged',\n",
        " 'gear_description',\n",
        " 'gear_commentsmerged',\n",
        " 'numerizedgrade',\n",
        " 'steep_description',\n",
        " 'steep_commentsmerged',\n",
        " 'pump_description',\n",
        " 'pump_commentsmerged']"
       ]
      }
     ],
     "prompt_number": 189
    },
    {
     "cell_type": "code",
     "collapsed": false,
     "input": [],
     "language": "python",
     "metadata": {},
     "outputs": []
    }
   ],
   "metadata": {}
  }
 ]
}