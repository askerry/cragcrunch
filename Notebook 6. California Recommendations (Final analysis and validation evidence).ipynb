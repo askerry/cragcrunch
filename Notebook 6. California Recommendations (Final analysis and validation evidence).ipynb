{
 "metadata": {
  "name": "",
  "signature": "sha256:17b7925d8141d0f020bd6dc3e82f643810ab508a7bc736dab7b5c4989e518464"
 },
 "nbformat": 3,
 "nbformat_minor": 0,
 "worksheets": [
  {
   "cells": [
    {
     "cell_type": "code",
     "collapsed": false,
     "input": [
      "pylab inline"
     ],
     "language": "python",
     "metadata": {},
     "outputs": [
      {
       "output_type": "stream",
       "stream": "stdout",
       "text": [
        "Populating the interactive namespace from numpy and matplotlib\n"
       ]
      }
     ],
     "prompt_number": 1
    },
    {
     "cell_type": "code",
     "collapsed": false,
     "input": [
      "%load_ext autoreload"
     ],
     "language": "python",
     "metadata": {},
     "outputs": [],
     "prompt_number": 2
    },
    {
     "cell_type": "code",
     "collapsed": false,
     "input": [
      "import pandas as pd\n",
      "import numpy as np\n",
      "np.random.RandomState(100)\n",
      "from sqlalchemy import create_engine\n",
      "import os\n",
      "import sys\n",
      "import scipy.stats\n",
      "\n",
      "sys.path.append('mpscraper')\n",
      "from mpscraper.cfgdb import cfg\n",
      "sys.path.append('antools')\n",
      "import antools.randomstuff as rd\n",
      "import antools.reduction as red\n",
      "import antools.utilities as util\n",
      "import antools.visualization as viz\n",
      "import antools.modeling as mo\n",
      "import antools.newusermodeling as nmo\n",
      "\n",
      "\n",
      "import pandas as pd\n",
      "import numpy as np\n",
      "import seaborn as sns\n",
      "sns.set_style('white')\n",
      "import matplotlib.pyplot as plt\n",
      "import scipy.stats\n",
      "\n",
      "from sklearn.metrics.pairwise import pairwise_distances\n",
      "import sklearn.cross_validation\n",
      "from sklearn.ensemble import RandomForestRegressor \n",
      "from sklearn.ensemble import RandomForestClassifier \n",
      "from sklearn.linear_model import LinearRegression\n",
      "from sklearn.svm import SVC\n",
      "from sklearn.linear_model import Ridge\n",
      "from sklearn.metrics import f1_score"
     ],
     "language": "python",
     "metadata": {},
     "outputs": [
      {
       "output_type": "stream",
       "stream": "stdout",
       "text": [
        "4 cores available for parallel processing\n"
       ]
      }
     ],
     "prompt_number": 3
    },
    {
     "cell_type": "code",
     "collapsed": false,
     "input": [
      "import sys, os\n",
      "rootdir=os.getcwd()\n",
      "while 'Projects' in rootdir:\n",
      "    rootdir=os.path.dirname(rootdir)\n",
      "projdir=os.path.join(rootdir, 'Projects','cragcrunch','data')"
     ],
     "language": "python",
     "metadata": {},
     "outputs": [],
     "prompt_number": 4
    },
    {
     "cell_type": "heading",
     "level": 3,
     "metadata": {},
     "source": [
      "Load in preprocessed data"
     ]
    },
    {
     "cell_type": "code",
     "collapsed": false,
     "input": [
      "engine = create_engine('mysql://%s@%s/%s?charset=%s&use_unicode=%s&passwd=%s' %(cfg.user, cfg.host, cfg.dbname, cfg.charset, cfg.use_unicode, cfg.passwd), pool_recycle=3600)\n",
      "cdf = pd.read_sql(\"SELECT * from climb_prepped where region='California'\", engine, index_col='index')\n",
      "adf = pd.read_sql(\"SELECT * from area_prepped where region='California'\", engine, index_col='index')\n",
      "climbs=list(cdf.climbid.unique())\n",
      "print \"loading %s climbs\" %(len(climbs))\n",
      "cldf = pd.read_sql(\"SELECT * from climber_prepped\", engine, index_col='index')\n",
      "hdf= pd.read_sql(\"SELECT * from hits_prepped\", engine, index_col='index')\n",
      "sdf= pd.read_sql(\"SELECT * from stars_prepped\", engine, index_col='index')\n",
      "gdf= pd.read_sql(\"SELECT * from grades_prepped\", engine, index_col='index')\n",
      "codf= pd.read_sql(\"SELECT * from comments_prepped\", engine, index_col='index')\n",
      "tdf= pd.read_sql(\"SELECT * from ticks_prepped\", engine, index_col='index')"
     ],
     "language": "python",
     "metadata": {},
     "outputs": [
      {
       "output_type": "stream",
       "stream": "stdout",
       "text": [
        "loading 8297 climbs\n"
       ]
      }
     ],
     "prompt_number": 5
    },
    {
     "cell_type": "code",
     "collapsed": false,
     "input": [
      "like_mat= pd.read_sql(\"SELECT * from like_matrix\", engine, index_col='index')\n",
      "star_mat= pd.read_sql(\"SELECT * from star_matrix\", engine, index_col='index')"
     ],
     "language": "python",
     "metadata": {},
     "outputs": [],
     "prompt_number": 6
    },
    {
     "cell_type": "code",
     "collapsed": false,
     "input": [
      "minratings=5\n",
      "users=sdf[sdf['climb'].isin(climbs)]['climber'].unique().astype(int)\n",
      "users=[u for u in users if u in cldf.climberid.values]\n",
      "print \"starting with %s users\" %len(users)\n",
      "users=[u for u in users if len(sdf[sdf['climber']==u]['climb'].values)>=minratings]\n",
      "usesdf=sdf[sdf['climber'].isin(users)]\n",
      "usesdf['other_rounded']=[np.round(val) for val in usesdf['other_avg']]\n",
      "usesdf=usesdf[(usesdf['starsscore']>0) & (usesdf['other_rounded']>0)]\n",
      "usesdf['climbid']=usesdf['climb']\n",
      "ndf=cdf[cdf['climbid'].isin(usesdf['climb'].unique())]\n",
      "print \"reducing to %s users who have greater than or equal to %s ratings provided\" %(len(users), minratings)"
     ],
     "language": "python",
     "metadata": {},
     "outputs": [
      {
       "output_type": "stream",
       "stream": "stdout",
       "text": [
        "starting with 106 users\n",
        "reducing to 67 users who have greater than or equal to 5 ratings provided"
       ]
      },
      {
       "output_type": "stream",
       "stream": "stdout",
       "text": [
        "\n"
       ]
      },
      {
       "output_type": "stream",
       "stream": "stderr",
       "text": [
        "-c:7: SettingWithCopyWarning: \n",
        "A value is trying to be set on a copy of a slice from a DataFrame.\n",
        "Try using .loc[row_indexer,col_indexer] = value instead\n",
        "\n",
        "See the the caveats in the documentation: http://pandas.pydata.org/pandas-docs/stable/indexing.html#indexing-view-versus-copy\n"
       ]
      }
     ],
     "prompt_number": 7
    },
    {
     "cell_type": "heading",
     "level": 3,
     "metadata": {},
     "source": [
      "Load up text features\n"
     ]
    },
    {
     "cell_type": "code",
     "collapsed": false,
     "input": [
      "featsdict=util.loadpickledobjects(os.path.join(projdir,'learnedfeatures.pkl'))[0]\n",
      "allfeats=featsdict['alltextfeats']\n",
      "reducedfeats=featsdict['reducedtextfeats']\n",
      "nestimators=100"
     ],
     "language": "python",
     "metadata": {},
     "outputs": [],
     "prompt_number": 8
    },
    {
     "cell_type": "heading",
     "level": 3,
     "metadata": {},
     "source": [
      "Quick visualization of the data\n"
     ]
    },
    {
     "cell_type": "code",
     "collapsed": false,
     "input": [
      "#how are stars dstributed()\n",
      "f,ax=plt.subplots(figsize=[4,3])\n",
      "usesdf.groupby('starsscore').count().climb.plot(kind='bar', grid=False,ax=ax)\n",
      "ax.set_ylabel('counts')\n",
      "sns.despine()"
     ],
     "language": "python",
     "metadata": {},
     "outputs": [
      {
       "metadata": {},
       "output_type": "display_data",
       "png": "[encoded data removed]",
       "text": [
        "<matplotlib.figure.Figure at 0x1089c4e10>"
       ]
      }
     ],
     "prompt_number": 9
    },
    {
     "cell_type": "code",
     "collapsed": false,
     "input": [
      "#how many climbs per climber?\n",
      "f,ax=plt.subplots(figsize=[4,3])\n",
      "usesdf.groupby('climber').count().climb.hist(bins=20, grid=False,ax=ax)\n",
      "ax.set_ylabel('frequency')\n",
      "sns.despine()"
     ],
     "language": "python",
     "metadata": {},
     "outputs": [
      {
       "metadata": {},
       "output_type": "display_data",
       "png": "[encoded data removed]",
       "text": [
        "<matplotlib.figure.Figure at 0x111d77f90>"
       ]
      }
     ],
     "prompt_number": 10
    },
    {
     "cell_type": "code",
     "collapsed": false,
     "input": [
      "#how many climbers per climb?\n",
      "f,ax=plt.subplots(figsize=[4,3])\n",
      "usesdf.groupby('climb').count().climber.hist(bins=20, grid=False,ax=ax)\n",
      "ax.set_ylabel('frequency')\n",
      "sns.despine()"
     ],
     "language": "python",
     "metadata": {},
     "outputs": [
      {
       "metadata": {},
       "output_type": "display_data",
       "png": "[encoded data removed]",
       "text": [
        "<matplotlib.figure.Figure at 0x1089c4ad0>"
       ]
      }
     ],
     "prompt_number": 11
    },
    {
     "cell_type": "heading",
     "level": 3,
     "metadata": {},
     "source": [
      "Model Comparison"
     ]
    },
    {
     "cell_type": "code",
     "collapsed": false,
     "input": [
      "compare={'name':[],'acc':[],'recall':[],'precision':[],'f1':[]}\n",
      "resultsdict={}"
     ],
     "language": "python",
     "metadata": {},
     "outputs": [],
     "prompt_number": 12
    },
    {
     "cell_type": "heading",
     "level": 3,
     "metadata": {},
     "source": [
      "Random"
     ]
    },
    {
     "cell_type": "code",
     "collapsed": false,
     "input": [
      "name='random'\n",
      "dumbdf=pd.DataFrame(data={'starsscore':usesdf['starsscore'].values,'random':[np.random.choice(range(1,5)) for x in range(len(usesdf))],'user':usesdf['climber'].values,'climbid':usesdf['climb'].values})\n",
      "acc, precision, recall, f1=mo.round2score(dumbdf, 'starsscore', 'random', compare)\n",
      "compare['name'].append(name)\n",
      "propdf=viz.plotresults(dumbdf, 'starsscore', 'random')\n",
      "dumbdf['score']=(dumbdf['starsscore'].values==dumbdf['random'].values).astype(float)\n",
      "resultsdict[name]=[dumbdf,[]]\n"
     ],
     "language": "python",
     "metadata": {},
     "outputs": [
      {
       "output_type": "stream",
       "stream": "stdout",
       "text": [
        "4 way accuracy 0.259\n",
        "4 way f1 0.273\n",
        "4 way precision 0.283\n",
        "4 way recall 0.263\n"
       ]
      },
      {
       "output_type": "stream",
       "stream": "stderr",
       "text": [
        "/usr/local/lib/python2.7/site-packages/numpy/core/fromnumeric.py:2499: VisibleDeprecationWarning: `rank` is deprecated; use the `ndim` attribute or function instead. To find the rank of a matrix see `numpy.linalg.matrix_rank`.\n",
        "  VisibleDeprecationWarning)\n"
       ]
      },
      {
       "metadata": {},
       "output_type": "display_data",
       "png": "[encoded data removed]",
       "text": [
        "<matplotlib.figure.Figure at 0x10c725950>"
       ]
      }
     ],
     "prompt_number": 13
    },
    {
     "cell_type": "heading",
     "level": 3,
     "metadata": {},
     "source": [
      "Most Frequent"
     ]
    },
    {
     "cell_type": "code",
     "collapsed": false,
     "input": [
      "name='mostfrequent'\n",
      "mode=scipy.stats.mode(usesdf['starsscore'].values)[0][0]\n",
      "modedf=pd.DataFrame(data={'starsscore':usesdf['starsscore'].values, 'mostfrequent':[mode for x in range(len(usesdf))],'user':usesdf['climber'].values,'climbid':usesdf['climb'].values})\n",
      "acc, precision, recall, f1=mo.round2score(modedf, 'starsscore', 'mostfrequent', compare)\n",
      "compare['name'].append(name)\n",
      "propdf=viz.plotresults(modedf, 'starsscore', 'mostfrequent')\n",
      "modedf['score']=(modedf['starsscore'].values==modedf['mostfrequent'].values).astype(float)\n",
      "resultsdict[name]=[modedf,[]]"
     ],
     "language": "python",
     "metadata": {},
     "outputs": [
      {
       "output_type": "stream",
       "stream": "stdout",
       "text": [
        "4 way accuracy 0.349\n",
        "4 way f1 nan\n",
        "4 way precision nan\n",
        "4 way recall 0.000\n"
       ]
      },
      {
       "output_type": "stream",
       "stream": "stderr",
       "text": [
        "/usr/local/lib/python2.7/site-packages/numpy/core/_methods.py:59: RuntimeWarning: Mean of empty slice.\n",
        "  warnings.warn(\"Mean of empty slice.\", RuntimeWarning)\n"
       ]
      },
      {
       "metadata": {},
       "output_type": "display_data",
       "png": "[encoded data removed]",
       "text": [
        "<matplotlib.figure.Figure at 0x110c6c710>"
       ]
      }
     ],
     "prompt_number": 14
    },
    {
     "cell_type": "heading",
     "level": 3,
     "metadata": {},
     "source": [
      "Target most frequent:"
     ]
    },
    {
     "cell_type": "code",
     "collapsed": false,
     "input": [
      "def getavg(starid, climber, sdf=None):\n",
      "    udf=sdf[(sdf['climber']==climber) & (sdf['starid']!=starid)]\n",
      "    return udf['starsscore'].mean()\n",
      "usesdf['user_avg']=usesdf.apply(lambda x:getavg(x['starid'], x['climber'], sdf=usesdf), axis=1)\n",
      "usesdf['rounded_user_avg']=[np.round(x) for x in usesdf.user_avg.values]"
     ],
     "language": "python",
     "metadata": {},
     "outputs": [],
     "prompt_number": 15
    },
    {
     "cell_type": "code",
     "collapsed": false,
     "input": [
      "%autoreload\n",
      "savedf=pd.DataFrame(data={'climbid':usesdf['climb'].values, 'user':usesdf['climber'].values})\n",
      "savedf['score']=(usesdf['user_avg'].values==usesdf['starsscore'].values).astype(float)\n",
      "name='targetmode'\n",
      "acc, precision, recall, f1=mo.round2score(usesdf, 'starsscore', 'rounded_user_avg', compare)\n",
      "compare['name'].append(name)\n",
      "propdf=viz.plotresults(usesdf, 'starsscore', 'rounded_user_avg')\n",
      "resultsdict[name]=[savedf,[]]\n"
     ],
     "language": "python",
     "metadata": {},
     "outputs": [
      {
       "output_type": "stream",
       "stream": "stdout",
       "text": [
        "4 way accuracy 0.398\n",
        "4 way f1 0.294\n",
        "4 way precision 0.746\n",
        "4 way recall 0.183\n"
       ]
      },
      {
       "metadata": {},
       "output_type": "display_data",
       "png": "[encoded data removed]",
       "text": [
        "<matplotlib.figure.Figure at 0x113d01990>"
       ]
      }
     ],
     "prompt_number": 16
    },
    {
     "cell_type": "heading",
     "level": 3,
     "metadata": {},
     "source": [
      "Popularity (avg of remaining group)"
     ]
    },
    {
     "cell_type": "code",
     "collapsed": false,
     "input": [
      "savedf=pd.DataFrame(data={'climbid':usesdf['climb'].values, 'user':usesdf['climber'].values})\n",
      "savedf['score']=(usesdf['other_rounded'].values==usesdf['starsscore'].values).astype(float)"
     ],
     "language": "python",
     "metadata": {},
     "outputs": [],
     "prompt_number": 17
    },
    {
     "cell_type": "code",
     "collapsed": false,
     "input": [
      "%autoreload\n",
      "name='other_avg'\n",
      "acc, precision, recall, f1=mo.round2score(usesdf, 'starsscore', 'other_rounded', compare)\n",
      "propdf=viz.plotresults(usesdf, 'starsscore', 'other_rounded')\n",
      "compare['name'].append(name)\n",
      "resultsdict[name]=[savedf,[]]"
     ],
     "language": "python",
     "metadata": {},
     "outputs": [
      {
       "output_type": "stream",
       "stream": "stdout",
       "text": [
        "4 way accuracy 0.559\n",
        "4 way f1 0.667\n",
        "4 way precision 0.736\n",
        "4 way recall 0.609\n"
       ]
      },
      {
       "metadata": {},
       "output_type": "display_data",
       "png": "[encoded data removed]",
       "text": [
        "<matplotlib.figure.Figure at 0x110f2dd90>"
       ]
      }
     ],
     "prompt_number": 18
    },
    {
     "cell_type": "heading",
     "level": 3,
     "metadata": {},
     "source": [
      "VAlLIDATION"
     ]
    },
    {
     "cell_type": "code",
     "collapsed": false,
     "input": [
      "clf=mo.classifier('rfc')"
     ],
     "language": "python",
     "metadata": {},
     "outputs": [],
     "prompt_number": 19
    },
    {
     "cell_type": "code",
     "collapsed": false,
     "input": [
      "%autoreload\n",
      "name='user_sim'\n",
      "cfeatures=list(like_mat.columns.values)\n",
      "cfeatures.remove('climbid')\n",
      "sfeatures=[]\n",
      "print \"classifying using %s features\" %(len(cfeatures)+len(sfeatures))\n",
      "summarydf, resultsdf, emptyfeats=mo.classify(clf,users, sfeatures, cfeatures, like_mat, usesdf, minratings=minratings, dropself=True)\n",
      "resultsdict[name]=[summarydf, resultsdf]\n"
     ],
     "language": "python",
     "metadata": {},
     "outputs": [
      {
       "output_type": "stream",
       "stream": "stdout",
       "text": [
        "classifying using 105 features\n"
       ]
      },
      {
       "output_type": "stream",
       "stream": "stderr",
       "text": [
        "/usr/local/lib/python2.7/site-packages/sklearn/ensemble/forest.py:397: UserWarning: Some inputs do not have OOB scores. This probably means too few trees were used to compute any reliable oob estimates.\n",
        "  warn(\"Some inputs do not have OOB scores. \"\n"
       ]
      }
     ],
     "prompt_number": 20
    },
    {
     "cell_type": "code",
     "collapsed": false,
     "input": [
      "%autoreload\n",
      "name ='user_sim'\n",
      "print \"classifying with %s\" %name\n",
      "summarydf, resultsdf=resultsdict[name]\n",
      "viz.plotresults(resultsdf, 'true_rating', 'feat_pred')\n",
      "acc, precision, recall, f1=mo.round2score(resultsdf, 'true_rating', 'feat_pred', compare)\n",
      "compare['name'].append(name)"
     ],
     "language": "python",
     "metadata": {},
     "outputs": [
      {
       "output_type": "stream",
       "stream": "stdout",
       "text": [
        "classifying with user_sim\n"
       ]
      },
      {
       "metadata": {},
       "output_type": "display_data",
       "png": "[encoded data removed]",
       "text": [
        "<matplotlib.figure.Figure at 0x1108edb10>"
       ]
      },
      {
       "output_type": "stream",
       "stream": "stdout",
       "text": [
        "4 way accuracy 0.676\n",
        "4 way f1 0.498\n",
        "4 way precision 0.615\n",
        "4 way recall 0.418\n"
       ]
      }
     ],
     "prompt_number": 21
    },
    {
     "cell_type": "heading",
     "level": 3,
     "metadata": {},
     "source": [
      "Combined-All features"
     ]
    },
    {
     "cell_type": "code",
     "collapsed": false,
     "input": [
      "%autoreload\n",
      "name='combined'\n",
      "clf=mo.classifier('rfc')\n",
      "clf.n_estimators=nestimators\n",
      "numericfeats=['pitch','pageviews','numerizedgrade']\n",
      "cfeatures=list(like_mat.columns)+allfeats\n",
      "cfeatures.remove('climbid')\n",
      "sfeatures=['other_avg']\n",
      "print \"classifying using %s features\" %(len(cfeatures)+len(sfeatures))\n",
      "full_ndf=ndf[['climbid']+allfeats]\n",
      "full_ndf=pd.merge(full_ndf, like_mat, on='climbid', how='inner')\n",
      "full_ndf.index=full_ndf['climbid'].values\n",
      "full_ndf=full_ndf[full_ndf['climbid'].isin(sdf.climb.unique())]\n",
      "full_ndf=full_ndf.dropna()\n",
      "summarydf, resultsdf, informativefeats=mo.classify(clf,users, sfeatures, cfeatures, full_ndf, usesdf, minratings=10, dropself=True, getfeats=True)\n",
      "resultsdict[name]=[summarydf, resultsdf]"
     ],
     "language": "python",
     "metadata": {},
     "outputs": [
      {
       "output_type": "stream",
       "stream": "stdout",
       "text": [
        "classifying using 263 features\n"
       ]
      }
     ],
     "prompt_number": 22
    },
    {
     "cell_type": "code",
     "collapsed": false,
     "input": [
      "%autoreload\n",
      "name='combined'\n",
      "print \"classifying with %s\" %name\n",
      "summarydf, resultsdf=resultsdict[name]\n",
      "viz.plotresults(resultsdf, 'true_rating', 'feat_pred')\n",
      "acc, precision, recall, f1=mo.round2score(resultsdf, 'true_rating', 'feat_pred', compare)\n",
      "compare['name'].append(name)\n"
     ],
     "language": "python",
     "metadata": {},
     "outputs": [
      {
       "output_type": "stream",
       "stream": "stdout",
       "text": [
        "classifying with combined\n"
       ]
      },
      {
       "metadata": {},
       "output_type": "display_data",
       "png": "[encoded data removed]",
       "text": [
        "<matplotlib.figure.Figure at 0x11071f410>"
       ]
      },
      {
       "output_type": "stream",
       "stream": "stdout",
       "text": [
        "4 way accuracy 0.688\n",
        "4 way f1 0.617\n",
        "4 way precision 0.656\n",
        "4 way recall 0.582\n"
       ]
      }
     ],
     "prompt_number": 23
    },
    {
     "cell_type": "heading",
     "level": 3,
     "metadata": {},
     "source": [
      "Combined but reduced features"
     ]
    },
    {
     "cell_type": "code",
     "collapsed": false,
     "input": [
      "%autoreload\n",
      "name='combined_reduced'\n",
      "clf=mo.classifier('rfc')\n",
      "clf.n_estimators=nestimators\n",
      "numericfeats=['pitch','pageviews','numerizedgrade']\n",
      "cfeatures=list(like_mat.columns)+reducedfeats\n",
      "cfeatures.remove('climbid')\n",
      "sfeatures=['other_avg']\n",
      "print \"classifying using %s features\" %(len(cfeatures)+len(sfeatures))\n",
      "full_ndf=ndf[['climbid']+reducedfeats]\n",
      "full_ndf=pd.merge(full_ndf, like_mat, on='climbid', how='inner')\n",
      "full_ndf.index=full_ndf['climbid'].values\n",
      "full_ndf=full_ndf[full_ndf['climbid'].isin(sdf.climb.unique())]\n",
      "full_ndf=full_ndf.dropna()\n",
      "summarydf, resultsdf, informativefeats=mo.classify(clf,users, sfeatures, cfeatures, full_ndf, usesdf, minratings=10, dropself=True, datadir=projdir, getfeats=True)\n",
      "resultsdict[name]=[summarydf, resultsdf]"
     ],
     "language": "python",
     "metadata": {},
     "outputs": [
      {
       "output_type": "stream",
       "stream": "stdout",
       "text": [
        "classifying using 141 features\n"
       ]
      }
     ],
     "prompt_number": 24
    },
    {
     "cell_type": "code",
     "collapsed": false,
     "input": [
      "%autoreload\n",
      "name ='combined_reduced'\n",
      "print \"classifying with %s\" %name\n",
      "summarydf, resultsdf=resultsdict[name]\n",
      "viz.plotresults(resultsdf, 'true_rating', 'feat_pred')\n",
      "acc, precision, recall, f1=mo.round2score(resultsdf, 'true_rating', 'feat_pred', compare)\n",
      "compare['name'].append(name)"
     ],
     "language": "python",
     "metadata": {},
     "outputs": [
      {
       "output_type": "stream",
       "stream": "stdout",
       "text": [
        "classifying with combined_reduced\n"
       ]
      },
      {
       "metadata": {},
       "output_type": "display_data",
       "png": "[encoded data removed]",
       "text": [
        "<matplotlib.figure.Figure at 0x1089505d0>"
       ]
      },
      {
       "output_type": "stream",
       "stream": "stdout",
       "text": [
        "4 way accuracy 0.699\n",
        "4 way f1 0.610\n",
        "4 way precision 0.654\n",
        "4 way recall 0.571\n"
       ]
      }
     ],
     "prompt_number": 25
    },
    {
     "cell_type": "heading",
     "level": 3,
     "metadata": {},
     "source": [
      "Reduced Space (features available for new users)"
     ]
    },
    {
     "cell_type": "code",
     "collapsed": false,
     "input": [
      "%autoreload\n",
      "name='reduced'\n",
      "clf=mo.classifier('rfc')\n",
      "clf.n_estimators=nestimators\n",
      "cfeatures=reducedfeats\n",
      "sfeatures=['other_avg']\n",
      "print \"classifying using %s features\" %(len(cfeatures)+len(sfeatures))\n",
      "red_ndf=ndf[['climbid']+reducedfeats]\n",
      "red_ndf=pd.merge(red_ndf, like_mat, on='climbid', how='inner')\n",
      "red_ndf.index=red_ndf['climbid'].values\n",
      "red_ndf=red_ndf[red_ndf['climbid'].isin(sdf.climb.unique())]\n",
      "red_ndf=red_ndf.dropna()\n",
      "summarydf, resultsdf, informativefeats=mo.classify(clf,users, sfeatures, cfeatures, red_ndf, usesdf, minratings=10, dropself=True)\n",
      "resultsdict[name]=[summarydf, resultsdf]"
     ],
     "language": "python",
     "metadata": {},
     "outputs": [
      {
       "output_type": "stream",
       "stream": "stdout",
       "text": [
        "classifying using 36 features\n"
       ]
      }
     ],
     "prompt_number": 26
    },
    {
     "cell_type": "code",
     "collapsed": false,
     "input": [
      "name='reduced'\n",
      "print \"classifying with %s\" %name\n",
      "summarydf, resultsdf=resultsdict[name]\n",
      "viz.plotresults(resultsdf, 'true_rating', 'feat_pred')\n",
      "acc, precision, recall, f1=mo.round2score(resultsdf, 'true_rating', 'feat_pred', compare)\n",
      "compare['name'].append(name)"
     ],
     "language": "python",
     "metadata": {},
     "outputs": [
      {
       "output_type": "stream",
       "stream": "stdout",
       "text": [
        "classifying with reduced\n"
       ]
      },
      {
       "metadata": {},
       "output_type": "display_data",
       "png": "[encoded data removed]",
       "text": [
        "<matplotlib.figure.Figure at 0x113b32a90>"
       ]
      },
      {
       "output_type": "stream",
       "stream": "stdout",
       "text": [
        "4 way accuracy 0.564\n",
        "4 way f1 0.634\n",
        "4 way precision 0.654\n",
        "4 way recall 0.615\n"
       ]
      }
     ],
     "prompt_number": 27
    },
    {
     "cell_type": "heading",
     "level": 3,
     "metadata": {},
     "source": [
      "Directly Compare Models:"
     ]
    },
    {
     "cell_type": "code",
     "collapsed": false,
     "input": [
      "%autoreload\n",
      "comparedf=pd.DataFrame(data=compare)\n",
      "comparisonlabels=['random','mostfrequent','other_avg','user_sim','reduced','combined','combined_reduced']\n",
      "viz.plotcomparisons(comparisonlabels, resultsdict)"
     ],
     "language": "python",
     "metadata": {},
     "outputs": [
      {
       "metadata": {},
       "output_type": "display_data",
       "png": "[encoded data removed]",
       "text": [
        "<matplotlib.figure.Figure at 0x11476b8d0>"
       ]
      }
     ],
     "prompt_number": 28
    },
    {
     "cell_type": "code",
     "collapsed": false,
     "input": [
      "x=comparedf.groupby('name').mean().acc[comparisonlabels].plot(kind='bar')"
     ],
     "language": "python",
     "metadata": {},
     "outputs": [
      {
       "metadata": {},
       "output_type": "display_data",
       "png": "[encoded data removed]",
       "text": [
        "<matplotlib.figure.Figure at 0x11055b850>"
       ]
      }
     ],
     "prompt_number": 37
    },
    {
     "cell_type": "code",
     "collapsed": false,
     "input": [
      "x=comparedf.groupby('name').mean().precision[comparisonlabels].plot(kind='bar')"
     ],
     "language": "python",
     "metadata": {},
     "outputs": [
      {
       "metadata": {},
       "output_type": "display_data",
       "png": "[encoded data removed]",
       "text": [
        "<matplotlib.figure.Figure at 0x113d01090>"
       ]
      }
     ],
     "prompt_number": 38
    },
    {
     "cell_type": "heading",
     "level": 3,
     "metadata": {},
     "source": [
      "ROC curves"
     ]
    },
    {
     "cell_type": "code",
     "collapsed": false,
     "input": [],
     "language": "python",
     "metadata": {},
     "outputs": [],
     "prompt_number": 28
    },
    {
     "cell_type": "heading",
     "level": 3,
     "metadata": {},
     "source": [
      "Performance as a function of user data"
     ]
    },
    {
     "cell_type": "markdown",
     "metadata": {},
     "source": [
      "-no data (avg stars)\n",
      "-user enterd data (reduced space)\n",
      "-5 ratings-100 ratings (performance as a function of N)"
     ]
    },
    {
     "cell_type": "code",
     "collapsed": false,
     "input": [
      "%autoreload\n",
      "viz.accbyN(resultsdict, usesdf, 'combined_reduced')"
     ],
     "language": "python",
     "metadata": {},
     "outputs": [
      {
       "metadata": {},
       "output_type": "display_data",
       "png": "[encoded data removed]",
       "text": [
        "<matplotlib.figure.Figure at 0x113f36d90>"
       ]
      },
      {
       "metadata": {},
       "output_type": "display_data",
       "png": "[encoded data removed]",
       "text": [
        "<matplotlib.figure.Figure at 0x11538d910>"
       ]
      }
     ],
     "prompt_number": 43
    },
    {
     "cell_type": "code",
     "collapsed": false,
     "input": [],
     "language": "python",
     "metadata": {},
     "outputs": [],
     "prompt_number": 28
    },
    {
     "cell_type": "heading",
     "level": 3,
     "metadata": {},
     "source": [
      "Use final model to create feature space for training models on new users"
     ]
    },
    {
     "cell_type": "code",
     "collapsed": false,
     "input": [
      "newuserfeats=['avgstars']+reducedfeats\n",
      "%autoreload\n",
      "featdf=nmo.makefeatdf(cdf, newuserfeats)\n",
      "samplesdf=nmo.makesampleclimbs(newuserfeats, featdf)\n",
      "engine = create_engine('mysql://%s@%s/%s?charset=%s&use_unicode=%s&passwd=%s' %(cfg.user, cfg.host, cfg.dbname, cfg.charset, cfg.use_unicode, cfg.passwd), pool_recycle=3600)\n",
      "samplesdf.to_sql('fakesamples', engine, if_exists='replace', chunksize=1000)\n",
      "featdf.to_sql('featranges', engine, if_exists='replace', chunksize=1000)"
     ],
     "language": "python",
     "metadata": {},
     "outputs": [],
     "prompt_number": 29
    },
    {
     "cell_type": "code",
     "collapsed": false,
     "input": [
      "### for setting this up\n",
      "#make up a user whos preferences I've acquired\n",
      "userdf=pd.DataFrame(data={'feature':newuserfeats})\n",
      "userdf['user']=[5 for el in range(len(userdf))]\n",
      "userdf['pref']=[np.random.choice([1,2,3,4]) for el in range(len(userdf))]\n",
      "userdf.loc[userdf['feature']=='avgstars', 'pred']=4"
     ],
     "language": "python",
     "metadata": {},
     "outputs": [],
     "prompt_number": 30
    },
    {
     "cell_type": "heading",
     "level": 3,
     "metadata": {},
     "source": [
      "Create final climb x feature vector"
     ]
    },
    {
     "cell_type": "code",
     "collapsed": false,
     "input": [
      "#for final set of features, get all climbs that can be scored on those features (note, we can include all data here, so averages including the target are fine....)"
     ],
     "language": "python",
     "metadata": {},
     "outputs": [],
     "prompt_number": 31
    },
    {
     "cell_type": "code",
     "collapsed": false,
     "input": [
      "allfeats=['avgstars']+reducedfeats+list(like_mat.columns)\n",
      "redfeats=['avgstars']+reducedfeats\n",
      "final_ndf=full_ndf.join(cdf[['avgstars']], how='left')"
     ],
     "language": "python",
     "metadata": {},
     "outputs": [],
     "prompt_number": 32
    },
    {
     "cell_type": "code",
     "collapsed": false,
     "input": [
      "final_X=final_ndf[['climbid']+allfeats]\n",
      "final_X_red=final_ndf[['climbid']+redfeats]\n",
      "final_X=final_X.rename(columns={'avgstars':'other_avg'})\n",
      "final_X_red=final_X_red.rename(columns={'avgstars':'other_avg'})"
     ],
     "language": "python",
     "metadata": {},
     "outputs": [],
     "prompt_number": 33
    },
    {
     "cell_type": "code",
     "collapsed": false,
     "input": [
      "chunksize=1000\n",
      "engine = create_engine('mysql://%s@%s/%s?charset=%s&use_unicode=%s&passwd=%s' %(cfg.user, cfg.host, cfg.dbname, cfg.charset, cfg.use_unicode, cfg.passwd), pool_recycle=3600)\n",
      "final_X.to_sql('final_X_matrix', engine, if_exists='replace', chunksize=chunksize)"
     ],
     "language": "python",
     "metadata": {},
     "outputs": [],
     "prompt_number": 34
    },
    {
     "cell_type": "code",
     "collapsed": false,
     "input": [
      "chunksize=1000\n",
      "engine = create_engine('mysql://%s@%s/%s?charset=%s&use_unicode=%s&passwd=%s' %(cfg.user, cfg.host, cfg.dbname, cfg.charset, cfg.use_unicode, cfg.passwd), pool_recycle=3600)\n",
      "final_X_red.to_sql('final_X_matrix_red', engine, if_exists='replace', chunksize=chunksize)"
     ],
     "language": "python",
     "metadata": {},
     "outputs": [],
     "prompt_number": 35
    },
    {
     "cell_type": "heading",
     "level": 3,
     "metadata": {},
     "source": [
      "Confirm optimal n_estimators parameter"
     ]
    },
    {
     "cell_type": "code",
     "collapsed": false,
     "input": [
      "poss_n=range(1,100,5)\n",
      "results=[]\n",
      "for n in poss_n:\n",
      "    clf=mo.classifier('rfc')\n",
      "    clf.n_estimators=n\n",
      "    name='combined_rfc_n_est_%s' %(n)\n",
      "    summarydf, resultsdf, emptyfeats=mo.classify(clf,users, sfeatures, cfeatures, full_ndf, usesdf, minratings=minratings, dropself=True)\n",
      "    resultsdict[name]=[summarydf, resultsdf]\n",
      "    results.append(summarydf['score'].mean())"
     ],
     "language": "python",
     "metadata": {},
     "outputs": [],
     "prompt_number": 36
    },
    {
     "cell_type": "code",
     "collapsed": false,
     "input": [],
     "language": "python",
     "metadata": {},
     "outputs": [],
     "prompt_number": 36
    },
    {
     "cell_type": "code",
     "collapsed": false,
     "input": [],
     "language": "python",
     "metadata": {},
     "outputs": [],
     "prompt_number": 36
    },
    {
     "cell_type": "code",
     "collapsed": false,
     "input": [],
     "language": "python",
     "metadata": {},
     "outputs": [],
     "prompt_number": 257
    },
    {
     "cell_type": "code",
     "collapsed": false,
     "input": [],
     "language": "python",
     "metadata": {},
     "outputs": [],
     "prompt_number": 257
    },
    {
     "cell_type": "code",
     "collapsed": false,
     "input": [],
     "language": "python",
     "metadata": {},
     "outputs": [],
     "prompt_number": 257
    },
    {
     "cell_type": "code",
     "collapsed": false,
     "input": [],
     "language": "python",
     "metadata": {},
     "outputs": [],
     "prompt_number": 257
    },
    {
     "cell_type": "code",
     "collapsed": false,
     "input": [],
     "language": "python",
     "metadata": {},
     "outputs": [],
     "prompt_number": 257
    },
    {
     "cell_type": "code",
     "collapsed": false,
     "input": [],
     "language": "python",
     "metadata": {},
     "outputs": []
    }
   ],
   "metadata": {}
  }
 ]
}