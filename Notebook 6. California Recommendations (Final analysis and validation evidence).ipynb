{
 "metadata": {
  "name": "",
  "signature": "sha256:eb51e6c799a8d41906cd085fbcd7365e21812b231aed63705697ea71a2e3ffd3"
 },
 "nbformat": 3,
 "nbformat_minor": 0,
 "worksheets": [
  {
   "cells": [
    {
     "cell_type": "code",
     "collapsed": false,
     "input": [
      "pylab inline"
     ],
     "language": "python",
     "metadata": {},
     "outputs": [
      {
       "output_type": "stream",
       "stream": "stdout",
       "text": [
        "Populating the interactive namespace from numpy and matplotlib\n"
       ]
      }
     ],
     "prompt_number": 1
    },
    {
     "cell_type": "code",
     "collapsed": false,
     "input": [
      "%load_ext autoreload"
     ],
     "language": "python",
     "metadata": {},
     "outputs": [],
     "prompt_number": 2
    },
    {
     "cell_type": "code",
     "collapsed": false,
     "input": [
      "import pandas as pd\n",
      "import numpy as np\n",
      "np.random.RandomState(100)\n",
      "from sqlalchemy import create_engine\n",
      "import os\n",
      "import sys\n",
      "import scipy.stats\n",
      "\n",
      "sys.path.append('mpscraper')\n",
      "from mpscraper.cfgdb import cfg\n",
      "sys.path.append('antools')\n",
      "import antools.randomstuff as rd\n",
      "import antools.reduction as red\n",
      "import antools.utilities as util\n",
      "import antools.visualization as viz\n",
      "import antools.modeling as mo\n",
      "import antools.newusermodeling as nmo\n",
      "\n",
      "\n",
      "import pandas as pd\n",
      "import numpy as np\n",
      "import seaborn as sns\n",
      "sns.set_style('white')\n",
      "import matplotlib.pyplot as plt\n",
      "import scipy.stats\n",
      "\n",
      "from sklearn.metrics.pairwise import pairwise_distances\n",
      "import sklearn.cross_validation\n",
      "from sklearn.ensemble import RandomForestRegressor \n",
      "from sklearn.ensemble import RandomForestClassifier \n",
      "from sklearn.linear_model import LinearRegression\n",
      "from sklearn.svm import SVC\n",
      "from sklearn.linear_model import Ridge\n",
      "from sklearn.metrics import f1_score"
     ],
     "language": "python",
     "metadata": {},
     "outputs": [
      {
       "output_type": "stream",
       "stream": "stdout",
       "text": [
        "4 cores available for parallel processing\n"
       ]
      }
     ],
     "prompt_number": 3
    },
    {
     "cell_type": "code",
     "collapsed": false,
     "input": [
      "import sys, os\n",
      "rootdir=os.getcwd()\n",
      "while 'Projects' in rootdir:\n",
      "    rootdir=os.path.dirname(rootdir)\n",
      "projdir=os.path.join(rootdir, 'Projects','cragcrunch','data')"
     ],
     "language": "python",
     "metadata": {},
     "outputs": [],
     "prompt_number": 4
    },
    {
     "cell_type": "heading",
     "level": 3,
     "metadata": {},
     "source": [
      "Load in preprocessed data"
     ]
    },
    {
     "cell_type": "code",
     "collapsed": false,
     "input": [
      "engine = create_engine('mysql://%s@%s/%s?charset=%s&use_unicode=%s&passwd=%s' %(cfg.user, cfg.host, cfg.dbname, cfg.charset, cfg.use_unicode, cfg.passwd), pool_recycle=3600)\n",
      "cdf = pd.read_sql(\"SELECT * from climb_prepped where region='California'\", engine, index_col='index')\n",
      "adf = pd.read_sql(\"SELECT * from area_prepped where region='California'\", engine, index_col='index')\n",
      "climbs=list(cdf.climbid.unique())\n",
      "print \"loading %s climbs\" %(len(climbs))\n",
      "cldf = pd.read_sql(\"SELECT * from climber_prepped\", engine, index_col='index')\n",
      "hdf= pd.read_sql(\"SELECT * from hits_prepped\", engine, index_col='index')\n",
      "sdf= pd.read_sql(\"SELECT * from stars_prepped\", engine, index_col='index')\n",
      "gdf= pd.read_sql(\"SELECT * from grades_prepped\", engine, index_col='index')\n",
      "codf= pd.read_sql(\"SELECT * from comments_prepped\", engine, index_col='index')\n",
      "tdf= pd.read_sql(\"SELECT * from ticks_prepped\", engine, index_col='index')"
     ],
     "language": "python",
     "metadata": {},
     "outputs": [
      {
       "output_type": "stream",
       "stream": "stdout",
       "text": [
        "loading 8297 climbs\n"
       ]
      }
     ],
     "prompt_number": 5
    },
    {
     "cell_type": "code",
     "collapsed": false,
     "input": [
      "like_mat= pd.read_sql(\"SELECT * from like_matrix\", engine, index_col='index')\n",
      "star_mat= pd.read_sql(\"SELECT * from star_matrix\", engine, index_col='index')"
     ],
     "language": "python",
     "metadata": {},
     "outputs": [],
     "prompt_number": 6
    },
    {
     "cell_type": "code",
     "collapsed": false,
     "input": [
      "minratings=5\n",
      "users=sdf[sdf['climb'].isin(climbs)]['climber'].unique().astype(int)\n",
      "users=[u for u in users if u in cldf.climberid.values]\n",
      "print \"starting with %s users\" %len(users)\n",
      "users=[u for u in users if len(sdf[sdf['climber']==u]['climb'].values)>=minratings]\n",
      "usesdf=sdf[sdf['climber'].isin(users)]\n",
      "usesdf['other_rounded']=[np.round(val) for val in usesdf['other_avg']]\n",
      "usesdf=usesdf[(usesdf['starsscore']>0) & (usesdf['other_rounded']>0)]\n",
      "usesdf['climbid']=usesdf['climb']\n",
      "ndf=cdf[cdf['climbid'].isin(usesdf['climb'].unique())]\n",
      "print \"reducing to %s users who have greater than or equal to %s ratings provided\" %(len(users), minratings)"
     ],
     "language": "python",
     "metadata": {},
     "outputs": [
      {
       "output_type": "stream",
       "stream": "stdout",
       "text": [
        "starting with 106 users\n",
        "reducing to 67 users who have greater than or equal to 5 ratings provided"
       ]
      },
      {
       "output_type": "stream",
       "stream": "stdout",
       "text": [
        "\n"
       ]
      },
      {
       "output_type": "stream",
       "stream": "stderr",
       "text": [
        "-c:7: SettingWithCopyWarning: \n",
        "A value is trying to be set on a copy of a slice from a DataFrame.\n",
        "Try using .loc[row_indexer,col_indexer] = value instead\n",
        "\n",
        "See the the caveats in the documentation: http://pandas.pydata.org/pandas-docs/stable/indexing.html#indexing-view-versus-copy\n"
       ]
      }
     ],
     "prompt_number": 7
    },
    {
     "cell_type": "heading",
     "level": 3,
     "metadata": {},
     "source": [
      "Load up text features\n"
     ]
    },
    {
     "cell_type": "code",
     "collapsed": false,
     "input": [
      "featsdict=util.loadpickledobjects(os.path.join(projdir,'learnedfeatures.pkl'))[0]\n",
      "allfeats=featsdict['alltextfeats']\n",
      "reducedfeats=featsdict['reducedtextfeats']"
     ],
     "language": "python",
     "metadata": {},
     "outputs": [],
     "prompt_number": 8
    },
    {
     "cell_type": "heading",
     "level": 3,
     "metadata": {},
     "source": [
      "Quick visualization of the data\n"
     ]
    },
    {
     "cell_type": "code",
     "collapsed": false,
     "input": [
      "#how are stars dstributed()\n",
      "f,ax=plt.subplots(figsize=[4,3])\n",
      "usesdf.groupby('starsscore').count().climb.plot(kind='bar', grid=False,ax=ax)\n",
      "ax.set_ylabel('counts')\n",
      "sns.despine()"
     ],
     "language": "python",
     "metadata": {},
     "outputs": [
      {
       "metadata": {},
       "output_type": "display_data",
       "png": "[encoded data removed]",
       "text": [
        "<matplotlib.figure.Figure at 0x10a559dd0>"
       ]
      }
     ],
     "prompt_number": 9
    },
    {
     "cell_type": "code",
     "collapsed": false,
     "input": [
      "#how many climbs per climber?\n",
      "f,ax=plt.subplots(figsize=[4,3])\n",
      "usesdf.groupby('climber').count().climb.hist(bins=20, grid=False,ax=ax)\n",
      "ax.set_ylabel('frequency')\n",
      "sns.despine()"
     ],
     "language": "python",
     "metadata": {},
     "outputs": [
      {
       "metadata": {},
       "output_type": "display_data",
       "png": "[encoded data removed]",
       "text": [
        "<matplotlib.figure.Figure at 0x111d07fd0>"
       ]
      }
     ],
     "prompt_number": 10
    },
    {
     "cell_type": "code",
     "collapsed": false,
     "input": [
      "#how many climbers per climb?\n",
      "f,ax=plt.subplots(figsize=[4,3])\n",
      "usesdf.groupby('climb').count().climber.hist(bins=20, grid=False,ax=ax)\n",
      "ax.set_ylabel('frequency')\n",
      "sns.despine()"
     ],
     "language": "python",
     "metadata": {},
     "outputs": [
      {
       "metadata": {},
       "output_type": "display_data",
       "png": "[encoded data removed]",
       "text": [
        "<matplotlib.figure.Figure at 0x111d07f90>"
       ]
      }
     ],
     "prompt_number": 11
    },
    {
     "cell_type": "heading",
     "level": 3,
     "metadata": {},
     "source": [
      "Model Comparison"
     ]
    },
    {
     "cell_type": "markdown",
     "metadata": {},
     "source": [
      "I'll start with some really naive models that can serve as baselines I want to beat"
     ]
    },
    {
     "cell_type": "heading",
     "level": 3,
     "metadata": {},
     "source": [
      "Random"
     ]
    },
    {
     "cell_type": "code",
     "collapsed": false,
     "input": [
      "dumbdf=pd.DataFrame(data={'starsscore':usesdf['starsscore'],'random':[np.random.choice(range(1,5)) for x in range(len(usesdf))]})\n",
      "acc, precision, recall, f1=mo.round2score(dumbdf, 'starsscore', 'random')\n",
      "propdf=viz.plotresults(dumbdf, 'starsscore', 'random')"
     ],
     "language": "python",
     "metadata": {},
     "outputs": [
      {
       "output_type": "stream",
       "stream": "stdout",
       "text": [
        "4 way accuracy 0.246\n",
        "4 way f1 0.256\n",
        "4 way precision 0.280\n",
        "4 way recall 0.246\n"
       ]
      },
      {
       "output_type": "stream",
       "stream": "stderr",
       "text": [
        "/usr/local/lib/python2.7/site-packages/numpy/core/fromnumeric.py:2499: VisibleDeprecationWarning: `rank` is deprecated; use the `ndim` attribute or function instead. To find the rank of a matrix see `numpy.linalg.matrix_rank`.\n",
        "  VisibleDeprecationWarning)\n"
       ]
      },
      {
       "metadata": {},
       "output_type": "display_data",
       "png": "[encoded data removed]",
       "text": [
        "<matplotlib.figure.Figure at 0x10c8aa390>"
       ]
      }
     ],
     "prompt_number": 12
    },
    {
     "cell_type": "heading",
     "level": 3,
     "metadata": {},
     "source": [
      "Most Frequent"
     ]
    },
    {
     "cell_type": "code",
     "collapsed": false,
     "input": [
      "mode=scipy.stats.mode(usesdf['starsscore'].values)[0][0]\n",
      "modedf=pd.DataFrame(data={'starsscore':usesdf['starsscore'].values, 'mostfrequent':[mode for x in range(len(usesdf))]})\n",
      "acc, precision, recall, f1=mo.round2score(modedf, 'starsscore', 'mostfrequent')\n",
      "propdf=viz.plotresults(modedf, 'starsscore', 'mostfrequent')"
     ],
     "language": "python",
     "metadata": {},
     "outputs": [
      {
       "output_type": "stream",
       "stream": "stdout",
       "text": [
        "4 way accuracy 0.349\n",
        "4 way f1 0.180\n",
        "4 way precision 0.122\n",
        "4 way recall 0.349\n"
       ]
      },
      {
       "output_type": "stream",
       "stream": "stderr",
       "text": [
        "/usr/local/lib/python2.7/site-packages/sklearn/metrics/metrics.py:1249: UserWarning: The sum of true positives and false positives are equal to zero for some labels. Precision is ill defined for those labels [ 1.  2.  4.]. The precision and recall are equal to zero for some labels. fbeta_score is ill defined for those labels [ 1.  2.  4.]. \n",
        "  average=average)\n",
        "/usr/local/lib/python2.7/site-packages/sklearn/metrics/metrics.py:1734: UserWarning: The sum of true positives and false positives are equal to zero for some labels. Precision is ill defined for those labels [ 1.  2.  4.]. The precision and recall are equal to zero for some labels. fbeta_score is ill defined for those labels [ 1.  2.  4.]. \n",
        "  average=average)\n",
        "/usr/local/lib/python2.7/site-packages/sklearn/metrics/metrics.py:1809: UserWarning: The sum of true positives and false positives are equal to zero for some labels. Precision is ill defined for those labels [ 1.  2.  4.]. The precision and recall are equal to zero for some labels. fbeta_score is ill defined for those labels [ 1.  2.  4.]. \n",
        "  average=average)\n"
       ]
      },
      {
       "metadata": {},
       "output_type": "display_data",
       "png": "[encoded data removed]",
       "text": [
        "<matplotlib.figure.Figure at 0x11585b7d0>"
       ]
      }
     ],
     "prompt_number": 13
    },
    {
     "cell_type": "heading",
     "level": 3,
     "metadata": {},
     "source": [
      "Target most frequent:"
     ]
    },
    {
     "cell_type": "code",
     "collapsed": false,
     "input": [
      "def getavg(starid, climber, sdf=None):\n",
      "    udf=sdf[(sdf['climber']==climber) & (sdf['starid']!=starid)]\n",
      "    return udf['starsscore'].mean()\n",
      "usesdf['user_avg']=usesdf.apply(lambda x:getavg(x['starid'], x['climber'], sdf=usesdf), axis=1)\n",
      "usesdf['rounded_user_avg']=[np.round(x) for x in usesdf.user_avg.values]"
     ],
     "language": "python",
     "metadata": {},
     "outputs": [],
     "prompt_number": 14
    },
    {
     "cell_type": "code",
     "collapsed": false,
     "input": [
      "%autoreload\n",
      "acc, precision, recall, f1=mo.round2score(usesdf, 'starsscore', 'rounded_user_avg')\n",
      "propdf=viz.plotresults(usesdf, 'starsscore', 'rounded_user_avg')"
     ],
     "language": "python",
     "metadata": {},
     "outputs": [
      {
       "output_type": "stream",
       "stream": "stdout",
       "text": [
        "4 way accuracy 0.398\n",
        "4 way f1 0.354\n",
        "4 way precision 0.439\n",
        "4 way recall 0.398\n"
       ]
      },
      {
       "output_type": "stream",
       "stream": "stderr",
       "text": [
        "/usr/local/lib/python2.7/site-packages/sklearn/metrics/metrics.py:1249: UserWarning: The sum of true positives and false positives are equal to zero for some labels. Precision is ill defined for those labels [ 1.]. The precision and recall are equal to zero for some labels. fbeta_score is ill defined for those labels [ 1.]. \n",
        "  average=average)\n",
        "/usr/local/lib/python2.7/site-packages/sklearn/metrics/metrics.py:1734: UserWarning: The sum of true positives and false positives are equal to zero for some labels. Precision is ill defined for those labels [ 1.]. The precision and recall are equal to zero for some labels. fbeta_score is ill defined for those labels [ 1.]. \n",
        "  average=average)\n",
        "/usr/local/lib/python2.7/site-packages/sklearn/metrics/metrics.py:1809: UserWarning: The sum of true positives and false positives are equal to zero for some labels. Precision is ill defined for those labels [ 1.]. The precision and recall are equal to zero for some labels. fbeta_score is ill defined for those labels [ 1.]. \n",
        "  average=average)\n"
       ]
      },
      {
       "metadata": {},
       "output_type": "display_data",
       "png": "[encoded data removed]",
       "text": [
        "<matplotlib.figure.Figure at 0x11281f650>"
       ]
      }
     ],
     "prompt_number": 15
    },
    {
     "cell_type": "heading",
     "level": 3,
     "metadata": {},
     "source": [
      "Popularity (avg of remaining group)"
     ]
    },
    {
     "cell_type": "code",
     "collapsed": false,
     "input": [
      "%autoreload\n",
      "acc, precision, recall, f1=mo.round2score(usesdf, 'starsscore', 'other_rounded')\n",
      "propdf=viz.plotresults(usesdf, 'starsscore', 'other_rounded')"
     ],
     "language": "python",
     "metadata": {},
     "outputs": [
      {
       "output_type": "stream",
       "stream": "stdout",
       "text": [
        "4 way accuracy 0.559\n",
        "4 way f1 0.557\n",
        "4 way precision 0.568\n",
        "4 way recall 0.559\n"
       ]
      },
      {
       "metadata": {},
       "output_type": "display_data",
       "png": "[encoded data removed]",
       "text": [
        "<matplotlib.figure.Figure at 0x1158678d0>"
       ]
      }
     ],
     "prompt_number": 16
    },
    {
     "cell_type": "heading",
     "level": 3,
     "metadata": {},
     "source": [
      "VAlLIDATION"
     ]
    },
    {
     "cell_type": "code",
     "collapsed": false,
     "input": [
      "resultsdict={}\n",
      "results=[]"
     ],
     "language": "python",
     "metadata": {},
     "outputs": []
    },
    {
     "cell_type": "code",
     "collapsed": false,
     "input": [
      "%autoreload\n",
      "name='combined'\n",
      "clf=mo.classifier('rfc')\n",
      "clf.n_estimators=40\n",
      "numericfeats=['pitch','pageviews','numerizedgrade']\n",
      "cfeatures=list(like_mat.columns)+allfeats\n",
      "cfeatures.remove('climbid')\n",
      "sfeatures=['other_avg']\n",
      "print \"classifying using %s features\" %(len(cfeatures)+len(sfeatures))\n",
      "full_ndf=ndf[['climbid']+allfeats]\n",
      "full_ndf=pd.merge(full_ndf, like_mat, on='climbid', how='inner')\n",
      "full_ndf.index=full_ndf['climbid'].values\n",
      "full_ndf=full_ndf[full_ndf['climbid'].isin(sdf.climb.unique())]\n",
      "full_ndf=full_ndf.dropna()\n",
      "summarydf, resultsdf, informativefeats=mo.classify(clf,users, sfeatures, cfeatures, full_ndf, usesdf, minratings=10, dropself=True, datadir=projdir, getfeats=True)\n",
      "resultsdict[name]=[summarydf, resultsdf]"
     ],
     "language": "python",
     "metadata": {},
     "outputs": []
    },
    {
     "cell_type": "code",
     "collapsed": false,
     "input": [
      "%autoreload\n",
      "name='combined'\n",
      "print \"classifying with %s\" %name\n",
      "summarydf, resultsdf=resultsdict[name]\n",
      "viz.plotresults(resultsdf, 'true_rating', 'feat_pred')\n",
      "acc, precision, recall, f1=mo.round2score(resultsdf, 'true_rating', 'feat_pred')\n",
      "precisiondf=resultsdf[resultsdf['feat_pred']==4] #TP/TP+FP\n",
      "np.mean([precisiondf['feat_pred']==precisiondf['true_rating']])"
     ],
     "language": "python",
     "metadata": {},
     "outputs": []
    },
    {
     "cell_type": "code",
     "collapsed": false,
     "input": [
      "precisiondf=resultsdf[resultsdf['feat_pred']==4]"
     ],
     "language": "python",
     "metadata": {},
     "outputs": []
    },
    {
     "cell_type": "code",
     "collapsed": false,
     "input": [
      "print classification_report(resultsdf['feat_pred'].values, resultsdf['true_rating'].values, labels=[1,2,3,4])"
     ],
     "language": "python",
     "metadata": {},
     "outputs": []
    },
    {
     "cell_type": "heading",
     "level": 3,
     "metadata": {},
     "source": [
      "Directly Compare Models:"
     ]
    },
    {
     "cell_type": "code",
     "collapsed": false,
     "input": [
      "#for each model, plot accuracy and precision"
     ],
     "language": "python",
     "metadata": {},
     "outputs": [
      {
       "html": [
        "<div style=\"max-height:1000px;max-width:1500px;overflow:auto;\">\n",
        "<table border=\"1\" class=\"dataframe\">\n",
        "  <thead>\n",
        "    <tr style=\"text-align: right;\">\n",
        "      <th></th>\n",
        "      <th>climbid</th>\n",
        "      <th>feat_pred</th>\n",
        "      <th>true_rating</th>\n",
        "      <th>user</th>\n",
        "    </tr>\n",
        "  </thead>\n",
        "  <tbody>\n",
        "    <tr>\n",
        "      <th>0   </th>\n",
        "      <td>  1571</td>\n",
        "      <td> 3</td>\n",
        "      <td> 4</td>\n",
        "      <td>  123</td>\n",
        "    </tr>\n",
        "    <tr>\n",
        "      <th>1   </th>\n",
        "      <td> 14667</td>\n",
        "      <td> 3</td>\n",
        "      <td> 3</td>\n",
        "      <td>  123</td>\n",
        "    </tr>\n",
        "    <tr>\n",
        "      <th>2   </th>\n",
        "      <td>   727</td>\n",
        "      <td> 3</td>\n",
        "      <td> 3</td>\n",
        "      <td>  123</td>\n",
        "    </tr>\n",
        "    <tr>\n",
        "      <th>3   </th>\n",
        "      <td>   322</td>\n",
        "      <td> 3</td>\n",
        "      <td> 3</td>\n",
        "      <td>  123</td>\n",
        "    </tr>\n",
        "    <tr>\n",
        "      <th>4   </th>\n",
        "      <td>  4876</td>\n",
        "      <td> 3</td>\n",
        "      <td> 3</td>\n",
        "      <td>  123</td>\n",
        "    </tr>\n",
        "    <tr>\n",
        "      <th>5   </th>\n",
        "      <td>  1249</td>\n",
        "      <td> 3</td>\n",
        "      <td> 3</td>\n",
        "      <td>  123</td>\n",
        "    </tr>\n",
        "    <tr>\n",
        "      <th>6   </th>\n",
        "      <td>  1274</td>\n",
        "      <td> 3</td>\n",
        "      <td> 3</td>\n",
        "      <td>  123</td>\n",
        "    </tr>\n",
        "    <tr>\n",
        "      <th>7   </th>\n",
        "      <td> 12003</td>\n",
        "      <td> 3</td>\n",
        "      <td> 4</td>\n",
        "      <td>  123</td>\n",
        "    </tr>\n",
        "    <tr>\n",
        "      <th>8   </th>\n",
        "      <td> 15332</td>\n",
        "      <td> 3</td>\n",
        "      <td> 3</td>\n",
        "      <td>  123</td>\n",
        "    </tr>\n",
        "    <tr>\n",
        "      <th>9   </th>\n",
        "      <td> 15333</td>\n",
        "      <td> 3</td>\n",
        "      <td> 3</td>\n",
        "      <td>  123</td>\n",
        "    </tr>\n",
        "    <tr>\n",
        "      <th>10  </th>\n",
        "      <td> 15342</td>\n",
        "      <td> 3</td>\n",
        "      <td> 3</td>\n",
        "      <td>  123</td>\n",
        "    </tr>\n",
        "    <tr>\n",
        "      <th>11  </th>\n",
        "      <td> 15344</td>\n",
        "      <td> 3</td>\n",
        "      <td> 3</td>\n",
        "      <td>  123</td>\n",
        "    </tr>\n",
        "    <tr>\n",
        "      <th>12  </th>\n",
        "      <td>   762</td>\n",
        "      <td> 3</td>\n",
        "      <td> 3</td>\n",
        "      <td>  123</td>\n",
        "    </tr>\n",
        "    <tr>\n",
        "      <th>13  </th>\n",
        "      <td>  1303</td>\n",
        "      <td> 3</td>\n",
        "      <td> 3</td>\n",
        "      <td>  123</td>\n",
        "    </tr>\n",
        "    <tr>\n",
        "      <th>14  </th>\n",
        "      <td>  9109</td>\n",
        "      <td> 3</td>\n",
        "      <td> 3</td>\n",
        "      <td>  123</td>\n",
        "    </tr>\n",
        "    <tr>\n",
        "      <th>15  </th>\n",
        "      <td>   855</td>\n",
        "      <td> 3</td>\n",
        "      <td> 2</td>\n",
        "      <td>  123</td>\n",
        "    </tr>\n",
        "    <tr>\n",
        "      <th>16  </th>\n",
        "      <td>  1245</td>\n",
        "      <td> 3</td>\n",
        "      <td> 2</td>\n",
        "      <td>  123</td>\n",
        "    </tr>\n",
        "    <tr>\n",
        "      <th>17  </th>\n",
        "      <td>  7250</td>\n",
        "      <td> 3</td>\n",
        "      <td> 2</td>\n",
        "      <td>  123</td>\n",
        "    </tr>\n",
        "    <tr>\n",
        "      <th>18  </th>\n",
        "      <td>   636</td>\n",
        "      <td> 3</td>\n",
        "      <td> 3</td>\n",
        "      <td>  123</td>\n",
        "    </tr>\n",
        "    <tr>\n",
        "      <th>19  </th>\n",
        "      <td>   584</td>\n",
        "      <td> 3</td>\n",
        "      <td> 3</td>\n",
        "      <td>  123</td>\n",
        "    </tr>\n",
        "    <tr>\n",
        "      <th>20  </th>\n",
        "      <td> 15529</td>\n",
        "      <td> 3</td>\n",
        "      <td> 3</td>\n",
        "      <td>  123</td>\n",
        "    </tr>\n",
        "    <tr>\n",
        "      <th>21  </th>\n",
        "      <td>  1235</td>\n",
        "      <td> 3</td>\n",
        "      <td> 3</td>\n",
        "      <td>  123</td>\n",
        "    </tr>\n",
        "    <tr>\n",
        "      <th>22  </th>\n",
        "      <td>  2751</td>\n",
        "      <td> 3</td>\n",
        "      <td> 4</td>\n",
        "      <td>  230</td>\n",
        "    </tr>\n",
        "    <tr>\n",
        "      <th>23  </th>\n",
        "      <td>  5601</td>\n",
        "      <td> 4</td>\n",
        "      <td> 4</td>\n",
        "      <td>  230</td>\n",
        "    </tr>\n",
        "    <tr>\n",
        "      <th>24  </th>\n",
        "      <td>  1907</td>\n",
        "      <td> 3</td>\n",
        "      <td> 4</td>\n",
        "      <td>  230</td>\n",
        "    </tr>\n",
        "    <tr>\n",
        "      <th>25  </th>\n",
        "      <td>  3842</td>\n",
        "      <td> 3</td>\n",
        "      <td> 4</td>\n",
        "      <td>  230</td>\n",
        "    </tr>\n",
        "    <tr>\n",
        "      <th>26  </th>\n",
        "      <td>  1699</td>\n",
        "      <td> 3</td>\n",
        "      <td> 4</td>\n",
        "      <td>  230</td>\n",
        "    </tr>\n",
        "    <tr>\n",
        "      <th>27  </th>\n",
        "      <td>  7619</td>\n",
        "      <td> 3</td>\n",
        "      <td> 4</td>\n",
        "      <td>  230</td>\n",
        "    </tr>\n",
        "    <tr>\n",
        "      <th>28  </th>\n",
        "      <td> 23528</td>\n",
        "      <td> 4</td>\n",
        "      <td> 4</td>\n",
        "      <td>  230</td>\n",
        "    </tr>\n",
        "    <tr>\n",
        "      <th>29  </th>\n",
        "      <td> 21712</td>\n",
        "      <td> 4</td>\n",
        "      <td> 4</td>\n",
        "      <td>  230</td>\n",
        "    </tr>\n",
        "    <tr>\n",
        "      <th>...</th>\n",
        "      <td>...</td>\n",
        "      <td>...</td>\n",
        "      <td>...</td>\n",
        "      <td>...</td>\n",
        "    </tr>\n",
        "    <tr>\n",
        "      <th>1730</th>\n",
        "      <td>  8230</td>\n",
        "      <td> 3</td>\n",
        "      <td> 3</td>\n",
        "      <td> 6024</td>\n",
        "    </tr>\n",
        "    <tr>\n",
        "      <th>1731</th>\n",
        "      <td> 75387</td>\n",
        "      <td> 3</td>\n",
        "      <td> 3</td>\n",
        "      <td> 6024</td>\n",
        "    </tr>\n",
        "    <tr>\n",
        "      <th>1732</th>\n",
        "      <td> 56380</td>\n",
        "      <td> 3</td>\n",
        "      <td> 3</td>\n",
        "      <td> 6024</td>\n",
        "    </tr>\n",
        "    <tr>\n",
        "      <th>1733</th>\n",
        "      <td>  6314</td>\n",
        "      <td> 3</td>\n",
        "      <td> 3</td>\n",
        "      <td> 6024</td>\n",
        "    </tr>\n",
        "    <tr>\n",
        "      <th>1734</th>\n",
        "      <td>  4743</td>\n",
        "      <td> 3</td>\n",
        "      <td> 3</td>\n",
        "      <td> 6024</td>\n",
        "    </tr>\n",
        "    <tr>\n",
        "      <th>1735</th>\n",
        "      <td> 11178</td>\n",
        "      <td> 3</td>\n",
        "      <td> 2</td>\n",
        "      <td> 6024</td>\n",
        "    </tr>\n",
        "    <tr>\n",
        "      <th>1736</th>\n",
        "      <td>  8251</td>\n",
        "      <td> 3</td>\n",
        "      <td> 4</td>\n",
        "      <td> 6629</td>\n",
        "    </tr>\n",
        "    <tr>\n",
        "      <th>1737</th>\n",
        "      <td> 95168</td>\n",
        "      <td> 3</td>\n",
        "      <td> 4</td>\n",
        "      <td> 6629</td>\n",
        "    </tr>\n",
        "    <tr>\n",
        "      <th>1738</th>\n",
        "      <td> 12826</td>\n",
        "      <td> 3</td>\n",
        "      <td> 4</td>\n",
        "      <td> 6629</td>\n",
        "    </tr>\n",
        "    <tr>\n",
        "      <th>1739</th>\n",
        "      <td>  2160</td>\n",
        "      <td> 3</td>\n",
        "      <td> 4</td>\n",
        "      <td> 6629</td>\n",
        "    </tr>\n",
        "    <tr>\n",
        "      <th>1740</th>\n",
        "      <td> 20058</td>\n",
        "      <td> 3</td>\n",
        "      <td> 4</td>\n",
        "      <td> 6629</td>\n",
        "    </tr>\n",
        "    <tr>\n",
        "      <th>1741</th>\n",
        "      <td> 49646</td>\n",
        "      <td> 3</td>\n",
        "      <td> 3</td>\n",
        "      <td> 6629</td>\n",
        "    </tr>\n",
        "    <tr>\n",
        "      <th>1742</th>\n",
        "      <td> 59232</td>\n",
        "      <td> 3</td>\n",
        "      <td> 3</td>\n",
        "      <td> 6629</td>\n",
        "    </tr>\n",
        "    <tr>\n",
        "      <th>1743</th>\n",
        "      <td>  9486</td>\n",
        "      <td> 3</td>\n",
        "      <td> 3</td>\n",
        "      <td> 6629</td>\n",
        "    </tr>\n",
        "    <tr>\n",
        "      <th>1744</th>\n",
        "      <td>  2145</td>\n",
        "      <td> 3</td>\n",
        "      <td> 3</td>\n",
        "      <td> 6629</td>\n",
        "    </tr>\n",
        "    <tr>\n",
        "      <th>1745</th>\n",
        "      <td> 56917</td>\n",
        "      <td> 4</td>\n",
        "      <td> 3</td>\n",
        "      <td> 6629</td>\n",
        "    </tr>\n",
        "    <tr>\n",
        "      <th>1746</th>\n",
        "      <td>  4018</td>\n",
        "      <td> 4</td>\n",
        "      <td> 3</td>\n",
        "      <td> 6629</td>\n",
        "    </tr>\n",
        "    <tr>\n",
        "      <th>1747</th>\n",
        "      <td>  2662</td>\n",
        "      <td> 3</td>\n",
        "      <td> 3</td>\n",
        "      <td> 6629</td>\n",
        "    </tr>\n",
        "    <tr>\n",
        "      <th>1748</th>\n",
        "      <td>  2751</td>\n",
        "      <td> 4</td>\n",
        "      <td> 4</td>\n",
        "      <td> 5324</td>\n",
        "    </tr>\n",
        "    <tr>\n",
        "      <th>1749</th>\n",
        "      <td> 23277</td>\n",
        "      <td> 4</td>\n",
        "      <td> 4</td>\n",
        "      <td> 5324</td>\n",
        "    </tr>\n",
        "    <tr>\n",
        "      <th>1750</th>\n",
        "      <td> 21712</td>\n",
        "      <td> 3</td>\n",
        "      <td> 4</td>\n",
        "      <td> 5324</td>\n",
        "    </tr>\n",
        "    <tr>\n",
        "      <th>1751</th>\n",
        "      <td> 18881</td>\n",
        "      <td> 3</td>\n",
        "      <td> 3</td>\n",
        "      <td> 5324</td>\n",
        "    </tr>\n",
        "    <tr>\n",
        "      <th>1752</th>\n",
        "      <td> 13862</td>\n",
        "      <td> 3</td>\n",
        "      <td> 3</td>\n",
        "      <td> 5324</td>\n",
        "    </tr>\n",
        "    <tr>\n",
        "      <th>1753</th>\n",
        "      <td>  2158</td>\n",
        "      <td> 3</td>\n",
        "      <td> 3</td>\n",
        "      <td> 5324</td>\n",
        "    </tr>\n",
        "    <tr>\n",
        "      <th>1754</th>\n",
        "      <td> 23268</td>\n",
        "      <td> 3</td>\n",
        "      <td> 3</td>\n",
        "      <td> 5324</td>\n",
        "    </tr>\n",
        "    <tr>\n",
        "      <th>1755</th>\n",
        "      <td>  3830</td>\n",
        "      <td> 4</td>\n",
        "      <td> 3</td>\n",
        "      <td> 5324</td>\n",
        "    </tr>\n",
        "    <tr>\n",
        "      <th>1756</th>\n",
        "      <td>  4941</td>\n",
        "      <td> 2</td>\n",
        "      <td> 3</td>\n",
        "      <td> 5324</td>\n",
        "    </tr>\n",
        "    <tr>\n",
        "      <th>1757</th>\n",
        "      <td> 21000</td>\n",
        "      <td> 3</td>\n",
        "      <td> 2</td>\n",
        "      <td> 5324</td>\n",
        "    </tr>\n",
        "    <tr>\n",
        "      <th>1758</th>\n",
        "      <td>  2160</td>\n",
        "      <td> 3</td>\n",
        "      <td> 2</td>\n",
        "      <td> 5324</td>\n",
        "    </tr>\n",
        "    <tr>\n",
        "      <th>1759</th>\n",
        "      <td>  4734</td>\n",
        "      <td> 3</td>\n",
        "      <td> 2</td>\n",
        "      <td> 5324</td>\n",
        "    </tr>\n",
        "  </tbody>\n",
        "</table>\n",
        "<p>1760 rows \u00d7 4 columns</p>\n",
        "</div>"
       ],
       "metadata": {},
       "output_type": "pyout",
       "prompt_number": 48,
       "text": [
        "      climbid  feat_pred  true_rating  user\n",
        "0        1571          3            4   123\n",
        "1       14667          3            3   123\n",
        "2         727          3            3   123\n",
        "3         322          3            3   123\n",
        "4        4876          3            3   123\n",
        "5        1249          3            3   123\n",
        "6        1274          3            3   123\n",
        "7       12003          3            4   123\n",
        "8       15332          3            3   123\n",
        "9       15333          3            3   123\n",
        "10      15342          3            3   123\n",
        "11      15344          3            3   123\n",
        "12        762          3            3   123\n",
        "13       1303          3            3   123\n",
        "14       9109          3            3   123\n",
        "15        855          3            2   123\n",
        "16       1245          3            2   123\n",
        "17       7250          3            2   123\n",
        "18        636          3            3   123\n",
        "19        584          3            3   123\n",
        "20      15529          3            3   123\n",
        "21       1235          3            3   123\n",
        "22       2751          3            4   230\n",
        "23       5601          4            4   230\n",
        "24       1907          3            4   230\n",
        "25       3842          3            4   230\n",
        "26       1699          3            4   230\n",
        "27       7619          3            4   230\n",
        "28      23528          4            4   230\n",
        "29      21712          4            4   230\n",
        "...       ...        ...          ...   ...\n",
        "1730     8230          3            3  6024\n",
        "1731    75387          3            3  6024\n",
        "1732    56380          3            3  6024\n",
        "1733     6314          3            3  6024\n",
        "1734     4743          3            3  6024\n",
        "1735    11178          3            2  6024\n",
        "1736     8251          3            4  6629\n",
        "1737    95168          3            4  6629\n",
        "1738    12826          3            4  6629\n",
        "1739     2160          3            4  6629\n",
        "1740    20058          3            4  6629\n",
        "1741    49646          3            3  6629\n",
        "1742    59232          3            3  6629\n",
        "1743     9486          3            3  6629\n",
        "1744     2145          3            3  6629\n",
        "1745    56917          4            3  6629\n",
        "1746     4018          4            3  6629\n",
        "1747     2662          3            3  6629\n",
        "1748     2751          4            4  5324\n",
        "1749    23277          4            4  5324\n",
        "1750    21712          3            4  5324\n",
        "1751    18881          3            3  5324\n",
        "1752    13862          3            3  5324\n",
        "1753     2158          3            3  5324\n",
        "1754    23268          3            3  5324\n",
        "1755     3830          4            3  5324\n",
        "1756     4941          2            3  5324\n",
        "1757    21000          3            2  5324\n",
        "1758     2160          3            2  5324\n",
        "1759     4734          3            2  5324\n",
        "\n",
        "[1760 rows x 4 columns]"
       ]
      }
     ],
     "prompt_number": 48
    },
    {
     "cell_type": "heading",
     "level": 3,
     "metadata": {},
     "source": [
      "ROC curves"
     ]
    },
    {
     "cell_type": "code",
     "collapsed": false,
     "input": [],
     "language": "python",
     "metadata": {},
     "outputs": []
    },
    {
     "cell_type": "heading",
     "level": 3,
     "metadata": {},
     "source": [
      "Performance as a function of user data"
     ]
    },
    {
     "cell_type": "code",
     "collapsed": false,
     "input": [
      "-no data (avg stars)\n",
      "-user enterd data (reduced space)\n",
      "-5 ratings-100 ratings (performance as a function of N)"
     ],
     "language": "python",
     "metadata": {},
     "outputs": []
    },
    {
     "cell_type": "code",
     "collapsed": false,
     "input": [],
     "language": "python",
     "metadata": {},
     "outputs": []
    },
    {
     "cell_type": "code",
     "collapsed": false,
     "input": [],
     "language": "python",
     "metadata": {},
     "outputs": []
    },
    {
     "cell_type": "code",
     "collapsed": false,
     "input": [
      "from sklearn.metrics import classification_report"
     ],
     "language": "python",
     "metadata": {},
     "outputs": [],
     "prompt_number": 60
    },
    {
     "cell_type": "heading",
     "level": 3,
     "metadata": {},
     "source": [
      "Reduced Space (features available for new users)"
     ]
    },
    {
     "cell_type": "code",
     "collapsed": false,
     "input": [
      "%autoreload\n",
      "name='reduced'\n",
      "clf=mo.classifier('rfc')\n",
      "clf.n_estimators=40\n",
      "cfeatures=reducedfeats\n",
      "sfeatures=['other_avg']\n",
      "print \"classifying using %s features\" %(len(cfeatures)+len(sfeatures))\n",
      "red_ndf=ndf[['climbid']+reducedfeats]\n",
      "red_ndf=pd.merge(red_ndf, like_mat, on='climbid', how='inner')\n",
      "red_ndf.index=red_ndf['climbid'].values\n",
      "red_ndf=red_ndf[red_ndf['climbid'].isin(sdf.climb.unique())]\n",
      "red_ndf=red_ndf.dropna()\n",
      "summarydf, resultsdf, informativefeats=mo.classify(clf,users, sfeatures, cfeatures, red_ndf, usesdf, minratings=10, dropself=True)\n",
      "resultsdict[name]=[summarydf, resultsdf]"
     ],
     "language": "python",
     "metadata": {},
     "outputs": [
      {
       "output_type": "stream",
       "stream": "stdout",
       "text": [
        "classifying using 28 features\n"
       ]
      }
     ],
     "prompt_number": 39
    },
    {
     "cell_type": "code",
     "collapsed": false,
     "input": [
      "print \"classifying with %s\" %name\n",
      "summarydf, resultsdf=resultsdict[name]\n",
      "viz.plotresults(resultsdf, 'true_rating', 'feat_pred')\n",
      "acc, precision, recall, f1=mo.round2score(resultsdf, 'true_rating', 'feat_pred')"
     ],
     "language": "python",
     "metadata": {},
     "outputs": [
      {
       "output_type": "stream",
       "stream": "stdout",
       "text": [
        "classifying with reduced\n"
       ]
      },
      {
       "ename": "KeyError",
       "evalue": "'reduced'",
       "output_type": "pyerr",
       "traceback": [
        "\u001b[0;31m---------------------------------------------------------------------------\u001b[0m\n\u001b[0;31mKeyError\u001b[0m                                  Traceback (most recent call last)",
        "\u001b[0;32m<ipython-input-59-14df748c9181>\u001b[0m in \u001b[0;36m<module>\u001b[0;34m()\u001b[0m\n\u001b[1;32m      1\u001b[0m \u001b[0mname\u001b[0m\u001b[0;34m=\u001b[0m\u001b[0;34m'reduced'\u001b[0m\u001b[0;34m\u001b[0m\u001b[0m\n\u001b[1;32m      2\u001b[0m \u001b[0;32mprint\u001b[0m \u001b[0;34m\"classifying with %s\"\u001b[0m \u001b[0;34m%\u001b[0m\u001b[0mname\u001b[0m\u001b[0;34m\u001b[0m\u001b[0m\n\u001b[0;32m----> 3\u001b[0;31m \u001b[0msummarydf\u001b[0m\u001b[0;34m,\u001b[0m \u001b[0mresultsdf\u001b[0m\u001b[0;34m=\u001b[0m\u001b[0mresultsdict\u001b[0m\u001b[0;34m[\u001b[0m\u001b[0mname\u001b[0m\u001b[0;34m]\u001b[0m\u001b[0;34m\u001b[0m\u001b[0m\n\u001b[0m\u001b[1;32m      4\u001b[0m \u001b[0mviz\u001b[0m\u001b[0;34m.\u001b[0m\u001b[0mplotresults\u001b[0m\u001b[0;34m(\u001b[0m\u001b[0mresultsdf\u001b[0m\u001b[0;34m,\u001b[0m \u001b[0;34m'true_rating'\u001b[0m\u001b[0;34m,\u001b[0m \u001b[0;34m'feat_pred'\u001b[0m\u001b[0;34m)\u001b[0m\u001b[0;34m\u001b[0m\u001b[0m\n\u001b[1;32m      5\u001b[0m \u001b[0macc\u001b[0m\u001b[0;34m,\u001b[0m \u001b[0mprecision\u001b[0m\u001b[0;34m,\u001b[0m \u001b[0mrecall\u001b[0m\u001b[0;34m,\u001b[0m \u001b[0mf1\u001b[0m\u001b[0;34m=\u001b[0m\u001b[0mmo\u001b[0m\u001b[0;34m.\u001b[0m\u001b[0mround2score\u001b[0m\u001b[0;34m(\u001b[0m\u001b[0mresultsdf\u001b[0m\u001b[0;34m,\u001b[0m \u001b[0;34m'true_rating'\u001b[0m\u001b[0;34m,\u001b[0m \u001b[0;34m'feat_pred'\u001b[0m\u001b[0;34m)\u001b[0m\u001b[0;34m\u001b[0m\u001b[0m\n",
        "\u001b[0;31mKeyError\u001b[0m: 'reduced'"
       ]
      }
     ],
     "prompt_number": 59
    },
    {
     "cell_type": "heading",
     "level": 3,
     "metadata": {},
     "source": [
      "Use final model to create feature space for training models on new users"
     ]
    },
    {
     "cell_type": "code",
     "collapsed": false,
     "input": [
      "newuserfeats=['avgstars']+reducedfeats\n",
      "%autoreload\n",
      "featdf=nmo.makefeatdf(cdf, newuserfeats)\n",
      "samplesdf=nmo.makesampleclimbs(newuserfeats, featdf)\n",
      "engine = create_engine('mysql://%s@%s/%s?charset=%s&use_unicode=%s&passwd=%s' %(cfg.user, cfg.host, cfg.dbname, cfg.charset, cfg.use_unicode, cfg.passwd), pool_recycle=3600)\n",
      "samplesdf.to_sql('fakesamples', engine, if_exists='replace', chunksize=1000)\n",
      "featdf.to_sql('featranges', engine, if_exists='replace', chunksize=1000)"
     ],
     "language": "python",
     "metadata": {},
     "outputs": [],
     "prompt_number": 41
    },
    {
     "cell_type": "code",
     "collapsed": false,
     "input": [
      "### for setting this up\n",
      "#make up a user whos preferences I've acquired\n",
      "userdf=pd.DataFrame(data={'feature':newuserfeats})\n",
      "userdf['user']=[5 for el in range(len(userdf))]\n",
      "userdf['pref']=[np.random.choice([1,2,3,4]) for el in range(len(userdf))]\n",
      "userdf.loc[userdf['feature']=='avgstars', 'pred']=4"
     ],
     "language": "python",
     "metadata": {},
     "outputs": [],
     "prompt_number": 31
    },
    {
     "cell_type": "code",
     "collapsed": false,
     "input": [
      "list(final_ndf.columns)"
     ],
     "language": "python",
     "metadata": {},
     "outputs": [
      {
       "metadata": {},
       "output_type": "pyout",
       "prompt_number": 54,
       "text": [
        "[u'climbid',\n",
        " u'ledge_description',\n",
        " u'ledge_commentsmerged',\n",
        " u'pageviews',\n",
        " u'corner_description',\n",
        " u'corner_commentsmerged',\n",
        " u'crux_description',\n",
        " u'crux_commentsmerged',\n",
        " u'traverse_description',\n",
        " u'traverse_commentsmerged',\n",
        " u'thin_description',\n",
        " u'thin_commentsmerged',\n",
        " u'hard_description',\n",
        " u'hard_commentsmerged',\n",
        " u'easy_description',\n",
        " u'easy_commentsmerged',\n",
        " u'slab_description',\n",
        " u'slab_commentsmerged',\n",
        " u'numerizedgrade',\n",
        " u'crack_description',\n",
        " u'crack_commentsmerged',\n",
        " u'steep_description',\n",
        " u'steep_commentsmerged',\n",
        " u'pitch',\n",
        " u'flake_description',\n",
        " u'flake_commentsmerged',\n",
        " u'arete_description',\n",
        " u'arete_commentsmerged',\n",
        " u'36.0',\n",
        " u'123.0',\n",
        " u'230.0',\n",
        " u'231.0',\n",
        " u'337.0',\n",
        " u'441.0',\n",
        " u'543.0',\n",
        " u'621.0',\n",
        " u'635.0',\n",
        " u'740.0',\n",
        " u'381.0',\n",
        " u'850.0',\n",
        " u'921.0',\n",
        " u'927.0',\n",
        " u'930.0',\n",
        " u'1048.0',\n",
        " u'1171.0',\n",
        " u'1226.0',\n",
        " u'1251.0',\n",
        " u'929.0',\n",
        " u'1447.0',\n",
        " u'527.0',\n",
        " u'1678.0',\n",
        " u'1793.0',\n",
        " u'1804.0',\n",
        " u'1873.0',\n",
        " u'966.0',\n",
        " u'2211.0',\n",
        " u'2212.0',\n",
        " u'2331.0',\n",
        " u'2424.0',\n",
        " u'2435.0',\n",
        " u'2474.0',\n",
        " u'1047.0',\n",
        " u'2611.0',\n",
        " u'2610.0',\n",
        " u'2659.0',\n",
        " u'2730.0',\n",
        " u'2768.0',\n",
        " u'2769.0',\n",
        " u'2797.0',\n",
        " u'2216.0',\n",
        " u'2973.0',\n",
        " u'2978.0',\n",
        " u'3003.0',\n",
        " u'3006.0',\n",
        " u'1856.0',\n",
        " u'3090.0',\n",
        " u'1563.0',\n",
        " u'3164.0',\n",
        " u'3172.0',\n",
        " u'3185.0',\n",
        " u'3261.0',\n",
        " u'1367.0',\n",
        " u'3285.0',\n",
        " u'3299.0',\n",
        " u'3357.0',\n",
        " u'3360.0',\n",
        " u'3403.0',\n",
        " u'3469.0',\n",
        " u'3477.0',\n",
        " u'3487.0',\n",
        " u'3492.0',\n",
        " u'3837.0',\n",
        " u'3126.0',\n",
        " u'4134.0',\n",
        " u'4222.0',\n",
        " u'4509.0',\n",
        " u'4522.0',\n",
        " u'4623.0',\n",
        " u'4811.0',\n",
        " u'4932.0',\n",
        " u'4933.0',\n",
        " u'4941.0',\n",
        " u'1740.0',\n",
        " u'5344.0',\n",
        " u'5485.0',\n",
        " u'5469.0',\n",
        " u'5507.0',\n",
        " u'1221.0',\n",
        " u'5617.0',\n",
        " u'5623.0',\n",
        " u'5781.0',\n",
        " u'5972.0',\n",
        " u'6024.0',\n",
        " u'6051.0',\n",
        " u'6082.0',\n",
        " u'6122.0',\n",
        " u'6124.0',\n",
        " u'6420.0',\n",
        " u'6529.0',\n",
        " u'6629.0',\n",
        " u'5324.0',\n",
        " u'7449.0',\n",
        " u'7782.0',\n",
        " u'7936.0',\n",
        " u'7955.0',\n",
        " u'7451.0',\n",
        " u'8189.0',\n",
        " u'8515.0',\n",
        " u'8564.0',\n",
        " u'3851.0',\n",
        " u'8694.0',\n",
        " u'8728.0',\n",
        " u'8835.0',\n",
        " u'avgstars']"
       ]
      }
     ],
     "prompt_number": 54
    },
    {
     "cell_type": "heading",
     "level": 3,
     "metadata": {},
     "source": [
      "Create final climb x feature vector"
     ]
    },
    {
     "cell_type": "code",
     "collapsed": false,
     "input": [
      "#for final set of features, get all climbs that can be scored on those features (note, we can include all data here, so averages including the target are fine....)"
     ],
     "language": "python",
     "metadata": {},
     "outputs": [],
     "prompt_number": 32
    },
    {
     "cell_type": "code",
     "collapsed": false,
     "input": [
      "allfeats=['avgstars']+allfeats+list(like_mat.columns)\n",
      "redfeats=['avgstars']+reducedfeats\n",
      "final_ndf=full_ndf.join(cdf[['avgstars']], how='left')"
     ],
     "language": "python",
     "metadata": {},
     "outputs": [],
     "prompt_number": 61
    },
    {
     "cell_type": "code",
     "collapsed": false,
     "input": [
      "final_X=final_ndf[['climbid']+allfeats]\n",
      "final_X_red=final_ndf[['climbid']+redfeats]\n",
      "final_X=final_X.rename(columns={'avgstars':'other_avg'})\n",
      "final_X_red=final_X_red.rename(columns={'avgstars':'other_avg'})"
     ],
     "language": "python",
     "metadata": {},
     "outputs": [],
     "prompt_number": 62
    },
    {
     "cell_type": "code",
     "collapsed": false,
     "input": [
      "chunksize=1000\n",
      "engine = create_engine('mysql://%s@%s/%s?charset=%s&use_unicode=%s&passwd=%s' %(cfg.user, cfg.host, cfg.dbname, cfg.charset, cfg.use_unicode, cfg.passwd), pool_recycle=3600)\n",
      "final_X.to_sql('final_X_matrix', engine, if_exists='replace', chunksize=chunksize)"
     ],
     "language": "python",
     "metadata": {},
     "outputs": [],
     "prompt_number": 63
    },
    {
     "cell_type": "code",
     "collapsed": false,
     "input": [
      "chunksize=1000\n",
      "engine = create_engine('mysql://%s@%s/%s?charset=%s&use_unicode=%s&passwd=%s' %(cfg.user, cfg.host, cfg.dbname, cfg.charset, cfg.use_unicode, cfg.passwd), pool_recycle=3600)\n",
      "final_X_red.to_sql('final_X_matrix_red', engine, if_exists='replace', chunksize=chunksize)"
     ],
     "language": "python",
     "metadata": {},
     "outputs": [],
     "prompt_number": 64
    },
    {
     "cell_type": "heading",
     "level": 3,
     "metadata": {},
     "source": [
      "Confirm optimal n_estimators parameter"
     ]
    },
    {
     "cell_type": "code",
     "collapsed": false,
     "input": [
      "poss_n=range(1,100,5)\n",
      "results=[]\n",
      "for n in poss_n:\n",
      "    clf=mo.classifier('rfc')\n",
      "    clf.n_estimators=n\n",
      "    name='combined_rfc_n_est_%s' %(n)\n",
      "    summarydf, resultsdf, emptyfeats=mo.classify(clf,users, sfeatures, cfeatures, full_ndf, usesdf, minratings=minratings, dropself=True)\n",
      "    resultsdict[name]=[summarydf, resultsdf]\n",
      "    results.append(summarydf['score'].mean())"
     ],
     "language": "python",
     "metadata": {},
     "outputs": [],
     "prompt_number": 257
    },
    {
     "cell_type": "code",
     "collapsed": false,
     "input": [],
     "language": "python",
     "metadata": {},
     "outputs": [],
     "prompt_number": 257
    },
    {
     "cell_type": "code",
     "collapsed": false,
     "input": [],
     "language": "python",
     "metadata": {},
     "outputs": [],
     "prompt_number": 257
    },
    {
     "cell_type": "code",
     "collapsed": false,
     "input": [],
     "language": "python",
     "metadata": {},
     "outputs": [],
     "prompt_number": 257
    },
    {
     "cell_type": "code",
     "collapsed": false,
     "input": [],
     "language": "python",
     "metadata": {},
     "outputs": [],
     "prompt_number": 257
    },
    {
     "cell_type": "code",
     "collapsed": false,
     "input": [],
     "language": "python",
     "metadata": {},
     "outputs": [],
     "prompt_number": 257
    },
    {
     "cell_type": "code",
     "collapsed": false,
     "input": [],
     "language": "python",
     "metadata": {},
     "outputs": [],
     "prompt_number": 257
    },
    {
     "cell_type": "code",
     "collapsed": false,
     "input": [],
     "language": "python",
     "metadata": {},
     "outputs": [],
     "prompt_number": 257
    },
    {
     "cell_type": "code",
     "collapsed": false,
     "input": [],
     "language": "python",
     "metadata": {},
     "outputs": []
    }
   ],
   "metadata": {}
  }
 ]
}