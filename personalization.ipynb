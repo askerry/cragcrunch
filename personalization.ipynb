{
 "metadata": {
  "name": "",
  "signature": "sha256:aaad34f6f611551841a4903288595aae3fc86f7f04a8a684e7de6a705bff3ab5"
 },
 "nbformat": 3,
 "nbformat_minor": 0,
 "worksheets": [
  {
   "cells": [
    {
     "cell_type": "code",
     "collapsed": false,
     "input": [
      "pylab inline"
     ],
     "language": "python",
     "metadata": {},
     "outputs": [
      {
       "output_type": "stream",
       "stream": "stdout",
       "text": [
        "Populating the interactive namespace from numpy and matplotlib\n"
       ]
      }
     ],
     "prompt_number": 1
    },
    {
     "cell_type": "code",
     "collapsed": false,
     "input": [
      "import pandas as pd\n",
      "import numpy as np\n",
      "np.random.RandomState(100)\n",
      "from sqlalchemy import create_engine\n",
      "import os\n",
      "import sys\n",
      "\n",
      "from joblib import Parallel, delayed  \n",
      "import multiprocessing\n",
      "num_cores = multiprocessing.cpu_count()\n",
      "print \"%s cores available for parallel processing\" % num_cores\n",
      "\n",
      "sys.path.append('mpscraper')\n",
      "from mpscraper.cfgdb import cfg\n",
      "import seaborn as sns\n",
      "sns.set_style('white')\n",
      "import matplotlib.pyplot as plt\n",
      "from sklearn.metrics.pairwise import pairwise_distances"
     ],
     "language": "python",
     "metadata": {},
     "outputs": [
      {
       "output_type": "stream",
       "stream": "stdout",
       "text": [
        "4 cores available for parallel processing\n"
       ]
      }
     ],
     "prompt_number": 2
    },
    {
     "cell_type": "code",
     "collapsed": false,
     "input": [
      "import sys, os\n",
      "rootdir=os.getcwd()\n",
      "while 'Projects' in rootdir:\n",
      "    rootdir=os.path.dirname(rootdir)\n",
      "projdir=os.path.join(rootdir, 'Projects','cragcrunch','data')"
     ],
     "language": "python",
     "metadata": {},
     "outputs": []
    },
    {
     "cell_type": "code",
     "collapsed": false,
     "input": [
      "#load in preprocessed data\n",
      "engine = create_engine('mysql://%s@%s/%s?charset=%s&use_unicode=%s&passwd=%s' %(cfg.user, cfg.host, cfg.dbname, cfg.charset, cfg.use_unicode, cfg.passwd), pool_recycle=3600)\n",
      "cdf = pd.read_sql(\"SELECT * from climb_prepped where region = 'California'\", engine, index_col='index')\n",
      "adf = pd.read_sql(\"SELECT * from area_prepped where region = 'California'\", engine, index_col='index')\n",
      "climbs=list(cdf.climbid.unique())\n",
      "udf = pd.read_sql(\"SELECT * from climber_prepped\", engine, index_col='index')\n",
      "hdf= pd.read_sql(\"SELECT * from hits_prepped\", engine, index_col='index')\n",
      "sdf= pd.read_sql(\"SELECT * from stars_prepped\", engine, index_col='index')\n",
      "gdf= pd.read_sql(\"SELECT * from grades_prepped\", engine, index_col='index')"
     ],
     "language": "python",
     "metadata": {},
     "outputs": [],
     "prompt_number": 3
    },
    {
     "cell_type": "code",
     "collapsed": false,
     "input": [
      "#to keep the dataset size managable, and focus on climbs that get SOME traffic, we will limit to climbs with at least minthresh climbers reporting on them\n",
      "minthresh=5\n",
      "i=len(full_areadf)\n",
      "j=len(full_climbdf)\n",
      "full_hitsdf, full_stardf, full_commentdf, full_gradedf, full_tickdf=red.limit2popular(full_hitsdf,full_climbdf, full_stardf, full_commentdf, full_gradedf, full_tickdf, minthresh=minthresh)\n",
      "print \"dropped to climbs with > %s hits\" %(minthresh)\n",
      "print \"starting with %s, reducing to %s\" %(i, len(full_areadf))\n",
      "print \"starting with %s, reducing to %s\" %(j, len(full_climbdf))"
     ],
     "language": "python",
     "metadata": {},
     "outputs": []
    },
    {
     "cell_type": "code",
     "collapsed": false,
     "input": [
      "#take testp% of climbs and put aside all entries relating to that climb as test data\n",
      "testp=0.05\n",
      "\n",
      "testids=np.random.choice(popclimbdf.index.values,int(len(popclimbdf)*testp))\n",
      "util.pickletheseobjects(os.path.join(rootdir, 'data', 'testids.pkl'),[testids])\n",
      "testclimbdf,climbdf=popclimbdf.loc[testids,:].copy(), popclimbdf.drop(testids)\n",
      "testtickdf,tickdf=util.splittraintest(full_tickdf, testids)\n",
      "testcommentdf,commentdf=util.splittraintest(full_commentdf, testids)\n",
      "testgradedf,gradedf=util.splittraintest(full_gradedf, testids)\n",
      "teststardf,stardf=util.splittraintest(full_stardf, testids)\n",
      "testtododf,tododf=util.splittraintest(full_tododf, testids)\n",
      "testhitsdf,hitsdf=util.splittraintest(full_hitsdf, testids)\n",
      "areadf=full_areadf\n",
      "climberdf=full_climberdf\n",
      "print \"putting aside %s of %s climbs for a final validation test\" %(len(testids), len(popclimbdf))\n",
      "if dropfulls:\n",
      "    del full_areadf;del full_climberdf;del full_tickdf;del full_commentdf;del full_gradedf;del full_stardf;del full_tododf;del full_hitsdf;"
     ],
     "language": "python",
     "metadata": {},
     "outputs": []
    },
    {
     "cell_type": "code",
     "collapsed": false,
     "input": [
      "sdf.head()"
     ],
     "language": "python",
     "metadata": {},
     "outputs": [
      {
       "html": [
        "<div style=\"max-height:1000px;max-width:1500px;overflow:auto;\">\n",
        "<table border=\"1\" class=\"dataframe\">\n",
        "  <thead>\n",
        "    <tr style=\"text-align: right;\">\n",
        "      <th></th>\n",
        "      <th>starid</th>\n",
        "      <th>starsscore</th>\n",
        "      <th>climb</th>\n",
        "      <th>climblink</th>\n",
        "      <th>climber</th>\n",
        "      <th>url</th>\n",
        "      <th>name</th>\n",
        "      <th>urlname</th>\n",
        "      <th>relative_star</th>\n",
        "    </tr>\n",
        "    <tr>\n",
        "      <th>index</th>\n",
        "      <th></th>\n",
        "      <th></th>\n",
        "      <th></th>\n",
        "      <th></th>\n",
        "      <th></th>\n",
        "      <th></th>\n",
        "      <th></th>\n",
        "      <th></th>\n",
        "      <th></th>\n",
        "    </tr>\n",
        "  </thead>\n",
        "  <tbody>\n",
        "    <tr>\n",
        "      <th>3</th>\n",
        "      <td> 3</td>\n",
        "      <td> 4</td>\n",
        "      <td> 172</td>\n",
        "      <td>   mountainproject.com/v/the-groove-tube/109584799</td>\n",
        "      <td> 7</td>\n",
        "      <td> mountainproject.com/u/ian-altman//105883958?ac...</td>\n",
        "      <td>   ian altman_The Groove Tube</td>\n",
        "      <td> ian-altman</td>\n",
        "      <td> 0.0</td>\n",
        "    </tr>\n",
        "    <tr>\n",
        "      <th>4</th>\n",
        "      <td> 4</td>\n",
        "      <td> 4</td>\n",
        "      <td> 173</td>\n",
        "      <td>      mountainproject.com/v/rizlas-crack/109591582</td>\n",
        "      <td> 7</td>\n",
        "      <td> mountainproject.com/u/ian-altman//105883958?ac...</td>\n",
        "      <td>     ian altman_Rizla's Crack</td>\n",
        "      <td> ian-altman</td>\n",
        "      <td> 0.0</td>\n",
        "    </tr>\n",
        "    <tr>\n",
        "      <th>6</th>\n",
        "      <td> 6</td>\n",
        "      <td> 3</td>\n",
        "      <td> 177</td>\n",
        "      <td>        mountainproject.com/v/lemon-peel/109226786</td>\n",
        "      <td> 7</td>\n",
        "      <td> mountainproject.com/u/ian-altman//105883958?ac...</td>\n",
        "      <td>        ian altman_Lemon Peel</td>\n",
        "      <td> ian-altman</td>\n",
        "      <td> 0.4</td>\n",
        "    </tr>\n",
        "    <tr>\n",
        "      <th>8</th>\n",
        "      <td> 8</td>\n",
        "      <td> 3</td>\n",
        "      <td> 178</td>\n",
        "      <td>          mountainproject.com/v/air-time/109583726</td>\n",
        "      <td> 7</td>\n",
        "      <td> mountainproject.com/u/ian-altman//105883958?ac...</td>\n",
        "      <td>          ian altman_Air Time</td>\n",
        "      <td> ian-altman</td>\n",
        "      <td> 0.5</td>\n",
        "    </tr>\n",
        "    <tr>\n",
        "      <th>9</th>\n",
        "      <td> 9</td>\n",
        "      <td> 2</td>\n",
        "      <td> 179</td>\n",
        "      <td> mountainproject.com/v/lunch-box-special-/10959...</td>\n",
        "      <td> 7</td>\n",
        "      <td> mountainproject.com/u/ian-altman//105883958?ac...</td>\n",
        "      <td> ian altman_Lunch Box Special</td>\n",
        "      <td> ian-altman</td>\n",
        "      <td> 0.0</td>\n",
        "    </tr>\n",
        "  </tbody>\n",
        "</table>\n",
        "</div>"
       ],
       "metadata": {},
       "output_type": "pyout",
       "prompt_number": 5,
       "text": [
        "       starid  starsscore  climb  \\\n",
        "index                              \n",
        "3           3           4    172   \n",
        "4           4           4    173   \n",
        "6           6           3    177   \n",
        "8           8           3    178   \n",
        "9           9           2    179   \n",
        "\n",
        "                                               climblink  climber  \\\n",
        "index                                                               \n",
        "3        mountainproject.com/v/the-groove-tube/109584799        7   \n",
        "4           mountainproject.com/v/rizlas-crack/109591582        7   \n",
        "6             mountainproject.com/v/lemon-peel/109226786        7   \n",
        "8               mountainproject.com/v/air-time/109583726        7   \n",
        "9      mountainproject.com/v/lunch-box-special-/10959...        7   \n",
        "\n",
        "                                                     url  \\\n",
        "index                                                      \n",
        "3      mountainproject.com/u/ian-altman//105883958?ac...   \n",
        "4      mountainproject.com/u/ian-altman//105883958?ac...   \n",
        "6      mountainproject.com/u/ian-altman//105883958?ac...   \n",
        "8      mountainproject.com/u/ian-altman//105883958?ac...   \n",
        "9      mountainproject.com/u/ian-altman//105883958?ac...   \n",
        "\n",
        "                               name     urlname  relative_star  \n",
        "index                                                           \n",
        "3        ian altman_The Groove Tube  ian-altman            0.0  \n",
        "4          ian altman_Rizla's Crack  ian-altman            0.0  \n",
        "6             ian altman_Lemon Peel  ian-altman            0.4  \n",
        "8               ian altman_Air Time  ian-altman            0.5  \n",
        "9      ian altman_Lunch Box Special  ian-altman            0.0  "
       ]
      }
     ],
     "prompt_number": 5
    },
    {
     "cell_type": "code",
     "collapsed": false,
     "input": [
      "f,ax=plt.subplots(figsize=[8,4])\n",
      "x=cdf.groupby('numgrade').climbid.count()\n",
      "grades=['5.0', '5.1', '5.2', '5.3', '5.4', '5.5', '5.6', '5.7', '5.8', '5.9','5.10', '5.11','5.12', '5.13', '5.14']\n",
      "x[grades].plot(kind='bar', ax=ax, grid=False)\n",
      "ax.set_xlabel('grade')\n",
      "ax.set_ylabel('frequency')\n",
      "sns.despine()"
     ],
     "language": "python",
     "metadata": {},
     "outputs": [
      {
       "metadata": {},
       "output_type": "display_data",
       "png": "[encoded data removed]",
       "text": [
        "<matplotlib.figure.Figure at 0x116fa2a10>"
       ]
      }
     ],
     "prompt_number": 29
    },
    {
     "cell_type": "code",
     "collapsed": false,
     "input": [
      "f,ax=plt.subplots()\n",
      "pcdf=cdf[~(cdf['avgstars']<1)]\n",
      "pcdf.avgstars.hist(bins=20, ax=ax, grid=False)\n",
      "sns.despine()\n",
      "ax.set_ylabel('frequency')\n",
      "ax.set_xlabel('avg star rating')\n"
     ],
     "language": "python",
     "metadata": {},
     "outputs": [
      {
       "metadata": {},
       "output_type": "pyout",
       "prompt_number": 54,
       "text": [
        "<matplotlib.text.Text at 0x12988fc90>"
       ]
      },
      {
       "metadata": {},
       "output_type": "display_data",
       "png": "[encoded data removed]",
       "text": [
        "<matplotlib.figure.Figure at 0x129879450>"
       ]
      }
     ],
     "prompt_number": 54
    },
    {
     "cell_type": "code",
     "collapsed": false,
     "input": [
      "f,ax=plt.subplots()\n",
      "means=sdf.groupby('climb')['starsscore'].mean()\n",
      "stds=sdf.groupby('climb')['starsscore'].std()\n",
      "stds.hist(bins=20, grid=False)\n",
      "sns.despine()\n",
      "ax.set_ylabel('frequency')\n",
      "ax.set_xlabel('standard deviation of star rating')\n"
     ],
     "language": "python",
     "metadata": {},
     "outputs": [
      {
       "metadata": {},
       "output_type": "pyout",
       "prompt_number": 53,
       "text": [
        "<matplotlib.text.Text at 0x12ce46290>"
       ]
      },
      {
       "metadata": {},
       "output_type": "display_data",
       "png": "[encoded data removed]",
       "text": [
        "<matplotlib.figure.Figure at 0x1298795d0>"
       ]
      }
     ],
     "prompt_number": 53
    },
    {
     "cell_type": "code",
     "collapsed": false,
     "input": [],
     "language": "python",
     "metadata": {},
     "outputs": []
    }
   ],
   "metadata": {}
  }
 ]
}