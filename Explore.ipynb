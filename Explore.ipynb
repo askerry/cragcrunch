{
 "cells": [
  {
   "cell_type": "code",
   "execution_count": 1,
   "metadata": {
    "collapsed": false
   },
   "outputs": [
    {
     "name": "stdout",
     "output_type": "stream",
     "text": [
      "Populating the interactive namespace from numpy and matplotlib\n"
     ]
    }
   ],
   "source": [
    "pylab inline"
   ]
  },
  {
   "cell_type": "code",
   "execution_count": 2,
   "metadata": {
    "collapsed": true
   },
   "outputs": [],
   "source": [
    "import numpy as np\n",
    "import pandas as pd\n",
    "import matplotlib.pyplot as plt\n",
    "from sqlalchemy import create_engine\n",
    "import sys"
   ]
  },
  {
   "cell_type": "code",
   "execution_count": 3,
   "metadata": {
    "collapsed": false
   },
   "outputs": [],
   "source": [
    "sys.path.append('../cfg')\n",
    "from cfg.database_cfg import cfg"
   ]
  },
  {
   "cell_type": "code",
   "execution_count": 4,
   "metadata": {
    "collapsed": true
   },
   "outputs": [],
   "source": [
    "EDITING=False"
   ]
  },
  {
   "cell_type": "code",
   "execution_count": 31,
   "metadata": {
    "collapsed": true
   },
   "outputs": [],
   "source": [
    "con = create_engine('mysql://%s@%s/%s?charset=%s&use_unicode=%s&passwd=%s' % (cfg.user, cfg.host, cfg.dbname+'_prepped', cfg.charset, cfg.use_unicode, cfg.passwd), pool_recycle=3600)\n",
    "climbdf = pd.read_sql(\"SELECT * from climb_prepped\", con, index_col='index')\n",
    "areadf = pd.read_sql(\"SELECT * from area_prepped\", con, index_col='index')\n",
    "climberdf = pd.read_sql(\"SELECT * from climber_prepped\", con, index_col='index')\n",
    "tickdf = pd.read_sql(\"SELECT * from ticks_prepped\", con, index_col='index')\n",
    "commentdf = pd.read_sql(\"SELECT * from comments_prepped\", con, index_col='index')\n",
    "gradedf = pd.read_sql(\"SELECT * from grades_prepped\", con, index_col='index')\n",
    "stardf = pd.read_sql(\"SELECT * from stars_prepped\", con, index_col='index')\n",
    "hitsdf = pd.read_sql(\"SELECT * from hits_prepped\", con, index_col='index')\n"
   ]
  },
  {
   "cell_type": "code",
   "execution_count": 6,
   "metadata": {
    "collapsed": false
   },
   "outputs": [],
   "source": [
    "def cluster(df, colname, clustertype='kmeans', k=10):\n",
    "    from sklearn.cluster import KMeans, AffinityPropagation\n",
    "    matrix=df[[col for col in df.columns if col != colname]].values\n",
    "    labels=df[colname].values\n",
    "    if clustertype=='affinity':\n",
    "        clf=AffinityPropagation()\n",
    "    elif clustertype==\"kmeans\":\n",
    "        clf=KMeans(n_clusters=k)\n",
    "    clusters=clf.fit_predict(matrix)\n",
    "    return pd.DataFrame(data={colname:labels,'cluster':clusters})"
   ]
  },
  {
   "cell_type": "code",
   "execution_count": 8,
   "metadata": {
    "collapsed": false
   },
   "outputs": [],
   "source": [
    "import json\n",
    "import collections\n",
    "with open('cfg/apriori.json') as f:\n",
    "    apriori=json.loads(f.read())\n",
    "with open('cfg/attributes.json') as f:\n",
    "    attributes=json.loads(f.read(), object_pairs_hook=collections.OrderedDict)\n",
    "    "
   ]
  },
  {
   "cell_type": "code",
   "execution_count": 42,
   "metadata": {
    "collapsed": false
   },
   "outputs": [],
   "source": [
    "climberdf.loc[climberdf['name']=='climber','mainarea']=880"
   ]
  },
  {
   "cell_type": "code",
   "execution_count": 337,
   "metadata": {
    "collapsed": false
   },
   "outputs": [],
   "source": [
    "if EDITING:\n",
    "    with open('cfg/apriori.json', 'wb') as f:\n",
    "        json.dump(apriori, f)\n",
    "    with open('cfg/attributes.json', 'wb') as f:\n",
    "        json.dump(attributes, f)"
   ]
  },
  {
   "cell_type": "code",
   "execution_count": 35,
   "metadata": {
    "collapsed": false
   },
   "outputs": [],
   "source": [
    "if EDITING:\n",
    "    chunksize=1000\n",
    "    areadf.to_sql('area_prepped', con, if_exists='replace', chunksize=chunksize)\n",
    "    climberdf.to_sql('climber_prepped', con,if_exists='replace', chunksize=chunksize)\n",
    "    tickdf.to_sql('ticks_prepped', con, if_exists='replace', chunksize=chunksize)\n",
    "    commentdf.to_sql('comments_prepped', con, if_exists='replace', chunksize=chunksize)\n",
    "    gradedf.to_sql('grades_prepped', con, if_exists='replace', chunksize=chunksize)\n",
    "    stardf.to_sql('stars_prepped', con, if_exists='replace', chunksize=chunksize)\n",
    "    hitsdf.to_sql('hits_prepped', con, if_exists='replace', chunksize=chunksize)\n",
    "    climbdf.to_sql('climb_prepped', con, if_exists='replace', chunksize=chunksize)"
   ]
  },
  {
   "cell_type": "code",
   "execution_count": 43,
   "metadata": {
    "collapsed": true
   },
   "outputs": [],
   "source": [
    "climberdf.to_sql('climber_prepped', con,if_exists='replace', chunksize=chunksize)"
   ]
  },
  {
   "cell_type": "code",
   "execution_count": null,
   "metadata": {
    "collapsed": true
   },
   "outputs": [],
   "source": []
  }
 ],
 "metadata": {
  "kernelspec": {
   "display_name": "Python 2",
   "language": "python",
   "name": "python2"
  },
  "language_info": {
   "codemirror_mode": {
    "name": "ipython",
    "version": 2
   },
   "file_extension": ".py",
   "mimetype": "text/x-python",
   "name": "python",
   "nbconvert_exporter": "python",
   "pygments_lexer": "ipython2",
   "version": "2.7.6"
  }
 },
 "nbformat": 4,
 "nbformat_minor": 0
}
