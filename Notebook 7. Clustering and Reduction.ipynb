{
 "metadata": {
  "name": "",
  "signature": "sha256:5628d9aa1c824eb80f3c5f2ef3bfec24f85c1c1ba4c4f2a3c462426160dcf44a"
 },
 "nbformat": 3,
 "nbformat_minor": 0,
 "worksheets": [
  {
   "cells": [
    {
     "cell_type": "heading",
     "level": 1,
     "metadata": {},
     "source": [
      "Characterize the similarity space of climbs"
     ]
    },
    {
     "cell_type": "markdown",
     "metadata": {},
     "source": [
      "We can't explicitly validate this but we can define similarity using the same set of attributes we use to make individualized predictions. If rating predictions are reliable, this suggests that the feature vectors capture a dimension of similarity that matters to people. Thus, we can use these features to construct a similarity space of climbs and to cluster climbs into different categories."
     ]
    },
    {
     "cell_type": "code",
     "collapsed": false,
     "input": [
      "pylab inline"
     ],
     "language": "python",
     "metadata": {},
     "outputs": [
      {
       "output_type": "stream",
       "stream": "stdout",
       "text": [
        "Populating the interactive namespace from numpy and matplotlib\n"
       ]
      }
     ],
     "prompt_number": 1
    },
    {
     "cell_type": "code",
     "collapsed": false,
     "input": [
      "%load_ext autoreload"
     ],
     "language": "python",
     "metadata": {},
     "outputs": [],
     "prompt_number": 2
    },
    {
     "cell_type": "heading",
     "level": 3,
     "metadata": {},
     "source": [
      "Setup"
     ]
    },
    {
     "cell_type": "code",
     "collapsed": false,
     "input": [
      "import pandas as pd\n",
      "pd.options.mode.chained_assignment = 'warn'  # default='warn', None, 'raise'\n",
      "#pd.options.display.memory_usage = True\n",
      "import numpy as np\n",
      "np.random.RandomState(100)\n",
      "from sqlalchemy import create_engine\n",
      "import os\n",
      "import sys\n",
      "sys.setrecursionlimit(3000)\n",
      "from joblib import Parallel, delayed  \n",
      "import multiprocessing\n",
      "num_cores = multiprocessing.cpu_count()\n",
      "print \"%s cores available for parallel processing\" % num_cores\n",
      "sys.path.append('mpscraper')\n",
      "sys.path.append('antools')\n",
      "import antools.modeling as mo\n",
      "from mpscraper.cfgdb import cfg\n",
      "import seaborn as sns\n",
      "sns.set_style('white')\n",
      "import matplotlib.pyplot as plt\n",
      "from sklearn.metrics.pairwise import pairwise_distances"
     ],
     "language": "python",
     "metadata": {},
     "outputs": [
      {
       "output_type": "stream",
       "stream": "stdout",
       "text": [
        "4 cores available for parallel processing\n"
       ]
      }
     ],
     "prompt_number": 4
    },
    {
     "cell_type": "code",
     "collapsed": false,
     "input": [
      "import sys, os\n",
      "rootdir=os.getcwd()\n",
      "while 'Projects' in rootdir:\n",
      "    rootdir=os.path.dirname(rootdir)\n",
      "projdir=os.path.join(rootdir, 'Projects','cragcrunch','data')"
     ],
     "language": "python",
     "metadata": {},
     "outputs": [],
     "prompt_number": 5
    },
    {
     "cell_type": "code",
     "collapsed": false,
     "input": [
      "#load in preprocessed data\n",
      "engine = create_engine('mysql://%s@%s/%s?charset=%s&use_unicode=%s&passwd=%s' %(cfg.user, cfg.host, cfg.dbname, cfg.charset, cfg.use_unicode, cfg.passwd), pool_recycle=3600)\n",
      "cdf = pd.read_sql(\"SELECT * from climb_prepped where region ='California' or region ='New Hampshire'\", engine, index_col='index')\n",
      "adf = pd.read_sql(\"SELECT * from area_prepped where region = 'California' or region = 'New Hampshire'\", engine, index_col='index')\n",
      "climbs=list(cdf.climbid.unique())\n",
      "udf = pd.read_sql(\"SELECT * from climber_prepped\", engine, index_col='index')\n",
      "hdf= pd.read_sql(\"SELECT * from hits_prepped\", engine, index_col='index')\n",
      "sdf= pd.read_sql(\"SELECT * from stars_prepped\", engine, index_col='index')\n",
      "\n",
      "hdf=hdf.loc[hdf['climb'].isin(climbs)]\n",
      "allclimbs=hdf.climb.unique()\n",
      "allclimbers=hdf.climber.unique()"
     ],
     "language": "python",
     "metadata": {},
     "outputs": [],
     "prompt_number": 129
    },
    {
     "cell_type": "code",
     "collapsed": false,
     "input": [
      "%autoreload"
     ],
     "language": "python",
     "metadata": {},
     "outputs": [],
     "prompt_number": 130
    },
    {
     "cell_type": "heading",
     "level": 3,
     "metadata": {},
     "source": [
      "Make climb similarity matrix using feature vectors from personalization"
     ]
    },
    {
     "cell_type": "code",
     "collapsed": false,
     "input": [
      "load in final climb X matrix"
     ],
     "language": "python",
     "metadata": {},
     "outputs": []
    },
    {
     "cell_type": "code",
     "collapsed": false,
     "input": [],
     "language": "python",
     "metadata": {},
     "outputs": []
    },
    {
     "cell_type": "code",
     "collapsed": false,
     "input": [],
     "language": "python",
     "metadata": {},
     "outputs": []
    },
    {
     "cell_type": "code",
     "collapsed": false,
     "input": [],
     "language": "python",
     "metadata": {},
     "outputs": []
    },
    {
     "cell_type": "heading",
     "level": 3,
     "metadata": {},
     "source": [
      "Define climb matrices"
     ]
    },
    {
     "cell_type": "code",
     "collapsed": false,
     "input": [
      "#climb x climber matrix of hits (interacted with climb vs. not)\n",
      "hitmat=mo.computeinteractionmatrix(allclimbs, allclimbers, hdf)\n",
      "print \"climbs by climber hits\"\n",
      "print hitmat.shape"
     ],
     "language": "python",
     "metadata": {},
     "outputs": [
      {
       "output_type": "stream",
       "stream": "stdout",
       "text": [
        "climbs by climber hits\n",
        "(3138, 366)\n"
       ]
      }
     ],
     "prompt_number": 131
    },
    {
     "cell_type": "code",
     "collapsed": false,
     "input": [
      "#climb x climber matrix of 1-4 ratings\n",
      "starmat=mo.computestarmatrix(allclimbs, allclimbers, sdf) #note, this contains NaNs\n",
      "print \"climbs by climber star ratings\"\n",
      "print starmat.shape"
     ],
     "language": "python",
     "metadata": {},
     "outputs": [
      {
       "output_type": "stream",
       "stream": "stdout",
       "text": [
        "climbs by climber star ratings\n",
        "(2424, 106)\n"
       ]
      }
     ],
     "prompt_number": 132
    },
    {
     "cell_type": "code",
     "collapsed": false,
     "input": [
      "#climb x climber matrix of \"likes\" where \"like\" means rated and gave a 3 or 4\n",
      "likemat=(starmat.values>=3).astype(float)[:,:-1]\n",
      "likemat=pd.DataFrame(data=likemat, columns=starmat.columns[:-1], index=starmat.index)\n",
      "likemat['climbid']=likemat.index.values\n",
      "print \"climbs by climber likes\"\n",
      "print likemat.shape"
     ],
     "language": "python",
     "metadata": {},
     "outputs": [
      {
       "output_type": "stream",
       "stream": "stdout",
       "text": [
        "climbs by climber likes\n",
        "(2424, 106)\n"
       ]
      }
     ],
     "prompt_number": 133
    },
    {
     "cell_type": "code",
     "collapsed": false,
     "input": [
      "# climb x attribute matrix\n",
      "%autoreload\n",
      "descrip_tokens=[c for c in cdf.columns if \"_description\" in c]\n",
      "comment_tokens=[c for c in cdf.columns if \"_comments\" in c]\n",
      "othercols=['pageviews','avgstars','length','numerizedgrade']\n",
      "numericcols=['climbid']+othercols+descrip_tokens+comment_tokens\n",
      "attrmat=mo.computeattributematrix(allclimbs, numericcols, cdf)\n",
      "print \"climbs by climber attributes\"\n",
      "print attrmat.shape"
     ],
     "language": "python",
     "metadata": {},
     "outputs": [
      {
       "output_type": "stream",
       "stream": "stdout",
       "text": [
        "climbs by climber attributes\n",
        "(1750, 165)\n"
       ]
      }
     ],
     "prompt_number": 134
    },
    {
     "cell_type": "code",
     "collapsed": false,
     "input": [
      "#climb by lat,long\n",
      "%autoreload\n",
      "locmat=mo.computelocationmatrix(cdf, adf, allclimbs)\n",
      "print \"climbs by location\"\n",
      "print locmat.shape"
     ],
     "language": "python",
     "metadata": {},
     "outputs": [
      {
       "output_type": "stream",
       "stream": "stdout",
       "text": [
        "climbs by location\n",
        "(3137, 3)\n"
       ]
      }
     ],
     "prompt_number": 135
    },
    {
     "cell_type": "code",
     "collapsed": false,
     "input": [
      "#combine matrix\n",
      "combmat=pd.merge(hitmat,likemat, on='climbid')\n",
      "combmat.index=combmat['climbid'].values\n",
      "print combmat.shape"
     ],
     "language": "python",
     "metadata": {},
     "outputs": [
      {
       "output_type": "stream",
       "stream": "stdout",
       "text": [
        "(2424, 471)\n"
       ]
      }
     ],
     "prompt_number": 136
    },
    {
     "cell_type": "heading",
     "level": 3,
     "metadata": {},
     "source": [
      "Save climb matrices to DB"
     ]
    },
    {
     "cell_type": "code",
     "collapsed": false,
     "input": [
      "chunksize=1000\n",
      "engine = create_engine('mysql://%s@%s/%s?charset=%s&use_unicode=%s&passwd=%s' %(cfg.user, cfg.host, cfg.dbname, cfg.charset, cfg.use_unicode, cfg.passwd), pool_recycle=3600)\n",
      "hitmat.to_sql('hit_matrix', engine, if_exists='replace', chunksize=chunksize)\n",
      "starmat.to_sql('star_matrix', engine, if_exists='replace', chunksize=500)\n",
      "attrmat.to_sql('attr_matrix', engine, if_exists='replace', chunksize=chunksize)\n",
      "likemat.to_sql('like_matrix', engine, if_exists='replace', chunksize=chunksize)\n",
      "locmat.to_sql('loc_matrix', engine, if_exists='replace', chunksize=chunksize)\n",
      "combmat.to_sql('comb_matrix', engine, if_exists='replace', chunksize=chunksize)"
     ],
     "language": "python",
     "metadata": {},
     "outputs": [],
     "prompt_number": 140
    },
    {
     "cell_type": "heading",
     "level": 3,
     "metadata": {},
     "source": [
      "Cluster climb matrix"
     ]
    },
    {
     "cell_type": "code",
     "collapsed": false,
     "input": [
      "testmat=combmat"
     ],
     "language": "python",
     "metadata": {},
     "outputs": [],
     "prompt_number": 138
    },
    {
     "cell_type": "code",
     "collapsed": false,
     "input": [
      "hminicluster=mo.cluster(testmat, 'climbid', clustertype='kmeans', k=10)"
     ],
     "language": "python",
     "metadata": {},
     "outputs": [],
     "prompt_number": 139
    },
    {
     "cell_type": "code",
     "collapsed": false,
     "input": [
      "cdf.loc[hminicluster['climbid'].values,'cluster']=hminicluster['cluster'].values"
     ],
     "language": "python",
     "metadata": {},
     "outputs": [],
     "prompt_number": 119
    },
    {
     "cell_type": "code",
     "collapsed": false,
     "input": [
      "x=cdf[['climbid','name','grade','style','region','cluster','numerizedgrade']]\n",
      "x=x.dropna()"
     ],
     "language": "python",
     "metadata": {},
     "outputs": [],
     "prompt_number": 120
    },
    {
     "cell_type": "code",
     "collapsed": false,
     "input": [
      "#x.sort(columns='cluster')\n",
      "stds=x.groupby('cluster').std().numerizedgrade/np.sqrt(x.groupby('cluster').count().numerizedgrade.values)\n",
      "x.groupby('cluster').std().numerizedgrade.plot(kind='bar',yerr=stds)"
     ],
     "language": "python",
     "metadata": {},
     "outputs": [
      {
       "metadata": {},
       "output_type": "pyout",
       "prompt_number": 121,
       "text": [
        "<matplotlib.axes._subplots.AxesSubplot at 0x10c33ed90>"
       ]
      },
      {
       "metadata": {},
       "output_type": "display_data",
       "png": "[encoded data removed]",
       "text": [
        "<matplotlib.figure.Figure at 0x109bc10d0>"
       ]
      }
     ],
     "prompt_number": 121
    },
    {
     "cell_type": "heading",
     "level": 3,
     "metadata": {},
     "source": [
      "Create similarity matrices"
     ]
    },
    {
     "cell_type": "code",
     "collapsed": false,
     "input": [
      "distance_metric='jaccard'\n",
      "#[\u2018cityblock\u2019, \u2018cosine\u2019, \u2018euclidean\u2019, \u2018l1\u2019, \u2018l2\u2019, \u2018manhattan\u2019]\n",
      "#['jaccard',\u2018braycurtis\u2019, \u2018canberra\u2019, \u2018chebyshev\u2019, \u2018correlation\u2019, \u2018dice\u2019, \u2018hamming\u2019, \u2018jaccard\u2019, \u2018kulsinski\u2019, \u2018mahalanobis\u2019, \u2018matching\u2019, \u2018minkowski\u2019, \u2018rogerstanimoto\u2019, \u2018russellrao\u2019, \u2018seuclidean\u2019, \u2018sokalmichener\u2019, \u2018sokalsneath\u2019, \u2018sqeuclidean\u2019, \u2018yule\u2019]"
     ],
     "language": "python",
     "metadata": {},
     "outputs": [],
     "prompt_number": 122
    },
    {
     "cell_type": "code",
     "collapsed": false,
     "input": [
      "simdicts={'user':{'input':hitmat},'star':{'input':starmat},'like':{'input':likemat},'attr':{'input':attrmat}, 'loc':{'input':locmat}, 'comb:{'input':}'\n",
      "for key in simdicts.keys():\n",
      "    simdicts[key][\"%s_sim\" %distance_metric]=pairwise_distances(simdicts[key]['input'].values, metric=distance_metric)\n"
     ],
     "language": "python",
     "metadata": {},
     "outputs": [
      {
       "ename": "SyntaxError",
       "evalue": "invalid syntax (<ipython-input-123-5faedb6b2e6c>, line 1)",
       "output_type": "pyerr",
       "traceback": [
        "\u001b[0;36m  File \u001b[0;32m\"<ipython-input-123-5faedb6b2e6c>\"\u001b[0;36m, line \u001b[0;32m1\u001b[0m\n\u001b[0;31m    simdicts={'user':{'input':hitmat},'star':{'input':starmat},'like':{'input':likemat},'attr':{'input':attrmat}, 'loc':{'input':locmat}, 'comb:{'input':}'\u001b[0m\n\u001b[0m                                                                                                                                                      ^\u001b[0m\n\u001b[0;31mSyntaxError\u001b[0m\u001b[0;31m:\u001b[0m invalid syntax\n"
       ]
      }
     ],
     "prompt_number": 123
    },
    {
     "cell_type": "heading",
     "level": 3,
     "metadata": {},
     "source": [
      "Visualize Similarity Space of Climbs"
     ]
    },
    {
     "cell_type": "code",
     "collapsed": false,
     "input": [
      "for key in simdicts.keys():\n",
      "    print key\n",
      "    simmat=simdicts[key][\"%s_sim\" %distance_metric]\n",
      "    plt.figure()\n",
      "    plt.imshow(simmat)\n",
      "    plt.show()"
     ],
     "language": "python",
     "metadata": {},
     "outputs": []
    },
    {
     "cell_type": "heading",
     "level": 3,
     "metadata": {},
     "source": [
      "Save climb similarities (too big for sql?)"
     ]
    },
    {
     "cell_type": "code",
     "collapsed": false,
     "input": [
      "#u_sim.to_csv(os.path.join(projdir, 'user_sim_matrix.csv'))\n",
      "#a_sim.to_csv(os.path.join(projdir, 'attr_sim_matrix.csv'))\n",
      "#l_sim.to_csv(os.path.join(projdir,'location_sim_matrix.csv'))"
     ],
     "language": "python",
     "metadata": {},
     "outputs": []
    },
    {
     "cell_type": "heading",
     "level": 3,
     "metadata": {},
     "source": [
      "Collect most and least similar climbs"
     ]
    },
    {
     "cell_type": "code",
     "collapsed": false,
     "input": [
      "%autoreload\n",
      "u_preddf=mo.gettopbottom(u_sim, n=20)\n",
      "a_preddf=mo.gettopbottom(a_sim, n=20)\n",
      "l_preddf=mo.gettopbottom(l_sim, n=20)"
     ],
     "language": "python",
     "metadata": {},
     "outputs": []
    },
    {
     "cell_type": "heading",
     "level": 3,
     "metadata": {},
     "source": [
      "Test it out"
     ]
    },
    {
     "cell_type": "code",
     "collapsed": false,
     "input": [
      "%autoreload\n",
      "testclimb=\"Recompense\"\n",
      "simclimbs, simnames, dissimclimbs, dissimnames=mo.getsimilar(testclimb, a_preddf, cdf, adf)"
     ],
     "language": "python",
     "metadata": {},
     "outputs": []
    },
    {
     "cell_type": "code",
     "collapsed": false,
     "input": [
      "simclimbs"
     ],
     "language": "python",
     "metadata": {},
     "outputs": []
    },
    {
     "cell_type": "code",
     "collapsed": false,
     "input": [
      "dissimclimbs"
     ],
     "language": "python",
     "metadata": {},
     "outputs": []
    },
    {
     "cell_type": "code",
     "collapsed": false,
     "input": [
      "x=cdf[cdf['name'].isin([\"Bird of Fire\", \"Pope's Crack\", \"Touch and Go\",\"Homeworld\",\"Sticks and Stones\"])][['name']+[col for col in cdf.columns if '_desc' in col]].T"
     ],
     "language": "python",
     "metadata": {},
     "outputs": []
    },
    {
     "cell_type": "code",
     "collapsed": false,
     "input": [],
     "language": "python",
     "metadata": {},
     "outputs": []
    },
    {
     "cell_type": "heading",
     "level": 3,
     "metadata": {},
     "source": [
      "Save final similarity predictions to db"
     ]
    },
    {
     "cell_type": "code",
     "collapsed": false,
     "input": [
      "#make a final similarity matrix that combines the most relevant features\n",
      "chunksize=1000\n",
      "engine = create_engine('mysql://%s@%s/%s?charset=%s&use_unicode=%s&passwd=%s' %(cfg.user, cfg.host, cfg.dbname, cfg.charset, cfg.use_unicode, cfg.passwd), pool_recycle=3600)\n",
      "comb_preddf.to_sql('comb_sim_preds', engine, if_exists='replace', chunksize=chunksize)"
     ],
     "language": "python",
     "metadata": {},
     "outputs": []
    },
    {
     "cell_type": "code",
     "collapsed": false,
     "input": [],
     "language": "python",
     "metadata": {},
     "outputs": []
    },
    {
     "cell_type": "heading",
     "level": 3,
     "metadata": {},
     "source": [
      "User similarities"
     ]
    },
    {
     "cell_type": "code",
     "collapsed": false,
     "input": [
      "if 'climbid' in likemat.columns:\n",
      "    del likemat['climbid']"
     ],
     "language": "python",
     "metadata": {},
     "outputs": []
    },
    {
     "cell_type": "code",
     "collapsed": false,
     "input": [
      "from sklearn.decomposition import PCA\n",
      "from sklearn.cluster import AffinityPropagation"
     ],
     "language": "python",
     "metadata": {},
     "outputs": []
    },
    {
     "cell_type": "code",
     "collapsed": false,
     "input": [
      "mat=hitmat\n",
      "\n",
      "axislabels=range(len(mat.columns.values))\n",
      "#axisdict={el:cdf.loc[el,'name'] for el in axislabels}\n",
      "axisdict={el:cdf.columns.values[el] for el in axislabels}"
     ],
     "language": "python",
     "metadata": {},
     "outputs": [
      {
       "ename": "IndexError",
       "evalue": "index 189 is out of bounds for axis 0 with size 189",
       "output_type": "pyerr",
       "traceback": [
        "\u001b[0;31m---------------------------------------------------------------------------\u001b[0m\n\u001b[0;31mIndexError\u001b[0m                                Traceback (most recent call last)",
        "\u001b[0;32m<ipython-input-126-70de850fc9b3>\u001b[0m in \u001b[0;36m<module>\u001b[0;34m()\u001b[0m\n\u001b[1;32m      3\u001b[0m \u001b[0maxislabels\u001b[0m\u001b[0;34m=\u001b[0m\u001b[0mrange\u001b[0m\u001b[0;34m(\u001b[0m\u001b[0mlen\u001b[0m\u001b[0;34m(\u001b[0m\u001b[0mmat\u001b[0m\u001b[0;34m.\u001b[0m\u001b[0mcolumns\u001b[0m\u001b[0;34m.\u001b[0m\u001b[0mvalues\u001b[0m\u001b[0;34m)\u001b[0m\u001b[0;34m)\u001b[0m\u001b[0;34m\u001b[0m\u001b[0m\n\u001b[1;32m      4\u001b[0m \u001b[0;31m#axisdict={el:cdf.loc[el,'name'] for el in axislabels}\u001b[0m\u001b[0;34m\u001b[0m\u001b[0;34m\u001b[0m\u001b[0m\n\u001b[0;32m----> 5\u001b[0;31m \u001b[0maxisdict\u001b[0m\u001b[0;34m=\u001b[0m\u001b[0;34m{\u001b[0m\u001b[0mel\u001b[0m\u001b[0;34m:\u001b[0m\u001b[0mcdf\u001b[0m\u001b[0;34m.\u001b[0m\u001b[0mcolumns\u001b[0m\u001b[0;34m.\u001b[0m\u001b[0mvalues\u001b[0m\u001b[0;34m[\u001b[0m\u001b[0mel\u001b[0m\u001b[0;34m]\u001b[0m \u001b[0;32mfor\u001b[0m \u001b[0mel\u001b[0m \u001b[0;32min\u001b[0m \u001b[0maxislabels\u001b[0m\u001b[0;34m}\u001b[0m\u001b[0;34m\u001b[0m\u001b[0m\n\u001b[0m",
        "\u001b[0;32m<ipython-input-126-70de850fc9b3>\u001b[0m in \u001b[0;36m<dictcomp>\u001b[0;34m((el,))\u001b[0m\n\u001b[1;32m      3\u001b[0m \u001b[0maxislabels\u001b[0m\u001b[0;34m=\u001b[0m\u001b[0mrange\u001b[0m\u001b[0;34m(\u001b[0m\u001b[0mlen\u001b[0m\u001b[0;34m(\u001b[0m\u001b[0mmat\u001b[0m\u001b[0;34m.\u001b[0m\u001b[0mcolumns\u001b[0m\u001b[0;34m.\u001b[0m\u001b[0mvalues\u001b[0m\u001b[0;34m)\u001b[0m\u001b[0;34m)\u001b[0m\u001b[0;34m\u001b[0m\u001b[0m\n\u001b[1;32m      4\u001b[0m \u001b[0;31m#axisdict={el:cdf.loc[el,'name'] for el in axislabels}\u001b[0m\u001b[0;34m\u001b[0m\u001b[0;34m\u001b[0m\u001b[0m\n\u001b[0;32m----> 5\u001b[0;31m \u001b[0maxisdict\u001b[0m\u001b[0;34m=\u001b[0m\u001b[0;34m{\u001b[0m\u001b[0mel\u001b[0m\u001b[0;34m:\u001b[0m\u001b[0mcdf\u001b[0m\u001b[0;34m.\u001b[0m\u001b[0mcolumns\u001b[0m\u001b[0;34m.\u001b[0m\u001b[0mvalues\u001b[0m\u001b[0;34m[\u001b[0m\u001b[0mel\u001b[0m\u001b[0;34m]\u001b[0m \u001b[0;32mfor\u001b[0m \u001b[0mel\u001b[0m \u001b[0;32min\u001b[0m \u001b[0maxislabels\u001b[0m\u001b[0;34m}\u001b[0m\u001b[0;34m\u001b[0m\u001b[0m\n\u001b[0m",
        "\u001b[0;31mIndexError\u001b[0m: index 189 is out of bounds for axis 0 with size 189"
       ]
      }
     ],
     "prompt_number": 126
    },
    {
     "cell_type": "code",
     "collapsed": false,
     "input": [
      "clf=AffinityPropagation()"
     ],
     "language": "python",
     "metadata": {},
     "outputs": []
    },
    {
     "cell_type": "code",
     "collapsed": false,
     "input": [
      "clusters=clf.fit_predict(mat.values.T)\n",
      "userclusterdf=pd.DataFrame(data={'cluster':clusters, 'climberid':mat.columns.values})\n",
      "userclusterdf=pd.merge(userclusterdf, udf, on='climberid', how='inner')[['climberid','cluster','name', 'g_median']]"
     ],
     "language": "python",
     "metadata": {},
     "outputs": []
    },
    {
     "cell_type": "code",
     "collapsed": false,
     "input": [
      "err=userclusterdf.groupby('cluster').mean()/np.sqrt(userclusterdf.groupby('cluster').count())\n",
      "userclusterdf.groupby('cluster').mean().g_median.plot(kind='bar', yerr=err)"
     ],
     "language": "python",
     "metadata": {},
     "outputs": []
    },
    {
     "cell_type": "code",
     "collapsed": false,
     "input": [],
     "language": "python",
     "metadata": {},
     "outputs": []
    },
    {
     "cell_type": "code",
     "collapsed": false,
     "input": [
      "#PCA\n",
      "\n",
      "pcaobsscores, pcadimloadings, pcarecoveredinput, pcavarexplained=reduction(mat.values.T, reductiontype='PCA')\n",
      "pcaobsscores, pcadimloadings, pcarecoveredinput, pcavarexplained=reduction(mat.values.T, ncomp=2, reductiontype='PCA')#set this based on first screen plot\n",
      "plotinputincomponentspace(pcaobsscores, axislabels, axisdict, componentindices=[0, 1, 2])\n",
      "plotdimensionsincomponentspace(pcadimloadings, mat.index.values, mapping=None, componentindices=[0, 1, 2], title=None)"
     ],
     "language": "python",
     "metadata": {},
     "outputs": []
    },
    {
     "cell_type": "code",
     "collapsed": false,
     "input": [
      "pcaobsscores"
     ],
     "language": "python",
     "metadata": {},
     "outputs": []
    },
    {
     "cell_type": "code",
     "collapsed": false,
     "input": [],
     "language": "python",
     "metadata": {},
     "outputs": [],
     "prompt_number": 85
    },
    {
     "cell_type": "code",
     "collapsed": false,
     "input": [],
     "language": "python",
     "metadata": {},
     "outputs": [],
     "prompt_number": 85
    },
    {
     "cell_type": "code",
     "collapsed": false,
     "input": [],
     "language": "python",
     "metadata": {},
     "outputs": [],
     "prompt_number": 85
    },
    {
     "cell_type": "code",
     "collapsed": false,
     "input": [
      "from sklearn import svm, cluster\n",
      "from sklearn.decomposition import PCA, FastICA\n",
      "from sklearn.cross_decomposition import PLSRegression\n",
      "from sklearn.cluster import AffinityPropagation\n",
      "from matplotlib.patches import FancyArrowPatch\n",
      "from mpl_toolkits.mplot3d import proj3d, Axes3D"
     ],
     "language": "python",
     "metadata": {},
     "outputs": [],
     "prompt_number": 86
    },
    {
     "cell_type": "code",
     "collapsed": false,
     "input": [
      "def reduction(matrix, ncomp=None, reductiontype='PCA'):\n",
      "    #set up figure\n",
      "    f, ax = plt.subplots(1, 3, figsize=[10, 3])\n",
      "    if reductiontype == 'PCA':\n",
      "        ca = mcfg.PCA()\n",
      "    elif reductiontype == 'ICA':\n",
      "        ca = mcfg.ICA()\n",
      "    if ncomp:\n",
      "        ca.n_components = ncomp\n",
      "    #do basic reduction\n",
      "    obsscores = ca.fit_transform(matrix)  #scores of our observations on the 3 components\n",
      "    dimloadings = ca.components_  #loadings of initial data dimensions onto these components (eigenvectors)\n",
      "    recoveredinput = ca.inverse_transform(\n",
      "        obsscores)  #recomputed obs x dimension matrix based on scores on the components, and weights on components\n",
      "    if ncomp:  #if we know our intended # of components\n",
      "        plotmatrix(obsscores, xlabel='components', ylabel='observations', ax=ax[0], title='obsscores')\n",
      "        plotmatrix(dimloadings, xlabel='initial dimensions', ylabel='components', ax=ax[1], title='dim loadings')\n",
      "    else:  #if we are fitting an initial model to evaluate dimensions\n",
      "        plotmatrix(matrix, xlabel='initial dimensions', ylabel='initial observations', ax=ax[0],\n",
      "                       title='initial input')\n",
      "        if reductiontype == 'PCA':\n",
      "            plotscree(ca, ax=ax[1])\n",
      "    plotmatrix(recoveredinput, xlabel='initial dimensions', ylabel='transformed observations', ax=ax[2],\n",
      "                   title='recovered input (all components)')\n",
      "    plt.tight_layout()\n",
      "    print \"reduced to %s dimensions\" % (len(ca.components_))\n",
      "    if reductiontype == 'PCA':\n",
      "        print \"explaining %.3f%% of variance\" % (100 * np.sum(ca.explained_variance_ratio_))\n",
      "        varexplained=ca.explained_variance_ratio_\n",
      "    else:\n",
      "        varexplained=None\n",
      "    return obsscores, dimloadings, recoveredinput, varexplained\n",
      "\n",
      "def plotinputincomponentspace(obsscores, axislabels, mapping=None, componentindices=[0, 1, 2], title=None):\n",
      "    #plot observations on 3 components\n",
      "    componentindices=componentindices[:len(obsscores[0])]\n",
      "    data=obsscores[:, componentindices]\n",
      "    if mapping:\n",
      "        axisdims = list(set(mapping.values()))\n",
      "        colornums = sns.color_palette('husl', len(axisdims))\n",
      "        labelcolors = {el: colornums[eln] for eln, el in enumerate(axisdims)}\n",
      "        colors = [labelcolors[mapping[el]] for el in axislabels]\n",
      "    else:\n",
      "        colors='b'\n",
      "    if len(obsscores[0])==3:\n",
      "        ax=plot3d(data, colors=colors, dimname='component')\n",
      "    else:\n",
      "        ax=plot2d(data, colors=colors, dimname='component')\n",
      "    if mapping:\n",
      "        for label,name in mapping.items():\n",
      "            if len(obsscores[0])==3:\n",
      "                ax.text3D(obsscores[axislabels == label, 0].mean(),\n",
      "                          obsscores[axislabels == label, 1].mean(),\n",
      "                          obsscores[axislabels == label, 2].mean(), name,\n",
      "                          bbox=dict(alpha=.5, edgecolor='w', facecolor='w'))\n",
      "            else:\n",
      "                ax.text(obsscores[axislabels == label, 0].mean(),\n",
      "                          obsscores[axislabels == label, 1].mean(), name,\n",
      "                          bbox=dict(alpha=.5, edgecolor='w', facecolor='w'))\n",
      "def plotdimensionsincomponentspace(dimloadings, dimlabels, mapping=None, componentindices=[0, 1, 2], title=None):\n",
      "    #plot dimensions on 3 components\n",
      "    dimloadings=dimloadings.T\n",
      "    componentindices=componentindices[:len(dimloadings[0])]\n",
      "    data=dimloadings[:,componentindices]\n",
      "    if len(componentindices)==3:\n",
      "        ax=plot3d(data, dimname='component')\n",
      "    else:\n",
      "        ax=plot2d(data, dimname='component')\n",
      "    for labeln,label in enumerate(dimlabels):\n",
      "        if len(componentindices)==3:\n",
      "            ax.text3D(dimloadings[labeln][0],dimloadings[labeln][1],dimloadings[labeln][2], label,bbox=dict(alpha=.5, edgecolor='w', facecolor='w'))\n",
      "        else:\n",
      "            ax.text(dimloadings[labeln][0],dimloadings[labeln][1], label, bbox=dict(alpha=.5, edgecolor='w', facecolor='w'))\n",
      "def plotcomponentcorrs(obsscores, ax=None, label=''):\n",
      "    #sns.corrplot(pd.DataFrame(obsscores), method='pearson', annot=False, ax=ax)\n",
      "    correlations = pd.DataFrame(obsscores).corr(method='pearson').values\n",
      "    plotmatrix(correlations)\n",
      "    corrs = correlations[np.tril_indices(len(correlations), 1)]\n",
      "    plotmatrix(np.tril(correlations, -1), colorbar=False, figsize=[3, 2], ax=ax, xlabel=label)\n",
      "    plt.title('correlation of components in raw input space\\n mean corr= %.6f' % (np.mean(corrs)))\n",
      "    plt.tight_layout()\n",
      "def plotcompsininputspace(matrix, axislabels, dimloadings, varexplained, mapping=None, dimindices=[0, 1, 2], dimlabels=[],\n",
      "                               componentindices=[0,1,2], title=None, constant=None):  #plot observations on 3 components\n",
      "    #plot 3 components in input dimension space\n",
      "    data=matrix[:, dimindices]\n",
      "    components=dimloadings.T[:,dimindices]\n",
      "    if mapping:\n",
      "        axisdims = list(set(mapping.values()))\n",
      "        colornums = sns.color_palette('husl', len(axisdims))\n",
      "        labelcolors = {el: colornums[eln] for eln, el in enumerate(axisdims)}\n",
      "        colors = [labelcolors[mapping[el]] for el in axislabels]\n",
      "    else:\n",
      "        colors='b'\n",
      "    if len(dimlabels) > 0:\n",
      "        dimname = [dimlabels[el] for el in dimindices]\n",
      "    else:\n",
      "        dimname = 'input dim'\n",
      "    if len(dimindices)==3:\n",
      "        ax = plot3d(data, colors=colors, dimname=dimname)\n",
      "    else:\n",
      "        ax = plot2d(data, colors=colors, dimname=dimname)\n",
      "    ar=[np.max(data,axis=0)[index]-np.min(data,axis=0)[index] for index in range(len(dimindices))]\n",
      "    datamean = np.mean(data, axis=0)\n",
      "    for x in componentindices:\n",
      "        drawvector(components, x, datamean, ax, ar, constant)    \n",
      "    plt.show()\n",
      "def drawvector(eigenvectors, index, datamean, ax, ar, constant):\n",
      "    eigenvector=eigenvectors[index]\n",
      "    if not constant:\n",
      "        constant=5\n",
      "    scaler=constant/np.mean(ar)\n",
      "    x=(datamean[0],(eigenvector[0]*scaler+datamean[0]))\n",
      "    y=(datamean[1],(eigenvector[1]*scaler+datamean[1]))\n",
      "    if len(datamean)==2:\n",
      "        ax.text(x[1],y[1], index, bbox=dict(boxstyle=\"round\", fc=\"w\"))\n",
      "        arrow = ax.annotate('',xy=[x[1],y[1]], xycoords='data',xytext=[x[0],y[0]], textcoords='data',arrowprops=dict(facecolor='red', width=1))\n",
      "    else:\n",
      "        z=(datamean[2],eigenvector[2]*scaler+datamean[2])\n",
      "        a = Arrow3D(x, y, z, mutation_scale=10, lw=1, arrowstyle=\"-|>\", color=\"r\")\n",
      "        ax.add_artist(a)"
     ],
     "language": "python",
     "metadata": {},
     "outputs": [],
     "prompt_number": 88
    },
    {
     "cell_type": "code",
     "collapsed": false,
     "input": [
      "# configure main modeling parameters here\n",
      "class ModelConfig():\n",
      "    def SVM_model(self):\n",
      "        model = svm.SVC(C=.01, kernel='linear')  #svm.SVC implements multiclass as one vs. one\n",
      "        #SVC(C=1.0, cache_size=200, class_weight=None, coef0=0.0, degree=3,gamma=0.0, kernel='rbf', max_iter=-1, probability=False, random_state=None,shrinking=True, tol=0.001, verbose=False)\n",
      "        #model=svm.LinearSVC() #svm.LinearSVC() implements multiclass as one vs. test\n",
      "        #see http://scikit-learn.org/stable/modules/svm.html\n",
      "        return model\n",
      "\n",
      "    def PLSR_model(self, ncomp):\n",
      "        #PLS regression is particularly suited when the matrix of predictors has more variables than observations, and when there is multicollinearity among X values. By contrast, standard regression will fail in these cases.\n",
      "        model = PLSRegression(self, n_components=ncomp, scale=True)\n",
      "        return model\n",
      "\n",
      "    def KMEANS_model(self, numclust):\n",
      "        model = cluster.KMeans(n_clusters=numclust)\n",
      "        return model\n",
      "\n",
      "    def affinityprop(self):\n",
      "        ap = AffinityPropagation(damping=0.8, max_iter=500, affinity='euclidean', convergence_iter=25, copy=True,\n",
      "                                 preference=None)\n",
      "        return ap\n",
      "    \n",
      "    def PCA(self):\n",
      "        pca=PCA()\n",
      "        return pca\n",
      "    \n",
      "    def ICA(self):\n",
      "        ica=FastICA()\n",
      "        return ica\n",
      "\n",
      "    def printmodelparams(self):\n",
      "        print \"not implemented yet\"\n",
      "\n",
      "#set up config info to import into analysis        \n",
      "\n",
      "mcfg = ModelConfig()"
     ],
     "language": "python",
     "metadata": {},
     "outputs": [],
     "prompt_number": 89
    },
    {
     "cell_type": "code",
     "collapsed": false,
     "input": [
      "def plotmatrix(matrix, xlabel='', ylabel='', ax=None, title='', colorbar=False, figsize=[4, 3], xticklabels=[],\n",
      "               yticklabels=[]):\n",
      "    matrix = np.array(matrix)\n",
      "    if not ax:\n",
      "        f, ax = plt.subplots(figsize=figsize)\n",
      "    ax.set_ylim(0, len(matrix))\n",
      "    ax.set_xlim(0, len(matrix[0]))\n",
      "    ax.set_title(title)\n",
      "    im = ax.pcolor(matrix)\n",
      "    ax.set_xlabel(xlabel)\n",
      "    ax.set_ylabel(ylabel)\n",
      "    if len(xticklabels) > 0:\n",
      "        ax.set_xticks(np.arange(len(xticklabels)) + .5)\n",
      "        ax.set_xticklabels(xticklabels, rotation=90)\n",
      "    if len(yticklabels) > 0:\n",
      "        ax.set_yticks(range(len(yticklabels)))\n",
      "        ax.set_yticklabels(yticklabels)\n",
      "    if colorbar:\n",
      "        plt.colorbar(im)\n",
      "        #plt.colorbar(im, cax=ax)\n",
      "def plotscree(ca, ax=0):\n",
      "    if ax == 0:\n",
      "        f, ax = plt.subplots()\n",
      "    else:\n",
      "        ax.plot(ca.explained_variance_ratio_)\n",
      "        ax.set_title('scree plot')\n",
      "        ax.set_ylabel('variance explained')\n",
      "        ax.set_xlabel('eigenvector')\n",
      "def plot3d(matrix, colors=['b'], dimname='dimension', figsize=[4, 3]):\n",
      "    fig = plt.figure(figsize=figsize)\n",
      "    ax = Axes3D(fig, elev=-150, azim=110)\n",
      "    ax.scatter(matrix[:, 0], matrix[:, 1], matrix[:, 2], c=colors, cmap=plt.cm.spectral)\n",
      "    if type(dimname) == str:\n",
      "        dimname = [dimname for el in range(3)]\n",
      "    ax.set_xlabel('%s #%s' % (dimname[0], 0))\n",
      "    ax.set_ylabel('%s #%s' % (dimname[1], 1))\n",
      "    ax.set_zlabel('%s #%s' % (dimname[2], 2))\n",
      "    return ax\n",
      "def plot2d(matrix, colors=['b'], dimname='dimension', figsize=[4, 3]):\n",
      "    fig, ax = plt.subplots(figsize=figsize)\n",
      "    ax.scatter(matrix[:, 0], matrix[:, 1], c=colors, cmap=plt.cm.spectral)\n",
      "    if type(dimname) == str:\n",
      "        dimname = [dimname for el in range(2)]\n",
      "    ax.set_xlabel('%s #%s' % (dimname[0], 0))\n",
      "    ax.set_ylabel('%s #%s' % (dimname[1], 1))\n",
      "    return ax\n",
      "class Arrow3D(FancyArrowPatch):\n",
      "    def __init__(self, xs, ys, zs, *args, **kwargs):\n",
      "        FancyArrowPatch.__init__(self, (0, 0), (0, 0), *args, **kwargs)\n",
      "        self._verts3d = xs, ys, zs\n",
      "    def draw(self, renderer):\n",
      "        with warnings.catch_warnings():\n",
      "            warnings.simplefilter(\"ignore\")\n",
      "            xs3d, ys3d, zs3d = self._verts3d\n",
      "            xs, ys, zs = proj3d.proj_transform(xs3d, ys3d, zs3d, renderer.M)\n",
      "            self.set_positions((xs[0], ys[0]), (xs[1], ys[1]))\n",
      "            FancyArrowPatch.draw(self, renderer)\n"
     ],
     "language": "python",
     "metadata": {},
     "outputs": [],
     "prompt_number": 90
    },
    {
     "cell_type": "code",
     "collapsed": false,
     "input": [],
     "language": "python",
     "metadata": {},
     "outputs": []
    }
   ],
   "metadata": {}
  }
 ]
}